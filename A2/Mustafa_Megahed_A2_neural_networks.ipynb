{
  "cells": [
    {
      "cell_type": "markdown",
      "id": "d2fed8c8-3b58-464a-b89d-df85d934f740",
      "metadata": {
        "id": "d2fed8c8-3b58-464a-b89d-df85d934f740"
      },
      "source": [
        "---\n",
        "# Cairo University Faculty of Engineering\n",
        "## Deep Learning \n",
        "## Assignment 2\n",
        "\n",
        "---"
      ]
    },
    {
      "cell_type": "markdown",
      "id": "9f09594d-0c42-4205-a0af-77097e41f555",
      "metadata": {
        "id": "9f09594d-0c42-4205-a0af-77097e41f555"
      },
      "source": [
        "Please write your full name here\n",
        "- **Name** : \"Mustafa Megahed Gamil\""
      ]
    },
    {
      "cell_type": "code",
      "execution_count": 81,
      "id": "02dc8d6e-7d9a-48c0-a84d-fdd3c63c9c78",
      "metadata": {
        "id": "02dc8d6e-7d9a-48c0-a84d-fdd3c63c9c78"
      },
      "outputs": [],
      "source": [
        "%matplotlib inline\n",
        "import numpy as np\n",
        "import matplotlib.pyplot as plt\n",
        "import random\n",
        "import tensorflow as tf\n",
        "\n",
        "from tensorflow.keras.models import Sequential\n",
        "from tensorflow import keras\n",
        "from tensorflow.keras import layers\n",
        "from tensorflow.keras.layers import Dense\n",
        "import tensorflowd2l as d2l\n",
        "import pandas as pd\n",
        "import math\n",
        "\n",
        "from sklearn.datasets import make_blobs  #To generate artificial data\n",
        "from keras.optimizers import SGD\n",
        "from keras.utils import to_categorical"
      ]
    },
    {
      "cell_type": "markdown",
      "id": "6055f2a1-24c2-46eb-92a8-b9f387f3dcc2",
      "metadata": {
        "id": "6055f2a1-24c2-46eb-92a8-b9f387f3dcc2",
        "tags": []
      },
      "source": [
        "# Part 1 Computational Graphs\n"
      ]
    },
    {
      "cell_type": "markdown",
      "id": "5ea98a23-c5be-4a87-8a53-588fbdcadf1e",
      "metadata": {
        "id": "5ea98a23-c5be-4a87-8a53-588fbdcadf1e"
      },
      "source": [
        "## Example\n",
        "Suppose that we have a function of the form: $f(x,y) = \\sigma(x) + (x-y)^2$"
      ]
    },
    {
      "cell_type": "markdown",
      "id": "ead972fc-bc4a-4f70-bd22-473a84326027",
      "metadata": {
        "id": "ead972fc-bc4a-4f70-bd22-473a84326027"
      },
      "source": [
        "**SHOW YOUR WORK**"
      ]
    },
    {
      "cell_type": "markdown",
      "id": "4d072290-86f5-4f6c-8e64-0c2b6ee79114",
      "metadata": {
        "id": "4d072290-86f5-4f6c-8e64-0c2b6ee79114"
      },
      "source": [
        "0. **Draw its computational graph with a minimum of 4 operations inside it. Name your intermediate variables and upload a picture of your graph**"
      ]
    },
    {
      "cell_type": "markdown",
      "id": "1dc590ee-33e8-458a-ba81-fd2e6ca01b79",
      "metadata": {
        "id": "1dc590ee-33e8-458a-ba81-fd2e6ca01b79"
      },
      "source": [
        "- Your Answer:\n",
        "    - !![for1](https://user-images.githubusercontent.com/61358936/199323096-18b0d2b4-033d-4e0f-965c-7bbb18d7997f.jpeg)\n"
      ]
    },
    {
      "cell_type": "markdown",
      "id": "e95e6d93-ec11-40d6-a639-40fad6e1ad3c",
      "metadata": {
        "id": "e95e6d93-ec11-40d6-a639-40fad6e1ad3c"
      },
      "source": [
        "1. **Compute the forward path for this function. Use intermediate variables you identified in your graph**\n",
        "\n",
        "- f --> final output\n",
        "- Upload a a picture of your graph"
      ]
    },
    {
      "cell_type": "markdown",
      "id": "0f9df23d-f8f6-4408-a2cf-943987324775",
      "metadata": {
        "id": "0f9df23d-f8f6-4408-a2cf-943987324775"
      },
      "source": [
        "- Your Answer:\n",
        "    - - ![for2](https://user-images.githubusercontent.com/61358936/199323291-71df9c88-7a86-4554-bcd8-50a2a5f80ade.jpeg)\n"
      ]
    },
    {
      "cell_type": "markdown",
      "id": "902480a7-16e1-415e-bdea-24fe845774fe",
      "metadata": {
        "id": "902480a7-16e1-415e-bdea-24fe845774fe"
      },
      "source": [
        "\n",
        "2. **Compute the backward path for this function to get:**\n",
        "$$\n",
        "\\nabla f(x,y) = [ \\frac{\\partial f}{\\partial y}, \\frac{\\partial f}{\\partial x} ]\n",
        "$$\n",
        "\n",
        "- Upload a a picture of your graph\n",
        "- **Use intermediate variables**\n",
        "- **Write df/dy and df/dx**\n",
        "- *Hint: Gradients add up at forks. This follows the multivariable chain rule in Calculus, which states that if a variable branches out to different parts, then the gradients that flow back to it will add.*"
      ]
    },
    {
      "cell_type": "markdown",
      "id": "c83b8b27-0cb2-4c2e-9eea-351fc216d952",
      "metadata": {
        "id": "c83b8b27-0cb2-4c2e-9eea-351fc216d952"
      },
      "source": [
        "- Your Answer:\n",
        "    - ![WhatsApp Image 2022-11-01 at 9 34 35 PM](https://user-images.githubusercontent.com/61358936/199323393-45e568cb-b3a0-4e03-aa99-3114c9432e86.jpeg)\n"
      ]
    },
    {
      "cell_type": "markdown",
      "id": "4f383a40-2b6d-4bb3-bb45-4b6602896480",
      "metadata": {
        "tags": [],
        "id": "4f383a40-2b6d-4bb3-bb45-4b6602896480"
      },
      "source": [
        "# Part 2: Regression"
      ]
    },
    {
      "cell_type": "markdown",
      "id": "0ddb4513-a883-475c-acb4-7daf8a1434a7",
      "metadata": {
        "jp-MarkdownHeadingCollapsed": true,
        "origin_pos": 0,
        "tags": [],
        "id": "0ddb4513-a883-475c-acb4-7daf8a1434a7"
      },
      "source": [
        "In this part, (**we will implement the entire linear regression method from scratch,\n",
        "including the data pipeline, the model,\n",
        "the loss function, and the minibatch stochastic gradient descent optimizer.**)\n",
        "You will rely only on tensors and auto differentiation.\n"
      ]
    },
    {
      "cell_type": "markdown",
      "id": "9885bf7b-0575-456d-a16c-997636bb6b3b",
      "metadata": {
        "id": "9885bf7b-0575-456d-a16c-997636bb6b3b"
      },
      "source": [
        "we will use $n$ to denote\n",
        "the number of examples in our dataset.\n",
        "We index the data examples by $i$, denoting each input\n",
        "as $\\mathbf{x}^{(i)} = [x_1^{(i)}, x_2^{(i)}]^\\top$\n",
        "and the corresponding label as $y^{(i)}$.\n",
        "\n",
        "\n",
        "**Linear Model**\n",
        "\n",
        "When our inputs consist of $d$ features,\n",
        "we express our prediction $\\hat{y}$ (in general the \"hat\" symbol denotes estimates) as\n",
        "\n",
        "$$\\hat{y} = w_1  x_1 + ... + w_d  x_d + b.$$\n",
        "\n",
        "\n",
        "We will often find it convenient\n",
        "to refer to features of our entire dataset of $n$ examples\n",
        "via the *design matrix* $\\mathbf{X} \\in \\mathbb{R}^{n \\times d}$.\n",
        "Here, $\\mathbf{X}$ contains one row for every example\n",
        "and one column for every feature.\n",
        "\n",
        "For a collection of features $\\mathbf{X}$,\n",
        "the predictions $\\hat{\\mathbf{y}} \\in \\mathbb{R}^n$\n",
        "can be expressed via the matrix-vector product:\n",
        "\n",
        "$${\\hat{\\mathbf{y}}} = \\mathbf{X} \\mathbf{w} + b,$$\n",
        "\n",
        "\n",
        "**Loss Function**\n",
        "\n",
        "When our prediction for an example $i$ is $\\hat{y}^{(i)}$\n",
        "and the corresponding true label is $y^{(i)}$,\n",
        "the squared error is given by:\n",
        "\n",
        "$$l^{(i)}(\\mathbf{w}, b) = \\frac{1}{2} \\left(\\hat{y}^{(i)} - y^{(i)}\\right)^2.$$\n",
        "\n",
        "To measure the quality of a model on the entire dataset of $n$ examples,\n",
        "we simply average (or equivalently, sum)\n",
        "the losses on the training set.\n",
        "\n",
        "$$L(\\mathbf{w}, b) =\\frac{1}{n}\\sum_{i=1}^n l^{(i)}(\\mathbf{w}, b) =\\frac{1}{n} \\sum_{i=1}^n \\frac{1}{2}\\left(\\mathbf{w}^\\top \\mathbf{x}^{(i)} + b - y^{(i)}\\right)^2.$$\n",
        "\n",
        "When training the model, we want to find parameters ($\\mathbf{w}^*, b^*$)\n",
        "that minimize the total loss across all training examples:\n",
        "\n",
        "$$\\mathbf{w}^*, b^* = \\operatorname*{argmin}_{\\mathbf{w}, b}\\  L(\\mathbf{w}, b).$$\n"
      ]
    },
    {
      "cell_type": "markdown",
      "id": "eddedadc-6641-4c7a-8134-79549b655a62",
      "metadata": {
        "id": "eddedadc-6641-4c7a-8134-79549b655a62"
      },
      "source": [
        "**Minibatch Stochastic Gradient Descent**\n",
        "\n",
        "We can express the update mathematically as follows\n",
        "($\\partial$ denotes the partial derivative):\n",
        "\n",
        "$$(\\mathbf{w},b) \\leftarrow (\\mathbf{w},b) - \\frac{\\eta}{|\\mathcal{B}|} \\sum_{i \\in \\mathcal{B}} \\partial_{(\\mathbf{w},b)} l^{(i)}(\\mathbf{w},b).$$\n"
      ]
    },
    {
      "cell_type": "markdown",
      "id": "b5b67706-78b0-428a-b984-03e8a44f2daf",
      "metadata": {
        "id": "b5b67706-78b0-428a-b984-03e8a44f2daf"
      },
      "source": [
        "## Synthetic Data, Simple Model\n",
        "### Generating the Dataset\n",
        "\n",
        "To keep things simple, we will [**construct an artificial dataset\n",
        "according to a linear model with additive noise.**]\n",
        "\n",
        "In the following code snippet, we generate a dataset\n",
        "containing 1000 examples, each consisting of 2 features\n",
        "sampled from a standard normal distribution.\n",
        "Thus our synthetic dataset will be a matrix\n",
        "$\\mathbf{X}\\in \\mathbb{R}^{1000 \\times 2}$.\n",
        "\n",
        "(**The true parameters generating our dataset will be\n",
        "$\\mathbf{w} = [2, -3.4]^\\top$ and $b = 4.2$,\n",
        "and**) our synthetic labels will be assigned according\n",
        "to the following linear model with the noise term $\\epsilon$:\n",
        "\n",
        "(**$$\\mathbf{y}= \\mathbf{X} \\mathbf{w} + b + \\mathbf\\epsilon.$$**)"
      ]
    },
    {
      "cell_type": "code",
      "execution_count": 30,
      "id": "6c56cf52-1cbe-4f80-9551-9988b28fe967",
      "metadata": {
        "origin_pos": 6,
        "tab": [
          "tensorflow"
        ],
        "id": "6c56cf52-1cbe-4f80-9551-9988b28fe967"
      },
      "outputs": [],
      "source": [
        "def synthetic_data(w, b, num_examples):  #@save\n",
        "    \"\"\"Generate y = Xw + b + noise.\"\"\"\n",
        "    X = tf.zeros((num_examples, w.shape[0]))\n",
        "    X += tf.random.normal(shape=X.shape)\n",
        "    y = tf.matmul(X, tf.reshape(w, (-1, 1))) + b\n",
        "    y += tf.random.normal(shape=y.shape, stddev=0.01)\n",
        "    y = tf.reshape(y, (-1, 1))\n",
        "    return X, y"
      ]
    },
    {
      "cell_type": "code",
      "execution_count": 31,
      "id": "6f7fc2ce-cdd3-45f0-b632-f5b7fbd38155",
      "metadata": {
        "origin_pos": 7,
        "tab": [
          "tensorflow"
        ],
        "id": "6f7fc2ce-cdd3-45f0-b632-f5b7fbd38155"
      },
      "outputs": [],
      "source": [
        "tf.random.set_seed(5)\n",
        "true_w = tf.constant([2, -3.4])\n",
        "true_b = 4.2\n",
        "features, labels = synthetic_data(true_w, true_b, 1000)"
      ]
    },
    {
      "cell_type": "code",
      "execution_count": 32,
      "id": "a088e27d-495b-461f-b483-5eaaa97d1dc8",
      "metadata": {
        "origin_pos": 9,
        "tab": [
          "tensorflow"
        ],
        "id": "a088e27d-495b-461f-b483-5eaaa97d1dc8",
        "colab": {
          "base_uri": "https://localhost:8080/"
        },
        "outputId": "90047448-f4bb-423c-cef8-5fbf5b8a9e7a"
      },
      "outputs": [
        {
          "output_type": "stream",
          "name": "stdout",
          "text": [
            "features: tf.Tensor([-0.18030666 -0.95028627], shape=(2,), dtype=float32) \n",
            "label: tf.Tensor([7.0726256], shape=(1,), dtype=float32)\n"
          ]
        }
      ],
      "source": [
        "print('features:', features[0],'\\nlabel:', labels[0])"
      ]
    },
    {
      "cell_type": "markdown",
      "id": "af9a27cb-fcac-4856-99cb-724fa649c9a9",
      "metadata": {
        "origin_pos": 10,
        "id": "af9a27cb-fcac-4856-99cb-724fa649c9a9"
      },
      "source": [
        "By generating a scatter plot using the second feature `features[:, 1]` and `labels`,\n",
        "we can clearly observe the linear correlation between the two.\n"
      ]
    },
    {
      "cell_type": "code",
      "execution_count": 33,
      "id": "8cbcb65e-1376-4879-8a6c-5dc2dbc4c945",
      "metadata": {
        "origin_pos": 11,
        "tab": [
          "tensorflow"
        ],
        "id": "8cbcb65e-1376-4879-8a6c-5dc2dbc4c945",
        "colab": {
          "base_uri": "https://localhost:8080/",
          "height": 244
        },
        "outputId": "05a8d9fb-5e8a-4cdf-99b3-a5ac29a61667"
      },
      "outputs": [
        {
          "output_type": "display_data",
          "data": {
            "text/plain": [
              "<Figure size 252x180 with 1 Axes>"
            ],
            "image/svg+xml": "<?xml version=\"1.0\" encoding=\"utf-8\" standalone=\"no\"?>\n<!DOCTYPE svg PUBLIC \"-//W3C//DTD SVG 1.1//EN\"\n  \"http://www.w3.org/Graphics/SVG/1.1/DTD/svg11.dtd\">\n<!-- Created with matplotlib (https://matplotlib.org/) -->\n<svg height=\"166.978125pt\" version=\"1.1\" viewBox=\"0 0 238.052177 166.978125\" width=\"238.052177pt\" xmlns=\"http://www.w3.org/2000/svg\" xmlns:xlink=\"http://www.w3.org/1999/xlink\">\n <defs>\n  <style type=\"text/css\">\n*{stroke-linecap:butt;stroke-linejoin:round;}\n  </style>\n </defs>\n <g id=\"figure_1\">\n  <g id=\"patch_1\">\n   <path d=\"M 0 166.978125 \nL 238.052177 166.978125 \nL 238.052177 0 \nL 0 0 \nz\n\" style=\"fill:none;\"/>\n  </g>\n  <g id=\"axes_1\">\n   <g id=\"patch_2\">\n    <path d=\"M 35.304688 143.1 \nL 230.604688 143.1 \nL 230.604688 7.2 \nL 35.304688 7.2 \nz\n\" style=\"fill:#ffffff;\"/>\n   </g>\n   <g id=\"PathCollection_1\">\n    <defs>\n     <path d=\"M 0 0.5 \nC 0.132602 0.5 0.25979 0.447317 0.353553 0.353553 \nC 0.447317 0.25979 0.5 0.132602 0.5 0 \nC 0.5 -0.132602 0.447317 -0.25979 0.353553 -0.353553 \nC 0.25979 -0.447317 0.132602 -0.5 0 -0.5 \nC -0.132602 -0.5 -0.25979 -0.447317 -0.353553 -0.353553 \nC -0.447317 -0.25979 -0.5 -0.132602 -0.5 0 \nC -0.5 0.132602 -0.447317 0.25979 -0.353553 0.353553 \nC -0.25979 0.447317 -0.132602 0.5 0 0.5 \nz\n\" id=\"m58ba99f491\" style=\"stroke:#1f77b4;\"/>\n    </defs>\n    <g clip-path=\"url(#pc03ccb1536)\">\n     <use style=\"fill:#1f77b4;stroke:#1f77b4;\" x=\"103.457998\" xlink:href=\"#m58ba99f491\" y=\"54.255461\"/>\n     <use style=\"fill:#1f77b4;stroke:#1f77b4;\" x=\"108.670767\" xlink:href=\"#m58ba99f491\" y=\"56.259885\"/>\n     <use style=\"fill:#1f77b4;stroke:#1f77b4;\" x=\"111.781997\" xlink:href=\"#m58ba99f491\" y=\"45.245212\"/>\n     <use style=\"fill:#1f77b4;stroke:#1f77b4;\" x=\"125.069465\" xlink:href=\"#m58ba99f491\" y=\"58.339967\"/>\n     <use style=\"fill:#1f77b4;stroke:#1f77b4;\" x=\"146.435553\" xlink:href=\"#m58ba99f491\" y=\"56.934178\"/>\n     <use style=\"fill:#1f77b4;stroke:#1f77b4;\" x=\"151.896613\" xlink:href=\"#m58ba99f491\" y=\"71.752693\"/>\n     <use style=\"fill:#1f77b4;stroke:#1f77b4;\" x=\"112.874621\" xlink:href=\"#m58ba99f491\" y=\"44.021451\"/>\n     <use style=\"fill:#1f77b4;stroke:#1f77b4;\" x=\"95.917463\" xlink:href=\"#m58ba99f491\" y=\"38.996297\"/>\n     <use style=\"fill:#1f77b4;stroke:#1f77b4;\" x=\"158.937374\" xlink:href=\"#m58ba99f491\" y=\"96.76902\"/>\n     <use style=\"fill:#1f77b4;stroke:#1f77b4;\" x=\"127.958998\" xlink:href=\"#m58ba99f491\" y=\"74.949808\"/>\n     <use style=\"fill:#1f77b4;stroke:#1f77b4;\" x=\"151.369462\" xlink:href=\"#m58ba99f491\" y=\"81.395748\"/>\n     <use style=\"fill:#1f77b4;stroke:#1f77b4;\" x=\"128.177048\" xlink:href=\"#m58ba99f491\" y=\"72.001114\"/>\n     <use style=\"fill:#1f77b4;stroke:#1f77b4;\" x=\"146.364905\" xlink:href=\"#m58ba99f491\" y=\"79.058722\"/>\n     <use style=\"fill:#1f77b4;stroke:#1f77b4;\" x=\"92.673456\" xlink:href=\"#m58ba99f491\" y=\"41.106706\"/>\n     <use style=\"fill:#1f77b4;stroke:#1f77b4;\" x=\"155.867169\" xlink:href=\"#m58ba99f491\" y=\"91.075926\"/>\n     <use style=\"fill:#1f77b4;stroke:#1f77b4;\" x=\"145.977955\" xlink:href=\"#m58ba99f491\" y=\"88.822796\"/>\n     <use style=\"fill:#1f77b4;stroke:#1f77b4;\" x=\"106.333312\" xlink:href=\"#m58ba99f491\" y=\"60.911171\"/>\n     <use style=\"fill:#1f77b4;stroke:#1f77b4;\" x=\"103.876424\" xlink:href=\"#m58ba99f491\" y=\"57.624646\"/>\n     <use style=\"fill:#1f77b4;stroke:#1f77b4;\" x=\"126.286385\" xlink:href=\"#m58ba99f491\" y=\"67.412717\"/>\n     <use style=\"fill:#1f77b4;stroke:#1f77b4;\" x=\"91.705393\" xlink:href=\"#m58ba99f491\" y=\"25.643259\"/>\n     <use style=\"fill:#1f77b4;stroke:#1f77b4;\" x=\"156.641159\" xlink:href=\"#m58ba99f491\" y=\"95.77875\"/>\n     <use style=\"fill:#1f77b4;stroke:#1f77b4;\" x=\"135.453666\" xlink:href=\"#m58ba99f491\" y=\"74.463676\"/>\n     <use style=\"fill:#1f77b4;stroke:#1f77b4;\" x=\"87.925611\" xlink:href=\"#m58ba99f491\" y=\"55.988465\"/>\n     <use style=\"fill:#1f77b4;stroke:#1f77b4;\" x=\"123.319297\" xlink:href=\"#m58ba99f491\" y=\"70.838348\"/>\n     <use style=\"fill:#1f77b4;stroke:#1f77b4;\" x=\"152.298419\" xlink:href=\"#m58ba99f491\" y=\"82.390783\"/>\n     <use style=\"fill:#1f77b4;stroke:#1f77b4;\" x=\"56.039126\" xlink:href=\"#m58ba99f491\" y=\"41.130931\"/>\n     <use style=\"fill:#1f77b4;stroke:#1f77b4;\" x=\"77.254375\" xlink:href=\"#m58ba99f491\" y=\"48.874822\"/>\n     <use style=\"fill:#1f77b4;stroke:#1f77b4;\" x=\"115.959125\" xlink:href=\"#m58ba99f491\" y=\"56.331464\"/>\n     <use style=\"fill:#1f77b4;stroke:#1f77b4;\" x=\"118.579993\" xlink:href=\"#m58ba99f491\" y=\"52.893917\"/>\n     <use style=\"fill:#1f77b4;stroke:#1f77b4;\" x=\"95.528495\" xlink:href=\"#m58ba99f491\" y=\"48.37641\"/>\n     <use style=\"fill:#1f77b4;stroke:#1f77b4;\" x=\"139.928005\" xlink:href=\"#m58ba99f491\" y=\"66.884338\"/>\n     <use style=\"fill:#1f77b4;stroke:#1f77b4;\" x=\"131.855653\" xlink:href=\"#m58ba99f491\" y=\"75.978778\"/>\n     <use style=\"fill:#1f77b4;stroke:#1f77b4;\" x=\"117.556774\" xlink:href=\"#m58ba99f491\" y=\"54.985526\"/>\n     <use style=\"fill:#1f77b4;stroke:#1f77b4;\" x=\"82.137229\" xlink:href=\"#m58ba99f491\" y=\"46.295854\"/>\n     <use style=\"fill:#1f77b4;stroke:#1f77b4;\" x=\"76.942554\" xlink:href=\"#m58ba99f491\" y=\"50.174052\"/>\n     <use style=\"fill:#1f77b4;stroke:#1f77b4;\" x=\"119.931521\" xlink:href=\"#m58ba99f491\" y=\"59.463312\"/>\n     <use style=\"fill:#1f77b4;stroke:#1f77b4;\" x=\"138.100046\" xlink:href=\"#m58ba99f491\" y=\"82.76554\"/>\n     <use style=\"fill:#1f77b4;stroke:#1f77b4;\" x=\"97.561526\" xlink:href=\"#m58ba99f491\" y=\"54.33772\"/>\n     <use style=\"fill:#1f77b4;stroke:#1f77b4;\" x=\"98.663332\" xlink:href=\"#m58ba99f491\" y=\"53.067019\"/>\n     <use style=\"fill:#1f77b4;stroke:#1f77b4;\" x=\"135.796982\" xlink:href=\"#m58ba99f491\" y=\"68.711302\"/>\n     <use style=\"fill:#1f77b4;stroke:#1f77b4;\" x=\"118.901098\" xlink:href=\"#m58ba99f491\" y=\"58.894017\"/>\n     <use style=\"fill:#1f77b4;stroke:#1f77b4;\" x=\"111.175249\" xlink:href=\"#m58ba99f491\" y=\"66.205976\"/>\n     <use style=\"fill:#1f77b4;stroke:#1f77b4;\" x=\"167.08919\" xlink:href=\"#m58ba99f491\" y=\"100.831179\"/>\n     <use style=\"fill:#1f77b4;stroke:#1f77b4;\" x=\"118.534424\" xlink:href=\"#m58ba99f491\" y=\"70.172118\"/>\n     <use style=\"fill:#1f77b4;stroke:#1f77b4;\" x=\"154.806286\" xlink:href=\"#m58ba99f491\" y=\"87.419926\"/>\n     <use style=\"fill:#1f77b4;stroke:#1f77b4;\" x=\"97.024826\" xlink:href=\"#m58ba99f491\" y=\"54.81893\"/>\n     <use style=\"fill:#1f77b4;stroke:#1f77b4;\" x=\"112.266053\" xlink:href=\"#m58ba99f491\" y=\"44.603173\"/>\n     <use style=\"fill:#1f77b4;stroke:#1f77b4;\" x=\"185.882073\" xlink:href=\"#m58ba99f491\" y=\"94.361968\"/>\n     <use style=\"fill:#1f77b4;stroke:#1f77b4;\" x=\"135.537521\" xlink:href=\"#m58ba99f491\" y=\"72.822225\"/>\n     <use style=\"fill:#1f77b4;stroke:#1f77b4;\" x=\"130.307219\" xlink:href=\"#m58ba99f491\" y=\"67.607531\"/>\n     <use style=\"fill:#1f77b4;stroke:#1f77b4;\" x=\"142.879279\" xlink:href=\"#m58ba99f491\" y=\"78.971451\"/>\n     <use style=\"fill:#1f77b4;stroke:#1f77b4;\" x=\"106.84147\" xlink:href=\"#m58ba99f491\" y=\"43.833766\"/>\n     <use style=\"fill:#1f77b4;stroke:#1f77b4;\" x=\"146.939025\" xlink:href=\"#m58ba99f491\" y=\"98.135534\"/>\n     <use style=\"fill:#1f77b4;stroke:#1f77b4;\" x=\"127.69702\" xlink:href=\"#m58ba99f491\" y=\"64.632583\"/>\n     <use style=\"fill:#1f77b4;stroke:#1f77b4;\" x=\"126.46014\" xlink:href=\"#m58ba99f491\" y=\"59.652819\"/>\n     <use style=\"fill:#1f77b4;stroke:#1f77b4;\" x=\"89.282025\" xlink:href=\"#m58ba99f491\" y=\"50.55959\"/>\n     <use style=\"fill:#1f77b4;stroke:#1f77b4;\" x=\"98.919047\" xlink:href=\"#m58ba99f491\" y=\"43.429454\"/>\n     <use style=\"fill:#1f77b4;stroke:#1f77b4;\" x=\"80.348002\" xlink:href=\"#m58ba99f491\" y=\"32.354978\"/>\n     <use style=\"fill:#1f77b4;stroke:#1f77b4;\" x=\"97.28183\" xlink:href=\"#m58ba99f491\" y=\"43.363309\"/>\n     <use style=\"fill:#1f77b4;stroke:#1f77b4;\" x=\"169.747279\" xlink:href=\"#m58ba99f491\" y=\"90.668196\"/>\n     <use style=\"fill:#1f77b4;stroke:#1f77b4;\" x=\"145.170895\" xlink:href=\"#m58ba99f491\" y=\"101.721948\"/>\n     <use style=\"fill:#1f77b4;stroke:#1f77b4;\" x=\"86.38961\" xlink:href=\"#m58ba99f491\" y=\"41.752334\"/>\n     <use style=\"fill:#1f77b4;stroke:#1f77b4;\" x=\"141.576291\" xlink:href=\"#m58ba99f491\" y=\"80.532839\"/>\n     <use style=\"fill:#1f77b4;stroke:#1f77b4;\" x=\"143.972471\" xlink:href=\"#m58ba99f491\" y=\"70.508637\"/>\n     <use style=\"fill:#1f77b4;stroke:#1f77b4;\" x=\"115.886402\" xlink:href=\"#m58ba99f491\" y=\"70.176514\"/>\n     <use style=\"fill:#1f77b4;stroke:#1f77b4;\" x=\"140.367046\" xlink:href=\"#m58ba99f491\" y=\"64.844845\"/>\n     <use style=\"fill:#1f77b4;stroke:#1f77b4;\" x=\"113.925066\" xlink:href=\"#m58ba99f491\" y=\"59.696036\"/>\n     <use style=\"fill:#1f77b4;stroke:#1f77b4;\" x=\"115.484046\" xlink:href=\"#m58ba99f491\" y=\"55.176896\"/>\n     <use style=\"fill:#1f77b4;stroke:#1f77b4;\" x=\"115.661426\" xlink:href=\"#m58ba99f491\" y=\"56.281666\"/>\n     <use style=\"fill:#1f77b4;stroke:#1f77b4;\" x=\"134.86865\" xlink:href=\"#m58ba99f491\" y=\"77.773035\"/>\n     <use style=\"fill:#1f77b4;stroke:#1f77b4;\" x=\"108.304567\" xlink:href=\"#m58ba99f491\" y=\"46.620385\"/>\n     <use style=\"fill:#1f77b4;stroke:#1f77b4;\" x=\"148.043819\" xlink:href=\"#m58ba99f491\" y=\"80.424922\"/>\n     <use style=\"fill:#1f77b4;stroke:#1f77b4;\" x=\"106.298361\" xlink:href=\"#m58ba99f491\" y=\"45.723941\"/>\n     <use style=\"fill:#1f77b4;stroke:#1f77b4;\" x=\"152.053347\" xlink:href=\"#m58ba99f491\" y=\"86.792045\"/>\n     <use style=\"fill:#1f77b4;stroke:#1f77b4;\" x=\"90.842738\" xlink:href=\"#m58ba99f491\" y=\"62.346327\"/>\n     <use style=\"fill:#1f77b4;stroke:#1f77b4;\" x=\"153.612615\" xlink:href=\"#m58ba99f491\" y=\"84.262712\"/>\n     <use style=\"fill:#1f77b4;stroke:#1f77b4;\" x=\"70.547949\" xlink:href=\"#m58ba99f491\" y=\"34.858115\"/>\n     <use style=\"fill:#1f77b4;stroke:#1f77b4;\" x=\"139.638087\" xlink:href=\"#m58ba99f491\" y=\"83.02195\"/>\n     <use style=\"fill:#1f77b4;stroke:#1f77b4;\" x=\"151.888097\" xlink:href=\"#m58ba99f491\" y=\"90.223883\"/>\n     <use style=\"fill:#1f77b4;stroke:#1f77b4;\" x=\"187.438745\" xlink:href=\"#m58ba99f491\" y=\"108.651788\"/>\n     <use style=\"fill:#1f77b4;stroke:#1f77b4;\" x=\"57.637932\" xlink:href=\"#m58ba99f491\" y=\"40.955522\"/>\n     <use style=\"fill:#1f77b4;stroke:#1f77b4;\" x=\"103.116872\" xlink:href=\"#m58ba99f491\" y=\"67.626885\"/>\n     <use style=\"fill:#1f77b4;stroke:#1f77b4;\" x=\"130.279442\" xlink:href=\"#m58ba99f491\" y=\"65.787233\"/>\n     <use style=\"fill:#1f77b4;stroke:#1f77b4;\" x=\"120.984324\" xlink:href=\"#m58ba99f491\" y=\"75.878976\"/>\n     <use style=\"fill:#1f77b4;stroke:#1f77b4;\" x=\"134.07826\" xlink:href=\"#m58ba99f491\" y=\"74.585479\"/>\n     <use style=\"fill:#1f77b4;stroke:#1f77b4;\" x=\"160.544697\" xlink:href=\"#m58ba99f491\" y=\"88.164359\"/>\n     <use style=\"fill:#1f77b4;stroke:#1f77b4;\" x=\"202.173554\" xlink:href=\"#m58ba99f491\" y=\"110.754704\"/>\n     <use style=\"fill:#1f77b4;stroke:#1f77b4;\" x=\"140.983352\" xlink:href=\"#m58ba99f491\" y=\"86.093216\"/>\n     <use style=\"fill:#1f77b4;stroke:#1f77b4;\" x=\"164.53959\" xlink:href=\"#m58ba99f491\" y=\"98.02205\"/>\n     <use style=\"fill:#1f77b4;stroke:#1f77b4;\" x=\"133.038829\" xlink:href=\"#m58ba99f491\" y=\"80.280428\"/>\n     <use style=\"fill:#1f77b4;stroke:#1f77b4;\" x=\"120.588925\" xlink:href=\"#m58ba99f491\" y=\"65.251001\"/>\n     <use style=\"fill:#1f77b4;stroke:#1f77b4;\" x=\"142.455653\" xlink:href=\"#m58ba99f491\" y=\"88.773617\"/>\n     <use style=\"fill:#1f77b4;stroke:#1f77b4;\" x=\"98.045357\" xlink:href=\"#m58ba99f491\" y=\"59.413721\"/>\n     <use style=\"fill:#1f77b4;stroke:#1f77b4;\" x=\"138.434207\" xlink:href=\"#m58ba99f491\" y=\"79.931349\"/>\n     <use style=\"fill:#1f77b4;stroke:#1f77b4;\" x=\"120.007364\" xlink:href=\"#m58ba99f491\" y=\"46.251403\"/>\n     <use style=\"fill:#1f77b4;stroke:#1f77b4;\" x=\"141.381342\" xlink:href=\"#m58ba99f491\" y=\"59.318834\"/>\n     <use style=\"fill:#1f77b4;stroke:#1f77b4;\" x=\"109.526332\" xlink:href=\"#m58ba99f491\" y=\"48.806557\"/>\n     <use style=\"fill:#1f77b4;stroke:#1f77b4;\" x=\"140.161384\" xlink:href=\"#m58ba99f491\" y=\"66.380577\"/>\n     <use style=\"fill:#1f77b4;stroke:#1f77b4;\" x=\"163.600305\" xlink:href=\"#m58ba99f491\" y=\"84.900515\"/>\n     <use style=\"fill:#1f77b4;stroke:#1f77b4;\" x=\"171.451122\" xlink:href=\"#m58ba99f491\" y=\"106.943599\"/>\n     <use style=\"fill:#1f77b4;stroke:#1f77b4;\" x=\"121.035127\" xlink:href=\"#m58ba99f491\" y=\"54.303531\"/>\n     <use style=\"fill:#1f77b4;stroke:#1f77b4;\" x=\"123.819011\" xlink:href=\"#m58ba99f491\" y=\"74.349838\"/>\n     <use style=\"fill:#1f77b4;stroke:#1f77b4;\" x=\"109.311708\" xlink:href=\"#m58ba99f491\" y=\"53.38579\"/>\n     <use style=\"fill:#1f77b4;stroke:#1f77b4;\" x=\"130.954709\" xlink:href=\"#m58ba99f491\" y=\"71.64933\"/>\n     <use style=\"fill:#1f77b4;stroke:#1f77b4;\" x=\"106.138441\" xlink:href=\"#m58ba99f491\" y=\"57.057107\"/>\n     <use style=\"fill:#1f77b4;stroke:#1f77b4;\" x=\"134.980025\" xlink:href=\"#m58ba99f491\" y=\"79.202765\"/>\n     <use style=\"fill:#1f77b4;stroke:#1f77b4;\" x=\"112.232384\" xlink:href=\"#m58ba99f491\" y=\"48.124746\"/>\n     <use style=\"fill:#1f77b4;stroke:#1f77b4;\" x=\"140.847078\" xlink:href=\"#m58ba99f491\" y=\"76.876776\"/>\n     <use style=\"fill:#1f77b4;stroke:#1f77b4;\" x=\"139.928478\" xlink:href=\"#m58ba99f491\" y=\"79.206405\"/>\n     <use style=\"fill:#1f77b4;stroke:#1f77b4;\" x=\"88.408963\" xlink:href=\"#m58ba99f491\" y=\"64.151211\"/>\n     <use style=\"fill:#1f77b4;stroke:#1f77b4;\" x=\"147.156239\" xlink:href=\"#m58ba99f491\" y=\"61.600073\"/>\n     <use style=\"fill:#1f77b4;stroke:#1f77b4;\" x=\"133.123241\" xlink:href=\"#m58ba99f491\" y=\"69.981412\"/>\n     <use style=\"fill:#1f77b4;stroke:#1f77b4;\" x=\"105.631613\" xlink:href=\"#m58ba99f491\" y=\"33.281794\"/>\n     <use style=\"fill:#1f77b4;stroke:#1f77b4;\" x=\"121.221183\" xlink:href=\"#m58ba99f491\" y=\"72.084658\"/>\n     <use style=\"fill:#1f77b4;stroke:#1f77b4;\" x=\"129.919445\" xlink:href=\"#m58ba99f491\" y=\"61.058937\"/>\n     <use style=\"fill:#1f77b4;stroke:#1f77b4;\" x=\"116.760734\" xlink:href=\"#m58ba99f491\" y=\"66.415262\"/>\n     <use style=\"fill:#1f77b4;stroke:#1f77b4;\" x=\"152.878055\" xlink:href=\"#m58ba99f491\" y=\"87.31894\"/>\n     <use style=\"fill:#1f77b4;stroke:#1f77b4;\" x=\"120.825672\" xlink:href=\"#m58ba99f491\" y=\"63.113083\"/>\n     <use style=\"fill:#1f77b4;stroke:#1f77b4;\" x=\"120.37368\" xlink:href=\"#m58ba99f491\" y=\"55.462636\"/>\n     <use style=\"fill:#1f77b4;stroke:#1f77b4;\" x=\"123.321788\" xlink:href=\"#m58ba99f491\" y=\"54.081047\"/>\n     <use style=\"fill:#1f77b4;stroke:#1f77b4;\" x=\"141.16084\" xlink:href=\"#m58ba99f491\" y=\"67.411928\"/>\n     <use style=\"fill:#1f77b4;stroke:#1f77b4;\" x=\"139.073483\" xlink:href=\"#m58ba99f491\" y=\"66.602737\"/>\n     <use style=\"fill:#1f77b4;stroke:#1f77b4;\" x=\"101.056929\" xlink:href=\"#m58ba99f491\" y=\"54.086569\"/>\n     <use style=\"fill:#1f77b4;stroke:#1f77b4;\" x=\"88.882887\" xlink:href=\"#m58ba99f491\" y=\"53.795421\"/>\n     <use style=\"fill:#1f77b4;stroke:#1f77b4;\" x=\"111.153094\" xlink:href=\"#m58ba99f491\" y=\"57.417324\"/>\n     <use style=\"fill:#1f77b4;stroke:#1f77b4;\" x=\"146.022688\" xlink:href=\"#m58ba99f491\" y=\"83.373888\"/>\n     <use style=\"fill:#1f77b4;stroke:#1f77b4;\" x=\"93.9165\" xlink:href=\"#m58ba99f491\" y=\"39.656081\"/>\n     <use style=\"fill:#1f77b4;stroke:#1f77b4;\" x=\"91.207384\" xlink:href=\"#m58ba99f491\" y=\"29.873353\"/>\n     <use style=\"fill:#1f77b4;stroke:#1f77b4;\" x=\"123.327204\" xlink:href=\"#m58ba99f491\" y=\"63.472595\"/>\n     <use style=\"fill:#1f77b4;stroke:#1f77b4;\" x=\"127.667829\" xlink:href=\"#m58ba99f491\" y=\"51.868335\"/>\n     <use style=\"fill:#1f77b4;stroke:#1f77b4;\" x=\"130.581048\" xlink:href=\"#m58ba99f491\" y=\"59.00082\"/>\n     <use style=\"fill:#1f77b4;stroke:#1f77b4;\" x=\"157.181084\" xlink:href=\"#m58ba99f491\" y=\"69.813897\"/>\n     <use style=\"fill:#1f77b4;stroke:#1f77b4;\" x=\"139.78096\" xlink:href=\"#m58ba99f491\" y=\"83.419078\"/>\n     <use style=\"fill:#1f77b4;stroke:#1f77b4;\" x=\"119.127318\" xlink:href=\"#m58ba99f491\" y=\"67.364094\"/>\n     <use style=\"fill:#1f77b4;stroke:#1f77b4;\" x=\"123.805889\" xlink:href=\"#m58ba99f491\" y=\"65.931911\"/>\n     <use style=\"fill:#1f77b4;stroke:#1f77b4;\" x=\"128.469546\" xlink:href=\"#m58ba99f491\" y=\"78.610405\"/>\n     <use style=\"fill:#1f77b4;stroke:#1f77b4;\" x=\"147.915288\" xlink:href=\"#m58ba99f491\" y=\"91.309055\"/>\n     <use style=\"fill:#1f77b4;stroke:#1f77b4;\" x=\"83.285323\" xlink:href=\"#m58ba99f491\" y=\"28.448439\"/>\n     <use style=\"fill:#1f77b4;stroke:#1f77b4;\" x=\"137.424991\" xlink:href=\"#m58ba99f491\" y=\"80.613723\"/>\n     <use style=\"fill:#1f77b4;stroke:#1f77b4;\" x=\"95.00687\" xlink:href=\"#m58ba99f491\" y=\"50.177883\"/>\n     <use style=\"fill:#1f77b4;stroke:#1f77b4;\" x=\"102.142875\" xlink:href=\"#m58ba99f491\" y=\"51.680972\"/>\n     <use style=\"fill:#1f77b4;stroke:#1f77b4;\" x=\"117.716561\" xlink:href=\"#m58ba99f491\" y=\"64.084667\"/>\n     <use style=\"fill:#1f77b4;stroke:#1f77b4;\" x=\"119.436212\" xlink:href=\"#m58ba99f491\" y=\"52.747208\"/>\n     <use style=\"fill:#1f77b4;stroke:#1f77b4;\" x=\"118.1939\" xlink:href=\"#m58ba99f491\" y=\"62.535931\"/>\n     <use style=\"fill:#1f77b4;stroke:#1f77b4;\" x=\"148.834344\" xlink:href=\"#m58ba99f491\" y=\"71.514504\"/>\n     <use style=\"fill:#1f77b4;stroke:#1f77b4;\" x=\"136.918916\" xlink:href=\"#m58ba99f491\" y=\"76.999176\"/>\n     <use style=\"fill:#1f77b4;stroke:#1f77b4;\" x=\"162.895511\" xlink:href=\"#m58ba99f491\" y=\"101.66822\"/>\n     <use style=\"fill:#1f77b4;stroke:#1f77b4;\" x=\"153.753728\" xlink:href=\"#m58ba99f491\" y=\"90.411473\"/>\n     <use style=\"fill:#1f77b4;stroke:#1f77b4;\" x=\"158.107341\" xlink:href=\"#m58ba99f491\" y=\"95.834206\"/>\n     <use style=\"fill:#1f77b4;stroke:#1f77b4;\" x=\"143.638721\" xlink:href=\"#m58ba99f491\" y=\"82.813937\"/>\n     <use style=\"fill:#1f77b4;stroke:#1f77b4;\" x=\"138.157858\" xlink:href=\"#m58ba99f491\" y=\"60.21481\"/>\n     <use style=\"fill:#1f77b4;stroke:#1f77b4;\" x=\"125.583847\" xlink:href=\"#m58ba99f491\" y=\"61.426521\"/>\n     <use style=\"fill:#1f77b4;stroke:#1f77b4;\" x=\"60.18366\" xlink:href=\"#m58ba99f491\" y=\"22.610111\"/>\n     <use style=\"fill:#1f77b4;stroke:#1f77b4;\" x=\"124.26619\" xlink:href=\"#m58ba99f491\" y=\"70.534361\"/>\n     <use style=\"fill:#1f77b4;stroke:#1f77b4;\" x=\"138.781503\" xlink:href=\"#m58ba99f491\" y=\"76.589827\"/>\n     <use style=\"fill:#1f77b4;stroke:#1f77b4;\" x=\"148.088258\" xlink:href=\"#m58ba99f491\" y=\"93.873121\"/>\n     <use style=\"fill:#1f77b4;stroke:#1f77b4;\" x=\"142.512775\" xlink:href=\"#m58ba99f491\" y=\"66.618298\"/>\n     <use style=\"fill:#1f77b4;stroke:#1f77b4;\" x=\"146.776915\" xlink:href=\"#m58ba99f491\" y=\"85.059173\"/>\n     <use style=\"fill:#1f77b4;stroke:#1f77b4;\" x=\"114.539376\" xlink:href=\"#m58ba99f491\" y=\"54.169437\"/>\n     <use style=\"fill:#1f77b4;stroke:#1f77b4;\" x=\"144.409949\" xlink:href=\"#m58ba99f491\" y=\"93.80654\"/>\n     <use style=\"fill:#1f77b4;stroke:#1f77b4;\" x=\"53.788565\" xlink:href=\"#m58ba99f491\" y=\"26.593429\"/>\n     <use style=\"fill:#1f77b4;stroke:#1f77b4;\" x=\"144.044517\" xlink:href=\"#m58ba99f491\" y=\"75.550874\"/>\n     <use style=\"fill:#1f77b4;stroke:#1f77b4;\" x=\"75.426119\" xlink:href=\"#m58ba99f491\" y=\"33.895868\"/>\n     <use style=\"fill:#1f77b4;stroke:#1f77b4;\" x=\"152.555677\" xlink:href=\"#m58ba99f491\" y=\"100.313842\"/>\n     <use style=\"fill:#1f77b4;stroke:#1f77b4;\" x=\"111.603271\" xlink:href=\"#m58ba99f491\" y=\"78.100768\"/>\n     <use style=\"fill:#1f77b4;stroke:#1f77b4;\" x=\"145.671432\" xlink:href=\"#m58ba99f491\" y=\"87.19146\"/>\n     <use style=\"fill:#1f77b4;stroke:#1f77b4;\" x=\"144.59552\" xlink:href=\"#m58ba99f491\" y=\"88.027003\"/>\n     <use style=\"fill:#1f77b4;stroke:#1f77b4;\" x=\"163.706155\" xlink:href=\"#m58ba99f491\" y=\"77.600756\"/>\n     <use style=\"fill:#1f77b4;stroke:#1f77b4;\" x=\"123.583462\" xlink:href=\"#m58ba99f491\" y=\"60.281528\"/>\n     <use style=\"fill:#1f77b4;stroke:#1f77b4;\" x=\"124.516948\" xlink:href=\"#m58ba99f491\" y=\"82.318793\"/>\n     <use style=\"fill:#1f77b4;stroke:#1f77b4;\" x=\"136.614305\" xlink:href=\"#m58ba99f491\" y=\"78.470841\"/>\n     <use style=\"fill:#1f77b4;stroke:#1f77b4;\" x=\"134.520756\" xlink:href=\"#m58ba99f491\" y=\"76.523632\"/>\n     <use style=\"fill:#1f77b4;stroke:#1f77b4;\" x=\"158.178284\" xlink:href=\"#m58ba99f491\" y=\"87.10526\"/>\n     <use style=\"fill:#1f77b4;stroke:#1f77b4;\" x=\"127.619991\" xlink:href=\"#m58ba99f491\" y=\"66.499683\"/>\n     <use style=\"fill:#1f77b4;stroke:#1f77b4;\" x=\"124.58247\" xlink:href=\"#m58ba99f491\" y=\"96.747698\"/>\n     <use style=\"fill:#1f77b4;stroke:#1f77b4;\" x=\"128.683704\" xlink:href=\"#m58ba99f491\" y=\"71.692746\"/>\n     <use style=\"fill:#1f77b4;stroke:#1f77b4;\" x=\"120.373082\" xlink:href=\"#m58ba99f491\" y=\"65.882587\"/>\n     <use style=\"fill:#1f77b4;stroke:#1f77b4;\" x=\"133.368699\" xlink:href=\"#m58ba99f491\" y=\"57.068157\"/>\n     <use style=\"fill:#1f77b4;stroke:#1f77b4;\" x=\"88.604639\" xlink:href=\"#m58ba99f491\" y=\"43.130959\"/>\n     <use style=\"fill:#1f77b4;stroke:#1f77b4;\" x=\"134.005458\" xlink:href=\"#m58ba99f491\" y=\"63.102772\"/>\n     <use style=\"fill:#1f77b4;stroke:#1f77b4;\" x=\"74.426864\" xlink:href=\"#m58ba99f491\" y=\"33.395746\"/>\n     <use style=\"fill:#1f77b4;stroke:#1f77b4;\" x=\"130.734505\" xlink:href=\"#m58ba99f491\" y=\"65.374662\"/>\n     <use style=\"fill:#1f77b4;stroke:#1f77b4;\" x=\"151.942736\" xlink:href=\"#m58ba99f491\" y=\"68.333167\"/>\n     <use style=\"fill:#1f77b4;stroke:#1f77b4;\" x=\"125.392251\" xlink:href=\"#m58ba99f491\" y=\"41.90992\"/>\n     <use style=\"fill:#1f77b4;stroke:#1f77b4;\" x=\"134.032758\" xlink:href=\"#m58ba99f491\" y=\"74.563342\"/>\n     <use style=\"fill:#1f77b4;stroke:#1f77b4;\" x=\"134.76276\" xlink:href=\"#m58ba99f491\" y=\"68.074115\"/>\n     <use style=\"fill:#1f77b4;stroke:#1f77b4;\" x=\"154.163293\" xlink:href=\"#m58ba99f491\" y=\"92.580235\"/>\n     <use style=\"fill:#1f77b4;stroke:#1f77b4;\" x=\"129.54981\" xlink:href=\"#m58ba99f491\" y=\"77.986458\"/>\n     <use style=\"fill:#1f77b4;stroke:#1f77b4;\" x=\"109.454688\" xlink:href=\"#m58ba99f491\" y=\"53.649521\"/>\n     <use style=\"fill:#1f77b4;stroke:#1f77b4;\" x=\"142.301617\" xlink:href=\"#m58ba99f491\" y=\"72.02076\"/>\n     <use style=\"fill:#1f77b4;stroke:#1f77b4;\" x=\"121.267077\" xlink:href=\"#m58ba99f491\" y=\"62.290761\"/>\n     <use style=\"fill:#1f77b4;stroke:#1f77b4;\" x=\"143.201839\" xlink:href=\"#m58ba99f491\" y=\"77.383384\"/>\n     <use style=\"fill:#1f77b4;stroke:#1f77b4;\" x=\"90.422838\" xlink:href=\"#m58ba99f491\" y=\"49.521435\"/>\n     <use style=\"fill:#1f77b4;stroke:#1f77b4;\" x=\"127.921821\" xlink:href=\"#m58ba99f491\" y=\"91.168608\"/>\n     <use style=\"fill:#1f77b4;stroke:#1f77b4;\" x=\"114.361114\" xlink:href=\"#m58ba99f491\" y=\"70.783313\"/>\n     <use style=\"fill:#1f77b4;stroke:#1f77b4;\" x=\"117.257173\" xlink:href=\"#m58ba99f491\" y=\"76.712382\"/>\n     <use style=\"fill:#1f77b4;stroke:#1f77b4;\" x=\"173.022649\" xlink:href=\"#m58ba99f491\" y=\"117.407707\"/>\n     <use style=\"fill:#1f77b4;stroke:#1f77b4;\" x=\"146.939478\" xlink:href=\"#m58ba99f491\" y=\"73.289955\"/>\n     <use style=\"fill:#1f77b4;stroke:#1f77b4;\" x=\"174.229203\" xlink:href=\"#m58ba99f491\" y=\"117.91851\"/>\n     <use style=\"fill:#1f77b4;stroke:#1f77b4;\" x=\"106.721523\" xlink:href=\"#m58ba99f491\" y=\"53.996172\"/>\n     <use style=\"fill:#1f77b4;stroke:#1f77b4;\" x=\"125.981747\" xlink:href=\"#m58ba99f491\" y=\"70.10721\"/>\n     <use style=\"fill:#1f77b4;stroke:#1f77b4;\" x=\"121.479054\" xlink:href=\"#m58ba99f491\" y=\"51.676867\"/>\n     <use style=\"fill:#1f77b4;stroke:#1f77b4;\" x=\"131.623789\" xlink:href=\"#m58ba99f491\" y=\"72.03467\"/>\n     <use style=\"fill:#1f77b4;stroke:#1f77b4;\" x=\"141.697221\" xlink:href=\"#m58ba99f491\" y=\"82.312923\"/>\n     <use style=\"fill:#1f77b4;stroke:#1f77b4;\" x=\"111.022881\" xlink:href=\"#m58ba99f491\" y=\"51.064227\"/>\n     <use style=\"fill:#1f77b4;stroke:#1f77b4;\" x=\"107.996618\" xlink:href=\"#m58ba99f491\" y=\"35.874051\"/>\n     <use style=\"fill:#1f77b4;stroke:#1f77b4;\" x=\"134.893315\" xlink:href=\"#m58ba99f491\" y=\"86.530634\"/>\n     <use style=\"fill:#1f77b4;stroke:#1f77b4;\" x=\"116.638993\" xlink:href=\"#m58ba99f491\" y=\"66.160934\"/>\n     <use style=\"fill:#1f77b4;stroke:#1f77b4;\" x=\"140.690914\" xlink:href=\"#m58ba99f491\" y=\"70.299224\"/>\n     <use style=\"fill:#1f77b4;stroke:#1f77b4;\" x=\"135.77465\" xlink:href=\"#m58ba99f491\" y=\"73.113631\"/>\n     <use style=\"fill:#1f77b4;stroke:#1f77b4;\" x=\"127.021191\" xlink:href=\"#m58ba99f491\" y=\"51.161971\"/>\n     <use style=\"fill:#1f77b4;stroke:#1f77b4;\" x=\"141.862747\" xlink:href=\"#m58ba99f491\" y=\"73.755576\"/>\n     <use style=\"fill:#1f77b4;stroke:#1f77b4;\" x=\"145.561526\" xlink:href=\"#m58ba99f491\" y=\"91.178659\"/>\n     <use style=\"fill:#1f77b4;stroke:#1f77b4;\" x=\"133.221518\" xlink:href=\"#m58ba99f491\" y=\"68.157357\"/>\n     <use style=\"fill:#1f77b4;stroke:#1f77b4;\" x=\"87.731421\" xlink:href=\"#m58ba99f491\" y=\"49.498236\"/>\n     <use style=\"fill:#1f77b4;stroke:#1f77b4;\" x=\"124.38895\" xlink:href=\"#m58ba99f491\" y=\"56.934212\"/>\n     <use style=\"fill:#1f77b4;stroke:#1f77b4;\" x=\"159.982778\" xlink:href=\"#m58ba99f491\" y=\"81.343912\"/>\n     <use style=\"fill:#1f77b4;stroke:#1f77b4;\" x=\"188.484908\" xlink:href=\"#m58ba99f491\" y=\"97.289346\"/>\n     <use style=\"fill:#1f77b4;stroke:#1f77b4;\" x=\"106.929685\" xlink:href=\"#m58ba99f491\" y=\"38.616224\"/>\n     <use style=\"fill:#1f77b4;stroke:#1f77b4;\" x=\"141.300778\" xlink:href=\"#m58ba99f491\" y=\"75.419913\"/>\n     <use style=\"fill:#1f77b4;stroke:#1f77b4;\" x=\"154.39119\" xlink:href=\"#m58ba99f491\" y=\"80.580655\"/>\n     <use style=\"fill:#1f77b4;stroke:#1f77b4;\" x=\"81.220331\" xlink:href=\"#m58ba99f491\" y=\"37.999519\"/>\n     <use style=\"fill:#1f77b4;stroke:#1f77b4;\" x=\"128.442515\" xlink:href=\"#m58ba99f491\" y=\"54.056368\"/>\n     <use style=\"fill:#1f77b4;stroke:#1f77b4;\" x=\"125.415276\" xlink:href=\"#m58ba99f491\" y=\"73.863498\"/>\n     <use style=\"fill:#1f77b4;stroke:#1f77b4;\" x=\"164.590297\" xlink:href=\"#m58ba99f491\" y=\"88.787056\"/>\n     <use style=\"fill:#1f77b4;stroke:#1f77b4;\" x=\"151.23419\" xlink:href=\"#m58ba99f491\" y=\"82.84523\"/>\n     <use style=\"fill:#1f77b4;stroke:#1f77b4;\" x=\"131.12124\" xlink:href=\"#m58ba99f491\" y=\"67.196821\"/>\n     <use style=\"fill:#1f77b4;stroke:#1f77b4;\" x=\"159.534728\" xlink:href=\"#m58ba99f491\" y=\"95.613392\"/>\n     <use style=\"fill:#1f77b4;stroke:#1f77b4;\" x=\"136.950445\" xlink:href=\"#m58ba99f491\" y=\"88.736699\"/>\n     <use style=\"fill:#1f77b4;stroke:#1f77b4;\" x=\"127.161759\" xlink:href=\"#m58ba99f491\" y=\"81.721514\"/>\n     <use style=\"fill:#1f77b4;stroke:#1f77b4;\" x=\"85.918591\" xlink:href=\"#m58ba99f491\" y=\"45.301351\"/>\n     <use style=\"fill:#1f77b4;stroke:#1f77b4;\" x=\"122.089942\" xlink:href=\"#m58ba99f491\" y=\"69.636358\"/>\n     <use style=\"fill:#1f77b4;stroke:#1f77b4;\" x=\"134.210121\" xlink:href=\"#m58ba99f491\" y=\"74.298348\"/>\n     <use style=\"fill:#1f77b4;stroke:#1f77b4;\" x=\"142.197612\" xlink:href=\"#m58ba99f491\" y=\"70.291622\"/>\n     <use style=\"fill:#1f77b4;stroke:#1f77b4;\" x=\"89.378961\" xlink:href=\"#m58ba99f491\" y=\"29.394368\"/>\n     <use style=\"fill:#1f77b4;stroke:#1f77b4;\" x=\"146.981521\" xlink:href=\"#m58ba99f491\" y=\"96.848341\"/>\n     <use style=\"fill:#1f77b4;stroke:#1f77b4;\" x=\"118.371076\" xlink:href=\"#m58ba99f491\" y=\"77.689241\"/>\n     <use style=\"fill:#1f77b4;stroke:#1f77b4;\" x=\"144.724977\" xlink:href=\"#m58ba99f491\" y=\"76.312124\"/>\n     <use style=\"fill:#1f77b4;stroke:#1f77b4;\" x=\"123.344145\" xlink:href=\"#m58ba99f491\" y=\"55.022114\"/>\n     <use style=\"fill:#1f77b4;stroke:#1f77b4;\" x=\"116.29286\" xlink:href=\"#m58ba99f491\" y=\"68.184095\"/>\n     <use style=\"fill:#1f77b4;stroke:#1f77b4;\" x=\"95.794395\" xlink:href=\"#m58ba99f491\" y=\"40.09538\"/>\n     <use style=\"fill:#1f77b4;stroke:#1f77b4;\" x=\"103.236212\" xlink:href=\"#m58ba99f491\" y=\"51.9833\"/>\n     <use style=\"fill:#1f77b4;stroke:#1f77b4;\" x=\"116.714566\" xlink:href=\"#m58ba99f491\" y=\"58.928519\"/>\n     <use style=\"fill:#1f77b4;stroke:#1f77b4;\" x=\"154.420217\" xlink:href=\"#m58ba99f491\" y=\"109.170519\"/>\n     <use style=\"fill:#1f77b4;stroke:#1f77b4;\" x=\"137.209349\" xlink:href=\"#m58ba99f491\" y=\"79.493918\"/>\n     <use style=\"fill:#1f77b4;stroke:#1f77b4;\" x=\"86.685886\" xlink:href=\"#m58ba99f491\" y=\"54.322094\"/>\n     <use style=\"fill:#1f77b4;stroke:#1f77b4;\" x=\"117.053846\" xlink:href=\"#m58ba99f491\" y=\"68.586758\"/>\n     <use style=\"fill:#1f77b4;stroke:#1f77b4;\" x=\"132.613709\" xlink:href=\"#m58ba99f491\" y=\"72.406419\"/>\n     <use style=\"fill:#1f77b4;stroke:#1f77b4;\" x=\"141.990859\" xlink:href=\"#m58ba99f491\" y=\"94.416583\"/>\n     <use style=\"fill:#1f77b4;stroke:#1f77b4;\" x=\"192.273811\" xlink:href=\"#m58ba99f491\" y=\"114.656142\"/>\n     <use style=\"fill:#1f77b4;stroke:#1f77b4;\" x=\"164.169984\" xlink:href=\"#m58ba99f491\" y=\"82.320924\"/>\n     <use style=\"fill:#1f77b4;stroke:#1f77b4;\" x=\"130.75857\" xlink:href=\"#m58ba99f491\" y=\"75.224209\"/>\n     <use style=\"fill:#1f77b4;stroke:#1f77b4;\" x=\"119.98409\" xlink:href=\"#m58ba99f491\" y=\"44.540572\"/>\n     <use style=\"fill:#1f77b4;stroke:#1f77b4;\" x=\"132.300583\" xlink:href=\"#m58ba99f491\" y=\"57.981046\"/>\n     <use style=\"fill:#1f77b4;stroke:#1f77b4;\" x=\"83.034845\" xlink:href=\"#m58ba99f491\" y=\"34.856861\"/>\n     <use style=\"fill:#1f77b4;stroke:#1f77b4;\" x=\"176.04017\" xlink:href=\"#m58ba99f491\" y=\"106.30654\"/>\n     <use style=\"fill:#1f77b4;stroke:#1f77b4;\" x=\"154.725021\" xlink:href=\"#m58ba99f491\" y=\"71.13801\"/>\n     <use style=\"fill:#1f77b4;stroke:#1f77b4;\" x=\"184.690423\" xlink:href=\"#m58ba99f491\" y=\"125.729955\"/>\n     <use style=\"fill:#1f77b4;stroke:#1f77b4;\" x=\"133.802073\" xlink:href=\"#m58ba99f491\" y=\"79.599995\"/>\n     <use style=\"fill:#1f77b4;stroke:#1f77b4;\" x=\"158.60238\" xlink:href=\"#m58ba99f491\" y=\"99.419754\"/>\n     <use style=\"fill:#1f77b4;stroke:#1f77b4;\" x=\"156.2865\" xlink:href=\"#m58ba99f491\" y=\"87.438477\"/>\n     <use style=\"fill:#1f77b4;stroke:#1f77b4;\" x=\"136.167644\" xlink:href=\"#m58ba99f491\" y=\"84.189006\"/>\n     <use style=\"fill:#1f77b4;stroke:#1f77b4;\" x=\"99.10213\" xlink:href=\"#m58ba99f491\" y=\"45.879357\"/>\n     <use style=\"fill:#1f77b4;stroke:#1f77b4;\" x=\"169.70391\" xlink:href=\"#m58ba99f491\" y=\"93.44136\"/>\n     <use style=\"fill:#1f77b4;stroke:#1f77b4;\" x=\"114.259012\" xlink:href=\"#m58ba99f491\" y=\"55.443035\"/>\n     <use style=\"fill:#1f77b4;stroke:#1f77b4;\" x=\"165.580632\" xlink:href=\"#m58ba99f491\" y=\"102.334066\"/>\n     <use style=\"fill:#1f77b4;stroke:#1f77b4;\" x=\"142.495413\" xlink:href=\"#m58ba99f491\" y=\"85.153272\"/>\n     <use style=\"fill:#1f77b4;stroke:#1f77b4;\" x=\"135.81524\" xlink:href=\"#m58ba99f491\" y=\"78.624379\"/>\n     <use style=\"fill:#1f77b4;stroke:#1f77b4;\" x=\"105.482897\" xlink:href=\"#m58ba99f491\" y=\"69.583893\"/>\n     <use style=\"fill:#1f77b4;stroke:#1f77b4;\" x=\"118.947771\" xlink:href=\"#m58ba99f491\" y=\"52.591195\"/>\n     <use style=\"fill:#1f77b4;stroke:#1f77b4;\" x=\"120.020001\" xlink:href=\"#m58ba99f491\" y=\"60.093413\"/>\n     <use style=\"fill:#1f77b4;stroke:#1f77b4;\" x=\"134.138178\" xlink:href=\"#m58ba99f491\" y=\"87.837795\"/>\n     <use style=\"fill:#1f77b4;stroke:#1f77b4;\" x=\"145.178233\" xlink:href=\"#m58ba99f491\" y=\"59.521975\"/>\n     <use style=\"fill:#1f77b4;stroke:#1f77b4;\" x=\"101.052062\" xlink:href=\"#m58ba99f491\" y=\"48.507614\"/>\n     <use style=\"fill:#1f77b4;stroke:#1f77b4;\" x=\"117.750867\" xlink:href=\"#m58ba99f491\" y=\"72.074918\"/>\n     <use style=\"fill:#1f77b4;stroke:#1f77b4;\" x=\"118.560984\" xlink:href=\"#m58ba99f491\" y=\"79.7105\"/>\n     <use style=\"fill:#1f77b4;stroke:#1f77b4;\" x=\"100.650137\" xlink:href=\"#m58ba99f491\" y=\"36.475844\"/>\n     <use style=\"fill:#1f77b4;stroke:#1f77b4;\" x=\"95.889552\" xlink:href=\"#m58ba99f491\" y=\"38.309981\"/>\n     <use style=\"fill:#1f77b4;stroke:#1f77b4;\" x=\"109.912805\" xlink:href=\"#m58ba99f491\" y=\"24.797181\"/>\n     <use style=\"fill:#1f77b4;stroke:#1f77b4;\" x=\"127.202684\" xlink:href=\"#m58ba99f491\" y=\"50.73865\"/>\n     <use style=\"fill:#1f77b4;stroke:#1f77b4;\" x=\"82.297827\" xlink:href=\"#m58ba99f491\" y=\"36.409996\"/>\n     <use style=\"fill:#1f77b4;stroke:#1f77b4;\" x=\"119.229968\" xlink:href=\"#m58ba99f491\" y=\"69.177124\"/>\n     <use style=\"fill:#1f77b4;stroke:#1f77b4;\" x=\"117.129522\" xlink:href=\"#m58ba99f491\" y=\"76.896174\"/>\n     <use style=\"fill:#1f77b4;stroke:#1f77b4;\" x=\"134.597966\" xlink:href=\"#m58ba99f491\" y=\"72.669368\"/>\n     <use style=\"fill:#1f77b4;stroke:#1f77b4;\" x=\"138.107538\" xlink:href=\"#m58ba99f491\" y=\"71.338141\"/>\n     <use style=\"fill:#1f77b4;stroke:#1f77b4;\" x=\"115.892659\" xlink:href=\"#m58ba99f491\" y=\"63.838293\"/>\n     <use style=\"fill:#1f77b4;stroke:#1f77b4;\" x=\"152.472471\" xlink:href=\"#m58ba99f491\" y=\"72.570344\"/>\n     <use style=\"fill:#1f77b4;stroke:#1f77b4;\" x=\"108.298887\" xlink:href=\"#m58ba99f491\" y=\"54.714439\"/>\n     <use style=\"fill:#1f77b4;stroke:#1f77b4;\" x=\"156.96231\" xlink:href=\"#m58ba99f491\" y=\"80.339696\"/>\n     <use style=\"fill:#1f77b4;stroke:#1f77b4;\" x=\"142.329194\" xlink:href=\"#m58ba99f491\" y=\"91.856342\"/>\n     <use style=\"fill:#1f77b4;stroke:#1f77b4;\" x=\"164.605824\" xlink:href=\"#m58ba99f491\" y=\"93.151791\"/>\n     <use style=\"fill:#1f77b4;stroke:#1f77b4;\" x=\"158.291288\" xlink:href=\"#m58ba99f491\" y=\"78.351763\"/>\n     <use style=\"fill:#1f77b4;stroke:#1f77b4;\" x=\"141.734799\" xlink:href=\"#m58ba99f491\" y=\"89.398214\"/>\n     <use style=\"fill:#1f77b4;stroke:#1f77b4;\" x=\"92.375095\" xlink:href=\"#m58ba99f491\" y=\"51.188864\"/>\n     <use style=\"fill:#1f77b4;stroke:#1f77b4;\" x=\"62.732247\" xlink:href=\"#m58ba99f491\" y=\"36.185526\"/>\n     <use style=\"fill:#1f77b4;stroke:#1f77b4;\" x=\"142.684337\" xlink:href=\"#m58ba99f491\" y=\"74.459356\"/>\n     <use style=\"fill:#1f77b4;stroke:#1f77b4;\" x=\"112.338805\" xlink:href=\"#m58ba99f491\" y=\"73.039018\"/>\n     <use style=\"fill:#1f77b4;stroke:#1f77b4;\" x=\"134.616868\" xlink:href=\"#m58ba99f491\" y=\"61.684058\"/>\n     <use style=\"fill:#1f77b4;stroke:#1f77b4;\" x=\"164.771914\" xlink:href=\"#m58ba99f491\" y=\"84.872162\"/>\n     <use style=\"fill:#1f77b4;stroke:#1f77b4;\" x=\"128.523274\" xlink:href=\"#m58ba99f491\" y=\"81.932301\"/>\n     <use style=\"fill:#1f77b4;stroke:#1f77b4;\" x=\"128.558305\" xlink:href=\"#m58ba99f491\" y=\"84.451631\"/>\n     <use style=\"fill:#1f77b4;stroke:#1f77b4;\" x=\"135.872301\" xlink:href=\"#m58ba99f491\" y=\"78.92993\"/>\n     <use style=\"fill:#1f77b4;stroke:#1f77b4;\" x=\"120.963839\" xlink:href=\"#m58ba99f491\" y=\"55.995527\"/>\n     <use style=\"fill:#1f77b4;stroke:#1f77b4;\" x=\"173.232668\" xlink:href=\"#m58ba99f491\" y=\"97.398399\"/>\n     <use style=\"fill:#1f77b4;stroke:#1f77b4;\" x=\"141.997335\" xlink:href=\"#m58ba99f491\" y=\"86.04487\"/>\n     <use style=\"fill:#1f77b4;stroke:#1f77b4;\" x=\"151.431247\" xlink:href=\"#m58ba99f491\" y=\"82.269661\"/>\n     <use style=\"fill:#1f77b4;stroke:#1f77b4;\" x=\"159.360232\" xlink:href=\"#m58ba99f491\" y=\"79.341463\"/>\n     <use style=\"fill:#1f77b4;stroke:#1f77b4;\" x=\"141.361673\" xlink:href=\"#m58ba99f491\" y=\"77.136602\"/>\n     <use style=\"fill:#1f77b4;stroke:#1f77b4;\" x=\"92.20194\" xlink:href=\"#m58ba99f491\" y=\"39.262126\"/>\n     <use style=\"fill:#1f77b4;stroke:#1f77b4;\" x=\"128.961597\" xlink:href=\"#m58ba99f491\" y=\"64.693191\"/>\n     <use style=\"fill:#1f77b4;stroke:#1f77b4;\" x=\"117.554712\" xlink:href=\"#m58ba99f491\" y=\"61.020159\"/>\n     <use style=\"fill:#1f77b4;stroke:#1f77b4;\" x=\"123.205496\" xlink:href=\"#m58ba99f491\" y=\"64.287124\"/>\n     <use style=\"fill:#1f77b4;stroke:#1f77b4;\" x=\"154.369588\" xlink:href=\"#m58ba99f491\" y=\"89.472973\"/>\n     <use style=\"fill:#1f77b4;stroke:#1f77b4;\" x=\"117.139129\" xlink:href=\"#m58ba99f491\" y=\"62.834319\"/>\n     <use style=\"fill:#1f77b4;stroke:#1f77b4;\" x=\"109.924418\" xlink:href=\"#m58ba99f491\" y=\"45.029006\"/>\n     <use style=\"fill:#1f77b4;stroke:#1f77b4;\" x=\"161.241744\" xlink:href=\"#m58ba99f491\" y=\"100.767684\"/>\n     <use style=\"fill:#1f77b4;stroke:#1f77b4;\" x=\"141.869441\" xlink:href=\"#m58ba99f491\" y=\"84.853915\"/>\n     <use style=\"fill:#1f77b4;stroke:#1f77b4;\" x=\"121.70898\" xlink:href=\"#m58ba99f491\" y=\"56.934755\"/>\n     <use style=\"fill:#1f77b4;stroke:#1f77b4;\" x=\"172.621803\" xlink:href=\"#m58ba99f491\" y=\"85.2237\"/>\n     <use style=\"fill:#1f77b4;stroke:#1f77b4;\" x=\"165.174539\" xlink:href=\"#m58ba99f491\" y=\"87.802184\"/>\n     <use style=\"fill:#1f77b4;stroke:#1f77b4;\" x=\"129.53145\" xlink:href=\"#m58ba99f491\" y=\"65.265863\"/>\n     <use style=\"fill:#1f77b4;stroke:#1f77b4;\" x=\"176.66856\" xlink:href=\"#m58ba99f491\" y=\"97.029224\"/>\n     <use style=\"fill:#1f77b4;stroke:#1f77b4;\" x=\"101.347932\" xlink:href=\"#m58ba99f491\" y=\"51.78803\"/>\n     <use style=\"fill:#1f77b4;stroke:#1f77b4;\" x=\"150.736426\" xlink:href=\"#m58ba99f491\" y=\"84.517668\"/>\n     <use style=\"fill:#1f77b4;stroke:#1f77b4;\" x=\"91.979283\" xlink:href=\"#m58ba99f491\" y=\"51.523449\"/>\n     <use style=\"fill:#1f77b4;stroke:#1f77b4;\" x=\"104.621726\" xlink:href=\"#m58ba99f491\" y=\"56.576492\"/>\n     <use style=\"fill:#1f77b4;stroke:#1f77b4;\" x=\"129.210916\" xlink:href=\"#m58ba99f491\" y=\"82.564606\"/>\n     <use style=\"fill:#1f77b4;stroke:#1f77b4;\" x=\"129.928402\" xlink:href=\"#m58ba99f491\" y=\"55.326527\"/>\n     <use style=\"fill:#1f77b4;stroke:#1f77b4;\" x=\"109.237858\" xlink:href=\"#m58ba99f491\" y=\"61.706913\"/>\n     <use style=\"fill:#1f77b4;stroke:#1f77b4;\" x=\"114.633549\" xlink:href=\"#m58ba99f491\" y=\"60.092134\"/>\n     <use style=\"fill:#1f77b4;stroke:#1f77b4;\" x=\"126.258501\" xlink:href=\"#m58ba99f491\" y=\"57.062418\"/>\n     <use style=\"fill:#1f77b4;stroke:#1f77b4;\" x=\"112.818868\" xlink:href=\"#m58ba99f491\" y=\"64.159347\"/>\n     <use style=\"fill:#1f77b4;stroke:#1f77b4;\" x=\"153.224927\" xlink:href=\"#m58ba99f491\" y=\"62.27136\"/>\n     <use style=\"fill:#1f77b4;stroke:#1f77b4;\" x=\"129.984208\" xlink:href=\"#m58ba99f491\" y=\"64.068282\"/>\n     <use style=\"fill:#1f77b4;stroke:#1f77b4;\" x=\"143.708564\" xlink:href=\"#m58ba99f491\" y=\"72.182537\"/>\n     <use style=\"fill:#1f77b4;stroke:#1f77b4;\" x=\"83.843847\" xlink:href=\"#m58ba99f491\" y=\"36.87166\"/>\n     <use style=\"fill:#1f77b4;stroke:#1f77b4;\" x=\"153.713595\" xlink:href=\"#m58ba99f491\" y=\"97.500435\"/>\n     <use style=\"fill:#1f77b4;stroke:#1f77b4;\" x=\"173.647539\" xlink:href=\"#m58ba99f491\" y=\"115.430708\"/>\n     <use style=\"fill:#1f77b4;stroke:#1f77b4;\" x=\"113.676884\" xlink:href=\"#m58ba99f491\" y=\"55.912189\"/>\n     <use style=\"fill:#1f77b4;stroke:#1f77b4;\" x=\"101.444925\" xlink:href=\"#m58ba99f491\" y=\"47.699005\"/>\n     <use style=\"fill:#1f77b4;stroke:#1f77b4;\" x=\"117.734333\" xlink:href=\"#m58ba99f491\" y=\"41.344525\"/>\n     <use style=\"fill:#1f77b4;stroke:#1f77b4;\" x=\"127.876622\" xlink:href=\"#m58ba99f491\" y=\"60.463677\"/>\n     <use style=\"fill:#1f77b4;stroke:#1f77b4;\" x=\"111.82808\" xlink:href=\"#m58ba99f491\" y=\"73.674247\"/>\n     <use style=\"fill:#1f77b4;stroke:#1f77b4;\" x=\"139.641645\" xlink:href=\"#m58ba99f491\" y=\"71.605624\"/>\n     <use style=\"fill:#1f77b4;stroke:#1f77b4;\" x=\"221.678018\" xlink:href=\"#m58ba99f491\" y=\"136.922727\"/>\n     <use style=\"fill:#1f77b4;stroke:#1f77b4;\" x=\"132.497923\" xlink:href=\"#m58ba99f491\" y=\"67.30429\"/>\n     <use style=\"fill:#1f77b4;stroke:#1f77b4;\" x=\"120.600202\" xlink:href=\"#m58ba99f491\" y=\"65.988634\"/>\n     <use style=\"fill:#1f77b4;stroke:#1f77b4;\" x=\"113.384905\" xlink:href=\"#m58ba99f491\" y=\"72.92601\"/>\n     <use style=\"fill:#1f77b4;stroke:#1f77b4;\" x=\"123.252802\" xlink:href=\"#m58ba99f491\" y=\"56.309836\"/>\n     <use style=\"fill:#1f77b4;stroke:#1f77b4;\" x=\"122.033797\" xlink:href=\"#m58ba99f491\" y=\"70.632231\"/>\n     <use style=\"fill:#1f77b4;stroke:#1f77b4;\" x=\"111.631517\" xlink:href=\"#m58ba99f491\" y=\"59.518014\"/>\n     <use style=\"fill:#1f77b4;stroke:#1f77b4;\" x=\"156.707094\" xlink:href=\"#m58ba99f491\" y=\"84.703515\"/>\n     <use style=\"fill:#1f77b4;stroke:#1f77b4;\" x=\"150.003296\" xlink:href=\"#m58ba99f491\" y=\"72.952249\"/>\n     <use style=\"fill:#1f77b4;stroke:#1f77b4;\" x=\"157.477121\" xlink:href=\"#m58ba99f491\" y=\"92.37115\"/>\n     <use style=\"fill:#1f77b4;stroke:#1f77b4;\" x=\"78.014456\" xlink:href=\"#m58ba99f491\" y=\"23.214567\"/>\n     <use style=\"fill:#1f77b4;stroke:#1f77b4;\" x=\"114.456767\" xlink:href=\"#m58ba99f491\" y=\"47.286188\"/>\n     <use style=\"fill:#1f77b4;stroke:#1f77b4;\" x=\"110.756068\" xlink:href=\"#m58ba99f491\" y=\"52.235995\"/>\n     <use style=\"fill:#1f77b4;stroke:#1f77b4;\" x=\"115.780557\" xlink:href=\"#m58ba99f491\" y=\"65.21275\"/>\n     <use style=\"fill:#1f77b4;stroke:#1f77b4;\" x=\"142.90834\" xlink:href=\"#m58ba99f491\" y=\"93.568942\"/>\n     <use style=\"fill:#1f77b4;stroke:#1f77b4;\" x=\"91.293863\" xlink:href=\"#m58ba99f491\" y=\"56.017306\"/>\n     <use style=\"fill:#1f77b4;stroke:#1f77b4;\" x=\"118.950471\" xlink:href=\"#m58ba99f491\" y=\"69.174354\"/>\n     <use style=\"fill:#1f77b4;stroke:#1f77b4;\" x=\"94.85157\" xlink:href=\"#m58ba99f491\" y=\"46.530353\"/>\n     <use style=\"fill:#1f77b4;stroke:#1f77b4;\" x=\"132.687662\" xlink:href=\"#m58ba99f491\" y=\"69.506328\"/>\n     <use style=\"fill:#1f77b4;stroke:#1f77b4;\" x=\"102.383669\" xlink:href=\"#m58ba99f491\" y=\"47.367492\"/>\n     <use style=\"fill:#1f77b4;stroke:#1f77b4;\" x=\"100.15566\" xlink:href=\"#m58ba99f491\" y=\"50.913922\"/>\n     <use style=\"fill:#1f77b4;stroke:#1f77b4;\" x=\"149.430422\" xlink:href=\"#m58ba99f491\" y=\"83.624076\"/>\n     <use style=\"fill:#1f77b4;stroke:#1f77b4;\" x=\"155.210718\" xlink:href=\"#m58ba99f491\" y=\"69.507447\"/>\n     <use style=\"fill:#1f77b4;stroke:#1f77b4;\" x=\"141.492155\" xlink:href=\"#m58ba99f491\" y=\"92.836974\"/>\n     <use style=\"fill:#1f77b4;stroke:#1f77b4;\" x=\"125.836789\" xlink:href=\"#m58ba99f491\" y=\"68.487593\"/>\n     <use style=\"fill:#1f77b4;stroke:#1f77b4;\" x=\"162.838873\" xlink:href=\"#m58ba99f491\" y=\"91.242053\"/>\n     <use style=\"fill:#1f77b4;stroke:#1f77b4;\" x=\"110.582414\" xlink:href=\"#m58ba99f491\" y=\"47.275503\"/>\n     <use style=\"fill:#1f77b4;stroke:#1f77b4;\" x=\"154.78877\" xlink:href=\"#m58ba99f491\" y=\"90.37188\"/>\n     <use style=\"fill:#1f77b4;stroke:#1f77b4;\" x=\"101.985606\" xlink:href=\"#m58ba99f491\" y=\"60.675989\"/>\n     <use style=\"fill:#1f77b4;stroke:#1f77b4;\" x=\"161.249557\" xlink:href=\"#m58ba99f491\" y=\"95.61667\"/>\n     <use style=\"fill:#1f77b4;stroke:#1f77b4;\" x=\"127.790974\" xlink:href=\"#m58ba99f491\" y=\"61.1735\"/>\n     <use style=\"fill:#1f77b4;stroke:#1f77b4;\" x=\"107.75316\" xlink:href=\"#m58ba99f491\" y=\"55.755504\"/>\n     <use style=\"fill:#1f77b4;stroke:#1f77b4;\" x=\"83.07517\" xlink:href=\"#m58ba99f491\" y=\"55.464298\"/>\n     <use style=\"fill:#1f77b4;stroke:#1f77b4;\" x=\"112.459054\" xlink:href=\"#m58ba99f491\" y=\"56.854744\"/>\n     <use style=\"fill:#1f77b4;stroke:#1f77b4;\" x=\"55.882357\" xlink:href=\"#m58ba99f491\" y=\"23.800453\"/>\n     <use style=\"fill:#1f77b4;stroke:#1f77b4;\" x=\"106.72799\" xlink:href=\"#m58ba99f491\" y=\"58.081645\"/>\n     <use style=\"fill:#1f77b4;stroke:#1f77b4;\" x=\"110.264166\" xlink:href=\"#m58ba99f491\" y=\"46.730794\"/>\n     <use style=\"fill:#1f77b4;stroke:#1f77b4;\" x=\"167.469508\" xlink:href=\"#m58ba99f491\" y=\"88.77122\"/>\n     <use style=\"fill:#1f77b4;stroke:#1f77b4;\" x=\"117.117542\" xlink:href=\"#m58ba99f491\" y=\"67.677146\"/>\n     <use style=\"fill:#1f77b4;stroke:#1f77b4;\" x=\"130.501579\" xlink:href=\"#m58ba99f491\" y=\"64.552786\"/>\n     <use style=\"fill:#1f77b4;stroke:#1f77b4;\" x=\"174.109821\" xlink:href=\"#m58ba99f491\" y=\"110.556767\"/>\n     <use style=\"fill:#1f77b4;stroke:#1f77b4;\" x=\"125.985473\" xlink:href=\"#m58ba99f491\" y=\"85.532203\"/>\n     <use style=\"fill:#1f77b4;stroke:#1f77b4;\" x=\"141.880713\" xlink:href=\"#m58ba99f491\" y=\"72.099121\"/>\n     <use style=\"fill:#1f77b4;stroke:#1f77b4;\" x=\"158.859687\" xlink:href=\"#m58ba99f491\" y=\"92.157909\"/>\n     <use style=\"fill:#1f77b4;stroke:#1f77b4;\" x=\"134.367867\" xlink:href=\"#m58ba99f491\" y=\"71.694349\"/>\n     <use style=\"fill:#1f77b4;stroke:#1f77b4;\" x=\"133.961982\" xlink:href=\"#m58ba99f491\" y=\"77.515852\"/>\n     <use style=\"fill:#1f77b4;stroke:#1f77b4;\" x=\"171.746318\" xlink:href=\"#m58ba99f491\" y=\"86.278025\"/>\n     <use style=\"fill:#1f77b4;stroke:#1f77b4;\" x=\"121.404174\" xlink:href=\"#m58ba99f491\" y=\"47.208597\"/>\n     <use style=\"fill:#1f77b4;stroke:#1f77b4;\" x=\"168.144231\" xlink:href=\"#m58ba99f491\" y=\"95.181027\"/>\n     <use style=\"fill:#1f77b4;stroke:#1f77b4;\" x=\"143.965935\" xlink:href=\"#m58ba99f491\" y=\"70.893298\"/>\n     <use style=\"fill:#1f77b4;stroke:#1f77b4;\" x=\"88.788768\" xlink:href=\"#m58ba99f491\" y=\"61.406585\"/>\n     <use style=\"fill:#1f77b4;stroke:#1f77b4;\" x=\"156.538019\" xlink:href=\"#m58ba99f491\" y=\"91.144826\"/>\n     <use style=\"fill:#1f77b4;stroke:#1f77b4;\" x=\"136.948402\" xlink:href=\"#m58ba99f491\" y=\"71.826004\"/>\n     <use style=\"fill:#1f77b4;stroke:#1f77b4;\" x=\"81.519152\" xlink:href=\"#m58ba99f491\" y=\"32.380817\"/>\n     <use style=\"fill:#1f77b4;stroke:#1f77b4;\" x=\"161.166141\" xlink:href=\"#m58ba99f491\" y=\"95.035493\"/>\n     <use style=\"fill:#1f77b4;stroke:#1f77b4;\" x=\"136.502727\" xlink:href=\"#m58ba99f491\" y=\"49.940673\"/>\n     <use style=\"fill:#1f77b4;stroke:#1f77b4;\" x=\"114.546503\" xlink:href=\"#m58ba99f491\" y=\"77.495534\"/>\n     <use style=\"fill:#1f77b4;stroke:#1f77b4;\" x=\"146.032933\" xlink:href=\"#m58ba99f491\" y=\"88.180443\"/>\n     <use style=\"fill:#1f77b4;stroke:#1f77b4;\" x=\"159.659838\" xlink:href=\"#m58ba99f491\" y=\"95.022211\"/>\n     <use style=\"fill:#1f77b4;stroke:#1f77b4;\" x=\"76.654333\" xlink:href=\"#m58ba99f491\" y=\"47.561521\"/>\n     <use style=\"fill:#1f77b4;stroke:#1f77b4;\" x=\"153.836357\" xlink:href=\"#m58ba99f491\" y=\"101.716711\"/>\n     <use style=\"fill:#1f77b4;stroke:#1f77b4;\" x=\"109.18314\" xlink:href=\"#m58ba99f491\" y=\"49.627333\"/>\n     <use style=\"fill:#1f77b4;stroke:#1f77b4;\" x=\"90.962428\" xlink:href=\"#m58ba99f491\" y=\"44.627713\"/>\n     <use style=\"fill:#1f77b4;stroke:#1f77b4;\" x=\"164.595112\" xlink:href=\"#m58ba99f491\" y=\"97.680191\"/>\n     <use style=\"fill:#1f77b4;stroke:#1f77b4;\" x=\"139.092894\" xlink:href=\"#m58ba99f491\" y=\"79.242478\"/>\n     <use style=\"fill:#1f77b4;stroke:#1f77b4;\" x=\"119.456403\" xlink:href=\"#m58ba99f491\" y=\"64.725986\"/>\n     <use style=\"fill:#1f77b4;stroke:#1f77b4;\" x=\"125.326063\" xlink:href=\"#m58ba99f491\" y=\"65.07811\"/>\n     <use style=\"fill:#1f77b4;stroke:#1f77b4;\" x=\"95.156221\" xlink:href=\"#m58ba99f491\" y=\"55.228436\"/>\n     <use style=\"fill:#1f77b4;stroke:#1f77b4;\" x=\"122.647692\" xlink:href=\"#m58ba99f491\" y=\"67.626787\"/>\n     <use style=\"fill:#1f77b4;stroke:#1f77b4;\" x=\"114.114514\" xlink:href=\"#m58ba99f491\" y=\"64.621018\"/>\n     <use style=\"fill:#1f77b4;stroke:#1f77b4;\" x=\"148.667047\" xlink:href=\"#m58ba99f491\" y=\"93.970873\"/>\n     <use style=\"fill:#1f77b4;stroke:#1f77b4;\" x=\"117.407048\" xlink:href=\"#m58ba99f491\" y=\"74.651008\"/>\n     <use style=\"fill:#1f77b4;stroke:#1f77b4;\" x=\"163.029996\" xlink:href=\"#m58ba99f491\" y=\"77.678783\"/>\n     <use style=\"fill:#1f77b4;stroke:#1f77b4;\" x=\"111.397519\" xlink:href=\"#m58ba99f491\" y=\"43.829652\"/>\n     <use style=\"fill:#1f77b4;stroke:#1f77b4;\" x=\"130.012477\" xlink:href=\"#m58ba99f491\" y=\"83.148002\"/>\n     <use style=\"fill:#1f77b4;stroke:#1f77b4;\" x=\"127.84147\" xlink:href=\"#m58ba99f491\" y=\"81.078301\"/>\n     <use style=\"fill:#1f77b4;stroke:#1f77b4;\" x=\"111.953144\" xlink:href=\"#m58ba99f491\" y=\"66.26113\"/>\n     <use style=\"fill:#1f77b4;stroke:#1f77b4;\" x=\"108.818202\" xlink:href=\"#m58ba99f491\" y=\"54.884895\"/>\n     <use style=\"fill:#1f77b4;stroke:#1f77b4;\" x=\"90.34915\" xlink:href=\"#m58ba99f491\" y=\"45.047398\"/>\n     <use style=\"fill:#1f77b4;stroke:#1f77b4;\" x=\"106.563138\" xlink:href=\"#m58ba99f491\" y=\"57.942731\"/>\n     <use style=\"fill:#1f77b4;stroke:#1f77b4;\" x=\"79.226012\" xlink:href=\"#m58ba99f491\" y=\"58.597993\"/>\n     <use style=\"fill:#1f77b4;stroke:#1f77b4;\" x=\"135.172916\" xlink:href=\"#m58ba99f491\" y=\"69.66326\"/>\n     <use style=\"fill:#1f77b4;stroke:#1f77b4;\" x=\"116.361228\" xlink:href=\"#m58ba99f491\" y=\"65.402734\"/>\n     <use style=\"fill:#1f77b4;stroke:#1f77b4;\" x=\"136.318119\" xlink:href=\"#m58ba99f491\" y=\"73.327124\"/>\n     <use style=\"fill:#1f77b4;stroke:#1f77b4;\" x=\"133.496813\" xlink:href=\"#m58ba99f491\" y=\"61.654244\"/>\n     <use style=\"fill:#1f77b4;stroke:#1f77b4;\" x=\"115.663803\" xlink:href=\"#m58ba99f491\" y=\"72.142439\"/>\n     <use style=\"fill:#1f77b4;stroke:#1f77b4;\" x=\"141.682673\" xlink:href=\"#m58ba99f491\" y=\"81.31961\"/>\n     <use style=\"fill:#1f77b4;stroke:#1f77b4;\" x=\"145.583564\" xlink:href=\"#m58ba99f491\" y=\"82.1899\"/>\n     <use style=\"fill:#1f77b4;stroke:#1f77b4;\" x=\"154.123232\" xlink:href=\"#m58ba99f491\" y=\"97.446299\"/>\n     <use style=\"fill:#1f77b4;stroke:#1f77b4;\" x=\"107.963595\" xlink:href=\"#m58ba99f491\" y=\"56.078537\"/>\n     <use style=\"fill:#1f77b4;stroke:#1f77b4;\" x=\"123.236385\" xlink:href=\"#m58ba99f491\" y=\"77.44197\"/>\n     <use style=\"fill:#1f77b4;stroke:#1f77b4;\" x=\"61.091964\" xlink:href=\"#m58ba99f491\" y=\"23.210645\"/>\n     <use style=\"fill:#1f77b4;stroke:#1f77b4;\" x=\"123.29818\" xlink:href=\"#m58ba99f491\" y=\"71.070165\"/>\n     <use style=\"fill:#1f77b4;stroke:#1f77b4;\" x=\"130.821384\" xlink:href=\"#m58ba99f491\" y=\"43.9284\"/>\n     <use style=\"fill:#1f77b4;stroke:#1f77b4;\" x=\"156.579558\" xlink:href=\"#m58ba99f491\" y=\"87.009777\"/>\n     <use style=\"fill:#1f77b4;stroke:#1f77b4;\" x=\"117.329971\" xlink:href=\"#m58ba99f491\" y=\"55.325412\"/>\n     <use style=\"fill:#1f77b4;stroke:#1f77b4;\" x=\"172.380374\" xlink:href=\"#m58ba99f491\" y=\"89.967477\"/>\n     <use style=\"fill:#1f77b4;stroke:#1f77b4;\" x=\"193.07177\" xlink:href=\"#m58ba99f491\" y=\"97.224476\"/>\n     <use style=\"fill:#1f77b4;stroke:#1f77b4;\" x=\"121.635425\" xlink:href=\"#m58ba99f491\" y=\"53.576143\"/>\n     <use style=\"fill:#1f77b4;stroke:#1f77b4;\" x=\"111.310345\" xlink:href=\"#m58ba99f491\" y=\"53.323462\"/>\n     <use style=\"fill:#1f77b4;stroke:#1f77b4;\" x=\"120.463004\" xlink:href=\"#m58ba99f491\" y=\"74.620819\"/>\n     <use style=\"fill:#1f77b4;stroke:#1f77b4;\" x=\"119.424455\" xlink:href=\"#m58ba99f491\" y=\"54.938341\"/>\n     <use style=\"fill:#1f77b4;stroke:#1f77b4;\" x=\"122.816718\" xlink:href=\"#m58ba99f491\" y=\"65.038579\"/>\n     <use style=\"fill:#1f77b4;stroke:#1f77b4;\" x=\"172.463781\" xlink:href=\"#m58ba99f491\" y=\"110.320884\"/>\n     <use style=\"fill:#1f77b4;stroke:#1f77b4;\" x=\"139.809493\" xlink:href=\"#m58ba99f491\" y=\"79.343951\"/>\n     <use style=\"fill:#1f77b4;stroke:#1f77b4;\" x=\"125.757075\" xlink:href=\"#m58ba99f491\" y=\"71.091329\"/>\n     <use style=\"fill:#1f77b4;stroke:#1f77b4;\" x=\"149.304372\" xlink:href=\"#m58ba99f491\" y=\"78.325286\"/>\n     <use style=\"fill:#1f77b4;stroke:#1f77b4;\" x=\"132.429601\" xlink:href=\"#m58ba99f491\" y=\"66.04021\"/>\n     <use style=\"fill:#1f77b4;stroke:#1f77b4;\" x=\"136.738523\" xlink:href=\"#m58ba99f491\" y=\"71.848616\"/>\n     <use style=\"fill:#1f77b4;stroke:#1f77b4;\" x=\"121.58864\" xlink:href=\"#m58ba99f491\" y=\"67.463318\"/>\n     <use style=\"fill:#1f77b4;stroke:#1f77b4;\" x=\"145.309735\" xlink:href=\"#m58ba99f491\" y=\"61.342875\"/>\n     <use style=\"fill:#1f77b4;stroke:#1f77b4;\" x=\"95.375662\" xlink:href=\"#m58ba99f491\" y=\"55.42428\"/>\n     <use style=\"fill:#1f77b4;stroke:#1f77b4;\" x=\"162.34803\" xlink:href=\"#m58ba99f491\" y=\"76.243573\"/>\n     <use style=\"fill:#1f77b4;stroke:#1f77b4;\" x=\"108.334152\" xlink:href=\"#m58ba99f491\" y=\"61.627607\"/>\n     <use style=\"fill:#1f77b4;stroke:#1f77b4;\" x=\"168.677836\" xlink:href=\"#m58ba99f491\" y=\"94.554009\"/>\n     <use style=\"fill:#1f77b4;stroke:#1f77b4;\" x=\"112.968113\" xlink:href=\"#m58ba99f491\" y=\"63.741055\"/>\n     <use style=\"fill:#1f77b4;stroke:#1f77b4;\" x=\"82.42469\" xlink:href=\"#m58ba99f491\" y=\"32.908977\"/>\n     <use style=\"fill:#1f77b4;stroke:#1f77b4;\" x=\"142.33276\" xlink:href=\"#m58ba99f491\" y=\"98.364561\"/>\n     <use style=\"fill:#1f77b4;stroke:#1f77b4;\" x=\"92.429182\" xlink:href=\"#m58ba99f491\" y=\"43.232575\"/>\n     <use style=\"fill:#1f77b4;stroke:#1f77b4;\" x=\"115.685935\" xlink:href=\"#m58ba99f491\" y=\"62.315715\"/>\n     <use style=\"fill:#1f77b4;stroke:#1f77b4;\" x=\"110.454306\" xlink:href=\"#m58ba99f491\" y=\"69.261133\"/>\n     <use style=\"fill:#1f77b4;stroke:#1f77b4;\" x=\"153.76175\" xlink:href=\"#m58ba99f491\" y=\"64.915634\"/>\n     <use style=\"fill:#1f77b4;stroke:#1f77b4;\" x=\"126.079253\" xlink:href=\"#m58ba99f491\" y=\"81.455979\"/>\n     <use style=\"fill:#1f77b4;stroke:#1f77b4;\" x=\"139.803532\" xlink:href=\"#m58ba99f491\" y=\"65.258238\"/>\n     <use style=\"fill:#1f77b4;stroke:#1f77b4;\" x=\"132.507885\" xlink:href=\"#m58ba99f491\" y=\"74.539098\"/>\n     <use style=\"fill:#1f77b4;stroke:#1f77b4;\" x=\"120.709413\" xlink:href=\"#m58ba99f491\" y=\"78.163112\"/>\n     <use style=\"fill:#1f77b4;stroke:#1f77b4;\" x=\"135.74953\" xlink:href=\"#m58ba99f491\" y=\"83.68497\"/>\n     <use style=\"fill:#1f77b4;stroke:#1f77b4;\" x=\"101.792862\" xlink:href=\"#m58ba99f491\" y=\"37.355423\"/>\n     <use style=\"fill:#1f77b4;stroke:#1f77b4;\" x=\"143.967419\" xlink:href=\"#m58ba99f491\" y=\"77.583225\"/>\n     <use style=\"fill:#1f77b4;stroke:#1f77b4;\" x=\"157.576638\" xlink:href=\"#m58ba99f491\" y=\"87.491753\"/>\n     <use style=\"fill:#1f77b4;stroke:#1f77b4;\" x=\"86.253717\" xlink:href=\"#m58ba99f491\" y=\"41.217685\"/>\n     <use style=\"fill:#1f77b4;stroke:#1f77b4;\" x=\"123.815199\" xlink:href=\"#m58ba99f491\" y=\"85.504899\"/>\n     <use style=\"fill:#1f77b4;stroke:#1f77b4;\" x=\"95.104491\" xlink:href=\"#m58ba99f491\" y=\"66.512532\"/>\n     <use style=\"fill:#1f77b4;stroke:#1f77b4;\" x=\"118.260764\" xlink:href=\"#m58ba99f491\" y=\"74.928663\"/>\n     <use style=\"fill:#1f77b4;stroke:#1f77b4;\" x=\"126.350177\" xlink:href=\"#m58ba99f491\" y=\"72.263693\"/>\n     <use style=\"fill:#1f77b4;stroke:#1f77b4;\" x=\"138.217929\" xlink:href=\"#m58ba99f491\" y=\"63.596521\"/>\n     <use style=\"fill:#1f77b4;stroke:#1f77b4;\" x=\"121.761078\" xlink:href=\"#m58ba99f491\" y=\"59.784418\"/>\n     <use style=\"fill:#1f77b4;stroke:#1f77b4;\" x=\"175.911306\" xlink:href=\"#m58ba99f491\" y=\"101.433595\"/>\n     <use style=\"fill:#1f77b4;stroke:#1f77b4;\" x=\"102.472324\" xlink:href=\"#m58ba99f491\" y=\"41.261962\"/>\n     <use style=\"fill:#1f77b4;stroke:#1f77b4;\" x=\"131.119572\" xlink:href=\"#m58ba99f491\" y=\"82.867508\"/>\n     <use style=\"fill:#1f77b4;stroke:#1f77b4;\" x=\"94.612112\" xlink:href=\"#m58ba99f491\" y=\"42.184213\"/>\n     <use style=\"fill:#1f77b4;stroke:#1f77b4;\" x=\"113.823687\" xlink:href=\"#m58ba99f491\" y=\"58.346135\"/>\n     <use style=\"fill:#1f77b4;stroke:#1f77b4;\" x=\"101.555662\" xlink:href=\"#m58ba99f491\" y=\"65.246087\"/>\n     <use style=\"fill:#1f77b4;stroke:#1f77b4;\" x=\"131.114098\" xlink:href=\"#m58ba99f491\" y=\"64.580788\"/>\n     <use style=\"fill:#1f77b4;stroke:#1f77b4;\" x=\"130.537148\" xlink:href=\"#m58ba99f491\" y=\"52.487171\"/>\n     <use style=\"fill:#1f77b4;stroke:#1f77b4;\" x=\"151.254957\" xlink:href=\"#m58ba99f491\" y=\"87.577935\"/>\n     <use style=\"fill:#1f77b4;stroke:#1f77b4;\" x=\"147.981955\" xlink:href=\"#m58ba99f491\" y=\"80.947705\"/>\n     <use style=\"fill:#1f77b4;stroke:#1f77b4;\" x=\"116.289995\" xlink:href=\"#m58ba99f491\" y=\"61.26934\"/>\n     <use style=\"fill:#1f77b4;stroke:#1f77b4;\" x=\"75.266466\" xlink:href=\"#m58ba99f491\" y=\"47.706457\"/>\n     <use style=\"fill:#1f77b4;stroke:#1f77b4;\" x=\"44.18196\" xlink:href=\"#m58ba99f491\" y=\"17.077241\"/>\n     <use style=\"fill:#1f77b4;stroke:#1f77b4;\" x=\"151.464388\" xlink:href=\"#m58ba99f491\" y=\"74.959749\"/>\n     <use style=\"fill:#1f77b4;stroke:#1f77b4;\" x=\"95.746802\" xlink:href=\"#m58ba99f491\" y=\"35.633255\"/>\n     <use style=\"fill:#1f77b4;stroke:#1f77b4;\" x=\"126.094403\" xlink:href=\"#m58ba99f491\" y=\"60.425483\"/>\n     <use style=\"fill:#1f77b4;stroke:#1f77b4;\" x=\"120.672575\" xlink:href=\"#m58ba99f491\" y=\"46.291079\"/>\n     <use style=\"fill:#1f77b4;stroke:#1f77b4;\" x=\"74.313479\" xlink:href=\"#m58ba99f491\" y=\"29.292223\"/>\n     <use style=\"fill:#1f77b4;stroke:#1f77b4;\" x=\"129.137626\" xlink:href=\"#m58ba99f491\" y=\"78.359414\"/>\n     <use style=\"fill:#1f77b4;stroke:#1f77b4;\" x=\"156.239969\" xlink:href=\"#m58ba99f491\" y=\"75.197482\"/>\n     <use style=\"fill:#1f77b4;stroke:#1f77b4;\" x=\"162.463225\" xlink:href=\"#m58ba99f491\" y=\"91.432421\"/>\n     <use style=\"fill:#1f77b4;stroke:#1f77b4;\" x=\"145.983683\" xlink:href=\"#m58ba99f491\" y=\"80.866429\"/>\n     <use style=\"fill:#1f77b4;stroke:#1f77b4;\" x=\"117.750691\" xlink:href=\"#m58ba99f491\" y=\"69.06801\"/>\n     <use style=\"fill:#1f77b4;stroke:#1f77b4;\" x=\"130.868663\" xlink:href=\"#m58ba99f491\" y=\"70.825546\"/>\n     <use style=\"fill:#1f77b4;stroke:#1f77b4;\" x=\"86.275071\" xlink:href=\"#m58ba99f491\" y=\"59.014007\"/>\n     <use style=\"fill:#1f77b4;stroke:#1f77b4;\" x=\"128.593297\" xlink:href=\"#m58ba99f491\" y=\"70.761695\"/>\n     <use style=\"fill:#1f77b4;stroke:#1f77b4;\" x=\"110.239186\" xlink:href=\"#m58ba99f491\" y=\"40.854162\"/>\n     <use style=\"fill:#1f77b4;stroke:#1f77b4;\" x=\"154.524553\" xlink:href=\"#m58ba99f491\" y=\"79.165733\"/>\n     <use style=\"fill:#1f77b4;stroke:#1f77b4;\" x=\"119.940158\" xlink:href=\"#m58ba99f491\" y=\"64.036919\"/>\n     <use style=\"fill:#1f77b4;stroke:#1f77b4;\" x=\"183.870779\" xlink:href=\"#m58ba99f491\" y=\"105.757481\"/>\n     <use style=\"fill:#1f77b4;stroke:#1f77b4;\" x=\"132.810411\" xlink:href=\"#m58ba99f491\" y=\"70.162544\"/>\n     <use style=\"fill:#1f77b4;stroke:#1f77b4;\" x=\"121.1023\" xlink:href=\"#m58ba99f491\" y=\"66.509868\"/>\n     <use style=\"fill:#1f77b4;stroke:#1f77b4;\" x=\"129.182713\" xlink:href=\"#m58ba99f491\" y=\"62.848395\"/>\n     <use style=\"fill:#1f77b4;stroke:#1f77b4;\" x=\"123.641473\" xlink:href=\"#m58ba99f491\" y=\"41.720876\"/>\n     <use style=\"fill:#1f77b4;stroke:#1f77b4;\" x=\"128.236876\" xlink:href=\"#m58ba99f491\" y=\"61.43376\"/>\n     <use style=\"fill:#1f77b4;stroke:#1f77b4;\" x=\"142.204959\" xlink:href=\"#m58ba99f491\" y=\"98.047067\"/>\n     <use style=\"fill:#1f77b4;stroke:#1f77b4;\" x=\"166.683771\" xlink:href=\"#m58ba99f491\" y=\"85.811001\"/>\n     <use style=\"fill:#1f77b4;stroke:#1f77b4;\" x=\"138.955114\" xlink:href=\"#m58ba99f491\" y=\"63.728779\"/>\n     <use style=\"fill:#1f77b4;stroke:#1f77b4;\" x=\"88.597965\" xlink:href=\"#m58ba99f491\" y=\"47.652356\"/>\n     <use style=\"fill:#1f77b4;stroke:#1f77b4;\" x=\"92.136109\" xlink:href=\"#m58ba99f491\" y=\"50.154221\"/>\n     <use style=\"fill:#1f77b4;stroke:#1f77b4;\" x=\"122.407309\" xlink:href=\"#m58ba99f491\" y=\"55.660113\"/>\n     <use style=\"fill:#1f77b4;stroke:#1f77b4;\" x=\"138.180194\" xlink:href=\"#m58ba99f491\" y=\"84.834907\"/>\n     <use style=\"fill:#1f77b4;stroke:#1f77b4;\" x=\"97.643255\" xlink:href=\"#m58ba99f491\" y=\"45.875531\"/>\n     <use style=\"fill:#1f77b4;stroke:#1f77b4;\" x=\"151.106911\" xlink:href=\"#m58ba99f491\" y=\"69.680317\"/>\n     <use style=\"fill:#1f77b4;stroke:#1f77b4;\" x=\"146.008027\" xlink:href=\"#m58ba99f491\" y=\"73.119449\"/>\n     <use style=\"fill:#1f77b4;stroke:#1f77b4;\" x=\"126.756376\" xlink:href=\"#m58ba99f491\" y=\"59.982636\"/>\n     <use style=\"fill:#1f77b4;stroke:#1f77b4;\" x=\"118.176769\" xlink:href=\"#m58ba99f491\" y=\"57.533946\"/>\n     <use style=\"fill:#1f77b4;stroke:#1f77b4;\" x=\"119.116873\" xlink:href=\"#m58ba99f491\" y=\"74.549632\"/>\n     <use style=\"fill:#1f77b4;stroke:#1f77b4;\" x=\"82.845867\" xlink:href=\"#m58ba99f491\" y=\"30.442625\"/>\n     <use style=\"fill:#1f77b4;stroke:#1f77b4;\" x=\"139.128312\" xlink:href=\"#m58ba99f491\" y=\"69.885853\"/>\n     <use style=\"fill:#1f77b4;stroke:#1f77b4;\" x=\"130.028038\" xlink:href=\"#m58ba99f491\" y=\"65.322641\"/>\n     <use style=\"fill:#1f77b4;stroke:#1f77b4;\" x=\"158.346354\" xlink:href=\"#m58ba99f491\" y=\"98.624061\"/>\n     <use style=\"fill:#1f77b4;stroke:#1f77b4;\" x=\"116.78685\" xlink:href=\"#m58ba99f491\" y=\"55.51623\"/>\n     <use style=\"fill:#1f77b4;stroke:#1f77b4;\" x=\"108.933092\" xlink:href=\"#m58ba99f491\" y=\"50.991413\"/>\n     <use style=\"fill:#1f77b4;stroke:#1f77b4;\" x=\"145.730757\" xlink:href=\"#m58ba99f491\" y=\"79.661178\"/>\n     <use style=\"fill:#1f77b4;stroke:#1f77b4;\" x=\"90.688209\" xlink:href=\"#m58ba99f491\" y=\"54.102939\"/>\n     <use style=\"fill:#1f77b4;stroke:#1f77b4;\" x=\"66.77703\" xlink:href=\"#m58ba99f491\" y=\"33.273389\"/>\n     <use style=\"fill:#1f77b4;stroke:#1f77b4;\" x=\"140.687462\" xlink:href=\"#m58ba99f491\" y=\"83.351882\"/>\n     <use style=\"fill:#1f77b4;stroke:#1f77b4;\" x=\"135.235492\" xlink:href=\"#m58ba99f491\" y=\"74.059549\"/>\n     <use style=\"fill:#1f77b4;stroke:#1f77b4;\" x=\"168.998649\" xlink:href=\"#m58ba99f491\" y=\"84.580955\"/>\n     <use style=\"fill:#1f77b4;stroke:#1f77b4;\" x=\"124.20749\" xlink:href=\"#m58ba99f491\" y=\"62.72274\"/>\n     <use style=\"fill:#1f77b4;stroke:#1f77b4;\" x=\"119.080494\" xlink:href=\"#m58ba99f491\" y=\"56.694145\"/>\n     <use style=\"fill:#1f77b4;stroke:#1f77b4;\" x=\"161.959179\" xlink:href=\"#m58ba99f491\" y=\"93.655803\"/>\n     <use style=\"fill:#1f77b4;stroke:#1f77b4;\" x=\"149.99031\" xlink:href=\"#m58ba99f491\" y=\"73.504281\"/>\n     <use style=\"fill:#1f77b4;stroke:#1f77b4;\" x=\"122.656338\" xlink:href=\"#m58ba99f491\" y=\"73.679797\"/>\n     <use style=\"fill:#1f77b4;stroke:#1f77b4;\" x=\"135.974545\" xlink:href=\"#m58ba99f491\" y=\"75.662576\"/>\n     <use style=\"fill:#1f77b4;stroke:#1f77b4;\" x=\"165.668881\" xlink:href=\"#m58ba99f491\" y=\"79.808095\"/>\n     <use style=\"fill:#1f77b4;stroke:#1f77b4;\" x=\"99.485531\" xlink:href=\"#m58ba99f491\" y=\"37.146431\"/>\n     <use style=\"fill:#1f77b4;stroke:#1f77b4;\" x=\"148.744683\" xlink:href=\"#m58ba99f491\" y=\"87.018475\"/>\n     <use style=\"fill:#1f77b4;stroke:#1f77b4;\" x=\"102.804177\" xlink:href=\"#m58ba99f491\" y=\"42.67879\"/>\n     <use style=\"fill:#1f77b4;stroke:#1f77b4;\" x=\"71.913053\" xlink:href=\"#m58ba99f491\" y=\"38.776876\"/>\n     <use style=\"fill:#1f77b4;stroke:#1f77b4;\" x=\"136.790366\" xlink:href=\"#m58ba99f491\" y=\"78.159909\"/>\n     <use style=\"fill:#1f77b4;stroke:#1f77b4;\" x=\"135.452312\" xlink:href=\"#m58ba99f491\" y=\"68.067311\"/>\n     <use style=\"fill:#1f77b4;stroke:#1f77b4;\" x=\"131.53787\" xlink:href=\"#m58ba99f491\" y=\"76.542631\"/>\n     <use style=\"fill:#1f77b4;stroke:#1f77b4;\" x=\"93.059026\" xlink:href=\"#m58ba99f491\" y=\"58.710684\"/>\n     <use style=\"fill:#1f77b4;stroke:#1f77b4;\" x=\"80.852161\" xlink:href=\"#m58ba99f491\" y=\"45.987198\"/>\n     <use style=\"fill:#1f77b4;stroke:#1f77b4;\" x=\"116.536103\" xlink:href=\"#m58ba99f491\" y=\"68.131677\"/>\n     <use style=\"fill:#1f77b4;stroke:#1f77b4;\" x=\"118.241633\" xlink:href=\"#m58ba99f491\" y=\"67.068325\"/>\n     <use style=\"fill:#1f77b4;stroke:#1f77b4;\" x=\"155.648954\" xlink:href=\"#m58ba99f491\" y=\"82.570321\"/>\n     <use style=\"fill:#1f77b4;stroke:#1f77b4;\" x=\"152.084562\" xlink:href=\"#m58ba99f491\" y=\"84.583217\"/>\n     <use style=\"fill:#1f77b4;stroke:#1f77b4;\" x=\"136.7732\" xlink:href=\"#m58ba99f491\" y=\"85.483366\"/>\n     <use style=\"fill:#1f77b4;stroke:#1f77b4;\" x=\"130.478645\" xlink:href=\"#m58ba99f491\" y=\"77.631221\"/>\n     <use style=\"fill:#1f77b4;stroke:#1f77b4;\" x=\"92.215957\" xlink:href=\"#m58ba99f491\" y=\"44.854883\"/>\n     <use style=\"fill:#1f77b4;stroke:#1f77b4;\" x=\"119.494164\" xlink:href=\"#m58ba99f491\" y=\"58.804851\"/>\n     <use style=\"fill:#1f77b4;stroke:#1f77b4;\" x=\"139.44874\" xlink:href=\"#m58ba99f491\" y=\"64.420022\"/>\n     <use style=\"fill:#1f77b4;stroke:#1f77b4;\" x=\"132.885029\" xlink:href=\"#m58ba99f491\" y=\"82.853288\"/>\n     <use style=\"fill:#1f77b4;stroke:#1f77b4;\" x=\"112.687843\" xlink:href=\"#m58ba99f491\" y=\"53.430085\"/>\n     <use style=\"fill:#1f77b4;stroke:#1f77b4;\" x=\"88.460343\" xlink:href=\"#m58ba99f491\" y=\"57.771938\"/>\n     <use style=\"fill:#1f77b4;stroke:#1f77b4;\" x=\"163.334037\" xlink:href=\"#m58ba99f491\" y=\"91.604754\"/>\n     <use style=\"fill:#1f77b4;stroke:#1f77b4;\" x=\"173.306521\" xlink:href=\"#m58ba99f491\" y=\"110.674759\"/>\n     <use style=\"fill:#1f77b4;stroke:#1f77b4;\" x=\"112.633352\" xlink:href=\"#m58ba99f491\" y=\"64.18225\"/>\n     <use style=\"fill:#1f77b4;stroke:#1f77b4;\" x=\"119.069763\" xlink:href=\"#m58ba99f491\" y=\"69.203954\"/>\n     <use style=\"fill:#1f77b4;stroke:#1f77b4;\" x=\"107.165774\" xlink:href=\"#m58ba99f491\" y=\"54.645606\"/>\n     <use style=\"fill:#1f77b4;stroke:#1f77b4;\" x=\"145.569333\" xlink:href=\"#m58ba99f491\" y=\"84.772148\"/>\n     <use style=\"fill:#1f77b4;stroke:#1f77b4;\" x=\"104.381432\" xlink:href=\"#m58ba99f491\" y=\"47.668728\"/>\n     <use style=\"fill:#1f77b4;stroke:#1f77b4;\" x=\"125.485897\" xlink:href=\"#m58ba99f491\" y=\"73.138706\"/>\n     <use style=\"fill:#1f77b4;stroke:#1f77b4;\" x=\"70.238413\" xlink:href=\"#m58ba99f491\" y=\"42.232778\"/>\n     <use style=\"fill:#1f77b4;stroke:#1f77b4;\" x=\"135.691679\" xlink:href=\"#m58ba99f491\" y=\"81.480477\"/>\n     <use style=\"fill:#1f77b4;stroke:#1f77b4;\" x=\"168.284719\" xlink:href=\"#m58ba99f491\" y=\"89.731621\"/>\n     <use style=\"fill:#1f77b4;stroke:#1f77b4;\" x=\"95.309126\" xlink:href=\"#m58ba99f491\" y=\"53.229866\"/>\n     <use style=\"fill:#1f77b4;stroke:#1f77b4;\" x=\"142.297682\" xlink:href=\"#m58ba99f491\" y=\"70.103357\"/>\n     <use style=\"fill:#1f77b4;stroke:#1f77b4;\" x=\"135.204936\" xlink:href=\"#m58ba99f491\" y=\"66.030455\"/>\n     <use style=\"fill:#1f77b4;stroke:#1f77b4;\" x=\"134.612149\" xlink:href=\"#m58ba99f491\" y=\"84.575476\"/>\n     <use style=\"fill:#1f77b4;stroke:#1f77b4;\" x=\"130.832131\" xlink:href=\"#m58ba99f491\" y=\"85.138181\"/>\n     <use style=\"fill:#1f77b4;stroke:#1f77b4;\" x=\"171.185551\" xlink:href=\"#m58ba99f491\" y=\"102.681597\"/>\n     <use style=\"fill:#1f77b4;stroke:#1f77b4;\" x=\"120.010424\" xlink:href=\"#m58ba99f491\" y=\"53.723956\"/>\n     <use style=\"fill:#1f77b4;stroke:#1f77b4;\" x=\"119.502915\" xlink:href=\"#m58ba99f491\" y=\"64.944566\"/>\n     <use style=\"fill:#1f77b4;stroke:#1f77b4;\" x=\"118.372212\" xlink:href=\"#m58ba99f491\" y=\"63.00277\"/>\n     <use style=\"fill:#1f77b4;stroke:#1f77b4;\" x=\"120.61109\" xlink:href=\"#m58ba99f491\" y=\"61.315576\"/>\n     <use style=\"fill:#1f77b4;stroke:#1f77b4;\" x=\"144.043014\" xlink:href=\"#m58ba99f491\" y=\"85.062675\"/>\n     <use style=\"fill:#1f77b4;stroke:#1f77b4;\" x=\"115.310999\" xlink:href=\"#m58ba99f491\" y=\"73.303926\"/>\n     <use style=\"fill:#1f77b4;stroke:#1f77b4;\" x=\"112.460928\" xlink:href=\"#m58ba99f491\" y=\"57.910484\"/>\n     <use style=\"fill:#1f77b4;stroke:#1f77b4;\" x=\"138.840572\" xlink:href=\"#m58ba99f491\" y=\"60.444712\"/>\n     <use style=\"fill:#1f77b4;stroke:#1f77b4;\" x=\"125.160124\" xlink:href=\"#m58ba99f491\" y=\"71.928787\"/>\n     <use style=\"fill:#1f77b4;stroke:#1f77b4;\" x=\"115.602935\" xlink:href=\"#m58ba99f491\" y=\"62.940431\"/>\n     <use style=\"fill:#1f77b4;stroke:#1f77b4;\" x=\"145.252288\" xlink:href=\"#m58ba99f491\" y=\"74.729063\"/>\n     <use style=\"fill:#1f77b4;stroke:#1f77b4;\" x=\"117.009152\" xlink:href=\"#m58ba99f491\" y=\"59.15197\"/>\n     <use style=\"fill:#1f77b4;stroke:#1f77b4;\" x=\"110.338623\" xlink:href=\"#m58ba99f491\" y=\"68.150993\"/>\n     <use style=\"fill:#1f77b4;stroke:#1f77b4;\" x=\"119.111278\" xlink:href=\"#m58ba99f491\" y=\"71.829491\"/>\n     <use style=\"fill:#1f77b4;stroke:#1f77b4;\" x=\"126.419642\" xlink:href=\"#m58ba99f491\" y=\"75.794828\"/>\n     <use style=\"fill:#1f77b4;stroke:#1f77b4;\" x=\"82.790906\" xlink:href=\"#m58ba99f491\" y=\"21.233392\"/>\n     <use style=\"fill:#1f77b4;stroke:#1f77b4;\" x=\"109.599163\" xlink:href=\"#m58ba99f491\" y=\"53.854458\"/>\n     <use style=\"fill:#1f77b4;stroke:#1f77b4;\" x=\"119.773027\" xlink:href=\"#m58ba99f491\" y=\"48.786764\"/>\n     <use style=\"fill:#1f77b4;stroke:#1f77b4;\" x=\"128.239115\" xlink:href=\"#m58ba99f491\" y=\"72.821532\"/>\n     <use style=\"fill:#1f77b4;stroke:#1f77b4;\" x=\"166.587792\" xlink:href=\"#m58ba99f491\" y=\"82.440836\"/>\n     <use style=\"fill:#1f77b4;stroke:#1f77b4;\" x=\"144.517819\" xlink:href=\"#m58ba99f491\" y=\"77.896306\"/>\n     <use style=\"fill:#1f77b4;stroke:#1f77b4;\" x=\"176.967654\" xlink:href=\"#m58ba99f491\" y=\"103.39913\"/>\n     <use style=\"fill:#1f77b4;stroke:#1f77b4;\" x=\"143.922745\" xlink:href=\"#m58ba99f491\" y=\"97.209354\"/>\n     <use style=\"fill:#1f77b4;stroke:#1f77b4;\" x=\"133.407721\" xlink:href=\"#m58ba99f491\" y=\"80.002369\"/>\n     <use style=\"fill:#1f77b4;stroke:#1f77b4;\" x=\"96.65307\" xlink:href=\"#m58ba99f491\" y=\"63.957289\"/>\n     <use style=\"fill:#1f77b4;stroke:#1f77b4;\" x=\"152.406697\" xlink:href=\"#m58ba99f491\" y=\"85.091276\"/>\n     <use style=\"fill:#1f77b4;stroke:#1f77b4;\" x=\"90.032279\" xlink:href=\"#m58ba99f491\" y=\"50.20043\"/>\n     <use style=\"fill:#1f77b4;stroke:#1f77b4;\" x=\"83.361347\" xlink:href=\"#m58ba99f491\" y=\"35.00762\"/>\n     <use style=\"fill:#1f77b4;stroke:#1f77b4;\" x=\"221.727415\" xlink:href=\"#m58ba99f491\" y=\"127.726701\"/>\n     <use style=\"fill:#1f77b4;stroke:#1f77b4;\" x=\"131.593745\" xlink:href=\"#m58ba99f491\" y=\"83.837506\"/>\n     <use style=\"fill:#1f77b4;stroke:#1f77b4;\" x=\"147.954786\" xlink:href=\"#m58ba99f491\" y=\"80.860172\"/>\n     <use style=\"fill:#1f77b4;stroke:#1f77b4;\" x=\"97.496641\" xlink:href=\"#m58ba99f491\" y=\"60.460678\"/>\n     <use style=\"fill:#1f77b4;stroke:#1f77b4;\" x=\"115.683513\" xlink:href=\"#m58ba99f491\" y=\"55.229756\"/>\n     <use style=\"fill:#1f77b4;stroke:#1f77b4;\" x=\"135.983561\" xlink:href=\"#m58ba99f491\" y=\"65.147358\"/>\n     <use style=\"fill:#1f77b4;stroke:#1f77b4;\" x=\"146.898294\" xlink:href=\"#m58ba99f491\" y=\"95.379838\"/>\n     <use style=\"fill:#1f77b4;stroke:#1f77b4;\" x=\"97.494057\" xlink:href=\"#m58ba99f491\" y=\"38.891936\"/>\n     <use style=\"fill:#1f77b4;stroke:#1f77b4;\" x=\"123.076584\" xlink:href=\"#m58ba99f491\" y=\"75.548089\"/>\n     <use style=\"fill:#1f77b4;stroke:#1f77b4;\" x=\"139.085055\" xlink:href=\"#m58ba99f491\" y=\"78.070752\"/>\n     <use style=\"fill:#1f77b4;stroke:#1f77b4;\" x=\"112.415792\" xlink:href=\"#m58ba99f491\" y=\"66.262724\"/>\n     <use style=\"fill:#1f77b4;stroke:#1f77b4;\" x=\"150.588774\" xlink:href=\"#m58ba99f491\" y=\"101.235073\"/>\n     <use style=\"fill:#1f77b4;stroke:#1f77b4;\" x=\"148.655588\" xlink:href=\"#m58ba99f491\" y=\"74.506136\"/>\n     <use style=\"fill:#1f77b4;stroke:#1f77b4;\" x=\"128.159198\" xlink:href=\"#m58ba99f491\" y=\"71.266633\"/>\n     <use style=\"fill:#1f77b4;stroke:#1f77b4;\" x=\"144.494096\" xlink:href=\"#m58ba99f491\" y=\"72.181837\"/>\n     <use style=\"fill:#1f77b4;stroke:#1f77b4;\" x=\"118.110772\" xlink:href=\"#m58ba99f491\" y=\"63.458253\"/>\n     <use style=\"fill:#1f77b4;stroke:#1f77b4;\" x=\"89.49601\" xlink:href=\"#m58ba99f491\" y=\"38.866274\"/>\n     <use style=\"fill:#1f77b4;stroke:#1f77b4;\" x=\"145.529253\" xlink:href=\"#m58ba99f491\" y=\"70.601899\"/>\n     <use style=\"fill:#1f77b4;stroke:#1f77b4;\" x=\"111.876792\" xlink:href=\"#m58ba99f491\" y=\"61.620702\"/>\n     <use style=\"fill:#1f77b4;stroke:#1f77b4;\" x=\"117.448426\" xlink:href=\"#m58ba99f491\" y=\"70.020163\"/>\n     <use style=\"fill:#1f77b4;stroke:#1f77b4;\" x=\"118.482357\" xlink:href=\"#m58ba99f491\" y=\"56.0004\"/>\n     <use style=\"fill:#1f77b4;stroke:#1f77b4;\" x=\"94.363345\" xlink:href=\"#m58ba99f491\" y=\"61.12287\"/>\n     <use style=\"fill:#1f77b4;stroke:#1f77b4;\" x=\"146.732792\" xlink:href=\"#m58ba99f491\" y=\"76.088813\"/>\n     <use style=\"fill:#1f77b4;stroke:#1f77b4;\" x=\"86.74927\" xlink:href=\"#m58ba99f491\" y=\"42.091942\"/>\n     <use style=\"fill:#1f77b4;stroke:#1f77b4;\" x=\"158.073633\" xlink:href=\"#m58ba99f491\" y=\"97.02261\"/>\n     <use style=\"fill:#1f77b4;stroke:#1f77b4;\" x=\"140.613705\" xlink:href=\"#m58ba99f491\" y=\"54.998256\"/>\n     <use style=\"fill:#1f77b4;stroke:#1f77b4;\" x=\"154.787346\" xlink:href=\"#m58ba99f491\" y=\"83.296698\"/>\n     <use style=\"fill:#1f77b4;stroke:#1f77b4;\" x=\"119.90838\" xlink:href=\"#m58ba99f491\" y=\"67.499765\"/>\n     <use style=\"fill:#1f77b4;stroke:#1f77b4;\" x=\"181.624352\" xlink:href=\"#m58ba99f491\" y=\"118.613482\"/>\n     <use style=\"fill:#1f77b4;stroke:#1f77b4;\" x=\"103.223132\" xlink:href=\"#m58ba99f491\" y=\"43.06807\"/>\n     <use style=\"fill:#1f77b4;stroke:#1f77b4;\" x=\"107.969685\" xlink:href=\"#m58ba99f491\" y=\"67.121614\"/>\n     <use style=\"fill:#1f77b4;stroke:#1f77b4;\" x=\"96.133392\" xlink:href=\"#m58ba99f491\" y=\"57.766538\"/>\n     <use style=\"fill:#1f77b4;stroke:#1f77b4;\" x=\"117.533107\" xlink:href=\"#m58ba99f491\" y=\"71.340068\"/>\n     <use style=\"fill:#1f77b4;stroke:#1f77b4;\" x=\"129.447455\" xlink:href=\"#m58ba99f491\" y=\"70.583024\"/>\n     <use style=\"fill:#1f77b4;stroke:#1f77b4;\" x=\"49.79556\" xlink:href=\"#m58ba99f491\" y=\"24.929685\"/>\n     <use style=\"fill:#1f77b4;stroke:#1f77b4;\" x=\"103.005101\" xlink:href=\"#m58ba99f491\" y=\"56.415077\"/>\n     <use style=\"fill:#1f77b4;stroke:#1f77b4;\" x=\"105.907727\" xlink:href=\"#m58ba99f491\" y=\"45.881309\"/>\n     <use style=\"fill:#1f77b4;stroke:#1f77b4;\" x=\"121.906274\" xlink:href=\"#m58ba99f491\" y=\"65.461947\"/>\n     <use style=\"fill:#1f77b4;stroke:#1f77b4;\" x=\"143.137104\" xlink:href=\"#m58ba99f491\" y=\"86.281668\"/>\n     <use style=\"fill:#1f77b4;stroke:#1f77b4;\" x=\"139.801776\" xlink:href=\"#m58ba99f491\" y=\"82.730528\"/>\n     <use style=\"fill:#1f77b4;stroke:#1f77b4;\" x=\"160.306178\" xlink:href=\"#m58ba99f491\" y=\"92.615838\"/>\n     <use style=\"fill:#1f77b4;stroke:#1f77b4;\" x=\"138.015593\" xlink:href=\"#m58ba99f491\" y=\"73.484108\"/>\n     <use style=\"fill:#1f77b4;stroke:#1f77b4;\" x=\"99.310605\" xlink:href=\"#m58ba99f491\" y=\"72.93635\"/>\n     <use style=\"fill:#1f77b4;stroke:#1f77b4;\" x=\"132.769776\" xlink:href=\"#m58ba99f491\" y=\"76.824781\"/>\n     <use style=\"fill:#1f77b4;stroke:#1f77b4;\" x=\"124.385901\" xlink:href=\"#m58ba99f491\" y=\"67.151378\"/>\n     <use style=\"fill:#1f77b4;stroke:#1f77b4;\" x=\"89.292999\" xlink:href=\"#m58ba99f491\" y=\"63.339897\"/>\n     <use style=\"fill:#1f77b4;stroke:#1f77b4;\" x=\"96.08882\" xlink:href=\"#m58ba99f491\" y=\"41.863887\"/>\n     <use style=\"fill:#1f77b4;stroke:#1f77b4;\" x=\"82.965653\" xlink:href=\"#m58ba99f491\" y=\"22.664517\"/>\n     <use style=\"fill:#1f77b4;stroke:#1f77b4;\" x=\"139.225051\" xlink:href=\"#m58ba99f491\" y=\"75.454641\"/>\n     <use style=\"fill:#1f77b4;stroke:#1f77b4;\" x=\"172.105326\" xlink:href=\"#m58ba99f491\" y=\"100.668954\"/>\n     <use style=\"fill:#1f77b4;stroke:#1f77b4;\" x=\"132.011218\" xlink:href=\"#m58ba99f491\" y=\"62.884228\"/>\n     <use style=\"fill:#1f77b4;stroke:#1f77b4;\" x=\"61.311662\" xlink:href=\"#m58ba99f491\" y=\"21.440984\"/>\n     <use style=\"fill:#1f77b4;stroke:#1f77b4;\" x=\"99.995239\" xlink:href=\"#m58ba99f491\" y=\"49.159773\"/>\n     <use style=\"fill:#1f77b4;stroke:#1f77b4;\" x=\"152.613094\" xlink:href=\"#m58ba99f491\" y=\"87.356985\"/>\n     <use style=\"fill:#1f77b4;stroke:#1f77b4;\" x=\"103.149731\" xlink:href=\"#m58ba99f491\" y=\"60.534756\"/>\n     <use style=\"fill:#1f77b4;stroke:#1f77b4;\" x=\"77.977233\" xlink:href=\"#m58ba99f491\" y=\"47.446516\"/>\n     <use style=\"fill:#1f77b4;stroke:#1f77b4;\" x=\"145.919116\" xlink:href=\"#m58ba99f491\" y=\"67.719394\"/>\n     <use style=\"fill:#1f77b4;stroke:#1f77b4;\" x=\"89.076636\" xlink:href=\"#m58ba99f491\" y=\"45.636458\"/>\n     <use style=\"fill:#1f77b4;stroke:#1f77b4;\" x=\"128.635471\" xlink:href=\"#m58ba99f491\" y=\"70.245414\"/>\n     <use style=\"fill:#1f77b4;stroke:#1f77b4;\" x=\"105.037971\" xlink:href=\"#m58ba99f491\" y=\"59.166554\"/>\n     <use style=\"fill:#1f77b4;stroke:#1f77b4;\" x=\"149.146151\" xlink:href=\"#m58ba99f491\" y=\"76.597202\"/>\n     <use style=\"fill:#1f77b4;stroke:#1f77b4;\" x=\"154.182583\" xlink:href=\"#m58ba99f491\" y=\"90.113632\"/>\n     <use style=\"fill:#1f77b4;stroke:#1f77b4;\" x=\"115.989394\" xlink:href=\"#m58ba99f491\" y=\"58.826225\"/>\n     <use style=\"fill:#1f77b4;stroke:#1f77b4;\" x=\"130.494136\" xlink:href=\"#m58ba99f491\" y=\"70.808002\"/>\n     <use style=\"fill:#1f77b4;stroke:#1f77b4;\" x=\"112.148284\" xlink:href=\"#m58ba99f491\" y=\"47.492152\"/>\n     <use style=\"fill:#1f77b4;stroke:#1f77b4;\" x=\"121.159328\" xlink:href=\"#m58ba99f491\" y=\"70.378132\"/>\n     <use style=\"fill:#1f77b4;stroke:#1f77b4;\" x=\"136.519457\" xlink:href=\"#m58ba99f491\" y=\"74.25469\"/>\n     <use style=\"fill:#1f77b4;stroke:#1f77b4;\" x=\"112.255817\" xlink:href=\"#m58ba99f491\" y=\"65.703936\"/>\n     <use style=\"fill:#1f77b4;stroke:#1f77b4;\" x=\"131.818703\" xlink:href=\"#m58ba99f491\" y=\"73.586489\"/>\n     <use style=\"fill:#1f77b4;stroke:#1f77b4;\" x=\"94.738113\" xlink:href=\"#m58ba99f491\" y=\"47.979788\"/>\n     <use style=\"fill:#1f77b4;stroke:#1f77b4;\" x=\"154.220297\" xlink:href=\"#m58ba99f491\" y=\"67.905273\"/>\n     <use style=\"fill:#1f77b4;stroke:#1f77b4;\" x=\"135.043248\" xlink:href=\"#m58ba99f491\" y=\"88.733411\"/>\n     <use style=\"fill:#1f77b4;stroke:#1f77b4;\" x=\"104.929683\" xlink:href=\"#m58ba99f491\" y=\"61.530734\"/>\n     <use style=\"fill:#1f77b4;stroke:#1f77b4;\" x=\"145.028901\" xlink:href=\"#m58ba99f491\" y=\"76.429127\"/>\n     <use style=\"fill:#1f77b4;stroke:#1f77b4;\" x=\"173.790447\" xlink:href=\"#m58ba99f491\" y=\"102.857189\"/>\n     <use style=\"fill:#1f77b4;stroke:#1f77b4;\" x=\"135.471135\" xlink:href=\"#m58ba99f491\" y=\"68.69578\"/>\n     <use style=\"fill:#1f77b4;stroke:#1f77b4;\" x=\"147.312388\" xlink:href=\"#m58ba99f491\" y=\"79.484582\"/>\n     <use style=\"fill:#1f77b4;stroke:#1f77b4;\" x=\"148.098516\" xlink:href=\"#m58ba99f491\" y=\"82.707811\"/>\n     <use style=\"fill:#1f77b4;stroke:#1f77b4;\" x=\"143.586322\" xlink:href=\"#m58ba99f491\" y=\"86.910152\"/>\n     <use style=\"fill:#1f77b4;stroke:#1f77b4;\" x=\"155.928459\" xlink:href=\"#m58ba99f491\" y=\"68.938191\"/>\n     <use style=\"fill:#1f77b4;stroke:#1f77b4;\" x=\"106.726917\" xlink:href=\"#m58ba99f491\" y=\"53.225184\"/>\n     <use style=\"fill:#1f77b4;stroke:#1f77b4;\" x=\"157.426734\" xlink:href=\"#m58ba99f491\" y=\"87.415223\"/>\n     <use style=\"fill:#1f77b4;stroke:#1f77b4;\" x=\"139.720632\" xlink:href=\"#m58ba99f491\" y=\"86.309901\"/>\n     <use style=\"fill:#1f77b4;stroke:#1f77b4;\" x=\"97.149879\" xlink:href=\"#m58ba99f491\" y=\"42.922537\"/>\n     <use style=\"fill:#1f77b4;stroke:#1f77b4;\" x=\"92.436489\" xlink:href=\"#m58ba99f491\" y=\"42.829435\"/>\n     <use style=\"fill:#1f77b4;stroke:#1f77b4;\" x=\"122.057267\" xlink:href=\"#m58ba99f491\" y=\"76.420747\"/>\n     <use style=\"fill:#1f77b4;stroke:#1f77b4;\" x=\"127.95346\" xlink:href=\"#m58ba99f491\" y=\"75.879186\"/>\n     <use style=\"fill:#1f77b4;stroke:#1f77b4;\" x=\"80.493919\" xlink:href=\"#m58ba99f491\" y=\"25.669532\"/>\n     <use style=\"fill:#1f77b4;stroke:#1f77b4;\" x=\"132.905684\" xlink:href=\"#m58ba99f491\" y=\"61.627358\"/>\n     <use style=\"fill:#1f77b4;stroke:#1f77b4;\" x=\"134.983802\" xlink:href=\"#m58ba99f491\" y=\"77.181375\"/>\n     <use style=\"fill:#1f77b4;stroke:#1f77b4;\" x=\"110.32116\" xlink:href=\"#m58ba99f491\" y=\"48.732769\"/>\n     <use style=\"fill:#1f77b4;stroke:#1f77b4;\" x=\"118.169376\" xlink:href=\"#m58ba99f491\" y=\"57.419627\"/>\n     <use style=\"fill:#1f77b4;stroke:#1f77b4;\" x=\"92.428165\" xlink:href=\"#m58ba99f491\" y=\"40.626627\"/>\n     <use style=\"fill:#1f77b4;stroke:#1f77b4;\" x=\"165.620253\" xlink:href=\"#m58ba99f491\" y=\"92.35839\"/>\n     <use style=\"fill:#1f77b4;stroke:#1f77b4;\" x=\"133.486891\" xlink:href=\"#m58ba99f491\" y=\"68.836135\"/>\n     <use style=\"fill:#1f77b4;stroke:#1f77b4;\" x=\"156.654042\" xlink:href=\"#m58ba99f491\" y=\"89.15424\"/>\n     <use style=\"fill:#1f77b4;stroke:#1f77b4;\" x=\"113.872213\" xlink:href=\"#m58ba99f491\" y=\"39.227549\"/>\n     <use style=\"fill:#1f77b4;stroke:#1f77b4;\" x=\"134.297586\" xlink:href=\"#m58ba99f491\" y=\"54.22266\"/>\n     <use style=\"fill:#1f77b4;stroke:#1f77b4;\" x=\"139.697374\" xlink:href=\"#m58ba99f491\" y=\"70.240915\"/>\n     <use style=\"fill:#1f77b4;stroke:#1f77b4;\" x=\"112.284457\" xlink:href=\"#m58ba99f491\" y=\"56.403825\"/>\n     <use style=\"fill:#1f77b4;stroke:#1f77b4;\" x=\"137.067334\" xlink:href=\"#m58ba99f491\" y=\"73.800674\"/>\n     <use style=\"fill:#1f77b4;stroke:#1f77b4;\" x=\"105.031544\" xlink:href=\"#m58ba99f491\" y=\"53.231799\"/>\n     <use style=\"fill:#1f77b4;stroke:#1f77b4;\" x=\"154.186849\" xlink:href=\"#m58ba99f491\" y=\"94.084054\"/>\n     <use style=\"fill:#1f77b4;stroke:#1f77b4;\" x=\"138.581273\" xlink:href=\"#m58ba99f491\" y=\"71.521796\"/>\n     <use style=\"fill:#1f77b4;stroke:#1f77b4;\" x=\"170.953998\" xlink:href=\"#m58ba99f491\" y=\"94.764616\"/>\n     <use style=\"fill:#1f77b4;stroke:#1f77b4;\" x=\"143.878068\" xlink:href=\"#m58ba99f491\" y=\"80.199734\"/>\n     <use style=\"fill:#1f77b4;stroke:#1f77b4;\" x=\"145.008554\" xlink:href=\"#m58ba99f491\" y=\"68.131759\"/>\n     <use style=\"fill:#1f77b4;stroke:#1f77b4;\" x=\"96.556759\" xlink:href=\"#m58ba99f491\" y=\"65.24637\"/>\n     <use style=\"fill:#1f77b4;stroke:#1f77b4;\" x=\"172.717462\" xlink:href=\"#m58ba99f491\" y=\"99.184272\"/>\n     <use style=\"fill:#1f77b4;stroke:#1f77b4;\" x=\"159.280888\" xlink:href=\"#m58ba99f491\" y=\"91.767014\"/>\n     <use style=\"fill:#1f77b4;stroke:#1f77b4;\" x=\"109.04079\" xlink:href=\"#m58ba99f491\" y=\"58.634365\"/>\n     <use style=\"fill:#1f77b4;stroke:#1f77b4;\" x=\"109.433937\" xlink:href=\"#m58ba99f491\" y=\"66.547519\"/>\n     <use style=\"fill:#1f77b4;stroke:#1f77b4;\" x=\"128.484433\" xlink:href=\"#m58ba99f491\" y=\"62.33842\"/>\n     <use style=\"fill:#1f77b4;stroke:#1f77b4;\" x=\"165.987765\" xlink:href=\"#m58ba99f491\" y=\"100.595423\"/>\n     <use style=\"fill:#1f77b4;stroke:#1f77b4;\" x=\"111.185896\" xlink:href=\"#m58ba99f491\" y=\"77.813291\"/>\n     <use style=\"fill:#1f77b4;stroke:#1f77b4;\" x=\"153.976331\" xlink:href=\"#m58ba99f491\" y=\"98.798471\"/>\n     <use style=\"fill:#1f77b4;stroke:#1f77b4;\" x=\"113.719416\" xlink:href=\"#m58ba99f491\" y=\"46.206633\"/>\n     <use style=\"fill:#1f77b4;stroke:#1f77b4;\" x=\"132.346519\" xlink:href=\"#m58ba99f491\" y=\"81.276827\"/>\n     <use style=\"fill:#1f77b4;stroke:#1f77b4;\" x=\"151.436157\" xlink:href=\"#m58ba99f491\" y=\"89.08306\"/>\n     <use style=\"fill:#1f77b4;stroke:#1f77b4;\" x=\"101.793071\" xlink:href=\"#m58ba99f491\" y=\"42.029044\"/>\n     <use style=\"fill:#1f77b4;stroke:#1f77b4;\" x=\"114.967607\" xlink:href=\"#m58ba99f491\" y=\"62.548729\"/>\n     <use style=\"fill:#1f77b4;stroke:#1f77b4;\" x=\"127.280043\" xlink:href=\"#m58ba99f491\" y=\"75.742899\"/>\n     <use style=\"fill:#1f77b4;stroke:#1f77b4;\" x=\"148.46247\" xlink:href=\"#m58ba99f491\" y=\"101.538011\"/>\n     <use style=\"fill:#1f77b4;stroke:#1f77b4;\" x=\"132.436667\" xlink:href=\"#m58ba99f491\" y=\"68.387601\"/>\n     <use style=\"fill:#1f77b4;stroke:#1f77b4;\" x=\"201.2109\" xlink:href=\"#m58ba99f491\" y=\"104.385146\"/>\n     <use style=\"fill:#1f77b4;stroke:#1f77b4;\" x=\"110.970418\" xlink:href=\"#m58ba99f491\" y=\"62.683005\"/>\n     <use style=\"fill:#1f77b4;stroke:#1f77b4;\" x=\"121.743563\" xlink:href=\"#m58ba99f491\" y=\"79.880731\"/>\n     <use style=\"fill:#1f77b4;stroke:#1f77b4;\" x=\"131.808615\" xlink:href=\"#m58ba99f491\" y=\"71.63446\"/>\n     <use style=\"fill:#1f77b4;stroke:#1f77b4;\" x=\"153.913102\" xlink:href=\"#m58ba99f491\" y=\"76.162679\"/>\n     <use style=\"fill:#1f77b4;stroke:#1f77b4;\" x=\"102.147299\" xlink:href=\"#m58ba99f491\" y=\"66.342367\"/>\n     <use style=\"fill:#1f77b4;stroke:#1f77b4;\" x=\"167.545807\" xlink:href=\"#m58ba99f491\" y=\"79.050478\"/>\n     <use style=\"fill:#1f77b4;stroke:#1f77b4;\" x=\"109.253535\" xlink:href=\"#m58ba99f491\" y=\"52.96226\"/>\n     <use style=\"fill:#1f77b4;stroke:#1f77b4;\" x=\"114.05151\" xlink:href=\"#m58ba99f491\" y=\"62.202678\"/>\n     <use style=\"fill:#1f77b4;stroke:#1f77b4;\" x=\"161.412054\" xlink:href=\"#m58ba99f491\" y=\"79.365425\"/>\n     <use style=\"fill:#1f77b4;stroke:#1f77b4;\" x=\"136.180814\" xlink:href=\"#m58ba99f491\" y=\"79.973319\"/>\n     <use style=\"fill:#1f77b4;stroke:#1f77b4;\" x=\"113.973096\" xlink:href=\"#m58ba99f491\" y=\"62.814351\"/>\n     <use style=\"fill:#1f77b4;stroke:#1f77b4;\" x=\"117.022792\" xlink:href=\"#m58ba99f491\" y=\"58.281039\"/>\n     <use style=\"fill:#1f77b4;stroke:#1f77b4;\" x=\"119.714319\" xlink:href=\"#m58ba99f491\" y=\"62.747385\"/>\n     <use style=\"fill:#1f77b4;stroke:#1f77b4;\" x=\"107.951065\" xlink:href=\"#m58ba99f491\" y=\"44.470742\"/>\n     <use style=\"fill:#1f77b4;stroke:#1f77b4;\" x=\"125.404163\" xlink:href=\"#m58ba99f491\" y=\"75.758903\"/>\n     <use style=\"fill:#1f77b4;stroke:#1f77b4;\" x=\"147.249616\" xlink:href=\"#m58ba99f491\" y=\"77.435812\"/>\n     <use style=\"fill:#1f77b4;stroke:#1f77b4;\" x=\"163.364096\" xlink:href=\"#m58ba99f491\" y=\"88.786064\"/>\n     <use style=\"fill:#1f77b4;stroke:#1f77b4;\" x=\"123.033123\" xlink:href=\"#m58ba99f491\" y=\"61.584622\"/>\n     <use style=\"fill:#1f77b4;stroke:#1f77b4;\" x=\"74.893534\" xlink:href=\"#m58ba99f491\" y=\"37.446345\"/>\n     <use style=\"fill:#1f77b4;stroke:#1f77b4;\" x=\"120.590412\" xlink:href=\"#m58ba99f491\" y=\"64.332229\"/>\n     <use style=\"fill:#1f77b4;stroke:#1f77b4;\" x=\"143.792581\" xlink:href=\"#m58ba99f491\" y=\"77.301542\"/>\n     <use style=\"fill:#1f77b4;stroke:#1f77b4;\" x=\"123.781014\" xlink:href=\"#m58ba99f491\" y=\"46.612874\"/>\n     <use style=\"fill:#1f77b4;stroke:#1f77b4;\" x=\"117.834509\" xlink:href=\"#m58ba99f491\" y=\"51.184188\"/>\n     <use style=\"fill:#1f77b4;stroke:#1f77b4;\" x=\"129.654463\" xlink:href=\"#m58ba99f491\" y=\"72.257318\"/>\n     <use style=\"fill:#1f77b4;stroke:#1f77b4;\" x=\"165.329412\" xlink:href=\"#m58ba99f491\" y=\"91.738001\"/>\n     <use style=\"fill:#1f77b4;stroke:#1f77b4;\" x=\"147.814703\" xlink:href=\"#m58ba99f491\" y=\"79.096715\"/>\n     <use style=\"fill:#1f77b4;stroke:#1f77b4;\" x=\"116.009011\" xlink:href=\"#m58ba99f491\" y=\"83.806826\"/>\n     <use style=\"fill:#1f77b4;stroke:#1f77b4;\" x=\"130.315307\" xlink:href=\"#m58ba99f491\" y=\"84.35858\"/>\n     <use style=\"fill:#1f77b4;stroke:#1f77b4;\" x=\"152.308883\" xlink:href=\"#m58ba99f491\" y=\"94.577571\"/>\n     <use style=\"fill:#1f77b4;stroke:#1f77b4;\" x=\"120.265751\" xlink:href=\"#m58ba99f491\" y=\"53.216638\"/>\n     <use style=\"fill:#1f77b4;stroke:#1f77b4;\" x=\"143.657761\" xlink:href=\"#m58ba99f491\" y=\"66.283747\"/>\n     <use style=\"fill:#1f77b4;stroke:#1f77b4;\" x=\"139.036027\" xlink:href=\"#m58ba99f491\" y=\"69.141262\"/>\n     <use style=\"fill:#1f77b4;stroke:#1f77b4;\" x=\"106.899109\" xlink:href=\"#m58ba99f491\" y=\"61.367759\"/>\n     <use style=\"fill:#1f77b4;stroke:#1f77b4;\" x=\"122.400401\" xlink:href=\"#m58ba99f491\" y=\"59.904068\"/>\n     <use style=\"fill:#1f77b4;stroke:#1f77b4;\" x=\"161.914616\" xlink:href=\"#m58ba99f491\" y=\"76.700019\"/>\n     <use style=\"fill:#1f77b4;stroke:#1f77b4;\" x=\"107.046859\" xlink:href=\"#m58ba99f491\" y=\"60.302798\"/>\n     <use style=\"fill:#1f77b4;stroke:#1f77b4;\" x=\"170.103589\" xlink:href=\"#m58ba99f491\" y=\"88.581249\"/>\n     <use style=\"fill:#1f77b4;stroke:#1f77b4;\" x=\"102.809464\" xlink:href=\"#m58ba99f491\" y=\"51.079044\"/>\n     <use style=\"fill:#1f77b4;stroke:#1f77b4;\" x=\"140.854387\" xlink:href=\"#m58ba99f491\" y=\"74.963397\"/>\n     <use style=\"fill:#1f77b4;stroke:#1f77b4;\" x=\"138.592728\" xlink:href=\"#m58ba99f491\" y=\"73.58593\"/>\n     <use style=\"fill:#1f77b4;stroke:#1f77b4;\" x=\"149.105941\" xlink:href=\"#m58ba99f491\" y=\"74.370704\"/>\n     <use style=\"fill:#1f77b4;stroke:#1f77b4;\" x=\"108.180535\" xlink:href=\"#m58ba99f491\" y=\"60.634532\"/>\n     <use style=\"fill:#1f77b4;stroke:#1f77b4;\" x=\"85.84664\" xlink:href=\"#m58ba99f491\" y=\"41.992711\"/>\n     <use style=\"fill:#1f77b4;stroke:#1f77b4;\" x=\"121.563249\" xlink:href=\"#m58ba99f491\" y=\"54.119398\"/>\n     <use style=\"fill:#1f77b4;stroke:#1f77b4;\" x=\"131.954602\" xlink:href=\"#m58ba99f491\" y=\"73.09296\"/>\n     <use style=\"fill:#1f77b4;stroke:#1f77b4;\" x=\"139.982623\" xlink:href=\"#m58ba99f491\" y=\"69.480576\"/>\n     <use style=\"fill:#1f77b4;stroke:#1f77b4;\" x=\"133.822752\" xlink:href=\"#m58ba99f491\" y=\"87.37478\"/>\n     <use style=\"fill:#1f77b4;stroke:#1f77b4;\" x=\"128.410197\" xlink:href=\"#m58ba99f491\" y=\"62.779529\"/>\n     <use style=\"fill:#1f77b4;stroke:#1f77b4;\" x=\"100.636033\" xlink:href=\"#m58ba99f491\" y=\"64.281905\"/>\n     <use style=\"fill:#1f77b4;stroke:#1f77b4;\" x=\"122.219713\" xlink:href=\"#m58ba99f491\" y=\"65.239388\"/>\n     <use style=\"fill:#1f77b4;stroke:#1f77b4;\" x=\"108.03792\" xlink:href=\"#m58ba99f491\" y=\"50.809147\"/>\n     <use style=\"fill:#1f77b4;stroke:#1f77b4;\" x=\"143.04868\" xlink:href=\"#m58ba99f491\" y=\"87.224796\"/>\n     <use style=\"fill:#1f77b4;stroke:#1f77b4;\" x=\"159.897818\" xlink:href=\"#m58ba99f491\" y=\"90.460307\"/>\n     <use style=\"fill:#1f77b4;stroke:#1f77b4;\" x=\"86.093765\" xlink:href=\"#m58ba99f491\" y=\"48.046544\"/>\n     <use style=\"fill:#1f77b4;stroke:#1f77b4;\" x=\"115.426192\" xlink:href=\"#m58ba99f491\" y=\"64.95529\"/>\n     <use style=\"fill:#1f77b4;stroke:#1f77b4;\" x=\"145.849991\" xlink:href=\"#m58ba99f491\" y=\"93.864428\"/>\n     <use style=\"fill:#1f77b4;stroke:#1f77b4;\" x=\"117.486618\" xlink:href=\"#m58ba99f491\" y=\"51.639389\"/>\n     <use style=\"fill:#1f77b4;stroke:#1f77b4;\" x=\"135.620787\" xlink:href=\"#m58ba99f491\" y=\"74.360533\"/>\n     <use style=\"fill:#1f77b4;stroke:#1f77b4;\" x=\"105.504119\" xlink:href=\"#m58ba99f491\" y=\"55.978989\"/>\n     <use style=\"fill:#1f77b4;stroke:#1f77b4;\" x=\"140.175999\" xlink:href=\"#m58ba99f491\" y=\"71.056927\"/>\n     <use style=\"fill:#1f77b4;stroke:#1f77b4;\" x=\"98.498743\" xlink:href=\"#m58ba99f491\" y=\"43.052159\"/>\n     <use style=\"fill:#1f77b4;stroke:#1f77b4;\" x=\"135.630923\" xlink:href=\"#m58ba99f491\" y=\"71.707288\"/>\n     <use style=\"fill:#1f77b4;stroke:#1f77b4;\" x=\"164.785853\" xlink:href=\"#m58ba99f491\" y=\"86.466009\"/>\n     <use style=\"fill:#1f77b4;stroke:#1f77b4;\" x=\"129.524166\" xlink:href=\"#m58ba99f491\" y=\"47.769697\"/>\n     <use style=\"fill:#1f77b4;stroke:#1f77b4;\" x=\"160.519487\" xlink:href=\"#m58ba99f491\" y=\"113.806315\"/>\n     <use style=\"fill:#1f77b4;stroke:#1f77b4;\" x=\"109.962012\" xlink:href=\"#m58ba99f491\" y=\"49.613752\"/>\n     <use style=\"fill:#1f77b4;stroke:#1f77b4;\" x=\"105.586165\" xlink:href=\"#m58ba99f491\" y=\"38.218425\"/>\n     <use style=\"fill:#1f77b4;stroke:#1f77b4;\" x=\"121.670837\" xlink:href=\"#m58ba99f491\" y=\"52.536606\"/>\n     <use style=\"fill:#1f77b4;stroke:#1f77b4;\" x=\"158.214079\" xlink:href=\"#m58ba99f491\" y=\"98.119255\"/>\n     <use style=\"fill:#1f77b4;stroke:#1f77b4;\" x=\"146.379813\" xlink:href=\"#m58ba99f491\" y=\"72.895964\"/>\n     <use style=\"fill:#1f77b4;stroke:#1f77b4;\" x=\"112.201336\" xlink:href=\"#m58ba99f491\" y=\"53.737458\"/>\n     <use style=\"fill:#1f77b4;stroke:#1f77b4;\" x=\"140.125604\" xlink:href=\"#m58ba99f491\" y=\"70.84781\"/>\n     <use style=\"fill:#1f77b4;stroke:#1f77b4;\" x=\"183.749659\" xlink:href=\"#m58ba99f491\" y=\"86.445152\"/>\n     <use style=\"fill:#1f77b4;stroke:#1f77b4;\" x=\"137.032997\" xlink:href=\"#m58ba99f491\" y=\"80.108837\"/>\n     <use style=\"fill:#1f77b4;stroke:#1f77b4;\" x=\"152.013683\" xlink:href=\"#m58ba99f491\" y=\"75.414617\"/>\n     <use style=\"fill:#1f77b4;stroke:#1f77b4;\" x=\"115.457999\" xlink:href=\"#m58ba99f491\" y=\"56.485842\"/>\n     <use style=\"fill:#1f77b4;stroke:#1f77b4;\" x=\"110.463147\" xlink:href=\"#m58ba99f491\" y=\"56.846419\"/>\n     <use style=\"fill:#1f77b4;stroke:#1f77b4;\" x=\"104.288226\" xlink:href=\"#m58ba99f491\" y=\"40.136077\"/>\n     <use style=\"fill:#1f77b4;stroke:#1f77b4;\" x=\"140.633121\" xlink:href=\"#m58ba99f491\" y=\"77.489791\"/>\n     <use style=\"fill:#1f77b4;stroke:#1f77b4;\" x=\"99.38412\" xlink:href=\"#m58ba99f491\" y=\"56.06745\"/>\n     <use style=\"fill:#1f77b4;stroke:#1f77b4;\" x=\"148.332578\" xlink:href=\"#m58ba99f491\" y=\"80.482123\"/>\n     <use style=\"fill:#1f77b4;stroke:#1f77b4;\" x=\"71.501223\" xlink:href=\"#m58ba99f491\" y=\"17.325248\"/>\n     <use style=\"fill:#1f77b4;stroke:#1f77b4;\" x=\"109.523327\" xlink:href=\"#m58ba99f491\" y=\"62.183494\"/>\n     <use style=\"fill:#1f77b4;stroke:#1f77b4;\" x=\"125.009794\" xlink:href=\"#m58ba99f491\" y=\"66.444964\"/>\n     <use style=\"fill:#1f77b4;stroke:#1f77b4;\" x=\"143.456353\" xlink:href=\"#m58ba99f491\" y=\"87.687628\"/>\n     <use style=\"fill:#1f77b4;stroke:#1f77b4;\" x=\"133.75032\" xlink:href=\"#m58ba99f491\" y=\"79.267077\"/>\n     <use style=\"fill:#1f77b4;stroke:#1f77b4;\" x=\"122.35353\" xlink:href=\"#m58ba99f491\" y=\"68.551809\"/>\n     <use style=\"fill:#1f77b4;stroke:#1f77b4;\" x=\"160.007123\" xlink:href=\"#m58ba99f491\" y=\"92.27431\"/>\n     <use style=\"fill:#1f77b4;stroke:#1f77b4;\" x=\"113.533722\" xlink:href=\"#m58ba99f491\" y=\"66.934488\"/>\n     <use style=\"fill:#1f77b4;stroke:#1f77b4;\" x=\"113.598603\" xlink:href=\"#m58ba99f491\" y=\"57.905516\"/>\n     <use style=\"fill:#1f77b4;stroke:#1f77b4;\" x=\"159.188423\" xlink:href=\"#m58ba99f491\" y=\"92.720141\"/>\n     <use style=\"fill:#1f77b4;stroke:#1f77b4;\" x=\"163.554229\" xlink:href=\"#m58ba99f491\" y=\"93.681391\"/>\n     <use style=\"fill:#1f77b4;stroke:#1f77b4;\" x=\"123.429137\" xlink:href=\"#m58ba99f491\" y=\"66.960167\"/>\n     <use style=\"fill:#1f77b4;stroke:#1f77b4;\" x=\"140.364335\" xlink:href=\"#m58ba99f491\" y=\"68.850829\"/>\n     <use style=\"fill:#1f77b4;stroke:#1f77b4;\" x=\"138.311147\" xlink:href=\"#m58ba99f491\" y=\"68.577471\"/>\n     <use style=\"fill:#1f77b4;stroke:#1f77b4;\" x=\"142.181491\" xlink:href=\"#m58ba99f491\" y=\"75.120292\"/>\n     <use style=\"fill:#1f77b4;stroke:#1f77b4;\" x=\"105.969964\" xlink:href=\"#m58ba99f491\" y=\"59.68764\"/>\n     <use style=\"fill:#1f77b4;stroke:#1f77b4;\" x=\"123.018659\" xlink:href=\"#m58ba99f491\" y=\"47.271371\"/>\n     <use style=\"fill:#1f77b4;stroke:#1f77b4;\" x=\"116.367195\" xlink:href=\"#m58ba99f491\" y=\"74.208019\"/>\n     <use style=\"fill:#1f77b4;stroke:#1f77b4;\" x=\"97.1951\" xlink:href=\"#m58ba99f491\" y=\"32.610714\"/>\n     <use style=\"fill:#1f77b4;stroke:#1f77b4;\" x=\"102.149375\" xlink:href=\"#m58ba99f491\" y=\"54.529177\"/>\n     <use style=\"fill:#1f77b4;stroke:#1f77b4;\" x=\"138.818014\" xlink:href=\"#m58ba99f491\" y=\"68.296927\"/>\n     <use style=\"fill:#1f77b4;stroke:#1f77b4;\" x=\"115.237746\" xlink:href=\"#m58ba99f491\" y=\"64.833788\"/>\n     <use style=\"fill:#1f77b4;stroke:#1f77b4;\" x=\"136.035983\" xlink:href=\"#m58ba99f491\" y=\"85.991086\"/>\n     <use style=\"fill:#1f77b4;stroke:#1f77b4;\" x=\"94.336885\" xlink:href=\"#m58ba99f491\" y=\"44.147306\"/>\n     <use style=\"fill:#1f77b4;stroke:#1f77b4;\" x=\"138.438916\" xlink:href=\"#m58ba99f491\" y=\"61.753163\"/>\n     <use style=\"fill:#1f77b4;stroke:#1f77b4;\" x=\"146.285373\" xlink:href=\"#m58ba99f491\" y=\"98.774062\"/>\n     <use style=\"fill:#1f77b4;stroke:#1f77b4;\" x=\"139.935975\" xlink:href=\"#m58ba99f491\" y=\"66.348542\"/>\n     <use style=\"fill:#1f77b4;stroke:#1f77b4;\" x=\"140.628084\" xlink:href=\"#m58ba99f491\" y=\"68.914784\"/>\n     <use style=\"fill:#1f77b4;stroke:#1f77b4;\" x=\"130.893935\" xlink:href=\"#m58ba99f491\" y=\"69.705029\"/>\n     <use style=\"fill:#1f77b4;stroke:#1f77b4;\" x=\"104.383015\" xlink:href=\"#m58ba99f491\" y=\"56.531545\"/>\n     <use style=\"fill:#1f77b4;stroke:#1f77b4;\" x=\"113.152273\" xlink:href=\"#m58ba99f491\" y=\"71.02981\"/>\n     <use style=\"fill:#1f77b4;stroke:#1f77b4;\" x=\"108.184896\" xlink:href=\"#m58ba99f491\" y=\"46.694935\"/>\n     <use style=\"fill:#1f77b4;stroke:#1f77b4;\" x=\"149.671206\" xlink:href=\"#m58ba99f491\" y=\"72.836408\"/>\n     <use style=\"fill:#1f77b4;stroke:#1f77b4;\" x=\"124.242672\" xlink:href=\"#m58ba99f491\" y=\"66.166471\"/>\n     <use style=\"fill:#1f77b4;stroke:#1f77b4;\" x=\"97.700049\" xlink:href=\"#m58ba99f491\" y=\"46.266713\"/>\n     <use style=\"fill:#1f77b4;stroke:#1f77b4;\" x=\"138.640351\" xlink:href=\"#m58ba99f491\" y=\"91.314691\"/>\n     <use style=\"fill:#1f77b4;stroke:#1f77b4;\" x=\"142.038787\" xlink:href=\"#m58ba99f491\" y=\"70.55989\"/>\n     <use style=\"fill:#1f77b4;stroke:#1f77b4;\" x=\"133.336768\" xlink:href=\"#m58ba99f491\" y=\"70.829483\"/>\n     <use style=\"fill:#1f77b4;stroke:#1f77b4;\" x=\"130.629133\" xlink:href=\"#m58ba99f491\" y=\"71.957034\"/>\n     <use style=\"fill:#1f77b4;stroke:#1f77b4;\" x=\"79.088225\" xlink:href=\"#m58ba99f491\" y=\"31.59034\"/>\n     <use style=\"fill:#1f77b4;stroke:#1f77b4;\" x=\"164.16638\" xlink:href=\"#m58ba99f491\" y=\"87.527783\"/>\n     <use style=\"fill:#1f77b4;stroke:#1f77b4;\" x=\"129.684497\" xlink:href=\"#m58ba99f491\" y=\"64.583547\"/>\n     <use style=\"fill:#1f77b4;stroke:#1f77b4;\" x=\"147.02429\" xlink:href=\"#m58ba99f491\" y=\"84.231997\"/>\n     <use style=\"fill:#1f77b4;stroke:#1f77b4;\" x=\"153.815284\" xlink:href=\"#m58ba99f491\" y=\"97.595886\"/>\n     <use style=\"fill:#1f77b4;stroke:#1f77b4;\" x=\"107.620321\" xlink:href=\"#m58ba99f491\" y=\"63.249147\"/>\n     <use style=\"fill:#1f77b4;stroke:#1f77b4;\" x=\"128.001362\" xlink:href=\"#m58ba99f491\" y=\"68.374923\"/>\n     <use style=\"fill:#1f77b4;stroke:#1f77b4;\" x=\"126.740634\" xlink:href=\"#m58ba99f491\" y=\"86.408011\"/>\n     <use style=\"fill:#1f77b4;stroke:#1f77b4;\" x=\"122.855998\" xlink:href=\"#m58ba99f491\" y=\"71.022636\"/>\n     <use style=\"fill:#1f77b4;stroke:#1f77b4;\" x=\"103.120082\" xlink:href=\"#m58ba99f491\" y=\"47.162108\"/>\n     <use style=\"fill:#1f77b4;stroke:#1f77b4;\" x=\"104.74583\" xlink:href=\"#m58ba99f491\" y=\"65.109392\"/>\n     <use style=\"fill:#1f77b4;stroke:#1f77b4;\" x=\"96.705694\" xlink:href=\"#m58ba99f491\" y=\"52.508954\"/>\n     <use style=\"fill:#1f77b4;stroke:#1f77b4;\" x=\"137.405042\" xlink:href=\"#m58ba99f491\" y=\"86.153286\"/>\n     <use style=\"fill:#1f77b4;stroke:#1f77b4;\" x=\"169.261615\" xlink:href=\"#m58ba99f491\" y=\"107.526202\"/>\n     <use style=\"fill:#1f77b4;stroke:#1f77b4;\" x=\"134.763278\" xlink:href=\"#m58ba99f491\" y=\"77.108906\"/>\n     <use style=\"fill:#1f77b4;stroke:#1f77b4;\" x=\"157.86138\" xlink:href=\"#m58ba99f491\" y=\"82.600176\"/>\n     <use style=\"fill:#1f77b4;stroke:#1f77b4;\" x=\"113.800861\" xlink:href=\"#m58ba99f491\" y=\"79.557596\"/>\n     <use style=\"fill:#1f77b4;stroke:#1f77b4;\" x=\"113.113984\" xlink:href=\"#m58ba99f491\" y=\"58.668689\"/>\n     <use style=\"fill:#1f77b4;stroke:#1f77b4;\" x=\"153.747016\" xlink:href=\"#m58ba99f491\" y=\"98.548418\"/>\n     <use style=\"fill:#1f77b4;stroke:#1f77b4;\" x=\"95.676042\" xlink:href=\"#m58ba99f491\" y=\"48.943872\"/>\n     <use style=\"fill:#1f77b4;stroke:#1f77b4;\" x=\"137.400333\" xlink:href=\"#m58ba99f491\" y=\"73.855936\"/>\n     <use style=\"fill:#1f77b4;stroke:#1f77b4;\" x=\"120.359033\" xlink:href=\"#m58ba99f491\" y=\"67.268274\"/>\n     <use style=\"fill:#1f77b4;stroke:#1f77b4;\" x=\"118.006069\" xlink:href=\"#m58ba99f491\" y=\"69.710872\"/>\n     <use style=\"fill:#1f77b4;stroke:#1f77b4;\" x=\"104.569673\" xlink:href=\"#m58ba99f491\" y=\"59.370951\"/>\n     <use style=\"fill:#1f77b4;stroke:#1f77b4;\" x=\"127.932528\" xlink:href=\"#m58ba99f491\" y=\"66.608821\"/>\n     <use style=\"fill:#1f77b4;stroke:#1f77b4;\" x=\"103.322739\" xlink:href=\"#m58ba99f491\" y=\"47.610345\"/>\n     <use style=\"fill:#1f77b4;stroke:#1f77b4;\" x=\"144.43363\" xlink:href=\"#m58ba99f491\" y=\"93.644526\"/>\n     <use style=\"fill:#1f77b4;stroke:#1f77b4;\" x=\"146.982796\" xlink:href=\"#m58ba99f491\" y=\"83.327515\"/>\n     <use style=\"fill:#1f77b4;stroke:#1f77b4;\" x=\"104.560099\" xlink:href=\"#m58ba99f491\" y=\"66.686784\"/>\n     <use style=\"fill:#1f77b4;stroke:#1f77b4;\" x=\"135.987531\" xlink:href=\"#m58ba99f491\" y=\"72.576571\"/>\n     <use style=\"fill:#1f77b4;stroke:#1f77b4;\" x=\"148.765353\" xlink:href=\"#m58ba99f491\" y=\"95.923324\"/>\n     <use style=\"fill:#1f77b4;stroke:#1f77b4;\" x=\"140.202927\" xlink:href=\"#m58ba99f491\" y=\"64.53983\"/>\n     <use style=\"fill:#1f77b4;stroke:#1f77b4;\" x=\"141.751863\" xlink:href=\"#m58ba99f491\" y=\"80.6348\"/>\n     <use style=\"fill:#1f77b4;stroke:#1f77b4;\" x=\"144.097243\" xlink:href=\"#m58ba99f491\" y=\"90.274947\"/>\n     <use style=\"fill:#1f77b4;stroke:#1f77b4;\" x=\"161.377733\" xlink:href=\"#m58ba99f491\" y=\"86.94939\"/>\n     <use style=\"fill:#1f77b4;stroke:#1f77b4;\" x=\"111.767548\" xlink:href=\"#m58ba99f491\" y=\"63.489996\"/>\n     <use style=\"fill:#1f77b4;stroke:#1f77b4;\" x=\"132.31581\" xlink:href=\"#m58ba99f491\" y=\"63.022944\"/>\n     <use style=\"fill:#1f77b4;stroke:#1f77b4;\" x=\"91.944849\" xlink:href=\"#m58ba99f491\" y=\"65.679809\"/>\n     <use style=\"fill:#1f77b4;stroke:#1f77b4;\" x=\"150.79813\" xlink:href=\"#m58ba99f491\" y=\"87.77242\"/>\n     <use style=\"fill:#1f77b4;stroke:#1f77b4;\" x=\"115.055649\" xlink:href=\"#m58ba99f491\" y=\"54.872885\"/>\n     <use style=\"fill:#1f77b4;stroke:#1f77b4;\" x=\"145.980321\" xlink:href=\"#m58ba99f491\" y=\"85.090543\"/>\n     <use style=\"fill:#1f77b4;stroke:#1f77b4;\" x=\"138.678719\" xlink:href=\"#m58ba99f491\" y=\"72.414603\"/>\n     <use style=\"fill:#1f77b4;stroke:#1f77b4;\" x=\"122.552348\" xlink:href=\"#m58ba99f491\" y=\"48.904014\"/>\n     <use style=\"fill:#1f77b4;stroke:#1f77b4;\" x=\"167.278324\" xlink:href=\"#m58ba99f491\" y=\"80.567609\"/>\n     <use style=\"fill:#1f77b4;stroke:#1f77b4;\" x=\"142.357736\" xlink:href=\"#m58ba99f491\" y=\"74.780648\"/>\n     <use style=\"fill:#1f77b4;stroke:#1f77b4;\" x=\"71.950114\" xlink:href=\"#m58ba99f491\" y=\"13.377273\"/>\n     <use style=\"fill:#1f77b4;stroke:#1f77b4;\" x=\"145.449942\" xlink:href=\"#m58ba99f491\" y=\"66.654364\"/>\n     <use style=\"fill:#1f77b4;stroke:#1f77b4;\" x=\"117.292845\" xlink:href=\"#m58ba99f491\" y=\"69.82021\"/>\n     <use style=\"fill:#1f77b4;stroke:#1f77b4;\" x=\"134.680869\" xlink:href=\"#m58ba99f491\" y=\"71.429419\"/>\n     <use style=\"fill:#1f77b4;stroke:#1f77b4;\" x=\"155.012012\" xlink:href=\"#m58ba99f491\" y=\"83.895511\"/>\n     <use style=\"fill:#1f77b4;stroke:#1f77b4;\" x=\"119.691608\" xlink:href=\"#m58ba99f491\" y=\"75.114554\"/>\n     <use style=\"fill:#1f77b4;stroke:#1f77b4;\" x=\"142.375538\" xlink:href=\"#m58ba99f491\" y=\"91.610943\"/>\n     <use style=\"fill:#1f77b4;stroke:#1f77b4;\" x=\"174.936262\" xlink:href=\"#m58ba99f491\" y=\"100.251642\"/>\n     <use style=\"fill:#1f77b4;stroke:#1f77b4;\" x=\"59.028994\" xlink:href=\"#m58ba99f491\" y=\"16.142932\"/>\n     <use style=\"fill:#1f77b4;stroke:#1f77b4;\" x=\"118.304845\" xlink:href=\"#m58ba99f491\" y=\"61.377389\"/>\n     <use style=\"fill:#1f77b4;stroke:#1f77b4;\" x=\"114.146085\" xlink:href=\"#m58ba99f491\" y=\"49.122022\"/>\n     <use style=\"fill:#1f77b4;stroke:#1f77b4;\" x=\"117.278027\" xlink:href=\"#m58ba99f491\" y=\"65.421165\"/>\n     <use style=\"fill:#1f77b4;stroke:#1f77b4;\" x=\"147.151749\" xlink:href=\"#m58ba99f491\" y=\"91.196777\"/>\n     <use style=\"fill:#1f77b4;stroke:#1f77b4;\" x=\"97.21544\" xlink:href=\"#m58ba99f491\" y=\"53.809643\"/>\n     <use style=\"fill:#1f77b4;stroke:#1f77b4;\" x=\"143.015299\" xlink:href=\"#m58ba99f491\" y=\"68.826312\"/>\n     <use style=\"fill:#1f77b4;stroke:#1f77b4;\" x=\"153.636039\" xlink:href=\"#m58ba99f491\" y=\"97.673059\"/>\n     <use style=\"fill:#1f77b4;stroke:#1f77b4;\" x=\"121.284685\" xlink:href=\"#m58ba99f491\" y=\"67.950358\"/>\n     <use style=\"fill:#1f77b4;stroke:#1f77b4;\" x=\"119.338143\" xlink:href=\"#m58ba99f491\" y=\"74.980666\"/>\n     <use style=\"fill:#1f77b4;stroke:#1f77b4;\" x=\"141.863647\" xlink:href=\"#m58ba99f491\" y=\"66.720169\"/>\n     <use style=\"fill:#1f77b4;stroke:#1f77b4;\" x=\"121.608228\" xlink:href=\"#m58ba99f491\" y=\"67.278964\"/>\n     <use style=\"fill:#1f77b4;stroke:#1f77b4;\" x=\"96.942421\" xlink:href=\"#m58ba99f491\" y=\"53.272011\"/>\n     <use style=\"fill:#1f77b4;stroke:#1f77b4;\" x=\"107.963172\" xlink:href=\"#m58ba99f491\" y=\"35.902933\"/>\n     <use style=\"fill:#1f77b4;stroke:#1f77b4;\" x=\"89.442054\" xlink:href=\"#m58ba99f491\" y=\"37.519062\"/>\n     <use style=\"fill:#1f77b4;stroke:#1f77b4;\" x=\"100.243524\" xlink:href=\"#m58ba99f491\" y=\"67.815344\"/>\n     <use style=\"fill:#1f77b4;stroke:#1f77b4;\" x=\"137.285132\" xlink:href=\"#m58ba99f491\" y=\"76.7697\"/>\n     <use style=\"fill:#1f77b4;stroke:#1f77b4;\" x=\"84.459414\" xlink:href=\"#m58ba99f491\" y=\"34.731941\"/>\n     <use style=\"fill:#1f77b4;stroke:#1f77b4;\" x=\"137.852919\" xlink:href=\"#m58ba99f491\" y=\"83.737469\"/>\n     <use style=\"fill:#1f77b4;stroke:#1f77b4;\" x=\"114.976924\" xlink:href=\"#m58ba99f491\" y=\"70.467366\"/>\n     <use style=\"fill:#1f77b4;stroke:#1f77b4;\" x=\"123.706404\" xlink:href=\"#m58ba99f491\" y=\"75.156543\"/>\n     <use style=\"fill:#1f77b4;stroke:#1f77b4;\" x=\"118.719749\" xlink:href=\"#m58ba99f491\" y=\"59.54877\"/>\n     <use style=\"fill:#1f77b4;stroke:#1f77b4;\" x=\"134.282423\" xlink:href=\"#m58ba99f491\" y=\"87.649273\"/>\n     <use style=\"fill:#1f77b4;stroke:#1f77b4;\" x=\"90.586733\" xlink:href=\"#m58ba99f491\" y=\"43.948753\"/>\n     <use style=\"fill:#1f77b4;stroke:#1f77b4;\" x=\"130.026313\" xlink:href=\"#m58ba99f491\" y=\"76.238093\"/>\n     <use style=\"fill:#1f77b4;stroke:#1f77b4;\" x=\"138.765613\" xlink:href=\"#m58ba99f491\" y=\"62.130805\"/>\n     <use style=\"fill:#1f77b4;stroke:#1f77b4;\" x=\"124.003263\" xlink:href=\"#m58ba99f491\" y=\"54.307911\"/>\n     <use style=\"fill:#1f77b4;stroke:#1f77b4;\" x=\"92.093494\" xlink:href=\"#m58ba99f491\" y=\"39.755366\"/>\n     <use style=\"fill:#1f77b4;stroke:#1f77b4;\" x=\"164.776882\" xlink:href=\"#m58ba99f491\" y=\"78.434114\"/>\n     <use style=\"fill:#1f77b4;stroke:#1f77b4;\" x=\"158.127933\" xlink:href=\"#m58ba99f491\" y=\"72.971258\"/>\n     <use style=\"fill:#1f77b4;stroke:#1f77b4;\" x=\"128.131148\" xlink:href=\"#m58ba99f491\" y=\"59.549552\"/>\n     <use style=\"fill:#1f77b4;stroke:#1f77b4;\" x=\"131.45506\" xlink:href=\"#m58ba99f491\" y=\"76.44077\"/>\n     <use style=\"fill:#1f77b4;stroke:#1f77b4;\" x=\"110.725817\" xlink:href=\"#m58ba99f491\" y=\"61.461939\"/>\n     <use style=\"fill:#1f77b4;stroke:#1f77b4;\" x=\"138.194918\" xlink:href=\"#m58ba99f491\" y=\"72.382239\"/>\n     <use style=\"fill:#1f77b4;stroke:#1f77b4;\" x=\"116.068495\" xlink:href=\"#m58ba99f491\" y=\"61.76386\"/>\n     <use style=\"fill:#1f77b4;stroke:#1f77b4;\" x=\"105.087574\" xlink:href=\"#m58ba99f491\" y=\"52.534301\"/>\n     <use style=\"fill:#1f77b4;stroke:#1f77b4;\" x=\"157.46101\" xlink:href=\"#m58ba99f491\" y=\"75.810526\"/>\n     <use style=\"fill:#1f77b4;stroke:#1f77b4;\" x=\"129.95109\" xlink:href=\"#m58ba99f491\" y=\"63.720613\"/>\n     <use style=\"fill:#1f77b4;stroke:#1f77b4;\" x=\"105.733057\" xlink:href=\"#m58ba99f491\" y=\"54.569186\"/>\n     <use style=\"fill:#1f77b4;stroke:#1f77b4;\" x=\"147.932211\" xlink:href=\"#m58ba99f491\" y=\"78.697645\"/>\n     <use style=\"fill:#1f77b4;stroke:#1f77b4;\" x=\"101.438263\" xlink:href=\"#m58ba99f491\" y=\"49.09356\"/>\n     <use style=\"fill:#1f77b4;stroke:#1f77b4;\" x=\"112.855397\" xlink:href=\"#m58ba99f491\" y=\"59.922775\"/>\n     <use style=\"fill:#1f77b4;stroke:#1f77b4;\" x=\"102.667322\" xlink:href=\"#m58ba99f491\" y=\"42.866795\"/>\n     <use style=\"fill:#1f77b4;stroke:#1f77b4;\" x=\"136.462371\" xlink:href=\"#m58ba99f491\" y=\"76.760351\"/>\n     <use style=\"fill:#1f77b4;stroke:#1f77b4;\" x=\"141.804439\" xlink:href=\"#m58ba99f491\" y=\"84.597266\"/>\n     <use style=\"fill:#1f77b4;stroke:#1f77b4;\" x=\"123.143134\" xlink:href=\"#m58ba99f491\" y=\"78.879508\"/>\n     <use style=\"fill:#1f77b4;stroke:#1f77b4;\" x=\"99.710431\" xlink:href=\"#m58ba99f491\" y=\"53.915824\"/>\n     <use style=\"fill:#1f77b4;stroke:#1f77b4;\" x=\"159.618541\" xlink:href=\"#m58ba99f491\" y=\"87.252013\"/>\n     <use style=\"fill:#1f77b4;stroke:#1f77b4;\" x=\"153.674087\" xlink:href=\"#m58ba99f491\" y=\"85.753187\"/>\n     <use style=\"fill:#1f77b4;stroke:#1f77b4;\" x=\"133.055254\" xlink:href=\"#m58ba99f491\" y=\"69.605651\"/>\n     <use style=\"fill:#1f77b4;stroke:#1f77b4;\" x=\"124.402996\" xlink:href=\"#m58ba99f491\" y=\"60.187892\"/>\n     <use style=\"fill:#1f77b4;stroke:#1f77b4;\" x=\"118.630799\" xlink:href=\"#m58ba99f491\" y=\"55.983688\"/>\n     <use style=\"fill:#1f77b4;stroke:#1f77b4;\" x=\"124.936652\" xlink:href=\"#m58ba99f491\" y=\"71.15713\"/>\n     <use style=\"fill:#1f77b4;stroke:#1f77b4;\" x=\"174.77815\" xlink:href=\"#m58ba99f491\" y=\"99.959338\"/>\n     <use style=\"fill:#1f77b4;stroke:#1f77b4;\" x=\"97.698679\" xlink:href=\"#m58ba99f491\" y=\"64.337294\"/>\n     <use style=\"fill:#1f77b4;stroke:#1f77b4;\" x=\"139.867834\" xlink:href=\"#m58ba99f491\" y=\"81.054022\"/>\n     <use style=\"fill:#1f77b4;stroke:#1f77b4;\" x=\"124.851538\" xlink:href=\"#m58ba99f491\" y=\"45.830287\"/>\n     <use style=\"fill:#1f77b4;stroke:#1f77b4;\" x=\"134.349547\" xlink:href=\"#m58ba99f491\" y=\"62.925053\"/>\n     <use style=\"fill:#1f77b4;stroke:#1f77b4;\" x=\"115.193922\" xlink:href=\"#m58ba99f491\" y=\"65.465176\"/>\n     <use style=\"fill:#1f77b4;stroke:#1f77b4;\" x=\"157.122106\" xlink:href=\"#m58ba99f491\" y=\"81.468886\"/>\n     <use style=\"fill:#1f77b4;stroke:#1f77b4;\" x=\"102.743658\" xlink:href=\"#m58ba99f491\" y=\"55.604313\"/>\n     <use style=\"fill:#1f77b4;stroke:#1f77b4;\" x=\"147.202536\" xlink:href=\"#m58ba99f491\" y=\"78.120469\"/>\n     <use style=\"fill:#1f77b4;stroke:#1f77b4;\" x=\"125.18782\" xlink:href=\"#m58ba99f491\" y=\"56.987884\"/>\n     <use style=\"fill:#1f77b4;stroke:#1f77b4;\" x=\"103.602697\" xlink:href=\"#m58ba99f491\" y=\"52.592472\"/>\n     <use style=\"fill:#1f77b4;stroke:#1f77b4;\" x=\"140.637872\" xlink:href=\"#m58ba99f491\" y=\"80.252253\"/>\n     <use style=\"fill:#1f77b4;stroke:#1f77b4;\" x=\"171.875422\" xlink:href=\"#m58ba99f491\" y=\"100.118586\"/>\n     <use style=\"fill:#1f77b4;stroke:#1f77b4;\" x=\"96.634853\" xlink:href=\"#m58ba99f491\" y=\"51.456314\"/>\n     <use style=\"fill:#1f77b4;stroke:#1f77b4;\" x=\"156.973987\" xlink:href=\"#m58ba99f491\" y=\"86.354088\"/>\n     <use style=\"fill:#1f77b4;stroke:#1f77b4;\" x=\"160.394275\" xlink:href=\"#m58ba99f491\" y=\"106.529168\"/>\n     <use style=\"fill:#1f77b4;stroke:#1f77b4;\" x=\"107.679228\" xlink:href=\"#m58ba99f491\" y=\"55.033668\"/>\n     <use style=\"fill:#1f77b4;stroke:#1f77b4;\" x=\"143.651514\" xlink:href=\"#m58ba99f491\" y=\"55.91799\"/>\n     <use style=\"fill:#1f77b4;stroke:#1f77b4;\" x=\"109.305345\" xlink:href=\"#m58ba99f491\" y=\"64.331682\"/>\n     <use style=\"fill:#1f77b4;stroke:#1f77b4;\" x=\"147.326055\" xlink:href=\"#m58ba99f491\" y=\"72.60625\"/>\n     <use style=\"fill:#1f77b4;stroke:#1f77b4;\" x=\"127.980286\" xlink:href=\"#m58ba99f491\" y=\"54.727587\"/>\n     <use style=\"fill:#1f77b4;stroke:#1f77b4;\" x=\"104.733737\" xlink:href=\"#m58ba99f491\" y=\"63.128646\"/>\n     <use style=\"fill:#1f77b4;stroke:#1f77b4;\" x=\"105.45984\" xlink:href=\"#m58ba99f491\" y=\"57.886031\"/>\n     <use style=\"fill:#1f77b4;stroke:#1f77b4;\" x=\"151.606998\" xlink:href=\"#m58ba99f491\" y=\"79.530081\"/>\n     <use style=\"fill:#1f77b4;stroke:#1f77b4;\" x=\"91.631825\" xlink:href=\"#m58ba99f491\" y=\"42.167075\"/>\n     <use style=\"fill:#1f77b4;stroke:#1f77b4;\" x=\"69.773998\" xlink:href=\"#m58ba99f491\" y=\"30.801145\"/>\n     <use style=\"fill:#1f77b4;stroke:#1f77b4;\" x=\"138.80523\" xlink:href=\"#m58ba99f491\" y=\"69.083405\"/>\n     <use style=\"fill:#1f77b4;stroke:#1f77b4;\" x=\"151.163655\" xlink:href=\"#m58ba99f491\" y=\"88.751115\"/>\n     <use style=\"fill:#1f77b4;stroke:#1f77b4;\" x=\"117.156037\" xlink:href=\"#m58ba99f491\" y=\"69.595386\"/>\n     <use style=\"fill:#1f77b4;stroke:#1f77b4;\" x=\"175.323256\" xlink:href=\"#m58ba99f491\" y=\"92.231377\"/>\n     <use style=\"fill:#1f77b4;stroke:#1f77b4;\" x=\"184.64513\" xlink:href=\"#m58ba99f491\" y=\"106.299417\"/>\n     <use style=\"fill:#1f77b4;stroke:#1f77b4;\" x=\"120.596261\" xlink:href=\"#m58ba99f491\" y=\"52.728961\"/>\n     <use style=\"fill:#1f77b4;stroke:#1f77b4;\" x=\"110.423681\" xlink:href=\"#m58ba99f491\" y=\"58.880734\"/>\n     <use style=\"fill:#1f77b4;stroke:#1f77b4;\" x=\"126.013911\" xlink:href=\"#m58ba99f491\" y=\"47.170886\"/>\n     <use style=\"fill:#1f77b4;stroke:#1f77b4;\" x=\"115.475753\" xlink:href=\"#m58ba99f491\" y=\"55.556654\"/>\n    </g>\n   </g>\n   <g id=\"matplotlib.axis_1\">\n    <g id=\"xtick_1\">\n     <g id=\"line2d_1\">\n      <defs>\n       <path d=\"M 0 0 \nL 0 3.5 \n\" id=\"mfeda743106\" style=\"stroke:#000000;stroke-width:0.8;\"/>\n      </defs>\n      <g>\n       <use style=\"stroke:#000000;stroke-width:0.8;\" x=\"77.118508\" xlink:href=\"#mfeda743106\" y=\"143.1\"/>\n      </g>\n     </g>\n     <g id=\"text_1\">\n      <!-- −2 -->\n      <defs>\n       <path d=\"M 10.59375 35.5 \nL 73.1875 35.5 \nL 73.1875 27.203125 \nL 10.59375 27.203125 \nz\n\" id=\"DejaVuSans-8722\"/>\n       <path d=\"M 19.1875 8.296875 \nL 53.609375 8.296875 \nL 53.609375 0 \nL 7.328125 0 \nL 7.328125 8.296875 \nQ 12.9375 14.109375 22.625 23.890625 \nQ 32.328125 33.6875 34.8125 36.53125 \nQ 39.546875 41.84375 41.421875 45.53125 \nQ 43.3125 49.21875 43.3125 52.78125 \nQ 43.3125 58.59375 39.234375 62.25 \nQ 35.15625 65.921875 28.609375 65.921875 \nQ 23.96875 65.921875 18.8125 64.3125 \nQ 13.671875 62.703125 7.8125 59.421875 \nL 7.8125 69.390625 \nQ 13.765625 71.78125 18.9375 73 \nQ 24.125 74.21875 28.421875 74.21875 \nQ 39.75 74.21875 46.484375 68.546875 \nQ 53.21875 62.890625 53.21875 53.421875 \nQ 53.21875 48.921875 51.53125 44.890625 \nQ 49.859375 40.875 45.40625 35.40625 \nQ 44.1875 33.984375 37.640625 27.21875 \nQ 31.109375 20.453125 19.1875 8.296875 \nz\n\" id=\"DejaVuSans-50\"/>\n      </defs>\n      <g transform=\"translate(69.747415 157.698438)scale(0.1 -0.1)\">\n       <use xlink:href=\"#DejaVuSans-8722\"/>\n       <use x=\"83.789062\" xlink:href=\"#DejaVuSans-50\"/>\n      </g>\n     </g>\n    </g>\n    <g id=\"xtick_2\">\n     <g id=\"line2d_2\">\n      <g>\n       <use style=\"stroke:#000000;stroke-width:0.8;\" x=\"127.302648\" xlink:href=\"#mfeda743106\" y=\"143.1\"/>\n      </g>\n     </g>\n     <g id=\"text_2\">\n      <!-- 0 -->\n      <defs>\n       <path d=\"M 31.78125 66.40625 \nQ 24.171875 66.40625 20.328125 58.90625 \nQ 16.5 51.421875 16.5 36.375 \nQ 16.5 21.390625 20.328125 13.890625 \nQ 24.171875 6.390625 31.78125 6.390625 \nQ 39.453125 6.390625 43.28125 13.890625 \nQ 47.125 21.390625 47.125 36.375 \nQ 47.125 51.421875 43.28125 58.90625 \nQ 39.453125 66.40625 31.78125 66.40625 \nz\nM 31.78125 74.21875 \nQ 44.046875 74.21875 50.515625 64.515625 \nQ 56.984375 54.828125 56.984375 36.375 \nQ 56.984375 17.96875 50.515625 8.265625 \nQ 44.046875 -1.421875 31.78125 -1.421875 \nQ 19.53125 -1.421875 13.0625 8.265625 \nQ 6.59375 17.96875 6.59375 36.375 \nQ 6.59375 54.828125 13.0625 64.515625 \nQ 19.53125 74.21875 31.78125 74.21875 \nz\n\" id=\"DejaVuSans-48\"/>\n      </defs>\n      <g transform=\"translate(124.121398 157.698438)scale(0.1 -0.1)\">\n       <use xlink:href=\"#DejaVuSans-48\"/>\n      </g>\n     </g>\n    </g>\n    <g id=\"xtick_3\">\n     <g id=\"line2d_3\">\n      <g>\n       <use style=\"stroke:#000000;stroke-width:0.8;\" x=\"177.486787\" xlink:href=\"#mfeda743106\" y=\"143.1\"/>\n      </g>\n     </g>\n     <g id=\"text_3\">\n      <!-- 2 -->\n      <g transform=\"translate(174.305537 157.698438)scale(0.1 -0.1)\">\n       <use xlink:href=\"#DejaVuSans-50\"/>\n      </g>\n     </g>\n    </g>\n    <g id=\"xtick_4\">\n     <g id=\"line2d_4\">\n      <g>\n       <use style=\"stroke:#000000;stroke-width:0.8;\" x=\"227.670927\" xlink:href=\"#mfeda743106\" y=\"143.1\"/>\n      </g>\n     </g>\n     <g id=\"text_4\">\n      <!-- 4 -->\n      <defs>\n       <path d=\"M 37.796875 64.3125 \nL 12.890625 25.390625 \nL 37.796875 25.390625 \nz\nM 35.203125 72.90625 \nL 47.609375 72.90625 \nL 47.609375 25.390625 \nL 58.015625 25.390625 \nL 58.015625 17.1875 \nL 47.609375 17.1875 \nL 47.609375 0 \nL 37.796875 0 \nL 37.796875 17.1875 \nL 4.890625 17.1875 \nL 4.890625 26.703125 \nz\n\" id=\"DejaVuSans-52\"/>\n      </defs>\n      <g transform=\"translate(224.489677 157.698438)scale(0.1 -0.1)\">\n       <use xlink:href=\"#DejaVuSans-52\"/>\n      </g>\n     </g>\n    </g>\n   </g>\n   <g id=\"matplotlib.axis_2\">\n    <g id=\"ytick_1\">\n     <g id=\"line2d_5\">\n      <defs>\n       <path d=\"M 0 0 \nL -3.5 0 \n\" id=\"m0c90f94160\" style=\"stroke:#000000;stroke-width:0.8;\"/>\n      </defs>\n      <g>\n       <use style=\"stroke:#000000;stroke-width:0.8;\" x=\"35.304688\" xlink:href=\"#m0c90f94160\" y=\"135.896443\"/>\n      </g>\n     </g>\n     <g id=\"text_5\">\n      <!-- −10 -->\n      <defs>\n       <path d=\"M 12.40625 8.296875 \nL 28.515625 8.296875 \nL 28.515625 63.921875 \nL 10.984375 60.40625 \nL 10.984375 69.390625 \nL 28.421875 72.90625 \nL 38.28125 72.90625 \nL 38.28125 8.296875 \nL 54.390625 8.296875 \nL 54.390625 0 \nL 12.40625 0 \nz\n\" id=\"DejaVuSans-49\"/>\n      </defs>\n      <g transform=\"translate(7.2 139.695662)scale(0.1 -0.1)\">\n       <use xlink:href=\"#DejaVuSans-8722\"/>\n       <use x=\"83.789062\" xlink:href=\"#DejaVuSans-49\"/>\n       <use x=\"147.412109\" xlink:href=\"#DejaVuSans-48\"/>\n      </g>\n     </g>\n    </g>\n    <g id=\"ytick_2\">\n     <g id=\"line2d_6\">\n      <g>\n       <use style=\"stroke:#000000;stroke-width:0.8;\" x=\"35.304688\" xlink:href=\"#m0c90f94160\" y=\"111.986535\"/>\n      </g>\n     </g>\n     <g id=\"text_6\">\n      <!-- −5 -->\n      <defs>\n       <path d=\"M 10.796875 72.90625 \nL 49.515625 72.90625 \nL 49.515625 64.59375 \nL 19.828125 64.59375 \nL 19.828125 46.734375 \nQ 21.96875 47.46875 24.109375 47.828125 \nQ 26.265625 48.1875 28.421875 48.1875 \nQ 40.625 48.1875 47.75 41.5 \nQ 54.890625 34.8125 54.890625 23.390625 \nQ 54.890625 11.625 47.5625 5.09375 \nQ 40.234375 -1.421875 26.90625 -1.421875 \nQ 22.3125 -1.421875 17.546875 -0.640625 \nQ 12.796875 0.140625 7.71875 1.703125 \nL 7.71875 11.625 \nQ 12.109375 9.234375 16.796875 8.0625 \nQ 21.484375 6.890625 26.703125 6.890625 \nQ 35.15625 6.890625 40.078125 11.328125 \nQ 45.015625 15.765625 45.015625 23.390625 \nQ 45.015625 31 40.078125 35.4375 \nQ 35.15625 39.890625 26.703125 39.890625 \nQ 22.75 39.890625 18.8125 39.015625 \nQ 14.890625 38.140625 10.796875 36.28125 \nz\n\" id=\"DejaVuSans-53\"/>\n      </defs>\n      <g transform=\"translate(13.5625 115.785754)scale(0.1 -0.1)\">\n       <use xlink:href=\"#DejaVuSans-8722\"/>\n       <use x=\"83.789062\" xlink:href=\"#DejaVuSans-53\"/>\n      </g>\n     </g>\n    </g>\n    <g id=\"ytick_3\">\n     <g id=\"line2d_7\">\n      <g>\n       <use style=\"stroke:#000000;stroke-width:0.8;\" x=\"35.304688\" xlink:href=\"#m0c90f94160\" y=\"88.076627\"/>\n      </g>\n     </g>\n     <g id=\"text_7\">\n      <!-- 0 -->\n      <g transform=\"translate(21.942187 91.875846)scale(0.1 -0.1)\">\n       <use xlink:href=\"#DejaVuSans-48\"/>\n      </g>\n     </g>\n    </g>\n    <g id=\"ytick_4\">\n     <g id=\"line2d_8\">\n      <g>\n       <use style=\"stroke:#000000;stroke-width:0.8;\" x=\"35.304688\" xlink:href=\"#m0c90f94160\" y=\"64.166719\"/>\n      </g>\n     </g>\n     <g id=\"text_8\">\n      <!-- 5 -->\n      <g transform=\"translate(21.942187 67.965938)scale(0.1 -0.1)\">\n       <use xlink:href=\"#DejaVuSans-53\"/>\n      </g>\n     </g>\n    </g>\n    <g id=\"ytick_5\">\n     <g id=\"line2d_9\">\n      <g>\n       <use style=\"stroke:#000000;stroke-width:0.8;\" x=\"35.304688\" xlink:href=\"#m0c90f94160\" y=\"40.256811\"/>\n      </g>\n     </g>\n     <g id=\"text_9\">\n      <!-- 10 -->\n      <g transform=\"translate(15.579687 44.05603)scale(0.1 -0.1)\">\n       <use xlink:href=\"#DejaVuSans-49\"/>\n       <use x=\"63.623047\" xlink:href=\"#DejaVuSans-48\"/>\n      </g>\n     </g>\n    </g>\n    <g id=\"ytick_6\">\n     <g id=\"line2d_10\">\n      <g>\n       <use style=\"stroke:#000000;stroke-width:0.8;\" x=\"35.304688\" xlink:href=\"#m0c90f94160\" y=\"16.346903\"/>\n      </g>\n     </g>\n     <g id=\"text_10\">\n      <!-- 15 -->\n      <g transform=\"translate(15.579687 20.146122)scale(0.1 -0.1)\">\n       <use xlink:href=\"#DejaVuSans-49\"/>\n       <use x=\"63.623047\" xlink:href=\"#DejaVuSans-53\"/>\n      </g>\n     </g>\n    </g>\n   </g>\n   <g id=\"patch_3\">\n    <path d=\"M 35.304688 143.1 \nL 35.304688 7.2 \n\" style=\"fill:none;stroke:#000000;stroke-linecap:square;stroke-linejoin:miter;stroke-width:0.8;\"/>\n   </g>\n   <g id=\"patch_4\">\n    <path d=\"M 230.604688 143.1 \nL 230.604688 7.2 \n\" style=\"fill:none;stroke:#000000;stroke-linecap:square;stroke-linejoin:miter;stroke-width:0.8;\"/>\n   </g>\n   <g id=\"patch_5\">\n    <path d=\"M 35.304688 143.1 \nL 230.604688 143.1 \n\" style=\"fill:none;stroke:#000000;stroke-linecap:square;stroke-linejoin:miter;stroke-width:0.8;\"/>\n   </g>\n   <g id=\"patch_6\">\n    <path d=\"M 35.304688 7.2 \nL 230.604688 7.2 \n\" style=\"fill:none;stroke:#000000;stroke-linecap:square;stroke-linejoin:miter;stroke-width:0.8;\"/>\n   </g>\n  </g>\n </g>\n <defs>\n  <clipPath id=\"pc03ccb1536\">\n   <rect height=\"135.9\" width=\"195.3\" x=\"35.304688\" y=\"7.2\"/>\n  </clipPath>\n </defs>\n</svg>\n"
          },
          "metadata": {
            "needs_background": "light"
          }
        }
      ],
      "source": [
        "d2l.set_figsize()\n",
        "# The semicolon is for displaying the plot only\n",
        "d2l.plt.scatter(features[:, (1)].numpy(), labels.numpy(), 1);"
      ]
    },
    {
      "cell_type": "markdown",
      "id": "36253bc0-ba53-410c-86bb-7a2eb11f9592",
      "metadata": {
        "origin_pos": 5,
        "tags": [],
        "id": "36253bc0-ba53-410c-86bb-7a2eb11f9592"
      },
      "source": [
        "### Reading the Dataset\n",
        "\n",
        "In the following code [**call upon the existing API in a framework to read data.**]\n",
        "We pass in `features` and `labels` as arguments and specify `batch_size`\n",
        "when instantiating a data iterator object.\n",
        "Besides, the boolean value `is_train`\n",
        "indicates whether or not\n",
        "we want the data iterator object to shuffle the data\n",
        "on each epoch (pass through the dataset).\n"
      ]
    },
    {
      "cell_type": "markdown",
      "id": "c28419fa-707f-4a30-8d28-f18ab5d73c31",
      "metadata": {
        "id": "c28419fa-707f-4a30-8d28-f18ab5d73c31"
      },
      "source": [
        "1. **Use the tf function from_tensor_slices to generate a tf dataset object with batch_size as input**\n",
        "2. **Use is_train flag to determine whether to shuffle the dataset or not**"
      ]
    },
    {
      "cell_type": "code",
      "execution_count": 37,
      "id": "53aaab37-4b35-4ff3-9d72-292d260838a9",
      "metadata": {
        "origin_pos": 8,
        "tab": [
          "tensorflow"
        ],
        "id": "53aaab37-4b35-4ff3-9d72-292d260838a9"
      },
      "outputs": [],
      "source": [
        "def load_array(data_arrays, batch_size, is_train=True):  \n",
        "    \"\"\"Construct a TensorFlow data iterator.\"\"\"\n",
        "    #### YOUR CODE HERE ###\n",
        "    dataset = tf.data.Dataset.from_tensor_slices(data_arrays)\n",
        "    if(is_train):\n",
        "      dataset=dataset.shuffle(buffer_size=10 * batch_size)\n",
        "    dataset = dataset.batch(batch_size)\n",
        "    \n",
        "    return iter(dataset)"
      ]
    },
    {
      "cell_type": "code",
      "execution_count": 38,
      "id": "1421cf52-54d8-4341-816c-a5d095bfb8c3",
      "metadata": {
        "origin_pos": 9,
        "tab": [
          "tensorflow"
        ],
        "id": "1421cf52-54d8-4341-816c-a5d095bfb8c3"
      },
      "outputs": [],
      "source": [
        "batch_size = 10\n",
        "data_iter = load_array((features, labels), batch_size)"
      ]
    },
    {
      "cell_type": "markdown",
      "id": "d6e0c589-effb-40ba-8149-3309692fed48",
      "metadata": {
        "origin_pos": 10,
        "id": "d6e0c589-effb-40ba-8149-3309692fed48"
      },
      "source": [
        "3. **Use `iter` to construct a Python iterator and use `next` to obtain the first item from the iterator.**\n"
      ]
    },
    {
      "cell_type": "code",
      "execution_count": 39,
      "id": "2144c8a5-c59c-4886-af3b-8f4353e8f7c6",
      "metadata": {
        "origin_pos": 11,
        "tab": [
          "tensorflow"
        ],
        "id": "2144c8a5-c59c-4886-af3b-8f4353e8f7c6",
        "colab": {
          "base_uri": "https://localhost:8080/"
        },
        "outputId": "17ddffdf-0927-403c-9b63-a55d1a47a400"
      },
      "outputs": [
        {
          "output_type": "stream",
          "name": "stdout",
          "text": [
            "tf.Tensor(\n",
            "[[-1.2484424  -0.2518056 ]\n",
            " [ 0.43313655 -0.46394026]\n",
            " [ 0.18945342  0.9961622 ]\n",
            " [ 0.89870447 -1.250801  ]\n",
            " [-1.3848315  -1.9945853 ]\n",
            " [-0.23136312  0.27003002]\n",
            " [-0.1726872   2.3966177 ]\n",
            " [-2.0208201  -2.8400815 ]\n",
            " [-0.678932   -0.83569574]\n",
            " [-0.14039472  0.14554644]], shape=(10, 2), dtype=float32)\n",
            "tf.Tensor(\n",
            "[[ 8.302043 ]\n",
            " [ 8.354671 ]\n",
            " [ 2.3420942]\n",
            " [ 4.5370417]\n",
            " [ 6.7102227]\n",
            " [11.128966 ]\n",
            " [-3.9454296]\n",
            " [ 1.1106455]\n",
            " [ 2.7450585]\n",
            " [ 3.7432418]], shape=(10, 1), dtype=float32)\n"
          ]
        }
      ],
      "source": [
        "### YOUR CODE HERE ###\n",
        "print(next(data_iter)[0]) \n",
        "print(next(data_iter)[1])"
      ]
    },
    {
      "cell_type": "markdown",
      "id": "24da4a06-3978-49c2-bcf4-cb4c1ae64f49",
      "metadata": {
        "origin_pos": 15,
        "id": "24da4a06-3978-49c2-bcf4-cb4c1ae64f49"
      },
      "source": [
        "4. **Explain what the output shape in the prvious tensors means:**\n"
      ]
    },
    {
      "cell_type": "markdown",
      "id": "c7eda004-0643-4132-b737-c1f2fc2049d9",
      "metadata": {
        "origin_pos": 16,
        "tab": [
          "tensorflow"
        ],
        "id": "c7eda004-0643-4132-b737-c1f2fc2049d9"
      },
      "source": [
        "**Answer:** shape =(10,2) means 10 batches X 2 Feature \n",
        "\n",
        "\n",
        "shape=(10,1) means 10 batches X 1 y values"
      ]
    },
    {
      "cell_type": "markdown",
      "id": "5c83f595-3746-435e-a824-9b4011a5aa40",
      "metadata": {
        "id": "5c83f595-3746-435e-a824-9b4011a5aa40"
      },
      "source": [
        "5. **How many TOTAL batches can be generated by **ENTIRE** data_iter ?** --> batches in data"
      ]
    },
    {
      "cell_type": "markdown",
      "id": "88eb5391-71a5-45ef-8af3-8f6a33b7793c",
      "metadata": {
        "origin_pos": 16,
        "tab": [
          "tensorflow"
        ],
        "id": "88eb5391-71a5-45ef-8af3-8f6a33b7793c"
      },
      "source": [
        "**Answer:** the batch_size = 10\n",
        "\n",
        "number of batches = N0 of samples / batch_size= 1000/10=100 batch"
      ]
    },
    {
      "cell_type": "markdown",
      "id": "71628cba-f449-4139-a02a-f4b9e6b53545",
      "metadata": {
        "origin_pos": 17,
        "tags": [],
        "id": "71628cba-f449-4139-a02a-f4b9e6b53545"
      },
      "source": [
        "### Initializing Model Parameters\n",
        "\n",
        "6. **Initialize weights by sampling random numbers from a normal distribution with mean 0 and a standard deviation of 0.01, and setting the bias to 0.**\n",
        "\n",
        "Note: For the shapes of the weights and bias, look at the generating a dataset part\n"
      ]
    },
    {
      "cell_type": "code",
      "execution_count": 40,
      "id": "db96e147-7256-4a1e-8c8a-6b89df19f117",
      "metadata": {
        "origin_pos": 20,
        "tab": [
          "tensorflow"
        ],
        "id": "db96e147-7256-4a1e-8c8a-6b89df19f117"
      },
      "outputs": [],
      "source": [
        "## YOUR CODE HERE ##\n",
        "mean = 0\n",
        "s_deviation = 0.01\n",
        "\n",
        "w =tf.random.normal( mean=mean,stddev=s_deviation, shape=(2,1))\n",
        "b =tf.zeros([1,1]) "
      ]
    },
    {
      "cell_type": "markdown",
      "id": "09bbcd34-e487-4751-b8ff-a0f932350562",
      "metadata": {
        "origin_pos": 21,
        "id": "09bbcd34-e487-4751-b8ff-a0f932350562"
      },
      "source": [
        "### Defining the Model\n",
        "\n",
        "7. [**define our model, relating its inputs and parameters to its outputs.**]"
      ]
    },
    {
      "cell_type": "code",
      "execution_count": 41,
      "id": "a892f99c-9846-4b4c-bf89-dd552ca2fd26",
      "metadata": {
        "origin_pos": 22,
        "tab": [
          "tensorflow"
        ],
        "id": "a892f99c-9846-4b4c-bf89-dd552ca2fd26"
      },
      "outputs": [],
      "source": [
        "def linreg(X, w, b):  \n",
        "    \"\"\"The linear regression model.\"\"\"\n",
        "    ## YOUR CODE HERE ##\n",
        "    return tf.matmul(X, w) + b"
      ]
    },
    {
      "cell_type": "markdown",
      "id": "78acdc39-21c6-4125-b0de-b7a14a9c93eb",
      "metadata": {
        "origin_pos": 23,
        "id": "78acdc39-21c6-4125-b0de-b7a14a9c93eb"
      },
      "source": [
        "### Defining the Loss Function\n",
        "\n",
        "8. (**define the loss function**): the squared loss function\n",
        "as described in Loss Function definition above.\n",
        "\n",
        "Note: In the implementation, you need to transform the true value `y`\n",
        "into the predicted value's shape `y_hat`.\n",
        "The result returned by the following function\n",
        "will also have the same shape as `y_hat`.\n"
      ]
    },
    {
      "cell_type": "code",
      "execution_count": 57,
      "id": "37e04bc2-0d67-4204-b0bf-b99ff8a1d0d3",
      "metadata": {
        "origin_pos": 24,
        "tab": [
          "tensorflow"
        ],
        "id": "37e04bc2-0d67-4204-b0bf-b99ff8a1d0d3"
      },
      "outputs": [],
      "source": [
        "def squared_loss(y_hat, y):  \n",
        "    \"\"\"Squared loss.\"\"\"\n",
        "    ## YOUR CODE HERE ##\n",
        "    l=(y_hat - d2l.reshape(y, y_hat.shape)) ** 2 / 2\n",
        "    return  tf.reduce_mean(l)"
      ]
    },
    {
      "cell_type": "markdown",
      "id": "212f6a87-1c81-4aa1-aebe-41334d719398",
      "metadata": {
        "origin_pos": 25,
        "id": "212f6a87-1c81-4aa1-aebe-41334d719398"
      },
      "source": [
        "### Defining the Optimization Algorithm\n",
        "\n",
        "At each step, using one minibatch randomly drawn from our dataset,\n",
        "we will estimate the gradient of the loss with respect to our parameters.\n",
        "Next, we will update our parameters\n",
        "in the direction that may reduce the loss.\n",
        "\n",
        "9. **Filll in the missing function below to apply the minibatch stochastic gradient descent update, given a set of parameters, a learning rate, and a batch size.**\n",
        "\n",
        "Note: use assign_sub\n"
      ]
    },
    {
      "cell_type": "code",
      "execution_count": 58,
      "id": "ddfe9ccd-271e-4fc3-ab9a-3720d6bf4b23",
      "metadata": {
        "origin_pos": 28,
        "tab": [
          "tensorflow"
        ],
        "id": "ddfe9ccd-271e-4fc3-ab9a-3720d6bf4b23"
      },
      "outputs": [],
      "source": [
        "def sgd(params, grads, lr, batch_size):  \n",
        "    \"\"\"Minibatch stochastic gradient descent.\"\"\"\n",
        "    ## YOUR CODE HERE ##\n",
        "    for param, grad in zip(params, grads):\n",
        "        param.assign_sub(lr*grad/batch_size)\n",
        "    "
      ]
    },
    {
      "cell_type": "markdown",
      "id": "9016fa58-4d4b-44b1-91a1-6f1e8995c9f7",
      "metadata": {
        "origin_pos": 29,
        "id": "9016fa58-4d4b-44b1-91a1-6f1e8995c9f7"
      },
      "source": [
        "### Training\n",
        "\n",
        "10. **Implement the following loop**\n",
        "\n",
        "* For each epoch :\n",
        "    * Initialize parameters $(\\mathbf{w}, b)$\n",
        "    * Repeat until done\n",
        "        * Compute gradient $\\mathbf{g} \\leftarrow \\partial_{(\\mathbf{w},b)} \\frac{1}{|\\mathcal{B}|} \\sum_{i \\in \\mathcal{B}} l(\\mathbf{x}^{(i)}, y^{(i)}, \\mathbf{w}, b)$\n",
        "        * Update parameters $(\\mathbf{w}, b) \\leftarrow (\\mathbf{w}, b) - \\eta \\mathbf{g}$\n",
        "    * Print the loss at the end of each epoch\n",
        "\n",
        "In each *epoch*,\n",
        "we will iterate through the entire dataset\n",
        "(using the `data_iter` function) once\n",
        "passing through every example in the training dataset\n",
        ".\n",
        "\n",
        "\n",
        "Set the number of epochs `num_epochs` and the learning rate `lr` to 3 and 0.03, respectively."
      ]
    },
    {
      "cell_type": "code",
      "execution_count": 59,
      "id": "50a93813-59c4-48e7-beaf-d27fb707a96f",
      "metadata": {
        "origin_pos": 30,
        "tab": [
          "tensorflow"
        ],
        "id": "50a93813-59c4-48e7-beaf-d27fb707a96f"
      },
      "outputs": [],
      "source": [
        "lr = 0.03\n",
        "num_epochs = 3\n",
        "net = linreg\n",
        "loss = squared_loss"
      ]
    },
    {
      "cell_type": "code",
      "execution_count": 62,
      "id": "7f2d2d6e-1661-4737-b135-887221607b48",
      "metadata": {
        "origin_pos": 33,
        "tab": [
          "tensorflow"
        ],
        "id": "7f2d2d6e-1661-4737-b135-887221607b48",
        "colab": {
          "base_uri": "https://localhost:8080/"
        },
        "outputId": "cd91e6e2-1b59-4881-8ca1-43db33761fcd"
      },
      "outputs": [
        {
          "output_type": "stream",
          "name": "stdout",
          "text": [
            "\n",
            "Start of epoch 0\n",
            "loss value:  tf.Tensor(3.906039e-05, shape=(), dtype=float32)\n",
            "\n",
            "Start of epoch 1\n",
            "loss value:  tf.Tensor(5.3990556e-05, shape=(), dtype=float32)\n",
            "\n",
            "Start of epoch 2\n",
            "loss value:  tf.Tensor(7.380366e-05, shape=(), dtype=float32)\n"
          ]
        }
      ],
      "source": [
        "## YOUR CODE HERE ##\n",
        "batch_size = 10\n",
        "\n",
        "for epoch in range(num_epochs):\n",
        "  data_iter = load_array((features, labels), batch_size,is_train=True)\n",
        "  print(\"\\nStart of epoch %d\" % (epoch,))\n",
        "\n",
        "  for data in data_iter:\n",
        "    x=data[0] \n",
        "    y=data[1] \n",
        "      \n",
        "    with tf.GradientTape() as tape:\n",
        "      logits=linreg(x, w,b)\n",
        "      loss_value=squared_loss(y , logits)\n",
        "    \n",
        "    dw, db = tape.gradient(loss_value, [w, b])\n",
        "    \n",
        "    sgd([w, b], [dw, db], lr, batch_size)\n",
        "   \n",
        "  print(\"loss value: \",squared_loss(y, linreg(x, w,b)))"
      ]
    },
    {
      "cell_type": "markdown",
      "id": "393f4953-35dc-46c1-b495-96172232bc3f",
      "metadata": {
        "origin_pos": 34,
        "id": "393f4953-35dc-46c1-b495-96172232bc3f"
      },
      "source": [
        "In this case, because we synthesized the dataset ourselves,\n",
        "we know precisely what the true parameters are.\n",
        "\n",
        "11. [**evaluate our success in training by comparing the true parameters with those that we learned**] through our training loop. They should turn out to be very close to each other.\n"
      ]
    },
    {
      "cell_type": "code",
      "execution_count": 64,
      "id": "c99daff3-745a-43fd-898e-bbf1e3804c78",
      "metadata": {
        "origin_pos": 35,
        "tab": [
          "tensorflow"
        ],
        "id": "c99daff3-745a-43fd-898e-bbf1e3804c78",
        "colab": {
          "base_uri": "https://localhost:8080/"
        },
        "outputId": "95dd24f0-47ed-4557-90f3-3117cee0d72c"
      },
      "outputs": [
        {
          "output_type": "stream",
          "name": "stdout",
          "text": [
            "error in estimating w: [-0.00078917 -0.00067449]\n",
            "error in estimating b: [[0.00035286]]\n"
          ]
        }
      ],
      "source": [
        "## YOUR CODE HERE ##\n",
        "print(f'error in estimating w: {true_w - tf.reshape(w, true_w.shape)}')\n",
        "print(f'error in estimating b: {true_b - b}')"
      ]
    },
    {
      "cell_type": "markdown",
      "id": "3f7b518a-c2ac-4f0e-941b-98d300ed9963",
      "metadata": {
        "id": "3f7b518a-c2ac-4f0e-941b-98d300ed9963"
      },
      "source": [
        "## Part 2  Diabetes Dataset"
      ]
    },
    {
      "cell_type": "markdown",
      "id": "06b07d9c-b52e-4f52-8e70-f7a4bebd63bb",
      "metadata": {
        "id": "06b07d9c-b52e-4f52-8e70-f7a4bebd63bb"
      },
      "source": [
        "In this section, we will use SKLEARN's Diabetes dataset"
      ]
    },
    {
      "cell_type": "markdown",
      "id": "e0cef42e-4494-4f16-b2d2-7cfe68c51e3d",
      "metadata": {
        "id": "e0cef42e-4494-4f16-b2d2-7cfe68c51e3d"
      },
      "source": [
        "### Loading the Dataset"
      ]
    },
    {
      "cell_type": "markdown",
      "id": "2aea7770-afb6-45f2-93b1-b9c72df36bc0",
      "metadata": {
        "id": "2aea7770-afb6-45f2-93b1-b9c72df36bc0"
      },
      "source": [
        "1. **Load the Diabetes dataset from sklearn**"
      ]
    },
    {
      "cell_type": "code",
      "execution_count": 65,
      "id": "f07dc3b6-c48e-4a37-8f73-3500f344e717",
      "metadata": {
        "id": "f07dc3b6-c48e-4a37-8f73-3500f344e717"
      },
      "outputs": [],
      "source": [
        "from sklearn.datasets import load_diabetes\n",
        "## YOUR CODE HERE ##\n",
        "# Load the diabetes dataset\n",
        "diabetes_data = load_diabetes()"
      ]
    },
    {
      "cell_type": "markdown",
      "id": "aa95939c-f94a-4383-9e4b-18c86af1cebf",
      "metadata": {
        "id": "aa95939c-f94a-4383-9e4b-18c86af1cebf"
      },
      "source": [
        "2. **Look at the keys of diabetes_dataset dictionary**"
      ]
    },
    {
      "cell_type": "code",
      "execution_count": 67,
      "id": "1c92cb43-cb3d-47f1-8535-c4439f585412",
      "metadata": {
        "id": "1c92cb43-cb3d-47f1-8535-c4439f585412",
        "colab": {
          "base_uri": "https://localhost:8080/"
        },
        "outputId": "48b431c3-9d2e-43ac-dda0-72c71b821fed"
      },
      "outputs": [
        {
          "output_type": "stream",
          "name": "stdout",
          "text": [
            "dict_keys(['data', 'target', 'frame', 'DESCR', 'feature_names', 'data_filename', 'target_filename', 'data_module'])\n"
          ]
        }
      ],
      "source": [
        "## YOUR CODE HERE ##\n",
        "\n",
        "### Look at keys to determine the data\n",
        "print(diabetes_data.keys())"
      ]
    },
    {
      "cell_type": "markdown",
      "id": "484a2460-7023-4468-9399-3a40d00ba55c",
      "metadata": {
        "id": "484a2460-7023-4468-9399-3a40d00ba55c"
      },
      "source": [
        "3. **Use the key DESCR to understand the dataset**"
      ]
    },
    {
      "cell_type": "code",
      "execution_count": 69,
      "id": "87437737-e0d0-4e18-a841-ab214ed2261b",
      "metadata": {
        "id": "87437737-e0d0-4e18-a841-ab214ed2261b",
        "colab": {
          "base_uri": "https://localhost:8080/"
        },
        "outputId": "ed994946-05d8-43b9-c0c3-d39c38750851"
      },
      "outputs": [
        {
          "output_type": "stream",
          "name": "stdout",
          "text": [
            ".. _diabetes_dataset:\n",
            "\n",
            "Diabetes dataset\n",
            "----------------\n",
            "\n",
            "Ten baseline variables, age, sex, body mass index, average blood\n",
            "pressure, and six blood serum measurements were obtained for each of n =\n",
            "442 diabetes patients, as well as the response of interest, a\n",
            "quantitative measure of disease progression one year after baseline.\n",
            "\n",
            "**Data Set Characteristics:**\n",
            "\n",
            "  :Number of Instances: 442\n",
            "\n",
            "  :Number of Attributes: First 10 columns are numeric predictive values\n",
            "\n",
            "  :Target: Column 11 is a quantitative measure of disease progression one year after baseline\n",
            "\n",
            "  :Attribute Information:\n",
            "      - age     age in years\n",
            "      - sex\n",
            "      - bmi     body mass index\n",
            "      - bp      average blood pressure\n",
            "      - s1      tc, total serum cholesterol\n",
            "      - s2      ldl, low-density lipoproteins\n",
            "      - s3      hdl, high-density lipoproteins\n",
            "      - s4      tch, total cholesterol / HDL\n",
            "      - s5      ltg, possibly log of serum triglycerides level\n",
            "      - s6      glu, blood sugar level\n",
            "\n",
            "Note: Each of these 10 feature variables have been mean centered and scaled by the standard deviation times `n_samples` (i.e. the sum of squares of each column totals 1).\n",
            "\n",
            "Source URL:\n",
            "https://www4.stat.ncsu.edu/~boos/var.select/diabetes.html\n",
            "\n",
            "For more information see:\n",
            "Bradley Efron, Trevor Hastie, Iain Johnstone and Robert Tibshirani (2004) \"Least Angle Regression,\" Annals of Statistics (with discussion), 407-499.\n",
            "(https://web.stanford.edu/~hastie/Papers/LARS/LeastAngle_2002.pdf)\n"
          ]
        }
      ],
      "source": [
        "## YOUR CODE HERE ##\n",
        "print(diabetes_data.DESCR)"
      ]
    },
    {
      "cell_type": "markdown",
      "id": "6472180c-ebb8-44f9-8bab-c507e256ef39",
      "metadata": {
        "id": "6472180c-ebb8-44f9-8bab-c507e256ef39"
      },
      "source": [
        "4. **Save the data and target variables in numpy arrays and print their shapes**"
      ]
    },
    {
      "cell_type": "code",
      "execution_count": 70,
      "id": "8fc2a160-b33f-44c5-83a7-08beb821a64a",
      "metadata": {
        "id": "8fc2a160-b33f-44c5-83a7-08beb821a64a",
        "colab": {
          "base_uri": "https://localhost:8080/"
        },
        "outputId": "d5c8a46f-9c7b-42d0-fc35-27b16f9bf357"
      },
      "outputs": [
        {
          "output_type": "stream",
          "name": "stdout",
          "text": [
            "The shape of data is: (442, 10)\n",
            "The shape of targets is: (442,)\n",
            "I have f = 10 features!\n",
            "I have m = 442 examples!\n"
          ]
        }
      ],
      "source": [
        "### START CODE HERE ### (≈ 2 lines of code)\n",
        "data=np.array(diabetes_data.data)\n",
        "targets=np.array(diabetes_data.target)\n",
        "### END CODE HERE ###\n",
        "\n",
        "print ('The shape of data is: ' + str(data.shape))\n",
        "print ('The shape of targets is: ' + str(targets.shape))\n",
        "print ('I have f = %d features!' % (data.shape[1]))\n",
        "print ('I have m = %d examples!' % (data.shape[0]))"
      ]
    },
    {
      "cell_type": "markdown",
      "id": "52f4ad51-a6a3-4cfc-9c64-6e7a44545d66",
      "metadata": {
        "id": "52f4ad51-a6a3-4cfc-9c64-6e7a44545d66"
      },
      "source": [
        "5. **What are the ranges of each column in features and the target column?**\n",
        "    - *Hint* you might find it helpful to convert to pandas dataframe and use \".describe\""
      ]
    },
    {
      "cell_type": "code",
      "execution_count": 73,
      "id": "1e4d03cc-c705-4e4e-81f7-6d49a6e86fbd",
      "metadata": {
        "id": "1e4d03cc-c705-4e4e-81f7-6d49a6e86fbd",
        "colab": {
          "base_uri": "https://localhost:8080/",
          "height": 434
        },
        "outputId": "4cc1ca7d-d553-4b06-d8c4-58a48f0aee40"
      },
      "outputs": [
        {
          "output_type": "execute_result",
          "data": {
            "text/plain": [
              "                age           sex           bmi            bp            s1  \\\n",
              "count  4.420000e+02  4.420000e+02  4.420000e+02  4.420000e+02  4.420000e+02   \n",
              "mean  -3.639623e-16  1.309912e-16 -8.013951e-16  1.289818e-16 -9.042540e-17   \n",
              "std    4.761905e-02  4.761905e-02  4.761905e-02  4.761905e-02  4.761905e-02   \n",
              "min   -1.072256e-01 -4.464164e-02 -9.027530e-02 -1.123996e-01 -1.267807e-01   \n",
              "25%   -3.729927e-02 -4.464164e-02 -3.422907e-02 -3.665645e-02 -3.424784e-02   \n",
              "50%    5.383060e-03 -4.464164e-02 -7.283766e-03 -5.670611e-03 -4.320866e-03   \n",
              "75%    3.807591e-02  5.068012e-02  3.124802e-02  3.564384e-02  2.835801e-02   \n",
              "max    1.107267e-01  5.068012e-02  1.705552e-01  1.320442e-01  1.539137e-01   \n",
              "\n",
              "                 s2            s3            s4            s5            s6  \\\n",
              "count  4.420000e+02  4.420000e+02  4.420000e+02  4.420000e+02  4.420000e+02   \n",
              "mean   1.301121e-16 -4.563971e-16  3.863174e-16 -3.848103e-16 -3.398488e-16   \n",
              "std    4.761905e-02  4.761905e-02  4.761905e-02  4.761905e-02  4.761905e-02   \n",
              "min   -1.156131e-01 -1.023071e-01 -7.639450e-02 -1.260974e-01 -1.377672e-01   \n",
              "25%   -3.035840e-02 -3.511716e-02 -3.949338e-02 -3.324879e-02 -3.317903e-02   \n",
              "50%   -3.819065e-03 -6.584468e-03 -2.592262e-03 -1.947634e-03 -1.077698e-03   \n",
              "75%    2.984439e-02  2.931150e-02  3.430886e-02  3.243323e-02  2.791705e-02   \n",
              "max    1.987880e-01  1.811791e-01  1.852344e-01  1.335990e-01  1.356118e-01   \n",
              "\n",
              "           target  \n",
              "count  442.000000  \n",
              "mean   152.133484  \n",
              "std     77.093005  \n",
              "min     25.000000  \n",
              "25%     87.000000  \n",
              "50%    140.500000  \n",
              "75%    211.500000  \n",
              "max    346.000000  "
            ],
            "text/html": [
              "\n",
              "  <div id=\"df-f6e10c56-7441-4540-a471-dbc94f332d15\">\n",
              "    <div class=\"colab-df-container\">\n",
              "      <div>\n",
              "<style scoped>\n",
              "    .dataframe tbody tr th:only-of-type {\n",
              "        vertical-align: middle;\n",
              "    }\n",
              "\n",
              "    .dataframe tbody tr th {\n",
              "        vertical-align: top;\n",
              "    }\n",
              "\n",
              "    .dataframe thead th {\n",
              "        text-align: right;\n",
              "    }\n",
              "</style>\n",
              "<table border=\"1\" class=\"dataframe\">\n",
              "  <thead>\n",
              "    <tr style=\"text-align: right;\">\n",
              "      <th></th>\n",
              "      <th>age</th>\n",
              "      <th>sex</th>\n",
              "      <th>bmi</th>\n",
              "      <th>bp</th>\n",
              "      <th>s1</th>\n",
              "      <th>s2</th>\n",
              "      <th>s3</th>\n",
              "      <th>s4</th>\n",
              "      <th>s5</th>\n",
              "      <th>s6</th>\n",
              "      <th>target</th>\n",
              "    </tr>\n",
              "  </thead>\n",
              "  <tbody>\n",
              "    <tr>\n",
              "      <th>count</th>\n",
              "      <td>4.420000e+02</td>\n",
              "      <td>4.420000e+02</td>\n",
              "      <td>4.420000e+02</td>\n",
              "      <td>4.420000e+02</td>\n",
              "      <td>4.420000e+02</td>\n",
              "      <td>4.420000e+02</td>\n",
              "      <td>4.420000e+02</td>\n",
              "      <td>4.420000e+02</td>\n",
              "      <td>4.420000e+02</td>\n",
              "      <td>4.420000e+02</td>\n",
              "      <td>442.000000</td>\n",
              "    </tr>\n",
              "    <tr>\n",
              "      <th>mean</th>\n",
              "      <td>-3.639623e-16</td>\n",
              "      <td>1.309912e-16</td>\n",
              "      <td>-8.013951e-16</td>\n",
              "      <td>1.289818e-16</td>\n",
              "      <td>-9.042540e-17</td>\n",
              "      <td>1.301121e-16</td>\n",
              "      <td>-4.563971e-16</td>\n",
              "      <td>3.863174e-16</td>\n",
              "      <td>-3.848103e-16</td>\n",
              "      <td>-3.398488e-16</td>\n",
              "      <td>152.133484</td>\n",
              "    </tr>\n",
              "    <tr>\n",
              "      <th>std</th>\n",
              "      <td>4.761905e-02</td>\n",
              "      <td>4.761905e-02</td>\n",
              "      <td>4.761905e-02</td>\n",
              "      <td>4.761905e-02</td>\n",
              "      <td>4.761905e-02</td>\n",
              "      <td>4.761905e-02</td>\n",
              "      <td>4.761905e-02</td>\n",
              "      <td>4.761905e-02</td>\n",
              "      <td>4.761905e-02</td>\n",
              "      <td>4.761905e-02</td>\n",
              "      <td>77.093005</td>\n",
              "    </tr>\n",
              "    <tr>\n",
              "      <th>min</th>\n",
              "      <td>-1.072256e-01</td>\n",
              "      <td>-4.464164e-02</td>\n",
              "      <td>-9.027530e-02</td>\n",
              "      <td>-1.123996e-01</td>\n",
              "      <td>-1.267807e-01</td>\n",
              "      <td>-1.156131e-01</td>\n",
              "      <td>-1.023071e-01</td>\n",
              "      <td>-7.639450e-02</td>\n",
              "      <td>-1.260974e-01</td>\n",
              "      <td>-1.377672e-01</td>\n",
              "      <td>25.000000</td>\n",
              "    </tr>\n",
              "    <tr>\n",
              "      <th>25%</th>\n",
              "      <td>-3.729927e-02</td>\n",
              "      <td>-4.464164e-02</td>\n",
              "      <td>-3.422907e-02</td>\n",
              "      <td>-3.665645e-02</td>\n",
              "      <td>-3.424784e-02</td>\n",
              "      <td>-3.035840e-02</td>\n",
              "      <td>-3.511716e-02</td>\n",
              "      <td>-3.949338e-02</td>\n",
              "      <td>-3.324879e-02</td>\n",
              "      <td>-3.317903e-02</td>\n",
              "      <td>87.000000</td>\n",
              "    </tr>\n",
              "    <tr>\n",
              "      <th>50%</th>\n",
              "      <td>5.383060e-03</td>\n",
              "      <td>-4.464164e-02</td>\n",
              "      <td>-7.283766e-03</td>\n",
              "      <td>-5.670611e-03</td>\n",
              "      <td>-4.320866e-03</td>\n",
              "      <td>-3.819065e-03</td>\n",
              "      <td>-6.584468e-03</td>\n",
              "      <td>-2.592262e-03</td>\n",
              "      <td>-1.947634e-03</td>\n",
              "      <td>-1.077698e-03</td>\n",
              "      <td>140.500000</td>\n",
              "    </tr>\n",
              "    <tr>\n",
              "      <th>75%</th>\n",
              "      <td>3.807591e-02</td>\n",
              "      <td>5.068012e-02</td>\n",
              "      <td>3.124802e-02</td>\n",
              "      <td>3.564384e-02</td>\n",
              "      <td>2.835801e-02</td>\n",
              "      <td>2.984439e-02</td>\n",
              "      <td>2.931150e-02</td>\n",
              "      <td>3.430886e-02</td>\n",
              "      <td>3.243323e-02</td>\n",
              "      <td>2.791705e-02</td>\n",
              "      <td>211.500000</td>\n",
              "    </tr>\n",
              "    <tr>\n",
              "      <th>max</th>\n",
              "      <td>1.107267e-01</td>\n",
              "      <td>5.068012e-02</td>\n",
              "      <td>1.705552e-01</td>\n",
              "      <td>1.320442e-01</td>\n",
              "      <td>1.539137e-01</td>\n",
              "      <td>1.987880e-01</td>\n",
              "      <td>1.811791e-01</td>\n",
              "      <td>1.852344e-01</td>\n",
              "      <td>1.335990e-01</td>\n",
              "      <td>1.356118e-01</td>\n",
              "      <td>346.000000</td>\n",
              "    </tr>\n",
              "  </tbody>\n",
              "</table>\n",
              "</div>\n",
              "      <button class=\"colab-df-convert\" onclick=\"convertToInteractive('df-f6e10c56-7441-4540-a471-dbc94f332d15')\"\n",
              "              title=\"Convert this dataframe to an interactive table.\"\n",
              "              style=\"display:none;\">\n",
              "        \n",
              "  <svg xmlns=\"http://www.w3.org/2000/svg\" height=\"24px\"viewBox=\"0 0 24 24\"\n",
              "       width=\"24px\">\n",
              "    <path d=\"M0 0h24v24H0V0z\" fill=\"none\"/>\n",
              "    <path d=\"M18.56 5.44l.94 2.06.94-2.06 2.06-.94-2.06-.94-.94-2.06-.94 2.06-2.06.94zm-11 1L8.5 8.5l.94-2.06 2.06-.94-2.06-.94L8.5 2.5l-.94 2.06-2.06.94zm10 10l.94 2.06.94-2.06 2.06-.94-2.06-.94-.94-2.06-.94 2.06-2.06.94z\"/><path d=\"M17.41 7.96l-1.37-1.37c-.4-.4-.92-.59-1.43-.59-.52 0-1.04.2-1.43.59L10.3 9.45l-7.72 7.72c-.78.78-.78 2.05 0 2.83L4 21.41c.39.39.9.59 1.41.59.51 0 1.02-.2 1.41-.59l7.78-7.78 2.81-2.81c.8-.78.8-2.07 0-2.86zM5.41 20L4 18.59l7.72-7.72 1.47 1.35L5.41 20z\"/>\n",
              "  </svg>\n",
              "      </button>\n",
              "      \n",
              "  <style>\n",
              "    .colab-df-container {\n",
              "      display:flex;\n",
              "      flex-wrap:wrap;\n",
              "      gap: 12px;\n",
              "    }\n",
              "\n",
              "    .colab-df-convert {\n",
              "      background-color: #E8F0FE;\n",
              "      border: none;\n",
              "      border-radius: 50%;\n",
              "      cursor: pointer;\n",
              "      display: none;\n",
              "      fill: #1967D2;\n",
              "      height: 32px;\n",
              "      padding: 0 0 0 0;\n",
              "      width: 32px;\n",
              "    }\n",
              "\n",
              "    .colab-df-convert:hover {\n",
              "      background-color: #E2EBFA;\n",
              "      box-shadow: 0px 1px 2px rgba(60, 64, 67, 0.3), 0px 1px 3px 1px rgba(60, 64, 67, 0.15);\n",
              "      fill: #174EA6;\n",
              "    }\n",
              "\n",
              "    [theme=dark] .colab-df-convert {\n",
              "      background-color: #3B4455;\n",
              "      fill: #D2E3FC;\n",
              "    }\n",
              "\n",
              "    [theme=dark] .colab-df-convert:hover {\n",
              "      background-color: #434B5C;\n",
              "      box-shadow: 0px 1px 3px 1px rgba(0, 0, 0, 0.15);\n",
              "      filter: drop-shadow(0px 1px 2px rgba(0, 0, 0, 0.3));\n",
              "      fill: #FFFFFF;\n",
              "    }\n",
              "  </style>\n",
              "\n",
              "      <script>\n",
              "        const buttonEl =\n",
              "          document.querySelector('#df-f6e10c56-7441-4540-a471-dbc94f332d15 button.colab-df-convert');\n",
              "        buttonEl.style.display =\n",
              "          google.colab.kernel.accessAllowed ? 'block' : 'none';\n",
              "\n",
              "        async function convertToInteractive(key) {\n",
              "          const element = document.querySelector('#df-f6e10c56-7441-4540-a471-dbc94f332d15');\n",
              "          const dataTable =\n",
              "            await google.colab.kernel.invokeFunction('convertToInteractive',\n",
              "                                                     [key], {});\n",
              "          if (!dataTable) return;\n",
              "\n",
              "          const docLinkHtml = 'Like what you see? Visit the ' +\n",
              "            '<a target=\"_blank\" href=https://colab.research.google.com/notebooks/data_table.ipynb>data table notebook</a>'\n",
              "            + ' to learn more about interactive tables.';\n",
              "          element.innerHTML = '';\n",
              "          dataTable['output_type'] = 'display_data';\n",
              "          await google.colab.output.renderOutput(dataTable, element);\n",
              "          const docLink = document.createElement('div');\n",
              "          docLink.innerHTML = docLinkHtml;\n",
              "          element.appendChild(docLink);\n",
              "        }\n",
              "      </script>\n",
              "    </div>\n",
              "  </div>\n",
              "  "
            ]
          },
          "metadata": {},
          "execution_count": 73
        }
      ],
      "source": [
        "### START CODE HERE ###\n",
        "diabetes_data = load_diabetes(as_frame=True)\n",
        "diabetes_data.frame.describe()\n",
        "### END CODE HERE ###"
      ]
    },
    {
      "cell_type": "markdown",
      "id": "742f762c-fe10-42be-a3d6-7cbb4df68c0d",
      "metadata": {
        "id": "742f762c-fe10-42be-a3d6-7cbb4df68c0d"
      },
      "source": [
        "### Preparing the data"
      ]
    },
    {
      "cell_type": "markdown",
      "id": "4c879c44-aec4-4c29-aa2a-76a1d48171e6",
      "metadata": {
        "id": "4c879c44-aec4-4c29-aa2a-76a1d48171e6"
      },
      "source": [
        "6. **Split the data into train and test set using sklearn train_test_split.** Have the test set as 10% of data"
      ]
    },
    {
      "cell_type": "code",
      "execution_count": 116,
      "id": "ced08578-8d2c-4e2b-ae34-4f6fa8f4326d",
      "metadata": {
        "id": "ced08578-8d2c-4e2b-ae34-4f6fa8f4326d",
        "colab": {
          "base_uri": "https://localhost:8080/"
        },
        "outputId": "a9712fba-a51c-4fe9-d095-04147f03adb2"
      },
      "outputs": [
        {
          "output_type": "stream",
          "name": "stdout",
          "text": [
            "Shape of training data is (397, 10)\n",
            "Shape of training targets is (397,)\n",
            "Shape of test data is (45, 10)\n",
            "Shape of test targets is (45,)\n"
          ]
        }
      ],
      "source": [
        "np.random.seed(0)\n",
        "### START CODE HERE ###\n",
        "from sklearn.model_selection import train_test_split\n",
        "train_data, test_data, train_targets, test_targets = train_test_split( data,targets, test_size=0.10, random_state=np.random.seed(0))\n",
        "### END CODE HERE ###\n",
        "\n",
        "print(\"Shape of training data is\", train_data.shape)\n",
        "print(\"Shape of training targets is\", train_targets.shape)\n",
        "print(\"Shape of test data is\", test_data.shape)\n",
        "print(\"Shape of test targets is\", test_targets.shape)"
      ]
    },
    {
      "cell_type": "markdown",
      "id": "e18cbdeb-252c-450b-b85a-d35d5989f928",
      "metadata": {
        "id": "e18cbdeb-252c-450b-b85a-d35d5989f928"
      },
      "source": [
        "- *feature-wise normalization*: for each feature in the input data (a column in the input data matrix), we subtract the mean of the feature and divide by the standard deviation, so that the feature is centered around 0 and has a unit standard deviation. This is easily done in NumPy.\n",
        "- **Question:** Shold we normalize features? WHY?\n",
        "    - ANSWER: no because the ranges of features are almost the same we need only make normalization for target"
      ]
    },
    {
      "cell_type": "markdown",
      "id": "e679d2b1-eded-4768-8954-c6cdfde3e207",
      "metadata": {
        "id": "e679d2b1-eded-4768-8954-c6cdfde3e207"
      },
      "source": [
        "7. **normalize the targets using standard normalization**\n",
        "\n",
        "Hint: Avoid leak between train and test data !!"
      ]
    },
    {
      "cell_type": "code",
      "execution_count": 117,
      "id": "f18246d4-dbd8-403a-9db9-a72360eaaebb",
      "metadata": {
        "id": "f18246d4-dbd8-403a-9db9-a72360eaaebb"
      },
      "outputs": [],
      "source": [
        "### START CODE HERE ### (≈ 6 lines of code)\n",
        "train_mean=np.mean(train_targets,axis=0)\n",
        "train_std=np.std(train_targets,axis=0)\n",
        "train_targets = (train_targets-train_mean)/train_std\n",
        "\n",
        "test_mean=np.mean(test_targets,axis=0)\n",
        "test_std=np.std(test_targets,axis=0)\n",
        "test_targets = (test_targets-test_mean)/test_std\n",
        "\n",
        "### END CODE HERE ###"
      ]
    },
    {
      "cell_type": "markdown",
      "id": "130ed50b-010c-488f-b1d0-aa2919fdf01d",
      "metadata": {
        "id": "130ed50b-010c-488f-b1d0-aa2919fdf01d"
      },
      "source": [
        "### Building your model"
      ]
    },
    {
      "cell_type": "markdown",
      "id": "9dca53c6-d8c6-4a93-876e-080cb537e98a",
      "metadata": {
        "id": "9dca53c6-d8c6-4a93-876e-080cb537e98a"
      },
      "source": [
        "7. **Use tf.keras.Sequential to build a model with:**\n",
        "    - 6 hidden layers each having 128 neurons and relu activation.\n",
        "    - 1 output layer\n",
        "    - use input_shape argument to specify input size in 1st layer\n",
        "- **Question:** How many neurons should be in output layer? What should be the activation?\n",
        "    - ANSWER: 1  , none"
      ]
    },
    {
      "cell_type": "code",
      "execution_count": 118,
      "id": "cc9bc68e-d3a4-42c6-b1e1-42c2c97fa651",
      "metadata": {
        "id": "cc9bc68e-d3a4-42c6-b1e1-42c2c97fa651"
      },
      "outputs": [],
      "source": [
        "def build_model(input_shape):\n",
        "    ### START CODE HERE ### ()\n",
        "    model=tf.keras.Sequential ()\n",
        "    model.add(Dense(128, activation=\"relu\", input_shape=input_shape))\n",
        "    model.add(Dense(128,activation='relu'))\n",
        "    model.add(Dense(128,activation='relu'))\n",
        "    model.add(Dense(128,activation='relu'))\n",
        "    model.add(Dense(128,activation='relu'))\n",
        "    model.add(Dense(128,activation='relu'))\n",
        "    model.add(Dense(1))\n",
        "\n",
        "    return model"
      ]
    },
    {
      "cell_type": "code",
      "execution_count": 119,
      "id": "cfe03837-d15a-4879-b9db-0477d01baa23",
      "metadata": {
        "id": "cfe03837-d15a-4879-b9db-0477d01baa23",
        "colab": {
          "base_uri": "https://localhost:8080/"
        },
        "outputId": "f6020645-fd0e-4189-bdc6-04ca0bb89286"
      },
      "outputs": [
        {
          "output_type": "stream",
          "name": "stdout",
          "text": [
            "Model: \"sequential_4\"\n",
            "_________________________________________________________________\n",
            " Layer (type)                Output Shape              Param #   \n",
            "=================================================================\n",
            " dense_18 (Dense)            (None, 128)               1408      \n",
            "                                                                 \n",
            " dense_19 (Dense)            (None, 128)               16512     \n",
            "                                                                 \n",
            " dense_20 (Dense)            (None, 128)               16512     \n",
            "                                                                 \n",
            " dense_21 (Dense)            (None, 128)               16512     \n",
            "                                                                 \n",
            " dense_22 (Dense)            (None, 128)               16512     \n",
            "                                                                 \n",
            " dense_23 (Dense)            (None, 128)               16512     \n",
            "                                                                 \n",
            " dense_24 (Dense)            (None, 1)                 129       \n",
            "                                                                 \n",
            "=================================================================\n",
            "Total params: 84,097\n",
            "Trainable params: 84,097\n",
            "Non-trainable params: 0\n",
            "_________________________________________________________________\n",
            "None\n"
          ]
        }
      ],
      "source": [
        "# Print the model summary\n",
        "input_shape=(train_data.shape[-1],)\n",
        "model = build_model(input_shape)\n",
        "print(model.summary())"
      ]
    },
    {
      "cell_type": "markdown",
      "id": "114f2e34-fa34-4312-bbe8-c929d350c89f",
      "metadata": {
        "id": "114f2e34-fa34-4312-bbe8-c929d350c89f"
      },
      "source": [
        "8. **Compile the model using optimizer=Adam, loss=mean squared loss, metrics=mean absoluute error:**"
      ]
    },
    {
      "cell_type": "code",
      "execution_count": 122,
      "id": "8a438445-aac4-4913-8012-6d7095b09ed1",
      "metadata": {
        "id": "8a438445-aac4-4913-8012-6d7095b09ed1"
      },
      "outputs": [],
      "source": [
        "### START CODE HERE ### ()\n",
        "model.compile(optimizer=tf.keras.optimizers.Adam(),\n",
        "              loss=tf.keras.losses.MeanSquaredError(),\n",
        "              metrics=tf.keras.metrics.MeanAbsoluteError()\n",
        "                       )"
      ]
    },
    {
      "cell_type": "markdown",
      "id": "f9eb30a2-e09f-4298-8210-998eb79eb7a9",
      "metadata": {
        "id": "f9eb30a2-e09f-4298-8210-998eb79eb7a9"
      },
      "source": [
        "Note that we compile the model with the mse loss function—mean squared error, the\n",
        "square of the difference between the predictions and the targets. We’re also monitoring a new metric during training: mean absolute error (MAE). It’s the\n",
        "absolute value of the difference between the predictions and the targets."
      ]
    },
    {
      "cell_type": "markdown",
      "id": "36507d6f-cd6d-47fa-b74c-fd7e14c9d9ba",
      "metadata": {
        "id": "36507d6f-cd6d-47fa-b74c-fd7e14c9d9ba"
      },
      "source": [
        "9. **FIT the model using for 100 epochs, 64 batch size and a validation split of 0.15**"
      ]
    },
    {
      "cell_type": "code",
      "execution_count": 123,
      "id": "1f63ab80-1353-4997-aba5-4e6299bee5d7",
      "metadata": {
        "tags": [],
        "id": "1f63ab80-1353-4997-aba5-4e6299bee5d7",
        "colab": {
          "base_uri": "https://localhost:8080/"
        },
        "outputId": "26127f65-c1a8-4167-999f-511147789e1b"
      },
      "outputs": [
        {
          "output_type": "stream",
          "name": "stdout",
          "text": [
            "Epoch 1/100\n",
            "6/6 [==============================] - 1s 33ms/step - loss: 0.9606 - mean_absolute_error: 0.8395 - val_loss: 1.1202 - val_mean_absolute_error: 0.8927\n",
            "Epoch 2/100\n",
            "6/6 [==============================] - 0s 7ms/step - loss: 0.8982 - mean_absolute_error: 0.8081 - val_loss: 0.9798 - val_mean_absolute_error: 0.8323\n",
            "Epoch 3/100\n",
            "6/6 [==============================] - 0s 7ms/step - loss: 0.7281 - mean_absolute_error: 0.7292 - val_loss: 0.7090 - val_mean_absolute_error: 0.6814\n",
            "Epoch 4/100\n",
            "6/6 [==============================] - 0s 7ms/step - loss: 0.5726 - mean_absolute_error: 0.6206 - val_loss: 0.5443 - val_mean_absolute_error: 0.5706\n",
            "Epoch 5/100\n",
            "6/6 [==============================] - 0s 7ms/step - loss: 0.5262 - mean_absolute_error: 0.5755 - val_loss: 0.5352 - val_mean_absolute_error: 0.6149\n",
            "Epoch 6/100\n",
            "6/6 [==============================] - 0s 7ms/step - loss: 0.4946 - mean_absolute_error: 0.5925 - val_loss: 0.6122 - val_mean_absolute_error: 0.6203\n",
            "Epoch 7/100\n",
            "6/6 [==============================] - 0s 7ms/step - loss: 0.4799 - mean_absolute_error: 0.5588 - val_loss: 0.4915 - val_mean_absolute_error: 0.5786\n",
            "Epoch 8/100\n",
            "6/6 [==============================] - 0s 7ms/step - loss: 0.4494 - mean_absolute_error: 0.5466 - val_loss: 0.5431 - val_mean_absolute_error: 0.5735\n",
            "Epoch 9/100\n",
            "6/6 [==============================] - 0s 8ms/step - loss: 0.4639 - mean_absolute_error: 0.5364 - val_loss: 0.4804 - val_mean_absolute_error: 0.5642\n",
            "Epoch 10/100\n",
            "6/6 [==============================] - 0s 7ms/step - loss: 0.4866 - mean_absolute_error: 0.5691 - val_loss: 0.5370 - val_mean_absolute_error: 0.5872\n",
            "Epoch 11/100\n",
            "6/6 [==============================] - 0s 7ms/step - loss: 0.4619 - mean_absolute_error: 0.5439 - val_loss: 0.5089 - val_mean_absolute_error: 0.5758\n",
            "Epoch 12/100\n",
            "6/6 [==============================] - 0s 8ms/step - loss: 0.4395 - mean_absolute_error: 0.5470 - val_loss: 0.4944 - val_mean_absolute_error: 0.5617\n",
            "Epoch 13/100\n",
            "6/6 [==============================] - 0s 7ms/step - loss: 0.4291 - mean_absolute_error: 0.5307 - val_loss: 0.5082 - val_mean_absolute_error: 0.5557\n",
            "Epoch 14/100\n",
            "6/6 [==============================] - 0s 8ms/step - loss: 0.4099 - mean_absolute_error: 0.5153 - val_loss: 0.4752 - val_mean_absolute_error: 0.5572\n",
            "Epoch 15/100\n",
            "6/6 [==============================] - 0s 7ms/step - loss: 0.4044 - mean_absolute_error: 0.5185 - val_loss: 0.4890 - val_mean_absolute_error: 0.5416\n",
            "Epoch 16/100\n",
            "6/6 [==============================] - 0s 7ms/step - loss: 0.4005 - mean_absolute_error: 0.5070 - val_loss: 0.4558 - val_mean_absolute_error: 0.5267\n",
            "Epoch 17/100\n",
            "6/6 [==============================] - 0s 7ms/step - loss: 0.3897 - mean_absolute_error: 0.5023 - val_loss: 0.4782 - val_mean_absolute_error: 0.5290\n",
            "Epoch 18/100\n",
            "6/6 [==============================] - 0s 7ms/step - loss: 0.4000 - mean_absolute_error: 0.5014 - val_loss: 0.4486 - val_mean_absolute_error: 0.5196\n",
            "Epoch 19/100\n",
            "6/6 [==============================] - 0s 7ms/step - loss: 0.3844 - mean_absolute_error: 0.4951 - val_loss: 0.4617 - val_mean_absolute_error: 0.5243\n",
            "Epoch 20/100\n",
            "6/6 [==============================] - 0s 8ms/step - loss: 0.3751 - mean_absolute_error: 0.4907 - val_loss: 0.4608 - val_mean_absolute_error: 0.5223\n",
            "Epoch 21/100\n",
            "6/6 [==============================] - 0s 8ms/step - loss: 0.3775 - mean_absolute_error: 0.4928 - val_loss: 0.4787 - val_mean_absolute_error: 0.5297\n",
            "Epoch 22/100\n",
            "6/6 [==============================] - 0s 11ms/step - loss: 0.3742 - mean_absolute_error: 0.4910 - val_loss: 0.4978 - val_mean_absolute_error: 0.5319\n",
            "Epoch 23/100\n",
            "6/6 [==============================] - 0s 8ms/step - loss: 0.3590 - mean_absolute_error: 0.4816 - val_loss: 0.4654 - val_mean_absolute_error: 0.5355\n",
            "Epoch 24/100\n",
            "6/6 [==============================] - 0s 7ms/step - loss: 0.3595 - mean_absolute_error: 0.4792 - val_loss: 0.4790 - val_mean_absolute_error: 0.5190\n",
            "Epoch 25/100\n",
            "6/6 [==============================] - 0s 7ms/step - loss: 0.3500 - mean_absolute_error: 0.4686 - val_loss: 0.4604 - val_mean_absolute_error: 0.5203\n",
            "Epoch 26/100\n",
            "6/6 [==============================] - 0s 7ms/step - loss: 0.3362 - mean_absolute_error: 0.4614 - val_loss: 0.4871 - val_mean_absolute_error: 0.5310\n",
            "Epoch 27/100\n",
            "6/6 [==============================] - 0s 7ms/step - loss: 0.3499 - mean_absolute_error: 0.4777 - val_loss: 0.5746 - val_mean_absolute_error: 0.5523\n",
            "Epoch 28/100\n",
            "6/6 [==============================] - 0s 10ms/step - loss: 0.3559 - mean_absolute_error: 0.4660 - val_loss: 0.5135 - val_mean_absolute_error: 0.5993\n",
            "Epoch 29/100\n",
            "6/6 [==============================] - 0s 7ms/step - loss: 0.3630 - mean_absolute_error: 0.4840 - val_loss: 0.5260 - val_mean_absolute_error: 0.5321\n",
            "Epoch 30/100\n",
            "6/6 [==============================] - 0s 6ms/step - loss: 0.3439 - mean_absolute_error: 0.4642 - val_loss: 0.4828 - val_mean_absolute_error: 0.5167\n",
            "Epoch 31/100\n",
            "6/6 [==============================] - 0s 7ms/step - loss: 0.3202 - mean_absolute_error: 0.4441 - val_loss: 0.4974 - val_mean_absolute_error: 0.5251\n",
            "Epoch 32/100\n",
            "6/6 [==============================] - 0s 7ms/step - loss: 0.3146 - mean_absolute_error: 0.4439 - val_loss: 0.4858 - val_mean_absolute_error: 0.5437\n",
            "Epoch 33/100\n",
            "6/6 [==============================] - 0s 9ms/step - loss: 0.3243 - mean_absolute_error: 0.4585 - val_loss: 0.5498 - val_mean_absolute_error: 0.5380\n",
            "Epoch 34/100\n",
            "6/6 [==============================] - 0s 7ms/step - loss: 0.3079 - mean_absolute_error: 0.4395 - val_loss: 0.4846 - val_mean_absolute_error: 0.5192\n",
            "Epoch 35/100\n",
            "6/6 [==============================] - 0s 8ms/step - loss: 0.2907 - mean_absolute_error: 0.4243 - val_loss: 0.4964 - val_mean_absolute_error: 0.5523\n",
            "Epoch 36/100\n",
            "6/6 [==============================] - 0s 7ms/step - loss: 0.2970 - mean_absolute_error: 0.4402 - val_loss: 0.5890 - val_mean_absolute_error: 0.5453\n",
            "Epoch 37/100\n",
            "6/6 [==============================] - 0s 9ms/step - loss: 0.2901 - mean_absolute_error: 0.4233 - val_loss: 0.4906 - val_mean_absolute_error: 0.5202\n",
            "Epoch 38/100\n",
            "6/6 [==============================] - 0s 7ms/step - loss: 0.2721 - mean_absolute_error: 0.4123 - val_loss: 0.4962 - val_mean_absolute_error: 0.5188\n",
            "Epoch 39/100\n",
            "6/6 [==============================] - 0s 7ms/step - loss: 0.2655 - mean_absolute_error: 0.4116 - val_loss: 0.5142 - val_mean_absolute_error: 0.5173\n",
            "Epoch 40/100\n",
            "6/6 [==============================] - 0s 7ms/step - loss: 0.2571 - mean_absolute_error: 0.3916 - val_loss: 0.5546 - val_mean_absolute_error: 0.5338\n",
            "Epoch 41/100\n",
            "6/6 [==============================] - 0s 7ms/step - loss: 0.2924 - mean_absolute_error: 0.4247 - val_loss: 0.5414 - val_mean_absolute_error: 0.5363\n",
            "Epoch 42/100\n",
            "6/6 [==============================] - 0s 7ms/step - loss: 0.3121 - mean_absolute_error: 0.4421 - val_loss: 0.5515 - val_mean_absolute_error: 0.5857\n",
            "Epoch 43/100\n",
            "6/6 [==============================] - 0s 8ms/step - loss: 0.2989 - mean_absolute_error: 0.4380 - val_loss: 0.5235 - val_mean_absolute_error: 0.5235\n",
            "Epoch 44/100\n",
            "6/6 [==============================] - 0s 8ms/step - loss: 0.2639 - mean_absolute_error: 0.4031 - val_loss: 0.6066 - val_mean_absolute_error: 0.5520\n",
            "Epoch 45/100\n",
            "6/6 [==============================] - 0s 7ms/step - loss: 0.2829 - mean_absolute_error: 0.4198 - val_loss: 0.5020 - val_mean_absolute_error: 0.5548\n",
            "Epoch 46/100\n",
            "6/6 [==============================] - 0s 7ms/step - loss: 0.2397 - mean_absolute_error: 0.3886 - val_loss: 0.5407 - val_mean_absolute_error: 0.5287\n",
            "Epoch 47/100\n",
            "6/6 [==============================] - 0s 7ms/step - loss: 0.2297 - mean_absolute_error: 0.3751 - val_loss: 0.5384 - val_mean_absolute_error: 0.5307\n",
            "Epoch 48/100\n",
            "6/6 [==============================] - 0s 7ms/step - loss: 0.2202 - mean_absolute_error: 0.3727 - val_loss: 0.5333 - val_mean_absolute_error: 0.5506\n",
            "Epoch 49/100\n",
            "6/6 [==============================] - 0s 7ms/step - loss: 0.2159 - mean_absolute_error: 0.3605 - val_loss: 0.5611 - val_mean_absolute_error: 0.5633\n",
            "Epoch 50/100\n",
            "6/6 [==============================] - 0s 7ms/step - loss: 0.1974 - mean_absolute_error: 0.3489 - val_loss: 0.5860 - val_mean_absolute_error: 0.5478\n",
            "Epoch 51/100\n",
            "6/6 [==============================] - 0s 8ms/step - loss: 0.2065 - mean_absolute_error: 0.3570 - val_loss: 0.5916 - val_mean_absolute_error: 0.5526\n",
            "Epoch 52/100\n",
            "6/6 [==============================] - 0s 7ms/step - loss: 0.1952 - mean_absolute_error: 0.3520 - val_loss: 0.5945 - val_mean_absolute_error: 0.5630\n",
            "Epoch 53/100\n",
            "6/6 [==============================] - 0s 10ms/step - loss: 0.1822 - mean_absolute_error: 0.3329 - val_loss: 0.5958 - val_mean_absolute_error: 0.5561\n",
            "Epoch 54/100\n",
            "6/6 [==============================] - 0s 7ms/step - loss: 0.1940 - mean_absolute_error: 0.3407 - val_loss: 0.6351 - val_mean_absolute_error: 0.5662\n",
            "Epoch 55/100\n",
            "6/6 [==============================] - 0s 7ms/step - loss: 0.2089 - mean_absolute_error: 0.3650 - val_loss: 0.5782 - val_mean_absolute_error: 0.5583\n",
            "Epoch 56/100\n",
            "6/6 [==============================] - 0s 7ms/step - loss: 0.2245 - mean_absolute_error: 0.3651 - val_loss: 0.5566 - val_mean_absolute_error: 0.5478\n",
            "Epoch 57/100\n",
            "6/6 [==============================] - 0s 7ms/step - loss: 0.1773 - mean_absolute_error: 0.3412 - val_loss: 0.5318 - val_mean_absolute_error: 0.5422\n",
            "Epoch 58/100\n",
            "6/6 [==============================] - 0s 7ms/step - loss: 0.1683 - mean_absolute_error: 0.3224 - val_loss: 0.6500 - val_mean_absolute_error: 0.5831\n",
            "Epoch 59/100\n",
            "6/6 [==============================] - 0s 7ms/step - loss: 0.1567 - mean_absolute_error: 0.3100 - val_loss: 0.6527 - val_mean_absolute_error: 0.5886\n",
            "Epoch 60/100\n",
            "6/6 [==============================] - 0s 7ms/step - loss: 0.1420 - mean_absolute_error: 0.2974 - val_loss: 0.6197 - val_mean_absolute_error: 0.5790\n",
            "Epoch 61/100\n",
            "6/6 [==============================] - 0s 8ms/step - loss: 0.1348 - mean_absolute_error: 0.2839 - val_loss: 0.5979 - val_mean_absolute_error: 0.5680\n",
            "Epoch 62/100\n",
            "6/6 [==============================] - 0s 7ms/step - loss: 0.1397 - mean_absolute_error: 0.2986 - val_loss: 0.6547 - val_mean_absolute_error: 0.5912\n",
            "Epoch 63/100\n",
            "6/6 [==============================] - 0s 8ms/step - loss: 0.1801 - mean_absolute_error: 0.3277 - val_loss: 0.5727 - val_mean_absolute_error: 0.5631\n",
            "Epoch 64/100\n",
            "6/6 [==============================] - 0s 7ms/step - loss: 0.1766 - mean_absolute_error: 0.3323 - val_loss: 0.5329 - val_mean_absolute_error: 0.5486\n",
            "Epoch 65/100\n",
            "6/6 [==============================] - 0s 8ms/step - loss: 0.1521 - mean_absolute_error: 0.3089 - val_loss: 0.5558 - val_mean_absolute_error: 0.5570\n",
            "Epoch 66/100\n",
            "6/6 [==============================] - 0s 7ms/step - loss: 0.1511 - mean_absolute_error: 0.3125 - val_loss: 0.5729 - val_mean_absolute_error: 0.5673\n",
            "Epoch 67/100\n",
            "6/6 [==============================] - 0s 11ms/step - loss: 0.2058 - mean_absolute_error: 0.3569 - val_loss: 0.5823 - val_mean_absolute_error: 0.5466\n",
            "Epoch 68/100\n",
            "6/6 [==============================] - 0s 7ms/step - loss: 0.1527 - mean_absolute_error: 0.3123 - val_loss: 0.6228 - val_mean_absolute_error: 0.5679\n",
            "Epoch 69/100\n",
            "6/6 [==============================] - 0s 7ms/step - loss: 0.1274 - mean_absolute_error: 0.2822 - val_loss: 0.6983 - val_mean_absolute_error: 0.6013\n",
            "Epoch 70/100\n",
            "6/6 [==============================] - 0s 7ms/step - loss: 0.1203 - mean_absolute_error: 0.2733 - val_loss: 0.6357 - val_mean_absolute_error: 0.5712\n",
            "Epoch 71/100\n",
            "6/6 [==============================] - 0s 8ms/step - loss: 0.0997 - mean_absolute_error: 0.2441 - val_loss: 0.6905 - val_mean_absolute_error: 0.5982\n",
            "Epoch 72/100\n",
            "6/6 [==============================] - 0s 7ms/step - loss: 0.1006 - mean_absolute_error: 0.2495 - val_loss: 0.7205 - val_mean_absolute_error: 0.6330\n",
            "Epoch 73/100\n",
            "6/6 [==============================] - 0s 7ms/step - loss: 0.0964 - mean_absolute_error: 0.2493 - val_loss: 0.6932 - val_mean_absolute_error: 0.6033\n",
            "Epoch 74/100\n",
            "6/6 [==============================] - 0s 8ms/step - loss: 0.0854 - mean_absolute_error: 0.2308 - val_loss: 0.6904 - val_mean_absolute_error: 0.6170\n",
            "Epoch 75/100\n",
            "6/6 [==============================] - 0s 7ms/step - loss: 0.0952 - mean_absolute_error: 0.2459 - val_loss: 0.7130 - val_mean_absolute_error: 0.6090\n",
            "Epoch 76/100\n",
            "6/6 [==============================] - 0s 7ms/step - loss: 0.0936 - mean_absolute_error: 0.2419 - val_loss: 0.7401 - val_mean_absolute_error: 0.6202\n",
            "Epoch 77/100\n",
            "6/6 [==============================] - 0s 8ms/step - loss: 0.0834 - mean_absolute_error: 0.2231 - val_loss: 0.6808 - val_mean_absolute_error: 0.5813\n",
            "Epoch 78/100\n",
            "6/6 [==============================] - 0s 7ms/step - loss: 0.0824 - mean_absolute_error: 0.2231 - val_loss: 0.6827 - val_mean_absolute_error: 0.5843\n",
            "Epoch 79/100\n",
            "6/6 [==============================] - 0s 7ms/step - loss: 0.0673 - mean_absolute_error: 0.1981 - val_loss: 0.6762 - val_mean_absolute_error: 0.5976\n",
            "Epoch 80/100\n",
            "6/6 [==============================] - 0s 7ms/step - loss: 0.0750 - mean_absolute_error: 0.2042 - val_loss: 0.7141 - val_mean_absolute_error: 0.6003\n",
            "Epoch 81/100\n",
            "6/6 [==============================] - 0s 7ms/step - loss: 0.0713 - mean_absolute_error: 0.2069 - val_loss: 0.7075 - val_mean_absolute_error: 0.6013\n",
            "Epoch 82/100\n",
            "6/6 [==============================] - 0s 7ms/step - loss: 0.0628 - mean_absolute_error: 0.1921 - val_loss: 0.7226 - val_mean_absolute_error: 0.5834\n",
            "Epoch 83/100\n",
            "6/6 [==============================] - 0s 8ms/step - loss: 0.0619 - mean_absolute_error: 0.1846 - val_loss: 0.7263 - val_mean_absolute_error: 0.6199\n",
            "Epoch 84/100\n",
            "6/6 [==============================] - 0s 7ms/step - loss: 0.0574 - mean_absolute_error: 0.1738 - val_loss: 0.7127 - val_mean_absolute_error: 0.6100\n",
            "Epoch 85/100\n",
            "6/6 [==============================] - 0s 7ms/step - loss: 0.0494 - mean_absolute_error: 0.1634 - val_loss: 0.7221 - val_mean_absolute_error: 0.6033\n",
            "Epoch 86/100\n",
            "6/6 [==============================] - 0s 7ms/step - loss: 0.0488 - mean_absolute_error: 0.1628 - val_loss: 0.7517 - val_mean_absolute_error: 0.6169\n",
            "Epoch 87/100\n",
            "6/6 [==============================] - 0s 7ms/step - loss: 0.0472 - mean_absolute_error: 0.1589 - val_loss: 0.7508 - val_mean_absolute_error: 0.6204\n",
            "Epoch 88/100\n",
            "6/6 [==============================] - 0s 7ms/step - loss: 0.0463 - mean_absolute_error: 0.1571 - val_loss: 0.7329 - val_mean_absolute_error: 0.6222\n",
            "Epoch 89/100\n",
            "6/6 [==============================] - 0s 7ms/step - loss: 0.0406 - mean_absolute_error: 0.1468 - val_loss: 0.7608 - val_mean_absolute_error: 0.6223\n",
            "Epoch 90/100\n",
            "6/6 [==============================] - 0s 8ms/step - loss: 0.0407 - mean_absolute_error: 0.1481 - val_loss: 0.7574 - val_mean_absolute_error: 0.6122\n",
            "Epoch 91/100\n",
            "6/6 [==============================] - 0s 7ms/step - loss: 0.0479 - mean_absolute_error: 0.1597 - val_loss: 0.8278 - val_mean_absolute_error: 0.6637\n",
            "Epoch 92/100\n",
            "6/6 [==============================] - 0s 9ms/step - loss: 0.0606 - mean_absolute_error: 0.1889 - val_loss: 0.7839 - val_mean_absolute_error: 0.6127\n",
            "Epoch 93/100\n",
            "6/6 [==============================] - 0s 9ms/step - loss: 0.0572 - mean_absolute_error: 0.1847 - val_loss: 0.7211 - val_mean_absolute_error: 0.6368\n",
            "Epoch 94/100\n",
            "6/6 [==============================] - 0s 8ms/step - loss: 0.0615 - mean_absolute_error: 0.1878 - val_loss: 0.7390 - val_mean_absolute_error: 0.6290\n",
            "Epoch 95/100\n",
            "6/6 [==============================] - 0s 7ms/step - loss: 0.0553 - mean_absolute_error: 0.1855 - val_loss: 0.8155 - val_mean_absolute_error: 0.6386\n",
            "Epoch 96/100\n",
            "6/6 [==============================] - 0s 7ms/step - loss: 0.0583 - mean_absolute_error: 0.1867 - val_loss: 0.7443 - val_mean_absolute_error: 0.6407\n",
            "Epoch 97/100\n",
            "6/6 [==============================] - 0s 11ms/step - loss: 0.0543 - mean_absolute_error: 0.1815 - val_loss: 0.7280 - val_mean_absolute_error: 0.6155\n",
            "Epoch 98/100\n",
            "6/6 [==============================] - 0s 7ms/step - loss: 0.0483 - mean_absolute_error: 0.1705 - val_loss: 0.7637 - val_mean_absolute_error: 0.6387\n",
            "Epoch 99/100\n",
            "6/6 [==============================] - 0s 7ms/step - loss: 0.0484 - mean_absolute_error: 0.1715 - val_loss: 0.7907 - val_mean_absolute_error: 0.6398\n",
            "Epoch 100/100\n",
            "6/6 [==============================] - 0s 7ms/step - loss: 0.0508 - mean_absolute_error: 0.1708 - val_loss: 0.7770 - val_mean_absolute_error: 0.6262\n"
          ]
        }
      ],
      "source": [
        "### START CODE HERE ### ()\n",
        "history=model.fit( x=train_data,y=train_targets,batch_size=64,epochs=100,validation_split=0.15)\n"
      ]
    },
    {
      "cell_type": "code",
      "execution_count": 124,
      "id": "e2000d08-a40d-4bc8-ac8c-87c30111c670",
      "metadata": {
        "id": "e2000d08-a40d-4bc8-ac8c-87c30111c670",
        "colab": {
          "base_uri": "https://localhost:8080/"
        },
        "outputId": "bc3866e4-66a1-4fa7-f00c-02e22d702e2d"
      },
      "outputs": [
        {
          "output_type": "stream",
          "name": "stdout",
          "text": [
            "2/2 - 0s - loss: 0.7302 - mean_absolute_error: 0.6629 - 20ms/epoch - 10ms/step\n"
          ]
        },
        {
          "output_type": "execute_result",
          "data": {
            "text/plain": [
              "[0.7302353978157043, 0.6629143953323364]"
            ]
          },
          "metadata": {},
          "execution_count": 124
        }
      ],
      "source": [
        "# Evaluate the model on the test set\n",
        "\n",
        "model.evaluate(test_data, test_targets, verbose=2)"
      ]
    },
    {
      "cell_type": "code",
      "execution_count": 125,
      "id": "a171c786-ce1f-4004-b096-75b5562bdf15",
      "metadata": {
        "id": "a171c786-ce1f-4004-b096-75b5562bdf15"
      },
      "outputs": [],
      "source": [
        "import matplotlib.pyplot as plt\n",
        "%matplotlib inline"
      ]
    },
    {
      "cell_type": "code",
      "execution_count": 126,
      "id": "3a0de6a8-b049-4221-972e-689b166c71aa",
      "metadata": {
        "id": "3a0de6a8-b049-4221-972e-689b166c71aa",
        "colab": {
          "base_uri": "https://localhost:8080/",
          "height": 391
        },
        "outputId": "22c8d281-2a3c-40f3-d2be-22dd8e8f3c05"
      },
      "outputs": [
        {
          "output_type": "display_data",
          "data": {
            "text/plain": [
              "<Figure size 432x288 with 1 Axes>"
            ],
            "image/svg+xml": "<?xml version=\"1.0\" encoding=\"utf-8\" standalone=\"no\"?>\n<!DOCTYPE svg PUBLIC \"-//W3C//DTD SVG 1.1//EN\"\n  \"http://www.w3.org/Graphics/SVG/1.1/DTD/svg11.dtd\">\n<!-- Created with matplotlib (https://matplotlib.org/) -->\n<svg height=\"277.314375pt\" version=\"1.1\" viewBox=\"0 0 385.78125 277.314375\" width=\"385.78125pt\" xmlns=\"http://www.w3.org/2000/svg\" xmlns:xlink=\"http://www.w3.org/1999/xlink\">\n <defs>\n  <style type=\"text/css\">\n*{stroke-linecap:butt;stroke-linejoin:round;}\n  </style>\n </defs>\n <g id=\"figure_1\">\n  <g id=\"patch_1\">\n   <path d=\"M 0 277.314375 \nL 385.78125 277.314375 \nL 385.78125 0 \nL 0 0 \nz\n\" style=\"fill:none;\"/>\n  </g>\n  <g id=\"axes_1\">\n   <g id=\"patch_2\">\n    <path d=\"M 43.78125 239.758125 \nL 378.58125 239.758125 \nL 378.58125 22.318125 \nL 43.78125 22.318125 \nz\n\" style=\"fill:#ffffff;\"/>\n   </g>\n   <g id=\"matplotlib.axis_1\">\n    <g id=\"xtick_1\">\n     <g id=\"line2d_1\">\n      <defs>\n       <path d=\"M 0 0 \nL 0 3.5 \n\" id=\"m1526577d4e\" style=\"stroke:#000000;stroke-width:0.8;\"/>\n      </defs>\n      <g>\n       <use style=\"stroke:#000000;stroke-width:0.8;\" x=\"58.999432\" xlink:href=\"#m1526577d4e\" y=\"239.758125\"/>\n      </g>\n     </g>\n     <g id=\"text_1\">\n      <!-- 0 -->\n      <defs>\n       <path d=\"M 31.78125 66.40625 \nQ 24.171875 66.40625 20.328125 58.90625 \nQ 16.5 51.421875 16.5 36.375 \nQ 16.5 21.390625 20.328125 13.890625 \nQ 24.171875 6.390625 31.78125 6.390625 \nQ 39.453125 6.390625 43.28125 13.890625 \nQ 47.125 21.390625 47.125 36.375 \nQ 47.125 51.421875 43.28125 58.90625 \nQ 39.453125 66.40625 31.78125 66.40625 \nz\nM 31.78125 74.21875 \nQ 44.046875 74.21875 50.515625 64.515625 \nQ 56.984375 54.828125 56.984375 36.375 \nQ 56.984375 17.96875 50.515625 8.265625 \nQ 44.046875 -1.421875 31.78125 -1.421875 \nQ 19.53125 -1.421875 13.0625 8.265625 \nQ 6.59375 17.96875 6.59375 36.375 \nQ 6.59375 54.828125 13.0625 64.515625 \nQ 19.53125 74.21875 31.78125 74.21875 \nz\n\" id=\"DejaVuSans-48\"/>\n      </defs>\n      <g transform=\"translate(55.818182 254.356562)scale(0.1 -0.1)\">\n       <use xlink:href=\"#DejaVuSans-48\"/>\n      </g>\n     </g>\n    </g>\n    <g id=\"xtick_2\">\n     <g id=\"line2d_2\">\n      <g>\n       <use style=\"stroke:#000000;stroke-width:0.8;\" x=\"120.487035\" xlink:href=\"#m1526577d4e\" y=\"239.758125\"/>\n      </g>\n     </g>\n     <g id=\"text_2\">\n      <!-- 20 -->\n      <defs>\n       <path d=\"M 19.1875 8.296875 \nL 53.609375 8.296875 \nL 53.609375 0 \nL 7.328125 0 \nL 7.328125 8.296875 \nQ 12.9375 14.109375 22.625 23.890625 \nQ 32.328125 33.6875 34.8125 36.53125 \nQ 39.546875 41.84375 41.421875 45.53125 \nQ 43.3125 49.21875 43.3125 52.78125 \nQ 43.3125 58.59375 39.234375 62.25 \nQ 35.15625 65.921875 28.609375 65.921875 \nQ 23.96875 65.921875 18.8125 64.3125 \nQ 13.671875 62.703125 7.8125 59.421875 \nL 7.8125 69.390625 \nQ 13.765625 71.78125 18.9375 73 \nQ 24.125 74.21875 28.421875 74.21875 \nQ 39.75 74.21875 46.484375 68.546875 \nQ 53.21875 62.890625 53.21875 53.421875 \nQ 53.21875 48.921875 51.53125 44.890625 \nQ 49.859375 40.875 45.40625 35.40625 \nQ 44.1875 33.984375 37.640625 27.21875 \nQ 31.109375 20.453125 19.1875 8.296875 \nz\n\" id=\"DejaVuSans-50\"/>\n      </defs>\n      <g transform=\"translate(114.124535 254.356562)scale(0.1 -0.1)\">\n       <use xlink:href=\"#DejaVuSans-50\"/>\n       <use x=\"63.623047\" xlink:href=\"#DejaVuSans-48\"/>\n      </g>\n     </g>\n    </g>\n    <g id=\"xtick_3\">\n     <g id=\"line2d_3\">\n      <g>\n       <use style=\"stroke:#000000;stroke-width:0.8;\" x=\"181.974638\" xlink:href=\"#m1526577d4e\" y=\"239.758125\"/>\n      </g>\n     </g>\n     <g id=\"text_3\">\n      <!-- 40 -->\n      <defs>\n       <path d=\"M 37.796875 64.3125 \nL 12.890625 25.390625 \nL 37.796875 25.390625 \nz\nM 35.203125 72.90625 \nL 47.609375 72.90625 \nL 47.609375 25.390625 \nL 58.015625 25.390625 \nL 58.015625 17.1875 \nL 47.609375 17.1875 \nL 47.609375 0 \nL 37.796875 0 \nL 37.796875 17.1875 \nL 4.890625 17.1875 \nL 4.890625 26.703125 \nz\n\" id=\"DejaVuSans-52\"/>\n      </defs>\n      <g transform=\"translate(175.612138 254.356562)scale(0.1 -0.1)\">\n       <use xlink:href=\"#DejaVuSans-52\"/>\n       <use x=\"63.623047\" xlink:href=\"#DejaVuSans-48\"/>\n      </g>\n     </g>\n    </g>\n    <g id=\"xtick_4\">\n     <g id=\"line2d_4\">\n      <g>\n       <use style=\"stroke:#000000;stroke-width:0.8;\" x=\"243.462242\" xlink:href=\"#m1526577d4e\" y=\"239.758125\"/>\n      </g>\n     </g>\n     <g id=\"text_4\">\n      <!-- 60 -->\n      <defs>\n       <path d=\"M 33.015625 40.375 \nQ 26.375 40.375 22.484375 35.828125 \nQ 18.609375 31.296875 18.609375 23.390625 \nQ 18.609375 15.53125 22.484375 10.953125 \nQ 26.375 6.390625 33.015625 6.390625 \nQ 39.65625 6.390625 43.53125 10.953125 \nQ 47.40625 15.53125 47.40625 23.390625 \nQ 47.40625 31.296875 43.53125 35.828125 \nQ 39.65625 40.375 33.015625 40.375 \nz\nM 52.59375 71.296875 \nL 52.59375 62.3125 \nQ 48.875 64.0625 45.09375 64.984375 \nQ 41.3125 65.921875 37.59375 65.921875 \nQ 27.828125 65.921875 22.671875 59.328125 \nQ 17.53125 52.734375 16.796875 39.40625 \nQ 19.671875 43.65625 24.015625 45.921875 \nQ 28.375 48.1875 33.59375 48.1875 \nQ 44.578125 48.1875 50.953125 41.515625 \nQ 57.328125 34.859375 57.328125 23.390625 \nQ 57.328125 12.15625 50.6875 5.359375 \nQ 44.046875 -1.421875 33.015625 -1.421875 \nQ 20.359375 -1.421875 13.671875 8.265625 \nQ 6.984375 17.96875 6.984375 36.375 \nQ 6.984375 53.65625 15.1875 63.9375 \nQ 23.390625 74.21875 37.203125 74.21875 \nQ 40.921875 74.21875 44.703125 73.484375 \nQ 48.484375 72.75 52.59375 71.296875 \nz\n\" id=\"DejaVuSans-54\"/>\n      </defs>\n      <g transform=\"translate(237.099742 254.356562)scale(0.1 -0.1)\">\n       <use xlink:href=\"#DejaVuSans-54\"/>\n       <use x=\"63.623047\" xlink:href=\"#DejaVuSans-48\"/>\n      </g>\n     </g>\n    </g>\n    <g id=\"xtick_5\">\n     <g id=\"line2d_5\">\n      <g>\n       <use style=\"stroke:#000000;stroke-width:0.8;\" x=\"304.949845\" xlink:href=\"#m1526577d4e\" y=\"239.758125\"/>\n      </g>\n     </g>\n     <g id=\"text_5\">\n      <!-- 80 -->\n      <defs>\n       <path d=\"M 31.78125 34.625 \nQ 24.75 34.625 20.71875 30.859375 \nQ 16.703125 27.09375 16.703125 20.515625 \nQ 16.703125 13.921875 20.71875 10.15625 \nQ 24.75 6.390625 31.78125 6.390625 \nQ 38.8125 6.390625 42.859375 10.171875 \nQ 46.921875 13.96875 46.921875 20.515625 \nQ 46.921875 27.09375 42.890625 30.859375 \nQ 38.875 34.625 31.78125 34.625 \nz\nM 21.921875 38.8125 \nQ 15.578125 40.375 12.03125 44.71875 \nQ 8.5 49.078125 8.5 55.328125 \nQ 8.5 64.0625 14.71875 69.140625 \nQ 20.953125 74.21875 31.78125 74.21875 \nQ 42.671875 74.21875 48.875 69.140625 \nQ 55.078125 64.0625 55.078125 55.328125 \nQ 55.078125 49.078125 51.53125 44.71875 \nQ 48 40.375 41.703125 38.8125 \nQ 48.828125 37.15625 52.796875 32.3125 \nQ 56.78125 27.484375 56.78125 20.515625 \nQ 56.78125 9.90625 50.3125 4.234375 \nQ 43.84375 -1.421875 31.78125 -1.421875 \nQ 19.734375 -1.421875 13.25 4.234375 \nQ 6.78125 9.90625 6.78125 20.515625 \nQ 6.78125 27.484375 10.78125 32.3125 \nQ 14.796875 37.15625 21.921875 38.8125 \nz\nM 18.3125 54.390625 \nQ 18.3125 48.734375 21.84375 45.5625 \nQ 25.390625 42.390625 31.78125 42.390625 \nQ 38.140625 42.390625 41.71875 45.5625 \nQ 45.3125 48.734375 45.3125 54.390625 \nQ 45.3125 60.0625 41.71875 63.234375 \nQ 38.140625 66.40625 31.78125 66.40625 \nQ 25.390625 66.40625 21.84375 63.234375 \nQ 18.3125 60.0625 18.3125 54.390625 \nz\n\" id=\"DejaVuSans-56\"/>\n      </defs>\n      <g transform=\"translate(298.587345 254.356562)scale(0.1 -0.1)\">\n       <use xlink:href=\"#DejaVuSans-56\"/>\n       <use x=\"63.623047\" xlink:href=\"#DejaVuSans-48\"/>\n      </g>\n     </g>\n    </g>\n    <g id=\"xtick_6\">\n     <g id=\"line2d_6\">\n      <g>\n       <use style=\"stroke:#000000;stroke-width:0.8;\" x=\"366.437448\" xlink:href=\"#m1526577d4e\" y=\"239.758125\"/>\n      </g>\n     </g>\n     <g id=\"text_6\">\n      <!-- 100 -->\n      <defs>\n       <path d=\"M 12.40625 8.296875 \nL 28.515625 8.296875 \nL 28.515625 63.921875 \nL 10.984375 60.40625 \nL 10.984375 69.390625 \nL 28.421875 72.90625 \nL 38.28125 72.90625 \nL 38.28125 8.296875 \nL 54.390625 8.296875 \nL 54.390625 0 \nL 12.40625 0 \nz\n\" id=\"DejaVuSans-49\"/>\n      </defs>\n      <g transform=\"translate(356.893698 254.356562)scale(0.1 -0.1)\">\n       <use xlink:href=\"#DejaVuSans-49\"/>\n       <use x=\"63.623047\" xlink:href=\"#DejaVuSans-48\"/>\n       <use x=\"127.246094\" xlink:href=\"#DejaVuSans-48\"/>\n      </g>\n     </g>\n    </g>\n    <g id=\"text_7\">\n     <!-- Epoch -->\n     <defs>\n      <path d=\"M 9.8125 72.90625 \nL 55.90625 72.90625 \nL 55.90625 64.59375 \nL 19.671875 64.59375 \nL 19.671875 43.015625 \nL 54.390625 43.015625 \nL 54.390625 34.71875 \nL 19.671875 34.71875 \nL 19.671875 8.296875 \nL 56.78125 8.296875 \nL 56.78125 0 \nL 9.8125 0 \nz\n\" id=\"DejaVuSans-69\"/>\n      <path d=\"M 18.109375 8.203125 \nL 18.109375 -20.796875 \nL 9.078125 -20.796875 \nL 9.078125 54.6875 \nL 18.109375 54.6875 \nL 18.109375 46.390625 \nQ 20.953125 51.265625 25.265625 53.625 \nQ 29.59375 56 35.59375 56 \nQ 45.5625 56 51.78125 48.09375 \nQ 58.015625 40.1875 58.015625 27.296875 \nQ 58.015625 14.40625 51.78125 6.484375 \nQ 45.5625 -1.421875 35.59375 -1.421875 \nQ 29.59375 -1.421875 25.265625 0.953125 \nQ 20.953125 3.328125 18.109375 8.203125 \nz\nM 48.6875 27.296875 \nQ 48.6875 37.203125 44.609375 42.84375 \nQ 40.53125 48.484375 33.40625 48.484375 \nQ 26.265625 48.484375 22.1875 42.84375 \nQ 18.109375 37.203125 18.109375 27.296875 \nQ 18.109375 17.390625 22.1875 11.75 \nQ 26.265625 6.109375 33.40625 6.109375 \nQ 40.53125 6.109375 44.609375 11.75 \nQ 48.6875 17.390625 48.6875 27.296875 \nz\n\" id=\"DejaVuSans-112\"/>\n      <path d=\"M 30.609375 48.390625 \nQ 23.390625 48.390625 19.1875 42.75 \nQ 14.984375 37.109375 14.984375 27.296875 \nQ 14.984375 17.484375 19.15625 11.84375 \nQ 23.34375 6.203125 30.609375 6.203125 \nQ 37.796875 6.203125 41.984375 11.859375 \nQ 46.1875 17.53125 46.1875 27.296875 \nQ 46.1875 37.015625 41.984375 42.703125 \nQ 37.796875 48.390625 30.609375 48.390625 \nz\nM 30.609375 56 \nQ 42.328125 56 49.015625 48.375 \nQ 55.71875 40.765625 55.71875 27.296875 \nQ 55.71875 13.875 49.015625 6.21875 \nQ 42.328125 -1.421875 30.609375 -1.421875 \nQ 18.84375 -1.421875 12.171875 6.21875 \nQ 5.515625 13.875 5.515625 27.296875 \nQ 5.515625 40.765625 12.171875 48.375 \nQ 18.84375 56 30.609375 56 \nz\n\" id=\"DejaVuSans-111\"/>\n      <path d=\"M 48.78125 52.59375 \nL 48.78125 44.1875 \nQ 44.96875 46.296875 41.140625 47.34375 \nQ 37.3125 48.390625 33.40625 48.390625 \nQ 24.65625 48.390625 19.8125 42.84375 \nQ 14.984375 37.3125 14.984375 27.296875 \nQ 14.984375 17.28125 19.8125 11.734375 \nQ 24.65625 6.203125 33.40625 6.203125 \nQ 37.3125 6.203125 41.140625 7.25 \nQ 44.96875 8.296875 48.78125 10.40625 \nL 48.78125 2.09375 \nQ 45.015625 0.34375 40.984375 -0.53125 \nQ 36.96875 -1.421875 32.421875 -1.421875 \nQ 20.0625 -1.421875 12.78125 6.34375 \nQ 5.515625 14.109375 5.515625 27.296875 \nQ 5.515625 40.671875 12.859375 48.328125 \nQ 20.21875 56 33.015625 56 \nQ 37.15625 56 41.109375 55.140625 \nQ 45.0625 54.296875 48.78125 52.59375 \nz\n\" id=\"DejaVuSans-99\"/>\n      <path d=\"M 54.890625 33.015625 \nL 54.890625 0 \nL 45.90625 0 \nL 45.90625 32.71875 \nQ 45.90625 40.484375 42.875 44.328125 \nQ 39.84375 48.1875 33.796875 48.1875 \nQ 26.515625 48.1875 22.3125 43.546875 \nQ 18.109375 38.921875 18.109375 30.90625 \nL 18.109375 0 \nL 9.078125 0 \nL 9.078125 75.984375 \nL 18.109375 75.984375 \nL 18.109375 46.1875 \nQ 21.34375 51.125 25.703125 53.5625 \nQ 30.078125 56 35.796875 56 \nQ 45.21875 56 50.046875 50.171875 \nQ 54.890625 44.34375 54.890625 33.015625 \nz\n\" id=\"DejaVuSans-104\"/>\n     </defs>\n     <g transform=\"translate(195.870313 268.034687)scale(0.1 -0.1)\">\n      <use xlink:href=\"#DejaVuSans-69\"/>\n      <use x=\"63.183594\" xlink:href=\"#DejaVuSans-112\"/>\n      <use x=\"126.660156\" xlink:href=\"#DejaVuSans-111\"/>\n      <use x=\"187.841797\" xlink:href=\"#DejaVuSans-99\"/>\n      <use x=\"242.822266\" xlink:href=\"#DejaVuSans-104\"/>\n     </g>\n    </g>\n   </g>\n   <g id=\"matplotlib.axis_2\">\n    <g id=\"ytick_1\">\n     <g id=\"line2d_7\">\n      <defs>\n       <path d=\"M 0 0 \nL -3.5 0 \n\" id=\"m76245e26a5\" style=\"stroke:#000000;stroke-width:0.8;\"/>\n      </defs>\n      <g>\n       <use style=\"stroke:#000000;stroke-width:0.8;\" x=\"43.78125\" xlink:href=\"#m76245e26a5\" y=\"237.311674\"/>\n      </g>\n     </g>\n     <g id=\"text_8\">\n      <!-- 0.0 -->\n      <defs>\n       <path d=\"M 10.6875 12.40625 \nL 21 12.40625 \nL 21 0 \nL 10.6875 0 \nz\n\" id=\"DejaVuSans-46\"/>\n      </defs>\n      <g transform=\"translate(20.878125 241.110892)scale(0.1 -0.1)\">\n       <use xlink:href=\"#DejaVuSans-48\"/>\n       <use x=\"63.623047\" xlink:href=\"#DejaVuSans-46\"/>\n       <use x=\"95.410156\" xlink:href=\"#DejaVuSans-48\"/>\n      </g>\n     </g>\n    </g>\n    <g id=\"ytick_2\">\n     <g id=\"line2d_8\">\n      <g>\n       <use style=\"stroke:#000000;stroke-width:0.8;\" x=\"43.78125\" xlink:href=\"#m76245e26a5\" y=\"200.691082\"/>\n      </g>\n     </g>\n     <g id=\"text_9\">\n      <!-- 0.2 -->\n      <g transform=\"translate(20.878125 204.490301)scale(0.1 -0.1)\">\n       <use xlink:href=\"#DejaVuSans-48\"/>\n       <use x=\"63.623047\" xlink:href=\"#DejaVuSans-46\"/>\n       <use x=\"95.410156\" xlink:href=\"#DejaVuSans-50\"/>\n      </g>\n     </g>\n    </g>\n    <g id=\"ytick_3\">\n     <g id=\"line2d_9\">\n      <g>\n       <use style=\"stroke:#000000;stroke-width:0.8;\" x=\"43.78125\" xlink:href=\"#m76245e26a5\" y=\"164.07049\"/>\n      </g>\n     </g>\n     <g id=\"text_10\">\n      <!-- 0.4 -->\n      <g transform=\"translate(20.878125 167.869709)scale(0.1 -0.1)\">\n       <use xlink:href=\"#DejaVuSans-48\"/>\n       <use x=\"63.623047\" xlink:href=\"#DejaVuSans-46\"/>\n       <use x=\"95.410156\" xlink:href=\"#DejaVuSans-52\"/>\n      </g>\n     </g>\n    </g>\n    <g id=\"ytick_4\">\n     <g id=\"line2d_10\">\n      <g>\n       <use style=\"stroke:#000000;stroke-width:0.8;\" x=\"43.78125\" xlink:href=\"#m76245e26a5\" y=\"127.449898\"/>\n      </g>\n     </g>\n     <g id=\"text_11\">\n      <!-- 0.6 -->\n      <g transform=\"translate(20.878125 131.249117)scale(0.1 -0.1)\">\n       <use xlink:href=\"#DejaVuSans-48\"/>\n       <use x=\"63.623047\" xlink:href=\"#DejaVuSans-46\"/>\n       <use x=\"95.410156\" xlink:href=\"#DejaVuSans-54\"/>\n      </g>\n     </g>\n    </g>\n    <g id=\"ytick_5\">\n     <g id=\"line2d_11\">\n      <g>\n       <use style=\"stroke:#000000;stroke-width:0.8;\" x=\"43.78125\" xlink:href=\"#m76245e26a5\" y=\"90.829306\"/>\n      </g>\n     </g>\n     <g id=\"text_12\">\n      <!-- 0.8 -->\n      <g transform=\"translate(20.878125 94.628525)scale(0.1 -0.1)\">\n       <use xlink:href=\"#DejaVuSans-48\"/>\n       <use x=\"63.623047\" xlink:href=\"#DejaVuSans-46\"/>\n       <use x=\"95.410156\" xlink:href=\"#DejaVuSans-56\"/>\n      </g>\n     </g>\n    </g>\n    <g id=\"ytick_6\">\n     <g id=\"line2d_12\">\n      <g>\n       <use style=\"stroke:#000000;stroke-width:0.8;\" x=\"43.78125\" xlink:href=\"#m76245e26a5\" y=\"54.208714\"/>\n      </g>\n     </g>\n     <g id=\"text_13\">\n      <!-- 1.0 -->\n      <g transform=\"translate(20.878125 58.007933)scale(0.1 -0.1)\">\n       <use xlink:href=\"#DejaVuSans-49\"/>\n       <use x=\"63.623047\" xlink:href=\"#DejaVuSans-46\"/>\n       <use x=\"95.410156\" xlink:href=\"#DejaVuSans-48\"/>\n      </g>\n     </g>\n    </g>\n    <g id=\"text_14\">\n     <!-- Loss -->\n     <defs>\n      <path d=\"M 9.8125 72.90625 \nL 19.671875 72.90625 \nL 19.671875 8.296875 \nL 55.171875 8.296875 \nL 55.171875 0 \nL 9.8125 0 \nz\n\" id=\"DejaVuSans-76\"/>\n      <path d=\"M 44.28125 53.078125 \nL 44.28125 44.578125 \nQ 40.484375 46.53125 36.375 47.5 \nQ 32.28125 48.484375 27.875 48.484375 \nQ 21.1875 48.484375 17.84375 46.4375 \nQ 14.5 44.390625 14.5 40.28125 \nQ 14.5 37.15625 16.890625 35.375 \nQ 19.28125 33.59375 26.515625 31.984375 \nL 29.59375 31.296875 \nQ 39.15625 29.25 43.1875 25.515625 \nQ 47.21875 21.78125 47.21875 15.09375 \nQ 47.21875 7.46875 41.1875 3.015625 \nQ 35.15625 -1.421875 24.609375 -1.421875 \nQ 20.21875 -1.421875 15.453125 -0.5625 \nQ 10.6875 0.296875 5.421875 2 \nL 5.421875 11.28125 \nQ 10.40625 8.6875 15.234375 7.390625 \nQ 20.0625 6.109375 24.8125 6.109375 \nQ 31.15625 6.109375 34.5625 8.28125 \nQ 37.984375 10.453125 37.984375 14.40625 \nQ 37.984375 18.0625 35.515625 20.015625 \nQ 33.0625 21.96875 24.703125 23.78125 \nL 21.578125 24.515625 \nQ 13.234375 26.265625 9.515625 29.90625 \nQ 5.8125 33.546875 5.8125 39.890625 \nQ 5.8125 47.609375 11.28125 51.796875 \nQ 16.75 56 26.8125 56 \nQ 31.78125 56 36.171875 55.265625 \nQ 40.578125 54.546875 44.28125 53.078125 \nz\n\" id=\"DejaVuSans-115\"/>\n     </defs>\n     <g transform=\"translate(14.798438 142.005312)rotate(-90)scale(0.1 -0.1)\">\n      <use xlink:href=\"#DejaVuSans-76\"/>\n      <use x=\"53.962891\" xlink:href=\"#DejaVuSans-111\"/>\n      <use x=\"115.144531\" xlink:href=\"#DejaVuSans-115\"/>\n      <use x=\"167.244141\" xlink:href=\"#DejaVuSans-115\"/>\n     </g>\n    </g>\n   </g>\n   <g id=\"line2d_13\">\n    <path clip-path=\"url(#p649cb7c296)\" d=\"M 58.999432 61.420588 \nL 62.073812 72.852376 \nL 65.148192 103.986267 \nL 68.222572 132.460108 \nL 71.296952 140.954079 \nL 74.371333 146.752186 \nL 77.445713 149.43557 \nL 80.520093 155.028089 \nL 83.594473 152.367777 \nL 86.668853 148.216549 \nL 89.743233 152.733383 \nL 92.817614 156.83389 \nL 95.891994 158.740457 \nL 98.966374 162.260726 \nL 102.040754 163.27047 \nL 105.115134 163.971151 \nL 108.189514 165.949963 \nL 111.263895 164.076791 \nL 114.338275 166.920122 \nL 117.412655 168.628823 \nL 120.487035 168.187038 \nL 123.561415 168.799809 \nL 126.635795 171.580991 \nL 129.710176 171.484513 \nL 132.784556 173.221863 \nL 135.858936 175.753447 \nL 138.933316 173.241147 \nL 142.007696 172.141016 \nL 145.082076 170.848807 \nL 148.156457 174.334965 \nL 151.230837 178.687629 \nL 154.305217 179.705132 \nL 157.379597 177.938867 \nL 160.453977 180.928557 \nL 163.528357 184.086636 \nL 166.602738 182.937894 \nL 169.677118 184.197378 \nL 172.751498 187.484332 \nL 175.825878 188.69119 \nL 178.900258 190.227644 \nL 181.974638 183.771779 \nL 185.049019 180.173307 \nL 188.123399 182.587676 \nL 191.197779 188.997021 \nL 194.272159 185.509182 \nL 197.346539 193.413209 \nL 200.420919 195.260264 \nL 203.4953 196.995583 \nL 206.56968 197.781452 \nL 209.64406 201.167198 \nL 212.71844 199.497214 \nL 215.79282 201.573906 \nL 218.8672 203.956404 \nL 221.941581 201.780605 \nL 225.015961 199.068496 \nL 228.090341 196.214033 \nL 231.164721 204.839169 \nL 234.239101 206.496637 \nL 237.313481 208.618441 \nL 240.387862 211.302764 \nL 243.462242 212.629408 \nL 246.536622 211.73854 \nL 249.611002 204.327814 \nL 252.685382 204.984057 \nL 255.759762 209.469479 \nL 258.834143 209.639243 \nL 261.908523 199.631096 \nL 264.982903 209.345856 \nL 268.057283 213.990704 \nL 271.131663 215.284724 \nL 274.206043 219.052311 \nL 277.280424 218.894171 \nL 280.354804 219.66163 \nL 283.429184 221.676726 \nL 286.503564 219.886531 \nL 289.577944 220.165964 \nL 292.652324 222.037557 \nL 295.726705 222.230034 \nL 298.801085 224.985157 \nL 301.875465 223.579066 \nL 304.949845 224.248425 \nL 308.024225 225.81034 \nL 311.098605 225.98523 \nL 314.172986 226.799494 \nL 317.247366 228.272919 \nL 320.321746 228.374144 \nL 323.396126 228.66992 \nL 326.470506 228.830105 \nL 329.544886 229.874489 \nL 332.619267 229.861953 \nL 335.693647 228.536818 \nL 338.768027 226.214366 \nL 341.842407 226.833674 \nL 344.916787 226.050964 \nL 347.991167 227.18605 \nL 351.065548 226.644499 \nL 354.139928 227.376351 \nL 357.214308 228.473625 \nL 360.288688 228.443397 \nL 363.363068 228.014747 \n\" style=\"fill:none;stroke:#1f77b4;stroke-linecap:square;stroke-width:1.5;\"/>\n   </g>\n   <g id=\"line2d_14\">\n    <path clip-path=\"url(#p649cb7c296)\" d=\"M 58.999432 32.201761 \nL 62.073812 57.908204 \nL 65.148192 107.499578 \nL 68.222572 137.642323 \nL 71.296952 139.322937 \nL 74.371333 125.223165 \nL 77.445713 147.307856 \nL 80.520093 137.863054 \nL 83.594473 149.343479 \nL 86.668853 138.989826 \nL 89.743233 144.130384 \nL 92.817614 146.792758 \nL 95.891994 144.267559 \nL 98.966374 150.297584 \nL 102.040754 147.775828 \nL 105.115134 153.84988 \nL 108.189514 149.753679 \nL 111.263895 155.172566 \nL 114.338275 152.775565 \nL 117.412655 152.942028 \nL 120.487035 149.653769 \nL 123.561415 146.166782 \nL 126.635795 152.087025 \nL 129.710176 149.601918 \nL 132.784556 153.010828 \nL 135.858936 148.121261 \nL 138.933316 132.108105 \nL 142.007696 143.279556 \nL 145.082076 140.990858 \nL 148.156457 148.915157 \nL 151.230837 146.235795 \nL 154.305217 148.351154 \nL 157.379597 136.637643 \nL 160.453977 148.583007 \nL 163.528357 146.42361 \nL 166.602738 129.472491 \nL 169.677118 147.483852 \nL 172.751498 146.450213 \nL 175.825878 143.157539 \nL 178.900258 135.759225 \nL 181.974638 138.171205 \nL 185.049019 136.324941 \nL 188.123399 141.457161 \nL 191.197779 126.247991 \nL 194.272159 145.398107 \nL 197.346539 138.307933 \nL 200.420919 138.726433 \nL 203.4953 139.655676 \nL 206.56968 134.576564 \nL 209.64406 130.020691 \nL 212.71844 128.993638 \nL 215.79282 128.449564 \nL 218.8672 128.212855 \nL 221.941581 121.024467 \nL 225.015961 131.446621 \nL 228.090341 135.390154 \nL 231.164721 139.936564 \nL 234.239101 118.288042 \nL 237.313481 117.792425 \nL 240.387862 123.841938 \nL 243.462242 127.838403 \nL 246.536622 117.433569 \nL 249.611002 132.440954 \nL 252.685382 139.735118 \nL 255.759762 135.541026 \nL 258.834143 132.411421 \nL 261.908523 130.682055 \nL 264.982903 123.283741 \nL 268.057283 109.455056 \nL 271.131663 120.917643 \nL 274.206043 110.875049 \nL 277.280424 105.391733 \nL 280.354804 110.391121 \nL 283.429184 110.893417 \nL 286.503564 106.760289 \nL 289.577944 101.804361 \nL 292.652324 112.65404 \nL 295.726705 112.298851 \nL 298.801085 113.497086 \nL 301.875465 106.559727 \nL 304.949845 107.761848 \nL 308.024225 104.992714 \nL 311.098605 104.316136 \nL 314.172986 106.813712 \nL 317.247366 105.085351 \nL 320.321746 99.675081 \nL 323.396126 99.846438 \nL 326.470506 103.123499 \nL 329.544886 98.012606 \nL 332.619267 98.621966 \nL 335.693647 85.742082 \nL 338.768027 93.773854 \nL 341.842407 105.273668 \nL 344.916787 101.990419 \nL 347.991167 87.995539 \nL 351.065548 101.024189 \nL 354.139928 104.021802 \nL 357.214308 97.472831 \nL 360.288688 92.529377 \nL 363.363068 95.041545 \n\" style=\"fill:none;stroke:#ff7f0e;stroke-linecap:square;stroke-width:1.5;\"/>\n   </g>\n   <g id=\"patch_3\">\n    <path d=\"M 43.78125 239.758125 \nL 43.78125 22.318125 \n\" style=\"fill:none;stroke:#000000;stroke-linecap:square;stroke-linejoin:miter;stroke-width:0.8;\"/>\n   </g>\n   <g id=\"patch_4\">\n    <path d=\"M 378.58125 239.758125 \nL 378.58125 22.318125 \n\" style=\"fill:none;stroke:#000000;stroke-linecap:square;stroke-linejoin:miter;stroke-width:0.8;\"/>\n   </g>\n   <g id=\"patch_5\">\n    <path d=\"M 43.78125 239.758125 \nL 378.58125 239.758125 \n\" style=\"fill:none;stroke:#000000;stroke-linecap:square;stroke-linejoin:miter;stroke-width:0.8;\"/>\n   </g>\n   <g id=\"patch_6\">\n    <path d=\"M 43.78125 22.318125 \nL 378.58125 22.318125 \n\" style=\"fill:none;stroke:#000000;stroke-linecap:square;stroke-linejoin:miter;stroke-width:0.8;\"/>\n   </g>\n   <g id=\"text_15\">\n    <!-- Loss vs. epochs -->\n    <defs>\n     <path id=\"DejaVuSans-32\"/>\n     <path d=\"M 2.984375 54.6875 \nL 12.5 54.6875 \nL 29.59375 8.796875 \nL 46.6875 54.6875 \nL 56.203125 54.6875 \nL 35.6875 0 \nL 23.484375 0 \nz\n\" id=\"DejaVuSans-118\"/>\n     <path d=\"M 56.203125 29.59375 \nL 56.203125 25.203125 \nL 14.890625 25.203125 \nQ 15.484375 15.921875 20.484375 11.0625 \nQ 25.484375 6.203125 34.421875 6.203125 \nQ 39.59375 6.203125 44.453125 7.46875 \nQ 49.3125 8.734375 54.109375 11.28125 \nL 54.109375 2.78125 \nQ 49.265625 0.734375 44.1875 -0.34375 \nQ 39.109375 -1.421875 33.890625 -1.421875 \nQ 20.796875 -1.421875 13.15625 6.1875 \nQ 5.515625 13.8125 5.515625 26.8125 \nQ 5.515625 40.234375 12.765625 48.109375 \nQ 20.015625 56 32.328125 56 \nQ 43.359375 56 49.78125 48.890625 \nQ 56.203125 41.796875 56.203125 29.59375 \nz\nM 47.21875 32.234375 \nQ 47.125 39.59375 43.09375 43.984375 \nQ 39.0625 48.390625 32.421875 48.390625 \nQ 24.90625 48.390625 20.390625 44.140625 \nQ 15.875 39.890625 15.1875 32.171875 \nz\n\" id=\"DejaVuSans-101\"/>\n    </defs>\n    <g transform=\"translate(164.22375 16.318125)scale(0.12 -0.12)\">\n     <use xlink:href=\"#DejaVuSans-76\"/>\n     <use x=\"53.962891\" xlink:href=\"#DejaVuSans-111\"/>\n     <use x=\"115.144531\" xlink:href=\"#DejaVuSans-115\"/>\n     <use x=\"167.244141\" xlink:href=\"#DejaVuSans-115\"/>\n     <use x=\"219.34375\" xlink:href=\"#DejaVuSans-32\"/>\n     <use x=\"251.130859\" xlink:href=\"#DejaVuSans-118\"/>\n     <use x=\"310.310547\" xlink:href=\"#DejaVuSans-115\"/>\n     <use x=\"362.410156\" xlink:href=\"#DejaVuSans-46\"/>\n     <use x=\"394.197266\" xlink:href=\"#DejaVuSans-32\"/>\n     <use x=\"425.984375\" xlink:href=\"#DejaVuSans-101\"/>\n     <use x=\"487.507812\" xlink:href=\"#DejaVuSans-112\"/>\n     <use x=\"550.984375\" xlink:href=\"#DejaVuSans-111\"/>\n     <use x=\"612.166016\" xlink:href=\"#DejaVuSans-99\"/>\n     <use x=\"667.146484\" xlink:href=\"#DejaVuSans-104\"/>\n     <use x=\"730.525391\" xlink:href=\"#DejaVuSans-115\"/>\n    </g>\n   </g>\n   <g id=\"legend_1\">\n    <g id=\"patch_7\">\n     <path d=\"M 290.2 59.674375 \nL 371.58125 59.674375 \nQ 373.58125 59.674375 373.58125 57.674375 \nL 373.58125 29.318125 \nQ 373.58125 27.318125 371.58125 27.318125 \nL 290.2 27.318125 \nQ 288.2 27.318125 288.2 29.318125 \nL 288.2 57.674375 \nQ 288.2 59.674375 290.2 59.674375 \nz\n\" style=\"fill:#ffffff;opacity:0.8;stroke:#cccccc;stroke-linejoin:miter;\"/>\n    </g>\n    <g id=\"line2d_15\">\n     <path d=\"M 292.2 35.416562 \nL 312.2 35.416562 \n\" style=\"fill:none;stroke:#1f77b4;stroke-linecap:square;stroke-width:1.5;\"/>\n    </g>\n    <g id=\"line2d_16\"/>\n    <g id=\"text_16\">\n     <!-- Training -->\n     <defs>\n      <path d=\"M -0.296875 72.90625 \nL 61.375 72.90625 \nL 61.375 64.59375 \nL 35.5 64.59375 \nL 35.5 0 \nL 25.59375 0 \nL 25.59375 64.59375 \nL -0.296875 64.59375 \nz\n\" id=\"DejaVuSans-84\"/>\n      <path d=\"M 41.109375 46.296875 \nQ 39.59375 47.171875 37.8125 47.578125 \nQ 36.03125 48 33.890625 48 \nQ 26.265625 48 22.1875 43.046875 \nQ 18.109375 38.09375 18.109375 28.8125 \nL 18.109375 0 \nL 9.078125 0 \nL 9.078125 54.6875 \nL 18.109375 54.6875 \nL 18.109375 46.1875 \nQ 20.953125 51.171875 25.484375 53.578125 \nQ 30.03125 56 36.53125 56 \nQ 37.453125 56 38.578125 55.875 \nQ 39.703125 55.765625 41.0625 55.515625 \nz\n\" id=\"DejaVuSans-114\"/>\n      <path d=\"M 34.28125 27.484375 \nQ 23.390625 27.484375 19.1875 25 \nQ 14.984375 22.515625 14.984375 16.5 \nQ 14.984375 11.71875 18.140625 8.90625 \nQ 21.296875 6.109375 26.703125 6.109375 \nQ 34.1875 6.109375 38.703125 11.40625 \nQ 43.21875 16.703125 43.21875 25.484375 \nL 43.21875 27.484375 \nz\nM 52.203125 31.203125 \nL 52.203125 0 \nL 43.21875 0 \nL 43.21875 8.296875 \nQ 40.140625 3.328125 35.546875 0.953125 \nQ 30.953125 -1.421875 24.3125 -1.421875 \nQ 15.921875 -1.421875 10.953125 3.296875 \nQ 6 8.015625 6 15.921875 \nQ 6 25.140625 12.171875 29.828125 \nQ 18.359375 34.515625 30.609375 34.515625 \nL 43.21875 34.515625 \nL 43.21875 35.40625 \nQ 43.21875 41.609375 39.140625 45 \nQ 35.0625 48.390625 27.6875 48.390625 \nQ 23 48.390625 18.546875 47.265625 \nQ 14.109375 46.140625 10.015625 43.890625 \nL 10.015625 52.203125 \nQ 14.9375 54.109375 19.578125 55.046875 \nQ 24.21875 56 28.609375 56 \nQ 40.484375 56 46.34375 49.84375 \nQ 52.203125 43.703125 52.203125 31.203125 \nz\n\" id=\"DejaVuSans-97\"/>\n      <path d=\"M 9.421875 54.6875 \nL 18.40625 54.6875 \nL 18.40625 0 \nL 9.421875 0 \nz\nM 9.421875 75.984375 \nL 18.40625 75.984375 \nL 18.40625 64.59375 \nL 9.421875 64.59375 \nz\n\" id=\"DejaVuSans-105\"/>\n      <path d=\"M 54.890625 33.015625 \nL 54.890625 0 \nL 45.90625 0 \nL 45.90625 32.71875 \nQ 45.90625 40.484375 42.875 44.328125 \nQ 39.84375 48.1875 33.796875 48.1875 \nQ 26.515625 48.1875 22.3125 43.546875 \nQ 18.109375 38.921875 18.109375 30.90625 \nL 18.109375 0 \nL 9.078125 0 \nL 9.078125 54.6875 \nL 18.109375 54.6875 \nL 18.109375 46.1875 \nQ 21.34375 51.125 25.703125 53.5625 \nQ 30.078125 56 35.796875 56 \nQ 45.21875 56 50.046875 50.171875 \nQ 54.890625 44.34375 54.890625 33.015625 \nz\n\" id=\"DejaVuSans-110\"/>\n      <path d=\"M 45.40625 27.984375 \nQ 45.40625 37.75 41.375 43.109375 \nQ 37.359375 48.484375 30.078125 48.484375 \nQ 22.859375 48.484375 18.828125 43.109375 \nQ 14.796875 37.75 14.796875 27.984375 \nQ 14.796875 18.265625 18.828125 12.890625 \nQ 22.859375 7.515625 30.078125 7.515625 \nQ 37.359375 7.515625 41.375 12.890625 \nQ 45.40625 18.265625 45.40625 27.984375 \nz\nM 54.390625 6.78125 \nQ 54.390625 -7.171875 48.1875 -13.984375 \nQ 42 -20.796875 29.203125 -20.796875 \nQ 24.46875 -20.796875 20.265625 -20.09375 \nQ 16.0625 -19.390625 12.109375 -17.921875 \nL 12.109375 -9.1875 \nQ 16.0625 -11.328125 19.921875 -12.34375 \nQ 23.78125 -13.375 27.78125 -13.375 \nQ 36.625 -13.375 41.015625 -8.765625 \nQ 45.40625 -4.15625 45.40625 5.171875 \nL 45.40625 9.625 \nQ 42.625 4.78125 38.28125 2.390625 \nQ 33.9375 0 27.875 0 \nQ 17.828125 0 11.671875 7.65625 \nQ 5.515625 15.328125 5.515625 27.984375 \nQ 5.515625 40.671875 11.671875 48.328125 \nQ 17.828125 56 27.875 56 \nQ 33.9375 56 38.28125 53.609375 \nQ 42.625 51.21875 45.40625 46.390625 \nL 45.40625 54.6875 \nL 54.390625 54.6875 \nz\n\" id=\"DejaVuSans-103\"/>\n     </defs>\n     <g transform=\"translate(320.2 38.916562)scale(0.1 -0.1)\">\n      <use xlink:href=\"#DejaVuSans-84\"/>\n      <use x=\"46.333984\" xlink:href=\"#DejaVuSans-114\"/>\n      <use x=\"87.447266\" xlink:href=\"#DejaVuSans-97\"/>\n      <use x=\"148.726562\" xlink:href=\"#DejaVuSans-105\"/>\n      <use x=\"176.509766\" xlink:href=\"#DejaVuSans-110\"/>\n      <use x=\"239.888672\" xlink:href=\"#DejaVuSans-105\"/>\n      <use x=\"267.671875\" xlink:href=\"#DejaVuSans-110\"/>\n      <use x=\"331.050781\" xlink:href=\"#DejaVuSans-103\"/>\n     </g>\n    </g>\n    <g id=\"line2d_17\">\n     <path d=\"M 292.2 50.094687 \nL 312.2 50.094687 \n\" style=\"fill:none;stroke:#ff7f0e;stroke-linecap:square;stroke-width:1.5;\"/>\n    </g>\n    <g id=\"line2d_18\"/>\n    <g id=\"text_17\">\n     <!-- Validation -->\n     <defs>\n      <path d=\"M 28.609375 0 \nL 0.78125 72.90625 \nL 11.078125 72.90625 \nL 34.1875 11.53125 \nL 57.328125 72.90625 \nL 67.578125 72.90625 \nL 39.796875 0 \nz\n\" id=\"DejaVuSans-86\"/>\n      <path d=\"M 9.421875 75.984375 \nL 18.40625 75.984375 \nL 18.40625 0 \nL 9.421875 0 \nz\n\" id=\"DejaVuSans-108\"/>\n      <path d=\"M 45.40625 46.390625 \nL 45.40625 75.984375 \nL 54.390625 75.984375 \nL 54.390625 0 \nL 45.40625 0 \nL 45.40625 8.203125 \nQ 42.578125 3.328125 38.25 0.953125 \nQ 33.9375 -1.421875 27.875 -1.421875 \nQ 17.96875 -1.421875 11.734375 6.484375 \nQ 5.515625 14.40625 5.515625 27.296875 \nQ 5.515625 40.1875 11.734375 48.09375 \nQ 17.96875 56 27.875 56 \nQ 33.9375 56 38.25 53.625 \nQ 42.578125 51.265625 45.40625 46.390625 \nz\nM 14.796875 27.296875 \nQ 14.796875 17.390625 18.875 11.75 \nQ 22.953125 6.109375 30.078125 6.109375 \nQ 37.203125 6.109375 41.296875 11.75 \nQ 45.40625 17.390625 45.40625 27.296875 \nQ 45.40625 37.203125 41.296875 42.84375 \nQ 37.203125 48.484375 30.078125 48.484375 \nQ 22.953125 48.484375 18.875 42.84375 \nQ 14.796875 37.203125 14.796875 27.296875 \nz\n\" id=\"DejaVuSans-100\"/>\n      <path d=\"M 18.3125 70.21875 \nL 18.3125 54.6875 \nL 36.8125 54.6875 \nL 36.8125 47.703125 \nL 18.3125 47.703125 \nL 18.3125 18.015625 \nQ 18.3125 11.328125 20.140625 9.421875 \nQ 21.96875 7.515625 27.59375 7.515625 \nL 36.8125 7.515625 \nL 36.8125 0 \nL 27.59375 0 \nQ 17.1875 0 13.234375 3.875 \nQ 9.28125 7.765625 9.28125 18.015625 \nL 9.28125 47.703125 \nL 2.6875 47.703125 \nL 2.6875 54.6875 \nL 9.28125 54.6875 \nL 9.28125 70.21875 \nz\n\" id=\"DejaVuSans-116\"/>\n     </defs>\n     <g transform=\"translate(320.2 53.594687)scale(0.1 -0.1)\">\n      <use xlink:href=\"#DejaVuSans-86\"/>\n      <use x=\"60.658203\" xlink:href=\"#DejaVuSans-97\"/>\n      <use x=\"121.9375\" xlink:href=\"#DejaVuSans-108\"/>\n      <use x=\"149.720703\" xlink:href=\"#DejaVuSans-105\"/>\n      <use x=\"177.503906\" xlink:href=\"#DejaVuSans-100\"/>\n      <use x=\"240.980469\" xlink:href=\"#DejaVuSans-97\"/>\n      <use x=\"302.259766\" xlink:href=\"#DejaVuSans-116\"/>\n      <use x=\"341.46875\" xlink:href=\"#DejaVuSans-105\"/>\n      <use x=\"369.251953\" xlink:href=\"#DejaVuSans-111\"/>\n      <use x=\"430.433594\" xlink:href=\"#DejaVuSans-110\"/>\n     </g>\n    </g>\n   </g>\n  </g>\n </g>\n <defs>\n  <clipPath id=\"p649cb7c296\">\n   <rect height=\"217.44\" width=\"334.8\" x=\"43.78125\" y=\"22.318125\"/>\n  </clipPath>\n </defs>\n</svg>\n"
          },
          "metadata": {
            "needs_background": "light"
          }
        }
      ],
      "source": [
        "# Plot the training and validation loss\n",
        "\n",
        "plt.plot(history.history['loss'])\n",
        "plt.plot(history.history['val_loss'])\n",
        "plt.title('Loss vs. epochs')\n",
        "plt.ylabel('Loss')\n",
        "plt.xlabel('Epoch')\n",
        "plt.legend(['Training', 'Validation'], loc='upper right')\n",
        "plt.show()"
      ]
    },
    {
      "cell_type": "markdown",
      "id": "5fea592c-3cd2-4fb6-b32b-d9da751763fd",
      "metadata": {
        "id": "5fea592c-3cd2-4fb6-b32b-d9da751763fd"
      },
      "source": [
        "9. **Diagnose the learning curve:**\n",
        "    - Why is the validation loss much higher than training loss?\n",
        "    - What's this phenomenon called?\n",
        "    - Mention 3 methods to reduce this."
      ]
    },
    {
      "cell_type": "markdown",
      "id": "b8fd101e-f9d1-49bc-9101-1157932be789",
      "metadata": {
        "id": "b8fd101e-f9d1-49bc-9101-1157932be789"
      },
      "source": [
        "- **answer**:\n",
        "\n",
        "1-becuse the model is overfitting \n",
        "\n",
        "2-overfitting\n",
        "\n",
        "3-Reducing number of layers, Reducing number of neurons ,adding more data\n",
        "    \n",
        " "
      ]
    },
    {
      "cell_type": "markdown",
      "id": "f186ab89-4e72-4379-b458-843fbba8f1ef",
      "metadata": {
        "id": "f186ab89-4e72-4379-b458-843fbba8f1ef"
      },
      "source": [
        "10. **Use one of the methods you mentioned and retrain the model then plot the learning curves**"
      ]
    },
    {
      "cell_type": "code",
      "execution_count": 128,
      "id": "aa69dd9f-6304-4115-a547-8f02caa613bf",
      "metadata": {
        "id": "aa69dd9f-6304-4115-a547-8f02caa613bf",
        "colab": {
          "base_uri": "https://localhost:8080/",
          "height": 1000
        },
        "outputId": "bf085ead-cc9f-47a2-d2db-5b400d0c14f7"
      },
      "outputs": [
        {
          "output_type": "stream",
          "name": "stdout",
          "text": [
            "Epoch 1/100\n",
            "6/6 [==============================] - 0s 30ms/step - loss: 0.9578 - mean_absolute_error: 0.8403 - val_loss: 1.1154 - val_mean_absolute_error: 0.8977\n",
            "Epoch 2/100\n",
            "6/6 [==============================] - 0s 7ms/step - loss: 0.9282 - mean_absolute_error: 0.8264 - val_loss: 1.0845 - val_mean_absolute_error: 0.8826\n",
            "Epoch 3/100\n",
            "6/6 [==============================] - 0s 6ms/step - loss: 0.9023 - mean_absolute_error: 0.8142 - val_loss: 1.0543 - val_mean_absolute_error: 0.8688\n",
            "Epoch 4/100\n",
            "6/6 [==============================] - 0s 7ms/step - loss: 0.8776 - mean_absolute_error: 0.8028 - val_loss: 1.0247 - val_mean_absolute_error: 0.8565\n",
            "Epoch 5/100\n",
            "6/6 [==============================] - 0s 7ms/step - loss: 0.8538 - mean_absolute_error: 0.7923 - val_loss: 0.9950 - val_mean_absolute_error: 0.8441\n",
            "Epoch 6/100\n",
            "6/6 [==============================] - 0s 6ms/step - loss: 0.8309 - mean_absolute_error: 0.7818 - val_loss: 0.9648 - val_mean_absolute_error: 0.8313\n",
            "Epoch 7/100\n",
            "6/6 [==============================] - 0s 6ms/step - loss: 0.8065 - mean_absolute_error: 0.7701 - val_loss: 0.9355 - val_mean_absolute_error: 0.8186\n",
            "Epoch 8/100\n",
            "6/6 [==============================] - 0s 6ms/step - loss: 0.7838 - mean_absolute_error: 0.7594 - val_loss: 0.9048 - val_mean_absolute_error: 0.8045\n",
            "Epoch 9/100\n",
            "6/6 [==============================] - 0s 6ms/step - loss: 0.7602 - mean_absolute_error: 0.7480 - val_loss: 0.8746 - val_mean_absolute_error: 0.7903\n",
            "Epoch 10/100\n",
            "6/6 [==============================] - 0s 7ms/step - loss: 0.7376 - mean_absolute_error: 0.7365 - val_loss: 0.8449 - val_mean_absolute_error: 0.7774\n",
            "Epoch 11/100\n",
            "6/6 [==============================] - 0s 7ms/step - loss: 0.7148 - mean_absolute_error: 0.7252 - val_loss: 0.8161 - val_mean_absolute_error: 0.7629\n",
            "Epoch 12/100\n",
            "6/6 [==============================] - 0s 6ms/step - loss: 0.6929 - mean_absolute_error: 0.7128 - val_loss: 0.7865 - val_mean_absolute_error: 0.7497\n",
            "Epoch 13/100\n",
            "6/6 [==============================] - 0s 6ms/step - loss: 0.6735 - mean_absolute_error: 0.7035 - val_loss: 0.7580 - val_mean_absolute_error: 0.7379\n",
            "Epoch 14/100\n",
            "6/6 [==============================] - 0s 6ms/step - loss: 0.6543 - mean_absolute_error: 0.6927 - val_loss: 0.7342 - val_mean_absolute_error: 0.7232\n",
            "Epoch 15/100\n",
            "6/6 [==============================] - 0s 10ms/step - loss: 0.6375 - mean_absolute_error: 0.6820 - val_loss: 0.7095 - val_mean_absolute_error: 0.7095\n",
            "Epoch 16/100\n",
            "6/6 [==============================] - 0s 12ms/step - loss: 0.6192 - mean_absolute_error: 0.6705 - val_loss: 0.6894 - val_mean_absolute_error: 0.6953\n",
            "Epoch 17/100\n",
            "6/6 [==============================] - 0s 12ms/step - loss: 0.6027 - mean_absolute_error: 0.6572 - val_loss: 0.6730 - val_mean_absolute_error: 0.6821\n",
            "Epoch 18/100\n",
            "6/6 [==============================] - 0s 18ms/step - loss: 0.5894 - mean_absolute_error: 0.6463 - val_loss: 0.6571 - val_mean_absolute_error: 0.6700\n",
            "Epoch 19/100\n",
            "6/6 [==============================] - 0s 11ms/step - loss: 0.5765 - mean_absolute_error: 0.6366 - val_loss: 0.6410 - val_mean_absolute_error: 0.6593\n",
            "Epoch 20/100\n",
            "6/6 [==============================] - 0s 13ms/step - loss: 0.5639 - mean_absolute_error: 0.6288 - val_loss: 0.6257 - val_mean_absolute_error: 0.6494\n",
            "Epoch 21/100\n",
            "6/6 [==============================] - 0s 23ms/step - loss: 0.5521 - mean_absolute_error: 0.6232 - val_loss: 0.6097 - val_mean_absolute_error: 0.6427\n",
            "Epoch 22/100\n",
            "6/6 [==============================] - 0s 10ms/step - loss: 0.5446 - mean_absolute_error: 0.6201 - val_loss: 0.5966 - val_mean_absolute_error: 0.6348\n",
            "Epoch 23/100\n",
            "6/6 [==============================] - 0s 12ms/step - loss: 0.5361 - mean_absolute_error: 0.6147 - val_loss: 0.5875 - val_mean_absolute_error: 0.6262\n",
            "Epoch 24/100\n",
            "6/6 [==============================] - 0s 10ms/step - loss: 0.5268 - mean_absolute_error: 0.6074 - val_loss: 0.5803 - val_mean_absolute_error: 0.6192\n",
            "Epoch 25/100\n",
            "6/6 [==============================] - 0s 12ms/step - loss: 0.5200 - mean_absolute_error: 0.6014 - val_loss: 0.5734 - val_mean_absolute_error: 0.6144\n",
            "Epoch 26/100\n",
            "6/6 [==============================] - 0s 13ms/step - loss: 0.5128 - mean_absolute_error: 0.5960 - val_loss: 0.5663 - val_mean_absolute_error: 0.6110\n",
            "Epoch 27/100\n",
            "6/6 [==============================] - 0s 17ms/step - loss: 0.5074 - mean_absolute_error: 0.5926 - val_loss: 0.5588 - val_mean_absolute_error: 0.6085\n",
            "Epoch 28/100\n",
            "6/6 [==============================] - 0s 25ms/step - loss: 0.5036 - mean_absolute_error: 0.5888 - val_loss: 0.5552 - val_mean_absolute_error: 0.6029\n",
            "Epoch 29/100\n",
            "6/6 [==============================] - 0s 22ms/step - loss: 0.4969 - mean_absolute_error: 0.5822 - val_loss: 0.5504 - val_mean_absolute_error: 0.6002\n",
            "Epoch 30/100\n",
            "6/6 [==============================] - 0s 10ms/step - loss: 0.4917 - mean_absolute_error: 0.5783 - val_loss: 0.5471 - val_mean_absolute_error: 0.5977\n",
            "Epoch 31/100\n",
            "6/6 [==============================] - 0s 10ms/step - loss: 0.4887 - mean_absolute_error: 0.5754 - val_loss: 0.5422 - val_mean_absolute_error: 0.5963\n",
            "Epoch 32/100\n",
            "6/6 [==============================] - 0s 14ms/step - loss: 0.4854 - mean_absolute_error: 0.5715 - val_loss: 0.5414 - val_mean_absolute_error: 0.5942\n",
            "Epoch 33/100\n",
            "6/6 [==============================] - 0s 11ms/step - loss: 0.4824 - mean_absolute_error: 0.5696 - val_loss: 0.5340 - val_mean_absolute_error: 0.5938\n",
            "Epoch 34/100\n",
            "6/6 [==============================] - 0s 11ms/step - loss: 0.4779 - mean_absolute_error: 0.5679 - val_loss: 0.5299 - val_mean_absolute_error: 0.5936\n",
            "Epoch 35/100\n",
            "6/6 [==============================] - 0s 13ms/step - loss: 0.4764 - mean_absolute_error: 0.5671 - val_loss: 0.5275 - val_mean_absolute_error: 0.5933\n",
            "Epoch 36/100\n",
            "6/6 [==============================] - 0s 12ms/step - loss: 0.4732 - mean_absolute_error: 0.5644 - val_loss: 0.5284 - val_mean_absolute_error: 0.5925\n",
            "Epoch 37/100\n",
            "6/6 [==============================] - 0s 12ms/step - loss: 0.4706 - mean_absolute_error: 0.5603 - val_loss: 0.5307 - val_mean_absolute_error: 0.5910\n",
            "Epoch 38/100\n",
            "6/6 [==============================] - 0s 11ms/step - loss: 0.4697 - mean_absolute_error: 0.5579 - val_loss: 0.5289 - val_mean_absolute_error: 0.5899\n",
            "Epoch 39/100\n",
            "6/6 [==============================] - 0s 14ms/step - loss: 0.4682 - mean_absolute_error: 0.5562 - val_loss: 0.5272 - val_mean_absolute_error: 0.5885\n",
            "Epoch 40/100\n",
            "6/6 [==============================] - 0s 11ms/step - loss: 0.4663 - mean_absolute_error: 0.5545 - val_loss: 0.5221 - val_mean_absolute_error: 0.5874\n",
            "Epoch 41/100\n",
            "6/6 [==============================] - 0s 13ms/step - loss: 0.4658 - mean_absolute_error: 0.5554 - val_loss: 0.5196 - val_mean_absolute_error: 0.5869\n",
            "Epoch 42/100\n",
            "6/6 [==============================] - 0s 7ms/step - loss: 0.4636 - mean_absolute_error: 0.5528 - val_loss: 0.5224 - val_mean_absolute_error: 0.5868\n",
            "Epoch 43/100\n",
            "6/6 [==============================] - 0s 6ms/step - loss: 0.4627 - mean_absolute_error: 0.5517 - val_loss: 0.5190 - val_mean_absolute_error: 0.5866\n",
            "Epoch 44/100\n",
            "6/6 [==============================] - 0s 7ms/step - loss: 0.4632 - mean_absolute_error: 0.5536 - val_loss: 0.5136 - val_mean_absolute_error: 0.5854\n",
            "Epoch 45/100\n",
            "6/6 [==============================] - 0s 6ms/step - loss: 0.4630 - mean_absolute_error: 0.5544 - val_loss: 0.5119 - val_mean_absolute_error: 0.5840\n",
            "Epoch 46/100\n",
            "6/6 [==============================] - 0s 6ms/step - loss: 0.4600 - mean_absolute_error: 0.5507 - val_loss: 0.5166 - val_mean_absolute_error: 0.5841\n",
            "Epoch 47/100\n",
            "6/6 [==============================] - 0s 7ms/step - loss: 0.4605 - mean_absolute_error: 0.5486 - val_loss: 0.5203 - val_mean_absolute_error: 0.5843\n",
            "Epoch 48/100\n",
            "6/6 [==============================] - 0s 6ms/step - loss: 0.4606 - mean_absolute_error: 0.5481 - val_loss: 0.5163 - val_mean_absolute_error: 0.5828\n",
            "Epoch 49/100\n",
            "6/6 [==============================] - 0s 8ms/step - loss: 0.4588 - mean_absolute_error: 0.5477 - val_loss: 0.5116 - val_mean_absolute_error: 0.5822\n",
            "Epoch 50/100\n",
            "6/6 [==============================] - 0s 7ms/step - loss: 0.4583 - mean_absolute_error: 0.5492 - val_loss: 0.5072 - val_mean_absolute_error: 0.5816\n",
            "Epoch 51/100\n",
            "6/6 [==============================] - 0s 7ms/step - loss: 0.4572 - mean_absolute_error: 0.5488 - val_loss: 0.5087 - val_mean_absolute_error: 0.5814\n",
            "Epoch 52/100\n",
            "6/6 [==============================] - 0s 7ms/step - loss: 0.4583 - mean_absolute_error: 0.5474 - val_loss: 0.5146 - val_mean_absolute_error: 0.5815\n",
            "Epoch 53/100\n",
            "6/6 [==============================] - 0s 7ms/step - loss: 0.4565 - mean_absolute_error: 0.5454 - val_loss: 0.5090 - val_mean_absolute_error: 0.5805\n",
            "Epoch 54/100\n",
            "6/6 [==============================] - 0s 7ms/step - loss: 0.4554 - mean_absolute_error: 0.5462 - val_loss: 0.5058 - val_mean_absolute_error: 0.5801\n",
            "Epoch 55/100\n",
            "6/6 [==============================] - 0s 6ms/step - loss: 0.4554 - mean_absolute_error: 0.5471 - val_loss: 0.5056 - val_mean_absolute_error: 0.5804\n",
            "Epoch 56/100\n",
            "6/6 [==============================] - 0s 7ms/step - loss: 0.4546 - mean_absolute_error: 0.5460 - val_loss: 0.5063 - val_mean_absolute_error: 0.5783\n",
            "Epoch 57/100\n",
            "6/6 [==============================] - 0s 11ms/step - loss: 0.4547 - mean_absolute_error: 0.5449 - val_loss: 0.5094 - val_mean_absolute_error: 0.5777\n",
            "Epoch 58/100\n",
            "6/6 [==============================] - 0s 7ms/step - loss: 0.4564 - mean_absolute_error: 0.5458 - val_loss: 0.5044 - val_mean_absolute_error: 0.5764\n",
            "Epoch 59/100\n",
            "6/6 [==============================] - 0s 7ms/step - loss: 0.4542 - mean_absolute_error: 0.5444 - val_loss: 0.5053 - val_mean_absolute_error: 0.5770\n",
            "Epoch 60/100\n",
            "6/6 [==============================] - 0s 6ms/step - loss: 0.4531 - mean_absolute_error: 0.5435 - val_loss: 0.5030 - val_mean_absolute_error: 0.5775\n",
            "Epoch 61/100\n",
            "6/6 [==============================] - 0s 7ms/step - loss: 0.4529 - mean_absolute_error: 0.5444 - val_loss: 0.5019 - val_mean_absolute_error: 0.5771\n",
            "Epoch 62/100\n",
            "6/6 [==============================] - 0s 7ms/step - loss: 0.4530 - mean_absolute_error: 0.5440 - val_loss: 0.5043 - val_mean_absolute_error: 0.5785\n",
            "Epoch 63/100\n",
            "6/6 [==============================] - 0s 7ms/step - loss: 0.4531 - mean_absolute_error: 0.5438 - val_loss: 0.5051 - val_mean_absolute_error: 0.5785\n",
            "Epoch 64/100\n",
            "6/6 [==============================] - 0s 10ms/step - loss: 0.4531 - mean_absolute_error: 0.5439 - val_loss: 0.5018 - val_mean_absolute_error: 0.5785\n",
            "Epoch 65/100\n",
            "6/6 [==============================] - 0s 7ms/step - loss: 0.4525 - mean_absolute_error: 0.5432 - val_loss: 0.5061 - val_mean_absolute_error: 0.5791\n",
            "Epoch 66/100\n",
            "6/6 [==============================] - 0s 6ms/step - loss: 0.4515 - mean_absolute_error: 0.5421 - val_loss: 0.5036 - val_mean_absolute_error: 0.5782\n",
            "Epoch 67/100\n",
            "6/6 [==============================] - 0s 7ms/step - loss: 0.4535 - mean_absolute_error: 0.5442 - val_loss: 0.4977 - val_mean_absolute_error: 0.5761\n",
            "Epoch 68/100\n",
            "6/6 [==============================] - 0s 6ms/step - loss: 0.4528 - mean_absolute_error: 0.5447 - val_loss: 0.4975 - val_mean_absolute_error: 0.5760\n",
            "Epoch 69/100\n",
            "6/6 [==============================] - 0s 6ms/step - loss: 0.4534 - mean_absolute_error: 0.5453 - val_loss: 0.4973 - val_mean_absolute_error: 0.5756\n",
            "Epoch 70/100\n",
            "6/6 [==============================] - 0s 8ms/step - loss: 0.4515 - mean_absolute_error: 0.5431 - val_loss: 0.5038 - val_mean_absolute_error: 0.5769\n",
            "Epoch 71/100\n",
            "6/6 [==============================] - 0s 7ms/step - loss: 0.4501 - mean_absolute_error: 0.5414 - val_loss: 0.5047 - val_mean_absolute_error: 0.5786\n",
            "Epoch 72/100\n",
            "6/6 [==============================] - 0s 6ms/step - loss: 0.4493 - mean_absolute_error: 0.5411 - val_loss: 0.5025 - val_mean_absolute_error: 0.5789\n",
            "Epoch 73/100\n",
            "6/6 [==============================] - 0s 6ms/step - loss: 0.4494 - mean_absolute_error: 0.5417 - val_loss: 0.5004 - val_mean_absolute_error: 0.5781\n",
            "Epoch 74/100\n",
            "6/6 [==============================] - 0s 6ms/step - loss: 0.4499 - mean_absolute_error: 0.5426 - val_loss: 0.4994 - val_mean_absolute_error: 0.5771\n",
            "Epoch 75/100\n",
            "6/6 [==============================] - 0s 6ms/step - loss: 0.4491 - mean_absolute_error: 0.5419 - val_loss: 0.4992 - val_mean_absolute_error: 0.5755\n",
            "Epoch 76/100\n",
            "6/6 [==============================] - 0s 6ms/step - loss: 0.4494 - mean_absolute_error: 0.5412 - val_loss: 0.5030 - val_mean_absolute_error: 0.5755\n",
            "Epoch 77/100\n",
            "6/6 [==============================] - 0s 6ms/step - loss: 0.4484 - mean_absolute_error: 0.5405 - val_loss: 0.5001 - val_mean_absolute_error: 0.5750\n",
            "Epoch 78/100\n",
            "6/6 [==============================] - 0s 7ms/step - loss: 0.4482 - mean_absolute_error: 0.5406 - val_loss: 0.4962 - val_mean_absolute_error: 0.5734\n",
            "Epoch 79/100\n",
            "6/6 [==============================] - 0s 6ms/step - loss: 0.4481 - mean_absolute_error: 0.5410 - val_loss: 0.4962 - val_mean_absolute_error: 0.5725\n",
            "Epoch 80/100\n",
            "6/6 [==============================] - 0s 7ms/step - loss: 0.4479 - mean_absolute_error: 0.5409 - val_loss: 0.4957 - val_mean_absolute_error: 0.5723\n",
            "Epoch 81/100\n",
            "6/6 [==============================] - 0s 6ms/step - loss: 0.4474 - mean_absolute_error: 0.5406 - val_loss: 0.4972 - val_mean_absolute_error: 0.5732\n",
            "Epoch 82/100\n",
            "6/6 [==============================] - 0s 6ms/step - loss: 0.4468 - mean_absolute_error: 0.5400 - val_loss: 0.4989 - val_mean_absolute_error: 0.5748\n",
            "Epoch 83/100\n",
            "6/6 [==============================] - 0s 6ms/step - loss: 0.4461 - mean_absolute_error: 0.5395 - val_loss: 0.5006 - val_mean_absolute_error: 0.5759\n",
            "Epoch 84/100\n",
            "6/6 [==============================] - 0s 6ms/step - loss: 0.4461 - mean_absolute_error: 0.5393 - val_loss: 0.5010 - val_mean_absolute_error: 0.5751\n",
            "Epoch 85/100\n",
            "6/6 [==============================] - 0s 7ms/step - loss: 0.4460 - mean_absolute_error: 0.5389 - val_loss: 0.5026 - val_mean_absolute_error: 0.5750\n",
            "Epoch 86/100\n",
            "6/6 [==============================] - 0s 6ms/step - loss: 0.4459 - mean_absolute_error: 0.5390 - val_loss: 0.5006 - val_mean_absolute_error: 0.5753\n",
            "Epoch 87/100\n",
            "6/6 [==============================] - 0s 7ms/step - loss: 0.4450 - mean_absolute_error: 0.5387 - val_loss: 0.4993 - val_mean_absolute_error: 0.5737\n",
            "Epoch 88/100\n",
            "6/6 [==============================] - 0s 6ms/step - loss: 0.4442 - mean_absolute_error: 0.5383 - val_loss: 0.4952 - val_mean_absolute_error: 0.5727\n",
            "Epoch 89/100\n",
            "6/6 [==============================] - 0s 7ms/step - loss: 0.4465 - mean_absolute_error: 0.5407 - val_loss: 0.4942 - val_mean_absolute_error: 0.5732\n",
            "Epoch 90/100\n",
            "6/6 [==============================] - 0s 6ms/step - loss: 0.4426 - mean_absolute_error: 0.5374 - val_loss: 0.5011 - val_mean_absolute_error: 0.5740\n",
            "Epoch 91/100\n",
            "6/6 [==============================] - 0s 6ms/step - loss: 0.4453 - mean_absolute_error: 0.5378 - val_loss: 0.5080 - val_mean_absolute_error: 0.5745\n",
            "Epoch 92/100\n",
            "6/6 [==============================] - 0s 9ms/step - loss: 0.4467 - mean_absolute_error: 0.5382 - val_loss: 0.5020 - val_mean_absolute_error: 0.5755\n",
            "Epoch 93/100\n",
            "6/6 [==============================] - 0s 6ms/step - loss: 0.4438 - mean_absolute_error: 0.5370 - val_loss: 0.5003 - val_mean_absolute_error: 0.5753\n",
            "Epoch 94/100\n",
            "6/6 [==============================] - 0s 6ms/step - loss: 0.4425 - mean_absolute_error: 0.5369 - val_loss: 0.4940 - val_mean_absolute_error: 0.5718\n",
            "Epoch 95/100\n",
            "6/6 [==============================] - 0s 6ms/step - loss: 0.4422 - mean_absolute_error: 0.5367 - val_loss: 0.4912 - val_mean_absolute_error: 0.5698\n",
            "Epoch 96/100\n",
            "6/6 [==============================] - 0s 6ms/step - loss: 0.4431 - mean_absolute_error: 0.5372 - val_loss: 0.4924 - val_mean_absolute_error: 0.5689\n",
            "Epoch 97/100\n",
            "6/6 [==============================] - 0s 6ms/step - loss: 0.4418 - mean_absolute_error: 0.5351 - val_loss: 0.5005 - val_mean_absolute_error: 0.5698\n",
            "Epoch 98/100\n",
            "6/6 [==============================] - 0s 8ms/step - loss: 0.4436 - mean_absolute_error: 0.5360 - val_loss: 0.5031 - val_mean_absolute_error: 0.5703\n",
            "Epoch 99/100\n",
            "6/6 [==============================] - 0s 7ms/step - loss: 0.4436 - mean_absolute_error: 0.5360 - val_loss: 0.4996 - val_mean_absolute_error: 0.5699\n",
            "Epoch 100/100\n",
            "6/6 [==============================] - 0s 6ms/step - loss: 0.4402 - mean_absolute_error: 0.5347 - val_loss: 0.4933 - val_mean_absolute_error: 0.5695\n",
            "2/2 - 0s - loss: 0.6533 - mean_absolute_error: 0.6594 - 16ms/epoch - 8ms/step\n"
          ]
        },
        {
          "output_type": "display_data",
          "data": {
            "text/plain": [
              "<Figure size 432x288 with 1 Axes>"
            ],
            "image/svg+xml": "<?xml version=\"1.0\" encoding=\"utf-8\" standalone=\"no\"?>\n<!DOCTYPE svg PUBLIC \"-//W3C//DTD SVG 1.1//EN\"\n  \"http://www.w3.org/Graphics/SVG/1.1/DTD/svg11.dtd\">\n<!-- Created with matplotlib (https://matplotlib.org/) -->\n<svg height=\"277.314375pt\" version=\"1.1\" viewBox=\"0 0 385.78125 277.314375\" width=\"385.78125pt\" xmlns=\"http://www.w3.org/2000/svg\" xmlns:xlink=\"http://www.w3.org/1999/xlink\">\n <defs>\n  <style type=\"text/css\">\n*{stroke-linecap:butt;stroke-linejoin:round;}\n  </style>\n </defs>\n <g id=\"figure_1\">\n  <g id=\"patch_1\">\n   <path d=\"M 0 277.314375 \nL 385.78125 277.314375 \nL 385.78125 0 \nL 0 0 \nz\n\" style=\"fill:none;\"/>\n  </g>\n  <g id=\"axes_1\">\n   <g id=\"patch_2\">\n    <path d=\"M 43.78125 239.758125 \nL 378.58125 239.758125 \nL 378.58125 22.318125 \nL 43.78125 22.318125 \nz\n\" style=\"fill:#ffffff;\"/>\n   </g>\n   <g id=\"matplotlib.axis_1\">\n    <g id=\"xtick_1\">\n     <g id=\"line2d_1\">\n      <defs>\n       <path d=\"M 0 0 \nL 0 3.5 \n\" id=\"m496378e01b\" style=\"stroke:#000000;stroke-width:0.8;\"/>\n      </defs>\n      <g>\n       <use style=\"stroke:#000000;stroke-width:0.8;\" x=\"58.999432\" xlink:href=\"#m496378e01b\" y=\"239.758125\"/>\n      </g>\n     </g>\n     <g id=\"text_1\">\n      <!-- 0 -->\n      <defs>\n       <path d=\"M 31.78125 66.40625 \nQ 24.171875 66.40625 20.328125 58.90625 \nQ 16.5 51.421875 16.5 36.375 \nQ 16.5 21.390625 20.328125 13.890625 \nQ 24.171875 6.390625 31.78125 6.390625 \nQ 39.453125 6.390625 43.28125 13.890625 \nQ 47.125 21.390625 47.125 36.375 \nQ 47.125 51.421875 43.28125 58.90625 \nQ 39.453125 66.40625 31.78125 66.40625 \nz\nM 31.78125 74.21875 \nQ 44.046875 74.21875 50.515625 64.515625 \nQ 56.984375 54.828125 56.984375 36.375 \nQ 56.984375 17.96875 50.515625 8.265625 \nQ 44.046875 -1.421875 31.78125 -1.421875 \nQ 19.53125 -1.421875 13.0625 8.265625 \nQ 6.59375 17.96875 6.59375 36.375 \nQ 6.59375 54.828125 13.0625 64.515625 \nQ 19.53125 74.21875 31.78125 74.21875 \nz\n\" id=\"DejaVuSans-48\"/>\n      </defs>\n      <g transform=\"translate(55.818182 254.356562)scale(0.1 -0.1)\">\n       <use xlink:href=\"#DejaVuSans-48\"/>\n      </g>\n     </g>\n    </g>\n    <g id=\"xtick_2\">\n     <g id=\"line2d_2\">\n      <g>\n       <use style=\"stroke:#000000;stroke-width:0.8;\" x=\"120.487035\" xlink:href=\"#m496378e01b\" y=\"239.758125\"/>\n      </g>\n     </g>\n     <g id=\"text_2\">\n      <!-- 20 -->\n      <defs>\n       <path d=\"M 19.1875 8.296875 \nL 53.609375 8.296875 \nL 53.609375 0 \nL 7.328125 0 \nL 7.328125 8.296875 \nQ 12.9375 14.109375 22.625 23.890625 \nQ 32.328125 33.6875 34.8125 36.53125 \nQ 39.546875 41.84375 41.421875 45.53125 \nQ 43.3125 49.21875 43.3125 52.78125 \nQ 43.3125 58.59375 39.234375 62.25 \nQ 35.15625 65.921875 28.609375 65.921875 \nQ 23.96875 65.921875 18.8125 64.3125 \nQ 13.671875 62.703125 7.8125 59.421875 \nL 7.8125 69.390625 \nQ 13.765625 71.78125 18.9375 73 \nQ 24.125 74.21875 28.421875 74.21875 \nQ 39.75 74.21875 46.484375 68.546875 \nQ 53.21875 62.890625 53.21875 53.421875 \nQ 53.21875 48.921875 51.53125 44.890625 \nQ 49.859375 40.875 45.40625 35.40625 \nQ 44.1875 33.984375 37.640625 27.21875 \nQ 31.109375 20.453125 19.1875 8.296875 \nz\n\" id=\"DejaVuSans-50\"/>\n      </defs>\n      <g transform=\"translate(114.124535 254.356562)scale(0.1 -0.1)\">\n       <use xlink:href=\"#DejaVuSans-50\"/>\n       <use x=\"63.623047\" xlink:href=\"#DejaVuSans-48\"/>\n      </g>\n     </g>\n    </g>\n    <g id=\"xtick_3\">\n     <g id=\"line2d_3\">\n      <g>\n       <use style=\"stroke:#000000;stroke-width:0.8;\" x=\"181.974638\" xlink:href=\"#m496378e01b\" y=\"239.758125\"/>\n      </g>\n     </g>\n     <g id=\"text_3\">\n      <!-- 40 -->\n      <defs>\n       <path d=\"M 37.796875 64.3125 \nL 12.890625 25.390625 \nL 37.796875 25.390625 \nz\nM 35.203125 72.90625 \nL 47.609375 72.90625 \nL 47.609375 25.390625 \nL 58.015625 25.390625 \nL 58.015625 17.1875 \nL 47.609375 17.1875 \nL 47.609375 0 \nL 37.796875 0 \nL 37.796875 17.1875 \nL 4.890625 17.1875 \nL 4.890625 26.703125 \nz\n\" id=\"DejaVuSans-52\"/>\n      </defs>\n      <g transform=\"translate(175.612138 254.356562)scale(0.1 -0.1)\">\n       <use xlink:href=\"#DejaVuSans-52\"/>\n       <use x=\"63.623047\" xlink:href=\"#DejaVuSans-48\"/>\n      </g>\n     </g>\n    </g>\n    <g id=\"xtick_4\">\n     <g id=\"line2d_4\">\n      <g>\n       <use style=\"stroke:#000000;stroke-width:0.8;\" x=\"243.462242\" xlink:href=\"#m496378e01b\" y=\"239.758125\"/>\n      </g>\n     </g>\n     <g id=\"text_4\">\n      <!-- 60 -->\n      <defs>\n       <path d=\"M 33.015625 40.375 \nQ 26.375 40.375 22.484375 35.828125 \nQ 18.609375 31.296875 18.609375 23.390625 \nQ 18.609375 15.53125 22.484375 10.953125 \nQ 26.375 6.390625 33.015625 6.390625 \nQ 39.65625 6.390625 43.53125 10.953125 \nQ 47.40625 15.53125 47.40625 23.390625 \nQ 47.40625 31.296875 43.53125 35.828125 \nQ 39.65625 40.375 33.015625 40.375 \nz\nM 52.59375 71.296875 \nL 52.59375 62.3125 \nQ 48.875 64.0625 45.09375 64.984375 \nQ 41.3125 65.921875 37.59375 65.921875 \nQ 27.828125 65.921875 22.671875 59.328125 \nQ 17.53125 52.734375 16.796875 39.40625 \nQ 19.671875 43.65625 24.015625 45.921875 \nQ 28.375 48.1875 33.59375 48.1875 \nQ 44.578125 48.1875 50.953125 41.515625 \nQ 57.328125 34.859375 57.328125 23.390625 \nQ 57.328125 12.15625 50.6875 5.359375 \nQ 44.046875 -1.421875 33.015625 -1.421875 \nQ 20.359375 -1.421875 13.671875 8.265625 \nQ 6.984375 17.96875 6.984375 36.375 \nQ 6.984375 53.65625 15.1875 63.9375 \nQ 23.390625 74.21875 37.203125 74.21875 \nQ 40.921875 74.21875 44.703125 73.484375 \nQ 48.484375 72.75 52.59375 71.296875 \nz\n\" id=\"DejaVuSans-54\"/>\n      </defs>\n      <g transform=\"translate(237.099742 254.356562)scale(0.1 -0.1)\">\n       <use xlink:href=\"#DejaVuSans-54\"/>\n       <use x=\"63.623047\" xlink:href=\"#DejaVuSans-48\"/>\n      </g>\n     </g>\n    </g>\n    <g id=\"xtick_5\">\n     <g id=\"line2d_5\">\n      <g>\n       <use style=\"stroke:#000000;stroke-width:0.8;\" x=\"304.949845\" xlink:href=\"#m496378e01b\" y=\"239.758125\"/>\n      </g>\n     </g>\n     <g id=\"text_5\">\n      <!-- 80 -->\n      <defs>\n       <path d=\"M 31.78125 34.625 \nQ 24.75 34.625 20.71875 30.859375 \nQ 16.703125 27.09375 16.703125 20.515625 \nQ 16.703125 13.921875 20.71875 10.15625 \nQ 24.75 6.390625 31.78125 6.390625 \nQ 38.8125 6.390625 42.859375 10.171875 \nQ 46.921875 13.96875 46.921875 20.515625 \nQ 46.921875 27.09375 42.890625 30.859375 \nQ 38.875 34.625 31.78125 34.625 \nz\nM 21.921875 38.8125 \nQ 15.578125 40.375 12.03125 44.71875 \nQ 8.5 49.078125 8.5 55.328125 \nQ 8.5 64.0625 14.71875 69.140625 \nQ 20.953125 74.21875 31.78125 74.21875 \nQ 42.671875 74.21875 48.875 69.140625 \nQ 55.078125 64.0625 55.078125 55.328125 \nQ 55.078125 49.078125 51.53125 44.71875 \nQ 48 40.375 41.703125 38.8125 \nQ 48.828125 37.15625 52.796875 32.3125 \nQ 56.78125 27.484375 56.78125 20.515625 \nQ 56.78125 9.90625 50.3125 4.234375 \nQ 43.84375 -1.421875 31.78125 -1.421875 \nQ 19.734375 -1.421875 13.25 4.234375 \nQ 6.78125 9.90625 6.78125 20.515625 \nQ 6.78125 27.484375 10.78125 32.3125 \nQ 14.796875 37.15625 21.921875 38.8125 \nz\nM 18.3125 54.390625 \nQ 18.3125 48.734375 21.84375 45.5625 \nQ 25.390625 42.390625 31.78125 42.390625 \nQ 38.140625 42.390625 41.71875 45.5625 \nQ 45.3125 48.734375 45.3125 54.390625 \nQ 45.3125 60.0625 41.71875 63.234375 \nQ 38.140625 66.40625 31.78125 66.40625 \nQ 25.390625 66.40625 21.84375 63.234375 \nQ 18.3125 60.0625 18.3125 54.390625 \nz\n\" id=\"DejaVuSans-56\"/>\n      </defs>\n      <g transform=\"translate(298.587345 254.356562)scale(0.1 -0.1)\">\n       <use xlink:href=\"#DejaVuSans-56\"/>\n       <use x=\"63.623047\" xlink:href=\"#DejaVuSans-48\"/>\n      </g>\n     </g>\n    </g>\n    <g id=\"xtick_6\">\n     <g id=\"line2d_6\">\n      <g>\n       <use style=\"stroke:#000000;stroke-width:0.8;\" x=\"366.437448\" xlink:href=\"#m496378e01b\" y=\"239.758125\"/>\n      </g>\n     </g>\n     <g id=\"text_6\">\n      <!-- 100 -->\n      <defs>\n       <path d=\"M 12.40625 8.296875 \nL 28.515625 8.296875 \nL 28.515625 63.921875 \nL 10.984375 60.40625 \nL 10.984375 69.390625 \nL 28.421875 72.90625 \nL 38.28125 72.90625 \nL 38.28125 8.296875 \nL 54.390625 8.296875 \nL 54.390625 0 \nL 12.40625 0 \nz\n\" id=\"DejaVuSans-49\"/>\n      </defs>\n      <g transform=\"translate(356.893698 254.356562)scale(0.1 -0.1)\">\n       <use xlink:href=\"#DejaVuSans-49\"/>\n       <use x=\"63.623047\" xlink:href=\"#DejaVuSans-48\"/>\n       <use x=\"127.246094\" xlink:href=\"#DejaVuSans-48\"/>\n      </g>\n     </g>\n    </g>\n    <g id=\"text_7\">\n     <!-- Epoch -->\n     <defs>\n      <path d=\"M 9.8125 72.90625 \nL 55.90625 72.90625 \nL 55.90625 64.59375 \nL 19.671875 64.59375 \nL 19.671875 43.015625 \nL 54.390625 43.015625 \nL 54.390625 34.71875 \nL 19.671875 34.71875 \nL 19.671875 8.296875 \nL 56.78125 8.296875 \nL 56.78125 0 \nL 9.8125 0 \nz\n\" id=\"DejaVuSans-69\"/>\n      <path d=\"M 18.109375 8.203125 \nL 18.109375 -20.796875 \nL 9.078125 -20.796875 \nL 9.078125 54.6875 \nL 18.109375 54.6875 \nL 18.109375 46.390625 \nQ 20.953125 51.265625 25.265625 53.625 \nQ 29.59375 56 35.59375 56 \nQ 45.5625 56 51.78125 48.09375 \nQ 58.015625 40.1875 58.015625 27.296875 \nQ 58.015625 14.40625 51.78125 6.484375 \nQ 45.5625 -1.421875 35.59375 -1.421875 \nQ 29.59375 -1.421875 25.265625 0.953125 \nQ 20.953125 3.328125 18.109375 8.203125 \nz\nM 48.6875 27.296875 \nQ 48.6875 37.203125 44.609375 42.84375 \nQ 40.53125 48.484375 33.40625 48.484375 \nQ 26.265625 48.484375 22.1875 42.84375 \nQ 18.109375 37.203125 18.109375 27.296875 \nQ 18.109375 17.390625 22.1875 11.75 \nQ 26.265625 6.109375 33.40625 6.109375 \nQ 40.53125 6.109375 44.609375 11.75 \nQ 48.6875 17.390625 48.6875 27.296875 \nz\n\" id=\"DejaVuSans-112\"/>\n      <path d=\"M 30.609375 48.390625 \nQ 23.390625 48.390625 19.1875 42.75 \nQ 14.984375 37.109375 14.984375 27.296875 \nQ 14.984375 17.484375 19.15625 11.84375 \nQ 23.34375 6.203125 30.609375 6.203125 \nQ 37.796875 6.203125 41.984375 11.859375 \nQ 46.1875 17.53125 46.1875 27.296875 \nQ 46.1875 37.015625 41.984375 42.703125 \nQ 37.796875 48.390625 30.609375 48.390625 \nz\nM 30.609375 56 \nQ 42.328125 56 49.015625 48.375 \nQ 55.71875 40.765625 55.71875 27.296875 \nQ 55.71875 13.875 49.015625 6.21875 \nQ 42.328125 -1.421875 30.609375 -1.421875 \nQ 18.84375 -1.421875 12.171875 6.21875 \nQ 5.515625 13.875 5.515625 27.296875 \nQ 5.515625 40.765625 12.171875 48.375 \nQ 18.84375 56 30.609375 56 \nz\n\" id=\"DejaVuSans-111\"/>\n      <path d=\"M 48.78125 52.59375 \nL 48.78125 44.1875 \nQ 44.96875 46.296875 41.140625 47.34375 \nQ 37.3125 48.390625 33.40625 48.390625 \nQ 24.65625 48.390625 19.8125 42.84375 \nQ 14.984375 37.3125 14.984375 27.296875 \nQ 14.984375 17.28125 19.8125 11.734375 \nQ 24.65625 6.203125 33.40625 6.203125 \nQ 37.3125 6.203125 41.140625 7.25 \nQ 44.96875 8.296875 48.78125 10.40625 \nL 48.78125 2.09375 \nQ 45.015625 0.34375 40.984375 -0.53125 \nQ 36.96875 -1.421875 32.421875 -1.421875 \nQ 20.0625 -1.421875 12.78125 6.34375 \nQ 5.515625 14.109375 5.515625 27.296875 \nQ 5.515625 40.671875 12.859375 48.328125 \nQ 20.21875 56 33.015625 56 \nQ 37.15625 56 41.109375 55.140625 \nQ 45.0625 54.296875 48.78125 52.59375 \nz\n\" id=\"DejaVuSans-99\"/>\n      <path d=\"M 54.890625 33.015625 \nL 54.890625 0 \nL 45.90625 0 \nL 45.90625 32.71875 \nQ 45.90625 40.484375 42.875 44.328125 \nQ 39.84375 48.1875 33.796875 48.1875 \nQ 26.515625 48.1875 22.3125 43.546875 \nQ 18.109375 38.921875 18.109375 30.90625 \nL 18.109375 0 \nL 9.078125 0 \nL 9.078125 75.984375 \nL 18.109375 75.984375 \nL 18.109375 46.1875 \nQ 21.34375 51.125 25.703125 53.5625 \nQ 30.078125 56 35.796875 56 \nQ 45.21875 56 50.046875 50.171875 \nQ 54.890625 44.34375 54.890625 33.015625 \nz\n\" id=\"DejaVuSans-104\"/>\n     </defs>\n     <g transform=\"translate(195.870313 268.034687)scale(0.1 -0.1)\">\n      <use xlink:href=\"#DejaVuSans-69\"/>\n      <use x=\"63.183594\" xlink:href=\"#DejaVuSans-112\"/>\n      <use x=\"126.660156\" xlink:href=\"#DejaVuSans-111\"/>\n      <use x=\"187.841797\" xlink:href=\"#DejaVuSans-99\"/>\n      <use x=\"242.822266\" xlink:href=\"#DejaVuSans-104\"/>\n     </g>\n    </g>\n   </g>\n   <g id=\"matplotlib.axis_2\">\n    <g id=\"ytick_1\">\n     <g id=\"line2d_7\">\n      <defs>\n       <path d=\"M 0 0 \nL -3.5 0 \n\" id=\"mb99dbcab13\" style=\"stroke:#000000;stroke-width:0.8;\"/>\n      </defs>\n      <g>\n       <use style=\"stroke:#000000;stroke-width:0.8;\" x=\"43.78125\" xlink:href=\"#mb99dbcab13\" y=\"212.37352\"/>\n      </g>\n     </g>\n     <g id=\"text_8\">\n      <!-- 0.5 -->\n      <defs>\n       <path d=\"M 10.6875 12.40625 \nL 21 12.40625 \nL 21 0 \nL 10.6875 0 \nz\n\" id=\"DejaVuSans-46\"/>\n       <path d=\"M 10.796875 72.90625 \nL 49.515625 72.90625 \nL 49.515625 64.59375 \nL 19.828125 64.59375 \nL 19.828125 46.734375 \nQ 21.96875 47.46875 24.109375 47.828125 \nQ 26.265625 48.1875 28.421875 48.1875 \nQ 40.625 48.1875 47.75 41.5 \nQ 54.890625 34.8125 54.890625 23.390625 \nQ 54.890625 11.625 47.5625 5.09375 \nQ 40.234375 -1.421875 26.90625 -1.421875 \nQ 22.3125 -1.421875 17.546875 -0.640625 \nQ 12.796875 0.140625 7.71875 1.703125 \nL 7.71875 11.625 \nQ 12.109375 9.234375 16.796875 8.0625 \nQ 21.484375 6.890625 26.703125 6.890625 \nQ 35.15625 6.890625 40.078125 11.328125 \nQ 45.015625 15.765625 45.015625 23.390625 \nQ 45.015625 31 40.078125 35.4375 \nQ 35.15625 39.890625 26.703125 39.890625 \nQ 22.75 39.890625 18.8125 39.015625 \nQ 14.890625 38.140625 10.796875 36.28125 \nz\n\" id=\"DejaVuSans-53\"/>\n      </defs>\n      <g transform=\"translate(20.878125 216.172739)scale(0.1 -0.1)\">\n       <use xlink:href=\"#DejaVuSans-48\"/>\n       <use x=\"63.623047\" xlink:href=\"#DejaVuSans-46\"/>\n       <use x=\"95.410156\" xlink:href=\"#DejaVuSans-53\"/>\n      </g>\n     </g>\n    </g>\n    <g id=\"ytick_2\">\n     <g id=\"line2d_8\">\n      <g>\n       <use style=\"stroke:#000000;stroke-width:0.8;\" x=\"43.78125\" xlink:href=\"#mb99dbcab13\" y=\"183.095591\"/>\n      </g>\n     </g>\n     <g id=\"text_9\">\n      <!-- 0.6 -->\n      <g transform=\"translate(20.878125 186.89481)scale(0.1 -0.1)\">\n       <use xlink:href=\"#DejaVuSans-48\"/>\n       <use x=\"63.623047\" xlink:href=\"#DejaVuSans-46\"/>\n       <use x=\"95.410156\" xlink:href=\"#DejaVuSans-54\"/>\n      </g>\n     </g>\n    </g>\n    <g id=\"ytick_3\">\n     <g id=\"line2d_9\">\n      <g>\n       <use style=\"stroke:#000000;stroke-width:0.8;\" x=\"43.78125\" xlink:href=\"#mb99dbcab13\" y=\"153.817661\"/>\n      </g>\n     </g>\n     <g id=\"text_10\">\n      <!-- 0.7 -->\n      <defs>\n       <path d=\"M 8.203125 72.90625 \nL 55.078125 72.90625 \nL 55.078125 68.703125 \nL 28.609375 0 \nL 18.3125 0 \nL 43.21875 64.59375 \nL 8.203125 64.59375 \nz\n\" id=\"DejaVuSans-55\"/>\n      </defs>\n      <g transform=\"translate(20.878125 157.61688)scale(0.1 -0.1)\">\n       <use xlink:href=\"#DejaVuSans-48\"/>\n       <use x=\"63.623047\" xlink:href=\"#DejaVuSans-46\"/>\n       <use x=\"95.410156\" xlink:href=\"#DejaVuSans-55\"/>\n      </g>\n     </g>\n    </g>\n    <g id=\"ytick_4\">\n     <g id=\"line2d_10\">\n      <g>\n       <use style=\"stroke:#000000;stroke-width:0.8;\" x=\"43.78125\" xlink:href=\"#mb99dbcab13\" y=\"124.539732\"/>\n      </g>\n     </g>\n     <g id=\"text_11\">\n      <!-- 0.8 -->\n      <g transform=\"translate(20.878125 128.33895)scale(0.1 -0.1)\">\n       <use xlink:href=\"#DejaVuSans-48\"/>\n       <use x=\"63.623047\" xlink:href=\"#DejaVuSans-46\"/>\n       <use x=\"95.410156\" xlink:href=\"#DejaVuSans-56\"/>\n      </g>\n     </g>\n    </g>\n    <g id=\"ytick_5\">\n     <g id=\"line2d_11\">\n      <g>\n       <use style=\"stroke:#000000;stroke-width:0.8;\" x=\"43.78125\" xlink:href=\"#mb99dbcab13\" y=\"95.261802\"/>\n      </g>\n     </g>\n     <g id=\"text_12\">\n      <!-- 0.9 -->\n      <defs>\n       <path d=\"M 10.984375 1.515625 \nL 10.984375 10.5 \nQ 14.703125 8.734375 18.5 7.8125 \nQ 22.3125 6.890625 25.984375 6.890625 \nQ 35.75 6.890625 40.890625 13.453125 \nQ 46.046875 20.015625 46.78125 33.40625 \nQ 43.953125 29.203125 39.59375 26.953125 \nQ 35.25 24.703125 29.984375 24.703125 \nQ 19.046875 24.703125 12.671875 31.3125 \nQ 6.296875 37.9375 6.296875 49.421875 \nQ 6.296875 60.640625 12.9375 67.421875 \nQ 19.578125 74.21875 30.609375 74.21875 \nQ 43.265625 74.21875 49.921875 64.515625 \nQ 56.59375 54.828125 56.59375 36.375 \nQ 56.59375 19.140625 48.40625 8.859375 \nQ 40.234375 -1.421875 26.421875 -1.421875 \nQ 22.703125 -1.421875 18.890625 -0.6875 \nQ 15.09375 0.046875 10.984375 1.515625 \nz\nM 30.609375 32.421875 \nQ 37.25 32.421875 41.125 36.953125 \nQ 45.015625 41.5 45.015625 49.421875 \nQ 45.015625 57.28125 41.125 61.84375 \nQ 37.25 66.40625 30.609375 66.40625 \nQ 23.96875 66.40625 20.09375 61.84375 \nQ 16.21875 57.28125 16.21875 49.421875 \nQ 16.21875 41.5 20.09375 36.953125 \nQ 23.96875 32.421875 30.609375 32.421875 \nz\n\" id=\"DejaVuSans-57\"/>\n      </defs>\n      <g transform=\"translate(20.878125 99.061021)scale(0.1 -0.1)\">\n       <use xlink:href=\"#DejaVuSans-48\"/>\n       <use x=\"63.623047\" xlink:href=\"#DejaVuSans-46\"/>\n       <use x=\"95.410156\" xlink:href=\"#DejaVuSans-57\"/>\n      </g>\n     </g>\n    </g>\n    <g id=\"ytick_6\">\n     <g id=\"line2d_12\">\n      <g>\n       <use style=\"stroke:#000000;stroke-width:0.8;\" x=\"43.78125\" xlink:href=\"#mb99dbcab13\" y=\"65.983872\"/>\n      </g>\n     </g>\n     <g id=\"text_13\">\n      <!-- 1.0 -->\n      <g transform=\"translate(20.878125 69.783091)scale(0.1 -0.1)\">\n       <use xlink:href=\"#DejaVuSans-49\"/>\n       <use x=\"63.623047\" xlink:href=\"#DejaVuSans-46\"/>\n       <use x=\"95.410156\" xlink:href=\"#DejaVuSans-48\"/>\n      </g>\n     </g>\n    </g>\n    <g id=\"ytick_7\">\n     <g id=\"line2d_13\">\n      <g>\n       <use style=\"stroke:#000000;stroke-width:0.8;\" x=\"43.78125\" xlink:href=\"#mb99dbcab13\" y=\"36.705943\"/>\n      </g>\n     </g>\n     <g id=\"text_14\">\n      <!-- 1.1 -->\n      <g transform=\"translate(20.878125 40.505162)scale(0.1 -0.1)\">\n       <use xlink:href=\"#DejaVuSans-49\"/>\n       <use x=\"63.623047\" xlink:href=\"#DejaVuSans-46\"/>\n       <use x=\"95.410156\" xlink:href=\"#DejaVuSans-49\"/>\n      </g>\n     </g>\n    </g>\n    <g id=\"text_15\">\n     <!-- Loss -->\n     <defs>\n      <path d=\"M 9.8125 72.90625 \nL 19.671875 72.90625 \nL 19.671875 8.296875 \nL 55.171875 8.296875 \nL 55.171875 0 \nL 9.8125 0 \nz\n\" id=\"DejaVuSans-76\"/>\n      <path d=\"M 44.28125 53.078125 \nL 44.28125 44.578125 \nQ 40.484375 46.53125 36.375 47.5 \nQ 32.28125 48.484375 27.875 48.484375 \nQ 21.1875 48.484375 17.84375 46.4375 \nQ 14.5 44.390625 14.5 40.28125 \nQ 14.5 37.15625 16.890625 35.375 \nQ 19.28125 33.59375 26.515625 31.984375 \nL 29.59375 31.296875 \nQ 39.15625 29.25 43.1875 25.515625 \nQ 47.21875 21.78125 47.21875 15.09375 \nQ 47.21875 7.46875 41.1875 3.015625 \nQ 35.15625 -1.421875 24.609375 -1.421875 \nQ 20.21875 -1.421875 15.453125 -0.5625 \nQ 10.6875 0.296875 5.421875 2 \nL 5.421875 11.28125 \nQ 10.40625 8.6875 15.234375 7.390625 \nQ 20.0625 6.109375 24.8125 6.109375 \nQ 31.15625 6.109375 34.5625 8.28125 \nQ 37.984375 10.453125 37.984375 14.40625 \nQ 37.984375 18.0625 35.515625 20.015625 \nQ 33.0625 21.96875 24.703125 23.78125 \nL 21.578125 24.515625 \nQ 13.234375 26.265625 9.515625 29.90625 \nQ 5.8125 33.546875 5.8125 39.890625 \nQ 5.8125 47.609375 11.28125 51.796875 \nQ 16.75 56 26.8125 56 \nQ 31.78125 56 36.171875 55.265625 \nQ 40.578125 54.546875 44.28125 53.078125 \nz\n\" id=\"DejaVuSans-115\"/>\n     </defs>\n     <g transform=\"translate(14.798438 142.005312)rotate(-90)scale(0.1 -0.1)\">\n      <use xlink:href=\"#DejaVuSans-76\"/>\n      <use x=\"53.962891\" xlink:href=\"#DejaVuSans-111\"/>\n      <use x=\"115.144531\" xlink:href=\"#DejaVuSans-115\"/>\n      <use x=\"167.244141\" xlink:href=\"#DejaVuSans-115\"/>\n     </g>\n    </g>\n   </g>\n   <g id=\"line2d_14\">\n    <path clip-path=\"url(#pce931aa350)\" d=\"M 58.999432 78.342483 \nL 62.073812 87.015895 \nL 65.148192 94.583523 \nL 68.222572 101.820438 \nL 71.296952 108.774088 \nL 74.371333 115.484157 \nL 77.445713 122.626749 \nL 80.520093 129.287187 \nL 83.594473 136.179008 \nL 86.668853 142.799204 \nL 89.743233 149.488629 \nL 92.817614 155.885714 \nL 95.891994 161.577604 \nL 98.966374 167.203965 \nL 102.040754 172.113212 \nL 105.115134 177.464598 \nL 108.189514 182.294269 \nL 111.263895 186.185529 \nL 114.338275 189.978906 \nL 117.412655 193.670998 \nL 120.487035 197.115408 \nL 123.561415 199.32385 \nL 126.635795 201.81814 \nL 129.710176 204.519433 \nL 132.784556 206.517574 \nL 135.858936 208.613858 \nL 138.933316 210.20902 \nL 142.007696 211.305955 \nL 145.082076 213.295344 \nL 148.156457 214.815824 \nL 151.230837 215.668715 \nL 154.305217 216.640501 \nL 157.379597 217.527658 \nL 160.453977 218.854213 \nL 163.528357 219.292879 \nL 166.602738 220.218481 \nL 169.677118 220.97075 \nL 172.751498 221.239783 \nL 175.825878 221.683292 \nL 178.900258 222.243818 \nL 181.974638 222.395249 \nL 185.049019 223.044872 \nL 188.123399 223.301873 \nL 191.197779 223.156253 \nL 194.272159 223.201486 \nL 197.346539 224.09352 \nL 200.420919 223.925415 \nL 203.4953 223.90326 \nL 206.56968 224.422044 \nL 209.64406 224.5922 \nL 212.71844 224.904128 \nL 215.79282 224.568048 \nL 218.8672 225.120756 \nL 221.941581 225.420852 \nL 225.015961 225.439359 \nL 228.090341 225.654355 \nL 231.164721 225.626355 \nL 234.239101 225.14161 \nL 237.313481 225.788589 \nL 240.387862 226.097524 \nL 243.462242 226.168541 \nL 246.536622 226.142303 \nL 249.611002 226.09988 \nL 252.685382 226.108274 \nL 255.759762 226.278988 \nL 258.834143 226.564164 \nL 261.908523 225.994746 \nL 264.982903 226.178217 \nL 268.057283 226.013567 \nL 271.131663 226.568544 \nL 274.206043 226.974315 \nL 277.280424 227.210715 \nL 280.354804 227.193805 \nL 283.429184 227.036641 \nL 286.503564 227.27127 \nL 289.577944 227.187226 \nL 292.652324 227.471145 \nL 295.726705 227.546542 \nL 298.801085 227.564996 \nL 301.875465 227.62912 \nL 304.949845 227.769348 \nL 308.024225 227.94665 \nL 311.098605 228.149082 \nL 314.172986 228.166437 \nL 317.247366 228.177797 \nL 320.321746 228.203747 \nL 323.396126 228.468697 \nL 326.470506 228.711527 \nL 329.544886 228.039699 \nL 332.619267 229.189188 \nL 335.693647 228.385961 \nL 338.768027 227.988768 \nL 341.842407 228.830517 \nL 344.916787 229.201665 \nL 347.991167 229.304931 \nL 351.065548 229.027085 \nL 354.139928 229.416234 \nL 357.214308 228.874337 \nL 360.288688 228.875898 \nL 363.363068 229.874489 \n\" style=\"fill:none;stroke:#1f77b4;stroke-linecap:square;stroke-width:1.5;\"/>\n   </g>\n   <g id=\"line2d_15\">\n    <path clip-path=\"url(#pce931aa350)\" d=\"M 58.999432 32.201761 \nL 62.073812 41.232517 \nL 65.148192 50.072708 \nL 68.222572 58.745893 \nL 71.296952 67.460542 \nL 74.371333 76.29007 \nL 77.445713 84.870573 \nL 80.520093 93.842379 \nL 83.594473 102.692482 \nL 86.668853 111.401477 \nL 89.743233 119.813542 \nL 92.817614 128.496412 \nL 95.891994 136.825132 \nL 98.966374 143.798013 \nL 102.040754 151.031786 \nL 105.115134 156.909302 \nL 108.189514 161.731661 \nL 111.263895 166.372913 \nL 114.338275 171.089519 \nL 117.412655 175.560658 \nL 120.487035 180.241926 \nL 123.561415 184.085597 \nL 126.635795 186.753454 \nL 129.710176 188.854398 \nL 132.784556 190.891384 \nL 135.858936 192.951546 \nL 138.933316 195.170232 \nL 142.007696 196.206542 \nL 145.082076 197.611976 \nL 148.156457 198.594433 \nL 151.230837 200.027492 \nL 154.305217 200.249696 \nL 157.379597 202.418873 \nL 160.453977 203.610411 \nL 163.528357 204.331067 \nL 166.602738 204.061659 \nL 169.677118 203.395414 \nL 172.751498 203.919939 \nL 175.825878 204.421481 \nL 178.900258 205.906422 \nL 181.974638 206.634705 \nL 185.049019 205.814246 \nL 188.123399 206.813822 \nL 191.197779 208.392056 \nL 194.272159 208.888938 \nL 197.346539 207.522193 \nL 200.420919 206.434612 \nL 203.4953 207.59205 \nL 206.56968 208.973593 \nL 209.64406 210.25345 \nL 212.71844 209.833527 \nL 215.79282 208.094185 \nL 218.8672 209.732852 \nL 221.941581 210.688783 \nL 225.015961 210.74419 \nL 228.090341 210.534778 \nL 231.164721 209.628338 \nL 234.239101 211.089074 \nL 237.313481 210.817152 \nL 240.387862 211.505612 \nL 243.462242 211.808527 \nL 246.536622 211.108043 \nL 249.611002 210.869889 \nL 252.685382 211.846797 \nL 255.759762 210.57933 \nL 258.834143 211.328711 \nL 261.908523 213.038744 \nL 264.982903 213.094011 \nL 268.057283 213.161329 \nL 271.131663 211.250635 \nL 274.206043 211.002831 \nL 277.280424 211.632516 \nL 280.354804 212.269076 \nL 283.429184 212.556407 \nL 286.503564 212.620758 \nL 289.577944 211.500761 \nL 292.652324 212.357012 \nL 295.726705 213.472079 \nL 298.801085 213.499224 \nL 301.875465 213.622838 \nL 304.949845 213.186353 \nL 308.024225 212.694698 \nL 311.098605 212.200406 \nL 314.172986 212.067535 \nL 317.247366 211.622726 \nL 320.321746 212.206549 \nL 323.396126 212.590916 \nL 326.470506 213.776983 \nL 329.544886 214.08077 \nL 332.619267 212.045913 \nL 335.693647 210.024824 \nL 338.768027 211.799557 \nL 341.842407 212.290227 \nL 344.916787 214.142538 \nL 347.991167 214.947142 \nL 351.065548 214.597154 \nL 354.139928 212.230806 \nL 357.214308 211.462508 \nL 360.288688 212.498618 \nL 363.363068 214.333574 \n\" style=\"fill:none;stroke:#ff7f0e;stroke-linecap:square;stroke-width:1.5;\"/>\n   </g>\n   <g id=\"patch_3\">\n    <path d=\"M 43.78125 239.758125 \nL 43.78125 22.318125 \n\" style=\"fill:none;stroke:#000000;stroke-linecap:square;stroke-linejoin:miter;stroke-width:0.8;\"/>\n   </g>\n   <g id=\"patch_4\">\n    <path d=\"M 378.58125 239.758125 \nL 378.58125 22.318125 \n\" style=\"fill:none;stroke:#000000;stroke-linecap:square;stroke-linejoin:miter;stroke-width:0.8;\"/>\n   </g>\n   <g id=\"patch_5\">\n    <path d=\"M 43.78125 239.758125 \nL 378.58125 239.758125 \n\" style=\"fill:none;stroke:#000000;stroke-linecap:square;stroke-linejoin:miter;stroke-width:0.8;\"/>\n   </g>\n   <g id=\"patch_6\">\n    <path d=\"M 43.78125 22.318125 \nL 378.58125 22.318125 \n\" style=\"fill:none;stroke:#000000;stroke-linecap:square;stroke-linejoin:miter;stroke-width:0.8;\"/>\n   </g>\n   <g id=\"text_16\">\n    <!-- Loss vs. epochs -->\n    <defs>\n     <path id=\"DejaVuSans-32\"/>\n     <path d=\"M 2.984375 54.6875 \nL 12.5 54.6875 \nL 29.59375 8.796875 \nL 46.6875 54.6875 \nL 56.203125 54.6875 \nL 35.6875 0 \nL 23.484375 0 \nz\n\" id=\"DejaVuSans-118\"/>\n     <path d=\"M 56.203125 29.59375 \nL 56.203125 25.203125 \nL 14.890625 25.203125 \nQ 15.484375 15.921875 20.484375 11.0625 \nQ 25.484375 6.203125 34.421875 6.203125 \nQ 39.59375 6.203125 44.453125 7.46875 \nQ 49.3125 8.734375 54.109375 11.28125 \nL 54.109375 2.78125 \nQ 49.265625 0.734375 44.1875 -0.34375 \nQ 39.109375 -1.421875 33.890625 -1.421875 \nQ 20.796875 -1.421875 13.15625 6.1875 \nQ 5.515625 13.8125 5.515625 26.8125 \nQ 5.515625 40.234375 12.765625 48.109375 \nQ 20.015625 56 32.328125 56 \nQ 43.359375 56 49.78125 48.890625 \nQ 56.203125 41.796875 56.203125 29.59375 \nz\nM 47.21875 32.234375 \nQ 47.125 39.59375 43.09375 43.984375 \nQ 39.0625 48.390625 32.421875 48.390625 \nQ 24.90625 48.390625 20.390625 44.140625 \nQ 15.875 39.890625 15.1875 32.171875 \nz\n\" id=\"DejaVuSans-101\"/>\n    </defs>\n    <g transform=\"translate(164.22375 16.318125)scale(0.12 -0.12)\">\n     <use xlink:href=\"#DejaVuSans-76\"/>\n     <use x=\"53.962891\" xlink:href=\"#DejaVuSans-111\"/>\n     <use x=\"115.144531\" xlink:href=\"#DejaVuSans-115\"/>\n     <use x=\"167.244141\" xlink:href=\"#DejaVuSans-115\"/>\n     <use x=\"219.34375\" xlink:href=\"#DejaVuSans-32\"/>\n     <use x=\"251.130859\" xlink:href=\"#DejaVuSans-118\"/>\n     <use x=\"310.310547\" xlink:href=\"#DejaVuSans-115\"/>\n     <use x=\"362.410156\" xlink:href=\"#DejaVuSans-46\"/>\n     <use x=\"394.197266\" xlink:href=\"#DejaVuSans-32\"/>\n     <use x=\"425.984375\" xlink:href=\"#DejaVuSans-101\"/>\n     <use x=\"487.507812\" xlink:href=\"#DejaVuSans-112\"/>\n     <use x=\"550.984375\" xlink:href=\"#DejaVuSans-111\"/>\n     <use x=\"612.166016\" xlink:href=\"#DejaVuSans-99\"/>\n     <use x=\"667.146484\" xlink:href=\"#DejaVuSans-104\"/>\n     <use x=\"730.525391\" xlink:href=\"#DejaVuSans-115\"/>\n    </g>\n   </g>\n   <g id=\"legend_1\">\n    <g id=\"patch_7\">\n     <path d=\"M 290.2 59.674375 \nL 371.58125 59.674375 \nQ 373.58125 59.674375 373.58125 57.674375 \nL 373.58125 29.318125 \nQ 373.58125 27.318125 371.58125 27.318125 \nL 290.2 27.318125 \nQ 288.2 27.318125 288.2 29.318125 \nL 288.2 57.674375 \nQ 288.2 59.674375 290.2 59.674375 \nz\n\" style=\"fill:#ffffff;opacity:0.8;stroke:#cccccc;stroke-linejoin:miter;\"/>\n    </g>\n    <g id=\"line2d_16\">\n     <path d=\"M 292.2 35.416562 \nL 312.2 35.416562 \n\" style=\"fill:none;stroke:#1f77b4;stroke-linecap:square;stroke-width:1.5;\"/>\n    </g>\n    <g id=\"line2d_17\"/>\n    <g id=\"text_17\">\n     <!-- Training -->\n     <defs>\n      <path d=\"M -0.296875 72.90625 \nL 61.375 72.90625 \nL 61.375 64.59375 \nL 35.5 64.59375 \nL 35.5 0 \nL 25.59375 0 \nL 25.59375 64.59375 \nL -0.296875 64.59375 \nz\n\" id=\"DejaVuSans-84\"/>\n      <path d=\"M 41.109375 46.296875 \nQ 39.59375 47.171875 37.8125 47.578125 \nQ 36.03125 48 33.890625 48 \nQ 26.265625 48 22.1875 43.046875 \nQ 18.109375 38.09375 18.109375 28.8125 \nL 18.109375 0 \nL 9.078125 0 \nL 9.078125 54.6875 \nL 18.109375 54.6875 \nL 18.109375 46.1875 \nQ 20.953125 51.171875 25.484375 53.578125 \nQ 30.03125 56 36.53125 56 \nQ 37.453125 56 38.578125 55.875 \nQ 39.703125 55.765625 41.0625 55.515625 \nz\n\" id=\"DejaVuSans-114\"/>\n      <path d=\"M 34.28125 27.484375 \nQ 23.390625 27.484375 19.1875 25 \nQ 14.984375 22.515625 14.984375 16.5 \nQ 14.984375 11.71875 18.140625 8.90625 \nQ 21.296875 6.109375 26.703125 6.109375 \nQ 34.1875 6.109375 38.703125 11.40625 \nQ 43.21875 16.703125 43.21875 25.484375 \nL 43.21875 27.484375 \nz\nM 52.203125 31.203125 \nL 52.203125 0 \nL 43.21875 0 \nL 43.21875 8.296875 \nQ 40.140625 3.328125 35.546875 0.953125 \nQ 30.953125 -1.421875 24.3125 -1.421875 \nQ 15.921875 -1.421875 10.953125 3.296875 \nQ 6 8.015625 6 15.921875 \nQ 6 25.140625 12.171875 29.828125 \nQ 18.359375 34.515625 30.609375 34.515625 \nL 43.21875 34.515625 \nL 43.21875 35.40625 \nQ 43.21875 41.609375 39.140625 45 \nQ 35.0625 48.390625 27.6875 48.390625 \nQ 23 48.390625 18.546875 47.265625 \nQ 14.109375 46.140625 10.015625 43.890625 \nL 10.015625 52.203125 \nQ 14.9375 54.109375 19.578125 55.046875 \nQ 24.21875 56 28.609375 56 \nQ 40.484375 56 46.34375 49.84375 \nQ 52.203125 43.703125 52.203125 31.203125 \nz\n\" id=\"DejaVuSans-97\"/>\n      <path d=\"M 9.421875 54.6875 \nL 18.40625 54.6875 \nL 18.40625 0 \nL 9.421875 0 \nz\nM 9.421875 75.984375 \nL 18.40625 75.984375 \nL 18.40625 64.59375 \nL 9.421875 64.59375 \nz\n\" id=\"DejaVuSans-105\"/>\n      <path d=\"M 54.890625 33.015625 \nL 54.890625 0 \nL 45.90625 0 \nL 45.90625 32.71875 \nQ 45.90625 40.484375 42.875 44.328125 \nQ 39.84375 48.1875 33.796875 48.1875 \nQ 26.515625 48.1875 22.3125 43.546875 \nQ 18.109375 38.921875 18.109375 30.90625 \nL 18.109375 0 \nL 9.078125 0 \nL 9.078125 54.6875 \nL 18.109375 54.6875 \nL 18.109375 46.1875 \nQ 21.34375 51.125 25.703125 53.5625 \nQ 30.078125 56 35.796875 56 \nQ 45.21875 56 50.046875 50.171875 \nQ 54.890625 44.34375 54.890625 33.015625 \nz\n\" id=\"DejaVuSans-110\"/>\n      <path d=\"M 45.40625 27.984375 \nQ 45.40625 37.75 41.375 43.109375 \nQ 37.359375 48.484375 30.078125 48.484375 \nQ 22.859375 48.484375 18.828125 43.109375 \nQ 14.796875 37.75 14.796875 27.984375 \nQ 14.796875 18.265625 18.828125 12.890625 \nQ 22.859375 7.515625 30.078125 7.515625 \nQ 37.359375 7.515625 41.375 12.890625 \nQ 45.40625 18.265625 45.40625 27.984375 \nz\nM 54.390625 6.78125 \nQ 54.390625 -7.171875 48.1875 -13.984375 \nQ 42 -20.796875 29.203125 -20.796875 \nQ 24.46875 -20.796875 20.265625 -20.09375 \nQ 16.0625 -19.390625 12.109375 -17.921875 \nL 12.109375 -9.1875 \nQ 16.0625 -11.328125 19.921875 -12.34375 \nQ 23.78125 -13.375 27.78125 -13.375 \nQ 36.625 -13.375 41.015625 -8.765625 \nQ 45.40625 -4.15625 45.40625 5.171875 \nL 45.40625 9.625 \nQ 42.625 4.78125 38.28125 2.390625 \nQ 33.9375 0 27.875 0 \nQ 17.828125 0 11.671875 7.65625 \nQ 5.515625 15.328125 5.515625 27.984375 \nQ 5.515625 40.671875 11.671875 48.328125 \nQ 17.828125 56 27.875 56 \nQ 33.9375 56 38.28125 53.609375 \nQ 42.625 51.21875 45.40625 46.390625 \nL 45.40625 54.6875 \nL 54.390625 54.6875 \nz\n\" id=\"DejaVuSans-103\"/>\n     </defs>\n     <g transform=\"translate(320.2 38.916562)scale(0.1 -0.1)\">\n      <use xlink:href=\"#DejaVuSans-84\"/>\n      <use x=\"46.333984\" xlink:href=\"#DejaVuSans-114\"/>\n      <use x=\"87.447266\" xlink:href=\"#DejaVuSans-97\"/>\n      <use x=\"148.726562\" xlink:href=\"#DejaVuSans-105\"/>\n      <use x=\"176.509766\" xlink:href=\"#DejaVuSans-110\"/>\n      <use x=\"239.888672\" xlink:href=\"#DejaVuSans-105\"/>\n      <use x=\"267.671875\" xlink:href=\"#DejaVuSans-110\"/>\n      <use x=\"331.050781\" xlink:href=\"#DejaVuSans-103\"/>\n     </g>\n    </g>\n    <g id=\"line2d_18\">\n     <path d=\"M 292.2 50.094687 \nL 312.2 50.094687 \n\" style=\"fill:none;stroke:#ff7f0e;stroke-linecap:square;stroke-width:1.5;\"/>\n    </g>\n    <g id=\"line2d_19\"/>\n    <g id=\"text_18\">\n     <!-- Validation -->\n     <defs>\n      <path d=\"M 28.609375 0 \nL 0.78125 72.90625 \nL 11.078125 72.90625 \nL 34.1875 11.53125 \nL 57.328125 72.90625 \nL 67.578125 72.90625 \nL 39.796875 0 \nz\n\" id=\"DejaVuSans-86\"/>\n      <path d=\"M 9.421875 75.984375 \nL 18.40625 75.984375 \nL 18.40625 0 \nL 9.421875 0 \nz\n\" id=\"DejaVuSans-108\"/>\n      <path d=\"M 45.40625 46.390625 \nL 45.40625 75.984375 \nL 54.390625 75.984375 \nL 54.390625 0 \nL 45.40625 0 \nL 45.40625 8.203125 \nQ 42.578125 3.328125 38.25 0.953125 \nQ 33.9375 -1.421875 27.875 -1.421875 \nQ 17.96875 -1.421875 11.734375 6.484375 \nQ 5.515625 14.40625 5.515625 27.296875 \nQ 5.515625 40.1875 11.734375 48.09375 \nQ 17.96875 56 27.875 56 \nQ 33.9375 56 38.25 53.625 \nQ 42.578125 51.265625 45.40625 46.390625 \nz\nM 14.796875 27.296875 \nQ 14.796875 17.390625 18.875 11.75 \nQ 22.953125 6.109375 30.078125 6.109375 \nQ 37.203125 6.109375 41.296875 11.75 \nQ 45.40625 17.390625 45.40625 27.296875 \nQ 45.40625 37.203125 41.296875 42.84375 \nQ 37.203125 48.484375 30.078125 48.484375 \nQ 22.953125 48.484375 18.875 42.84375 \nQ 14.796875 37.203125 14.796875 27.296875 \nz\n\" id=\"DejaVuSans-100\"/>\n      <path d=\"M 18.3125 70.21875 \nL 18.3125 54.6875 \nL 36.8125 54.6875 \nL 36.8125 47.703125 \nL 18.3125 47.703125 \nL 18.3125 18.015625 \nQ 18.3125 11.328125 20.140625 9.421875 \nQ 21.96875 7.515625 27.59375 7.515625 \nL 36.8125 7.515625 \nL 36.8125 0 \nL 27.59375 0 \nQ 17.1875 0 13.234375 3.875 \nQ 9.28125 7.765625 9.28125 18.015625 \nL 9.28125 47.703125 \nL 2.6875 47.703125 \nL 2.6875 54.6875 \nL 9.28125 54.6875 \nL 9.28125 70.21875 \nz\n\" id=\"DejaVuSans-116\"/>\n     </defs>\n     <g transform=\"translate(320.2 53.594687)scale(0.1 -0.1)\">\n      <use xlink:href=\"#DejaVuSans-86\"/>\n      <use x=\"60.658203\" xlink:href=\"#DejaVuSans-97\"/>\n      <use x=\"121.9375\" xlink:href=\"#DejaVuSans-108\"/>\n      <use x=\"149.720703\" xlink:href=\"#DejaVuSans-105\"/>\n      <use x=\"177.503906\" xlink:href=\"#DejaVuSans-100\"/>\n      <use x=\"240.980469\" xlink:href=\"#DejaVuSans-97\"/>\n      <use x=\"302.259766\" xlink:href=\"#DejaVuSans-116\"/>\n      <use x=\"341.46875\" xlink:href=\"#DejaVuSans-105\"/>\n      <use x=\"369.251953\" xlink:href=\"#DejaVuSans-111\"/>\n      <use x=\"430.433594\" xlink:href=\"#DejaVuSans-110\"/>\n     </g>\n    </g>\n   </g>\n  </g>\n </g>\n <defs>\n  <clipPath id=\"pce931aa350\">\n   <rect height=\"217.44\" width=\"334.8\" x=\"43.78125\" y=\"22.318125\"/>\n  </clipPath>\n </defs>\n</svg>\n"
          },
          "metadata": {
            "needs_background": "light"
          }
        }
      ],
      "source": [
        "#### YOUR CODE HERE\n",
        "def build_model(input_shape):\n",
        "    ### START CODE HERE ### ()\n",
        "    model=tf.keras.Sequential ()\n",
        "    model.add(Dense(128, activation=\"relu\", input_shape=input_shape))\n",
        "    model.add(Dense(1))\n",
        "    return model\n",
        "\n",
        "    \n",
        "input_shape=(train_data.shape[-1],)\n",
        "model = build_model(input_shape)\n",
        "model.compile(optimizer=tf.keras.optimizers.Adam(),\n",
        "              loss=tf.keras.losses.MeanSquaredError(),\n",
        "              metrics=tf.keras.metrics.MeanAbsoluteError()\n",
        "                       )\n",
        "history=model.fit( x=train_data,y=train_targets,batch_size=64,epochs=100,validation_split=0.15)\n",
        "model.evaluate(test_data, test_targets, verbose=2)\n",
        "\n",
        "plt.plot(history.history['loss'])\n",
        "plt.plot(history.history['val_loss'])\n",
        "plt.title('Loss vs. epochs')\n",
        "plt.ylabel('Loss')\n",
        "plt.xlabel('Epoch')\n",
        "plt.legend(['Training', 'Validation'], loc='upper right')\n",
        "plt.show()\n"
      ]
    },
    {
      "cell_type": "markdown",
      "id": "39417149-9f72-4fde-945e-7ea7a649b01f",
      "metadata": {
        "id": "39417149-9f72-4fde-945e-7ea7a649b01f"
      },
      "source": [
        "# Part 3 Batches and Epochs"
      ]
    },
    {
      "cell_type": "markdown",
      "id": "6b167f30-1712-4875-8643-985d6bff5894",
      "metadata": {
        "id": "6b167f30-1712-4875-8643-985d6bff5894"
      },
      "source": [
        "In this part of the assignment we will create a synthetic data to play with. \n",
        "The data will have 2 features and 3 target classes --> multiclass classification problem"
      ]
    },
    {
      "cell_type": "code",
      "execution_count": 129,
      "id": "5478a898-76b8-4764-9194-54920d6889f8",
      "metadata": {
        "id": "5478a898-76b8-4764-9194-54920d6889f8"
      },
      "outputs": [],
      "source": [
        "# prepare train and test dataset\n",
        "def prepare_data():\n",
        "    #  generate classification dataset with 3 centers (labels/classes)\n",
        "    X, y = make_blobs(n_samples=1000, centers=3, n_features=2, cluster_std=2, random_state=2)\n",
        "    \n",
        "    # plot data\n",
        "    for class_value in range(3):\n",
        "        # select indices of points with the class label\n",
        "        row_ix = np.where(y == class_value)\n",
        "        # scatter plot for points with a different color\n",
        "        plt.scatter(X[row_ix, 0], X[row_ix, 1])\n",
        "    # show plot\n",
        "    plt.show()\n",
        "\n",
        "    # one hot encode output variable to convert from integers to binary class\n",
        "    y = to_categorical(y)\n",
        "\n",
        "    # split into train and test\n",
        "    n_train = 500\n",
        "    X_train, X_test = X[:n_train, :], X[n_train:, :]\n",
        "    y_train, y_test = y[:n_train], y[n_train:]\n",
        "    return X_train, y_train, X_test, y_test\n"
      ]
    },
    {
      "cell_type": "code",
      "execution_count": 130,
      "id": "32e2cf07-c958-46c3-a453-f1bead3502b0",
      "metadata": {
        "id": "32e2cf07-c958-46c3-a453-f1bead3502b0",
        "colab": {
          "base_uri": "https://localhost:8080/",
          "height": 353
        },
        "outputId": "b6ea38f7-dc46-4c7d-d150-0286df8e50a6"
      },
      "outputs": [
        {
          "output_type": "display_data",
          "data": {
            "text/plain": [
              "<Figure size 432x288 with 1 Axes>"
            ],
            "image/svg+xml": "<?xml version=\"1.0\" encoding=\"utf-8\" standalone=\"no\"?>\n<!DOCTYPE svg PUBLIC \"-//W3C//DTD SVG 1.1//EN\"\n  \"http://www.w3.org/Graphics/SVG/1.1/DTD/svg11.dtd\">\n<!-- Created with matplotlib (https://matplotlib.org/) -->\n<svg height=\"248.518125pt\" version=\"1.1\" viewBox=\"0 0 386.845312 248.518125\" width=\"386.845312pt\" xmlns=\"http://www.w3.org/2000/svg\" xmlns:xlink=\"http://www.w3.org/1999/xlink\">\n <defs>\n  <style type=\"text/css\">\n*{stroke-linecap:butt;stroke-linejoin:round;}\n  </style>\n </defs>\n <g id=\"figure_1\">\n  <g id=\"patch_1\">\n   <path d=\"M 0 248.518125 \nL 386.845312 248.518125 \nL 386.845312 0 \nL 0 0 \nz\n\" style=\"fill:none;\"/>\n  </g>\n  <g id=\"axes_1\">\n   <g id=\"patch_2\">\n    <path d=\"M 44.845313 224.64 \nL 379.645313 224.64 \nL 379.645313 7.2 \nL 44.845313 7.2 \nz\n\" style=\"fill:#ffffff;\"/>\n   </g>\n   <g id=\"PathCollection_1\">\n    <defs>\n     <path d=\"M 0 3 \nC 0.795609 3 1.55874 2.683901 2.12132 2.12132 \nC 2.683901 1.55874 3 0.795609 3 0 \nC 3 -0.795609 2.683901 -1.55874 2.12132 -2.12132 \nC 1.55874 -2.683901 0.795609 -3 0 -3 \nC -0.795609 -3 -1.55874 -2.683901 -2.12132 -2.12132 \nC -2.683901 -1.55874 -3 -0.795609 -3 0 \nC -3 0.795609 -2.683901 1.55874 -2.12132 2.12132 \nC -1.55874 2.683901 -0.795609 3 0 3 \nz\n\" id=\"mfda165a34e\" style=\"stroke:#1f77b4;\"/>\n    </defs>\n    <g clip-path=\"url(#paded389488)\">\n     <use style=\"fill:#1f77b4;stroke:#1f77b4;\" x=\"208.44953\" xlink:href=\"#mfda165a34e\" y=\"170.101031\"/>\n     <use style=\"fill:#1f77b4;stroke:#1f77b4;\" x=\"91.675862\" xlink:href=\"#mfda165a34e\" y=\"163.173443\"/>\n     <use style=\"fill:#1f77b4;stroke:#1f77b4;\" x=\"238.32047\" xlink:href=\"#mfda165a34e\" y=\"153.011495\"/>\n     <use style=\"fill:#1f77b4;stroke:#1f77b4;\" x=\"245.000111\" xlink:href=\"#mfda165a34e\" y=\"154.787301\"/>\n     <use style=\"fill:#1f77b4;stroke:#1f77b4;\" x=\"218.127123\" xlink:href=\"#mfda165a34e\" y=\"116.491457\"/>\n     <use style=\"fill:#1f77b4;stroke:#1f77b4;\" x=\"207.525707\" xlink:href=\"#mfda165a34e\" y=\"147.986339\"/>\n     <use style=\"fill:#1f77b4;stroke:#1f77b4;\" x=\"210.379676\" xlink:href=\"#mfda165a34e\" y=\"134.023149\"/>\n     <use style=\"fill:#1f77b4;stroke:#1f77b4;\" x=\"203.216686\" xlink:href=\"#mfda165a34e\" y=\"192.483153\"/>\n     <use style=\"fill:#1f77b4;stroke:#1f77b4;\" x=\"187.326818\" xlink:href=\"#mfda165a34e\" y=\"173.497708\"/>\n     <use style=\"fill:#1f77b4;stroke:#1f77b4;\" x=\"170.954892\" xlink:href=\"#mfda165a34e\" y=\"136.765713\"/>\n     <use style=\"fill:#1f77b4;stroke:#1f77b4;\" x=\"179.324795\" xlink:href=\"#mfda165a34e\" y=\"162.812065\"/>\n     <use style=\"fill:#1f77b4;stroke:#1f77b4;\" x=\"247.1025\" xlink:href=\"#mfda165a34e\" y=\"196.375382\"/>\n     <use style=\"fill:#1f77b4;stroke:#1f77b4;\" x=\"161.33896\" xlink:href=\"#mfda165a34e\" y=\"173.140396\"/>\n     <use style=\"fill:#1f77b4;stroke:#1f77b4;\" x=\"154.808607\" xlink:href=\"#mfda165a34e\" y=\"184.960351\"/>\n     <use style=\"fill:#1f77b4;stroke:#1f77b4;\" x=\"181.323927\" xlink:href=\"#mfda165a34e\" y=\"152.208239\"/>\n     <use style=\"fill:#1f77b4;stroke:#1f77b4;\" x=\"192.223908\" xlink:href=\"#mfda165a34e\" y=\"154.289895\"/>\n     <use style=\"fill:#1f77b4;stroke:#1f77b4;\" x=\"176.30981\" xlink:href=\"#mfda165a34e\" y=\"150.281402\"/>\n     <use style=\"fill:#1f77b4;stroke:#1f77b4;\" x=\"217.205147\" xlink:href=\"#mfda165a34e\" y=\"160.206489\"/>\n     <use style=\"fill:#1f77b4;stroke:#1f77b4;\" x=\"159.849194\" xlink:href=\"#mfda165a34e\" y=\"128.341175\"/>\n     <use style=\"fill:#1f77b4;stroke:#1f77b4;\" x=\"181.425453\" xlink:href=\"#mfda165a34e\" y=\"155.917615\"/>\n     <use style=\"fill:#1f77b4;stroke:#1f77b4;\" x=\"151.574193\" xlink:href=\"#mfda165a34e\" y=\"127.509114\"/>\n     <use style=\"fill:#1f77b4;stroke:#1f77b4;\" x=\"185.634159\" xlink:href=\"#mfda165a34e\" y=\"196.504237\"/>\n     <use style=\"fill:#1f77b4;stroke:#1f77b4;\" x=\"267.146053\" xlink:href=\"#mfda165a34e\" y=\"162.190523\"/>\n     <use style=\"fill:#1f77b4;stroke:#1f77b4;\" x=\"180.73896\" xlink:href=\"#mfda165a34e\" y=\"166.253356\"/>\n     <use style=\"fill:#1f77b4;stroke:#1f77b4;\" x=\"170.695265\" xlink:href=\"#mfda165a34e\" y=\"126.86249\"/>\n     <use style=\"fill:#1f77b4;stroke:#1f77b4;\" x=\"208.900434\" xlink:href=\"#mfda165a34e\" y=\"186.844702\"/>\n     <use style=\"fill:#1f77b4;stroke:#1f77b4;\" x=\"225.208847\" xlink:href=\"#mfda165a34e\" y=\"174.657644\"/>\n     <use style=\"fill:#1f77b4;stroke:#1f77b4;\" x=\"139.290201\" xlink:href=\"#mfda165a34e\" y=\"166.585116\"/>\n     <use style=\"fill:#1f77b4;stroke:#1f77b4;\" x=\"225.029269\" xlink:href=\"#mfda165a34e\" y=\"205.382073\"/>\n     <use style=\"fill:#1f77b4;stroke:#1f77b4;\" x=\"204.466926\" xlink:href=\"#mfda165a34e\" y=\"200.004756\"/>\n     <use style=\"fill:#1f77b4;stroke:#1f77b4;\" x=\"175.321276\" xlink:href=\"#mfda165a34e\" y=\"182.925648\"/>\n     <use style=\"fill:#1f77b4;stroke:#1f77b4;\" x=\"208.34466\" xlink:href=\"#mfda165a34e\" y=\"165.847994\"/>\n     <use style=\"fill:#1f77b4;stroke:#1f77b4;\" x=\"186.738514\" xlink:href=\"#mfda165a34e\" y=\"200.133183\"/>\n     <use style=\"fill:#1f77b4;stroke:#1f77b4;\" x=\"187.100291\" xlink:href=\"#mfda165a34e\" y=\"169.640363\"/>\n     <use style=\"fill:#1f77b4;stroke:#1f77b4;\" x=\"172.07794\" xlink:href=\"#mfda165a34e\" y=\"205.65627\"/>\n     <use style=\"fill:#1f77b4;stroke:#1f77b4;\" x=\"202.036861\" xlink:href=\"#mfda165a34e\" y=\"200.778953\"/>\n     <use style=\"fill:#1f77b4;stroke:#1f77b4;\" x=\"190.586084\" xlink:href=\"#mfda165a34e\" y=\"167.710678\"/>\n     <use style=\"fill:#1f77b4;stroke:#1f77b4;\" x=\"196.280428\" xlink:href=\"#mfda165a34e\" y=\"149.830525\"/>\n     <use style=\"fill:#1f77b4;stroke:#1f77b4;\" x=\"141.177363\" xlink:href=\"#mfda165a34e\" y=\"104.402006\"/>\n     <use style=\"fill:#1f77b4;stroke:#1f77b4;\" x=\"235.882971\" xlink:href=\"#mfda165a34e\" y=\"182.88796\"/>\n     <use style=\"fill:#1f77b4;stroke:#1f77b4;\" x=\"220.022894\" xlink:href=\"#mfda165a34e\" y=\"197.564083\"/>\n     <use style=\"fill:#1f77b4;stroke:#1f77b4;\" x=\"225.931439\" xlink:href=\"#mfda165a34e\" y=\"158.038944\"/>\n     <use style=\"fill:#1f77b4;stroke:#1f77b4;\" x=\"172.520986\" xlink:href=\"#mfda165a34e\" y=\"154.853323\"/>\n     <use style=\"fill:#1f77b4;stroke:#1f77b4;\" x=\"200.666497\" xlink:href=\"#mfda165a34e\" y=\"149.455867\"/>\n     <use style=\"fill:#1f77b4;stroke:#1f77b4;\" x=\"131.933402\" xlink:href=\"#mfda165a34e\" y=\"150.588495\"/>\n     <use style=\"fill:#1f77b4;stroke:#1f77b4;\" x=\"195.939797\" xlink:href=\"#mfda165a34e\" y=\"157.841878\"/>\n     <use style=\"fill:#1f77b4;stroke:#1f77b4;\" x=\"191.377084\" xlink:href=\"#mfda165a34e\" y=\"181.505153\"/>\n     <use style=\"fill:#1f77b4;stroke:#1f77b4;\" x=\"135.046233\" xlink:href=\"#mfda165a34e\" y=\"167.781353\"/>\n     <use style=\"fill:#1f77b4;stroke:#1f77b4;\" x=\"227.116779\" xlink:href=\"#mfda165a34e\" y=\"184.360816\"/>\n     <use style=\"fill:#1f77b4;stroke:#1f77b4;\" x=\"152.34175\" xlink:href=\"#mfda165a34e\" y=\"161.418444\"/>\n     <use style=\"fill:#1f77b4;stroke:#1f77b4;\" x=\"205.842514\" xlink:href=\"#mfda165a34e\" y=\"121.514032\"/>\n     <use style=\"fill:#1f77b4;stroke:#1f77b4;\" x=\"149.568359\" xlink:href=\"#mfda165a34e\" y=\"170.303796\"/>\n     <use style=\"fill:#1f77b4;stroke:#1f77b4;\" x=\"184.884223\" xlink:href=\"#mfda165a34e\" y=\"142.306613\"/>\n     <use style=\"fill:#1f77b4;stroke:#1f77b4;\" x=\"152.042062\" xlink:href=\"#mfda165a34e\" y=\"166.141283\"/>\n     <use style=\"fill:#1f77b4;stroke:#1f77b4;\" x=\"130.332963\" xlink:href=\"#mfda165a34e\" y=\"175.60553\"/>\n     <use style=\"fill:#1f77b4;stroke:#1f77b4;\" x=\"216.828076\" xlink:href=\"#mfda165a34e\" y=\"161.149438\"/>\n     <use style=\"fill:#1f77b4;stroke:#1f77b4;\" x=\"179.100392\" xlink:href=\"#mfda165a34e\" y=\"159.812414\"/>\n     <use style=\"fill:#1f77b4;stroke:#1f77b4;\" x=\"215.883722\" xlink:href=\"#mfda165a34e\" y=\"145.952265\"/>\n     <use style=\"fill:#1f77b4;stroke:#1f77b4;\" x=\"217.15922\" xlink:href=\"#mfda165a34e\" y=\"152.215215\"/>\n     <use style=\"fill:#1f77b4;stroke:#1f77b4;\" x=\"186.487269\" xlink:href=\"#mfda165a34e\" y=\"170.789115\"/>\n     <use style=\"fill:#1f77b4;stroke:#1f77b4;\" x=\"159.446844\" xlink:href=\"#mfda165a34e\" y=\"145.226682\"/>\n     <use style=\"fill:#1f77b4;stroke:#1f77b4;\" x=\"161.120689\" xlink:href=\"#mfda165a34e\" y=\"179.365315\"/>\n     <use style=\"fill:#1f77b4;stroke:#1f77b4;\" x=\"179.484079\" xlink:href=\"#mfda165a34e\" y=\"93.96133\"/>\n     <use style=\"fill:#1f77b4;stroke:#1f77b4;\" x=\"161.171714\" xlink:href=\"#mfda165a34e\" y=\"154.172083\"/>\n     <use style=\"fill:#1f77b4;stroke:#1f77b4;\" x=\"136.847196\" xlink:href=\"#mfda165a34e\" y=\"143.217628\"/>\n     <use style=\"fill:#1f77b4;stroke:#1f77b4;\" x=\"255.731235\" xlink:href=\"#mfda165a34e\" y=\"152.170328\"/>\n     <use style=\"fill:#1f77b4;stroke:#1f77b4;\" x=\"214.906761\" xlink:href=\"#mfda165a34e\" y=\"112.448671\"/>\n     <use style=\"fill:#1f77b4;stroke:#1f77b4;\" x=\"230.61631\" xlink:href=\"#mfda165a34e\" y=\"145.089041\"/>\n     <use style=\"fill:#1f77b4;stroke:#1f77b4;\" x=\"151.980141\" xlink:href=\"#mfda165a34e\" y=\"177.354629\"/>\n     <use style=\"fill:#1f77b4;stroke:#1f77b4;\" x=\"160.536775\" xlink:href=\"#mfda165a34e\" y=\"123.948275\"/>\n     <use style=\"fill:#1f77b4;stroke:#1f77b4;\" x=\"250.070416\" xlink:href=\"#mfda165a34e\" y=\"168.370593\"/>\n     <use style=\"fill:#1f77b4;stroke:#1f77b4;\" x=\"216.551493\" xlink:href=\"#mfda165a34e\" y=\"162.889452\"/>\n     <use style=\"fill:#1f77b4;stroke:#1f77b4;\" x=\"213.742169\" xlink:href=\"#mfda165a34e\" y=\"176.29783\"/>\n     <use style=\"fill:#1f77b4;stroke:#1f77b4;\" x=\"195.336805\" xlink:href=\"#mfda165a34e\" y=\"185.016988\"/>\n     <use style=\"fill:#1f77b4;stroke:#1f77b4;\" x=\"208.39817\" xlink:href=\"#mfda165a34e\" y=\"149.176859\"/>\n     <use style=\"fill:#1f77b4;stroke:#1f77b4;\" x=\"169.27008\" xlink:href=\"#mfda165a34e\" y=\"186.499938\"/>\n     <use style=\"fill:#1f77b4;stroke:#1f77b4;\" x=\"223.135709\" xlink:href=\"#mfda165a34e\" y=\"166.892883\"/>\n     <use style=\"fill:#1f77b4;stroke:#1f77b4;\" x=\"166.931465\" xlink:href=\"#mfda165a34e\" y=\"180.994317\"/>\n     <use style=\"fill:#1f77b4;stroke:#1f77b4;\" x=\"175.078204\" xlink:href=\"#mfda165a34e\" y=\"168.219315\"/>\n     <use style=\"fill:#1f77b4;stroke:#1f77b4;\" x=\"238.090546\" xlink:href=\"#mfda165a34e\" y=\"166.643772\"/>\n     <use style=\"fill:#1f77b4;stroke:#1f77b4;\" x=\"143.175806\" xlink:href=\"#mfda165a34e\" y=\"204.332346\"/>\n     <use style=\"fill:#1f77b4;stroke:#1f77b4;\" x=\"246.215542\" xlink:href=\"#mfda165a34e\" y=\"135.310465\"/>\n     <use style=\"fill:#1f77b4;stroke:#1f77b4;\" x=\"211.288955\" xlink:href=\"#mfda165a34e\" y=\"164.859876\"/>\n     <use style=\"fill:#1f77b4;stroke:#1f77b4;\" x=\"185.732757\" xlink:href=\"#mfda165a34e\" y=\"158.298775\"/>\n     <use style=\"fill:#1f77b4;stroke:#1f77b4;\" x=\"213.65833\" xlink:href=\"#mfda165a34e\" y=\"171.718342\"/>\n     <use style=\"fill:#1f77b4;stroke:#1f77b4;\" x=\"170.917782\" xlink:href=\"#mfda165a34e\" y=\"167.926571\"/>\n     <use style=\"fill:#1f77b4;stroke:#1f77b4;\" x=\"229.507368\" xlink:href=\"#mfda165a34e\" y=\"129.980914\"/>\n     <use style=\"fill:#1f77b4;stroke:#1f77b4;\" x=\"180.427378\" xlink:href=\"#mfda165a34e\" y=\"152.471713\"/>\n     <use style=\"fill:#1f77b4;stroke:#1f77b4;\" x=\"207.959818\" xlink:href=\"#mfda165a34e\" y=\"132.294034\"/>\n     <use style=\"fill:#1f77b4;stroke:#1f77b4;\" x=\"97.585878\" xlink:href=\"#mfda165a34e\" y=\"122.369788\"/>\n     <use style=\"fill:#1f77b4;stroke:#1f77b4;\" x=\"159.865188\" xlink:href=\"#mfda165a34e\" y=\"142.399781\"/>\n     <use style=\"fill:#1f77b4;stroke:#1f77b4;\" x=\"171.81358\" xlink:href=\"#mfda165a34e\" y=\"155.0043\"/>\n     <use style=\"fill:#1f77b4;stroke:#1f77b4;\" x=\"264.180595\" xlink:href=\"#mfda165a34e\" y=\"151.849345\"/>\n     <use style=\"fill:#1f77b4;stroke:#1f77b4;\" x=\"216.24043\" xlink:href=\"#mfda165a34e\" y=\"161.661158\"/>\n     <use style=\"fill:#1f77b4;stroke:#1f77b4;\" x=\"266.544715\" xlink:href=\"#mfda165a34e\" y=\"174.614242\"/>\n     <use style=\"fill:#1f77b4;stroke:#1f77b4;\" x=\"187.816487\" xlink:href=\"#mfda165a34e\" y=\"198.452526\"/>\n     <use style=\"fill:#1f77b4;stroke:#1f77b4;\" x=\"159.115371\" xlink:href=\"#mfda165a34e\" y=\"173.80332\"/>\n     <use style=\"fill:#1f77b4;stroke:#1f77b4;\" x=\"215.313082\" xlink:href=\"#mfda165a34e\" y=\"167.953856\"/>\n     <use style=\"fill:#1f77b4;stroke:#1f77b4;\" x=\"198.533162\" xlink:href=\"#mfda165a34e\" y=\"145.128797\"/>\n     <use style=\"fill:#1f77b4;stroke:#1f77b4;\" x=\"153.139542\" xlink:href=\"#mfda165a34e\" y=\"180.571175\"/>\n     <use style=\"fill:#1f77b4;stroke:#1f77b4;\" x=\"161.714805\" xlink:href=\"#mfda165a34e\" y=\"182.442813\"/>\n     <use style=\"fill:#1f77b4;stroke:#1f77b4;\" x=\"142.723734\" xlink:href=\"#mfda165a34e\" y=\"177.093752\"/>\n     <use style=\"fill:#1f77b4;stroke:#1f77b4;\" x=\"200.901058\" xlink:href=\"#mfda165a34e\" y=\"164.598718\"/>\n     <use style=\"fill:#1f77b4;stroke:#1f77b4;\" x=\"220.140494\" xlink:href=\"#mfda165a34e\" y=\"152.892224\"/>\n     <use style=\"fill:#1f77b4;stroke:#1f77b4;\" x=\"289.197942\" xlink:href=\"#mfda165a34e\" y=\"170.832366\"/>\n     <use style=\"fill:#1f77b4;stroke:#1f77b4;\" x=\"169.036357\" xlink:href=\"#mfda165a34e\" y=\"203.974646\"/>\n     <use style=\"fill:#1f77b4;stroke:#1f77b4;\" x=\"110.513408\" xlink:href=\"#mfda165a34e\" y=\"175.382479\"/>\n     <use style=\"fill:#1f77b4;stroke:#1f77b4;\" x=\"145.865967\" xlink:href=\"#mfda165a34e\" y=\"162.877512\"/>\n     <use style=\"fill:#1f77b4;stroke:#1f77b4;\" x=\"285.102911\" xlink:href=\"#mfda165a34e\" y=\"179.859857\"/>\n     <use style=\"fill:#1f77b4;stroke:#1f77b4;\" x=\"177.64967\" xlink:href=\"#mfda165a34e\" y=\"164.043298\"/>\n     <use style=\"fill:#1f77b4;stroke:#1f77b4;\" x=\"205.380369\" xlink:href=\"#mfda165a34e\" y=\"178.887214\"/>\n     <use style=\"fill:#1f77b4;stroke:#1f77b4;\" x=\"102.61564\" xlink:href=\"#mfda165a34e\" y=\"159.981997\"/>\n     <use style=\"fill:#1f77b4;stroke:#1f77b4;\" x=\"237.766987\" xlink:href=\"#mfda165a34e\" y=\"159.193841\"/>\n     <use style=\"fill:#1f77b4;stroke:#1f77b4;\" x=\"168.671552\" xlink:href=\"#mfda165a34e\" y=\"143.299676\"/>\n     <use style=\"fill:#1f77b4;stroke:#1f77b4;\" x=\"158.815264\" xlink:href=\"#mfda165a34e\" y=\"136.192134\"/>\n     <use style=\"fill:#1f77b4;stroke:#1f77b4;\" x=\"225.393752\" xlink:href=\"#mfda165a34e\" y=\"134.665094\"/>\n     <use style=\"fill:#1f77b4;stroke:#1f77b4;\" x=\"216.910807\" xlink:href=\"#mfda165a34e\" y=\"162.921503\"/>\n     <use style=\"fill:#1f77b4;stroke:#1f77b4;\" x=\"204.919806\" xlink:href=\"#mfda165a34e\" y=\"165.426555\"/>\n     <use style=\"fill:#1f77b4;stroke:#1f77b4;\" x=\"221.070686\" xlink:href=\"#mfda165a34e\" y=\"199.546908\"/>\n     <use style=\"fill:#1f77b4;stroke:#1f77b4;\" x=\"120.184425\" xlink:href=\"#mfda165a34e\" y=\"208.625578\"/>\n     <use style=\"fill:#1f77b4;stroke:#1f77b4;\" x=\"193.657888\" xlink:href=\"#mfda165a34e\" y=\"164.191472\"/>\n     <use style=\"fill:#1f77b4;stroke:#1f77b4;\" x=\"213.864482\" xlink:href=\"#mfda165a34e\" y=\"145.580418\"/>\n     <use style=\"fill:#1f77b4;stroke:#1f77b4;\" x=\"225.588948\" xlink:href=\"#mfda165a34e\" y=\"154.075763\"/>\n     <use style=\"fill:#1f77b4;stroke:#1f77b4;\" x=\"209.709021\" xlink:href=\"#mfda165a34e\" y=\"162.458314\"/>\n     <use style=\"fill:#1f77b4;stroke:#1f77b4;\" x=\"127.958572\" xlink:href=\"#mfda165a34e\" y=\"162.858218\"/>\n     <use style=\"fill:#1f77b4;stroke:#1f77b4;\" x=\"192.411384\" xlink:href=\"#mfda165a34e\" y=\"146.412172\"/>\n     <use style=\"fill:#1f77b4;stroke:#1f77b4;\" x=\"319.615544\" xlink:href=\"#mfda165a34e\" y=\"140.567191\"/>\n     <use style=\"fill:#1f77b4;stroke:#1f77b4;\" x=\"167.734136\" xlink:href=\"#mfda165a34e\" y=\"191.858861\"/>\n     <use style=\"fill:#1f77b4;stroke:#1f77b4;\" x=\"187.612535\" xlink:href=\"#mfda165a34e\" y=\"149.545621\"/>\n     <use style=\"fill:#1f77b4;stroke:#1f77b4;\" x=\"183.143108\" xlink:href=\"#mfda165a34e\" y=\"172.226705\"/>\n     <use style=\"fill:#1f77b4;stroke:#1f77b4;\" x=\"206.295038\" xlink:href=\"#mfda165a34e\" y=\"192.197651\"/>\n     <use style=\"fill:#1f77b4;stroke:#1f77b4;\" x=\"214.953186\" xlink:href=\"#mfda165a34e\" y=\"179.112107\"/>\n     <use style=\"fill:#1f77b4;stroke:#1f77b4;\" x=\"100.298902\" xlink:href=\"#mfda165a34e\" y=\"158.82847\"/>\n     <use style=\"fill:#1f77b4;stroke:#1f77b4;\" x=\"224.0258\" xlink:href=\"#mfda165a34e\" y=\"195.736853\"/>\n     <use style=\"fill:#1f77b4;stroke:#1f77b4;\" x=\"150.531637\" xlink:href=\"#mfda165a34e\" y=\"150.832007\"/>\n     <use style=\"fill:#1f77b4;stroke:#1f77b4;\" x=\"239.395334\" xlink:href=\"#mfda165a34e\" y=\"160.77614\"/>\n     <use style=\"fill:#1f77b4;stroke:#1f77b4;\" x=\"220.899195\" xlink:href=\"#mfda165a34e\" y=\"158.800224\"/>\n     <use style=\"fill:#1f77b4;stroke:#1f77b4;\" x=\"213.440588\" xlink:href=\"#mfda165a34e\" y=\"168.352862\"/>\n     <use style=\"fill:#1f77b4;stroke:#1f77b4;\" x=\"264.012262\" xlink:href=\"#mfda165a34e\" y=\"141.220181\"/>\n     <use style=\"fill:#1f77b4;stroke:#1f77b4;\" x=\"153.030284\" xlink:href=\"#mfda165a34e\" y=\"148.636532\"/>\n     <use style=\"fill:#1f77b4;stroke:#1f77b4;\" x=\"151.552763\" xlink:href=\"#mfda165a34e\" y=\"175.73042\"/>\n     <use style=\"fill:#1f77b4;stroke:#1f77b4;\" x=\"157.824963\" xlink:href=\"#mfda165a34e\" y=\"145.577632\"/>\n     <use style=\"fill:#1f77b4;stroke:#1f77b4;\" x=\"180.771575\" xlink:href=\"#mfda165a34e\" y=\"153.923678\"/>\n     <use style=\"fill:#1f77b4;stroke:#1f77b4;\" x=\"291.625547\" xlink:href=\"#mfda165a34e\" y=\"192.576732\"/>\n     <use style=\"fill:#1f77b4;stroke:#1f77b4;\" x=\"182.861406\" xlink:href=\"#mfda165a34e\" y=\"149.769538\"/>\n     <use style=\"fill:#1f77b4;stroke:#1f77b4;\" x=\"179.749052\" xlink:href=\"#mfda165a34e\" y=\"196.076072\"/>\n     <use style=\"fill:#1f77b4;stroke:#1f77b4;\" x=\"212.703116\" xlink:href=\"#mfda165a34e\" y=\"128.322218\"/>\n     <use style=\"fill:#1f77b4;stroke:#1f77b4;\" x=\"143.455846\" xlink:href=\"#mfda165a34e\" y=\"153.493366\"/>\n     <use style=\"fill:#1f77b4;stroke:#1f77b4;\" x=\"205.225942\" xlink:href=\"#mfda165a34e\" y=\"146.772373\"/>\n     <use style=\"fill:#1f77b4;stroke:#1f77b4;\" x=\"260.591381\" xlink:href=\"#mfda165a34e\" y=\"170.75022\"/>\n     <use style=\"fill:#1f77b4;stroke:#1f77b4;\" x=\"196.823266\" xlink:href=\"#mfda165a34e\" y=\"144.340952\"/>\n     <use style=\"fill:#1f77b4;stroke:#1f77b4;\" x=\"212.852958\" xlink:href=\"#mfda165a34e\" y=\"158.535279\"/>\n     <use style=\"fill:#1f77b4;stroke:#1f77b4;\" x=\"168.660377\" xlink:href=\"#mfda165a34e\" y=\"131.247046\"/>\n     <use style=\"fill:#1f77b4;stroke:#1f77b4;\" x=\"134.382921\" xlink:href=\"#mfda165a34e\" y=\"205.546559\"/>\n     <use style=\"fill:#1f77b4;stroke:#1f77b4;\" x=\"233.389074\" xlink:href=\"#mfda165a34e\" y=\"168.22855\"/>\n     <use style=\"fill:#1f77b4;stroke:#1f77b4;\" x=\"176.011319\" xlink:href=\"#mfda165a34e\" y=\"153.760336\"/>\n     <use style=\"fill:#1f77b4;stroke:#1f77b4;\" x=\"157.704834\" xlink:href=\"#mfda165a34e\" y=\"147.846839\"/>\n     <use style=\"fill:#1f77b4;stroke:#1f77b4;\" x=\"221.126843\" xlink:href=\"#mfda165a34e\" y=\"107.394053\"/>\n     <use style=\"fill:#1f77b4;stroke:#1f77b4;\" x=\"208.960571\" xlink:href=\"#mfda165a34e\" y=\"167.922434\"/>\n     <use style=\"fill:#1f77b4;stroke:#1f77b4;\" x=\"125.481858\" xlink:href=\"#mfda165a34e\" y=\"171.884255\"/>\n     <use style=\"fill:#1f77b4;stroke:#1f77b4;\" x=\"283.02686\" xlink:href=\"#mfda165a34e\" y=\"174.720089\"/>\n     <use style=\"fill:#1f77b4;stroke:#1f77b4;\" x=\"185.248518\" xlink:href=\"#mfda165a34e\" y=\"186.192297\"/>\n     <use style=\"fill:#1f77b4;stroke:#1f77b4;\" x=\"181.924352\" xlink:href=\"#mfda165a34e\" y=\"165.841525\"/>\n     <use style=\"fill:#1f77b4;stroke:#1f77b4;\" x=\"199.339749\" xlink:href=\"#mfda165a34e\" y=\"169.741649\"/>\n     <use style=\"fill:#1f77b4;stroke:#1f77b4;\" x=\"175.767962\" xlink:href=\"#mfda165a34e\" y=\"187.92801\"/>\n     <use style=\"fill:#1f77b4;stroke:#1f77b4;\" x=\"170.225847\" xlink:href=\"#mfda165a34e\" y=\"190.880035\"/>\n     <use style=\"fill:#1f77b4;stroke:#1f77b4;\" x=\"172.868931\" xlink:href=\"#mfda165a34e\" y=\"157.305335\"/>\n     <use style=\"fill:#1f77b4;stroke:#1f77b4;\" x=\"207.752917\" xlink:href=\"#mfda165a34e\" y=\"144.754694\"/>\n     <use style=\"fill:#1f77b4;stroke:#1f77b4;\" x=\"149.349744\" xlink:href=\"#mfda165a34e\" y=\"134.96681\"/>\n     <use style=\"fill:#1f77b4;stroke:#1f77b4;\" x=\"194.992396\" xlink:href=\"#mfda165a34e\" y=\"196.13876\"/>\n     <use style=\"fill:#1f77b4;stroke:#1f77b4;\" x=\"201.274921\" xlink:href=\"#mfda165a34e\" y=\"179.866561\"/>\n     <use style=\"fill:#1f77b4;stroke:#1f77b4;\" x=\"156.025502\" xlink:href=\"#mfda165a34e\" y=\"116.82229\"/>\n     <use style=\"fill:#1f77b4;stroke:#1f77b4;\" x=\"223.794008\" xlink:href=\"#mfda165a34e\" y=\"169.889695\"/>\n     <use style=\"fill:#1f77b4;stroke:#1f77b4;\" x=\"169.164005\" xlink:href=\"#mfda165a34e\" y=\"163.191971\"/>\n     <use style=\"fill:#1f77b4;stroke:#1f77b4;\" x=\"225.57626\" xlink:href=\"#mfda165a34e\" y=\"147.807552\"/>\n     <use style=\"fill:#1f77b4;stroke:#1f77b4;\" x=\"252.529824\" xlink:href=\"#mfda165a34e\" y=\"203.486505\"/>\n     <use style=\"fill:#1f77b4;stroke:#1f77b4;\" x=\"225.234914\" xlink:href=\"#mfda165a34e\" y=\"171.636671\"/>\n     <use style=\"fill:#1f77b4;stroke:#1f77b4;\" x=\"222.602143\" xlink:href=\"#mfda165a34e\" y=\"182.374744\"/>\n     <use style=\"fill:#1f77b4;stroke:#1f77b4;\" x=\"236.310253\" xlink:href=\"#mfda165a34e\" y=\"198.785112\"/>\n     <use style=\"fill:#1f77b4;stroke:#1f77b4;\" x=\"187.449859\" xlink:href=\"#mfda165a34e\" y=\"153.31912\"/>\n     <use style=\"fill:#1f77b4;stroke:#1f77b4;\" x=\"180.516297\" xlink:href=\"#mfda165a34e\" y=\"203.831956\"/>\n     <use style=\"fill:#1f77b4;stroke:#1f77b4;\" x=\"197.962367\" xlink:href=\"#mfda165a34e\" y=\"201.947467\"/>\n     <use style=\"fill:#1f77b4;stroke:#1f77b4;\" x=\"186.47095\" xlink:href=\"#mfda165a34e\" y=\"162.870541\"/>\n     <use style=\"fill:#1f77b4;stroke:#1f77b4;\" x=\"186.709386\" xlink:href=\"#mfda165a34e\" y=\"139.524602\"/>\n     <use style=\"fill:#1f77b4;stroke:#1f77b4;\" x=\"165.040116\" xlink:href=\"#mfda165a34e\" y=\"161.035254\"/>\n     <use style=\"fill:#1f77b4;stroke:#1f77b4;\" x=\"178.241634\" xlink:href=\"#mfda165a34e\" y=\"190.690145\"/>\n     <use style=\"fill:#1f77b4;stroke:#1f77b4;\" x=\"168.498152\" xlink:href=\"#mfda165a34e\" y=\"187.858383\"/>\n     <use style=\"fill:#1f77b4;stroke:#1f77b4;\" x=\"170.010007\" xlink:href=\"#mfda165a34e\" y=\"153.166491\"/>\n     <use style=\"fill:#1f77b4;stroke:#1f77b4;\" x=\"237.216102\" xlink:href=\"#mfda165a34e\" y=\"153.347152\"/>\n     <use style=\"fill:#1f77b4;stroke:#1f77b4;\" x=\"151.240305\" xlink:href=\"#mfda165a34e\" y=\"164.978717\"/>\n     <use style=\"fill:#1f77b4;stroke:#1f77b4;\" x=\"236.367898\" xlink:href=\"#mfda165a34e\" y=\"169.172037\"/>\n     <use style=\"fill:#1f77b4;stroke:#1f77b4;\" x=\"234.333406\" xlink:href=\"#mfda165a34e\" y=\"143.301526\"/>\n     <use style=\"fill:#1f77b4;stroke:#1f77b4;\" x=\"197.018761\" xlink:href=\"#mfda165a34e\" y=\"147.068867\"/>\n     <use style=\"fill:#1f77b4;stroke:#1f77b4;\" x=\"262.540286\" xlink:href=\"#mfda165a34e\" y=\"170.356801\"/>\n     <use style=\"fill:#1f77b4;stroke:#1f77b4;\" x=\"193.064772\" xlink:href=\"#mfda165a34e\" y=\"156.204315\"/>\n     <use style=\"fill:#1f77b4;stroke:#1f77b4;\" x=\"150.254177\" xlink:href=\"#mfda165a34e\" y=\"152.011017\"/>\n     <use style=\"fill:#1f77b4;stroke:#1f77b4;\" x=\"166.138408\" xlink:href=\"#mfda165a34e\" y=\"173.642491\"/>\n     <use style=\"fill:#1f77b4;stroke:#1f77b4;\" x=\"97.043923\" xlink:href=\"#mfda165a34e\" y=\"131.6231\"/>\n     <use style=\"fill:#1f77b4;stroke:#1f77b4;\" x=\"154.54181\" xlink:href=\"#mfda165a34e\" y=\"152.025847\"/>\n     <use style=\"fill:#1f77b4;stroke:#1f77b4;\" x=\"155.879125\" xlink:href=\"#mfda165a34e\" y=\"128.380553\"/>\n     <use style=\"fill:#1f77b4;stroke:#1f77b4;\" x=\"145.560671\" xlink:href=\"#mfda165a34e\" y=\"141.263004\"/>\n     <use style=\"fill:#1f77b4;stroke:#1f77b4;\" x=\"163.50962\" xlink:href=\"#mfda165a34e\" y=\"152.18847\"/>\n     <use style=\"fill:#1f77b4;stroke:#1f77b4;\" x=\"266.739871\" xlink:href=\"#mfda165a34e\" y=\"173.577979\"/>\n     <use style=\"fill:#1f77b4;stroke:#1f77b4;\" x=\"206.634359\" xlink:href=\"#mfda165a34e\" y=\"120.701816\"/>\n     <use style=\"fill:#1f77b4;stroke:#1f77b4;\" x=\"253.164241\" xlink:href=\"#mfda165a34e\" y=\"167.948196\"/>\n     <use style=\"fill:#1f77b4;stroke:#1f77b4;\" x=\"116.088116\" xlink:href=\"#mfda165a34e\" y=\"155.524803\"/>\n     <use style=\"fill:#1f77b4;stroke:#1f77b4;\" x=\"232.839795\" xlink:href=\"#mfda165a34e\" y=\"112.232246\"/>\n     <use style=\"fill:#1f77b4;stroke:#1f77b4;\" x=\"243.280806\" xlink:href=\"#mfda165a34e\" y=\"153.479009\"/>\n     <use style=\"fill:#1f77b4;stroke:#1f77b4;\" x=\"267.93498\" xlink:href=\"#mfda165a34e\" y=\"184.014071\"/>\n     <use style=\"fill:#1f77b4;stroke:#1f77b4;\" x=\"161.717792\" xlink:href=\"#mfda165a34e\" y=\"175.223692\"/>\n     <use style=\"fill:#1f77b4;stroke:#1f77b4;\" x=\"216.763009\" xlink:href=\"#mfda165a34e\" y=\"149.536302\"/>\n     <use style=\"fill:#1f77b4;stroke:#1f77b4;\" x=\"198.26347\" xlink:href=\"#mfda165a34e\" y=\"172.648083\"/>\n     <use style=\"fill:#1f77b4;stroke:#1f77b4;\" x=\"223.658145\" xlink:href=\"#mfda165a34e\" y=\"139.381105\"/>\n     <use style=\"fill:#1f77b4;stroke:#1f77b4;\" x=\"263.288393\" xlink:href=\"#mfda165a34e\" y=\"204.985056\"/>\n     <use style=\"fill:#1f77b4;stroke:#1f77b4;\" x=\"181.267527\" xlink:href=\"#mfda165a34e\" y=\"173.149214\"/>\n     <use style=\"fill:#1f77b4;stroke:#1f77b4;\" x=\"153.256081\" xlink:href=\"#mfda165a34e\" y=\"186.396621\"/>\n     <use style=\"fill:#1f77b4;stroke:#1f77b4;\" x=\"177.838029\" xlink:href=\"#mfda165a34e\" y=\"159.79487\"/>\n     <use style=\"fill:#1f77b4;stroke:#1f77b4;\" x=\"249.436853\" xlink:href=\"#mfda165a34e\" y=\"183.889189\"/>\n     <use style=\"fill:#1f77b4;stroke:#1f77b4;\" x=\"183.634028\" xlink:href=\"#mfda165a34e\" y=\"175.641679\"/>\n     <use style=\"fill:#1f77b4;stroke:#1f77b4;\" x=\"190.902418\" xlink:href=\"#mfda165a34e\" y=\"182.220151\"/>\n     <use style=\"fill:#1f77b4;stroke:#1f77b4;\" x=\"190.165739\" xlink:href=\"#mfda165a34e\" y=\"158.341049\"/>\n     <use style=\"fill:#1f77b4;stroke:#1f77b4;\" x=\"210.131024\" xlink:href=\"#mfda165a34e\" y=\"152.566533\"/>\n     <use style=\"fill:#1f77b4;stroke:#1f77b4;\" x=\"146.865479\" xlink:href=\"#mfda165a34e\" y=\"122.827692\"/>\n     <use style=\"fill:#1f77b4;stroke:#1f77b4;\" x=\"203.008753\" xlink:href=\"#mfda165a34e\" y=\"150.641996\"/>\n     <use style=\"fill:#1f77b4;stroke:#1f77b4;\" x=\"193.008362\" xlink:href=\"#mfda165a34e\" y=\"136.223054\"/>\n     <use style=\"fill:#1f77b4;stroke:#1f77b4;\" x=\"139.979682\" xlink:href=\"#mfda165a34e\" y=\"154.683109\"/>\n     <use style=\"fill:#1f77b4;stroke:#1f77b4;\" x=\"237.680843\" xlink:href=\"#mfda165a34e\" y=\"164.464407\"/>\n     <use style=\"fill:#1f77b4;stroke:#1f77b4;\" x=\"351.429615\" xlink:href=\"#mfda165a34e\" y=\"143.753698\"/>\n     <use style=\"fill:#1f77b4;stroke:#1f77b4;\" x=\"171.237653\" xlink:href=\"#mfda165a34e\" y=\"124.316461\"/>\n     <use style=\"fill:#1f77b4;stroke:#1f77b4;\" x=\"194.558537\" xlink:href=\"#mfda165a34e\" y=\"141.842807\"/>\n     <use style=\"fill:#1f77b4;stroke:#1f77b4;\" x=\"213.042598\" xlink:href=\"#mfda165a34e\" y=\"187.72729\"/>\n     <use style=\"fill:#1f77b4;stroke:#1f77b4;\" x=\"219.234647\" xlink:href=\"#mfda165a34e\" y=\"145.588821\"/>\n     <use style=\"fill:#1f77b4;stroke:#1f77b4;\" x=\"163.102835\" xlink:href=\"#mfda165a34e\" y=\"161.106914\"/>\n     <use style=\"fill:#1f77b4;stroke:#1f77b4;\" x=\"198.390467\" xlink:href=\"#mfda165a34e\" y=\"179.247997\"/>\n     <use style=\"fill:#1f77b4;stroke:#1f77b4;\" x=\"181.626616\" xlink:href=\"#mfda165a34e\" y=\"189.955625\"/>\n     <use style=\"fill:#1f77b4;stroke:#1f77b4;\" x=\"193.230605\" xlink:href=\"#mfda165a34e\" y=\"177.577384\"/>\n     <use style=\"fill:#1f77b4;stroke:#1f77b4;\" x=\"236.898969\" xlink:href=\"#mfda165a34e\" y=\"193.101641\"/>\n     <use style=\"fill:#1f77b4;stroke:#1f77b4;\" x=\"248.431217\" xlink:href=\"#mfda165a34e\" y=\"170.736538\"/>\n     <use style=\"fill:#1f77b4;stroke:#1f77b4;\" x=\"185.489185\" xlink:href=\"#mfda165a34e\" y=\"184.104134\"/>\n     <use style=\"fill:#1f77b4;stroke:#1f77b4;\" x=\"214.431027\" xlink:href=\"#mfda165a34e\" y=\"173.91371\"/>\n     <use style=\"fill:#1f77b4;stroke:#1f77b4;\" x=\"152.789722\" xlink:href=\"#mfda165a34e\" y=\"175.121817\"/>\n     <use style=\"fill:#1f77b4;stroke:#1f77b4;\" x=\"196.063051\" xlink:href=\"#mfda165a34e\" y=\"189.71275\"/>\n     <use style=\"fill:#1f77b4;stroke:#1f77b4;\" x=\"232.135498\" xlink:href=\"#mfda165a34e\" y=\"169.337037\"/>\n     <use style=\"fill:#1f77b4;stroke:#1f77b4;\" x=\"201.094953\" xlink:href=\"#mfda165a34e\" y=\"175.319252\"/>\n     <use style=\"fill:#1f77b4;stroke:#1f77b4;\" x=\"235.414609\" xlink:href=\"#mfda165a34e\" y=\"142.028756\"/>\n     <use style=\"fill:#1f77b4;stroke:#1f77b4;\" x=\"246.850544\" xlink:href=\"#mfda165a34e\" y=\"158.070412\"/>\n     <use style=\"fill:#1f77b4;stroke:#1f77b4;\" x=\"220.420485\" xlink:href=\"#mfda165a34e\" y=\"204.499884\"/>\n     <use style=\"fill:#1f77b4;stroke:#1f77b4;\" x=\"201.675097\" xlink:href=\"#mfda165a34e\" y=\"162.735576\"/>\n     <use style=\"fill:#1f77b4;stroke:#1f77b4;\" x=\"224.414207\" xlink:href=\"#mfda165a34e\" y=\"134.358644\"/>\n     <use style=\"fill:#1f77b4;stroke:#1f77b4;\" x=\"139.197836\" xlink:href=\"#mfda165a34e\" y=\"164.493721\"/>\n     <use style=\"fill:#1f77b4;stroke:#1f77b4;\" x=\"243.204103\" xlink:href=\"#mfda165a34e\" y=\"158.356072\"/>\n     <use style=\"fill:#1f77b4;stroke:#1f77b4;\" x=\"201.579844\" xlink:href=\"#mfda165a34e\" y=\"131.292538\"/>\n     <use style=\"fill:#1f77b4;stroke:#1f77b4;\" x=\"199.075535\" xlink:href=\"#mfda165a34e\" y=\"158.68539\"/>\n     <use style=\"fill:#1f77b4;stroke:#1f77b4;\" x=\"193.450846\" xlink:href=\"#mfda165a34e\" y=\"181.099415\"/>\n     <use style=\"fill:#1f77b4;stroke:#1f77b4;\" x=\"187.026385\" xlink:href=\"#mfda165a34e\" y=\"191.81001\"/>\n     <use style=\"fill:#1f77b4;stroke:#1f77b4;\" x=\"220.461872\" xlink:href=\"#mfda165a34e\" y=\"146.386156\"/>\n     <use style=\"fill:#1f77b4;stroke:#1f77b4;\" x=\"200.653328\" xlink:href=\"#mfda165a34e\" y=\"162.651619\"/>\n     <use style=\"fill:#1f77b4;stroke:#1f77b4;\" x=\"127.04162\" xlink:href=\"#mfda165a34e\" y=\"139.078373\"/>\n     <use style=\"fill:#1f77b4;stroke:#1f77b4;\" x=\"122.726126\" xlink:href=\"#mfda165a34e\" y=\"154.194461\"/>\n     <use style=\"fill:#1f77b4;stroke:#1f77b4;\" x=\"153.008535\" xlink:href=\"#mfda165a34e\" y=\"163.536572\"/>\n     <use style=\"fill:#1f77b4;stroke:#1f77b4;\" x=\"180.490023\" xlink:href=\"#mfda165a34e\" y=\"162.24402\"/>\n     <use style=\"fill:#1f77b4;stroke:#1f77b4;\" x=\"162.31413\" xlink:href=\"#mfda165a34e\" y=\"168.305942\"/>\n     <use style=\"fill:#1f77b4;stroke:#1f77b4;\" x=\"223.91398\" xlink:href=\"#mfda165a34e\" y=\"157.095364\"/>\n     <use style=\"fill:#1f77b4;stroke:#1f77b4;\" x=\"161.921281\" xlink:href=\"#mfda165a34e\" y=\"159.360822\"/>\n     <use style=\"fill:#1f77b4;stroke:#1f77b4;\" x=\"174.281642\" xlink:href=\"#mfda165a34e\" y=\"166.718656\"/>\n     <use style=\"fill:#1f77b4;stroke:#1f77b4;\" x=\"160.041767\" xlink:href=\"#mfda165a34e\" y=\"164.556263\"/>\n     <use style=\"fill:#1f77b4;stroke:#1f77b4;\" x=\"120.676035\" xlink:href=\"#mfda165a34e\" y=\"186.723978\"/>\n     <use style=\"fill:#1f77b4;stroke:#1f77b4;\" x=\"256.757424\" xlink:href=\"#mfda165a34e\" y=\"154.594324\"/>\n     <use style=\"fill:#1f77b4;stroke:#1f77b4;\" x=\"235.531744\" xlink:href=\"#mfda165a34e\" y=\"132.811614\"/>\n     <use style=\"fill:#1f77b4;stroke:#1f77b4;\" x=\"199.545349\" xlink:href=\"#mfda165a34e\" y=\"144.946482\"/>\n     <use style=\"fill:#1f77b4;stroke:#1f77b4;\" x=\"215.337182\" xlink:href=\"#mfda165a34e\" y=\"164.728226\"/>\n     <use style=\"fill:#1f77b4;stroke:#1f77b4;\" x=\"122.047331\" xlink:href=\"#mfda165a34e\" y=\"124.38736\"/>\n     <use style=\"fill:#1f77b4;stroke:#1f77b4;\" x=\"160.639587\" xlink:href=\"#mfda165a34e\" y=\"198.315994\"/>\n     <use style=\"fill:#1f77b4;stroke:#1f77b4;\" x=\"230.324456\" xlink:href=\"#mfda165a34e\" y=\"168.57413\"/>\n     <use style=\"fill:#1f77b4;stroke:#1f77b4;\" x=\"170.251055\" xlink:href=\"#mfda165a34e\" y=\"168.702248\"/>\n     <use style=\"fill:#1f77b4;stroke:#1f77b4;\" x=\"255.958312\" xlink:href=\"#mfda165a34e\" y=\"146.061271\"/>\n     <use style=\"fill:#1f77b4;stroke:#1f77b4;\" x=\"217.990308\" xlink:href=\"#mfda165a34e\" y=\"152.340857\"/>\n     <use style=\"fill:#1f77b4;stroke:#1f77b4;\" x=\"140.865755\" xlink:href=\"#mfda165a34e\" y=\"135.987962\"/>\n     <use style=\"fill:#1f77b4;stroke:#1f77b4;\" x=\"144.634602\" xlink:href=\"#mfda165a34e\" y=\"145.636375\"/>\n     <use style=\"fill:#1f77b4;stroke:#1f77b4;\" x=\"166.947544\" xlink:href=\"#mfda165a34e\" y=\"156.121104\"/>\n     <use style=\"fill:#1f77b4;stroke:#1f77b4;\" x=\"221.580819\" xlink:href=\"#mfda165a34e\" y=\"168.877001\"/>\n     <use style=\"fill:#1f77b4;stroke:#1f77b4;\" x=\"184.982682\" xlink:href=\"#mfda165a34e\" y=\"205.269072\"/>\n     <use style=\"fill:#1f77b4;stroke:#1f77b4;\" x=\"223.707052\" xlink:href=\"#mfda165a34e\" y=\"183.69579\"/>\n     <use style=\"fill:#1f77b4;stroke:#1f77b4;\" x=\"203.589457\" xlink:href=\"#mfda165a34e\" y=\"182.268727\"/>\n     <use style=\"fill:#1f77b4;stroke:#1f77b4;\" x=\"115.437244\" xlink:href=\"#mfda165a34e\" y=\"160.242986\"/>\n     <use style=\"fill:#1f77b4;stroke:#1f77b4;\" x=\"203.5794\" xlink:href=\"#mfda165a34e\" y=\"144.892099\"/>\n     <use style=\"fill:#1f77b4;stroke:#1f77b4;\" x=\"193.742944\" xlink:href=\"#mfda165a34e\" y=\"149.685942\"/>\n     <use style=\"fill:#1f77b4;stroke:#1f77b4;\" x=\"186.978442\" xlink:href=\"#mfda165a34e\" y=\"185.017763\"/>\n     <use style=\"fill:#1f77b4;stroke:#1f77b4;\" x=\"241.656701\" xlink:href=\"#mfda165a34e\" y=\"187.736621\"/>\n     <use style=\"fill:#1f77b4;stroke:#1f77b4;\" x=\"222.434584\" xlink:href=\"#mfda165a34e\" y=\"166.183407\"/>\n     <use style=\"fill:#1f77b4;stroke:#1f77b4;\" x=\"215.338556\" xlink:href=\"#mfda165a34e\" y=\"173.613894\"/>\n     <use style=\"fill:#1f77b4;stroke:#1f77b4;\" x=\"208.721712\" xlink:href=\"#mfda165a34e\" y=\"140.468279\"/>\n     <use style=\"fill:#1f77b4;stroke:#1f77b4;\" x=\"213.00329\" xlink:href=\"#mfda165a34e\" y=\"179.192348\"/>\n     <use style=\"fill:#1f77b4;stroke:#1f77b4;\" x=\"197.56124\" xlink:href=\"#mfda165a34e\" y=\"212.38972\"/>\n     <use style=\"fill:#1f77b4;stroke:#1f77b4;\" x=\"225.88933\" xlink:href=\"#mfda165a34e\" y=\"164.029541\"/>\n     <use style=\"fill:#1f77b4;stroke:#1f77b4;\" x=\"144.58324\" xlink:href=\"#mfda165a34e\" y=\"154.633723\"/>\n     <use style=\"fill:#1f77b4;stroke:#1f77b4;\" x=\"188.056845\" xlink:href=\"#mfda165a34e\" y=\"129.276437\"/>\n     <use style=\"fill:#1f77b4;stroke:#1f77b4;\" x=\"160.316398\" xlink:href=\"#mfda165a34e\" y=\"164.920734\"/>\n     <use style=\"fill:#1f77b4;stroke:#1f77b4;\" x=\"191.232219\" xlink:href=\"#mfda165a34e\" y=\"144.924214\"/>\n     <use style=\"fill:#1f77b4;stroke:#1f77b4;\" x=\"181.710474\" xlink:href=\"#mfda165a34e\" y=\"144.82003\"/>\n     <use style=\"fill:#1f77b4;stroke:#1f77b4;\" x=\"193.833118\" xlink:href=\"#mfda165a34e\" y=\"146.208759\"/>\n     <use style=\"fill:#1f77b4;stroke:#1f77b4;\" x=\"251.193911\" xlink:href=\"#mfda165a34e\" y=\"193.809661\"/>\n     <use style=\"fill:#1f77b4;stroke:#1f77b4;\" x=\"228.944469\" xlink:href=\"#mfda165a34e\" y=\"134.077463\"/>\n     <use style=\"fill:#1f77b4;stroke:#1f77b4;\" x=\"152.18094\" xlink:href=\"#mfda165a34e\" y=\"181.584494\"/>\n     <use style=\"fill:#1f77b4;stroke:#1f77b4;\" x=\"281.343898\" xlink:href=\"#mfda165a34e\" y=\"171.777585\"/>\n     <use style=\"fill:#1f77b4;stroke:#1f77b4;\" x=\"213.654922\" xlink:href=\"#mfda165a34e\" y=\"153.471787\"/>\n     <use style=\"fill:#1f77b4;stroke:#1f77b4;\" x=\"186.704775\" xlink:href=\"#mfda165a34e\" y=\"185.908234\"/>\n     <use style=\"fill:#1f77b4;stroke:#1f77b4;\" x=\"238.781401\" xlink:href=\"#mfda165a34e\" y=\"211.099654\"/>\n     <use style=\"fill:#1f77b4;stroke:#1f77b4;\" x=\"150.20869\" xlink:href=\"#mfda165a34e\" y=\"176.28137\"/>\n     <use style=\"fill:#1f77b4;stroke:#1f77b4;\" x=\"236.645817\" xlink:href=\"#mfda165a34e\" y=\"167.063239\"/>\n     <use style=\"fill:#1f77b4;stroke:#1f77b4;\" x=\"188.00142\" xlink:href=\"#mfda165a34e\" y=\"166.386497\"/>\n     <use style=\"fill:#1f77b4;stroke:#1f77b4;\" x=\"147.879805\" xlink:href=\"#mfda165a34e\" y=\"171.610572\"/>\n     <use style=\"fill:#1f77b4;stroke:#1f77b4;\" x=\"189.79104\" xlink:href=\"#mfda165a34e\" y=\"146.985986\"/>\n     <use style=\"fill:#1f77b4;stroke:#1f77b4;\" x=\"243.678122\" xlink:href=\"#mfda165a34e\" y=\"182.535285\"/>\n     <use style=\"fill:#1f77b4;stroke:#1f77b4;\" x=\"170.594698\" xlink:href=\"#mfda165a34e\" y=\"160.334446\"/>\n     <use style=\"fill:#1f77b4;stroke:#1f77b4;\" x=\"179.754268\" xlink:href=\"#mfda165a34e\" y=\"179.86833\"/>\n     <use style=\"fill:#1f77b4;stroke:#1f77b4;\" x=\"208.193982\" xlink:href=\"#mfda165a34e\" y=\"164.110349\"/>\n     <use style=\"fill:#1f77b4;stroke:#1f77b4;\" x=\"189.776028\" xlink:href=\"#mfda165a34e\" y=\"143.174244\"/>\n     <use style=\"fill:#1f77b4;stroke:#1f77b4;\" x=\"182.072071\" xlink:href=\"#mfda165a34e\" y=\"106.211725\"/>\n     <use style=\"fill:#1f77b4;stroke:#1f77b4;\" x=\"137.964065\" xlink:href=\"#mfda165a34e\" y=\"168.420398\"/>\n     <use style=\"fill:#1f77b4;stroke:#1f77b4;\" x=\"227.164468\" xlink:href=\"#mfda165a34e\" y=\"148.612267\"/>\n     <use style=\"fill:#1f77b4;stroke:#1f77b4;\" x=\"201.923362\" xlink:href=\"#mfda165a34e\" y=\"128.189519\"/>\n     <use style=\"fill:#1f77b4;stroke:#1f77b4;\" x=\"183.416463\" xlink:href=\"#mfda165a34e\" y=\"113.743385\"/>\n     <use style=\"fill:#1f77b4;stroke:#1f77b4;\" x=\"235.070092\" xlink:href=\"#mfda165a34e\" y=\"151.919136\"/>\n     <use style=\"fill:#1f77b4;stroke:#1f77b4;\" x=\"233.20316\" xlink:href=\"#mfda165a34e\" y=\"176.589057\"/>\n     <use style=\"fill:#1f77b4;stroke:#1f77b4;\" x=\"163.236251\" xlink:href=\"#mfda165a34e\" y=\"169.851885\"/>\n     <use style=\"fill:#1f77b4;stroke:#1f77b4;\" x=\"169.384285\" xlink:href=\"#mfda165a34e\" y=\"150.40854\"/>\n     <use style=\"fill:#1f77b4;stroke:#1f77b4;\" x=\"154.461205\" xlink:href=\"#mfda165a34e\" y=\"170.764562\"/>\n     <use style=\"fill:#1f77b4;stroke:#1f77b4;\" x=\"181.051599\" xlink:href=\"#mfda165a34e\" y=\"155.115465\"/>\n     <use style=\"fill:#1f77b4;stroke:#1f77b4;\" x=\"181.757969\" xlink:href=\"#mfda165a34e\" y=\"115.588138\"/>\n     <use style=\"fill:#1f77b4;stroke:#1f77b4;\" x=\"189.351207\" xlink:href=\"#mfda165a34e\" y=\"171.828559\"/>\n     <use style=\"fill:#1f77b4;stroke:#1f77b4;\" x=\"233.86685\" xlink:href=\"#mfda165a34e\" y=\"132.09438\"/>\n     <use style=\"fill:#1f77b4;stroke:#1f77b4;\" x=\"136.134323\" xlink:href=\"#mfda165a34e\" y=\"214.756364\"/>\n     <use style=\"fill:#1f77b4;stroke:#1f77b4;\" x=\"173.597812\" xlink:href=\"#mfda165a34e\" y=\"173.778559\"/>\n    </g>\n   </g>\n   <g id=\"PathCollection_2\">\n    <defs>\n     <path d=\"M 0 3 \nC 0.795609 3 1.55874 2.683901 2.12132 2.12132 \nC 2.683901 1.55874 3 0.795609 3 0 \nC 3 -0.795609 2.683901 -1.55874 2.12132 -2.12132 \nC 1.55874 -2.683901 0.795609 -3 0 -3 \nC -0.795609 -3 -1.55874 -2.683901 -2.12132 -2.12132 \nC -2.683901 -1.55874 -3 -0.795609 -3 0 \nC -3 0.795609 -2.683901 1.55874 -2.12132 2.12132 \nC -1.55874 2.683901 -0.795609 3 0 3 \nz\n\" id=\"mc558cb286f\" style=\"stroke:#ff7f0e;\"/>\n    </defs>\n    <g clip-path=\"url(#paded389488)\">\n     <use style=\"fill:#ff7f0e;stroke:#ff7f0e;\" x=\"229.09918\" xlink:href=\"#mc558cb286f\" y=\"83.565083\"/>\n     <use style=\"fill:#ff7f0e;stroke:#ff7f0e;\" x=\"204.805717\" xlink:href=\"#mc558cb286f\" y=\"103.015169\"/>\n     <use style=\"fill:#ff7f0e;stroke:#ff7f0e;\" x=\"268.755113\" xlink:href=\"#mc558cb286f\" y=\"78.562472\"/>\n     <use style=\"fill:#ff7f0e;stroke:#ff7f0e;\" x=\"269.94374\" xlink:href=\"#mc558cb286f\" y=\"87.582921\"/>\n     <use style=\"fill:#ff7f0e;stroke:#ff7f0e;\" x=\"228.692079\" xlink:href=\"#mc558cb286f\" y=\"63.73928\"/>\n     <use style=\"fill:#ff7f0e;stroke:#ff7f0e;\" x=\"215.939356\" xlink:href=\"#mc558cb286f\" y=\"105.337421\"/>\n     <use style=\"fill:#ff7f0e;stroke:#ff7f0e;\" x=\"176.725611\" xlink:href=\"#mc558cb286f\" y=\"70.398206\"/>\n     <use style=\"fill:#ff7f0e;stroke:#ff7f0e;\" x=\"208.500882\" xlink:href=\"#mc558cb286f\" y=\"81.012803\"/>\n     <use style=\"fill:#ff7f0e;stroke:#ff7f0e;\" x=\"219.745832\" xlink:href=\"#mc558cb286f\" y=\"54.704822\"/>\n     <use style=\"fill:#ff7f0e;stroke:#ff7f0e;\" x=\"212.1789\" xlink:href=\"#mc558cb286f\" y=\"69.771828\"/>\n     <use style=\"fill:#ff7f0e;stroke:#ff7f0e;\" x=\"230.776257\" xlink:href=\"#mc558cb286f\" y=\"50.796077\"/>\n     <use style=\"fill:#ff7f0e;stroke:#ff7f0e;\" x=\"218.446694\" xlink:href=\"#mc558cb286f\" y=\"76.151651\"/>\n     <use style=\"fill:#ff7f0e;stroke:#ff7f0e;\" x=\"248.410334\" xlink:href=\"#mc558cb286f\" y=\"59.116143\"/>\n     <use style=\"fill:#ff7f0e;stroke:#ff7f0e;\" x=\"174.660285\" xlink:href=\"#mc558cb286f\" y=\"61.55393\"/>\n     <use style=\"fill:#ff7f0e;stroke:#ff7f0e;\" x=\"193.469117\" xlink:href=\"#mc558cb286f\" y=\"67.793266\"/>\n     <use style=\"fill:#ff7f0e;stroke:#ff7f0e;\" x=\"211.168585\" xlink:href=\"#mc558cb286f\" y=\"61.708859\"/>\n     <use style=\"fill:#ff7f0e;stroke:#ff7f0e;\" x=\"204.41726\" xlink:href=\"#mc558cb286f\" y=\"108.132011\"/>\n     <use style=\"fill:#ff7f0e;stroke:#ff7f0e;\" x=\"236.822648\" xlink:href=\"#mc558cb286f\" y=\"52.86173\"/>\n     <use style=\"fill:#ff7f0e;stroke:#ff7f0e;\" x=\"249.201288\" xlink:href=\"#mc558cb286f\" y=\"89.477431\"/>\n     <use style=\"fill:#ff7f0e;stroke:#ff7f0e;\" x=\"229.951965\" xlink:href=\"#mc558cb286f\" y=\"69.808444\"/>\n     <use style=\"fill:#ff7f0e;stroke:#ff7f0e;\" x=\"225.961681\" xlink:href=\"#mc558cb286f\" y=\"97.819767\"/>\n     <use style=\"fill:#ff7f0e;stroke:#ff7f0e;\" x=\"261.98851\" xlink:href=\"#mc558cb286f\" y=\"89.852894\"/>\n     <use style=\"fill:#ff7f0e;stroke:#ff7f0e;\" x=\"237.752027\" xlink:href=\"#mc558cb286f\" y=\"63.91794\"/>\n     <use style=\"fill:#ff7f0e;stroke:#ff7f0e;\" x=\"168.756753\" xlink:href=\"#mc558cb286f\" y=\"56.649339\"/>\n     <use style=\"fill:#ff7f0e;stroke:#ff7f0e;\" x=\"235.414712\" xlink:href=\"#mc558cb286f\" y=\"102.503556\"/>\n     <use style=\"fill:#ff7f0e;stroke:#ff7f0e;\" x=\"206.202629\" xlink:href=\"#mc558cb286f\" y=\"41.200603\"/>\n     <use style=\"fill:#ff7f0e;stroke:#ff7f0e;\" x=\"310.88854\" xlink:href=\"#mc558cb286f\" y=\"109.440742\"/>\n     <use style=\"fill:#ff7f0e;stroke:#ff7f0e;\" x=\"258.280026\" xlink:href=\"#mc558cb286f\" y=\"73.214698\"/>\n     <use style=\"fill:#ff7f0e;stroke:#ff7f0e;\" x=\"258.903775\" xlink:href=\"#mc558cb286f\" y=\"95.622869\"/>\n     <use style=\"fill:#ff7f0e;stroke:#ff7f0e;\" x=\"217.304669\" xlink:href=\"#mc558cb286f\" y=\"85.128276\"/>\n     <use style=\"fill:#ff7f0e;stroke:#ff7f0e;\" x=\"217.994471\" xlink:href=\"#mc558cb286f\" y=\"94.316565\"/>\n     <use style=\"fill:#ff7f0e;stroke:#ff7f0e;\" x=\"174.601842\" xlink:href=\"#mc558cb286f\" y=\"85.350454\"/>\n     <use style=\"fill:#ff7f0e;stroke:#ff7f0e;\" x=\"271.903659\" xlink:href=\"#mc558cb286f\" y=\"58.354295\"/>\n     <use style=\"fill:#ff7f0e;stroke:#ff7f0e;\" x=\"230.579387\" xlink:href=\"#mc558cb286f\" y=\"17.083636\"/>\n     <use style=\"fill:#ff7f0e;stroke:#ff7f0e;\" x=\"231.21622\" xlink:href=\"#mc558cb286f\" y=\"72.978583\"/>\n     <use style=\"fill:#ff7f0e;stroke:#ff7f0e;\" x=\"214.168481\" xlink:href=\"#mc558cb286f\" y=\"71.642386\"/>\n     <use style=\"fill:#ff7f0e;stroke:#ff7f0e;\" x=\"209.349253\" xlink:href=\"#mc558cb286f\" y=\"62.189617\"/>\n     <use style=\"fill:#ff7f0e;stroke:#ff7f0e;\" x=\"238.61403\" xlink:href=\"#mc558cb286f\" y=\"91.007262\"/>\n     <use style=\"fill:#ff7f0e;stroke:#ff7f0e;\" x=\"253.838276\" xlink:href=\"#mc558cb286f\" y=\"88.942453\"/>\n     <use style=\"fill:#ff7f0e;stroke:#ff7f0e;\" x=\"162.926092\" xlink:href=\"#mc558cb286f\" y=\"87.46335\"/>\n     <use style=\"fill:#ff7f0e;stroke:#ff7f0e;\" x=\"201.326943\" xlink:href=\"#mc558cb286f\" y=\"37.972273\"/>\n     <use style=\"fill:#ff7f0e;stroke:#ff7f0e;\" x=\"247.073864\" xlink:href=\"#mc558cb286f\" y=\"86.421559\"/>\n     <use style=\"fill:#ff7f0e;stroke:#ff7f0e;\" x=\"238.153882\" xlink:href=\"#mc558cb286f\" y=\"97.738499\"/>\n     <use style=\"fill:#ff7f0e;stroke:#ff7f0e;\" x=\"277.602907\" xlink:href=\"#mc558cb286f\" y=\"67.025745\"/>\n     <use style=\"fill:#ff7f0e;stroke:#ff7f0e;\" x=\"239.433387\" xlink:href=\"#mc558cb286f\" y=\"45.795447\"/>\n     <use style=\"fill:#ff7f0e;stroke:#ff7f0e;\" x=\"201.804736\" xlink:href=\"#mc558cb286f\" y=\"61.332273\"/>\n     <use style=\"fill:#ff7f0e;stroke:#ff7f0e;\" x=\"242.80296\" xlink:href=\"#mc558cb286f\" y=\"100.581776\"/>\n     <use style=\"fill:#ff7f0e;stroke:#ff7f0e;\" x=\"253.382782\" xlink:href=\"#mc558cb286f\" y=\"77.244062\"/>\n     <use style=\"fill:#ff7f0e;stroke:#ff7f0e;\" x=\"221.626327\" xlink:href=\"#mc558cb286f\" y=\"78.78741\"/>\n     <use style=\"fill:#ff7f0e;stroke:#ff7f0e;\" x=\"245.741029\" xlink:href=\"#mc558cb286f\" y=\"74.999285\"/>\n     <use style=\"fill:#ff7f0e;stroke:#ff7f0e;\" x=\"208.981623\" xlink:href=\"#mc558cb286f\" y=\"94.232782\"/>\n     <use style=\"fill:#ff7f0e;stroke:#ff7f0e;\" x=\"227.989072\" xlink:href=\"#mc558cb286f\" y=\"105.63939\"/>\n     <use style=\"fill:#ff7f0e;stroke:#ff7f0e;\" x=\"251.436357\" xlink:href=\"#mc558cb286f\" y=\"105.058191\"/>\n     <use style=\"fill:#ff7f0e;stroke:#ff7f0e;\" x=\"215.180501\" xlink:href=\"#mc558cb286f\" y=\"69.346824\"/>\n     <use style=\"fill:#ff7f0e;stroke:#ff7f0e;\" x=\"274.223015\" xlink:href=\"#mc558cb286f\" y=\"79.049292\"/>\n     <use style=\"fill:#ff7f0e;stroke:#ff7f0e;\" x=\"248.55872\" xlink:href=\"#mc558cb286f\" y=\"92.986731\"/>\n     <use style=\"fill:#ff7f0e;stroke:#ff7f0e;\" x=\"288.064134\" xlink:href=\"#mc558cb286f\" y=\"68.403653\"/>\n     <use style=\"fill:#ff7f0e;stroke:#ff7f0e;\" x=\"267.667915\" xlink:href=\"#mc558cb286f\" y=\"75.82533\"/>\n     <use style=\"fill:#ff7f0e;stroke:#ff7f0e;\" x=\"194.829616\" xlink:href=\"#mc558cb286f\" y=\"86.664243\"/>\n     <use style=\"fill:#ff7f0e;stroke:#ff7f0e;\" x=\"206.13319\" xlink:href=\"#mc558cb286f\" y=\"80.114319\"/>\n     <use style=\"fill:#ff7f0e;stroke:#ff7f0e;\" x=\"219.799114\" xlink:href=\"#mc558cb286f\" y=\"76.971752\"/>\n     <use style=\"fill:#ff7f0e;stroke:#ff7f0e;\" x=\"250.567057\" xlink:href=\"#mc558cb286f\" y=\"77.554461\"/>\n     <use style=\"fill:#ff7f0e;stroke:#ff7f0e;\" x=\"205.079106\" xlink:href=\"#mc558cb286f\" y=\"34.406755\"/>\n     <use style=\"fill:#ff7f0e;stroke:#ff7f0e;\" x=\"232.62813\" xlink:href=\"#mc558cb286f\" y=\"97.080758\"/>\n     <use style=\"fill:#ff7f0e;stroke:#ff7f0e;\" x=\"218.182896\" xlink:href=\"#mc558cb286f\" y=\"42.798882\"/>\n     <use style=\"fill:#ff7f0e;stroke:#ff7f0e;\" x=\"254.261565\" xlink:href=\"#mc558cb286f\" y=\"26.382674\"/>\n     <use style=\"fill:#ff7f0e;stroke:#ff7f0e;\" x=\"258.029866\" xlink:href=\"#mc558cb286f\" y=\"82.387523\"/>\n     <use style=\"fill:#ff7f0e;stroke:#ff7f0e;\" x=\"228.87826\" xlink:href=\"#mc558cb286f\" y=\"48.846627\"/>\n     <use style=\"fill:#ff7f0e;stroke:#ff7f0e;\" x=\"181.230953\" xlink:href=\"#mc558cb286f\" y=\"87.23357\"/>\n     <use style=\"fill:#ff7f0e;stroke:#ff7f0e;\" x=\"234.993954\" xlink:href=\"#mc558cb286f\" y=\"80.420237\"/>\n     <use style=\"fill:#ff7f0e;stroke:#ff7f0e;\" x=\"291.271205\" xlink:href=\"#mc558cb286f\" y=\"84.779283\"/>\n     <use style=\"fill:#ff7f0e;stroke:#ff7f0e;\" x=\"234.422168\" xlink:href=\"#mc558cb286f\" y=\"68.748025\"/>\n     <use style=\"fill:#ff7f0e;stroke:#ff7f0e;\" x=\"215.544223\" xlink:href=\"#mc558cb286f\" y=\"109.081915\"/>\n     <use style=\"fill:#ff7f0e;stroke:#ff7f0e;\" x=\"268.024368\" xlink:href=\"#mc558cb286f\" y=\"110.741487\"/>\n     <use style=\"fill:#ff7f0e;stroke:#ff7f0e;\" x=\"283.430748\" xlink:href=\"#mc558cb286f\" y=\"67.797623\"/>\n     <use style=\"fill:#ff7f0e;stroke:#ff7f0e;\" x=\"244.95634\" xlink:href=\"#mc558cb286f\" y=\"66.939058\"/>\n     <use style=\"fill:#ff7f0e;stroke:#ff7f0e;\" x=\"248.393821\" xlink:href=\"#mc558cb286f\" y=\"99.672301\"/>\n     <use style=\"fill:#ff7f0e;stroke:#ff7f0e;\" x=\"304.587414\" xlink:href=\"#mc558cb286f\" y=\"58.799413\"/>\n     <use style=\"fill:#ff7f0e;stroke:#ff7f0e;\" x=\"200.371008\" xlink:href=\"#mc558cb286f\" y=\"89.521892\"/>\n     <use style=\"fill:#ff7f0e;stroke:#ff7f0e;\" x=\"187.541977\" xlink:href=\"#mc558cb286f\" y=\"68.977678\"/>\n     <use style=\"fill:#ff7f0e;stroke:#ff7f0e;\" x=\"261.803222\" xlink:href=\"#mc558cb286f\" y=\"74.985412\"/>\n     <use style=\"fill:#ff7f0e;stroke:#ff7f0e;\" x=\"188.429519\" xlink:href=\"#mc558cb286f\" y=\"93.269823\"/>\n     <use style=\"fill:#ff7f0e;stroke:#ff7f0e;\" x=\"167.584415\" xlink:href=\"#mc558cb286f\" y=\"30.766683\"/>\n     <use style=\"fill:#ff7f0e;stroke:#ff7f0e;\" x=\"186.155723\" xlink:href=\"#mc558cb286f\" y=\"59.574295\"/>\n     <use style=\"fill:#ff7f0e;stroke:#ff7f0e;\" x=\"277.883185\" xlink:href=\"#mc558cb286f\" y=\"60.167784\"/>\n     <use style=\"fill:#ff7f0e;stroke:#ff7f0e;\" x=\"180.772341\" xlink:href=\"#mc558cb286f\" y=\"52.04118\"/>\n     <use style=\"fill:#ff7f0e;stroke:#ff7f0e;\" x=\"231.338801\" xlink:href=\"#mc558cb286f\" y=\"71.161413\"/>\n     <use style=\"fill:#ff7f0e;stroke:#ff7f0e;\" x=\"235.676274\" xlink:href=\"#mc558cb286f\" y=\"90.718669\"/>\n     <use style=\"fill:#ff7f0e;stroke:#ff7f0e;\" x=\"216.636716\" xlink:href=\"#mc558cb286f\" y=\"79.523047\"/>\n     <use style=\"fill:#ff7f0e;stroke:#ff7f0e;\" x=\"229.454334\" xlink:href=\"#mc558cb286f\" y=\"72.843643\"/>\n     <use style=\"fill:#ff7f0e;stroke:#ff7f0e;\" x=\"205.246383\" xlink:href=\"#mc558cb286f\" y=\"82.777751\"/>\n     <use style=\"fill:#ff7f0e;stroke:#ff7f0e;\" x=\"230.637919\" xlink:href=\"#mc558cb286f\" y=\"79.420505\"/>\n     <use style=\"fill:#ff7f0e;stroke:#ff7f0e;\" x=\"238.746032\" xlink:href=\"#mc558cb286f\" y=\"58.325303\"/>\n     <use style=\"fill:#ff7f0e;stroke:#ff7f0e;\" x=\"320.359817\" xlink:href=\"#mc558cb286f\" y=\"60.114176\"/>\n     <use style=\"fill:#ff7f0e;stroke:#ff7f0e;\" x=\"201.96456\" xlink:href=\"#mc558cb286f\" y=\"85.150882\"/>\n     <use style=\"fill:#ff7f0e;stroke:#ff7f0e;\" x=\"252.921476\" xlink:href=\"#mc558cb286f\" y=\"103.647498\"/>\n     <use style=\"fill:#ff7f0e;stroke:#ff7f0e;\" x=\"213.151251\" xlink:href=\"#mc558cb286f\" y=\"72.62574\"/>\n     <use style=\"fill:#ff7f0e;stroke:#ff7f0e;\" x=\"250.378799\" xlink:href=\"#mc558cb286f\" y=\"74.252288\"/>\n     <use style=\"fill:#ff7f0e;stroke:#ff7f0e;\" x=\"196.78105\" xlink:href=\"#mc558cb286f\" y=\"72.60815\"/>\n     <use style=\"fill:#ff7f0e;stroke:#ff7f0e;\" x=\"264.880029\" xlink:href=\"#mc558cb286f\" y=\"66.695517\"/>\n     <use style=\"fill:#ff7f0e;stroke:#ff7f0e;\" x=\"200.088271\" xlink:href=\"#mc558cb286f\" y=\"53.036352\"/>\n     <use style=\"fill:#ff7f0e;stroke:#ff7f0e;\" x=\"230.146108\" xlink:href=\"#mc558cb286f\" y=\"69.298501\"/>\n     <use style=\"fill:#ff7f0e;stroke:#ff7f0e;\" x=\"252.734548\" xlink:href=\"#mc558cb286f\" y=\"89.208579\"/>\n     <use style=\"fill:#ff7f0e;stroke:#ff7f0e;\" x=\"247.517505\" xlink:href=\"#mc558cb286f\" y=\"103.305011\"/>\n     <use style=\"fill:#ff7f0e;stroke:#ff7f0e;\" x=\"242.702832\" xlink:href=\"#mc558cb286f\" y=\"98.162221\"/>\n     <use style=\"fill:#ff7f0e;stroke:#ff7f0e;\" x=\"253.073925\" xlink:href=\"#mc558cb286f\" y=\"88.920444\"/>\n     <use style=\"fill:#ff7f0e;stroke:#ff7f0e;\" x=\"211.380549\" xlink:href=\"#mc558cb286f\" y=\"70.952688\"/>\n     <use style=\"fill:#ff7f0e;stroke:#ff7f0e;\" x=\"216.112825\" xlink:href=\"#mc558cb286f\" y=\"77.599696\"/>\n     <use style=\"fill:#ff7f0e;stroke:#ff7f0e;\" x=\"228.29709\" xlink:href=\"#mc558cb286f\" y=\"40.73954\"/>\n     <use style=\"fill:#ff7f0e;stroke:#ff7f0e;\" x=\"204.125983\" xlink:href=\"#mc558cb286f\" y=\"44.303601\"/>\n     <use style=\"fill:#ff7f0e;stroke:#ff7f0e;\" x=\"275.802272\" xlink:href=\"#mc558cb286f\" y=\"48.687584\"/>\n     <use style=\"fill:#ff7f0e;stroke:#ff7f0e;\" x=\"204.357389\" xlink:href=\"#mc558cb286f\" y=\"44.925026\"/>\n     <use style=\"fill:#ff7f0e;stroke:#ff7f0e;\" x=\"253.946174\" xlink:href=\"#mc558cb286f\" y=\"95.767318\"/>\n     <use style=\"fill:#ff7f0e;stroke:#ff7f0e;\" x=\"296.421892\" xlink:href=\"#mc558cb286f\" y=\"91.300653\"/>\n     <use style=\"fill:#ff7f0e;stroke:#ff7f0e;\" x=\"227.674489\" xlink:href=\"#mc558cb286f\" y=\"68.23896\"/>\n     <use style=\"fill:#ff7f0e;stroke:#ff7f0e;\" x=\"364.427131\" xlink:href=\"#mc558cb286f\" y=\"104.258217\"/>\n     <use style=\"fill:#ff7f0e;stroke:#ff7f0e;\" x=\"235.338029\" xlink:href=\"#mc558cb286f\" y=\"72.766501\"/>\n     <use style=\"fill:#ff7f0e;stroke:#ff7f0e;\" x=\"155.624911\" xlink:href=\"#mc558cb286f\" y=\"92.5596\"/>\n     <use style=\"fill:#ff7f0e;stroke:#ff7f0e;\" x=\"251.241136\" xlink:href=\"#mc558cb286f\" y=\"27.679325\"/>\n     <use style=\"fill:#ff7f0e;stroke:#ff7f0e;\" x=\"270.974884\" xlink:href=\"#mc558cb286f\" y=\"74.336305\"/>\n     <use style=\"fill:#ff7f0e;stroke:#ff7f0e;\" x=\"253.259759\" xlink:href=\"#mc558cb286f\" y=\"95.87639\"/>\n     <use style=\"fill:#ff7f0e;stroke:#ff7f0e;\" x=\"225.546117\" xlink:href=\"#mc558cb286f\" y=\"102.386575\"/>\n     <use style=\"fill:#ff7f0e;stroke:#ff7f0e;\" x=\"250.208329\" xlink:href=\"#mc558cb286f\" y=\"97.391079\"/>\n     <use style=\"fill:#ff7f0e;stroke:#ff7f0e;\" x=\"206.810364\" xlink:href=\"#mc558cb286f\" y=\"56.425737\"/>\n     <use style=\"fill:#ff7f0e;stroke:#ff7f0e;\" x=\"250.624881\" xlink:href=\"#mc558cb286f\" y=\"82.253123\"/>\n     <use style=\"fill:#ff7f0e;stroke:#ff7f0e;\" x=\"159.286947\" xlink:href=\"#mc558cb286f\" y=\"57.902444\"/>\n     <use style=\"fill:#ff7f0e;stroke:#ff7f0e;\" x=\"179.527025\" xlink:href=\"#mc558cb286f\" y=\"57.210319\"/>\n     <use style=\"fill:#ff7f0e;stroke:#ff7f0e;\" x=\"222.103415\" xlink:href=\"#mc558cb286f\" y=\"74.093619\"/>\n     <use style=\"fill:#ff7f0e;stroke:#ff7f0e;\" x=\"226.133059\" xlink:href=\"#mc558cb286f\" y=\"40.379245\"/>\n     <use style=\"fill:#ff7f0e;stroke:#ff7f0e;\" x=\"359.868532\" xlink:href=\"#mc558cb286f\" y=\"102.54217\"/>\n     <use style=\"fill:#ff7f0e;stroke:#ff7f0e;\" x=\"202.696933\" xlink:href=\"#mc558cb286f\" y=\"74.269627\"/>\n     <use style=\"fill:#ff7f0e;stroke:#ff7f0e;\" x=\"249.705958\" xlink:href=\"#mc558cb286f\" y=\"80.633843\"/>\n     <use style=\"fill:#ff7f0e;stroke:#ff7f0e;\" x=\"237.291968\" xlink:href=\"#mc558cb286f\" y=\"100.317062\"/>\n     <use style=\"fill:#ff7f0e;stroke:#ff7f0e;\" x=\"284.120093\" xlink:href=\"#mc558cb286f\" y=\"94.241654\"/>\n     <use style=\"fill:#ff7f0e;stroke:#ff7f0e;\" x=\"210.57214\" xlink:href=\"#mc558cb286f\" y=\"100.847116\"/>\n     <use style=\"fill:#ff7f0e;stroke:#ff7f0e;\" x=\"184.128902\" xlink:href=\"#mc558cb286f\" y=\"79.994513\"/>\n     <use style=\"fill:#ff7f0e;stroke:#ff7f0e;\" x=\"219.815915\" xlink:href=\"#mc558cb286f\" y=\"89.761574\"/>\n     <use style=\"fill:#ff7f0e;stroke:#ff7f0e;\" x=\"213.99747\" xlink:href=\"#mc558cb286f\" y=\"78.622531\"/>\n     <use style=\"fill:#ff7f0e;stroke:#ff7f0e;\" x=\"221.975953\" xlink:href=\"#mc558cb286f\" y=\"63.807755\"/>\n     <use style=\"fill:#ff7f0e;stroke:#ff7f0e;\" x=\"175.326091\" xlink:href=\"#mc558cb286f\" y=\"56.824202\"/>\n     <use style=\"fill:#ff7f0e;stroke:#ff7f0e;\" x=\"256.76226\" xlink:href=\"#mc558cb286f\" y=\"58.38834\"/>\n     <use style=\"fill:#ff7f0e;stroke:#ff7f0e;\" x=\"246.244612\" xlink:href=\"#mc558cb286f\" y=\"83.13514\"/>\n     <use style=\"fill:#ff7f0e;stroke:#ff7f0e;\" x=\"253.184627\" xlink:href=\"#mc558cb286f\" y=\"75.314575\"/>\n     <use style=\"fill:#ff7f0e;stroke:#ff7f0e;\" x=\"252.180375\" xlink:href=\"#mc558cb286f\" y=\"68.490742\"/>\n     <use style=\"fill:#ff7f0e;stroke:#ff7f0e;\" x=\"254.450392\" xlink:href=\"#mc558cb286f\" y=\"81.603286\"/>\n     <use style=\"fill:#ff7f0e;stroke:#ff7f0e;\" x=\"218.369277\" xlink:href=\"#mc558cb286f\" y=\"95.965359\"/>\n     <use style=\"fill:#ff7f0e;stroke:#ff7f0e;\" x=\"251.731741\" xlink:href=\"#mc558cb286f\" y=\"64.500393\"/>\n     <use style=\"fill:#ff7f0e;stroke:#ff7f0e;\" x=\"186.192359\" xlink:href=\"#mc558cb286f\" y=\"84.1053\"/>\n     <use style=\"fill:#ff7f0e;stroke:#ff7f0e;\" x=\"231.727403\" xlink:href=\"#mc558cb286f\" y=\"41.347975\"/>\n     <use style=\"fill:#ff7f0e;stroke:#ff7f0e;\" x=\"259.483715\" xlink:href=\"#mc558cb286f\" y=\"69.980162\"/>\n     <use style=\"fill:#ff7f0e;stroke:#ff7f0e;\" x=\"257.289611\" xlink:href=\"#mc558cb286f\" y=\"61.936338\"/>\n     <use style=\"fill:#ff7f0e;stroke:#ff7f0e;\" x=\"271.044848\" xlink:href=\"#mc558cb286f\" y=\"66.494072\"/>\n     <use style=\"fill:#ff7f0e;stroke:#ff7f0e;\" x=\"217.016792\" xlink:href=\"#mc558cb286f\" y=\"72.395423\"/>\n     <use style=\"fill:#ff7f0e;stroke:#ff7f0e;\" x=\"210.491026\" xlink:href=\"#mc558cb286f\" y=\"61.487993\"/>\n     <use style=\"fill:#ff7f0e;stroke:#ff7f0e;\" x=\"280.098593\" xlink:href=\"#mc558cb286f\" y=\"89.924512\"/>\n     <use style=\"fill:#ff7f0e;stroke:#ff7f0e;\" x=\"302.222679\" xlink:href=\"#mc558cb286f\" y=\"82.171933\"/>\n     <use style=\"fill:#ff7f0e;stroke:#ff7f0e;\" x=\"227.157326\" xlink:href=\"#mc558cb286f\" y=\"94.938836\"/>\n     <use style=\"fill:#ff7f0e;stroke:#ff7f0e;\" x=\"252.066361\" xlink:href=\"#mc558cb286f\" y=\"50.707108\"/>\n     <use style=\"fill:#ff7f0e;stroke:#ff7f0e;\" x=\"243.716639\" xlink:href=\"#mc558cb286f\" y=\"90.334395\"/>\n     <use style=\"fill:#ff7f0e;stroke:#ff7f0e;\" x=\"275.496556\" xlink:href=\"#mc558cb286f\" y=\"109.805922\"/>\n     <use style=\"fill:#ff7f0e;stroke:#ff7f0e;\" x=\"268.594912\" xlink:href=\"#mc558cb286f\" y=\"72.231551\"/>\n     <use style=\"fill:#ff7f0e;stroke:#ff7f0e;\" x=\"215.541033\" xlink:href=\"#mc558cb286f\" y=\"82.289943\"/>\n     <use style=\"fill:#ff7f0e;stroke:#ff7f0e;\" x=\"227.498749\" xlink:href=\"#mc558cb286f\" y=\"77.021923\"/>\n     <use style=\"fill:#ff7f0e;stroke:#ff7f0e;\" x=\"247.074701\" xlink:href=\"#mc558cb286f\" y=\"101.88688\"/>\n     <use style=\"fill:#ff7f0e;stroke:#ff7f0e;\" x=\"212.451148\" xlink:href=\"#mc558cb286f\" y=\"125.780713\"/>\n     <use style=\"fill:#ff7f0e;stroke:#ff7f0e;\" x=\"257.240893\" xlink:href=\"#mc558cb286f\" y=\"89.541852\"/>\n     <use style=\"fill:#ff7f0e;stroke:#ff7f0e;\" x=\"228.07301\" xlink:href=\"#mc558cb286f\" y=\"97.717548\"/>\n     <use style=\"fill:#ff7f0e;stroke:#ff7f0e;\" x=\"251.690954\" xlink:href=\"#mc558cb286f\" y=\"72.363473\"/>\n     <use style=\"fill:#ff7f0e;stroke:#ff7f0e;\" x=\"286.667133\" xlink:href=\"#mc558cb286f\" y=\"88.036502\"/>\n     <use style=\"fill:#ff7f0e;stroke:#ff7f0e;\" x=\"229.582117\" xlink:href=\"#mc558cb286f\" y=\"59.824861\"/>\n     <use style=\"fill:#ff7f0e;stroke:#ff7f0e;\" x=\"337.294011\" xlink:href=\"#mc558cb286f\" y=\"54.190516\"/>\n     <use style=\"fill:#ff7f0e;stroke:#ff7f0e;\" x=\"211.558494\" xlink:href=\"#mc558cb286f\" y=\"107.360022\"/>\n     <use style=\"fill:#ff7f0e;stroke:#ff7f0e;\" x=\"158.848835\" xlink:href=\"#mc558cb286f\" y=\"63.58407\"/>\n     <use style=\"fill:#ff7f0e;stroke:#ff7f0e;\" x=\"140.867865\" xlink:href=\"#mc558cb286f\" y=\"82.941301\"/>\n     <use style=\"fill:#ff7f0e;stroke:#ff7f0e;\" x=\"243.778061\" xlink:href=\"#mc558cb286f\" y=\"41.308085\"/>\n     <use style=\"fill:#ff7f0e;stroke:#ff7f0e;\" x=\"301.749191\" xlink:href=\"#mc558cb286f\" y=\"102.434383\"/>\n     <use style=\"fill:#ff7f0e;stroke:#ff7f0e;\" x=\"244.088624\" xlink:href=\"#mc558cb286f\" y=\"60.352534\"/>\n     <use style=\"fill:#ff7f0e;stroke:#ff7f0e;\" x=\"237.032232\" xlink:href=\"#mc558cb286f\" y=\"93.590276\"/>\n     <use style=\"fill:#ff7f0e;stroke:#ff7f0e;\" x=\"220.345443\" xlink:href=\"#mc558cb286f\" y=\"108.051774\"/>\n     <use style=\"fill:#ff7f0e;stroke:#ff7f0e;\" x=\"192.673677\" xlink:href=\"#mc558cb286f\" y=\"92.750563\"/>\n     <use style=\"fill:#ff7f0e;stroke:#ff7f0e;\" x=\"269.667143\" xlink:href=\"#mc558cb286f\" y=\"64.652512\"/>\n     <use style=\"fill:#ff7f0e;stroke:#ff7f0e;\" x=\"240.185014\" xlink:href=\"#mc558cb286f\" y=\"67.170322\"/>\n     <use style=\"fill:#ff7f0e;stroke:#ff7f0e;\" x=\"217.020759\" xlink:href=\"#mc558cb286f\" y=\"100.903173\"/>\n     <use style=\"fill:#ff7f0e;stroke:#ff7f0e;\" x=\"252.181095\" xlink:href=\"#mc558cb286f\" y=\"78.405358\"/>\n     <use style=\"fill:#ff7f0e;stroke:#ff7f0e;\" x=\"254.787655\" xlink:href=\"#mc558cb286f\" y=\"30.084419\"/>\n     <use style=\"fill:#ff7f0e;stroke:#ff7f0e;\" x=\"259.282549\" xlink:href=\"#mc558cb286f\" y=\"86.045159\"/>\n     <use style=\"fill:#ff7f0e;stroke:#ff7f0e;\" x=\"258.370217\" xlink:href=\"#mc558cb286f\" y=\"79.774295\"/>\n     <use style=\"fill:#ff7f0e;stroke:#ff7f0e;\" x=\"196.512186\" xlink:href=\"#mc558cb286f\" y=\"79.551064\"/>\n     <use style=\"fill:#ff7f0e;stroke:#ff7f0e;\" x=\"264.10229\" xlink:href=\"#mc558cb286f\" y=\"68.476012\"/>\n     <use style=\"fill:#ff7f0e;stroke:#ff7f0e;\" x=\"219.297879\" xlink:href=\"#mc558cb286f\" y=\"76.149247\"/>\n     <use style=\"fill:#ff7f0e;stroke:#ff7f0e;\" x=\"220.851119\" xlink:href=\"#mc558cb286f\" y=\"115.60928\"/>\n     <use style=\"fill:#ff7f0e;stroke:#ff7f0e;\" x=\"214.181011\" xlink:href=\"#mc558cb286f\" y=\"65.165847\"/>\n     <use style=\"fill:#ff7f0e;stroke:#ff7f0e;\" x=\"276.25597\" xlink:href=\"#mc558cb286f\" y=\"36.702137\"/>\n     <use style=\"fill:#ff7f0e;stroke:#ff7f0e;\" x=\"251.046528\" xlink:href=\"#mc558cb286f\" y=\"100.772463\"/>\n     <use style=\"fill:#ff7f0e;stroke:#ff7f0e;\" x=\"289.709014\" xlink:href=\"#mc558cb286f\" y=\"107.149992\"/>\n     <use style=\"fill:#ff7f0e;stroke:#ff7f0e;\" x=\"225.991088\" xlink:href=\"#mc558cb286f\" y=\"61.650418\"/>\n     <use style=\"fill:#ff7f0e;stroke:#ff7f0e;\" x=\"230.468828\" xlink:href=\"#mc558cb286f\" y=\"82.698844\"/>\n     <use style=\"fill:#ff7f0e;stroke:#ff7f0e;\" x=\"249.33023\" xlink:href=\"#mc558cb286f\" y=\"89.876718\"/>\n     <use style=\"fill:#ff7f0e;stroke:#ff7f0e;\" x=\"325.911433\" xlink:href=\"#mc558cb286f\" y=\"87.610159\"/>\n     <use style=\"fill:#ff7f0e;stroke:#ff7f0e;\" x=\"231.969738\" xlink:href=\"#mc558cb286f\" y=\"79.343794\"/>\n     <use style=\"fill:#ff7f0e;stroke:#ff7f0e;\" x=\"212.197778\" xlink:href=\"#mc558cb286f\" y=\"60.580284\"/>\n     <use style=\"fill:#ff7f0e;stroke:#ff7f0e;\" x=\"252.439196\" xlink:href=\"#mc558cb286f\" y=\"77.033845\"/>\n     <use style=\"fill:#ff7f0e;stroke:#ff7f0e;\" x=\"266.29147\" xlink:href=\"#mc558cb286f\" y=\"60.282611\"/>\n     <use style=\"fill:#ff7f0e;stroke:#ff7f0e;\" x=\"230.039446\" xlink:href=\"#mc558cb286f\" y=\"87.412516\"/>\n     <use style=\"fill:#ff7f0e;stroke:#ff7f0e;\" x=\"252.361492\" xlink:href=\"#mc558cb286f\" y=\"74.905437\"/>\n     <use style=\"fill:#ff7f0e;stroke:#ff7f0e;\" x=\"196.958783\" xlink:href=\"#mc558cb286f\" y=\"93.237587\"/>\n     <use style=\"fill:#ff7f0e;stroke:#ff7f0e;\" x=\"249.699428\" xlink:href=\"#mc558cb286f\" y=\"94.247575\"/>\n     <use style=\"fill:#ff7f0e;stroke:#ff7f0e;\" x=\"173.004705\" xlink:href=\"#mc558cb286f\" y=\"90.046423\"/>\n     <use style=\"fill:#ff7f0e;stroke:#ff7f0e;\" x=\"214.429499\" xlink:href=\"#mc558cb286f\" y=\"66.915639\"/>\n     <use style=\"fill:#ff7f0e;stroke:#ff7f0e;\" x=\"251.864895\" xlink:href=\"#mc558cb286f\" y=\"81.273565\"/>\n     <use style=\"fill:#ff7f0e;stroke:#ff7f0e;\" x=\"208.228696\" xlink:href=\"#mc558cb286f\" y=\"61.116761\"/>\n     <use style=\"fill:#ff7f0e;stroke:#ff7f0e;\" x=\"270.034408\" xlink:href=\"#mc558cb286f\" y=\"51.351605\"/>\n     <use style=\"fill:#ff7f0e;stroke:#ff7f0e;\" x=\"234.238496\" xlink:href=\"#mc558cb286f\" y=\"74.955939\"/>\n     <use style=\"fill:#ff7f0e;stroke:#ff7f0e;\" x=\"231.764967\" xlink:href=\"#mc558cb286f\" y=\"94.201852\"/>\n     <use style=\"fill:#ff7f0e;stroke:#ff7f0e;\" x=\"249.891129\" xlink:href=\"#mc558cb286f\" y=\"41.073009\"/>\n     <use style=\"fill:#ff7f0e;stroke:#ff7f0e;\" x=\"311.935391\" xlink:href=\"#mc558cb286f\" y=\"110.41189\"/>\n     <use style=\"fill:#ff7f0e;stroke:#ff7f0e;\" x=\"275.425736\" xlink:href=\"#mc558cb286f\" y=\"57.231998\"/>\n     <use style=\"fill:#ff7f0e;stroke:#ff7f0e;\" x=\"352.865535\" xlink:href=\"#mc558cb286f\" y=\"70.879917\"/>\n     <use style=\"fill:#ff7f0e;stroke:#ff7f0e;\" x=\"317.171078\" xlink:href=\"#mc558cb286f\" y=\"85.012964\"/>\n     <use style=\"fill:#ff7f0e;stroke:#ff7f0e;\" x=\"190.29126\" xlink:href=\"#mc558cb286f\" y=\"66.524824\"/>\n     <use style=\"fill:#ff7f0e;stroke:#ff7f0e;\" x=\"228.485314\" xlink:href=\"#mc558cb286f\" y=\"76.793079\"/>\n     <use style=\"fill:#ff7f0e;stroke:#ff7f0e;\" x=\"261.336607\" xlink:href=\"#mc558cb286f\" y=\"55.605546\"/>\n     <use style=\"fill:#ff7f0e;stroke:#ff7f0e;\" x=\"256.833711\" xlink:href=\"#mc558cb286f\" y=\"31.762907\"/>\n     <use style=\"fill:#ff7f0e;stroke:#ff7f0e;\" x=\"214.609517\" xlink:href=\"#mc558cb286f\" y=\"67.476003\"/>\n     <use style=\"fill:#ff7f0e;stroke:#ff7f0e;\" x=\"257.36064\" xlink:href=\"#mc558cb286f\" y=\"107.122379\"/>\n     <use style=\"fill:#ff7f0e;stroke:#ff7f0e;\" x=\"274.253031\" xlink:href=\"#mc558cb286f\" y=\"50.347316\"/>\n     <use style=\"fill:#ff7f0e;stroke:#ff7f0e;\" x=\"222.636724\" xlink:href=\"#mc558cb286f\" y=\"48.105781\"/>\n     <use style=\"fill:#ff7f0e;stroke:#ff7f0e;\" x=\"266.310776\" xlink:href=\"#mc558cb286f\" y=\"73.3425\"/>\n     <use style=\"fill:#ff7f0e;stroke:#ff7f0e;\" x=\"240.545553\" xlink:href=\"#mc558cb286f\" y=\"97.246974\"/>\n     <use style=\"fill:#ff7f0e;stroke:#ff7f0e;\" x=\"184.771573\" xlink:href=\"#mc558cb286f\" y=\"50.410863\"/>\n     <use style=\"fill:#ff7f0e;stroke:#ff7f0e;\" x=\"233.388986\" xlink:href=\"#mc558cb286f\" y=\"83.227577\"/>\n     <use style=\"fill:#ff7f0e;stroke:#ff7f0e;\" x=\"283.313347\" xlink:href=\"#mc558cb286f\" y=\"69.600124\"/>\n     <use style=\"fill:#ff7f0e;stroke:#ff7f0e;\" x=\"239.659326\" xlink:href=\"#mc558cb286f\" y=\"95.308994\"/>\n     <use style=\"fill:#ff7f0e;stroke:#ff7f0e;\" x=\"253.632695\" xlink:href=\"#mc558cb286f\" y=\"70.08587\"/>\n     <use style=\"fill:#ff7f0e;stroke:#ff7f0e;\" x=\"306.799887\" xlink:href=\"#mc558cb286f\" y=\"78.257443\"/>\n     <use style=\"fill:#ff7f0e;stroke:#ff7f0e;\" x=\"250.395006\" xlink:href=\"#mc558cb286f\" y=\"56.159427\"/>\n     <use style=\"fill:#ff7f0e;stroke:#ff7f0e;\" x=\"214.335818\" xlink:href=\"#mc558cb286f\" y=\"70.869071\"/>\n     <use style=\"fill:#ff7f0e;stroke:#ff7f0e;\" x=\"219.602642\" xlink:href=\"#mc558cb286f\" y=\"78.670595\"/>\n     <use style=\"fill:#ff7f0e;stroke:#ff7f0e;\" x=\"168.49092\" xlink:href=\"#mc558cb286f\" y=\"89.743812\"/>\n     <use style=\"fill:#ff7f0e;stroke:#ff7f0e;\" x=\"222.528652\" xlink:href=\"#mc558cb286f\" y=\"92.930986\"/>\n     <use style=\"fill:#ff7f0e;stroke:#ff7f0e;\" x=\"153.540617\" xlink:href=\"#mc558cb286f\" y=\"106.372136\"/>\n     <use style=\"fill:#ff7f0e;stroke:#ff7f0e;\" x=\"249.123765\" xlink:href=\"#mc558cb286f\" y=\"61.169628\"/>\n     <use style=\"fill:#ff7f0e;stroke:#ff7f0e;\" x=\"263.855293\" xlink:href=\"#mc558cb286f\" y=\"55.259306\"/>\n     <use style=\"fill:#ff7f0e;stroke:#ff7f0e;\" x=\"286.19425\" xlink:href=\"#mc558cb286f\" y=\"103.93871\"/>\n     <use style=\"fill:#ff7f0e;stroke:#ff7f0e;\" x=\"286.465814\" xlink:href=\"#mc558cb286f\" y=\"92.412584\"/>\n     <use style=\"fill:#ff7f0e;stroke:#ff7f0e;\" x=\"254.118215\" xlink:href=\"#mc558cb286f\" y=\"54.028331\"/>\n     <use style=\"fill:#ff7f0e;stroke:#ff7f0e;\" x=\"248.025572\" xlink:href=\"#mc558cb286f\" y=\"97.103982\"/>\n     <use style=\"fill:#ff7f0e;stroke:#ff7f0e;\" x=\"193.222846\" xlink:href=\"#mc558cb286f\" y=\"59.516916\"/>\n     <use style=\"fill:#ff7f0e;stroke:#ff7f0e;\" x=\"228.380848\" xlink:href=\"#mc558cb286f\" y=\"122.044587\"/>\n     <use style=\"fill:#ff7f0e;stroke:#ff7f0e;\" x=\"237.745951\" xlink:href=\"#mc558cb286f\" y=\"56.796967\"/>\n     <use style=\"fill:#ff7f0e;stroke:#ff7f0e;\" x=\"215.678266\" xlink:href=\"#mc558cb286f\" y=\"62.081095\"/>\n     <use style=\"fill:#ff7f0e;stroke:#ff7f0e;\" x=\"224.056225\" xlink:href=\"#mc558cb286f\" y=\"96.78778\"/>\n     <use style=\"fill:#ff7f0e;stroke:#ff7f0e;\" x=\"277.187504\" xlink:href=\"#mc558cb286f\" y=\"74.536716\"/>\n     <use style=\"fill:#ff7f0e;stroke:#ff7f0e;\" x=\"267.022427\" xlink:href=\"#mc558cb286f\" y=\"51.500632\"/>\n     <use style=\"fill:#ff7f0e;stroke:#ff7f0e;\" x=\"267.239734\" xlink:href=\"#mc558cb286f\" y=\"71.496272\"/>\n     <use style=\"fill:#ff7f0e;stroke:#ff7f0e;\" x=\"253.178087\" xlink:href=\"#mc558cb286f\" y=\"72.881563\"/>\n     <use style=\"fill:#ff7f0e;stroke:#ff7f0e;\" x=\"259.193973\" xlink:href=\"#mc558cb286f\" y=\"79.096835\"/>\n     <use style=\"fill:#ff7f0e;stroke:#ff7f0e;\" x=\"210.761692\" xlink:href=\"#mc558cb286f\" y=\"39.039887\"/>\n     <use style=\"fill:#ff7f0e;stroke:#ff7f0e;\" x=\"225.47011\" xlink:href=\"#mc558cb286f\" y=\"96.522112\"/>\n     <use style=\"fill:#ff7f0e;stroke:#ff7f0e;\" x=\"273.793153\" xlink:href=\"#mc558cb286f\" y=\"73.023687\"/>\n     <use style=\"fill:#ff7f0e;stroke:#ff7f0e;\" x=\"264.092484\" xlink:href=\"#mc558cb286f\" y=\"88.416237\"/>\n     <use style=\"fill:#ff7f0e;stroke:#ff7f0e;\" x=\"213.622139\" xlink:href=\"#mc558cb286f\" y=\"83.779646\"/>\n     <use style=\"fill:#ff7f0e;stroke:#ff7f0e;\" x=\"246.775195\" xlink:href=\"#mc558cb286f\" y=\"107.175327\"/>\n     <use style=\"fill:#ff7f0e;stroke:#ff7f0e;\" x=\"198.425295\" xlink:href=\"#mc558cb286f\" y=\"47.585875\"/>\n     <use style=\"fill:#ff7f0e;stroke:#ff7f0e;\" x=\"202.408751\" xlink:href=\"#mc558cb286f\" y=\"31.926168\"/>\n     <use style=\"fill:#ff7f0e;stroke:#ff7f0e;\" x=\"245.349843\" xlink:href=\"#mc558cb286f\" y=\"69.536872\"/>\n     <use style=\"fill:#ff7f0e;stroke:#ff7f0e;\" x=\"265.315837\" xlink:href=\"#mc558cb286f\" y=\"122.113838\"/>\n     <use style=\"fill:#ff7f0e;stroke:#ff7f0e;\" x=\"227.843454\" xlink:href=\"#mc558cb286f\" y=\"72.115771\"/>\n     <use style=\"fill:#ff7f0e;stroke:#ff7f0e;\" x=\"173.390194\" xlink:href=\"#mc558cb286f\" y=\"69.31219\"/>\n     <use style=\"fill:#ff7f0e;stroke:#ff7f0e;\" x=\"217.489176\" xlink:href=\"#mc558cb286f\" y=\"61.737111\"/>\n     <use style=\"fill:#ff7f0e;stroke:#ff7f0e;\" x=\"290.598054\" xlink:href=\"#mc558cb286f\" y=\"78.488684\"/>\n     <use style=\"fill:#ff7f0e;stroke:#ff7f0e;\" x=\"153.2033\" xlink:href=\"#mc558cb286f\" y=\"61.35025\"/>\n     <use style=\"fill:#ff7f0e;stroke:#ff7f0e;\" x=\"262.883403\" xlink:href=\"#mc558cb286f\" y=\"24.408414\"/>\n     <use style=\"fill:#ff7f0e;stroke:#ff7f0e;\" x=\"266.238209\" xlink:href=\"#mc558cb286f\" y=\"63.535059\"/>\n     <use style=\"fill:#ff7f0e;stroke:#ff7f0e;\" x=\"225.743972\" xlink:href=\"#mc558cb286f\" y=\"57.083463\"/>\n     <use style=\"fill:#ff7f0e;stroke:#ff7f0e;\" x=\"196.250305\" xlink:href=\"#mc558cb286f\" y=\"62.21748\"/>\n     <use style=\"fill:#ff7f0e;stroke:#ff7f0e;\" x=\"230.329869\" xlink:href=\"#mc558cb286f\" y=\"69.971491\"/>\n     <use style=\"fill:#ff7f0e;stroke:#ff7f0e;\" x=\"276.023499\" xlink:href=\"#mc558cb286f\" y=\"71.283958\"/>\n     <use style=\"fill:#ff7f0e;stroke:#ff7f0e;\" x=\"255.454883\" xlink:href=\"#mc558cb286f\" y=\"91.006668\"/>\n     <use style=\"fill:#ff7f0e;stroke:#ff7f0e;\" x=\"278.599713\" xlink:href=\"#mc558cb286f\" y=\"31.629364\"/>\n     <use style=\"fill:#ff7f0e;stroke:#ff7f0e;\" x=\"220.215231\" xlink:href=\"#mc558cb286f\" y=\"86.667094\"/>\n     <use style=\"fill:#ff7f0e;stroke:#ff7f0e;\" x=\"297.886207\" xlink:href=\"#mc558cb286f\" y=\"104.041844\"/>\n     <use style=\"fill:#ff7f0e;stroke:#ff7f0e;\" x=\"254.779487\" xlink:href=\"#mc558cb286f\" y=\"82.218256\"/>\n     <use style=\"fill:#ff7f0e;stroke:#ff7f0e;\" x=\"257.057784\" xlink:href=\"#mc558cb286f\" y=\"59.407869\"/>\n     <use style=\"fill:#ff7f0e;stroke:#ff7f0e;\" x=\"173.134634\" xlink:href=\"#mc558cb286f\" y=\"63.484255\"/>\n     <use style=\"fill:#ff7f0e;stroke:#ff7f0e;\" x=\"234.51763\" xlink:href=\"#mc558cb286f\" y=\"88.978078\"/>\n     <use style=\"fill:#ff7f0e;stroke:#ff7f0e;\" x=\"253.023522\" xlink:href=\"#mc558cb286f\" y=\"73.970587\"/>\n     <use style=\"fill:#ff7f0e;stroke:#ff7f0e;\" x=\"203.354816\" xlink:href=\"#mc558cb286f\" y=\"97.002199\"/>\n     <use style=\"fill:#ff7f0e;stroke:#ff7f0e;\" x=\"247.174335\" xlink:href=\"#mc558cb286f\" y=\"90.248273\"/>\n     <use style=\"fill:#ff7f0e;stroke:#ff7f0e;\" x=\"194.639655\" xlink:href=\"#mc558cb286f\" y=\"68.616642\"/>\n     <use style=\"fill:#ff7f0e;stroke:#ff7f0e;\" x=\"236.256393\" xlink:href=\"#mc558cb286f\" y=\"49.15208\"/>\n     <use style=\"fill:#ff7f0e;stroke:#ff7f0e;\" x=\"222.338368\" xlink:href=\"#mc558cb286f\" y=\"76.96861\"/>\n     <use style=\"fill:#ff7f0e;stroke:#ff7f0e;\" x=\"296.253772\" xlink:href=\"#mc558cb286f\" y=\"95.721145\"/>\n     <use style=\"fill:#ff7f0e;stroke:#ff7f0e;\" x=\"233.684147\" xlink:href=\"#mc558cb286f\" y=\"60.679797\"/>\n     <use style=\"fill:#ff7f0e;stroke:#ff7f0e;\" x=\"305.232204\" xlink:href=\"#mc558cb286f\" y=\"82.267638\"/>\n     <use style=\"fill:#ff7f0e;stroke:#ff7f0e;\" x=\"226.325171\" xlink:href=\"#mc558cb286f\" y=\"73.467313\"/>\n     <use style=\"fill:#ff7f0e;stroke:#ff7f0e;\" x=\"279.41261\" xlink:href=\"#mc558cb286f\" y=\"99.731931\"/>\n     <use style=\"fill:#ff7f0e;stroke:#ff7f0e;\" x=\"249.157702\" xlink:href=\"#mc558cb286f\" y=\"27.010735\"/>\n     <use style=\"fill:#ff7f0e;stroke:#ff7f0e;\" x=\"183.076966\" xlink:href=\"#mc558cb286f\" y=\"83.86244\"/>\n     <use style=\"fill:#ff7f0e;stroke:#ff7f0e;\" x=\"238.71441\" xlink:href=\"#mc558cb286f\" y=\"69.919368\"/>\n     <use style=\"fill:#ff7f0e;stroke:#ff7f0e;\" x=\"223.152554\" xlink:href=\"#mc558cb286f\" y=\"66.839341\"/>\n     <use style=\"fill:#ff7f0e;stroke:#ff7f0e;\" x=\"271.307632\" xlink:href=\"#mc558cb286f\" y=\"70.93867\"/>\n     <use style=\"fill:#ff7f0e;stroke:#ff7f0e;\" x=\"196.516315\" xlink:href=\"#mc558cb286f\" y=\"81.092105\"/>\n     <use style=\"fill:#ff7f0e;stroke:#ff7f0e;\" x=\"253.670309\" xlink:href=\"#mc558cb286f\" y=\"54.667419\"/>\n     <use style=\"fill:#ff7f0e;stroke:#ff7f0e;\" x=\"163.650761\" xlink:href=\"#mc558cb286f\" y=\"83.625284\"/>\n     <use style=\"fill:#ff7f0e;stroke:#ff7f0e;\" x=\"250.978782\" xlink:href=\"#mc558cb286f\" y=\"121.278139\"/>\n     <use style=\"fill:#ff7f0e;stroke:#ff7f0e;\" x=\"247.521153\" xlink:href=\"#mc558cb286f\" y=\"52.721586\"/>\n     <use style=\"fill:#ff7f0e;stroke:#ff7f0e;\" x=\"258.205473\" xlink:href=\"#mc558cb286f\" y=\"61.656463\"/>\n     <use style=\"fill:#ff7f0e;stroke:#ff7f0e;\" x=\"260.388434\" xlink:href=\"#mc558cb286f\" y=\"38.848491\"/>\n     <use style=\"fill:#ff7f0e;stroke:#ff7f0e;\" x=\"270.508318\" xlink:href=\"#mc558cb286f\" y=\"93.363063\"/>\n     <use style=\"fill:#ff7f0e;stroke:#ff7f0e;\" x=\"225.620327\" xlink:href=\"#mc558cb286f\" y=\"86.005463\"/>\n     <use style=\"fill:#ff7f0e;stroke:#ff7f0e;\" x=\"246.688163\" xlink:href=\"#mc558cb286f\" y=\"31.967524\"/>\n     <use style=\"fill:#ff7f0e;stroke:#ff7f0e;\" x=\"234.284879\" xlink:href=\"#mc558cb286f\" y=\"101.605777\"/>\n     <use style=\"fill:#ff7f0e;stroke:#ff7f0e;\" x=\"268.807164\" xlink:href=\"#mc558cb286f\" y=\"100.830931\"/>\n     <use style=\"fill:#ff7f0e;stroke:#ff7f0e;\" x=\"265.347393\" xlink:href=\"#mc558cb286f\" y=\"49.026252\"/>\n     <use style=\"fill:#ff7f0e;stroke:#ff7f0e;\" x=\"217.307999\" xlink:href=\"#mc558cb286f\" y=\"83.236464\"/>\n     <use style=\"fill:#ff7f0e;stroke:#ff7f0e;\" x=\"256.387049\" xlink:href=\"#mc558cb286f\" y=\"79.891405\"/>\n     <use style=\"fill:#ff7f0e;stroke:#ff7f0e;\" x=\"241.227735\" xlink:href=\"#mc558cb286f\" y=\"65.719172\"/>\n     <use style=\"fill:#ff7f0e;stroke:#ff7f0e;\" x=\"259.743869\" xlink:href=\"#mc558cb286f\" y=\"63.221594\"/>\n     <use style=\"fill:#ff7f0e;stroke:#ff7f0e;\" x=\"312.680479\" xlink:href=\"#mc558cb286f\" y=\"44.311808\"/>\n     <use style=\"fill:#ff7f0e;stroke:#ff7f0e;\" x=\"229.594757\" xlink:href=\"#mc558cb286f\" y=\"88.311706\"/>\n     <use style=\"fill:#ff7f0e;stroke:#ff7f0e;\" x=\"262.042786\" xlink:href=\"#mc558cb286f\" y=\"93.934051\"/>\n     <use style=\"fill:#ff7f0e;stroke:#ff7f0e;\" x=\"248.468109\" xlink:href=\"#mc558cb286f\" y=\"65.588587\"/>\n     <use style=\"fill:#ff7f0e;stroke:#ff7f0e;\" x=\"264.309416\" xlink:href=\"#mc558cb286f\" y=\"81.685641\"/>\n     <use style=\"fill:#ff7f0e;stroke:#ff7f0e;\" x=\"287.693385\" xlink:href=\"#mc558cb286f\" y=\"116.669026\"/>\n     <use style=\"fill:#ff7f0e;stroke:#ff7f0e;\" x=\"195.431603\" xlink:href=\"#mc558cb286f\" y=\"78.751542\"/>\n     <use style=\"fill:#ff7f0e;stroke:#ff7f0e;\" x=\"156.634693\" xlink:href=\"#mc558cb286f\" y=\"90.096403\"/>\n     <use style=\"fill:#ff7f0e;stroke:#ff7f0e;\" x=\"179.093469\" xlink:href=\"#mc558cb286f\" y=\"43.059806\"/>\n     <use style=\"fill:#ff7f0e;stroke:#ff7f0e;\" x=\"261.688033\" xlink:href=\"#mc558cb286f\" y=\"94.716864\"/>\n     <use style=\"fill:#ff7f0e;stroke:#ff7f0e;\" x=\"290.795321\" xlink:href=\"#mc558cb286f\" y=\"97.275849\"/>\n     <use style=\"fill:#ff7f0e;stroke:#ff7f0e;\" x=\"230.255073\" xlink:href=\"#mc558cb286f\" y=\"47.430838\"/>\n     <use style=\"fill:#ff7f0e;stroke:#ff7f0e;\" x=\"304.193177\" xlink:href=\"#mc558cb286f\" y=\"123.115993\"/>\n     <use style=\"fill:#ff7f0e;stroke:#ff7f0e;\" x=\"181.327836\" xlink:href=\"#mc558cb286f\" y=\"28.976318\"/>\n    </g>\n   </g>\n   <g id=\"PathCollection_3\">\n    <defs>\n     <path d=\"M 0 3 \nC 0.795609 3 1.55874 2.683901 2.12132 2.12132 \nC 2.683901 1.55874 3 0.795609 3 0 \nC 3 -0.795609 2.683901 -1.55874 2.12132 -2.12132 \nC 1.55874 -2.683901 0.795609 -3 0 -3 \nC -0.795609 -3 -1.55874 -2.683901 -2.12132 -2.12132 \nC -2.683901 -1.55874 -3 -0.795609 -3 0 \nC -3 0.795609 -2.683901 1.55874 -2.12132 2.12132 \nC -1.55874 2.683901 -0.795609 3 0 3 \nz\n\" id=\"mbdbb5033d7\" style=\"stroke:#2ca02c;\"/>\n    </defs>\n    <g clip-path=\"url(#paded389488)\">\n     <use style=\"fill:#2ca02c;stroke:#2ca02c;\" x=\"227.656073\" xlink:href=\"#mbdbb5033d7\" y=\"64.935799\"/>\n     <use style=\"fill:#2ca02c;stroke:#2ca02c;\" x=\"189.722634\" xlink:href=\"#mbdbb5033d7\" y=\"97.362054\"/>\n     <use style=\"fill:#2ca02c;stroke:#2ca02c;\" x=\"178.728702\" xlink:href=\"#mbdbb5033d7\" y=\"142.623406\"/>\n     <use style=\"fill:#2ca02c;stroke:#2ca02c;\" x=\"154.161511\" xlink:href=\"#mbdbb5033d7\" y=\"135.441513\"/>\n     <use style=\"fill:#2ca02c;stroke:#2ca02c;\" x=\"201.828889\" xlink:href=\"#mbdbb5033d7\" y=\"96.007761\"/>\n     <use style=\"fill:#2ca02c;stroke:#2ca02c;\" x=\"216.372057\" xlink:href=\"#mbdbb5033d7\" y=\"121.980929\"/>\n     <use style=\"fill:#2ca02c;stroke:#2ca02c;\" x=\"228.040042\" xlink:href=\"#mbdbb5033d7\" y=\"112.058008\"/>\n     <use style=\"fill:#2ca02c;stroke:#2ca02c;\" x=\"131.942899\" xlink:href=\"#mbdbb5033d7\" y=\"130.751017\"/>\n     <use style=\"fill:#2ca02c;stroke:#2ca02c;\" x=\"177.041753\" xlink:href=\"#mbdbb5033d7\" y=\"110.830751\"/>\n     <use style=\"fill:#2ca02c;stroke:#2ca02c;\" x=\"222.943257\" xlink:href=\"#mbdbb5033d7\" y=\"126.537922\"/>\n     <use style=\"fill:#2ca02c;stroke:#2ca02c;\" x=\"152.093037\" xlink:href=\"#mbdbb5033d7\" y=\"75.59331\"/>\n     <use style=\"fill:#2ca02c;stroke:#2ca02c;\" x=\"207.601368\" xlink:href=\"#mbdbb5033d7\" y=\"65.935346\"/>\n     <use style=\"fill:#2ca02c;stroke:#2ca02c;\" x=\"195.258996\" xlink:href=\"#mbdbb5033d7\" y=\"128.518677\"/>\n     <use style=\"fill:#2ca02c;stroke:#2ca02c;\" x=\"176.280297\" xlink:href=\"#mbdbb5033d7\" y=\"80.743411\"/>\n     <use style=\"fill:#2ca02c;stroke:#2ca02c;\" x=\"95.061255\" xlink:href=\"#mbdbb5033d7\" y=\"48.200522\"/>\n     <use style=\"fill:#2ca02c;stroke:#2ca02c;\" x=\"143.040902\" xlink:href=\"#mbdbb5033d7\" y=\"132.676943\"/>\n     <use style=\"fill:#2ca02c;stroke:#2ca02c;\" x=\"217.348529\" xlink:href=\"#mbdbb5033d7\" y=\"91.465656\"/>\n     <use style=\"fill:#2ca02c;stroke:#2ca02c;\" x=\"237.468653\" xlink:href=\"#mbdbb5033d7\" y=\"108.212397\"/>\n     <use style=\"fill:#2ca02c;stroke:#2ca02c;\" x=\"213.904264\" xlink:href=\"#mbdbb5033d7\" y=\"75.030186\"/>\n     <use style=\"fill:#2ca02c;stroke:#2ca02c;\" x=\"254.296297\" xlink:href=\"#mbdbb5033d7\" y=\"81.236255\"/>\n     <use style=\"fill:#2ca02c;stroke:#2ca02c;\" x=\"192.161177\" xlink:href=\"#mbdbb5033d7\" y=\"134.095287\"/>\n     <use style=\"fill:#2ca02c;stroke:#2ca02c;\" x=\"155.563889\" xlink:href=\"#mbdbb5033d7\" y=\"61.162744\"/>\n     <use style=\"fill:#2ca02c;stroke:#2ca02c;\" x=\"151.590824\" xlink:href=\"#mbdbb5033d7\" y=\"112.055992\"/>\n     <use style=\"fill:#2ca02c;stroke:#2ca02c;\" x=\"220.24861\" xlink:href=\"#mbdbb5033d7\" y=\"91.247003\"/>\n     <use style=\"fill:#2ca02c;stroke:#2ca02c;\" x=\"169.296893\" xlink:href=\"#mbdbb5033d7\" y=\"90.602891\"/>\n     <use style=\"fill:#2ca02c;stroke:#2ca02c;\" x=\"164.57572\" xlink:href=\"#mbdbb5033d7\" y=\"80.374838\"/>\n     <use style=\"fill:#2ca02c;stroke:#2ca02c;\" x=\"207.472927\" xlink:href=\"#mbdbb5033d7\" y=\"96.709499\"/>\n     <use style=\"fill:#2ca02c;stroke:#2ca02c;\" x=\"181.943035\" xlink:href=\"#mbdbb5033d7\" y=\"84.20552\"/>\n     <use style=\"fill:#2ca02c;stroke:#2ca02c;\" x=\"200.315826\" xlink:href=\"#mbdbb5033d7\" y=\"124.350478\"/>\n     <use style=\"fill:#2ca02c;stroke:#2ca02c;\" x=\"227.083272\" xlink:href=\"#mbdbb5033d7\" y=\"121.224249\"/>\n     <use style=\"fill:#2ca02c;stroke:#2ca02c;\" x=\"129.879974\" xlink:href=\"#mbdbb5033d7\" y=\"120.068155\"/>\n     <use style=\"fill:#2ca02c;stroke:#2ca02c;\" x=\"211.211309\" xlink:href=\"#mbdbb5033d7\" y=\"66.844482\"/>\n     <use style=\"fill:#2ca02c;stroke:#2ca02c;\" x=\"206.834143\" xlink:href=\"#mbdbb5033d7\" y=\"99.131271\"/>\n     <use style=\"fill:#2ca02c;stroke:#2ca02c;\" x=\"231.048986\" xlink:href=\"#mbdbb5033d7\" y=\"95.022848\"/>\n     <use style=\"fill:#2ca02c;stroke:#2ca02c;\" x=\"195.25091\" xlink:href=\"#mbdbb5033d7\" y=\"96.836394\"/>\n     <use style=\"fill:#2ca02c;stroke:#2ca02c;\" x=\"267.690558\" xlink:href=\"#mbdbb5033d7\" y=\"118.135916\"/>\n     <use style=\"fill:#2ca02c;stroke:#2ca02c;\" x=\"132.753003\" xlink:href=\"#mbdbb5033d7\" y=\"108.538174\"/>\n     <use style=\"fill:#2ca02c;stroke:#2ca02c;\" x=\"169.164679\" xlink:href=\"#mbdbb5033d7\" y=\"80.160762\"/>\n     <use style=\"fill:#2ca02c;stroke:#2ca02c;\" x=\"203.068459\" xlink:href=\"#mbdbb5033d7\" y=\"50.762308\"/>\n     <use style=\"fill:#2ca02c;stroke:#2ca02c;\" x=\"169.338002\" xlink:href=\"#mbdbb5033d7\" y=\"129.688393\"/>\n     <use style=\"fill:#2ca02c;stroke:#2ca02c;\" x=\"170.487108\" xlink:href=\"#mbdbb5033d7\" y=\"110.042879\"/>\n     <use style=\"fill:#2ca02c;stroke:#2ca02c;\" x=\"195.648252\" xlink:href=\"#mbdbb5033d7\" y=\"89.821144\"/>\n     <use style=\"fill:#2ca02c;stroke:#2ca02c;\" x=\"216.093158\" xlink:href=\"#mbdbb5033d7\" y=\"130.226526\"/>\n     <use style=\"fill:#2ca02c;stroke:#2ca02c;\" x=\"215.141249\" xlink:href=\"#mbdbb5033d7\" y=\"125.600771\"/>\n     <use style=\"fill:#2ca02c;stroke:#2ca02c;\" x=\"225.830695\" xlink:href=\"#mbdbb5033d7\" y=\"116.934977\"/>\n     <use style=\"fill:#2ca02c;stroke:#2ca02c;\" x=\"212.764883\" xlink:href=\"#mbdbb5033d7\" y=\"67.522507\"/>\n     <use style=\"fill:#2ca02c;stroke:#2ca02c;\" x=\"162.958716\" xlink:href=\"#mbdbb5033d7\" y=\"140.432644\"/>\n     <use style=\"fill:#2ca02c;stroke:#2ca02c;\" x=\"131.014795\" xlink:href=\"#mbdbb5033d7\" y=\"96.493487\"/>\n     <use style=\"fill:#2ca02c;stroke:#2ca02c;\" x=\"193.624712\" xlink:href=\"#mbdbb5033d7\" y=\"133.341388\"/>\n     <use style=\"fill:#2ca02c;stroke:#2ca02c;\" x=\"192.862095\" xlink:href=\"#mbdbb5033d7\" y=\"83.718384\"/>\n     <use style=\"fill:#2ca02c;stroke:#2ca02c;\" x=\"166.475076\" xlink:href=\"#mbdbb5033d7\" y=\"87.878092\"/>\n     <use style=\"fill:#2ca02c;stroke:#2ca02c;\" x=\"240.96033\" xlink:href=\"#mbdbb5033d7\" y=\"89.622397\"/>\n     <use style=\"fill:#2ca02c;stroke:#2ca02c;\" x=\"229.960859\" xlink:href=\"#mbdbb5033d7\" y=\"83.410662\"/>\n     <use style=\"fill:#2ca02c;stroke:#2ca02c;\" x=\"220.6818\" xlink:href=\"#mbdbb5033d7\" y=\"104.15744\"/>\n     <use style=\"fill:#2ca02c;stroke:#2ca02c;\" x=\"168.746529\" xlink:href=\"#mbdbb5033d7\" y=\"89.266181\"/>\n     <use style=\"fill:#2ca02c;stroke:#2ca02c;\" x=\"125.481298\" xlink:href=\"#mbdbb5033d7\" y=\"116.189758\"/>\n     <use style=\"fill:#2ca02c;stroke:#2ca02c;\" x=\"159.719149\" xlink:href=\"#mbdbb5033d7\" y=\"95.823786\"/>\n     <use style=\"fill:#2ca02c;stroke:#2ca02c;\" x=\"257.231251\" xlink:href=\"#mbdbb5033d7\" y=\"69.347041\"/>\n     <use style=\"fill:#2ca02c;stroke:#2ca02c;\" x=\"219.087837\" xlink:href=\"#mbdbb5033d7\" y=\"95.047847\"/>\n     <use style=\"fill:#2ca02c;stroke:#2ca02c;\" x=\"200.222848\" xlink:href=\"#mbdbb5033d7\" y=\"93.165917\"/>\n     <use style=\"fill:#2ca02c;stroke:#2ca02c;\" x=\"166.521903\" xlink:href=\"#mbdbb5033d7\" y=\"92.778999\"/>\n     <use style=\"fill:#2ca02c;stroke:#2ca02c;\" x=\"169.201922\" xlink:href=\"#mbdbb5033d7\" y=\"95.785508\"/>\n     <use style=\"fill:#2ca02c;stroke:#2ca02c;\" x=\"235.318141\" xlink:href=\"#mbdbb5033d7\" y=\"112.186254\"/>\n     <use style=\"fill:#2ca02c;stroke:#2ca02c;\" x=\"202.796219\" xlink:href=\"#mbdbb5033d7\" y=\"84.132412\"/>\n     <use style=\"fill:#2ca02c;stroke:#2ca02c;\" x=\"217.59866\" xlink:href=\"#mbdbb5033d7\" y=\"95.263195\"/>\n     <use style=\"fill:#2ca02c;stroke:#2ca02c;\" x=\"176.449264\" xlink:href=\"#mbdbb5033d7\" y=\"103.935509\"/>\n     <use style=\"fill:#2ca02c;stroke:#2ca02c;\" x=\"160.137256\" xlink:href=\"#mbdbb5033d7\" y=\"120.821952\"/>\n     <use style=\"fill:#2ca02c;stroke:#2ca02c;\" x=\"158.252046\" xlink:href=\"#mbdbb5033d7\" y=\"65.400763\"/>\n     <use style=\"fill:#2ca02c;stroke:#2ca02c;\" x=\"172.58798\" xlink:href=\"#mbdbb5033d7\" y=\"91.574653\"/>\n     <use style=\"fill:#2ca02c;stroke:#2ca02c;\" x=\"235.230451\" xlink:href=\"#mbdbb5033d7\" y=\"97.707657\"/>\n     <use style=\"fill:#2ca02c;stroke:#2ca02c;\" x=\"233.583683\" xlink:href=\"#mbdbb5033d7\" y=\"108.95616\"/>\n     <use style=\"fill:#2ca02c;stroke:#2ca02c;\" x=\"207.582943\" xlink:href=\"#mbdbb5033d7\" y=\"91.115226\"/>\n     <use style=\"fill:#2ca02c;stroke:#2ca02c;\" x=\"222.642329\" xlink:href=\"#mbdbb5033d7\" y=\"121.603998\"/>\n     <use style=\"fill:#2ca02c;stroke:#2ca02c;\" x=\"185.059392\" xlink:href=\"#mbdbb5033d7\" y=\"118.88299\"/>\n     <use style=\"fill:#2ca02c;stroke:#2ca02c;\" x=\"266.087787\" xlink:href=\"#mbdbb5033d7\" y=\"86.579778\"/>\n     <use style=\"fill:#2ca02c;stroke:#2ca02c;\" x=\"220.826171\" xlink:href=\"#mbdbb5033d7\" y=\"91.681176\"/>\n     <use style=\"fill:#2ca02c;stroke:#2ca02c;\" x=\"152.761955\" xlink:href=\"#mbdbb5033d7\" y=\"129.433635\"/>\n     <use style=\"fill:#2ca02c;stroke:#2ca02c;\" x=\"219.004559\" xlink:href=\"#mbdbb5033d7\" y=\"99.931775\"/>\n     <use style=\"fill:#2ca02c;stroke:#2ca02c;\" x=\"164.081147\" xlink:href=\"#mbdbb5033d7\" y=\"57.981347\"/>\n     <use style=\"fill:#2ca02c;stroke:#2ca02c;\" x=\"222.494011\" xlink:href=\"#mbdbb5033d7\" y=\"115.065712\"/>\n     <use style=\"fill:#2ca02c;stroke:#2ca02c;\" x=\"218.554239\" xlink:href=\"#mbdbb5033d7\" y=\"101.92167\"/>\n     <use style=\"fill:#2ca02c;stroke:#2ca02c;\" x=\"167.116652\" xlink:href=\"#mbdbb5033d7\" y=\"111.361327\"/>\n     <use style=\"fill:#2ca02c;stroke:#2ca02c;\" x=\"129.049043\" xlink:href=\"#mbdbb5033d7\" y=\"99.316303\"/>\n     <use style=\"fill:#2ca02c;stroke:#2ca02c;\" x=\"147.748171\" xlink:href=\"#mbdbb5033d7\" y=\"101.269033\"/>\n     <use style=\"fill:#2ca02c;stroke:#2ca02c;\" x=\"121.350336\" xlink:href=\"#mbdbb5033d7\" y=\"51.51959\"/>\n     <use style=\"fill:#2ca02c;stroke:#2ca02c;\" x=\"157.448194\" xlink:href=\"#mbdbb5033d7\" y=\"135.512318\"/>\n     <use style=\"fill:#2ca02c;stroke:#2ca02c;\" x=\"203.444967\" xlink:href=\"#mbdbb5033d7\" y=\"103.743683\"/>\n     <use style=\"fill:#2ca02c;stroke:#2ca02c;\" x=\"111.759655\" xlink:href=\"#mbdbb5033d7\" y=\"145.38177\"/>\n     <use style=\"fill:#2ca02c;stroke:#2ca02c;\" x=\"205.223953\" xlink:href=\"#mbdbb5033d7\" y=\"98.893539\"/>\n     <use style=\"fill:#2ca02c;stroke:#2ca02c;\" x=\"122.520462\" xlink:href=\"#mbdbb5033d7\" y=\"135.886916\"/>\n     <use style=\"fill:#2ca02c;stroke:#2ca02c;\" x=\"108.93605\" xlink:href=\"#mbdbb5033d7\" y=\"101.513565\"/>\n     <use style=\"fill:#2ca02c;stroke:#2ca02c;\" x=\"214.456514\" xlink:href=\"#mbdbb5033d7\" y=\"54.184489\"/>\n     <use style=\"fill:#2ca02c;stroke:#2ca02c;\" x=\"161.152399\" xlink:href=\"#mbdbb5033d7\" y=\"77.947553\"/>\n     <use style=\"fill:#2ca02c;stroke:#2ca02c;\" x=\"193.501925\" xlink:href=\"#mbdbb5033d7\" y=\"87.749218\"/>\n     <use style=\"fill:#2ca02c;stroke:#2ca02c;\" x=\"202.350104\" xlink:href=\"#mbdbb5033d7\" y=\"130.546126\"/>\n     <use style=\"fill:#2ca02c;stroke:#2ca02c;\" x=\"206.935387\" xlink:href=\"#mbdbb5033d7\" y=\"58.401731\"/>\n     <use style=\"fill:#2ca02c;stroke:#2ca02c;\" x=\"164.582943\" xlink:href=\"#mbdbb5033d7\" y=\"126.097244\"/>\n     <use style=\"fill:#2ca02c;stroke:#2ca02c;\" x=\"236.960808\" xlink:href=\"#mbdbb5033d7\" y=\"89.018417\"/>\n     <use style=\"fill:#2ca02c;stroke:#2ca02c;\" x=\"145.55085\" xlink:href=\"#mbdbb5033d7\" y=\"97.761263\"/>\n     <use style=\"fill:#2ca02c;stroke:#2ca02c;\" x=\"169.48584\" xlink:href=\"#mbdbb5033d7\" y=\"96.339724\"/>\n     <use style=\"fill:#2ca02c;stroke:#2ca02c;\" x=\"159.531242\" xlink:href=\"#mbdbb5033d7\" y=\"113.380812\"/>\n     <use style=\"fill:#2ca02c;stroke:#2ca02c;\" x=\"212.744825\" xlink:href=\"#mbdbb5033d7\" y=\"127.478022\"/>\n     <use style=\"fill:#2ca02c;stroke:#2ca02c;\" x=\"215.981203\" xlink:href=\"#mbdbb5033d7\" y=\"92.762288\"/>\n     <use style=\"fill:#2ca02c;stroke:#2ca02c;\" x=\"190.686762\" xlink:href=\"#mbdbb5033d7\" y=\"113.360442\"/>\n     <use style=\"fill:#2ca02c;stroke:#2ca02c;\" x=\"129.991212\" xlink:href=\"#mbdbb5033d7\" y=\"107.65186\"/>\n     <use style=\"fill:#2ca02c;stroke:#2ca02c;\" x=\"221.300803\" xlink:href=\"#mbdbb5033d7\" y=\"105.953717\"/>\n     <use style=\"fill:#2ca02c;stroke:#2ca02c;\" x=\"215.203528\" xlink:href=\"#mbdbb5033d7\" y=\"136.724214\"/>\n     <use style=\"fill:#2ca02c;stroke:#2ca02c;\" x=\"131.06927\" xlink:href=\"#mbdbb5033d7\" y=\"99.041598\"/>\n     <use style=\"fill:#2ca02c;stroke:#2ca02c;\" x=\"134.379714\" xlink:href=\"#mbdbb5033d7\" y=\"91.426042\"/>\n     <use style=\"fill:#2ca02c;stroke:#2ca02c;\" x=\"222.510371\" xlink:href=\"#mbdbb5033d7\" y=\"88.661261\"/>\n     <use style=\"fill:#2ca02c;stroke:#2ca02c;\" x=\"165.372854\" xlink:href=\"#mbdbb5033d7\" y=\"120.951596\"/>\n     <use style=\"fill:#2ca02c;stroke:#2ca02c;\" x=\"194.154839\" xlink:href=\"#mbdbb5033d7\" y=\"100.451174\"/>\n     <use style=\"fill:#2ca02c;stroke:#2ca02c;\" x=\"250.096384\" xlink:href=\"#mbdbb5033d7\" y=\"83.133042\"/>\n     <use style=\"fill:#2ca02c;stroke:#2ca02c;\" x=\"153.633658\" xlink:href=\"#mbdbb5033d7\" y=\"109.018305\"/>\n     <use style=\"fill:#2ca02c;stroke:#2ca02c;\" x=\"185.22463\" xlink:href=\"#mbdbb5033d7\" y=\"138.168186\"/>\n     <use style=\"fill:#2ca02c;stroke:#2ca02c;\" x=\"241.666932\" xlink:href=\"#mbdbb5033d7\" y=\"101.196188\"/>\n     <use style=\"fill:#2ca02c;stroke:#2ca02c;\" x=\"203.797661\" xlink:href=\"#mbdbb5033d7\" y=\"80.041145\"/>\n     <use style=\"fill:#2ca02c;stroke:#2ca02c;\" x=\"212.363895\" xlink:href=\"#mbdbb5033d7\" y=\"101.109735\"/>\n     <use style=\"fill:#2ca02c;stroke:#2ca02c;\" x=\"131.152952\" xlink:href=\"#mbdbb5033d7\" y=\"112.857791\"/>\n     <use style=\"fill:#2ca02c;stroke:#2ca02c;\" x=\"238.193146\" xlink:href=\"#mbdbb5033d7\" y=\"104.769083\"/>\n     <use style=\"fill:#2ca02c;stroke:#2ca02c;\" x=\"217.753158\" xlink:href=\"#mbdbb5033d7\" y=\"105.361578\"/>\n     <use style=\"fill:#2ca02c;stroke:#2ca02c;\" x=\"249.911439\" xlink:href=\"#mbdbb5033d7\" y=\"76.162938\"/>\n     <use style=\"fill:#2ca02c;stroke:#2ca02c;\" x=\"235.535878\" xlink:href=\"#mbdbb5033d7\" y=\"71.180161\"/>\n     <use style=\"fill:#2ca02c;stroke:#2ca02c;\" x=\"230.855002\" xlink:href=\"#mbdbb5033d7\" y=\"115.055202\"/>\n     <use style=\"fill:#2ca02c;stroke:#2ca02c;\" x=\"164.047992\" xlink:href=\"#mbdbb5033d7\" y=\"97.180172\"/>\n     <use style=\"fill:#2ca02c;stroke:#2ca02c;\" x=\"181.526934\" xlink:href=\"#mbdbb5033d7\" y=\"80.817853\"/>\n     <use style=\"fill:#2ca02c;stroke:#2ca02c;\" x=\"210.723561\" xlink:href=\"#mbdbb5033d7\" y=\"101.462889\"/>\n     <use style=\"fill:#2ca02c;stroke:#2ca02c;\" x=\"259.50585\" xlink:href=\"#mbdbb5033d7\" y=\"111.969968\"/>\n     <use style=\"fill:#2ca02c;stroke:#2ca02c;\" x=\"116.118317\" xlink:href=\"#mbdbb5033d7\" y=\"163.194906\"/>\n     <use style=\"fill:#2ca02c;stroke:#2ca02c;\" x=\"227.766758\" xlink:href=\"#mbdbb5033d7\" y=\"114.368715\"/>\n     <use style=\"fill:#2ca02c;stroke:#2ca02c;\" x=\"211.974389\" xlink:href=\"#mbdbb5033d7\" y=\"105.192786\"/>\n     <use style=\"fill:#2ca02c;stroke:#2ca02c;\" x=\"214.892772\" xlink:href=\"#mbdbb5033d7\" y=\"99.093139\"/>\n     <use style=\"fill:#2ca02c;stroke:#2ca02c;\" x=\"188.135627\" xlink:href=\"#mbdbb5033d7\" y=\"99.670172\"/>\n     <use style=\"fill:#2ca02c;stroke:#2ca02c;\" x=\"127.254274\" xlink:href=\"#mbdbb5033d7\" y=\"71.327539\"/>\n     <use style=\"fill:#2ca02c;stroke:#2ca02c;\" x=\"224.934402\" xlink:href=\"#mbdbb5033d7\" y=\"103.272933\"/>\n     <use style=\"fill:#2ca02c;stroke:#2ca02c;\" x=\"192.804674\" xlink:href=\"#mbdbb5033d7\" y=\"114.74013\"/>\n     <use style=\"fill:#2ca02c;stroke:#2ca02c;\" x=\"103.622076\" xlink:href=\"#mbdbb5033d7\" y=\"143.265465\"/>\n     <use style=\"fill:#2ca02c;stroke:#2ca02c;\" x=\"185.271441\" xlink:href=\"#mbdbb5033d7\" y=\"98.441543\"/>\n     <use style=\"fill:#2ca02c;stroke:#2ca02c;\" x=\"148.013332\" xlink:href=\"#mbdbb5033d7\" y=\"81.370954\"/>\n     <use style=\"fill:#2ca02c;stroke:#2ca02c;\" x=\"206.646107\" xlink:href=\"#mbdbb5033d7\" y=\"94.931711\"/>\n     <use style=\"fill:#2ca02c;stroke:#2ca02c;\" x=\"185.008331\" xlink:href=\"#mbdbb5033d7\" y=\"83.542996\"/>\n     <use style=\"fill:#2ca02c;stroke:#2ca02c;\" x=\"208.858747\" xlink:href=\"#mbdbb5033d7\" y=\"131.03364\"/>\n     <use style=\"fill:#2ca02c;stroke:#2ca02c;\" x=\"159.880753\" xlink:href=\"#mbdbb5033d7\" y=\"89.493826\"/>\n     <use style=\"fill:#2ca02c;stroke:#2ca02c;\" x=\"235.142292\" xlink:href=\"#mbdbb5033d7\" y=\"110.173347\"/>\n     <use style=\"fill:#2ca02c;stroke:#2ca02c;\" x=\"215.383389\" xlink:href=\"#mbdbb5033d7\" y=\"71.003493\"/>\n     <use style=\"fill:#2ca02c;stroke:#2ca02c;\" x=\"171.916894\" xlink:href=\"#mbdbb5033d7\" y=\"113.908936\"/>\n     <use style=\"fill:#2ca02c;stroke:#2ca02c;\" x=\"205.66002\" xlink:href=\"#mbdbb5033d7\" y=\"117.451276\"/>\n     <use style=\"fill:#2ca02c;stroke:#2ca02c;\" x=\"237.101106\" xlink:href=\"#mbdbb5033d7\" y=\"61.379972\"/>\n     <use style=\"fill:#2ca02c;stroke:#2ca02c;\" x=\"154.68383\" xlink:href=\"#mbdbb5033d7\" y=\"117.304819\"/>\n     <use style=\"fill:#2ca02c;stroke:#2ca02c;\" x=\"122.908242\" xlink:href=\"#mbdbb5033d7\" y=\"111.215892\"/>\n     <use style=\"fill:#2ca02c;stroke:#2ca02c;\" x=\"183.068489\" xlink:href=\"#mbdbb5033d7\" y=\"80.356016\"/>\n     <use style=\"fill:#2ca02c;stroke:#2ca02c;\" x=\"223.838593\" xlink:href=\"#mbdbb5033d7\" y=\"92.710872\"/>\n     <use style=\"fill:#2ca02c;stroke:#2ca02c;\" x=\"196.089783\" xlink:href=\"#mbdbb5033d7\" y=\"107.165794\"/>\n     <use style=\"fill:#2ca02c;stroke:#2ca02c;\" x=\"233.796221\" xlink:href=\"#mbdbb5033d7\" y=\"96.024001\"/>\n     <use style=\"fill:#2ca02c;stroke:#2ca02c;\" x=\"252.365275\" xlink:href=\"#mbdbb5033d7\" y=\"62.088298\"/>\n     <use style=\"fill:#2ca02c;stroke:#2ca02c;\" x=\"231.107386\" xlink:href=\"#mbdbb5033d7\" y=\"98.954487\"/>\n     <use style=\"fill:#2ca02c;stroke:#2ca02c;\" x=\"182.957307\" xlink:href=\"#mbdbb5033d7\" y=\"133.262245\"/>\n     <use style=\"fill:#2ca02c;stroke:#2ca02c;\" x=\"167.462746\" xlink:href=\"#mbdbb5033d7\" y=\"76.817316\"/>\n     <use style=\"fill:#2ca02c;stroke:#2ca02c;\" x=\"212.042072\" xlink:href=\"#mbdbb5033d7\" y=\"99.834806\"/>\n     <use style=\"fill:#2ca02c;stroke:#2ca02c;\" x=\"187.855878\" xlink:href=\"#mbdbb5033d7\" y=\"160.220243\"/>\n     <use style=\"fill:#2ca02c;stroke:#2ca02c;\" x=\"184.924731\" xlink:href=\"#mbdbb5033d7\" y=\"72.457395\"/>\n     <use style=\"fill:#2ca02c;stroke:#2ca02c;\" x=\"200.480863\" xlink:href=\"#mbdbb5033d7\" y=\"82.34083\"/>\n     <use style=\"fill:#2ca02c;stroke:#2ca02c;\" x=\"138.192201\" xlink:href=\"#mbdbb5033d7\" y=\"53.017426\"/>\n     <use style=\"fill:#2ca02c;stroke:#2ca02c;\" x=\"157.615867\" xlink:href=\"#mbdbb5033d7\" y=\"114.210391\"/>\n     <use style=\"fill:#2ca02c;stroke:#2ca02c;\" x=\"221.809731\" xlink:href=\"#mbdbb5033d7\" y=\"145.630256\"/>\n     <use style=\"fill:#2ca02c;stroke:#2ca02c;\" x=\"145.045134\" xlink:href=\"#mbdbb5033d7\" y=\"77.350435\"/>\n     <use style=\"fill:#2ca02c;stroke:#2ca02c;\" x=\"212.867374\" xlink:href=\"#mbdbb5033d7\" y=\"88.657116\"/>\n     <use style=\"fill:#2ca02c;stroke:#2ca02c;\" x=\"205.257573\" xlink:href=\"#mbdbb5033d7\" y=\"159.305065\"/>\n     <use style=\"fill:#2ca02c;stroke:#2ca02c;\" x=\"268.905007\" xlink:href=\"#mbdbb5033d7\" y=\"99.451362\"/>\n     <use style=\"fill:#2ca02c;stroke:#2ca02c;\" x=\"247.088934\" xlink:href=\"#mbdbb5033d7\" y=\"77.088186\"/>\n     <use style=\"fill:#2ca02c;stroke:#2ca02c;\" x=\"171.387976\" xlink:href=\"#mbdbb5033d7\" y=\"89.227166\"/>\n     <use style=\"fill:#2ca02c;stroke:#2ca02c;\" x=\"131.373315\" xlink:href=\"#mbdbb5033d7\" y=\"93.619911\"/>\n     <use style=\"fill:#2ca02c;stroke:#2ca02c;\" x=\"229.643623\" xlink:href=\"#mbdbb5033d7\" y=\"86.358324\"/>\n     <use style=\"fill:#2ca02c;stroke:#2ca02c;\" x=\"196.135292\" xlink:href=\"#mbdbb5033d7\" y=\"120.38784\"/>\n     <use style=\"fill:#2ca02c;stroke:#2ca02c;\" x=\"156.040213\" xlink:href=\"#mbdbb5033d7\" y=\"94.758396\"/>\n     <use style=\"fill:#2ca02c;stroke:#2ca02c;\" x=\"225.554712\" xlink:href=\"#mbdbb5033d7\" y=\"84.357997\"/>\n     <use style=\"fill:#2ca02c;stroke:#2ca02c;\" x=\"165.190584\" xlink:href=\"#mbdbb5033d7\" y=\"117.78444\"/>\n     <use style=\"fill:#2ca02c;stroke:#2ca02c;\" x=\"176.835417\" xlink:href=\"#mbdbb5033d7\" y=\"105.223562\"/>\n     <use style=\"fill:#2ca02c;stroke:#2ca02c;\" x=\"237.094393\" xlink:href=\"#mbdbb5033d7\" y=\"100.00472\"/>\n     <use style=\"fill:#2ca02c;stroke:#2ca02c;\" x=\"182.370884\" xlink:href=\"#mbdbb5033d7\" y=\"125.233807\"/>\n     <use style=\"fill:#2ca02c;stroke:#2ca02c;\" x=\"179.709456\" xlink:href=\"#mbdbb5033d7\" y=\"65.095516\"/>\n     <use style=\"fill:#2ca02c;stroke:#2ca02c;\" x=\"167.145431\" xlink:href=\"#mbdbb5033d7\" y=\"122.677239\"/>\n     <use style=\"fill:#2ca02c;stroke:#2ca02c;\" x=\"106.352145\" xlink:href=\"#mbdbb5033d7\" y=\"124.572728\"/>\n     <use style=\"fill:#2ca02c;stroke:#2ca02c;\" x=\"246.997326\" xlink:href=\"#mbdbb5033d7\" y=\"135.875647\"/>\n     <use style=\"fill:#2ca02c;stroke:#2ca02c;\" x=\"194.208938\" xlink:href=\"#mbdbb5033d7\" y=\"102.731302\"/>\n     <use style=\"fill:#2ca02c;stroke:#2ca02c;\" x=\"216.780919\" xlink:href=\"#mbdbb5033d7\" y=\"78.381279\"/>\n     <use style=\"fill:#2ca02c;stroke:#2ca02c;\" x=\"140.65086\" xlink:href=\"#mbdbb5033d7\" y=\"64.779783\"/>\n     <use style=\"fill:#2ca02c;stroke:#2ca02c;\" x=\"131.36809\" xlink:href=\"#mbdbb5033d7\" y=\"106.151156\"/>\n     <use style=\"fill:#2ca02c;stroke:#2ca02c;\" x=\"201.790161\" xlink:href=\"#mbdbb5033d7\" y=\"107.141899\"/>\n     <use style=\"fill:#2ca02c;stroke:#2ca02c;\" x=\"191.105032\" xlink:href=\"#mbdbb5033d7\" y=\"107.191709\"/>\n     <use style=\"fill:#2ca02c;stroke:#2ca02c;\" x=\"189.966454\" xlink:href=\"#mbdbb5033d7\" y=\"108.935098\"/>\n     <use style=\"fill:#2ca02c;stroke:#2ca02c;\" x=\"198.402149\" xlink:href=\"#mbdbb5033d7\" y=\"98.684052\"/>\n     <use style=\"fill:#2ca02c;stroke:#2ca02c;\" x=\"171.37375\" xlink:href=\"#mbdbb5033d7\" y=\"86.052325\"/>\n     <use style=\"fill:#2ca02c;stroke:#2ca02c;\" x=\"84.13721\" xlink:href=\"#mbdbb5033d7\" y=\"93.857111\"/>\n     <use style=\"fill:#2ca02c;stroke:#2ca02c;\" x=\"177.031784\" xlink:href=\"#mbdbb5033d7\" y=\"87.559772\"/>\n     <use style=\"fill:#2ca02c;stroke:#2ca02c;\" x=\"202.673825\" xlink:href=\"#mbdbb5033d7\" y=\"109.789693\"/>\n     <use style=\"fill:#2ca02c;stroke:#2ca02c;\" x=\"167.10707\" xlink:href=\"#mbdbb5033d7\" y=\"90.847043\"/>\n     <use style=\"fill:#2ca02c;stroke:#2ca02c;\" x=\"197.808213\" xlink:href=\"#mbdbb5033d7\" y=\"121.310384\"/>\n     <use style=\"fill:#2ca02c;stroke:#2ca02c;\" x=\"195.947472\" xlink:href=\"#mbdbb5033d7\" y=\"107.798187\"/>\n     <use style=\"fill:#2ca02c;stroke:#2ca02c;\" x=\"137.737179\" xlink:href=\"#mbdbb5033d7\" y=\"113.308249\"/>\n     <use style=\"fill:#2ca02c;stroke:#2ca02c;\" x=\"142.347508\" xlink:href=\"#mbdbb5033d7\" y=\"73.799814\"/>\n     <use style=\"fill:#2ca02c;stroke:#2ca02c;\" x=\"234.153608\" xlink:href=\"#mbdbb5033d7\" y=\"116.531235\"/>\n     <use style=\"fill:#2ca02c;stroke:#2ca02c;\" x=\"182.08776\" xlink:href=\"#mbdbb5033d7\" y=\"77.444699\"/>\n     <use style=\"fill:#2ca02c;stroke:#2ca02c;\" x=\"199.961858\" xlink:href=\"#mbdbb5033d7\" y=\"78.734005\"/>\n     <use style=\"fill:#2ca02c;stroke:#2ca02c;\" x=\"201.277947\" xlink:href=\"#mbdbb5033d7\" y=\"93.775277\"/>\n     <use style=\"fill:#2ca02c;stroke:#2ca02c;\" x=\"263.403532\" xlink:href=\"#mbdbb5033d7\" y=\"67.532559\"/>\n     <use style=\"fill:#2ca02c;stroke:#2ca02c;\" x=\"242.190415\" xlink:href=\"#mbdbb5033d7\" y=\"111.98737\"/>\n     <use style=\"fill:#2ca02c;stroke:#2ca02c;\" x=\"211.034902\" xlink:href=\"#mbdbb5033d7\" y=\"93.6167\"/>\n     <use style=\"fill:#2ca02c;stroke:#2ca02c;\" x=\"95.131501\" xlink:href=\"#mbdbb5033d7\" y=\"111.615056\"/>\n     <use style=\"fill:#2ca02c;stroke:#2ca02c;\" x=\"210.260013\" xlink:href=\"#mbdbb5033d7\" y=\"100.041932\"/>\n     <use style=\"fill:#2ca02c;stroke:#2ca02c;\" x=\"181.098292\" xlink:href=\"#mbdbb5033d7\" y=\"105.803021\"/>\n     <use style=\"fill:#2ca02c;stroke:#2ca02c;\" x=\"173.413585\" xlink:href=\"#mbdbb5033d7\" y=\"79.729586\"/>\n     <use style=\"fill:#2ca02c;stroke:#2ca02c;\" x=\"177.266754\" xlink:href=\"#mbdbb5033d7\" y=\"75.370701\"/>\n     <use style=\"fill:#2ca02c;stroke:#2ca02c;\" x=\"191.478776\" xlink:href=\"#mbdbb5033d7\" y=\"50.08436\"/>\n     <use style=\"fill:#2ca02c;stroke:#2ca02c;\" x=\"198.875259\" xlink:href=\"#mbdbb5033d7\" y=\"83.163851\"/>\n     <use style=\"fill:#2ca02c;stroke:#2ca02c;\" x=\"164.727509\" xlink:href=\"#mbdbb5033d7\" y=\"95.458805\"/>\n     <use style=\"fill:#2ca02c;stroke:#2ca02c;\" x=\"193.605912\" xlink:href=\"#mbdbb5033d7\" y=\"102.200776\"/>\n     <use style=\"fill:#2ca02c;stroke:#2ca02c;\" x=\"237.101398\" xlink:href=\"#mbdbb5033d7\" y=\"79.673542\"/>\n     <use style=\"fill:#2ca02c;stroke:#2ca02c;\" x=\"162.514134\" xlink:href=\"#mbdbb5033d7\" y=\"114.919592\"/>\n     <use style=\"fill:#2ca02c;stroke:#2ca02c;\" x=\"202.314769\" xlink:href=\"#mbdbb5033d7\" y=\"116.004218\"/>\n     <use style=\"fill:#2ca02c;stroke:#2ca02c;\" x=\"267.389975\" xlink:href=\"#mbdbb5033d7\" y=\"81.419514\"/>\n     <use style=\"fill:#2ca02c;stroke:#2ca02c;\" x=\"264.271267\" xlink:href=\"#mbdbb5033d7\" y=\"75.523311\"/>\n     <use style=\"fill:#2ca02c;stroke:#2ca02c;\" x=\"175.049533\" xlink:href=\"#mbdbb5033d7\" y=\"73.001165\"/>\n     <use style=\"fill:#2ca02c;stroke:#2ca02c;\" x=\"235.626366\" xlink:href=\"#mbdbb5033d7\" y=\"62.681095\"/>\n     <use style=\"fill:#2ca02c;stroke:#2ca02c;\" x=\"233.299705\" xlink:href=\"#mbdbb5033d7\" y=\"133.069761\"/>\n     <use style=\"fill:#2ca02c;stroke:#2ca02c;\" x=\"204.844361\" xlink:href=\"#mbdbb5033d7\" y=\"103.341716\"/>\n     <use style=\"fill:#2ca02c;stroke:#2ca02c;\" x=\"243.25822\" xlink:href=\"#mbdbb5033d7\" y=\"112.309397\"/>\n     <use style=\"fill:#2ca02c;stroke:#2ca02c;\" x=\"113.113259\" xlink:href=\"#mbdbb5033d7\" y=\"112.398294\"/>\n     <use style=\"fill:#2ca02c;stroke:#2ca02c;\" x=\"220.635085\" xlink:href=\"#mbdbb5033d7\" y=\"56.47431\"/>\n     <use style=\"fill:#2ca02c;stroke:#2ca02c;\" x=\"197.781308\" xlink:href=\"#mbdbb5033d7\" y=\"133.526853\"/>\n     <use style=\"fill:#2ca02c;stroke:#2ca02c;\" x=\"123.318053\" xlink:href=\"#mbdbb5033d7\" y=\"72.574592\"/>\n     <use style=\"fill:#2ca02c;stroke:#2ca02c;\" x=\"182.313553\" xlink:href=\"#mbdbb5033d7\" y=\"96.700853\"/>\n     <use style=\"fill:#2ca02c;stroke:#2ca02c;\" x=\"150.995012\" xlink:href=\"#mbdbb5033d7\" y=\"98.65056\"/>\n     <use style=\"fill:#2ca02c;stroke:#2ca02c;\" x=\"181.336793\" xlink:href=\"#mbdbb5033d7\" y=\"94.765444\"/>\n     <use style=\"fill:#2ca02c;stroke:#2ca02c;\" x=\"175.473573\" xlink:href=\"#mbdbb5033d7\" y=\"108.30407\"/>\n     <use style=\"fill:#2ca02c;stroke:#2ca02c;\" x=\"185.690055\" xlink:href=\"#mbdbb5033d7\" y=\"72.94935\"/>\n     <use style=\"fill:#2ca02c;stroke:#2ca02c;\" x=\"169.203357\" xlink:href=\"#mbdbb5033d7\" y=\"129.072813\"/>\n     <use style=\"fill:#2ca02c;stroke:#2ca02c;\" x=\"184.012604\" xlink:href=\"#mbdbb5033d7\" y=\"74.742511\"/>\n     <use style=\"fill:#2ca02c;stroke:#2ca02c;\" x=\"231.30033\" xlink:href=\"#mbdbb5033d7\" y=\"107.278576\"/>\n     <use style=\"fill:#2ca02c;stroke:#2ca02c;\" x=\"129.88891\" xlink:href=\"#mbdbb5033d7\" y=\"122.060633\"/>\n     <use style=\"fill:#2ca02c;stroke:#2ca02c;\" x=\"240.106447\" xlink:href=\"#mbdbb5033d7\" y=\"81.599794\"/>\n     <use style=\"fill:#2ca02c;stroke:#2ca02c;\" x=\"167.956075\" xlink:href=\"#mbdbb5033d7\" y=\"101.503978\"/>\n     <use style=\"fill:#2ca02c;stroke:#2ca02c;\" x=\"236.184706\" xlink:href=\"#mbdbb5033d7\" y=\"78.913801\"/>\n     <use style=\"fill:#2ca02c;stroke:#2ca02c;\" x=\"148.250422\" xlink:href=\"#mbdbb5033d7\" y=\"83.937303\"/>\n     <use style=\"fill:#2ca02c;stroke:#2ca02c;\" x=\"181.371447\" xlink:href=\"#mbdbb5033d7\" y=\"83.354765\"/>\n     <use style=\"fill:#2ca02c;stroke:#2ca02c;\" x=\"161.323077\" xlink:href=\"#mbdbb5033d7\" y=\"60.791284\"/>\n     <use style=\"fill:#2ca02c;stroke:#2ca02c;\" x=\"223.080645\" xlink:href=\"#mbdbb5033d7\" y=\"119.88256\"/>\n     <use style=\"fill:#2ca02c;stroke:#2ca02c;\" x=\"157.740479\" xlink:href=\"#mbdbb5033d7\" y=\"80.083505\"/>\n     <use style=\"fill:#2ca02c;stroke:#2ca02c;\" x=\"212.432522\" xlink:href=\"#mbdbb5033d7\" y=\"89.757136\"/>\n     <use style=\"fill:#2ca02c;stroke:#2ca02c;\" x=\"196.356024\" xlink:href=\"#mbdbb5033d7\" y=\"86.398779\"/>\n     <use style=\"fill:#2ca02c;stroke:#2ca02c;\" x=\"159.183731\" xlink:href=\"#mbdbb5033d7\" y=\"77.828161\"/>\n     <use style=\"fill:#2ca02c;stroke:#2ca02c;\" x=\"149.796862\" xlink:href=\"#mbdbb5033d7\" y=\"91.418104\"/>\n     <use style=\"fill:#2ca02c;stroke:#2ca02c;\" x=\"214.124255\" xlink:href=\"#mbdbb5033d7\" y=\"108.670047\"/>\n     <use style=\"fill:#2ca02c;stroke:#2ca02c;\" x=\"134.68286\" xlink:href=\"#mbdbb5033d7\" y=\"112.330377\"/>\n     <use style=\"fill:#2ca02c;stroke:#2ca02c;\" x=\"244.142031\" xlink:href=\"#mbdbb5033d7\" y=\"113.55758\"/>\n     <use style=\"fill:#2ca02c;stroke:#2ca02c;\" x=\"164.316687\" xlink:href=\"#mbdbb5033d7\" y=\"134.133923\"/>\n     <use style=\"fill:#2ca02c;stroke:#2ca02c;\" x=\"219.23724\" xlink:href=\"#mbdbb5033d7\" y=\"103.638155\"/>\n     <use style=\"fill:#2ca02c;stroke:#2ca02c;\" x=\"213.565044\" xlink:href=\"#mbdbb5033d7\" y=\"80.13209\"/>\n     <use style=\"fill:#2ca02c;stroke:#2ca02c;\" x=\"188.152082\" xlink:href=\"#mbdbb5033d7\" y=\"77.966427\"/>\n     <use style=\"fill:#2ca02c;stroke:#2ca02c;\" x=\"215.327096\" xlink:href=\"#mbdbb5033d7\" y=\"82.403619\"/>\n     <use style=\"fill:#2ca02c;stroke:#2ca02c;\" x=\"125.718044\" xlink:href=\"#mbdbb5033d7\" y=\"97.827986\"/>\n     <use style=\"fill:#2ca02c;stroke:#2ca02c;\" x=\"170.115546\" xlink:href=\"#mbdbb5033d7\" y=\"88.419952\"/>\n     <use style=\"fill:#2ca02c;stroke:#2ca02c;\" x=\"185.590354\" xlink:href=\"#mbdbb5033d7\" y=\"106.690636\"/>\n     <use style=\"fill:#2ca02c;stroke:#2ca02c;\" x=\"191.052141\" xlink:href=\"#mbdbb5033d7\" y=\"72.173768\"/>\n     <use style=\"fill:#2ca02c;stroke:#2ca02c;\" x=\"208.26556\" xlink:href=\"#mbdbb5033d7\" y=\"135.714667\"/>\n     <use style=\"fill:#2ca02c;stroke:#2ca02c;\" x=\"198.699987\" xlink:href=\"#mbdbb5033d7\" y=\"86.65948\"/>\n     <use style=\"fill:#2ca02c;stroke:#2ca02c;\" x=\"187.82286\" xlink:href=\"#mbdbb5033d7\" y=\"101.858698\"/>\n     <use style=\"fill:#2ca02c;stroke:#2ca02c;\" x=\"285.654901\" xlink:href=\"#mbdbb5033d7\" y=\"76.358142\"/>\n     <use style=\"fill:#2ca02c;stroke:#2ca02c;\" x=\"220.945001\" xlink:href=\"#mbdbb5033d7\" y=\"101.640504\"/>\n     <use style=\"fill:#2ca02c;stroke:#2ca02c;\" x=\"192.124371\" xlink:href=\"#mbdbb5033d7\" y=\"90.761469\"/>\n     <use style=\"fill:#2ca02c;stroke:#2ca02c;\" x=\"166.314792\" xlink:href=\"#mbdbb5033d7\" y=\"90.658434\"/>\n     <use style=\"fill:#2ca02c;stroke:#2ca02c;\" x=\"173.33789\" xlink:href=\"#mbdbb5033d7\" y=\"116.093076\"/>\n     <use style=\"fill:#2ca02c;stroke:#2ca02c;\" x=\"218.187266\" xlink:href=\"#mbdbb5033d7\" y=\"110.744064\"/>\n     <use style=\"fill:#2ca02c;stroke:#2ca02c;\" x=\"182.126599\" xlink:href=\"#mbdbb5033d7\" y=\"84.24771\"/>\n     <use style=\"fill:#2ca02c;stroke:#2ca02c;\" x=\"280.439927\" xlink:href=\"#mbdbb5033d7\" y=\"105.55528\"/>\n     <use style=\"fill:#2ca02c;stroke:#2ca02c;\" x=\"256.992551\" xlink:href=\"#mbdbb5033d7\" y=\"94.397228\"/>\n     <use style=\"fill:#2ca02c;stroke:#2ca02c;\" x=\"141.68744\" xlink:href=\"#mbdbb5033d7\" y=\"91.883381\"/>\n     <use style=\"fill:#2ca02c;stroke:#2ca02c;\" x=\"60.063494\" xlink:href=\"#mbdbb5033d7\" y=\"111.814284\"/>\n     <use style=\"fill:#2ca02c;stroke:#2ca02c;\" x=\"199.015321\" xlink:href=\"#mbdbb5033d7\" y=\"57.208798\"/>\n     <use style=\"fill:#2ca02c;stroke:#2ca02c;\" x=\"162.28379\" xlink:href=\"#mbdbb5033d7\" y=\"102.468454\"/>\n     <use style=\"fill:#2ca02c;stroke:#2ca02c;\" x=\"148.390253\" xlink:href=\"#mbdbb5033d7\" y=\"86.807502\"/>\n     <use style=\"fill:#2ca02c;stroke:#2ca02c;\" x=\"197.428371\" xlink:href=\"#mbdbb5033d7\" y=\"99.796133\"/>\n     <use style=\"fill:#2ca02c;stroke:#2ca02c;\" x=\"186.55991\" xlink:href=\"#mbdbb5033d7\" y=\"119.677431\"/>\n     <use style=\"fill:#2ca02c;stroke:#2ca02c;\" x=\"223.546495\" xlink:href=\"#mbdbb5033d7\" y=\"87.090032\"/>\n     <use style=\"fill:#2ca02c;stroke:#2ca02c;\" x=\"181.736761\" xlink:href=\"#mbdbb5033d7\" y=\"105.432596\"/>\n     <use style=\"fill:#2ca02c;stroke:#2ca02c;\" x=\"165.007342\" xlink:href=\"#mbdbb5033d7\" y=\"123.8986\"/>\n     <use style=\"fill:#2ca02c;stroke:#2ca02c;\" x=\"268.934259\" xlink:href=\"#mbdbb5033d7\" y=\"80.982383\"/>\n     <use style=\"fill:#2ca02c;stroke:#2ca02c;\" x=\"166.1642\" xlink:href=\"#mbdbb5033d7\" y=\"93.939337\"/>\n     <use style=\"fill:#2ca02c;stroke:#2ca02c;\" x=\"176.237777\" xlink:href=\"#mbdbb5033d7\" y=\"115.753599\"/>\n     <use style=\"fill:#2ca02c;stroke:#2ca02c;\" x=\"171.34381\" xlink:href=\"#mbdbb5033d7\" y=\"51.095213\"/>\n     <use style=\"fill:#2ca02c;stroke:#2ca02c;\" x=\"291.192562\" xlink:href=\"#mbdbb5033d7\" y=\"77.342354\"/>\n     <use style=\"fill:#2ca02c;stroke:#2ca02c;\" x=\"198.294129\" xlink:href=\"#mbdbb5033d7\" y=\"61.645825\"/>\n     <use style=\"fill:#2ca02c;stroke:#2ca02c;\" x=\"252.583453\" xlink:href=\"#mbdbb5033d7\" y=\"109.896848\"/>\n     <use style=\"fill:#2ca02c;stroke:#2ca02c;\" x=\"231.449443\" xlink:href=\"#mbdbb5033d7\" y=\"100.120167\"/>\n     <use style=\"fill:#2ca02c;stroke:#2ca02c;\" x=\"154.274646\" xlink:href=\"#mbdbb5033d7\" y=\"99.565151\"/>\n     <use style=\"fill:#2ca02c;stroke:#2ca02c;\" x=\"227.258967\" xlink:href=\"#mbdbb5033d7\" y=\"93.116866\"/>\n     <use style=\"fill:#2ca02c;stroke:#2ca02c;\" x=\"239.359309\" xlink:href=\"#mbdbb5033d7\" y=\"89.476507\"/>\n     <use style=\"fill:#2ca02c;stroke:#2ca02c;\" x=\"203.176417\" xlink:href=\"#mbdbb5033d7\" y=\"93.291807\"/>\n     <use style=\"fill:#2ca02c;stroke:#2ca02c;\" x=\"170.968402\" xlink:href=\"#mbdbb5033d7\" y=\"96.072508\"/>\n     <use style=\"fill:#2ca02c;stroke:#2ca02c;\" x=\"193.124023\" xlink:href=\"#mbdbb5033d7\" y=\"97.967829\"/>\n     <use style=\"fill:#2ca02c;stroke:#2ca02c;\" x=\"232.366674\" xlink:href=\"#mbdbb5033d7\" y=\"116.41065\"/>\n     <use style=\"fill:#2ca02c;stroke:#2ca02c;\" x=\"140.81617\" xlink:href=\"#mbdbb5033d7\" y=\"82.702761\"/>\n     <use style=\"fill:#2ca02c;stroke:#2ca02c;\" x=\"197.897151\" xlink:href=\"#mbdbb5033d7\" y=\"81.002067\"/>\n     <use style=\"fill:#2ca02c;stroke:#2ca02c;\" x=\"117.57482\" xlink:href=\"#mbdbb5033d7\" y=\"91.63344\"/>\n     <use style=\"fill:#2ca02c;stroke:#2ca02c;\" x=\"154.666183\" xlink:href=\"#mbdbb5033d7\" y=\"108.065543\"/>\n     <use style=\"fill:#2ca02c;stroke:#2ca02c;\" x=\"159.919842\" xlink:href=\"#mbdbb5033d7\" y=\"96.579902\"/>\n     <use style=\"fill:#2ca02c;stroke:#2ca02c;\" x=\"186.534309\" xlink:href=\"#mbdbb5033d7\" y=\"85.344405\"/>\n     <use style=\"fill:#2ca02c;stroke:#2ca02c;\" x=\"173.80491\" xlink:href=\"#mbdbb5033d7\" y=\"99.020023\"/>\n     <use style=\"fill:#2ca02c;stroke:#2ca02c;\" x=\"169.754711\" xlink:href=\"#mbdbb5033d7\" y=\"96.816105\"/>\n     <use style=\"fill:#2ca02c;stroke:#2ca02c;\" x=\"216.968604\" xlink:href=\"#mbdbb5033d7\" y=\"77.248366\"/>\n     <use style=\"fill:#2ca02c;stroke:#2ca02c;\" x=\"202.200359\" xlink:href=\"#mbdbb5033d7\" y=\"98.638682\"/>\n     <use style=\"fill:#2ca02c;stroke:#2ca02c;\" x=\"254.323322\" xlink:href=\"#mbdbb5033d7\" y=\"73.279306\"/>\n     <use style=\"fill:#2ca02c;stroke:#2ca02c;\" x=\"179.354752\" xlink:href=\"#mbdbb5033d7\" y=\"108.275673\"/>\n     <use style=\"fill:#2ca02c;stroke:#2ca02c;\" x=\"194.50813\" xlink:href=\"#mbdbb5033d7\" y=\"86.072808\"/>\n     <use style=\"fill:#2ca02c;stroke:#2ca02c;\" x=\"184.397025\" xlink:href=\"#mbdbb5033d7\" y=\"111.303564\"/>\n     <use style=\"fill:#2ca02c;stroke:#2ca02c;\" x=\"192.8303\" xlink:href=\"#mbdbb5033d7\" y=\"103.811348\"/>\n     <use style=\"fill:#2ca02c;stroke:#2ca02c;\" x=\"226.515612\" xlink:href=\"#mbdbb5033d7\" y=\"105.870055\"/>\n     <use style=\"fill:#2ca02c;stroke:#2ca02c;\" x=\"173.333009\" xlink:href=\"#mbdbb5033d7\" y=\"106.15022\"/>\n     <use style=\"fill:#2ca02c;stroke:#2ca02c;\" x=\"204.157449\" xlink:href=\"#mbdbb5033d7\" y=\"80.591821\"/>\n     <use style=\"fill:#2ca02c;stroke:#2ca02c;\" x=\"94.439498\" xlink:href=\"#mbdbb5033d7\" y=\"105.381799\"/>\n     <use style=\"fill:#2ca02c;stroke:#2ca02c;\" x=\"220.186421\" xlink:href=\"#mbdbb5033d7\" y=\"95.096076\"/>\n     <use style=\"fill:#2ca02c;stroke:#2ca02c;\" x=\"144.831291\" xlink:href=\"#mbdbb5033d7\" y=\"97.948327\"/>\n     <use style=\"fill:#2ca02c;stroke:#2ca02c;\" x=\"198.531377\" xlink:href=\"#mbdbb5033d7\" y=\"110.472561\"/>\n     <use style=\"fill:#2ca02c;stroke:#2ca02c;\" x=\"219.88749\" xlink:href=\"#mbdbb5033d7\" y=\"90.268639\"/>\n     <use style=\"fill:#2ca02c;stroke:#2ca02c;\" x=\"174.266361\" xlink:href=\"#mbdbb5033d7\" y=\"101.944536\"/>\n     <use style=\"fill:#2ca02c;stroke:#2ca02c;\" x=\"181.097346\" xlink:href=\"#mbdbb5033d7\" y=\"94.659005\"/>\n     <use style=\"fill:#2ca02c;stroke:#2ca02c;\" x=\"195.772422\" xlink:href=\"#mbdbb5033d7\" y=\"89.114323\"/>\n     <use style=\"fill:#2ca02c;stroke:#2ca02c;\" x=\"187.389233\" xlink:href=\"#mbdbb5033d7\" y=\"107.442516\"/>\n     <use style=\"fill:#2ca02c;stroke:#2ca02c;\" x=\"233.162122\" xlink:href=\"#mbdbb5033d7\" y=\"88.473667\"/>\n     <use style=\"fill:#2ca02c;stroke:#2ca02c;\" x=\"178.047938\" xlink:href=\"#mbdbb5033d7\" y=\"103.437502\"/>\n     <use style=\"fill:#2ca02c;stroke:#2ca02c;\" x=\"178.734124\" xlink:href=\"#mbdbb5033d7\" y=\"106.883995\"/>\n     <use style=\"fill:#2ca02c;stroke:#2ca02c;\" x=\"173.991126\" xlink:href=\"#mbdbb5033d7\" y=\"116.028059\"/>\n     <use style=\"fill:#2ca02c;stroke:#2ca02c;\" x=\"132.261664\" xlink:href=\"#mbdbb5033d7\" y=\"94.138947\"/>\n    </g>\n   </g>\n   <g id=\"matplotlib.axis_1\">\n    <g id=\"xtick_1\">\n     <g id=\"line2d_1\">\n      <defs>\n       <path d=\"M 0 0 \nL 0 3.5 \n\" id=\"mc3f55fd33b\" style=\"stroke:#000000;stroke-width:0.8;\"/>\n      </defs>\n      <g>\n       <use style=\"stroke:#000000;stroke-width:0.8;\" x=\"64.791469\" xlink:href=\"#mc3f55fd33b\" y=\"224.64\"/>\n      </g>\n     </g>\n     <g id=\"text_1\">\n      <!-- −8 -->\n      <defs>\n       <path d=\"M 10.59375 35.5 \nL 73.1875 35.5 \nL 73.1875 27.203125 \nL 10.59375 27.203125 \nz\n\" id=\"DejaVuSans-8722\"/>\n       <path d=\"M 31.78125 34.625 \nQ 24.75 34.625 20.71875 30.859375 \nQ 16.703125 27.09375 16.703125 20.515625 \nQ 16.703125 13.921875 20.71875 10.15625 \nQ 24.75 6.390625 31.78125 6.390625 \nQ 38.8125 6.390625 42.859375 10.171875 \nQ 46.921875 13.96875 46.921875 20.515625 \nQ 46.921875 27.09375 42.890625 30.859375 \nQ 38.875 34.625 31.78125 34.625 \nz\nM 21.921875 38.8125 \nQ 15.578125 40.375 12.03125 44.71875 \nQ 8.5 49.078125 8.5 55.328125 \nQ 8.5 64.0625 14.71875 69.140625 \nQ 20.953125 74.21875 31.78125 74.21875 \nQ 42.671875 74.21875 48.875 69.140625 \nQ 55.078125 64.0625 55.078125 55.328125 \nQ 55.078125 49.078125 51.53125 44.71875 \nQ 48 40.375 41.703125 38.8125 \nQ 48.828125 37.15625 52.796875 32.3125 \nQ 56.78125 27.484375 56.78125 20.515625 \nQ 56.78125 9.90625 50.3125 4.234375 \nQ 43.84375 -1.421875 31.78125 -1.421875 \nQ 19.734375 -1.421875 13.25 4.234375 \nQ 6.78125 9.90625 6.78125 20.515625 \nQ 6.78125 27.484375 10.78125 32.3125 \nQ 14.796875 37.15625 21.921875 38.8125 \nz\nM 18.3125 54.390625 \nQ 18.3125 48.734375 21.84375 45.5625 \nQ 25.390625 42.390625 31.78125 42.390625 \nQ 38.140625 42.390625 41.71875 45.5625 \nQ 45.3125 48.734375 45.3125 54.390625 \nQ 45.3125 60.0625 41.71875 63.234375 \nQ 38.140625 66.40625 31.78125 66.40625 \nQ 25.390625 66.40625 21.84375 63.234375 \nQ 18.3125 60.0625 18.3125 54.390625 \nz\n\" id=\"DejaVuSans-56\"/>\n      </defs>\n      <g transform=\"translate(57.420376 239.238437)scale(0.1 -0.1)\">\n       <use xlink:href=\"#DejaVuSans-8722\"/>\n       <use x=\"83.789062\" xlink:href=\"#DejaVuSans-56\"/>\n      </g>\n     </g>\n    </g>\n    <g id=\"xtick_2\">\n     <g id=\"line2d_2\">\n      <g>\n       <use style=\"stroke:#000000;stroke-width:0.8;\" x=\"103.170355\" xlink:href=\"#mc3f55fd33b\" y=\"224.64\"/>\n      </g>\n     </g>\n     <g id=\"text_2\">\n      <!-- −6 -->\n      <defs>\n       <path d=\"M 33.015625 40.375 \nQ 26.375 40.375 22.484375 35.828125 \nQ 18.609375 31.296875 18.609375 23.390625 \nQ 18.609375 15.53125 22.484375 10.953125 \nQ 26.375 6.390625 33.015625 6.390625 \nQ 39.65625 6.390625 43.53125 10.953125 \nQ 47.40625 15.53125 47.40625 23.390625 \nQ 47.40625 31.296875 43.53125 35.828125 \nQ 39.65625 40.375 33.015625 40.375 \nz\nM 52.59375 71.296875 \nL 52.59375 62.3125 \nQ 48.875 64.0625 45.09375 64.984375 \nQ 41.3125 65.921875 37.59375 65.921875 \nQ 27.828125 65.921875 22.671875 59.328125 \nQ 17.53125 52.734375 16.796875 39.40625 \nQ 19.671875 43.65625 24.015625 45.921875 \nQ 28.375 48.1875 33.59375 48.1875 \nQ 44.578125 48.1875 50.953125 41.515625 \nQ 57.328125 34.859375 57.328125 23.390625 \nQ 57.328125 12.15625 50.6875 5.359375 \nQ 44.046875 -1.421875 33.015625 -1.421875 \nQ 20.359375 -1.421875 13.671875 8.265625 \nQ 6.984375 17.96875 6.984375 36.375 \nQ 6.984375 53.65625 15.1875 63.9375 \nQ 23.390625 74.21875 37.203125 74.21875 \nQ 40.921875 74.21875 44.703125 73.484375 \nQ 48.484375 72.75 52.59375 71.296875 \nz\n\" id=\"DejaVuSans-54\"/>\n      </defs>\n      <g transform=\"translate(95.799261 239.238437)scale(0.1 -0.1)\">\n       <use xlink:href=\"#DejaVuSans-8722\"/>\n       <use x=\"83.789062\" xlink:href=\"#DejaVuSans-54\"/>\n      </g>\n     </g>\n    </g>\n    <g id=\"xtick_3\">\n     <g id=\"line2d_3\">\n      <g>\n       <use style=\"stroke:#000000;stroke-width:0.8;\" x=\"141.549241\" xlink:href=\"#mc3f55fd33b\" y=\"224.64\"/>\n      </g>\n     </g>\n     <g id=\"text_3\">\n      <!-- −4 -->\n      <defs>\n       <path d=\"M 37.796875 64.3125 \nL 12.890625 25.390625 \nL 37.796875 25.390625 \nz\nM 35.203125 72.90625 \nL 47.609375 72.90625 \nL 47.609375 25.390625 \nL 58.015625 25.390625 \nL 58.015625 17.1875 \nL 47.609375 17.1875 \nL 47.609375 0 \nL 37.796875 0 \nL 37.796875 17.1875 \nL 4.890625 17.1875 \nL 4.890625 26.703125 \nz\n\" id=\"DejaVuSans-52\"/>\n      </defs>\n      <g transform=\"translate(134.178147 239.238437)scale(0.1 -0.1)\">\n       <use xlink:href=\"#DejaVuSans-8722\"/>\n       <use x=\"83.789062\" xlink:href=\"#DejaVuSans-52\"/>\n      </g>\n     </g>\n    </g>\n    <g id=\"xtick_4\">\n     <g id=\"line2d_4\">\n      <g>\n       <use style=\"stroke:#000000;stroke-width:0.8;\" x=\"179.928127\" xlink:href=\"#mc3f55fd33b\" y=\"224.64\"/>\n      </g>\n     </g>\n     <g id=\"text_4\">\n      <!-- −2 -->\n      <defs>\n       <path d=\"M 19.1875 8.296875 \nL 53.609375 8.296875 \nL 53.609375 0 \nL 7.328125 0 \nL 7.328125 8.296875 \nQ 12.9375 14.109375 22.625 23.890625 \nQ 32.328125 33.6875 34.8125 36.53125 \nQ 39.546875 41.84375 41.421875 45.53125 \nQ 43.3125 49.21875 43.3125 52.78125 \nQ 43.3125 58.59375 39.234375 62.25 \nQ 35.15625 65.921875 28.609375 65.921875 \nQ 23.96875 65.921875 18.8125 64.3125 \nQ 13.671875 62.703125 7.8125 59.421875 \nL 7.8125 69.390625 \nQ 13.765625 71.78125 18.9375 73 \nQ 24.125 74.21875 28.421875 74.21875 \nQ 39.75 74.21875 46.484375 68.546875 \nQ 53.21875 62.890625 53.21875 53.421875 \nQ 53.21875 48.921875 51.53125 44.890625 \nQ 49.859375 40.875 45.40625 35.40625 \nQ 44.1875 33.984375 37.640625 27.21875 \nQ 31.109375 20.453125 19.1875 8.296875 \nz\n\" id=\"DejaVuSans-50\"/>\n      </defs>\n      <g transform=\"translate(172.557033 239.238437)scale(0.1 -0.1)\">\n       <use xlink:href=\"#DejaVuSans-8722\"/>\n       <use x=\"83.789062\" xlink:href=\"#DejaVuSans-50\"/>\n      </g>\n     </g>\n    </g>\n    <g id=\"xtick_5\">\n     <g id=\"line2d_5\">\n      <g>\n       <use style=\"stroke:#000000;stroke-width:0.8;\" x=\"218.307013\" xlink:href=\"#mc3f55fd33b\" y=\"224.64\"/>\n      </g>\n     </g>\n     <g id=\"text_5\">\n      <!-- 0 -->\n      <defs>\n       <path d=\"M 31.78125 66.40625 \nQ 24.171875 66.40625 20.328125 58.90625 \nQ 16.5 51.421875 16.5 36.375 \nQ 16.5 21.390625 20.328125 13.890625 \nQ 24.171875 6.390625 31.78125 6.390625 \nQ 39.453125 6.390625 43.28125 13.890625 \nQ 47.125 21.390625 47.125 36.375 \nQ 47.125 51.421875 43.28125 58.90625 \nQ 39.453125 66.40625 31.78125 66.40625 \nz\nM 31.78125 74.21875 \nQ 44.046875 74.21875 50.515625 64.515625 \nQ 56.984375 54.828125 56.984375 36.375 \nQ 56.984375 17.96875 50.515625 8.265625 \nQ 44.046875 -1.421875 31.78125 -1.421875 \nQ 19.53125 -1.421875 13.0625 8.265625 \nQ 6.59375 17.96875 6.59375 36.375 \nQ 6.59375 54.828125 13.0625 64.515625 \nQ 19.53125 74.21875 31.78125 74.21875 \nz\n\" id=\"DejaVuSans-48\"/>\n      </defs>\n      <g transform=\"translate(215.125763 239.238437)scale(0.1 -0.1)\">\n       <use xlink:href=\"#DejaVuSans-48\"/>\n      </g>\n     </g>\n    </g>\n    <g id=\"xtick_6\">\n     <g id=\"line2d_6\">\n      <g>\n       <use style=\"stroke:#000000;stroke-width:0.8;\" x=\"256.685899\" xlink:href=\"#mc3f55fd33b\" y=\"224.64\"/>\n      </g>\n     </g>\n     <g id=\"text_6\">\n      <!-- 2 -->\n      <g transform=\"translate(253.504649 239.238437)scale(0.1 -0.1)\">\n       <use xlink:href=\"#DejaVuSans-50\"/>\n      </g>\n     </g>\n    </g>\n    <g id=\"xtick_7\">\n     <g id=\"line2d_7\">\n      <g>\n       <use style=\"stroke:#000000;stroke-width:0.8;\" x=\"295.064785\" xlink:href=\"#mc3f55fd33b\" y=\"224.64\"/>\n      </g>\n     </g>\n     <g id=\"text_7\">\n      <!-- 4 -->\n      <g transform=\"translate(291.883535 239.238437)scale(0.1 -0.1)\">\n       <use xlink:href=\"#DejaVuSans-52\"/>\n      </g>\n     </g>\n    </g>\n    <g id=\"xtick_8\">\n     <g id=\"line2d_8\">\n      <g>\n       <use style=\"stroke:#000000;stroke-width:0.8;\" x=\"333.44367\" xlink:href=\"#mc3f55fd33b\" y=\"224.64\"/>\n      </g>\n     </g>\n     <g id=\"text_8\">\n      <!-- 6 -->\n      <g transform=\"translate(330.26242 239.238437)scale(0.1 -0.1)\">\n       <use xlink:href=\"#DejaVuSans-54\"/>\n      </g>\n     </g>\n    </g>\n    <g id=\"xtick_9\">\n     <g id=\"line2d_9\">\n      <g>\n       <use style=\"stroke:#000000;stroke-width:0.8;\" x=\"371.822556\" xlink:href=\"#mc3f55fd33b\" y=\"224.64\"/>\n      </g>\n     </g>\n     <g id=\"text_9\">\n      <!-- 8 -->\n      <g transform=\"translate(368.641306 239.238437)scale(0.1 -0.1)\">\n       <use xlink:href=\"#DejaVuSans-56\"/>\n      </g>\n     </g>\n    </g>\n   </g>\n   <g id=\"matplotlib.axis_2\">\n    <g id=\"ytick_1\">\n     <g id=\"line2d_10\">\n      <defs>\n       <path d=\"M 0 0 \nL -3.5 0 \n\" id=\"mfd8f0952c4\" style=\"stroke:#000000;stroke-width:0.8;\"/>\n      </defs>\n      <g>\n       <use style=\"stroke:#000000;stroke-width:0.8;\" x=\"44.845313\" xlink:href=\"#mfd8f0952c4\" y=\"219.944963\"/>\n      </g>\n     </g>\n     <g id=\"text_10\">\n      <!-- −15.0 -->\n      <defs>\n       <path d=\"M 12.40625 8.296875 \nL 28.515625 8.296875 \nL 28.515625 63.921875 \nL 10.984375 60.40625 \nL 10.984375 69.390625 \nL 28.421875 72.90625 \nL 38.28125 72.90625 \nL 38.28125 8.296875 \nL 54.390625 8.296875 \nL 54.390625 0 \nL 12.40625 0 \nz\n\" id=\"DejaVuSans-49\"/>\n       <path d=\"M 10.796875 72.90625 \nL 49.515625 72.90625 \nL 49.515625 64.59375 \nL 19.828125 64.59375 \nL 19.828125 46.734375 \nQ 21.96875 47.46875 24.109375 47.828125 \nQ 26.265625 48.1875 28.421875 48.1875 \nQ 40.625 48.1875 47.75 41.5 \nQ 54.890625 34.8125 54.890625 23.390625 \nQ 54.890625 11.625 47.5625 5.09375 \nQ 40.234375 -1.421875 26.90625 -1.421875 \nQ 22.3125 -1.421875 17.546875 -0.640625 \nQ 12.796875 0.140625 7.71875 1.703125 \nL 7.71875 11.625 \nQ 12.109375 9.234375 16.796875 8.0625 \nQ 21.484375 6.890625 26.703125 6.890625 \nQ 35.15625 6.890625 40.078125 11.328125 \nQ 45.015625 15.765625 45.015625 23.390625 \nQ 45.015625 31 40.078125 35.4375 \nQ 35.15625 39.890625 26.703125 39.890625 \nQ 22.75 39.890625 18.8125 39.015625 \nQ 14.890625 38.140625 10.796875 36.28125 \nz\n\" id=\"DejaVuSans-53\"/>\n       <path d=\"M 10.6875 12.40625 \nL 21 12.40625 \nL 21 0 \nL 10.6875 0 \nz\n\" id=\"DejaVuSans-46\"/>\n      </defs>\n      <g transform=\"translate(7.2 223.744181)scale(0.1 -0.1)\">\n       <use xlink:href=\"#DejaVuSans-8722\"/>\n       <use x=\"83.789062\" xlink:href=\"#DejaVuSans-49\"/>\n       <use x=\"147.412109\" xlink:href=\"#DejaVuSans-53\"/>\n       <use x=\"211.035156\" xlink:href=\"#DejaVuSans-46\"/>\n       <use x=\"242.822266\" xlink:href=\"#DejaVuSans-48\"/>\n      </g>\n     </g>\n    </g>\n    <g id=\"ytick_2\">\n     <g id=\"line2d_11\">\n      <g>\n       <use style=\"stroke:#000000;stroke-width:0.8;\" x=\"44.845313\" xlink:href=\"#mfd8f0952c4\" y=\"193.344714\"/>\n      </g>\n     </g>\n     <g id=\"text_11\">\n      <!-- −12.5 -->\n      <g transform=\"translate(7.2 197.143933)scale(0.1 -0.1)\">\n       <use xlink:href=\"#DejaVuSans-8722\"/>\n       <use x=\"83.789062\" xlink:href=\"#DejaVuSans-49\"/>\n       <use x=\"147.412109\" xlink:href=\"#DejaVuSans-50\"/>\n       <use x=\"211.035156\" xlink:href=\"#DejaVuSans-46\"/>\n       <use x=\"242.822266\" xlink:href=\"#DejaVuSans-53\"/>\n      </g>\n     </g>\n    </g>\n    <g id=\"ytick_3\">\n     <g id=\"line2d_12\">\n      <g>\n       <use style=\"stroke:#000000;stroke-width:0.8;\" x=\"44.845313\" xlink:href=\"#mfd8f0952c4\" y=\"166.744466\"/>\n      </g>\n     </g>\n     <g id=\"text_12\">\n      <!-- −10.0 -->\n      <g transform=\"translate(7.2 170.543685)scale(0.1 -0.1)\">\n       <use xlink:href=\"#DejaVuSans-8722\"/>\n       <use x=\"83.789062\" xlink:href=\"#DejaVuSans-49\"/>\n       <use x=\"147.412109\" xlink:href=\"#DejaVuSans-48\"/>\n       <use x=\"211.035156\" xlink:href=\"#DejaVuSans-46\"/>\n       <use x=\"242.822266\" xlink:href=\"#DejaVuSans-48\"/>\n      </g>\n     </g>\n    </g>\n    <g id=\"ytick_4\">\n     <g id=\"line2d_13\">\n      <g>\n       <use style=\"stroke:#000000;stroke-width:0.8;\" x=\"44.845313\" xlink:href=\"#mfd8f0952c4\" y=\"140.144218\"/>\n      </g>\n     </g>\n     <g id=\"text_13\">\n      <!-- −7.5 -->\n      <defs>\n       <path d=\"M 8.203125 72.90625 \nL 55.078125 72.90625 \nL 55.078125 68.703125 \nL 28.609375 0 \nL 18.3125 0 \nL 43.21875 64.59375 \nL 8.203125 64.59375 \nz\n\" id=\"DejaVuSans-55\"/>\n      </defs>\n      <g transform=\"translate(13.5625 143.943437)scale(0.1 -0.1)\">\n       <use xlink:href=\"#DejaVuSans-8722\"/>\n       <use x=\"83.789062\" xlink:href=\"#DejaVuSans-55\"/>\n       <use x=\"147.412109\" xlink:href=\"#DejaVuSans-46\"/>\n       <use x=\"179.199219\" xlink:href=\"#DejaVuSans-53\"/>\n      </g>\n     </g>\n    </g>\n    <g id=\"ytick_5\">\n     <g id=\"line2d_14\">\n      <g>\n       <use style=\"stroke:#000000;stroke-width:0.8;\" x=\"44.845313\" xlink:href=\"#mfd8f0952c4\" y=\"113.54397\"/>\n      </g>\n     </g>\n     <g id=\"text_14\">\n      <!-- −5.0 -->\n      <g transform=\"translate(13.5625 117.343189)scale(0.1 -0.1)\">\n       <use xlink:href=\"#DejaVuSans-8722\"/>\n       <use x=\"83.789062\" xlink:href=\"#DejaVuSans-53\"/>\n       <use x=\"147.412109\" xlink:href=\"#DejaVuSans-46\"/>\n       <use x=\"179.199219\" xlink:href=\"#DejaVuSans-48\"/>\n      </g>\n     </g>\n    </g>\n    <g id=\"ytick_6\">\n     <g id=\"line2d_15\">\n      <g>\n       <use style=\"stroke:#000000;stroke-width:0.8;\" x=\"44.845313\" xlink:href=\"#mfd8f0952c4\" y=\"86.943722\"/>\n      </g>\n     </g>\n     <g id=\"text_15\">\n      <!-- −2.5 -->\n      <g transform=\"translate(13.5625 90.742941)scale(0.1 -0.1)\">\n       <use xlink:href=\"#DejaVuSans-8722\"/>\n       <use x=\"83.789062\" xlink:href=\"#DejaVuSans-50\"/>\n       <use x=\"147.412109\" xlink:href=\"#DejaVuSans-46\"/>\n       <use x=\"179.199219\" xlink:href=\"#DejaVuSans-53\"/>\n      </g>\n     </g>\n    </g>\n    <g id=\"ytick_7\">\n     <g id=\"line2d_16\">\n      <g>\n       <use style=\"stroke:#000000;stroke-width:0.8;\" x=\"44.845313\" xlink:href=\"#mfd8f0952c4\" y=\"60.343474\"/>\n      </g>\n     </g>\n     <g id=\"text_16\">\n      <!-- 0.0 -->\n      <g transform=\"translate(21.942188 64.142693)scale(0.1 -0.1)\">\n       <use xlink:href=\"#DejaVuSans-48\"/>\n       <use x=\"63.623047\" xlink:href=\"#DejaVuSans-46\"/>\n       <use x=\"95.410156\" xlink:href=\"#DejaVuSans-48\"/>\n      </g>\n     </g>\n    </g>\n    <g id=\"ytick_8\">\n     <g id=\"line2d_17\">\n      <g>\n       <use style=\"stroke:#000000;stroke-width:0.8;\" x=\"44.845313\" xlink:href=\"#mfd8f0952c4\" y=\"33.743226\"/>\n      </g>\n     </g>\n     <g id=\"text_17\">\n      <!-- 2.5 -->\n      <g transform=\"translate(21.942188 37.542445)scale(0.1 -0.1)\">\n       <use xlink:href=\"#DejaVuSans-50\"/>\n       <use x=\"63.623047\" xlink:href=\"#DejaVuSans-46\"/>\n       <use x=\"95.410156\" xlink:href=\"#DejaVuSans-53\"/>\n      </g>\n     </g>\n    </g>\n   </g>\n   <g id=\"patch_3\">\n    <path d=\"M 44.845313 224.64 \nL 44.845313 7.2 \n\" style=\"fill:none;stroke:#000000;stroke-linecap:square;stroke-linejoin:miter;stroke-width:0.8;\"/>\n   </g>\n   <g id=\"patch_4\">\n    <path d=\"M 379.645313 224.64 \nL 379.645313 7.2 \n\" style=\"fill:none;stroke:#000000;stroke-linecap:square;stroke-linejoin:miter;stroke-width:0.8;\"/>\n   </g>\n   <g id=\"patch_5\">\n    <path d=\"M 44.845313 224.64 \nL 379.645313 224.64 \n\" style=\"fill:none;stroke:#000000;stroke-linecap:square;stroke-linejoin:miter;stroke-width:0.8;\"/>\n   </g>\n   <g id=\"patch_6\">\n    <path d=\"M 44.845313 7.2 \nL 379.645313 7.2 \n\" style=\"fill:none;stroke:#000000;stroke-linecap:square;stroke-linejoin:miter;stroke-width:0.8;\"/>\n   </g>\n  </g>\n </g>\n <defs>\n  <clipPath id=\"paded389488\">\n   <rect height=\"217.44\" width=\"334.8\" x=\"44.845313\" y=\"7.2\"/>\n  </clipPath>\n </defs>\n</svg>\n"
          },
          "metadata": {
            "needs_background": "light"
          }
        }
      ],
      "source": [
        "# prepare dataset\n",
        "X_train, y_train, X_test, y_test = prepare_data()\n"
      ]
    },
    {
      "cell_type": "markdown",
      "id": "780221cc-5e13-4fd9-a940-38d43232c17b",
      "metadata": {
        "id": "780221cc-5e13-4fd9-a940-38d43232c17b"
      },
      "source": [
        "- **Create a model with:**\n",
        "    -  1 hidden dense layer (50 neurons), activation relu, , kernel_initializer he_uniform\n",
        "    - 1 output layer\n",
        "    - compile the model with SGD (learning rate 0.01 and momentum 0.9) optimizer and categorical crossentropy and accuracy inside build function"
      ]
    },
    {
      "cell_type": "code",
      "execution_count": 135,
      "id": "72840561-d883-4b04-85c0-aa3c25d88767",
      "metadata": {
        "id": "72840561-d883-4b04-85c0-aa3c25d88767"
      },
      "outputs": [],
      "source": [
        "def build_model():\n",
        "    \n",
        "    ##### YOUR CODE HERE\n",
        "    # define model\n",
        "    model = Sequential()\n",
        "\n",
        "    # 1st layer\n",
        "    model.add(Dense(50, kernel_initializer='he_uniform' ,  activation='relu'))\n",
        "\n",
        "    # output layer\n",
        "    model.add(Dense(3, activation='sigmoid'))\n",
        "\n",
        "    # compile model\n",
        "    model.compile(loss='categorical_crossentropy',\n",
        "                  optimizer=tf.keras.optimizers.SGD(learning_rate=0.01, momentum=0.9),\n",
        "                   metrics=['accuracy'])\n",
        "    \n",
        "    return model"
      ]
    },
    {
      "cell_type": "markdown",
      "id": "9f77f064-219f-4130-95d6-6f55c500d8aa",
      "metadata": {
        "id": "9f77f064-219f-4130-95d6-6f55c500d8aa"
      },
      "source": [
        "- Create a function to fit and build the model with different batch sizes"
      ]
    },
    {
      "cell_type": "markdown",
      "id": "36e5cb37-cf36-4f8f-9d2f-2adbeeea41bb",
      "metadata": {
        "id": "36e5cb37-cf36-4f8f-9d2f-2adbeeea41bb"
      },
      "source": [
        "Use epochs = 125"
      ]
    },
    {
      "cell_type": "code",
      "execution_count": 136,
      "id": "8b6d1185-925a-4a4e-9815-29a3ca1a62cf",
      "metadata": {
        "id": "8b6d1185-925a-4a4e-9815-29a3ca1a62cf"
      },
      "outputs": [],
      "source": [
        "# fit a model and plot learning curve\n",
        "def fit_model(X_train, y_train, X_test, y_test, n_batch):\n",
        "    ##### YOUR CODE HERE\n",
        "    # build model\n",
        "    model = build_model()\n",
        "\n",
        "    # fit model\n",
        "    history = model.fit( x=X_train,y=y_train,batch_size=n_batch,epochs=125,validation_split=0.15)\n",
        "    model.evaluate(X_test, y_test, verbose=2)   \n",
        "    \n",
        "    return history"
      ]
    },
    {
      "cell_type": "markdown",
      "id": "b2539b4f-8829-4df1-9a45-a9c438a37baf",
      "metadata": {
        "id": "b2539b4f-8829-4df1-9a45-a9c438a37baf"
      },
      "source": [
        "### Hyperparameter Tuning"
      ]
    },
    {
      "cell_type": "markdown",
      "id": "fb875222-fd78-4ed5-a33f-a9c085bd5534",
      "metadata": {
        "jp-MarkdownHeadingCollapsed": true,
        "tags": [],
        "id": "fb875222-fd78-4ed5-a33f-a9c085bd5534"
      },
      "source": [
        "#### Batch size"
      ]
    },
    {
      "cell_type": "markdown",
      "id": "3c2c8424-0b59-45be-8bc3-0f310fb8ed30",
      "metadata": {
        "id": "3c2c8424-0b59-45be-8bc3-0f310fb8ed30"
      },
      "source": [
        "##### Size =  1"
      ]
    },
    {
      "cell_type": "markdown",
      "id": "77369330-70e7-41eb-a8ff-40eae827ea7d",
      "metadata": {
        "id": "77369330-70e7-41eb-a8ff-40eae827ea7d"
      },
      "source": [
        "10. **train for 1 batch size**"
      ]
    },
    {
      "cell_type": "code",
      "execution_count": 137,
      "id": "a44f1126-7897-4cd8-bdce-b804948df69d",
      "metadata": {
        "id": "a44f1126-7897-4cd8-bdce-b804948df69d",
        "colab": {
          "base_uri": "https://localhost:8080/"
        },
        "outputId": "e8285e98-a572-426b-c072-93f425d52983"
      },
      "outputs": [
        {
          "output_type": "stream",
          "name": "stdout",
          "text": [
            "Epoch 1/125\n",
            "425/425 [==============================] - 2s 3ms/step - loss: 1.8116 - accuracy: 0.4847 - val_loss: 1.4366 - val_accuracy: 0.5867\n",
            "Epoch 2/125\n",
            "425/425 [==============================] - 1s 3ms/step - loss: 1.0409 - accuracy: 0.4776 - val_loss: 1.1096 - val_accuracy: 0.4533\n",
            "Epoch 3/125\n",
            "425/425 [==============================] - 1s 3ms/step - loss: 0.9581 - accuracy: 0.4753 - val_loss: 0.9185 - val_accuracy: 0.5733\n",
            "Epoch 4/125\n",
            "425/425 [==============================] - 1s 3ms/step - loss: 0.9906 - accuracy: 0.4424 - val_loss: 0.9856 - val_accuracy: 0.5867\n",
            "Epoch 5/125\n",
            "425/425 [==============================] - 1s 2ms/step - loss: 0.9771 - accuracy: 0.5224 - val_loss: 0.8821 - val_accuracy: 0.4533\n",
            "Epoch 6/125\n",
            "425/425 [==============================] - 1s 3ms/step - loss: 0.9341 - accuracy: 0.5388 - val_loss: 1.0147 - val_accuracy: 0.4267\n",
            "Epoch 7/125\n",
            "425/425 [==============================] - 1s 3ms/step - loss: 0.9323 - accuracy: 0.5365 - val_loss: 1.0183 - val_accuracy: 0.7333\n",
            "Epoch 8/125\n",
            "425/425 [==============================] - 1s 3ms/step - loss: 0.9376 - accuracy: 0.5529 - val_loss: 0.9483 - val_accuracy: 0.6267\n",
            "Epoch 9/125\n",
            "425/425 [==============================] - 1s 2ms/step - loss: 0.8768 - accuracy: 0.6000 - val_loss: 0.8746 - val_accuracy: 0.6933\n",
            "Epoch 10/125\n",
            "425/425 [==============================] - 1s 3ms/step - loss: 0.9022 - accuracy: 0.5435 - val_loss: 0.6876 - val_accuracy: 0.7200\n",
            "Epoch 11/125\n",
            "425/425 [==============================] - 1s 3ms/step - loss: 0.8721 - accuracy: 0.5671 - val_loss: 1.1065 - val_accuracy: 0.4667\n",
            "Epoch 12/125\n",
            "425/425 [==============================] - 1s 2ms/step - loss: 1.0412 - accuracy: 0.4871 - val_loss: 1.0045 - val_accuracy: 0.5867\n",
            "Epoch 13/125\n",
            "425/425 [==============================] - 1s 2ms/step - loss: 0.9640 - accuracy: 0.4824 - val_loss: 0.8558 - val_accuracy: 0.6133\n",
            "Epoch 14/125\n",
            "425/425 [==============================] - 1s 3ms/step - loss: 0.9073 - accuracy: 0.5553 - val_loss: 1.0303 - val_accuracy: 0.5733\n",
            "Epoch 15/125\n",
            "425/425 [==============================] - 1s 3ms/step - loss: 0.8491 - accuracy: 0.5929 - val_loss: 0.6611 - val_accuracy: 0.7200\n",
            "Epoch 16/125\n",
            "425/425 [==============================] - 1s 3ms/step - loss: 0.9509 - accuracy: 0.5647 - val_loss: 1.2431 - val_accuracy: 0.5733\n",
            "Epoch 17/125\n",
            "425/425 [==============================] - 1s 3ms/step - loss: 0.9413 - accuracy: 0.5341 - val_loss: 1.1217 - val_accuracy: 0.6133\n",
            "Epoch 18/125\n",
            "425/425 [==============================] - 1s 2ms/step - loss: 0.9517 - accuracy: 0.4871 - val_loss: 0.9166 - val_accuracy: 0.6800\n",
            "Epoch 19/125\n",
            "425/425 [==============================] - 1s 3ms/step - loss: 0.7181 - accuracy: 0.6800 - val_loss: 1.0418 - val_accuracy: 0.5867\n",
            "Epoch 20/125\n",
            "425/425 [==============================] - 1s 3ms/step - loss: 0.9774 - accuracy: 0.5365 - val_loss: 0.9545 - val_accuracy: 0.4533\n",
            "Epoch 21/125\n",
            "425/425 [==============================] - 1s 2ms/step - loss: 1.0376 - accuracy: 0.5059 - val_loss: 0.9440 - val_accuracy: 0.4667\n",
            "Epoch 22/125\n",
            "425/425 [==============================] - 1s 3ms/step - loss: 0.9193 - accuracy: 0.5482 - val_loss: 0.8393 - val_accuracy: 0.5867\n",
            "Epoch 23/125\n",
            "425/425 [==============================] - 1s 2ms/step - loss: 0.9282 - accuracy: 0.5435 - val_loss: 1.0492 - val_accuracy: 0.5467\n",
            "Epoch 24/125\n",
            "425/425 [==============================] - 1s 3ms/step - loss: 0.9189 - accuracy: 0.5294 - val_loss: 1.0609 - val_accuracy: 0.6667\n",
            "Epoch 25/125\n",
            "425/425 [==============================] - 1s 3ms/step - loss: 0.8517 - accuracy: 0.6259 - val_loss: 1.1732 - val_accuracy: 0.5733\n",
            "Epoch 26/125\n",
            "425/425 [==============================] - 1s 3ms/step - loss: 0.8578 - accuracy: 0.6024 - val_loss: 1.0598 - val_accuracy: 0.7067\n",
            "Epoch 27/125\n",
            "425/425 [==============================] - 1s 2ms/step - loss: 0.9237 - accuracy: 0.5882 - val_loss: 1.0043 - val_accuracy: 0.6400\n",
            "Epoch 28/125\n",
            "425/425 [==============================] - 1s 3ms/step - loss: 0.8845 - accuracy: 0.6000 - val_loss: 1.2269 - val_accuracy: 0.6400\n",
            "Epoch 29/125\n",
            "425/425 [==============================] - 1s 2ms/step - loss: 0.9075 - accuracy: 0.6353 - val_loss: 1.3063 - val_accuracy: 0.5600\n",
            "Epoch 30/125\n",
            "425/425 [==============================] - 1s 3ms/step - loss: 0.8446 - accuracy: 0.5906 - val_loss: 1.1055 - val_accuracy: 0.5600\n",
            "Epoch 31/125\n",
            "425/425 [==============================] - 1s 3ms/step - loss: 0.9811 - accuracy: 0.5106 - val_loss: 0.9497 - val_accuracy: 0.5867\n",
            "Epoch 32/125\n",
            "425/425 [==============================] - 1s 2ms/step - loss: 0.8840 - accuracy: 0.6000 - val_loss: 0.6008 - val_accuracy: 0.7200\n",
            "Epoch 33/125\n",
            "425/425 [==============================] - 1s 3ms/step - loss: 0.8508 - accuracy: 0.5859 - val_loss: 1.4355 - val_accuracy: 0.3733\n",
            "Epoch 34/125\n",
            "425/425 [==============================] - 1s 3ms/step - loss: 0.9687 - accuracy: 0.5694 - val_loss: 1.3756 - val_accuracy: 0.6400\n",
            "Epoch 35/125\n",
            "425/425 [==============================] - 1s 3ms/step - loss: 0.8191 - accuracy: 0.6447 - val_loss: 0.8039 - val_accuracy: 0.6800\n",
            "Epoch 36/125\n",
            "425/425 [==============================] - 1s 3ms/step - loss: 0.7968 - accuracy: 0.6376 - val_loss: 0.9806 - val_accuracy: 0.7200\n",
            "Epoch 37/125\n",
            "425/425 [==============================] - 1s 3ms/step - loss: 0.8468 - accuracy: 0.6282 - val_loss: 1.1240 - val_accuracy: 0.6267\n",
            "Epoch 38/125\n",
            "425/425 [==============================] - 1s 3ms/step - loss: 0.9526 - accuracy: 0.5506 - val_loss: 1.0752 - val_accuracy: 0.6800\n",
            "Epoch 39/125\n",
            "425/425 [==============================] - 1s 3ms/step - loss: 0.9691 - accuracy: 0.5600 - val_loss: 0.9894 - val_accuracy: 0.4667\n",
            "Epoch 40/125\n",
            "425/425 [==============================] - 1s 2ms/step - loss: 0.9717 - accuracy: 0.4894 - val_loss: 0.9425 - val_accuracy: 0.5733\n",
            "Epoch 41/125\n",
            "425/425 [==============================] - 1s 3ms/step - loss: 0.8659 - accuracy: 0.5694 - val_loss: 1.0599 - val_accuracy: 0.7067\n",
            "Epoch 42/125\n",
            "425/425 [==============================] - 1s 3ms/step - loss: 0.8983 - accuracy: 0.5506 - val_loss: 0.8263 - val_accuracy: 0.6533\n",
            "Epoch 43/125\n",
            "425/425 [==============================] - 1s 4ms/step - loss: 0.9946 - accuracy: 0.6024 - val_loss: 0.7969 - val_accuracy: 0.6933\n",
            "Epoch 44/125\n",
            "425/425 [==============================] - 1s 3ms/step - loss: 0.8517 - accuracy: 0.6024 - val_loss: 0.8011 - val_accuracy: 0.6000\n",
            "Epoch 45/125\n",
            "425/425 [==============================] - 1s 3ms/step - loss: 1.0277 - accuracy: 0.4800 - val_loss: 0.9186 - val_accuracy: 0.6000\n",
            "Epoch 46/125\n",
            "425/425 [==============================] - 1s 3ms/step - loss: 0.9512 - accuracy: 0.5176 - val_loss: 0.8891 - val_accuracy: 0.6000\n",
            "Epoch 47/125\n",
            "425/425 [==============================] - 1s 3ms/step - loss: 0.8059 - accuracy: 0.6541 - val_loss: 0.8196 - val_accuracy: 0.6800\n",
            "Epoch 48/125\n",
            "425/425 [==============================] - 1s 3ms/step - loss: 0.8124 - accuracy: 0.6282 - val_loss: 0.8118 - val_accuracy: 0.6000\n",
            "Epoch 49/125\n",
            "425/425 [==============================] - 1s 3ms/step - loss: 0.9160 - accuracy: 0.5741 - val_loss: 0.8169 - val_accuracy: 0.6933\n",
            "Epoch 50/125\n",
            "425/425 [==============================] - 1s 3ms/step - loss: 0.8571 - accuracy: 0.6141 - val_loss: 1.0584 - val_accuracy: 0.6400\n",
            "Epoch 51/125\n",
            "425/425 [==============================] - 1s 3ms/step - loss: 0.8736 - accuracy: 0.5953 - val_loss: 0.8349 - val_accuracy: 0.6533\n",
            "Epoch 52/125\n",
            "425/425 [==============================] - 1s 3ms/step - loss: 0.8646 - accuracy: 0.6447 - val_loss: 0.6875 - val_accuracy: 0.6933\n",
            "Epoch 53/125\n",
            "425/425 [==============================] - 1s 3ms/step - loss: 0.7699 - accuracy: 0.6682 - val_loss: 1.5280 - val_accuracy: 0.6533\n",
            "Epoch 54/125\n",
            "425/425 [==============================] - 1s 3ms/step - loss: 0.7942 - accuracy: 0.6659 - val_loss: 1.0308 - val_accuracy: 0.7467\n",
            "Epoch 55/125\n",
            "425/425 [==============================] - 1s 3ms/step - loss: 0.8271 - accuracy: 0.6565 - val_loss: 1.0643 - val_accuracy: 0.5867\n",
            "Epoch 56/125\n",
            "425/425 [==============================] - 1s 2ms/step - loss: 0.8965 - accuracy: 0.6235 - val_loss: 1.2225 - val_accuracy: 0.7067\n",
            "Epoch 57/125\n",
            "425/425 [==============================] - 1s 3ms/step - loss: 0.8772 - accuracy: 0.6424 - val_loss: 1.0858 - val_accuracy: 0.6800\n",
            "Epoch 58/125\n",
            "425/425 [==============================] - 1s 3ms/step - loss: 0.8437 - accuracy: 0.6259 - val_loss: 1.0684 - val_accuracy: 0.6400\n",
            "Epoch 59/125\n",
            "425/425 [==============================] - 1s 3ms/step - loss: 0.8532 - accuracy: 0.6235 - val_loss: 0.8796 - val_accuracy: 0.6400\n",
            "Epoch 60/125\n",
            "425/425 [==============================] - 1s 2ms/step - loss: 0.8426 - accuracy: 0.6141 - val_loss: 1.1456 - val_accuracy: 0.5867\n",
            "Epoch 61/125\n",
            "425/425 [==============================] - 1s 3ms/step - loss: 0.8776 - accuracy: 0.6071 - val_loss: 1.0196 - val_accuracy: 0.5600\n",
            "Epoch 62/125\n",
            "425/425 [==============================] - 1s 3ms/step - loss: 0.9859 - accuracy: 0.5435 - val_loss: 1.3398 - val_accuracy: 0.6667\n",
            "Epoch 63/125\n",
            "425/425 [==============================] - 1s 3ms/step - loss: 0.7827 - accuracy: 0.6518 - val_loss: 0.7282 - val_accuracy: 0.7333\n",
            "Epoch 64/125\n",
            "425/425 [==============================] - 1s 3ms/step - loss: 0.9357 - accuracy: 0.5882 - val_loss: 1.7024 - val_accuracy: 0.5733\n",
            "Epoch 65/125\n",
            "425/425 [==============================] - 1s 2ms/step - loss: 0.9840 - accuracy: 0.4871 - val_loss: 1.2338 - val_accuracy: 0.5467\n",
            "Epoch 66/125\n",
            "425/425 [==============================] - 1s 3ms/step - loss: 0.8829 - accuracy: 0.5365 - val_loss: 1.0178 - val_accuracy: 0.6000\n",
            "Epoch 67/125\n",
            "425/425 [==============================] - 1s 3ms/step - loss: 0.7730 - accuracy: 0.6259 - val_loss: 0.8528 - val_accuracy: 0.6800\n",
            "Epoch 68/125\n",
            "425/425 [==============================] - 1s 3ms/step - loss: 0.7853 - accuracy: 0.6659 - val_loss: 1.2084 - val_accuracy: 0.5600\n",
            "Epoch 69/125\n",
            "425/425 [==============================] - 1s 3ms/step - loss: 0.8070 - accuracy: 0.6400 - val_loss: 0.7759 - val_accuracy: 0.6533\n",
            "Epoch 70/125\n",
            "425/425 [==============================] - 1s 3ms/step - loss: 0.8742 - accuracy: 0.5600 - val_loss: 0.8936 - val_accuracy: 0.7067\n",
            "Epoch 71/125\n",
            "425/425 [==============================] - 1s 3ms/step - loss: 0.9309 - accuracy: 0.5718 - val_loss: 1.0563 - val_accuracy: 0.5867\n",
            "Epoch 72/125\n",
            "425/425 [==============================] - 1s 3ms/step - loss: 0.9159 - accuracy: 0.4988 - val_loss: 1.0330 - val_accuracy: 0.6000\n",
            "Epoch 73/125\n",
            "425/425 [==============================] - 1s 3ms/step - loss: 0.7782 - accuracy: 0.6329 - val_loss: 0.8659 - val_accuracy: 0.6533\n",
            "Epoch 74/125\n",
            "425/425 [==============================] - 1s 2ms/step - loss: 0.9874 - accuracy: 0.5624 - val_loss: 1.0590 - val_accuracy: 0.5733\n",
            "Epoch 75/125\n",
            "425/425 [==============================] - 1s 3ms/step - loss: 0.9458 - accuracy: 0.5035 - val_loss: 0.9854 - val_accuracy: 0.5733\n",
            "Epoch 76/125\n",
            "425/425 [==============================] - 1s 3ms/step - loss: 0.9223 - accuracy: 0.5224 - val_loss: 0.9408 - val_accuracy: 0.6133\n",
            "Epoch 77/125\n",
            "425/425 [==============================] - 1s 3ms/step - loss: 0.7919 - accuracy: 0.6282 - val_loss: 1.1177 - val_accuracy: 0.6933\n",
            "Epoch 78/125\n",
            "425/425 [==============================] - 1s 2ms/step - loss: 0.8364 - accuracy: 0.6188 - val_loss: 0.7132 - val_accuracy: 0.6933\n",
            "Epoch 79/125\n",
            "425/425 [==============================] - 1s 3ms/step - loss: 0.7790 - accuracy: 0.6282 - val_loss: 0.8956 - val_accuracy: 0.7200\n",
            "Epoch 80/125\n",
            "425/425 [==============================] - 1s 3ms/step - loss: 0.9133 - accuracy: 0.5929 - val_loss: 1.0348 - val_accuracy: 0.5333\n",
            "Epoch 81/125\n",
            "425/425 [==============================] - 1s 3ms/step - loss: 0.8956 - accuracy: 0.5812 - val_loss: 1.0062 - val_accuracy: 0.6133\n",
            "Epoch 82/125\n",
            "425/425 [==============================] - 1s 3ms/step - loss: 0.8684 - accuracy: 0.6047 - val_loss: 1.2460 - val_accuracy: 0.4400\n",
            "Epoch 83/125\n",
            "425/425 [==============================] - 1s 3ms/step - loss: 0.8393 - accuracy: 0.6000 - val_loss: 1.1978 - val_accuracy: 0.6800\n",
            "Epoch 84/125\n",
            "425/425 [==============================] - 1s 3ms/step - loss: 0.7827 - accuracy: 0.6776 - val_loss: 0.8808 - val_accuracy: 0.7067\n",
            "Epoch 85/125\n",
            "425/425 [==============================] - 1s 3ms/step - loss: 0.9000 - accuracy: 0.5929 - val_loss: 0.9073 - val_accuracy: 0.7600\n",
            "Epoch 86/125\n",
            "425/425 [==============================] - 1s 3ms/step - loss: 0.9707 - accuracy: 0.5459 - val_loss: 1.1394 - val_accuracy: 0.6000\n",
            "Epoch 87/125\n",
            "425/425 [==============================] - 1s 3ms/step - loss: 0.9237 - accuracy: 0.5553 - val_loss: 0.9857 - val_accuracy: 0.5600\n",
            "Epoch 88/125\n",
            "425/425 [==============================] - 1s 3ms/step - loss: 0.8558 - accuracy: 0.5412 - val_loss: 1.0219 - val_accuracy: 0.6000\n",
            "Epoch 89/125\n",
            "425/425 [==============================] - 1s 3ms/step - loss: 0.9117 - accuracy: 0.5812 - val_loss: 0.9561 - val_accuracy: 0.6000\n",
            "Epoch 90/125\n",
            "425/425 [==============================] - 1s 3ms/step - loss: 0.9222 - accuracy: 0.5318 - val_loss: 1.1170 - val_accuracy: 0.4400\n",
            "Epoch 91/125\n",
            "425/425 [==============================] - 1s 3ms/step - loss: 0.9458 - accuracy: 0.4965 - val_loss: 0.9357 - val_accuracy: 0.6533\n",
            "Epoch 92/125\n",
            "425/425 [==============================] - 1s 3ms/step - loss: 0.9138 - accuracy: 0.5835 - val_loss: 1.1680 - val_accuracy: 0.6267\n",
            "Epoch 93/125\n",
            "425/425 [==============================] - 1s 3ms/step - loss: 0.8160 - accuracy: 0.6565 - val_loss: 1.3168 - val_accuracy: 0.6667\n",
            "Epoch 94/125\n",
            "425/425 [==============================] - 1s 3ms/step - loss: 0.8312 - accuracy: 0.6424 - val_loss: 0.9487 - val_accuracy: 0.7600\n",
            "Epoch 95/125\n",
            "425/425 [==============================] - 1s 3ms/step - loss: 1.0173 - accuracy: 0.5435 - val_loss: 1.0096 - val_accuracy: 0.7067\n",
            "Epoch 96/125\n",
            "425/425 [==============================] - 1s 2ms/step - loss: 0.8971 - accuracy: 0.6118 - val_loss: 1.5130 - val_accuracy: 0.5600\n",
            "Epoch 97/125\n",
            "425/425 [==============================] - 1s 3ms/step - loss: 0.9124 - accuracy: 0.5835 - val_loss: 0.9394 - val_accuracy: 0.6400\n",
            "Epoch 98/125\n",
            "425/425 [==============================] - 1s 3ms/step - loss: 0.9762 - accuracy: 0.5318 - val_loss: 1.0036 - val_accuracy: 0.5733\n",
            "Epoch 99/125\n",
            "425/425 [==============================] - 1s 3ms/step - loss: 0.9681 - accuracy: 0.4988 - val_loss: 1.1614 - val_accuracy: 0.6000\n",
            "Epoch 100/125\n",
            "425/425 [==============================] - 1s 3ms/step - loss: 0.8665 - accuracy: 0.5812 - val_loss: 0.9636 - val_accuracy: 0.6667\n",
            "Epoch 101/125\n",
            "425/425 [==============================] - 1s 2ms/step - loss: 0.7792 - accuracy: 0.6682 - val_loss: 1.1127 - val_accuracy: 0.6667\n",
            "Epoch 102/125\n",
            "425/425 [==============================] - 1s 3ms/step - loss: 0.8509 - accuracy: 0.6282 - val_loss: 0.8014 - val_accuracy: 0.7200\n",
            "Epoch 103/125\n",
            "425/425 [==============================] - 1s 3ms/step - loss: 0.9228 - accuracy: 0.6165 - val_loss: 1.2608 - val_accuracy: 0.6133\n",
            "Epoch 104/125\n",
            "425/425 [==============================] - 1s 3ms/step - loss: 0.7750 - accuracy: 0.6235 - val_loss: 0.9301 - val_accuracy: 0.7333\n",
            "Epoch 105/125\n",
            "425/425 [==============================] - 1s 3ms/step - loss: 0.8288 - accuracy: 0.6471 - val_loss: 0.7760 - val_accuracy: 0.6800\n",
            "Epoch 106/125\n",
            "425/425 [==============================] - 1s 3ms/step - loss: 0.8468 - accuracy: 0.5882 - val_loss: 0.9402 - val_accuracy: 0.4667\n",
            "Epoch 107/125\n",
            "425/425 [==============================] - 1s 3ms/step - loss: 0.9264 - accuracy: 0.6071 - val_loss: 1.0490 - val_accuracy: 0.6000\n",
            "Epoch 108/125\n",
            "425/425 [==============================] - 1s 3ms/step - loss: 1.0548 - accuracy: 0.5882 - val_loss: 1.1133 - val_accuracy: 0.6667\n",
            "Epoch 109/125\n",
            "425/425 [==============================] - 1s 3ms/step - loss: 0.8338 - accuracy: 0.6518 - val_loss: 0.8015 - val_accuracy: 0.6800\n",
            "Epoch 110/125\n",
            "425/425 [==============================] - 1s 3ms/step - loss: 0.8994 - accuracy: 0.5694 - val_loss: 1.3844 - val_accuracy: 0.5733\n",
            "Epoch 111/125\n",
            "425/425 [==============================] - 1s 3ms/step - loss: 0.8825 - accuracy: 0.5835 - val_loss: 1.0478 - val_accuracy: 0.6133\n",
            "Epoch 112/125\n",
            "425/425 [==============================] - 1s 3ms/step - loss: 0.8007 - accuracy: 0.6659 - val_loss: 1.6485 - val_accuracy: 0.5733\n",
            "Epoch 113/125\n",
            "425/425 [==============================] - 1s 2ms/step - loss: 0.8497 - accuracy: 0.5929 - val_loss: 0.7866 - val_accuracy: 0.7067\n",
            "Epoch 114/125\n",
            "425/425 [==============================] - 1s 3ms/step - loss: 0.7914 - accuracy: 0.6235 - val_loss: 0.7532 - val_accuracy: 0.6933\n",
            "Epoch 115/125\n",
            "425/425 [==============================] - 1s 3ms/step - loss: 0.8629 - accuracy: 0.5859 - val_loss: 0.9929 - val_accuracy: 0.6133\n",
            "Epoch 116/125\n",
            "425/425 [==============================] - 1s 3ms/step - loss: 0.9387 - accuracy: 0.5035 - val_loss: 1.1668 - val_accuracy: 0.4400\n",
            "Epoch 117/125\n",
            "425/425 [==============================] - 1s 3ms/step - loss: 0.9307 - accuracy: 0.5247 - val_loss: 1.0316 - val_accuracy: 0.6133\n",
            "Epoch 118/125\n",
            "425/425 [==============================] - 1s 3ms/step - loss: 0.8854 - accuracy: 0.5765 - val_loss: 0.9360 - val_accuracy: 0.6267\n",
            "Epoch 119/125\n",
            "425/425 [==============================] - 1s 3ms/step - loss: 0.7758 - accuracy: 0.6400 - val_loss: 1.0800 - val_accuracy: 0.6800\n",
            "Epoch 120/125\n",
            "425/425 [==============================] - 1s 3ms/step - loss: 0.9285 - accuracy: 0.5976 - val_loss: 1.0970 - val_accuracy: 0.6267\n",
            "Epoch 121/125\n",
            "425/425 [==============================] - 1s 3ms/step - loss: 0.9348 - accuracy: 0.5506 - val_loss: 1.0620 - val_accuracy: 0.5867\n",
            "Epoch 122/125\n",
            "425/425 [==============================] - 1s 3ms/step - loss: 0.9672 - accuracy: 0.5059 - val_loss: 1.0819 - val_accuracy: 0.6000\n",
            "Epoch 123/125\n",
            "425/425 [==============================] - 1s 3ms/step - loss: 0.9553 - accuracy: 0.5553 - val_loss: 1.0860 - val_accuracy: 0.6267\n",
            "Epoch 124/125\n",
            "425/425 [==============================] - 1s 3ms/step - loss: 0.9164 - accuracy: 0.5388 - val_loss: 1.0018 - val_accuracy: 0.5867\n",
            "Epoch 125/125\n",
            "425/425 [==============================] - 1s 3ms/step - loss: 0.8857 - accuracy: 0.5459 - val_loss: 1.0014 - val_accuracy: 0.4667\n",
            "16/16 - 0s - loss: 0.8200 - accuracy: 0.5180 - 153ms/epoch - 10ms/step\n"
          ]
        }
      ],
      "source": [
        "### START CODE HERE ### \n",
        "batch_size=1\n",
        "history=fit_model(X_train, y_train, X_test, y_test, batch_size)\n",
        "###### END CODE HERE"
      ]
    },
    {
      "cell_type": "code",
      "execution_count": 138,
      "id": "022e2c92-7a62-49f9-aae2-790c5eae36e4",
      "metadata": {
        "tags": [],
        "id": "022e2c92-7a62-49f9-aae2-790c5eae36e4",
        "colab": {
          "base_uri": "https://localhost:8080/",
          "height": 464
        },
        "outputId": "468db0a6-a553-4cb3-c19c-cdafb443b17f"
      },
      "outputs": [
        {
          "output_type": "display_data",
          "data": {
            "text/plain": [
              "<Figure size 720x360 with 1 Axes>"
            ],
            "image/svg+xml": "<?xml version=\"1.0\" encoding=\"utf-8\" standalone=\"no\"?>\n<!DOCTYPE svg PUBLIC \"-//W3C//DTD SVG 1.1//EN\"\n  \"http://www.w3.org/Graphics/SVG/1.1/DTD/svg11.dtd\">\n<!-- Created with matplotlib (https://matplotlib.org/) -->\n<svg height=\"331.674375pt\" version=\"1.1\" viewBox=\"0 0 608.98125 331.674375\" width=\"608.98125pt\" xmlns=\"http://www.w3.org/2000/svg\" xmlns:xlink=\"http://www.w3.org/1999/xlink\">\n <defs>\n  <style type=\"text/css\">\n*{stroke-linecap:butt;stroke-linejoin:round;}\n  </style>\n </defs>\n <g id=\"figure_1\">\n  <g id=\"patch_1\">\n   <path d=\"M 0 331.674375 \nL 608.98125 331.674375 \nL 608.98125 0 \nL 0 0 \nz\n\" style=\"fill:none;\"/>\n  </g>\n  <g id=\"axes_1\">\n   <g id=\"patch_2\">\n    <path d=\"M 43.78125 294.118125 \nL 601.78125 294.118125 \nL 601.78125 22.318125 \nL 43.78125 22.318125 \nz\n\" style=\"fill:#ffffff;\"/>\n   </g>\n   <g id=\"matplotlib.axis_1\">\n    <g id=\"xtick_1\">\n     <g id=\"line2d_1\">\n      <defs>\n       <path d=\"M 0 0 \nL 0 3.5 \n\" id=\"mc18727b9e7\" style=\"stroke:#000000;stroke-width:0.8;\"/>\n      </defs>\n      <g>\n       <use style=\"stroke:#000000;stroke-width:0.8;\" x=\"69.144886\" xlink:href=\"#mc18727b9e7\" y=\"294.118125\"/>\n      </g>\n     </g>\n     <g id=\"text_1\">\n      <!-- 0 -->\n      <defs>\n       <path d=\"M 31.78125 66.40625 \nQ 24.171875 66.40625 20.328125 58.90625 \nQ 16.5 51.421875 16.5 36.375 \nQ 16.5 21.390625 20.328125 13.890625 \nQ 24.171875 6.390625 31.78125 6.390625 \nQ 39.453125 6.390625 43.28125 13.890625 \nQ 47.125 21.390625 47.125 36.375 \nQ 47.125 51.421875 43.28125 58.90625 \nQ 39.453125 66.40625 31.78125 66.40625 \nz\nM 31.78125 74.21875 \nQ 44.046875 74.21875 50.515625 64.515625 \nQ 56.984375 54.828125 56.984375 36.375 \nQ 56.984375 17.96875 50.515625 8.265625 \nQ 44.046875 -1.421875 31.78125 -1.421875 \nQ 19.53125 -1.421875 13.0625 8.265625 \nQ 6.59375 17.96875 6.59375 36.375 \nQ 6.59375 54.828125 13.0625 64.515625 \nQ 19.53125 74.21875 31.78125 74.21875 \nz\n\" id=\"DejaVuSans-48\"/>\n      </defs>\n      <g transform=\"translate(65.963636 308.716563)scale(0.1 -0.1)\">\n       <use xlink:href=\"#DejaVuSans-48\"/>\n      </g>\n     </g>\n    </g>\n    <g id=\"xtick_2\">\n     <g id=\"line2d_2\">\n      <g>\n       <use style=\"stroke:#000000;stroke-width:0.8;\" x=\"150.963068\" xlink:href=\"#mc18727b9e7\" y=\"294.118125\"/>\n      </g>\n     </g>\n     <g id=\"text_2\">\n      <!-- 20 -->\n      <defs>\n       <path d=\"M 19.1875 8.296875 \nL 53.609375 8.296875 \nL 53.609375 0 \nL 7.328125 0 \nL 7.328125 8.296875 \nQ 12.9375 14.109375 22.625 23.890625 \nQ 32.328125 33.6875 34.8125 36.53125 \nQ 39.546875 41.84375 41.421875 45.53125 \nQ 43.3125 49.21875 43.3125 52.78125 \nQ 43.3125 58.59375 39.234375 62.25 \nQ 35.15625 65.921875 28.609375 65.921875 \nQ 23.96875 65.921875 18.8125 64.3125 \nQ 13.671875 62.703125 7.8125 59.421875 \nL 7.8125 69.390625 \nQ 13.765625 71.78125 18.9375 73 \nQ 24.125 74.21875 28.421875 74.21875 \nQ 39.75 74.21875 46.484375 68.546875 \nQ 53.21875 62.890625 53.21875 53.421875 \nQ 53.21875 48.921875 51.53125 44.890625 \nQ 49.859375 40.875 45.40625 35.40625 \nQ 44.1875 33.984375 37.640625 27.21875 \nQ 31.109375 20.453125 19.1875 8.296875 \nz\n\" id=\"DejaVuSans-50\"/>\n      </defs>\n      <g transform=\"translate(144.600568 308.716563)scale(0.1 -0.1)\">\n       <use xlink:href=\"#DejaVuSans-50\"/>\n       <use x=\"63.623047\" xlink:href=\"#DejaVuSans-48\"/>\n      </g>\n     </g>\n    </g>\n    <g id=\"xtick_3\">\n     <g id=\"line2d_3\">\n      <g>\n       <use style=\"stroke:#000000;stroke-width:0.8;\" x=\"232.78125\" xlink:href=\"#mc18727b9e7\" y=\"294.118125\"/>\n      </g>\n     </g>\n     <g id=\"text_3\">\n      <!-- 40 -->\n      <defs>\n       <path d=\"M 37.796875 64.3125 \nL 12.890625 25.390625 \nL 37.796875 25.390625 \nz\nM 35.203125 72.90625 \nL 47.609375 72.90625 \nL 47.609375 25.390625 \nL 58.015625 25.390625 \nL 58.015625 17.1875 \nL 47.609375 17.1875 \nL 47.609375 0 \nL 37.796875 0 \nL 37.796875 17.1875 \nL 4.890625 17.1875 \nL 4.890625 26.703125 \nz\n\" id=\"DejaVuSans-52\"/>\n      </defs>\n      <g transform=\"translate(226.41875 308.716563)scale(0.1 -0.1)\">\n       <use xlink:href=\"#DejaVuSans-52\"/>\n       <use x=\"63.623047\" xlink:href=\"#DejaVuSans-48\"/>\n      </g>\n     </g>\n    </g>\n    <g id=\"xtick_4\">\n     <g id=\"line2d_4\">\n      <g>\n       <use style=\"stroke:#000000;stroke-width:0.8;\" x=\"314.599432\" xlink:href=\"#mc18727b9e7\" y=\"294.118125\"/>\n      </g>\n     </g>\n     <g id=\"text_4\">\n      <!-- 60 -->\n      <defs>\n       <path d=\"M 33.015625 40.375 \nQ 26.375 40.375 22.484375 35.828125 \nQ 18.609375 31.296875 18.609375 23.390625 \nQ 18.609375 15.53125 22.484375 10.953125 \nQ 26.375 6.390625 33.015625 6.390625 \nQ 39.65625 6.390625 43.53125 10.953125 \nQ 47.40625 15.53125 47.40625 23.390625 \nQ 47.40625 31.296875 43.53125 35.828125 \nQ 39.65625 40.375 33.015625 40.375 \nz\nM 52.59375 71.296875 \nL 52.59375 62.3125 \nQ 48.875 64.0625 45.09375 64.984375 \nQ 41.3125 65.921875 37.59375 65.921875 \nQ 27.828125 65.921875 22.671875 59.328125 \nQ 17.53125 52.734375 16.796875 39.40625 \nQ 19.671875 43.65625 24.015625 45.921875 \nQ 28.375 48.1875 33.59375 48.1875 \nQ 44.578125 48.1875 50.953125 41.515625 \nQ 57.328125 34.859375 57.328125 23.390625 \nQ 57.328125 12.15625 50.6875 5.359375 \nQ 44.046875 -1.421875 33.015625 -1.421875 \nQ 20.359375 -1.421875 13.671875 8.265625 \nQ 6.984375 17.96875 6.984375 36.375 \nQ 6.984375 53.65625 15.1875 63.9375 \nQ 23.390625 74.21875 37.203125 74.21875 \nQ 40.921875 74.21875 44.703125 73.484375 \nQ 48.484375 72.75 52.59375 71.296875 \nz\n\" id=\"DejaVuSans-54\"/>\n      </defs>\n      <g transform=\"translate(308.236932 308.716563)scale(0.1 -0.1)\">\n       <use xlink:href=\"#DejaVuSans-54\"/>\n       <use x=\"63.623047\" xlink:href=\"#DejaVuSans-48\"/>\n      </g>\n     </g>\n    </g>\n    <g id=\"xtick_5\">\n     <g id=\"line2d_5\">\n      <g>\n       <use style=\"stroke:#000000;stroke-width:0.8;\" x=\"396.417614\" xlink:href=\"#mc18727b9e7\" y=\"294.118125\"/>\n      </g>\n     </g>\n     <g id=\"text_5\">\n      <!-- 80 -->\n      <defs>\n       <path d=\"M 31.78125 34.625 \nQ 24.75 34.625 20.71875 30.859375 \nQ 16.703125 27.09375 16.703125 20.515625 \nQ 16.703125 13.921875 20.71875 10.15625 \nQ 24.75 6.390625 31.78125 6.390625 \nQ 38.8125 6.390625 42.859375 10.171875 \nQ 46.921875 13.96875 46.921875 20.515625 \nQ 46.921875 27.09375 42.890625 30.859375 \nQ 38.875 34.625 31.78125 34.625 \nz\nM 21.921875 38.8125 \nQ 15.578125 40.375 12.03125 44.71875 \nQ 8.5 49.078125 8.5 55.328125 \nQ 8.5 64.0625 14.71875 69.140625 \nQ 20.953125 74.21875 31.78125 74.21875 \nQ 42.671875 74.21875 48.875 69.140625 \nQ 55.078125 64.0625 55.078125 55.328125 \nQ 55.078125 49.078125 51.53125 44.71875 \nQ 48 40.375 41.703125 38.8125 \nQ 48.828125 37.15625 52.796875 32.3125 \nQ 56.78125 27.484375 56.78125 20.515625 \nQ 56.78125 9.90625 50.3125 4.234375 \nQ 43.84375 -1.421875 31.78125 -1.421875 \nQ 19.734375 -1.421875 13.25 4.234375 \nQ 6.78125 9.90625 6.78125 20.515625 \nQ 6.78125 27.484375 10.78125 32.3125 \nQ 14.796875 37.15625 21.921875 38.8125 \nz\nM 18.3125 54.390625 \nQ 18.3125 48.734375 21.84375 45.5625 \nQ 25.390625 42.390625 31.78125 42.390625 \nQ 38.140625 42.390625 41.71875 45.5625 \nQ 45.3125 48.734375 45.3125 54.390625 \nQ 45.3125 60.0625 41.71875 63.234375 \nQ 38.140625 66.40625 31.78125 66.40625 \nQ 25.390625 66.40625 21.84375 63.234375 \nQ 18.3125 60.0625 18.3125 54.390625 \nz\n\" id=\"DejaVuSans-56\"/>\n      </defs>\n      <g transform=\"translate(390.055114 308.716563)scale(0.1 -0.1)\">\n       <use xlink:href=\"#DejaVuSans-56\"/>\n       <use x=\"63.623047\" xlink:href=\"#DejaVuSans-48\"/>\n      </g>\n     </g>\n    </g>\n    <g id=\"xtick_6\">\n     <g id=\"line2d_6\">\n      <g>\n       <use style=\"stroke:#000000;stroke-width:0.8;\" x=\"478.235795\" xlink:href=\"#mc18727b9e7\" y=\"294.118125\"/>\n      </g>\n     </g>\n     <g id=\"text_6\">\n      <!-- 100 -->\n      <defs>\n       <path d=\"M 12.40625 8.296875 \nL 28.515625 8.296875 \nL 28.515625 63.921875 \nL 10.984375 60.40625 \nL 10.984375 69.390625 \nL 28.421875 72.90625 \nL 38.28125 72.90625 \nL 38.28125 8.296875 \nL 54.390625 8.296875 \nL 54.390625 0 \nL 12.40625 0 \nz\n\" id=\"DejaVuSans-49\"/>\n      </defs>\n      <g transform=\"translate(468.692045 308.716563)scale(0.1 -0.1)\">\n       <use xlink:href=\"#DejaVuSans-49\"/>\n       <use x=\"63.623047\" xlink:href=\"#DejaVuSans-48\"/>\n       <use x=\"127.246094\" xlink:href=\"#DejaVuSans-48\"/>\n      </g>\n     </g>\n    </g>\n    <g id=\"xtick_7\">\n     <g id=\"line2d_7\">\n      <g>\n       <use style=\"stroke:#000000;stroke-width:0.8;\" x=\"560.053977\" xlink:href=\"#mc18727b9e7\" y=\"294.118125\"/>\n      </g>\n     </g>\n     <g id=\"text_7\">\n      <!-- 120 -->\n      <g transform=\"translate(550.510227 308.716563)scale(0.1 -0.1)\">\n       <use xlink:href=\"#DejaVuSans-49\"/>\n       <use x=\"63.623047\" xlink:href=\"#DejaVuSans-50\"/>\n       <use x=\"127.246094\" xlink:href=\"#DejaVuSans-48\"/>\n      </g>\n     </g>\n    </g>\n    <g id=\"text_8\">\n     <!-- Epoch -->\n     <defs>\n      <path d=\"M 9.8125 72.90625 \nL 55.90625 72.90625 \nL 55.90625 64.59375 \nL 19.671875 64.59375 \nL 19.671875 43.015625 \nL 54.390625 43.015625 \nL 54.390625 34.71875 \nL 19.671875 34.71875 \nL 19.671875 8.296875 \nL 56.78125 8.296875 \nL 56.78125 0 \nL 9.8125 0 \nz\n\" id=\"DejaVuSans-69\"/>\n      <path d=\"M 18.109375 8.203125 \nL 18.109375 -20.796875 \nL 9.078125 -20.796875 \nL 9.078125 54.6875 \nL 18.109375 54.6875 \nL 18.109375 46.390625 \nQ 20.953125 51.265625 25.265625 53.625 \nQ 29.59375 56 35.59375 56 \nQ 45.5625 56 51.78125 48.09375 \nQ 58.015625 40.1875 58.015625 27.296875 \nQ 58.015625 14.40625 51.78125 6.484375 \nQ 45.5625 -1.421875 35.59375 -1.421875 \nQ 29.59375 -1.421875 25.265625 0.953125 \nQ 20.953125 3.328125 18.109375 8.203125 \nz\nM 48.6875 27.296875 \nQ 48.6875 37.203125 44.609375 42.84375 \nQ 40.53125 48.484375 33.40625 48.484375 \nQ 26.265625 48.484375 22.1875 42.84375 \nQ 18.109375 37.203125 18.109375 27.296875 \nQ 18.109375 17.390625 22.1875 11.75 \nQ 26.265625 6.109375 33.40625 6.109375 \nQ 40.53125 6.109375 44.609375 11.75 \nQ 48.6875 17.390625 48.6875 27.296875 \nz\n\" id=\"DejaVuSans-112\"/>\n      <path d=\"M 30.609375 48.390625 \nQ 23.390625 48.390625 19.1875 42.75 \nQ 14.984375 37.109375 14.984375 27.296875 \nQ 14.984375 17.484375 19.15625 11.84375 \nQ 23.34375 6.203125 30.609375 6.203125 \nQ 37.796875 6.203125 41.984375 11.859375 \nQ 46.1875 17.53125 46.1875 27.296875 \nQ 46.1875 37.015625 41.984375 42.703125 \nQ 37.796875 48.390625 30.609375 48.390625 \nz\nM 30.609375 56 \nQ 42.328125 56 49.015625 48.375 \nQ 55.71875 40.765625 55.71875 27.296875 \nQ 55.71875 13.875 49.015625 6.21875 \nQ 42.328125 -1.421875 30.609375 -1.421875 \nQ 18.84375 -1.421875 12.171875 6.21875 \nQ 5.515625 13.875 5.515625 27.296875 \nQ 5.515625 40.765625 12.171875 48.375 \nQ 18.84375 56 30.609375 56 \nz\n\" id=\"DejaVuSans-111\"/>\n      <path d=\"M 48.78125 52.59375 \nL 48.78125 44.1875 \nQ 44.96875 46.296875 41.140625 47.34375 \nQ 37.3125 48.390625 33.40625 48.390625 \nQ 24.65625 48.390625 19.8125 42.84375 \nQ 14.984375 37.3125 14.984375 27.296875 \nQ 14.984375 17.28125 19.8125 11.734375 \nQ 24.65625 6.203125 33.40625 6.203125 \nQ 37.3125 6.203125 41.140625 7.25 \nQ 44.96875 8.296875 48.78125 10.40625 \nL 48.78125 2.09375 \nQ 45.015625 0.34375 40.984375 -0.53125 \nQ 36.96875 -1.421875 32.421875 -1.421875 \nQ 20.0625 -1.421875 12.78125 6.34375 \nQ 5.515625 14.109375 5.515625 27.296875 \nQ 5.515625 40.671875 12.859375 48.328125 \nQ 20.21875 56 33.015625 56 \nQ 37.15625 56 41.109375 55.140625 \nQ 45.0625 54.296875 48.78125 52.59375 \nz\n\" id=\"DejaVuSans-99\"/>\n      <path d=\"M 54.890625 33.015625 \nL 54.890625 0 \nL 45.90625 0 \nL 45.90625 32.71875 \nQ 45.90625 40.484375 42.875 44.328125 \nQ 39.84375 48.1875 33.796875 48.1875 \nQ 26.515625 48.1875 22.3125 43.546875 \nQ 18.109375 38.921875 18.109375 30.90625 \nL 18.109375 0 \nL 9.078125 0 \nL 9.078125 75.984375 \nL 18.109375 75.984375 \nL 18.109375 46.1875 \nQ 21.34375 51.125 25.703125 53.5625 \nQ 30.078125 56 35.796875 56 \nQ 45.21875 56 50.046875 50.171875 \nQ 54.890625 44.34375 54.890625 33.015625 \nz\n\" id=\"DejaVuSans-104\"/>\n     </defs>\n     <g transform=\"translate(307.470312 322.394687)scale(0.1 -0.1)\">\n      <use xlink:href=\"#DejaVuSans-69\"/>\n      <use x=\"63.183594\" xlink:href=\"#DejaVuSans-112\"/>\n      <use x=\"126.660156\" xlink:href=\"#DejaVuSans-111\"/>\n      <use x=\"187.841797\" xlink:href=\"#DejaVuSans-99\"/>\n      <use x=\"242.822266\" xlink:href=\"#DejaVuSans-104\"/>\n     </g>\n    </g>\n   </g>\n   <g id=\"matplotlib.axis_2\">\n    <g id=\"ytick_1\">\n     <g id=\"line2d_8\">\n      <defs>\n       <path d=\"M 0 0 \nL -3.5 0 \n\" id=\"m9c948f7ffb\" style=\"stroke:#000000;stroke-width:0.8;\"/>\n      </defs>\n      <g>\n       <use style=\"stroke:#000000;stroke-width:0.8;\" x=\"43.78125\" xlink:href=\"#m9c948f7ffb\" y=\"281.936576\"/>\n      </g>\n     </g>\n     <g id=\"text_9\">\n      <!-- 0.6 -->\n      <defs>\n       <path d=\"M 10.6875 12.40625 \nL 21 12.40625 \nL 21 0 \nL 10.6875 0 \nz\n\" id=\"DejaVuSans-46\"/>\n      </defs>\n      <g transform=\"translate(20.878125 285.735795)scale(0.1 -0.1)\">\n       <use xlink:href=\"#DejaVuSans-48\"/>\n       <use x=\"63.623047\" xlink:href=\"#DejaVuSans-46\"/>\n       <use x=\"95.410156\" xlink:href=\"#DejaVuSans-54\"/>\n      </g>\n     </g>\n    </g>\n    <g id=\"ytick_2\">\n     <g id=\"line2d_9\">\n      <g>\n       <use style=\"stroke:#000000;stroke-width:0.8;\" x=\"43.78125\" xlink:href=\"#m9c948f7ffb\" y=\"241.122082\"/>\n      </g>\n     </g>\n     <g id=\"text_10\">\n      <!-- 0.8 -->\n      <g transform=\"translate(20.878125 244.921301)scale(0.1 -0.1)\">\n       <use xlink:href=\"#DejaVuSans-48\"/>\n       <use x=\"63.623047\" xlink:href=\"#DejaVuSans-46\"/>\n       <use x=\"95.410156\" xlink:href=\"#DejaVuSans-56\"/>\n      </g>\n     </g>\n    </g>\n    <g id=\"ytick_3\">\n     <g id=\"line2d_10\">\n      <g>\n       <use style=\"stroke:#000000;stroke-width:0.8;\" x=\"43.78125\" xlink:href=\"#m9c948f7ffb\" y=\"200.307588\"/>\n      </g>\n     </g>\n     <g id=\"text_11\">\n      <!-- 1.0 -->\n      <g transform=\"translate(20.878125 204.106807)scale(0.1 -0.1)\">\n       <use xlink:href=\"#DejaVuSans-49\"/>\n       <use x=\"63.623047\" xlink:href=\"#DejaVuSans-46\"/>\n       <use x=\"95.410156\" xlink:href=\"#DejaVuSans-48\"/>\n      </g>\n     </g>\n    </g>\n    <g id=\"ytick_4\">\n     <g id=\"line2d_11\">\n      <g>\n       <use style=\"stroke:#000000;stroke-width:0.8;\" x=\"43.78125\" xlink:href=\"#m9c948f7ffb\" y=\"159.493094\"/>\n      </g>\n     </g>\n     <g id=\"text_12\">\n      <!-- 1.2 -->\n      <g transform=\"translate(20.878125 163.292313)scale(0.1 -0.1)\">\n       <use xlink:href=\"#DejaVuSans-49\"/>\n       <use x=\"63.623047\" xlink:href=\"#DejaVuSans-46\"/>\n       <use x=\"95.410156\" xlink:href=\"#DejaVuSans-50\"/>\n      </g>\n     </g>\n    </g>\n    <g id=\"ytick_5\">\n     <g id=\"line2d_12\">\n      <g>\n       <use style=\"stroke:#000000;stroke-width:0.8;\" x=\"43.78125\" xlink:href=\"#m9c948f7ffb\" y=\"118.6786\"/>\n      </g>\n     </g>\n     <g id=\"text_13\">\n      <!-- 1.4 -->\n      <g transform=\"translate(20.878125 122.477818)scale(0.1 -0.1)\">\n       <use xlink:href=\"#DejaVuSans-49\"/>\n       <use x=\"63.623047\" xlink:href=\"#DejaVuSans-46\"/>\n       <use x=\"95.410156\" xlink:href=\"#DejaVuSans-52\"/>\n      </g>\n     </g>\n    </g>\n    <g id=\"ytick_6\">\n     <g id=\"line2d_13\">\n      <g>\n       <use style=\"stroke:#000000;stroke-width:0.8;\" x=\"43.78125\" xlink:href=\"#m9c948f7ffb\" y=\"77.864106\"/>\n      </g>\n     </g>\n     <g id=\"text_14\">\n      <!-- 1.6 -->\n      <g transform=\"translate(20.878125 81.663324)scale(0.1 -0.1)\">\n       <use xlink:href=\"#DejaVuSans-49\"/>\n       <use x=\"63.623047\" xlink:href=\"#DejaVuSans-46\"/>\n       <use x=\"95.410156\" xlink:href=\"#DejaVuSans-54\"/>\n      </g>\n     </g>\n    </g>\n    <g id=\"ytick_7\">\n     <g id=\"line2d_14\">\n      <g>\n       <use style=\"stroke:#000000;stroke-width:0.8;\" x=\"43.78125\" xlink:href=\"#m9c948f7ffb\" y=\"37.049612\"/>\n      </g>\n     </g>\n     <g id=\"text_15\">\n      <!-- 1.8 -->\n      <g transform=\"translate(20.878125 40.84883)scale(0.1 -0.1)\">\n       <use xlink:href=\"#DejaVuSans-49\"/>\n       <use x=\"63.623047\" xlink:href=\"#DejaVuSans-46\"/>\n       <use x=\"95.410156\" xlink:href=\"#DejaVuSans-56\"/>\n      </g>\n     </g>\n    </g>\n    <g id=\"text_16\">\n     <!-- Loss -->\n     <defs>\n      <path d=\"M 9.8125 72.90625 \nL 19.671875 72.90625 \nL 19.671875 8.296875 \nL 55.171875 8.296875 \nL 55.171875 0 \nL 9.8125 0 \nz\n\" id=\"DejaVuSans-76\"/>\n      <path d=\"M 44.28125 53.078125 \nL 44.28125 44.578125 \nQ 40.484375 46.53125 36.375 47.5 \nQ 32.28125 48.484375 27.875 48.484375 \nQ 21.1875 48.484375 17.84375 46.4375 \nQ 14.5 44.390625 14.5 40.28125 \nQ 14.5 37.15625 16.890625 35.375 \nQ 19.28125 33.59375 26.515625 31.984375 \nL 29.59375 31.296875 \nQ 39.15625 29.25 43.1875 25.515625 \nQ 47.21875 21.78125 47.21875 15.09375 \nQ 47.21875 7.46875 41.1875 3.015625 \nQ 35.15625 -1.421875 24.609375 -1.421875 \nQ 20.21875 -1.421875 15.453125 -0.5625 \nQ 10.6875 0.296875 5.421875 2 \nL 5.421875 11.28125 \nQ 10.40625 8.6875 15.234375 7.390625 \nQ 20.0625 6.109375 24.8125 6.109375 \nQ 31.15625 6.109375 34.5625 8.28125 \nQ 37.984375 10.453125 37.984375 14.40625 \nQ 37.984375 18.0625 35.515625 20.015625 \nQ 33.0625 21.96875 24.703125 23.78125 \nL 21.578125 24.515625 \nQ 13.234375 26.265625 9.515625 29.90625 \nQ 5.8125 33.546875 5.8125 39.890625 \nQ 5.8125 47.609375 11.28125 51.796875 \nQ 16.75 56 26.8125 56 \nQ 31.78125 56 36.171875 55.265625 \nQ 40.578125 54.546875 44.28125 53.078125 \nz\n\" id=\"DejaVuSans-115\"/>\n     </defs>\n     <g transform=\"translate(14.798438 169.185313)rotate(-90)scale(0.1 -0.1)\">\n      <use xlink:href=\"#DejaVuSans-76\"/>\n      <use x=\"53.962891\" xlink:href=\"#DejaVuSans-111\"/>\n      <use x=\"115.144531\" xlink:href=\"#DejaVuSans-115\"/>\n      <use x=\"167.244141\" xlink:href=\"#DejaVuSans-115\"/>\n     </g>\n    </g>\n   </g>\n   <g id=\"line2d_15\">\n    <path clip-path=\"url(#pa8dd718496)\" d=\"M 69.144886 34.67267 \nL 73.235795 191.965988 \nL 77.326705 208.865652 \nL 81.417614 202.216992 \nL 85.508523 204.986294 \nL 89.599432 213.760786 \nL 93.690341 214.121208 \nL 97.78125 213.045125 \nL 101.872159 225.458159 \nL 105.963068 220.267813 \nL 110.053977 226.416437 \nL 114.144886 191.890671 \nL 118.235795 207.650575 \nL 122.326705 219.217894 \nL 126.417614 231.105713 \nL 130.508523 210.319028 \nL 134.599432 212.288423 \nL 138.690341 210.161606 \nL 142.78125 257.840566 \nL 146.872159 204.919163 \nL 150.963068 192.637715 \nL 155.053977 216.775259 \nL 159.144886 214.969989 \nL 163.235795 216.865088 \nL 167.326705 230.571935 \nL 171.417614 229.332518 \nL 175.508523 215.885122 \nL 179.599432 223.885458 \nL 183.690341 219.193652 \nL 187.78125 232.01783 \nL 191.872159 204.165125 \nL 195.963068 223.978072 \nL 200.053977 230.762163 \nL 204.144886 206.691385 \nL 208.235795 237.218224 \nL 212.326705 241.765306 \nL 216.417614 231.569976 \nL 220.508523 209.987434 \nL 224.599432 206.607747 \nL 228.690341 206.080817 \nL 232.78125 227.666704 \nL 236.872159 221.060106 \nL 240.963068 201.416501 \nL 245.053977 230.57545 \nL 249.144886 194.656494 \nL 253.235795 210.262284 \nL 257.326705 239.909593 \nL 261.417614 238.595686 \nL 265.508523 217.450951 \nL 269.599432 229.466756 \nL 273.690341 226.093176 \nL 277.78125 227.948938 \nL 281.872159 247.266325 \nL 285.963068 242.299523 \nL 290.053977 235.59761 \nL 294.144886 221.420174 \nL 298.235795 225.365363 \nL 302.326705 232.201806 \nL 306.417614 230.260521 \nL 310.508523 232.421056 \nL 314.599432 225.290921 \nL 318.690341 203.18584 \nL 322.78125 244.648314 \nL 326.872159 213.428475 \nL 330.963068 203.568436 \nL 335.053977 224.198234 \nL 339.144886 246.635651 \nL 343.235795 244.116847 \nL 347.326705 239.699222 \nL 351.417614 225.982437 \nL 355.508523 214.402967 \nL 359.599432 217.465122 \nL 363.690341 245.580574 \nL 367.78125 202.872565 \nL 371.872159 211.378459 \nL 375.963068 216.155751 \nL 380.053977 242.768079 \nL 384.144886 233.68598 \nL 388.235795 245.410186 \nL 392.326705 218.000809 \nL 396.417614 221.619245 \nL 400.508523 227.155672 \nL 404.599432 233.093561 \nL 408.690341 244.65453 \nL 412.78125 220.718148 \nL 416.872159 206.288122 \nL 420.963068 215.875136 \nL 425.053977 229.725843 \nL 429.144886 218.326881 \nL 433.235795 216.177305 \nL 437.326705 211.361697 \nL 441.417614 217.898805 \nL 445.508523 237.84717 \nL 449.599432 234.75682 \nL 453.690341 196.787058 \nL 457.78125 221.29889 \nL 461.872159 218.17464 \nL 465.963068 205.168761 \nL 470.053977 206.827241 \nL 474.144886 227.54885 \nL 478.235795 245.373318 \nL 482.326705 230.737178 \nL 486.417614 216.065631 \nL 490.508523 246.222926 \nL 494.599432 235.245265 \nL 498.690341 231.574112 \nL 502.78125 215.330848 \nL 506.872159 189.130735 \nL 510.963068 234.220366 \nL 515.053977 220.834482 \nL 519.144886 224.284609 \nL 523.235795 240.978329 \nL 527.326705 230.972217 \nL 531.417614 242.87726 \nL 535.508523 228.290797 \nL 539.599432 212.819756 \nL 543.690341 214.450989 \nL 547.78125 223.701421 \nL 551.872159 246.052853 \nL 555.963068 214.89118 \nL 560.053977 213.619627 \nL 564.144886 206.995099 \nL 568.235795 209.426713 \nL 572.326705 217.373639 \nL 576.417614 223.626542 \n\" style=\"fill:none;stroke:#1f77b4;stroke-linecap:square;stroke-width:1.5;\"/>\n   </g>\n   <g id=\"line2d_16\">\n    <path clip-path=\"url(#pa8dd718496)\" d=\"M 69.144886 111.202669 \nL 73.235795 177.944321 \nL 77.326705 216.929665 \nL 81.417614 203.242973 \nL 85.508523 224.375824 \nL 89.599432 197.305765 \nL 93.690341 196.573804 \nL 97.78125 210.860907 \nL 101.872159 225.899749 \nL 105.963068 264.052733 \nL 110.053977 178.572696 \nL 114.144886 199.393634 \nL 118.235795 229.744039 \nL 122.326705 194.129588 \nL 126.417614 269.461794 \nL 130.508523 150.698364 \nL 134.599432 175.47517 \nL 138.690341 217.336406 \nL 142.78125 191.774046 \nL 146.872159 209.592006 \nL 150.963068 211.731035 \nL 155.053977 233.110042 \nL 159.144886 190.272611 \nL 163.235795 187.881599 \nL 167.326705 164.957855 \nL 171.417614 188.113487 \nL 175.508523 199.436548 \nL 179.599432 154.006711 \nL 183.690341 137.790329 \nL 187.78125 178.784709 \nL 191.872159 210.56516 \nL 195.963068 281.76358 \nL 200.053977 111.434752 \nL 204.144886 123.658313 \nL 208.235795 240.331879 \nL 212.326705 204.275364 \nL 216.417614 175.006479 \nL 220.508523 184.958573 \nL 224.599432 202.468962 \nL 228.690341 212.041938 \nL 232.78125 188.074247 \nL 236.872159 235.757829 \nL 240.963068 241.761718 \nL 245.053977 240.894461 \nL 249.144886 216.925882 \nL 253.235795 222.938614 \nL 257.326705 237.124734 \nL 261.417614 238.718052 \nL 265.508523 237.678801 \nL 269.599432 188.389797 \nL 273.690341 234.005702 \nL 277.78125 264.078775 \nL 281.872159 92.564428 \nL 285.963068 194.015153 \nL 290.053977 187.185886 \nL 294.144886 154.893515 \nL 298.235795 182.788866 \nL 302.326705 186.340268 \nL 306.417614 224.887647 \nL 310.508523 170.60204 \nL 314.599432 196.304087 \nL 318.690341 130.969017 \nL 322.78125 255.777377 \nL 326.872159 56.963466 \nL 330.963068 152.604799 \nL 335.053977 196.674155 \nL 339.144886 230.354266 \nL 343.235795 157.774455 \nL 347.326705 246.038123 \nL 351.417614 222.021278 \nL 355.508523 188.818639 \nL 359.599432 193.569573 \nL 363.690341 227.676167 \nL 367.78125 188.275069 \nL 371.872159 203.290143 \nL 375.963068 212.381293 \nL 380.053977 176.292398 \nL 384.144886 258.83767 \nL 388.235795 221.611764 \nL 392.326705 193.200625 \nL 396.417614 199.033711 \nL 400.508523 150.103779 \nL 404.599432 159.937934 \nL 408.690341 224.640128 \nL 412.78125 219.217614 \nL 416.872159 171.8584 \nL 420.963068 203.225019 \nL 425.053977 195.832015 \nL 429.144886 209.269912 \nL 433.235795 176.42829 \nL 437.326705 213.424242 \nL 441.417614 166.030398 \nL 445.508523 135.655094 \nL 449.599432 210.777927 \nL 453.690341 198.341623 \nL 457.78125 95.622666 \nL 461.872159 212.672211 \nL 465.963068 199.581101 \nL 470.053977 167.367794 \nL 474.144886 207.728629 \nL 478.235795 177.315265 \nL 482.326705 240.842875 \nL 486.417614 147.092104 \nL 490.508523 214.582053 \nL 494.599432 246.015717 \nL 498.690341 212.505021 \nL 502.78125 190.303166 \nL 506.872159 177.186744 \nL 510.963068 240.816054 \nL 515.053977 121.861471 \nL 519.144886 190.553397 \nL 523.235795 67.958327 \nL 527.326705 243.8577 \nL 531.417614 250.672675 \nL 535.508523 201.753495 \nL 539.599432 166.266349 \nL 543.690341 193.859652 \nL 547.78125 213.372364 \nL 551.872159 183.976162 \nL 555.963068 180.509055 \nL 560.053977 187.649906 \nL 564.144886 183.598626 \nL 568.235795 182.753616 \nL 572.326705 199.939369 \nL 576.417614 200.02578 \n\" style=\"fill:none;stroke:#ff7f0e;stroke-linecap:square;stroke-width:1.5;\"/>\n   </g>\n   <g id=\"patch_3\">\n    <path d=\"M 43.78125 294.118125 \nL 43.78125 22.318125 \n\" style=\"fill:none;stroke:#000000;stroke-linecap:square;stroke-linejoin:miter;stroke-width:0.8;\"/>\n   </g>\n   <g id=\"patch_4\">\n    <path d=\"M 601.78125 294.118125 \nL 601.78125 22.318125 \n\" style=\"fill:none;stroke:#000000;stroke-linecap:square;stroke-linejoin:miter;stroke-width:0.8;\"/>\n   </g>\n   <g id=\"patch_5\">\n    <path d=\"M 43.78125 294.118125 \nL 601.78125 294.118125 \n\" style=\"fill:none;stroke:#000000;stroke-linecap:square;stroke-linejoin:miter;stroke-width:0.8;\"/>\n   </g>\n   <g id=\"patch_6\">\n    <path d=\"M 43.78125 22.318125 \nL 601.78125 22.318125 \n\" style=\"fill:none;stroke:#000000;stroke-linecap:square;stroke-linejoin:miter;stroke-width:0.8;\"/>\n   </g>\n   <g id=\"text_17\">\n    <!-- Loss vs. epochs, batch=1 -->\n    <defs>\n     <path id=\"DejaVuSans-32\"/>\n     <path d=\"M 2.984375 54.6875 \nL 12.5 54.6875 \nL 29.59375 8.796875 \nL 46.6875 54.6875 \nL 56.203125 54.6875 \nL 35.6875 0 \nL 23.484375 0 \nz\n\" id=\"DejaVuSans-118\"/>\n     <path d=\"M 56.203125 29.59375 \nL 56.203125 25.203125 \nL 14.890625 25.203125 \nQ 15.484375 15.921875 20.484375 11.0625 \nQ 25.484375 6.203125 34.421875 6.203125 \nQ 39.59375 6.203125 44.453125 7.46875 \nQ 49.3125 8.734375 54.109375 11.28125 \nL 54.109375 2.78125 \nQ 49.265625 0.734375 44.1875 -0.34375 \nQ 39.109375 -1.421875 33.890625 -1.421875 \nQ 20.796875 -1.421875 13.15625 6.1875 \nQ 5.515625 13.8125 5.515625 26.8125 \nQ 5.515625 40.234375 12.765625 48.109375 \nQ 20.015625 56 32.328125 56 \nQ 43.359375 56 49.78125 48.890625 \nQ 56.203125 41.796875 56.203125 29.59375 \nz\nM 47.21875 32.234375 \nQ 47.125 39.59375 43.09375 43.984375 \nQ 39.0625 48.390625 32.421875 48.390625 \nQ 24.90625 48.390625 20.390625 44.140625 \nQ 15.875 39.890625 15.1875 32.171875 \nz\n\" id=\"DejaVuSans-101\"/>\n     <path d=\"M 11.71875 12.40625 \nL 22.015625 12.40625 \nL 22.015625 4 \nL 14.015625 -11.625 \nL 7.71875 -11.625 \nL 11.71875 4 \nz\n\" id=\"DejaVuSans-44\"/>\n     <path d=\"M 48.6875 27.296875 \nQ 48.6875 37.203125 44.609375 42.84375 \nQ 40.53125 48.484375 33.40625 48.484375 \nQ 26.265625 48.484375 22.1875 42.84375 \nQ 18.109375 37.203125 18.109375 27.296875 \nQ 18.109375 17.390625 22.1875 11.75 \nQ 26.265625 6.109375 33.40625 6.109375 \nQ 40.53125 6.109375 44.609375 11.75 \nQ 48.6875 17.390625 48.6875 27.296875 \nz\nM 18.109375 46.390625 \nQ 20.953125 51.265625 25.265625 53.625 \nQ 29.59375 56 35.59375 56 \nQ 45.5625 56 51.78125 48.09375 \nQ 58.015625 40.1875 58.015625 27.296875 \nQ 58.015625 14.40625 51.78125 6.484375 \nQ 45.5625 -1.421875 35.59375 -1.421875 \nQ 29.59375 -1.421875 25.265625 0.953125 \nQ 20.953125 3.328125 18.109375 8.203125 \nL 18.109375 0 \nL 9.078125 0 \nL 9.078125 75.984375 \nL 18.109375 75.984375 \nz\n\" id=\"DejaVuSans-98\"/>\n     <path d=\"M 34.28125 27.484375 \nQ 23.390625 27.484375 19.1875 25 \nQ 14.984375 22.515625 14.984375 16.5 \nQ 14.984375 11.71875 18.140625 8.90625 \nQ 21.296875 6.109375 26.703125 6.109375 \nQ 34.1875 6.109375 38.703125 11.40625 \nQ 43.21875 16.703125 43.21875 25.484375 \nL 43.21875 27.484375 \nz\nM 52.203125 31.203125 \nL 52.203125 0 \nL 43.21875 0 \nL 43.21875 8.296875 \nQ 40.140625 3.328125 35.546875 0.953125 \nQ 30.953125 -1.421875 24.3125 -1.421875 \nQ 15.921875 -1.421875 10.953125 3.296875 \nQ 6 8.015625 6 15.921875 \nQ 6 25.140625 12.171875 29.828125 \nQ 18.359375 34.515625 30.609375 34.515625 \nL 43.21875 34.515625 \nL 43.21875 35.40625 \nQ 43.21875 41.609375 39.140625 45 \nQ 35.0625 48.390625 27.6875 48.390625 \nQ 23 48.390625 18.546875 47.265625 \nQ 14.109375 46.140625 10.015625 43.890625 \nL 10.015625 52.203125 \nQ 14.9375 54.109375 19.578125 55.046875 \nQ 24.21875 56 28.609375 56 \nQ 40.484375 56 46.34375 49.84375 \nQ 52.203125 43.703125 52.203125 31.203125 \nz\n\" id=\"DejaVuSans-97\"/>\n     <path d=\"M 18.3125 70.21875 \nL 18.3125 54.6875 \nL 36.8125 54.6875 \nL 36.8125 47.703125 \nL 18.3125 47.703125 \nL 18.3125 18.015625 \nQ 18.3125 11.328125 20.140625 9.421875 \nQ 21.96875 7.515625 27.59375 7.515625 \nL 36.8125 7.515625 \nL 36.8125 0 \nL 27.59375 0 \nQ 17.1875 0 13.234375 3.875 \nQ 9.28125 7.765625 9.28125 18.015625 \nL 9.28125 47.703125 \nL 2.6875 47.703125 \nL 2.6875 54.6875 \nL 9.28125 54.6875 \nL 9.28125 70.21875 \nz\n\" id=\"DejaVuSans-116\"/>\n     <path d=\"M 10.59375 45.40625 \nL 73.1875 45.40625 \nL 73.1875 37.203125 \nL 10.59375 37.203125 \nz\nM 10.59375 25.484375 \nL 73.1875 25.484375 \nL 73.1875 17.1875 \nL 10.59375 17.1875 \nz\n\" id=\"DejaVuSans-61\"/>\n    </defs>\n    <g transform=\"translate(246.225 16.318125)scale(0.12 -0.12)\">\n     <use xlink:href=\"#DejaVuSans-76\"/>\n     <use x=\"53.962891\" xlink:href=\"#DejaVuSans-111\"/>\n     <use x=\"115.144531\" xlink:href=\"#DejaVuSans-115\"/>\n     <use x=\"167.244141\" xlink:href=\"#DejaVuSans-115\"/>\n     <use x=\"219.34375\" xlink:href=\"#DejaVuSans-32\"/>\n     <use x=\"251.130859\" xlink:href=\"#DejaVuSans-118\"/>\n     <use x=\"310.310547\" xlink:href=\"#DejaVuSans-115\"/>\n     <use x=\"362.410156\" xlink:href=\"#DejaVuSans-46\"/>\n     <use x=\"394.197266\" xlink:href=\"#DejaVuSans-32\"/>\n     <use x=\"425.984375\" xlink:href=\"#DejaVuSans-101\"/>\n     <use x=\"487.507812\" xlink:href=\"#DejaVuSans-112\"/>\n     <use x=\"550.984375\" xlink:href=\"#DejaVuSans-111\"/>\n     <use x=\"612.166016\" xlink:href=\"#DejaVuSans-99\"/>\n     <use x=\"667.146484\" xlink:href=\"#DejaVuSans-104\"/>\n     <use x=\"730.525391\" xlink:href=\"#DejaVuSans-115\"/>\n     <use x=\"782.625\" xlink:href=\"#DejaVuSans-44\"/>\n     <use x=\"814.412109\" xlink:href=\"#DejaVuSans-32\"/>\n     <use x=\"846.199219\" xlink:href=\"#DejaVuSans-98\"/>\n     <use x=\"909.675781\" xlink:href=\"#DejaVuSans-97\"/>\n     <use x=\"970.955078\" xlink:href=\"#DejaVuSans-116\"/>\n     <use x=\"1010.164062\" xlink:href=\"#DejaVuSans-99\"/>\n     <use x=\"1065.144531\" xlink:href=\"#DejaVuSans-104\"/>\n     <use x=\"1128.523438\" xlink:href=\"#DejaVuSans-61\"/>\n     <use x=\"1212.3125\" xlink:href=\"#DejaVuSans-49\"/>\n    </g>\n   </g>\n   <g id=\"legend_1\">\n    <g id=\"patch_7\">\n     <path d=\"M 513.4 59.674375 \nL 594.78125 59.674375 \nQ 596.78125 59.674375 596.78125 57.674375 \nL 596.78125 29.318125 \nQ 596.78125 27.318125 594.78125 27.318125 \nL 513.4 27.318125 \nQ 511.4 27.318125 511.4 29.318125 \nL 511.4 57.674375 \nQ 511.4 59.674375 513.4 59.674375 \nz\n\" style=\"fill:#ffffff;opacity:0.8;stroke:#cccccc;stroke-linejoin:miter;\"/>\n    </g>\n    <g id=\"line2d_17\">\n     <path d=\"M 515.4 35.416562 \nL 535.4 35.416562 \n\" style=\"fill:none;stroke:#1f77b4;stroke-linecap:square;stroke-width:1.5;\"/>\n    </g>\n    <g id=\"line2d_18\"/>\n    <g id=\"text_18\">\n     <!-- Training -->\n     <defs>\n      <path d=\"M -0.296875 72.90625 \nL 61.375 72.90625 \nL 61.375 64.59375 \nL 35.5 64.59375 \nL 35.5 0 \nL 25.59375 0 \nL 25.59375 64.59375 \nL -0.296875 64.59375 \nz\n\" id=\"DejaVuSans-84\"/>\n      <path d=\"M 41.109375 46.296875 \nQ 39.59375 47.171875 37.8125 47.578125 \nQ 36.03125 48 33.890625 48 \nQ 26.265625 48 22.1875 43.046875 \nQ 18.109375 38.09375 18.109375 28.8125 \nL 18.109375 0 \nL 9.078125 0 \nL 9.078125 54.6875 \nL 18.109375 54.6875 \nL 18.109375 46.1875 \nQ 20.953125 51.171875 25.484375 53.578125 \nQ 30.03125 56 36.53125 56 \nQ 37.453125 56 38.578125 55.875 \nQ 39.703125 55.765625 41.0625 55.515625 \nz\n\" id=\"DejaVuSans-114\"/>\n      <path d=\"M 9.421875 54.6875 \nL 18.40625 54.6875 \nL 18.40625 0 \nL 9.421875 0 \nz\nM 9.421875 75.984375 \nL 18.40625 75.984375 \nL 18.40625 64.59375 \nL 9.421875 64.59375 \nz\n\" id=\"DejaVuSans-105\"/>\n      <path d=\"M 54.890625 33.015625 \nL 54.890625 0 \nL 45.90625 0 \nL 45.90625 32.71875 \nQ 45.90625 40.484375 42.875 44.328125 \nQ 39.84375 48.1875 33.796875 48.1875 \nQ 26.515625 48.1875 22.3125 43.546875 \nQ 18.109375 38.921875 18.109375 30.90625 \nL 18.109375 0 \nL 9.078125 0 \nL 9.078125 54.6875 \nL 18.109375 54.6875 \nL 18.109375 46.1875 \nQ 21.34375 51.125 25.703125 53.5625 \nQ 30.078125 56 35.796875 56 \nQ 45.21875 56 50.046875 50.171875 \nQ 54.890625 44.34375 54.890625 33.015625 \nz\n\" id=\"DejaVuSans-110\"/>\n      <path d=\"M 45.40625 27.984375 \nQ 45.40625 37.75 41.375 43.109375 \nQ 37.359375 48.484375 30.078125 48.484375 \nQ 22.859375 48.484375 18.828125 43.109375 \nQ 14.796875 37.75 14.796875 27.984375 \nQ 14.796875 18.265625 18.828125 12.890625 \nQ 22.859375 7.515625 30.078125 7.515625 \nQ 37.359375 7.515625 41.375 12.890625 \nQ 45.40625 18.265625 45.40625 27.984375 \nz\nM 54.390625 6.78125 \nQ 54.390625 -7.171875 48.1875 -13.984375 \nQ 42 -20.796875 29.203125 -20.796875 \nQ 24.46875 -20.796875 20.265625 -20.09375 \nQ 16.0625 -19.390625 12.109375 -17.921875 \nL 12.109375 -9.1875 \nQ 16.0625 -11.328125 19.921875 -12.34375 \nQ 23.78125 -13.375 27.78125 -13.375 \nQ 36.625 -13.375 41.015625 -8.765625 \nQ 45.40625 -4.15625 45.40625 5.171875 \nL 45.40625 9.625 \nQ 42.625 4.78125 38.28125 2.390625 \nQ 33.9375 0 27.875 0 \nQ 17.828125 0 11.671875 7.65625 \nQ 5.515625 15.328125 5.515625 27.984375 \nQ 5.515625 40.671875 11.671875 48.328125 \nQ 17.828125 56 27.875 56 \nQ 33.9375 56 38.28125 53.609375 \nQ 42.625 51.21875 45.40625 46.390625 \nL 45.40625 54.6875 \nL 54.390625 54.6875 \nz\n\" id=\"DejaVuSans-103\"/>\n     </defs>\n     <g transform=\"translate(543.4 38.916562)scale(0.1 -0.1)\">\n      <use xlink:href=\"#DejaVuSans-84\"/>\n      <use x=\"46.333984\" xlink:href=\"#DejaVuSans-114\"/>\n      <use x=\"87.447266\" xlink:href=\"#DejaVuSans-97\"/>\n      <use x=\"148.726562\" xlink:href=\"#DejaVuSans-105\"/>\n      <use x=\"176.509766\" xlink:href=\"#DejaVuSans-110\"/>\n      <use x=\"239.888672\" xlink:href=\"#DejaVuSans-105\"/>\n      <use x=\"267.671875\" xlink:href=\"#DejaVuSans-110\"/>\n      <use x=\"331.050781\" xlink:href=\"#DejaVuSans-103\"/>\n     </g>\n    </g>\n    <g id=\"line2d_19\">\n     <path d=\"M 515.4 50.094688 \nL 535.4 50.094688 \n\" style=\"fill:none;stroke:#ff7f0e;stroke-linecap:square;stroke-width:1.5;\"/>\n    </g>\n    <g id=\"line2d_20\"/>\n    <g id=\"text_19\">\n     <!-- Validation -->\n     <defs>\n      <path d=\"M 28.609375 0 \nL 0.78125 72.90625 \nL 11.078125 72.90625 \nL 34.1875 11.53125 \nL 57.328125 72.90625 \nL 67.578125 72.90625 \nL 39.796875 0 \nz\n\" id=\"DejaVuSans-86\"/>\n      <path d=\"M 9.421875 75.984375 \nL 18.40625 75.984375 \nL 18.40625 0 \nL 9.421875 0 \nz\n\" id=\"DejaVuSans-108\"/>\n      <path d=\"M 45.40625 46.390625 \nL 45.40625 75.984375 \nL 54.390625 75.984375 \nL 54.390625 0 \nL 45.40625 0 \nL 45.40625 8.203125 \nQ 42.578125 3.328125 38.25 0.953125 \nQ 33.9375 -1.421875 27.875 -1.421875 \nQ 17.96875 -1.421875 11.734375 6.484375 \nQ 5.515625 14.40625 5.515625 27.296875 \nQ 5.515625 40.1875 11.734375 48.09375 \nQ 17.96875 56 27.875 56 \nQ 33.9375 56 38.25 53.625 \nQ 42.578125 51.265625 45.40625 46.390625 \nz\nM 14.796875 27.296875 \nQ 14.796875 17.390625 18.875 11.75 \nQ 22.953125 6.109375 30.078125 6.109375 \nQ 37.203125 6.109375 41.296875 11.75 \nQ 45.40625 17.390625 45.40625 27.296875 \nQ 45.40625 37.203125 41.296875 42.84375 \nQ 37.203125 48.484375 30.078125 48.484375 \nQ 22.953125 48.484375 18.875 42.84375 \nQ 14.796875 37.203125 14.796875 27.296875 \nz\n\" id=\"DejaVuSans-100\"/>\n     </defs>\n     <g transform=\"translate(543.4 53.594688)scale(0.1 -0.1)\">\n      <use xlink:href=\"#DejaVuSans-86\"/>\n      <use x=\"60.658203\" xlink:href=\"#DejaVuSans-97\"/>\n      <use x=\"121.9375\" xlink:href=\"#DejaVuSans-108\"/>\n      <use x=\"149.720703\" xlink:href=\"#DejaVuSans-105\"/>\n      <use x=\"177.503906\" xlink:href=\"#DejaVuSans-100\"/>\n      <use x=\"240.980469\" xlink:href=\"#DejaVuSans-97\"/>\n      <use x=\"302.259766\" xlink:href=\"#DejaVuSans-116\"/>\n      <use x=\"341.46875\" xlink:href=\"#DejaVuSans-105\"/>\n      <use x=\"369.251953\" xlink:href=\"#DejaVuSans-111\"/>\n      <use x=\"430.433594\" xlink:href=\"#DejaVuSans-110\"/>\n     </g>\n    </g>\n   </g>\n  </g>\n </g>\n <defs>\n  <clipPath id=\"pa8dd718496\">\n   <rect height=\"271.8\" width=\"558\" x=\"43.78125\" y=\"22.318125\"/>\n  </clipPath>\n </defs>\n</svg>\n"
          },
          "metadata": {
            "needs_background": "light"
          }
        }
      ],
      "source": [
        "plt.figure(figsize=(10,5))\n",
        "plt.plot(history.history['loss'])\n",
        "plt.plot(history.history['val_loss'])\n",
        "plt.title('Loss vs. epochs, batch=' +str(batch_size))\n",
        "plt.ylabel('Loss')\n",
        "plt.xlabel('Epoch')\n",
        "plt.legend(['Training', 'Validation'], loc='upper right')\n",
        "plt.show()"
      ]
    },
    {
      "cell_type": "markdown",
      "id": "058a1cdc-e6ec-4fca-b87f-29a161f9986d",
      "metadata": {
        "id": "058a1cdc-e6ec-4fca-b87f-29a161f9986d"
      },
      "source": [
        "- **Diagnose this curve w.r.t learning rate**:\n",
        "    - ANSWER: the learning rate is high and the model diverges so we cant find global minima so we need to decrease the learning rate\n",
        "- Change learning rate to make this curve better"
      ]
    },
    {
      "cell_type": "code",
      "execution_count": 139,
      "id": "74b641cb-d7b1-4806-a4f9-216006e06e77",
      "metadata": {
        "id": "74b641cb-d7b1-4806-a4f9-216006e06e77",
        "colab": {
          "base_uri": "https://localhost:8080/"
        },
        "outputId": "28b1cac3-bd32-412a-9425-e9e67f7e67b9"
      },
      "outputs": [
        {
          "output_type": "stream",
          "name": "stdout",
          "text": [
            "Epoch 1/125\n",
            "500/500 [==============================] - 3s 5ms/step - loss: 1.9947 - accuracy: 0.5880 - val_loss: 0.8642 - val_accuracy: 0.6920\n",
            "Epoch 2/125\n",
            "500/500 [==============================] - 2s 5ms/step - loss: 0.9836 - accuracy: 0.6700 - val_loss: 0.6369 - val_accuracy: 0.7820\n",
            "Epoch 3/125\n",
            "500/500 [==============================] - 2s 4ms/step - loss: 0.7996 - accuracy: 0.6980 - val_loss: 0.6352 - val_accuracy: 0.7400\n",
            "Epoch 4/125\n",
            "500/500 [==============================] - 2s 5ms/step - loss: 0.6255 - accuracy: 0.7460 - val_loss: 0.6771 - val_accuracy: 0.7140\n",
            "Epoch 5/125\n",
            "500/500 [==============================] - 2s 4ms/step - loss: 0.5970 - accuracy: 0.7520 - val_loss: 0.4681 - val_accuracy: 0.8160\n",
            "Epoch 6/125\n",
            "500/500 [==============================] - 2s 4ms/step - loss: 0.5039 - accuracy: 0.7860 - val_loss: 0.4194 - val_accuracy: 0.8260\n",
            "Epoch 7/125\n",
            "500/500 [==============================] - 2s 5ms/step - loss: 0.5089 - accuracy: 0.7740 - val_loss: 0.4479 - val_accuracy: 0.7920\n",
            "Epoch 8/125\n",
            "500/500 [==============================] - 2s 4ms/step - loss: 0.4922 - accuracy: 0.7720 - val_loss: 0.4879 - val_accuracy: 0.8100\n",
            "Epoch 9/125\n",
            "500/500 [==============================] - 2s 5ms/step - loss: 0.4904 - accuracy: 0.7880 - val_loss: 0.4319 - val_accuracy: 0.8320\n",
            "Epoch 10/125\n",
            "500/500 [==============================] - 2s 5ms/step - loss: 0.4570 - accuracy: 0.8020 - val_loss: 0.4420 - val_accuracy: 0.8220\n",
            "Epoch 11/125\n",
            "500/500 [==============================] - 2s 4ms/step - loss: 0.4561 - accuracy: 0.7920 - val_loss: 0.4880 - val_accuracy: 0.8100\n",
            "Epoch 12/125\n",
            "500/500 [==============================] - 2s 4ms/step - loss: 0.4564 - accuracy: 0.7980 - val_loss: 0.4660 - val_accuracy: 0.8080\n",
            "Epoch 13/125\n",
            "500/500 [==============================] - 2s 4ms/step - loss: 0.4494 - accuracy: 0.8020 - val_loss: 0.6933 - val_accuracy: 0.6480\n",
            "Epoch 14/125\n",
            "500/500 [==============================] - 2s 5ms/step - loss: 0.4543 - accuracy: 0.7920 - val_loss: 0.4266 - val_accuracy: 0.8320\n",
            "Epoch 15/125\n",
            "500/500 [==============================] - 2s 4ms/step - loss: 0.4464 - accuracy: 0.8120 - val_loss: 0.4856 - val_accuracy: 0.7660\n",
            "Epoch 16/125\n",
            "500/500 [==============================] - 2s 4ms/step - loss: 0.4478 - accuracy: 0.8080 - val_loss: 0.4207 - val_accuracy: 0.8320\n",
            "Epoch 17/125\n",
            "500/500 [==============================] - 2s 4ms/step - loss: 0.4522 - accuracy: 0.8060 - val_loss: 0.5079 - val_accuracy: 0.8060\n",
            "Epoch 18/125\n",
            "500/500 [==============================] - 2s 4ms/step - loss: 0.4550 - accuracy: 0.8100 - val_loss: 0.4926 - val_accuracy: 0.8200\n",
            "Epoch 19/125\n",
            "500/500 [==============================] - 2s 5ms/step - loss: 0.4525 - accuracy: 0.8000 - val_loss: 0.4311 - val_accuracy: 0.8260\n",
            "Epoch 20/125\n",
            "500/500 [==============================] - 2s 4ms/step - loss: 0.4525 - accuracy: 0.8220 - val_loss: 0.5071 - val_accuracy: 0.7700\n",
            "Epoch 21/125\n",
            "500/500 [==============================] - 2s 4ms/step - loss: 0.4399 - accuracy: 0.8240 - val_loss: 0.4339 - val_accuracy: 0.8180\n",
            "Epoch 22/125\n",
            "500/500 [==============================] - 2s 4ms/step - loss: 0.4482 - accuracy: 0.8200 - val_loss: 0.5032 - val_accuracy: 0.7720\n",
            "Epoch 23/125\n",
            "500/500 [==============================] - 2s 5ms/step - loss: 0.4288 - accuracy: 0.8220 - val_loss: 0.4544 - val_accuracy: 0.8240\n",
            "Epoch 24/125\n",
            "500/500 [==============================] - 3s 5ms/step - loss: 0.4402 - accuracy: 0.8000 - val_loss: 0.4421 - val_accuracy: 0.8280\n",
            "Epoch 25/125\n",
            "500/500 [==============================] - 2s 4ms/step - loss: 0.4351 - accuracy: 0.8100 - val_loss: 0.4552 - val_accuracy: 0.8240\n",
            "Epoch 26/125\n",
            "500/500 [==============================] - 2s 5ms/step - loss: 0.4298 - accuracy: 0.8280 - val_loss: 0.4255 - val_accuracy: 0.8220\n",
            "Epoch 27/125\n",
            "500/500 [==============================] - 2s 5ms/step - loss: 0.4289 - accuracy: 0.8080 - val_loss: 0.4442 - val_accuracy: 0.8280\n",
            "Epoch 28/125\n",
            "500/500 [==============================] - 2s 5ms/step - loss: 0.4237 - accuracy: 0.8120 - val_loss: 0.4525 - val_accuracy: 0.8300\n",
            "Epoch 29/125\n",
            "500/500 [==============================] - 2s 5ms/step - loss: 0.4297 - accuracy: 0.8040 - val_loss: 0.4388 - val_accuracy: 0.8200\n",
            "Epoch 30/125\n",
            "500/500 [==============================] - 2s 4ms/step - loss: 0.4237 - accuracy: 0.8100 - val_loss: 0.4265 - val_accuracy: 0.8260\n",
            "Epoch 31/125\n",
            "500/500 [==============================] - 4s 8ms/step - loss: 0.4248 - accuracy: 0.8180 - val_loss: 0.4128 - val_accuracy: 0.8120\n",
            "Epoch 32/125\n",
            "500/500 [==============================] - 2s 5ms/step - loss: 0.4281 - accuracy: 0.8020 - val_loss: 0.4913 - val_accuracy: 0.7980\n",
            "Epoch 33/125\n",
            "500/500 [==============================] - 2s 4ms/step - loss: 0.4315 - accuracy: 0.8040 - val_loss: 0.4314 - val_accuracy: 0.8200\n",
            "Epoch 34/125\n",
            "500/500 [==============================] - 2s 4ms/step - loss: 0.4258 - accuracy: 0.8180 - val_loss: 0.4311 - val_accuracy: 0.8240\n",
            "Epoch 35/125\n",
            "500/500 [==============================] - 2s 4ms/step - loss: 0.4179 - accuracy: 0.8180 - val_loss: 0.4703 - val_accuracy: 0.8040\n",
            "Epoch 36/125\n",
            "500/500 [==============================] - 2s 5ms/step - loss: 0.4196 - accuracy: 0.8160 - val_loss: 0.4314 - val_accuracy: 0.8260\n",
            "Epoch 37/125\n",
            "500/500 [==============================] - 2s 4ms/step - loss: 0.4362 - accuracy: 0.8220 - val_loss: 0.4855 - val_accuracy: 0.7860\n",
            "Epoch 38/125\n",
            "500/500 [==============================] - 2s 4ms/step - loss: 0.4274 - accuracy: 0.8060 - val_loss: 0.4901 - val_accuracy: 0.7960\n",
            "Epoch 39/125\n",
            "500/500 [==============================] - 2s 4ms/step - loss: 0.4184 - accuracy: 0.8220 - val_loss: 0.4330 - val_accuracy: 0.8140\n",
            "Epoch 40/125\n",
            "500/500 [==============================] - 2s 4ms/step - loss: 0.4281 - accuracy: 0.8080 - val_loss: 0.4610 - val_accuracy: 0.8020\n",
            "Epoch 41/125\n",
            "500/500 [==============================] - 2s 4ms/step - loss: 0.4138 - accuracy: 0.8160 - val_loss: 0.4305 - val_accuracy: 0.8220\n",
            "Epoch 42/125\n",
            "500/500 [==============================] - 2s 5ms/step - loss: 0.4098 - accuracy: 0.8180 - val_loss: 0.4495 - val_accuracy: 0.8300\n",
            "Epoch 43/125\n",
            "500/500 [==============================] - 2s 5ms/step - loss: 0.4309 - accuracy: 0.8180 - val_loss: 0.4241 - val_accuracy: 0.8320\n",
            "Epoch 44/125\n",
            "500/500 [==============================] - 2s 4ms/step - loss: 0.4181 - accuracy: 0.8040 - val_loss: 0.4451 - val_accuracy: 0.8160\n",
            "Epoch 45/125\n",
            "500/500 [==============================] - 2s 4ms/step - loss: 0.4153 - accuracy: 0.8160 - val_loss: 0.4353 - val_accuracy: 0.8240\n",
            "Epoch 46/125\n",
            "500/500 [==============================] - 2s 4ms/step - loss: 0.4199 - accuracy: 0.8140 - val_loss: 0.4348 - val_accuracy: 0.8300\n",
            "Epoch 47/125\n",
            "500/500 [==============================] - 2s 4ms/step - loss: 0.4174 - accuracy: 0.8100 - val_loss: 0.4525 - val_accuracy: 0.8220\n",
            "Epoch 48/125\n",
            "500/500 [==============================] - 2s 5ms/step - loss: 0.4174 - accuracy: 0.8080 - val_loss: 0.4091 - val_accuracy: 0.8220\n",
            "Epoch 49/125\n",
            "500/500 [==============================] - 2s 5ms/step - loss: 0.4133 - accuracy: 0.8040 - val_loss: 0.4340 - val_accuracy: 0.8200\n",
            "Epoch 50/125\n",
            "500/500 [==============================] - 2s 5ms/step - loss: 0.4152 - accuracy: 0.8140 - val_loss: 0.4367 - val_accuracy: 0.8240\n",
            "Epoch 51/125\n",
            "500/500 [==============================] - 3s 6ms/step - loss: 0.4231 - accuracy: 0.8100 - val_loss: 0.4582 - val_accuracy: 0.8220\n",
            "Epoch 52/125\n",
            "500/500 [==============================] - 2s 5ms/step - loss: 0.4136 - accuracy: 0.8120 - val_loss: 0.4773 - val_accuracy: 0.8000\n",
            "Epoch 53/125\n",
            "500/500 [==============================] - 2s 5ms/step - loss: 0.4241 - accuracy: 0.8120 - val_loss: 0.4433 - val_accuracy: 0.8200\n",
            "Epoch 54/125\n",
            "500/500 [==============================] - 2s 5ms/step - loss: 0.4144 - accuracy: 0.8140 - val_loss: 0.4317 - val_accuracy: 0.8340\n",
            "Epoch 55/125\n",
            "500/500 [==============================] - 2s 5ms/step - loss: 0.4144 - accuracy: 0.8240 - val_loss: 0.4429 - val_accuracy: 0.8220\n",
            "Epoch 56/125\n",
            "500/500 [==============================] - 2s 5ms/step - loss: 0.4195 - accuracy: 0.8120 - val_loss: 0.4464 - val_accuracy: 0.8200\n",
            "Epoch 57/125\n",
            "500/500 [==============================] - 3s 5ms/step - loss: 0.4144 - accuracy: 0.8140 - val_loss: 0.4447 - val_accuracy: 0.8220\n",
            "Epoch 58/125\n",
            "500/500 [==============================] - 3s 5ms/step - loss: 0.4270 - accuracy: 0.8100 - val_loss: 0.4461 - val_accuracy: 0.8160\n",
            "Epoch 59/125\n",
            "500/500 [==============================] - 2s 5ms/step - loss: 0.4113 - accuracy: 0.8220 - val_loss: 0.4349 - val_accuracy: 0.8180\n",
            "Epoch 60/125\n",
            "500/500 [==============================] - 2s 5ms/step - loss: 0.4139 - accuracy: 0.8340 - val_loss: 0.4408 - val_accuracy: 0.8080\n",
            "Epoch 61/125\n",
            "500/500 [==============================] - 2s 4ms/step - loss: 0.4138 - accuracy: 0.8140 - val_loss: 0.4382 - val_accuracy: 0.8220\n",
            "Epoch 62/125\n",
            "500/500 [==============================] - 2s 4ms/step - loss: 0.4225 - accuracy: 0.8280 - val_loss: 0.4445 - val_accuracy: 0.8180\n",
            "Epoch 63/125\n",
            "500/500 [==============================] - 2s 4ms/step - loss: 0.4214 - accuracy: 0.8120 - val_loss: 0.4149 - val_accuracy: 0.8280\n",
            "Epoch 64/125\n",
            "500/500 [==============================] - 2s 5ms/step - loss: 0.4219 - accuracy: 0.8220 - val_loss: 0.4448 - val_accuracy: 0.8180\n",
            "Epoch 65/125\n",
            "500/500 [==============================] - 2s 5ms/step - loss: 0.4088 - accuracy: 0.8300 - val_loss: 0.4592 - val_accuracy: 0.8120\n",
            "Epoch 66/125\n",
            "500/500 [==============================] - 2s 4ms/step - loss: 0.4214 - accuracy: 0.8180 - val_loss: 0.4432 - val_accuracy: 0.8220\n",
            "Epoch 67/125\n",
            "500/500 [==============================] - 2s 5ms/step - loss: 0.4148 - accuracy: 0.8060 - val_loss: 0.4276 - val_accuracy: 0.8220\n",
            "Epoch 68/125\n",
            "500/500 [==============================] - 2s 4ms/step - loss: 0.4154 - accuracy: 0.8260 - val_loss: 0.4484 - val_accuracy: 0.8200\n",
            "Epoch 69/125\n",
            "500/500 [==============================] - 2s 5ms/step - loss: 0.4202 - accuracy: 0.8180 - val_loss: 0.4276 - val_accuracy: 0.8360\n",
            "Epoch 70/125\n",
            "500/500 [==============================] - 2s 4ms/step - loss: 0.4089 - accuracy: 0.8240 - val_loss: 0.4461 - val_accuracy: 0.8220\n",
            "Epoch 71/125\n",
            "500/500 [==============================] - 2s 5ms/step - loss: 0.4106 - accuracy: 0.8160 - val_loss: 0.4461 - val_accuracy: 0.8220\n",
            "Epoch 72/125\n",
            "500/500 [==============================] - 3s 5ms/step - loss: 0.4126 - accuracy: 0.8180 - val_loss: 0.4365 - val_accuracy: 0.8240\n",
            "Epoch 73/125\n",
            "500/500 [==============================] - 2s 4ms/step - loss: 0.4163 - accuracy: 0.8040 - val_loss: 0.4358 - val_accuracy: 0.8300\n",
            "Epoch 74/125\n",
            "500/500 [==============================] - 2s 4ms/step - loss: 0.4085 - accuracy: 0.8080 - val_loss: 0.4337 - val_accuracy: 0.8360\n",
            "Epoch 75/125\n",
            "500/500 [==============================] - 2s 4ms/step - loss: 0.4144 - accuracy: 0.8120 - val_loss: 0.4866 - val_accuracy: 0.7980\n",
            "Epoch 76/125\n",
            "500/500 [==============================] - 2s 4ms/step - loss: 0.4083 - accuracy: 0.8240 - val_loss: 0.4290 - val_accuracy: 0.8200\n",
            "Epoch 77/125\n",
            "500/500 [==============================] - 2s 5ms/step - loss: 0.4107 - accuracy: 0.8100 - val_loss: 0.4290 - val_accuracy: 0.8220\n",
            "Epoch 78/125\n",
            "500/500 [==============================] - 2s 5ms/step - loss: 0.4101 - accuracy: 0.8260 - val_loss: 0.4511 - val_accuracy: 0.8240\n",
            "Epoch 79/125\n",
            "500/500 [==============================] - 2s 4ms/step - loss: 0.4095 - accuracy: 0.8220 - val_loss: 0.4267 - val_accuracy: 0.8180\n",
            "Epoch 80/125\n",
            "500/500 [==============================] - 2s 4ms/step - loss: 0.4045 - accuracy: 0.8300 - val_loss: 0.4889 - val_accuracy: 0.7960\n",
            "Epoch 81/125\n",
            "500/500 [==============================] - 2s 4ms/step - loss: 0.4174 - accuracy: 0.8200 - val_loss: 0.4460 - val_accuracy: 0.8160\n",
            "Epoch 82/125\n",
            "500/500 [==============================] - 3s 6ms/step - loss: 0.4063 - accuracy: 0.8200 - val_loss: 0.4400 - val_accuracy: 0.8220\n",
            "Epoch 83/125\n",
            "500/500 [==============================] - 3s 6ms/step - loss: 0.4151 - accuracy: 0.8220 - val_loss: 0.4211 - val_accuracy: 0.8220\n",
            "Epoch 84/125\n",
            "500/500 [==============================] - 2s 5ms/step - loss: 0.4190 - accuracy: 0.8160 - val_loss: 0.4296 - val_accuracy: 0.8240\n",
            "Epoch 85/125\n",
            "500/500 [==============================] - 2s 5ms/step - loss: 0.4119 - accuracy: 0.8040 - val_loss: 0.4271 - val_accuracy: 0.8240\n",
            "Epoch 86/125\n",
            "500/500 [==============================] - 2s 5ms/step - loss: 0.4077 - accuracy: 0.8300 - val_loss: 0.4357 - val_accuracy: 0.8260\n",
            "Epoch 87/125\n",
            "500/500 [==============================] - 2s 4ms/step - loss: 0.4072 - accuracy: 0.8100 - val_loss: 0.4225 - val_accuracy: 0.8280\n",
            "Epoch 88/125\n",
            "500/500 [==============================] - 2s 5ms/step - loss: 0.4042 - accuracy: 0.8180 - val_loss: 0.4408 - val_accuracy: 0.8200\n",
            "Epoch 89/125\n",
            "500/500 [==============================] - 2s 5ms/step - loss: 0.4061 - accuracy: 0.8320 - val_loss: 0.4574 - val_accuracy: 0.8300\n",
            "Epoch 90/125\n",
            "500/500 [==============================] - 2s 5ms/step - loss: 0.4149 - accuracy: 0.8180 - val_loss: 0.4248 - val_accuracy: 0.8260\n",
            "Epoch 91/125\n",
            "500/500 [==============================] - 2s 4ms/step - loss: 0.4021 - accuracy: 0.8180 - val_loss: 0.4364 - val_accuracy: 0.8180\n",
            "Epoch 92/125\n",
            "500/500 [==============================] - 2s 5ms/step - loss: 0.4010 - accuracy: 0.8340 - val_loss: 0.4301 - val_accuracy: 0.8160\n",
            "Epoch 93/125\n",
            "500/500 [==============================] - 2s 4ms/step - loss: 0.4179 - accuracy: 0.8120 - val_loss: 0.4512 - val_accuracy: 0.8220\n",
            "Epoch 94/125\n",
            "500/500 [==============================] - 2s 5ms/step - loss: 0.3950 - accuracy: 0.8360 - val_loss: 0.4339 - val_accuracy: 0.8280\n",
            "Epoch 95/125\n",
            "500/500 [==============================] - 2s 4ms/step - loss: 0.3936 - accuracy: 0.8260 - val_loss: 0.4961 - val_accuracy: 0.7900\n",
            "Epoch 96/125\n",
            "500/500 [==============================] - 2s 4ms/step - loss: 0.4107 - accuracy: 0.8120 - val_loss: 0.4308 - val_accuracy: 0.8200\n",
            "Epoch 97/125\n",
            "500/500 [==============================] - 2s 4ms/step - loss: 0.4033 - accuracy: 0.8200 - val_loss: 0.4363 - val_accuracy: 0.8180\n",
            "Epoch 98/125\n",
            "500/500 [==============================] - 2s 4ms/step - loss: 0.4056 - accuracy: 0.8220 - val_loss: 0.4338 - val_accuracy: 0.8240\n",
            "Epoch 99/125\n",
            "500/500 [==============================] - 2s 5ms/step - loss: 0.4027 - accuracy: 0.8200 - val_loss: 0.4574 - val_accuracy: 0.8300\n",
            "Epoch 100/125\n",
            "500/500 [==============================] - 2s 4ms/step - loss: 0.4034 - accuracy: 0.8220 - val_loss: 0.4223 - val_accuracy: 0.8240\n",
            "Epoch 101/125\n",
            "500/500 [==============================] - 4s 7ms/step - loss: 0.3916 - accuracy: 0.8260 - val_loss: 0.4506 - val_accuracy: 0.8100\n",
            "Epoch 102/125\n",
            "500/500 [==============================] - 3s 5ms/step - loss: 0.4102 - accuracy: 0.8200 - val_loss: 0.4663 - val_accuracy: 0.8240\n",
            "Epoch 103/125\n",
            "500/500 [==============================] - 2s 4ms/step - loss: 0.4035 - accuracy: 0.8240 - val_loss: 0.4467 - val_accuracy: 0.8180\n",
            "Epoch 104/125\n",
            "500/500 [==============================] - 2s 4ms/step - loss: 0.4010 - accuracy: 0.8220 - val_loss: 0.4658 - val_accuracy: 0.8140\n",
            "Epoch 105/125\n",
            "500/500 [==============================] - 2s 4ms/step - loss: 0.3990 - accuracy: 0.8220 - val_loss: 0.4504 - val_accuracy: 0.8220\n",
            "Epoch 106/125\n",
            "500/500 [==============================] - 2s 5ms/step - loss: 0.3950 - accuracy: 0.8260 - val_loss: 0.4304 - val_accuracy: 0.8240\n",
            "Epoch 107/125\n",
            "500/500 [==============================] - 3s 6ms/step - loss: 0.3989 - accuracy: 0.8260 - val_loss: 0.4489 - val_accuracy: 0.8240\n",
            "Epoch 108/125\n",
            "500/500 [==============================] - 2s 5ms/step - loss: 0.4032 - accuracy: 0.8160 - val_loss: 0.4356 - val_accuracy: 0.8240\n",
            "Epoch 109/125\n",
            "500/500 [==============================] - 2s 4ms/step - loss: 0.3997 - accuracy: 0.8240 - val_loss: 0.4376 - val_accuracy: 0.8320\n",
            "Epoch 110/125\n",
            "500/500 [==============================] - 2s 4ms/step - loss: 0.3984 - accuracy: 0.8200 - val_loss: 0.4956 - val_accuracy: 0.8120\n",
            "Epoch 111/125\n",
            "500/500 [==============================] - 2s 4ms/step - loss: 0.3958 - accuracy: 0.8360 - val_loss: 0.4574 - val_accuracy: 0.8240\n",
            "Epoch 112/125\n",
            "500/500 [==============================] - 2s 4ms/step - loss: 0.4012 - accuracy: 0.8180 - val_loss: 0.4510 - val_accuracy: 0.8180\n",
            "Epoch 113/125\n",
            "500/500 [==============================] - 2s 4ms/step - loss: 0.4039 - accuracy: 0.8340 - val_loss: 0.4417 - val_accuracy: 0.8240\n",
            "Epoch 114/125\n",
            "500/500 [==============================] - 2s 4ms/step - loss: 0.4022 - accuracy: 0.8100 - val_loss: 0.4826 - val_accuracy: 0.8020\n",
            "Epoch 115/125\n",
            "500/500 [==============================] - 2s 4ms/step - loss: 0.3920 - accuracy: 0.8380 - val_loss: 0.4650 - val_accuracy: 0.8280\n",
            "Epoch 116/125\n",
            "500/500 [==============================] - 2s 5ms/step - loss: 0.4085 - accuracy: 0.8220 - val_loss: 0.4506 - val_accuracy: 0.8200\n",
            "Epoch 117/125\n",
            "500/500 [==============================] - 2s 4ms/step - loss: 0.3961 - accuracy: 0.8240 - val_loss: 0.4494 - val_accuracy: 0.8220\n",
            "Epoch 118/125\n",
            "500/500 [==============================] - 2s 5ms/step - loss: 0.3903 - accuracy: 0.8140 - val_loss: 0.4736 - val_accuracy: 0.8220\n",
            "Epoch 119/125\n",
            "500/500 [==============================] - 3s 6ms/step - loss: 0.4033 - accuracy: 0.8300 - val_loss: 0.5262 - val_accuracy: 0.7760\n",
            "Epoch 120/125\n",
            "500/500 [==============================] - 2s 5ms/step - loss: 0.4059 - accuracy: 0.8240 - val_loss: 0.4519 - val_accuracy: 0.8220\n",
            "Epoch 121/125\n",
            "500/500 [==============================] - 2s 5ms/step - loss: 0.4151 - accuracy: 0.8140 - val_loss: 0.4391 - val_accuracy: 0.8200\n",
            "Epoch 122/125\n",
            "500/500 [==============================] - 2s 5ms/step - loss: 0.3936 - accuracy: 0.8220 - val_loss: 0.4307 - val_accuracy: 0.8180\n",
            "Epoch 123/125\n",
            "500/500 [==============================] - 2s 4ms/step - loss: 0.3924 - accuracy: 0.8120 - val_loss: 0.4345 - val_accuracy: 0.8220\n",
            "Epoch 124/125\n",
            "500/500 [==============================] - 2s 5ms/step - loss: 0.4067 - accuracy: 0.8140 - val_loss: 0.4316 - val_accuracy: 0.8220\n",
            "Epoch 125/125\n",
            "500/500 [==============================] - 2s 5ms/step - loss: 0.3965 - accuracy: 0.8240 - val_loss: 0.4499 - val_accuracy: 0.8280\n"
          ]
        }
      ],
      "source": [
        "### Your answer\n",
        "model = Sequential()\n",
        "\n",
        "# 1st layer\n",
        "model.add(Dense(50, kernel_initializer='he_uniform' ,  activation='relu'))\n",
        "\n",
        "# output layer\n",
        "model.add(Dense(3, activation='sigmoid'))\n",
        "\n",
        "# compile model\n",
        "model.compile(loss='categorical_crossentropy',\n",
        "              optimizer=tf.keras.optimizers.SGD(learning_rate=0.001, momentum=0.9),\n",
        "                metrics=['accuracy'])\n",
        "\n",
        "history = model.fit(X_train,\n",
        "              y_train,\n",
        "              validation_data=(X_test, y_test),\n",
        "              batch_size = 1,\n",
        "              epochs = 125\n",
        "              )"
      ]
    },
    {
      "cell_type": "markdown",
      "id": "ca24463c-6d6d-4dce-b365-1e0a10cbb6b9",
      "metadata": {
        "tags": [],
        "id": "ca24463c-6d6d-4dce-b365-1e0a10cbb6b9"
      },
      "source": [
        "##### Size =  16"
      ]
    },
    {
      "cell_type": "markdown",
      "id": "c9d3f83a-edf8-4f61-a0fe-db3261ace6ab",
      "metadata": {
        "id": "c9d3f83a-edf8-4f61-a0fe-db3261ace6ab"
      },
      "source": [
        "10. **Retrain for 16 batch size**"
      ]
    },
    {
      "cell_type": "code",
      "execution_count": 140,
      "id": "589fd6d3-6c4d-48ed-b5db-9e3d931725d0",
      "metadata": {
        "id": "589fd6d3-6c4d-48ed-b5db-9e3d931725d0",
        "colab": {
          "base_uri": "https://localhost:8080/"
        },
        "outputId": "72d1fae7-017d-469b-87b9-f06d6c17b6dd"
      },
      "outputs": [
        {
          "output_type": "stream",
          "name": "stdout",
          "text": [
            "Epoch 1/125\n",
            "27/27 [==============================] - 1s 9ms/step - loss: 3.0594 - accuracy: 0.5035 - val_loss: 1.6464 - val_accuracy: 0.6400\n",
            "Epoch 2/125\n",
            "27/27 [==============================] - 0s 4ms/step - loss: 1.4393 - accuracy: 0.5882 - val_loss: 0.8691 - val_accuracy: 0.6933\n",
            "Epoch 3/125\n",
            "27/27 [==============================] - 0s 4ms/step - loss: 1.1935 - accuracy: 0.6165 - val_loss: 1.2867 - val_accuracy: 0.6800\n",
            "Epoch 4/125\n",
            "27/27 [==============================] - 0s 4ms/step - loss: 0.8833 - accuracy: 0.6847 - val_loss: 0.8572 - val_accuracy: 0.7467\n",
            "Epoch 5/125\n",
            "27/27 [==============================] - 0s 4ms/step - loss: 0.5871 - accuracy: 0.7435 - val_loss: 0.5882 - val_accuracy: 0.7333\n",
            "Epoch 6/125\n",
            "27/27 [==============================] - 0s 4ms/step - loss: 0.5309 - accuracy: 0.7647 - val_loss: 0.5189 - val_accuracy: 0.8000\n",
            "Epoch 7/125\n",
            "27/27 [==============================] - 0s 4ms/step - loss: 0.5328 - accuracy: 0.7576 - val_loss: 0.4723 - val_accuracy: 0.8133\n",
            "Epoch 8/125\n",
            "27/27 [==============================] - 0s 4ms/step - loss: 0.4881 - accuracy: 0.7835 - val_loss: 0.5266 - val_accuracy: 0.7600\n",
            "Epoch 9/125\n",
            "27/27 [==============================] - 0s 4ms/step - loss: 0.4818 - accuracy: 0.7765 - val_loss: 0.5022 - val_accuracy: 0.7867\n",
            "Epoch 10/125\n",
            "27/27 [==============================] - 0s 4ms/step - loss: 0.4911 - accuracy: 0.7741 - val_loss: 0.6039 - val_accuracy: 0.7600\n",
            "Epoch 11/125\n",
            "27/27 [==============================] - 0s 4ms/step - loss: 0.5025 - accuracy: 0.7929 - val_loss: 0.5690 - val_accuracy: 0.7467\n",
            "Epoch 12/125\n",
            "27/27 [==============================] - 0s 4ms/step - loss: 0.4537 - accuracy: 0.8094 - val_loss: 0.4782 - val_accuracy: 0.8267\n",
            "Epoch 13/125\n",
            "27/27 [==============================] - 0s 4ms/step - loss: 0.4307 - accuracy: 0.8024 - val_loss: 0.4641 - val_accuracy: 0.8133\n",
            "Epoch 14/125\n",
            "27/27 [==============================] - 0s 4ms/step - loss: 0.4337 - accuracy: 0.8141 - val_loss: 0.4658 - val_accuracy: 0.8000\n",
            "Epoch 15/125\n",
            "27/27 [==============================] - 0s 4ms/step - loss: 0.4331 - accuracy: 0.7929 - val_loss: 0.5343 - val_accuracy: 0.7733\n",
            "Epoch 16/125\n",
            "27/27 [==============================] - 0s 5ms/step - loss: 0.4800 - accuracy: 0.7929 - val_loss: 0.4723 - val_accuracy: 0.7467\n",
            "Epoch 17/125\n",
            "27/27 [==============================] - 0s 4ms/step - loss: 0.4207 - accuracy: 0.8118 - val_loss: 0.5500 - val_accuracy: 0.7600\n",
            "Epoch 18/125\n",
            "27/27 [==============================] - 0s 4ms/step - loss: 0.4359 - accuracy: 0.8141 - val_loss: 0.4836 - val_accuracy: 0.7867\n",
            "Epoch 19/125\n",
            "27/27 [==============================] - 0s 4ms/step - loss: 0.4246 - accuracy: 0.8141 - val_loss: 0.5012 - val_accuracy: 0.7467\n",
            "Epoch 20/125\n",
            "27/27 [==============================] - 0s 4ms/step - loss: 0.4634 - accuracy: 0.8024 - val_loss: 0.4429 - val_accuracy: 0.8133\n",
            "Epoch 21/125\n",
            "27/27 [==============================] - 0s 4ms/step - loss: 0.3994 - accuracy: 0.8282 - val_loss: 0.4611 - val_accuracy: 0.7467\n",
            "Epoch 22/125\n",
            "27/27 [==============================] - 0s 4ms/step - loss: 0.4073 - accuracy: 0.8282 - val_loss: 0.4934 - val_accuracy: 0.8000\n",
            "Epoch 23/125\n",
            "27/27 [==============================] - 0s 4ms/step - loss: 0.4045 - accuracy: 0.8235 - val_loss: 0.4656 - val_accuracy: 0.8000\n",
            "Epoch 24/125\n",
            "27/27 [==============================] - 0s 4ms/step - loss: 0.4417 - accuracy: 0.8094 - val_loss: 0.4489 - val_accuracy: 0.8000\n",
            "Epoch 25/125\n",
            "27/27 [==============================] - 0s 4ms/step - loss: 0.3956 - accuracy: 0.8235 - val_loss: 0.4906 - val_accuracy: 0.7733\n",
            "Epoch 26/125\n",
            "27/27 [==============================] - 0s 3ms/step - loss: 0.4285 - accuracy: 0.8047 - val_loss: 0.4875 - val_accuracy: 0.8133\n",
            "Epoch 27/125\n",
            "27/27 [==============================] - 0s 4ms/step - loss: 0.4288 - accuracy: 0.8165 - val_loss: 0.4684 - val_accuracy: 0.7867\n",
            "Epoch 28/125\n",
            "27/27 [==============================] - 0s 4ms/step - loss: 0.3997 - accuracy: 0.8282 - val_loss: 0.4506 - val_accuracy: 0.8400\n",
            "Epoch 29/125\n",
            "27/27 [==============================] - 0s 3ms/step - loss: 0.4134 - accuracy: 0.8259 - val_loss: 0.4600 - val_accuracy: 0.7733\n",
            "Epoch 30/125\n",
            "27/27 [==============================] - 0s 3ms/step - loss: 0.4056 - accuracy: 0.8235 - val_loss: 0.5097 - val_accuracy: 0.7333\n",
            "Epoch 31/125\n",
            "27/27 [==============================] - 0s 4ms/step - loss: 0.4222 - accuracy: 0.8235 - val_loss: 0.5206 - val_accuracy: 0.7600\n",
            "Epoch 32/125\n",
            "27/27 [==============================] - 0s 4ms/step - loss: 0.4121 - accuracy: 0.8259 - val_loss: 0.4985 - val_accuracy: 0.7733\n",
            "Epoch 33/125\n",
            "27/27 [==============================] - 0s 4ms/step - loss: 0.4386 - accuracy: 0.8071 - val_loss: 0.4398 - val_accuracy: 0.8400\n",
            "Epoch 34/125\n",
            "27/27 [==============================] - 0s 4ms/step - loss: 0.4546 - accuracy: 0.8024 - val_loss: 0.5407 - val_accuracy: 0.7867\n",
            "Epoch 35/125\n",
            "27/27 [==============================] - 0s 3ms/step - loss: 0.4412 - accuracy: 0.8000 - val_loss: 0.5183 - val_accuracy: 0.7733\n",
            "Epoch 36/125\n",
            "27/27 [==============================] - 0s 4ms/step - loss: 0.4240 - accuracy: 0.8165 - val_loss: 0.5189 - val_accuracy: 0.8400\n",
            "Epoch 37/125\n",
            "27/27 [==============================] - 0s 4ms/step - loss: 0.4220 - accuracy: 0.8094 - val_loss: 0.4642 - val_accuracy: 0.7867\n",
            "Epoch 38/125\n",
            "27/27 [==============================] - 0s 4ms/step - loss: 0.4060 - accuracy: 0.8235 - val_loss: 0.4818 - val_accuracy: 0.7600\n",
            "Epoch 39/125\n",
            "27/27 [==============================] - 0s 4ms/step - loss: 0.4109 - accuracy: 0.8118 - val_loss: 0.4643 - val_accuracy: 0.7600\n",
            "Epoch 40/125\n",
            "27/27 [==============================] - 0s 4ms/step - loss: 0.4093 - accuracy: 0.8165 - val_loss: 0.4784 - val_accuracy: 0.7600\n",
            "Epoch 41/125\n",
            "27/27 [==============================] - 0s 4ms/step - loss: 0.3946 - accuracy: 0.8447 - val_loss: 0.4947 - val_accuracy: 0.7600\n",
            "Epoch 42/125\n",
            "27/27 [==============================] - 0s 4ms/step - loss: 0.3994 - accuracy: 0.8235 - val_loss: 0.4703 - val_accuracy: 0.7333\n",
            "Epoch 43/125\n",
            "27/27 [==============================] - 0s 4ms/step - loss: 0.4144 - accuracy: 0.8024 - val_loss: 0.5022 - val_accuracy: 0.7733\n",
            "Epoch 44/125\n",
            "27/27 [==============================] - 0s 4ms/step - loss: 0.4267 - accuracy: 0.8047 - val_loss: 0.4933 - val_accuracy: 0.7733\n",
            "Epoch 45/125\n",
            "27/27 [==============================] - 0s 4ms/step - loss: 0.4071 - accuracy: 0.8259 - val_loss: 0.4896 - val_accuracy: 0.7467\n",
            "Epoch 46/125\n",
            "27/27 [==============================] - 0s 4ms/step - loss: 0.4045 - accuracy: 0.8047 - val_loss: 0.4517 - val_accuracy: 0.8133\n",
            "Epoch 47/125\n",
            "27/27 [==============================] - 0s 4ms/step - loss: 0.3855 - accuracy: 0.8259 - val_loss: 0.4925 - val_accuracy: 0.7733\n",
            "Epoch 48/125\n",
            "27/27 [==============================] - 0s 4ms/step - loss: 0.4120 - accuracy: 0.8188 - val_loss: 0.4985 - val_accuracy: 0.7600\n",
            "Epoch 49/125\n",
            "27/27 [==============================] - 0s 4ms/step - loss: 0.4118 - accuracy: 0.8118 - val_loss: 0.5066 - val_accuracy: 0.7600\n",
            "Epoch 50/125\n",
            "27/27 [==============================] - 0s 4ms/step - loss: 0.4252 - accuracy: 0.7976 - val_loss: 0.5507 - val_accuracy: 0.7867\n",
            "Epoch 51/125\n",
            "27/27 [==============================] - 0s 4ms/step - loss: 0.4344 - accuracy: 0.8259 - val_loss: 0.5191 - val_accuracy: 0.7733\n",
            "Epoch 52/125\n",
            "27/27 [==============================] - 0s 4ms/step - loss: 0.3961 - accuracy: 0.8212 - val_loss: 0.4619 - val_accuracy: 0.7867\n",
            "Epoch 53/125\n",
            "27/27 [==============================] - 0s 4ms/step - loss: 0.3915 - accuracy: 0.8188 - val_loss: 0.5564 - val_accuracy: 0.7733\n",
            "Epoch 54/125\n",
            "27/27 [==============================] - 0s 3ms/step - loss: 0.4551 - accuracy: 0.7976 - val_loss: 0.4865 - val_accuracy: 0.8000\n",
            "Epoch 55/125\n",
            "27/27 [==============================] - 0s 4ms/step - loss: 0.3911 - accuracy: 0.8212 - val_loss: 0.4544 - val_accuracy: 0.8267\n",
            "Epoch 56/125\n",
            "27/27 [==============================] - 0s 4ms/step - loss: 0.3990 - accuracy: 0.8212 - val_loss: 0.4868 - val_accuracy: 0.7600\n",
            "Epoch 57/125\n",
            "27/27 [==============================] - 0s 3ms/step - loss: 0.3982 - accuracy: 0.8306 - val_loss: 0.4993 - val_accuracy: 0.7467\n",
            "Epoch 58/125\n",
            "27/27 [==============================] - 0s 4ms/step - loss: 0.4107 - accuracy: 0.8141 - val_loss: 0.5174 - val_accuracy: 0.8267\n",
            "Epoch 59/125\n",
            "27/27 [==============================] - 0s 3ms/step - loss: 0.4004 - accuracy: 0.7976 - val_loss: 0.4688 - val_accuracy: 0.7600\n",
            "Epoch 60/125\n",
            "27/27 [==============================] - 0s 4ms/step - loss: 0.3898 - accuracy: 0.8306 - val_loss: 0.4722 - val_accuracy: 0.7600\n",
            "Epoch 61/125\n",
            "27/27 [==============================] - 0s 4ms/step - loss: 0.3967 - accuracy: 0.8165 - val_loss: 0.5213 - val_accuracy: 0.7867\n",
            "Epoch 62/125\n",
            "27/27 [==============================] - 0s 4ms/step - loss: 0.3852 - accuracy: 0.8188 - val_loss: 0.4887 - val_accuracy: 0.7600\n",
            "Epoch 63/125\n",
            "27/27 [==============================] - 0s 3ms/step - loss: 0.3845 - accuracy: 0.8376 - val_loss: 0.4783 - val_accuracy: 0.8133\n",
            "Epoch 64/125\n",
            "27/27 [==============================] - 0s 4ms/step - loss: 0.4083 - accuracy: 0.7976 - val_loss: 0.4687 - val_accuracy: 0.7600\n",
            "Epoch 65/125\n",
            "27/27 [==============================] - 0s 4ms/step - loss: 0.3913 - accuracy: 0.8424 - val_loss: 0.4756 - val_accuracy: 0.7600\n",
            "Epoch 66/125\n",
            "27/27 [==============================] - 0s 3ms/step - loss: 0.4012 - accuracy: 0.8306 - val_loss: 0.4957 - val_accuracy: 0.8133\n",
            "Epoch 67/125\n",
            "27/27 [==============================] - 0s 3ms/step - loss: 0.3841 - accuracy: 0.8376 - val_loss: 0.4763 - val_accuracy: 0.7467\n",
            "Epoch 68/125\n",
            "27/27 [==============================] - 0s 3ms/step - loss: 0.3967 - accuracy: 0.8376 - val_loss: 0.5107 - val_accuracy: 0.7733\n",
            "Epoch 69/125\n",
            "27/27 [==============================] - 0s 4ms/step - loss: 0.4315 - accuracy: 0.7906 - val_loss: 0.5094 - val_accuracy: 0.7733\n",
            "Epoch 70/125\n",
            "27/27 [==============================] - 0s 4ms/step - loss: 0.3900 - accuracy: 0.8259 - val_loss: 0.4897 - val_accuracy: 0.7867\n",
            "Epoch 71/125\n",
            "27/27 [==============================] - 0s 4ms/step - loss: 0.3875 - accuracy: 0.8212 - val_loss: 0.4890 - val_accuracy: 0.8000\n",
            "Epoch 72/125\n",
            "27/27 [==============================] - 0s 4ms/step - loss: 0.3778 - accuracy: 0.8518 - val_loss: 0.4889 - val_accuracy: 0.7600\n",
            "Epoch 73/125\n",
            "27/27 [==============================] - 0s 4ms/step - loss: 0.3855 - accuracy: 0.8353 - val_loss: 0.4975 - val_accuracy: 0.8000\n",
            "Epoch 74/125\n",
            "27/27 [==============================] - 0s 4ms/step - loss: 0.3990 - accuracy: 0.8306 - val_loss: 0.4805 - val_accuracy: 0.7867\n",
            "Epoch 75/125\n",
            "27/27 [==============================] - 0s 4ms/step - loss: 0.3773 - accuracy: 0.8282 - val_loss: 0.4596 - val_accuracy: 0.8267\n",
            "Epoch 76/125\n",
            "27/27 [==============================] - 0s 4ms/step - loss: 0.3874 - accuracy: 0.8424 - val_loss: 0.5509 - val_accuracy: 0.7467\n",
            "Epoch 77/125\n",
            "27/27 [==============================] - 0s 4ms/step - loss: 0.3997 - accuracy: 0.8141 - val_loss: 0.4607 - val_accuracy: 0.8000\n",
            "Epoch 78/125\n",
            "27/27 [==============================] - 0s 3ms/step - loss: 0.3937 - accuracy: 0.8165 - val_loss: 0.4553 - val_accuracy: 0.7600\n",
            "Epoch 79/125\n",
            "27/27 [==============================] - 0s 3ms/step - loss: 0.3828 - accuracy: 0.8212 - val_loss: 0.4764 - val_accuracy: 0.7600\n",
            "Epoch 80/125\n",
            "27/27 [==============================] - 0s 4ms/step - loss: 0.3906 - accuracy: 0.8259 - val_loss: 0.5558 - val_accuracy: 0.7733\n",
            "Epoch 81/125\n",
            "27/27 [==============================] - 0s 4ms/step - loss: 0.3811 - accuracy: 0.8235 - val_loss: 0.4526 - val_accuracy: 0.8133\n",
            "Epoch 82/125\n",
            "27/27 [==============================] - 0s 4ms/step - loss: 0.3924 - accuracy: 0.8259 - val_loss: 0.4777 - val_accuracy: 0.7600\n",
            "Epoch 83/125\n",
            "27/27 [==============================] - 0s 4ms/step - loss: 0.3874 - accuracy: 0.8306 - val_loss: 0.5456 - val_accuracy: 0.7600\n",
            "Epoch 84/125\n",
            "27/27 [==============================] - 0s 4ms/step - loss: 0.3940 - accuracy: 0.8118 - val_loss: 0.5258 - val_accuracy: 0.7333\n",
            "Epoch 85/125\n",
            "27/27 [==============================] - 0s 4ms/step - loss: 0.4012 - accuracy: 0.8118 - val_loss: 0.4494 - val_accuracy: 0.8000\n",
            "Epoch 86/125\n",
            "27/27 [==============================] - 0s 4ms/step - loss: 0.3865 - accuracy: 0.8353 - val_loss: 0.5056 - val_accuracy: 0.7467\n",
            "Epoch 87/125\n",
            "27/27 [==============================] - 0s 4ms/step - loss: 0.3818 - accuracy: 0.8212 - val_loss: 0.4844 - val_accuracy: 0.7600\n",
            "Epoch 88/125\n",
            "27/27 [==============================] - 0s 4ms/step - loss: 0.3765 - accuracy: 0.8376 - val_loss: 0.5117 - val_accuracy: 0.7333\n",
            "Epoch 89/125\n",
            "27/27 [==============================] - 0s 4ms/step - loss: 0.3777 - accuracy: 0.8424 - val_loss: 0.4836 - val_accuracy: 0.7733\n",
            "Epoch 90/125\n",
            "27/27 [==============================] - 0s 4ms/step - loss: 0.3852 - accuracy: 0.8282 - val_loss: 0.4899 - val_accuracy: 0.7733\n",
            "Epoch 91/125\n",
            "27/27 [==============================] - 0s 4ms/step - loss: 0.4057 - accuracy: 0.8071 - val_loss: 0.5051 - val_accuracy: 0.7733\n",
            "Epoch 92/125\n",
            "27/27 [==============================] - 0s 4ms/step - loss: 0.4034 - accuracy: 0.8235 - val_loss: 0.5035 - val_accuracy: 0.7600\n",
            "Epoch 93/125\n",
            "27/27 [==============================] - 0s 4ms/step - loss: 0.3936 - accuracy: 0.8282 - val_loss: 0.4832 - val_accuracy: 0.7600\n",
            "Epoch 94/125\n",
            "27/27 [==============================] - 0s 4ms/step - loss: 0.3937 - accuracy: 0.8329 - val_loss: 0.4639 - val_accuracy: 0.8267\n",
            "Epoch 95/125\n",
            "27/27 [==============================] - 0s 4ms/step - loss: 0.3868 - accuracy: 0.8188 - val_loss: 0.4868 - val_accuracy: 0.7867\n",
            "Epoch 96/125\n",
            "27/27 [==============================] - 0s 4ms/step - loss: 0.3782 - accuracy: 0.8212 - val_loss: 0.4946 - val_accuracy: 0.7867\n",
            "Epoch 97/125\n",
            "27/27 [==============================] - 0s 3ms/step - loss: 0.3845 - accuracy: 0.8259 - val_loss: 0.5199 - val_accuracy: 0.7733\n",
            "Epoch 98/125\n",
            "27/27 [==============================] - 0s 3ms/step - loss: 0.3930 - accuracy: 0.8353 - val_loss: 0.4661 - val_accuracy: 0.8400\n",
            "Epoch 99/125\n",
            "27/27 [==============================] - 0s 4ms/step - loss: 0.3963 - accuracy: 0.8376 - val_loss: 0.4958 - val_accuracy: 0.7600\n",
            "Epoch 100/125\n",
            "27/27 [==============================] - 0s 3ms/step - loss: 0.3835 - accuracy: 0.8259 - val_loss: 0.5264 - val_accuracy: 0.7733\n",
            "Epoch 101/125\n",
            "27/27 [==============================] - 0s 4ms/step - loss: 0.3844 - accuracy: 0.8282 - val_loss: 0.4540 - val_accuracy: 0.7600\n",
            "Epoch 102/125\n",
            "27/27 [==============================] - 0s 4ms/step - loss: 0.3721 - accuracy: 0.8306 - val_loss: 0.5105 - val_accuracy: 0.7733\n",
            "Epoch 103/125\n",
            "27/27 [==============================] - 0s 4ms/step - loss: 0.3744 - accuracy: 0.8329 - val_loss: 0.5431 - val_accuracy: 0.7600\n",
            "Epoch 104/125\n",
            "27/27 [==============================] - 0s 4ms/step - loss: 0.3828 - accuracy: 0.8282 - val_loss: 0.4930 - val_accuracy: 0.7600\n",
            "Epoch 105/125\n",
            "27/27 [==============================] - 0s 4ms/step - loss: 0.3978 - accuracy: 0.8141 - val_loss: 0.5322 - val_accuracy: 0.7867\n",
            "Epoch 106/125\n",
            "27/27 [==============================] - 0s 4ms/step - loss: 0.4096 - accuracy: 0.8188 - val_loss: 0.4881 - val_accuracy: 0.7600\n",
            "Epoch 107/125\n",
            "27/27 [==============================] - 0s 4ms/step - loss: 0.3782 - accuracy: 0.8329 - val_loss: 0.4710 - val_accuracy: 0.8000\n",
            "Epoch 108/125\n",
            "27/27 [==============================] - 0s 4ms/step - loss: 0.3908 - accuracy: 0.8400 - val_loss: 0.4897 - val_accuracy: 0.7600\n",
            "Epoch 109/125\n",
            "27/27 [==============================] - 0s 4ms/step - loss: 0.3973 - accuracy: 0.8094 - val_loss: 0.4952 - val_accuracy: 0.7600\n",
            "Epoch 110/125\n",
            "27/27 [==============================] - 0s 4ms/step - loss: 0.3851 - accuracy: 0.8306 - val_loss: 0.5114 - val_accuracy: 0.7733\n",
            "Epoch 111/125\n",
            "27/27 [==============================] - 0s 3ms/step - loss: 0.3738 - accuracy: 0.8165 - val_loss: 0.5016 - val_accuracy: 0.8267\n",
            "Epoch 112/125\n",
            "27/27 [==============================] - 0s 4ms/step - loss: 0.3851 - accuracy: 0.8259 - val_loss: 0.5261 - val_accuracy: 0.7467\n",
            "Epoch 113/125\n",
            "27/27 [==============================] - 0s 4ms/step - loss: 0.4102 - accuracy: 0.8118 - val_loss: 0.5052 - val_accuracy: 0.7467\n",
            "Epoch 114/125\n",
            "27/27 [==============================] - 0s 4ms/step - loss: 0.3792 - accuracy: 0.8376 - val_loss: 0.4896 - val_accuracy: 0.7867\n",
            "Epoch 115/125\n",
            "27/27 [==============================] - 0s 4ms/step - loss: 0.3798 - accuracy: 0.8259 - val_loss: 0.4699 - val_accuracy: 0.8267\n",
            "Epoch 116/125\n",
            "27/27 [==============================] - 0s 4ms/step - loss: 0.3749 - accuracy: 0.8259 - val_loss: 0.5040 - val_accuracy: 0.7600\n",
            "Epoch 117/125\n",
            "27/27 [==============================] - 0s 4ms/step - loss: 0.3765 - accuracy: 0.8282 - val_loss: 0.4700 - val_accuracy: 0.7733\n",
            "Epoch 118/125\n",
            "27/27 [==============================] - 0s 4ms/step - loss: 0.3948 - accuracy: 0.8400 - val_loss: 0.4918 - val_accuracy: 0.7867\n",
            "Epoch 119/125\n",
            "27/27 [==============================] - 0s 4ms/step - loss: 0.3830 - accuracy: 0.8141 - val_loss: 0.4965 - val_accuracy: 0.7467\n",
            "Epoch 120/125\n",
            "27/27 [==============================] - 0s 3ms/step - loss: 0.3788 - accuracy: 0.8376 - val_loss: 0.4543 - val_accuracy: 0.8133\n",
            "Epoch 121/125\n",
            "27/27 [==============================] - 0s 4ms/step - loss: 0.3855 - accuracy: 0.8306 - val_loss: 0.4831 - val_accuracy: 0.7600\n",
            "Epoch 122/125\n",
            "27/27 [==============================] - 0s 4ms/step - loss: 0.3767 - accuracy: 0.8329 - val_loss: 0.4675 - val_accuracy: 0.8000\n",
            "Epoch 123/125\n",
            "27/27 [==============================] - 0s 4ms/step - loss: 0.3771 - accuracy: 0.8353 - val_loss: 0.5182 - val_accuracy: 0.7733\n",
            "Epoch 124/125\n",
            "27/27 [==============================] - 0s 4ms/step - loss: 0.3761 - accuracy: 0.8400 - val_loss: 0.4901 - val_accuracy: 0.7600\n",
            "Epoch 125/125\n",
            "27/27 [==============================] - 0s 4ms/step - loss: 0.3760 - accuracy: 0.8353 - val_loss: 0.5257 - val_accuracy: 0.7467\n",
            "16/16 - 0s - loss: 0.4550 - accuracy: 0.8140 - 47ms/epoch - 3ms/step\n"
          ]
        }
      ],
      "source": [
        "### START CODE HERE ### \n",
        "batch_size = 16\n",
        "\n",
        "history = fit_model(X_train, y_train, X_test, y_test, batch_size)\n",
        "###### END CODE HERE"
      ]
    },
    {
      "cell_type": "code",
      "execution_count": 141,
      "id": "be8533d7-34a0-4072-a9f3-600ddb9e58df",
      "metadata": {
        "tags": [],
        "id": "be8533d7-34a0-4072-a9f3-600ddb9e58df",
        "colab": {
          "base_uri": "https://localhost:8080/",
          "height": 464
        },
        "outputId": "57578c20-35e1-415b-953c-1ebf6f66a7c5"
      },
      "outputs": [
        {
          "output_type": "display_data",
          "data": {
            "text/plain": [
              "<Figure size 720x360 with 1 Axes>"
            ],
            "image/svg+xml": "<?xml version=\"1.0\" encoding=\"utf-8\" standalone=\"no\"?>\n<!DOCTYPE svg PUBLIC \"-//W3C//DTD SVG 1.1//EN\"\n  \"http://www.w3.org/Graphics/SVG/1.1/DTD/svg11.dtd\">\n<!-- Created with matplotlib (https://matplotlib.org/) -->\n<svg height=\"331.674375pt\" version=\"1.1\" viewBox=\"0 0 608.98125 331.674375\" width=\"608.98125pt\" xmlns=\"http://www.w3.org/2000/svg\" xmlns:xlink=\"http://www.w3.org/1999/xlink\">\n <defs>\n  <style type=\"text/css\">\n*{stroke-linecap:butt;stroke-linejoin:round;}\n  </style>\n </defs>\n <g id=\"figure_1\">\n  <g id=\"patch_1\">\n   <path d=\"M 0 331.674375 \nL 608.98125 331.674375 \nL 608.98125 0 \nL 0 0 \nz\n\" style=\"fill:none;\"/>\n  </g>\n  <g id=\"axes_1\">\n   <g id=\"patch_2\">\n    <path d=\"M 43.78125 294.118125 \nL 601.78125 294.118125 \nL 601.78125 22.318125 \nL 43.78125 22.318125 \nz\n\" style=\"fill:#ffffff;\"/>\n   </g>\n   <g id=\"matplotlib.axis_1\">\n    <g id=\"xtick_1\">\n     <g id=\"line2d_1\">\n      <defs>\n       <path d=\"M 0 0 \nL 0 3.5 \n\" id=\"mb447c10994\" style=\"stroke:#000000;stroke-width:0.8;\"/>\n      </defs>\n      <g>\n       <use style=\"stroke:#000000;stroke-width:0.8;\" x=\"69.144886\" xlink:href=\"#mb447c10994\" y=\"294.118125\"/>\n      </g>\n     </g>\n     <g id=\"text_1\">\n      <!-- 0 -->\n      <defs>\n       <path d=\"M 31.78125 66.40625 \nQ 24.171875 66.40625 20.328125 58.90625 \nQ 16.5 51.421875 16.5 36.375 \nQ 16.5 21.390625 20.328125 13.890625 \nQ 24.171875 6.390625 31.78125 6.390625 \nQ 39.453125 6.390625 43.28125 13.890625 \nQ 47.125 21.390625 47.125 36.375 \nQ 47.125 51.421875 43.28125 58.90625 \nQ 39.453125 66.40625 31.78125 66.40625 \nz\nM 31.78125 74.21875 \nQ 44.046875 74.21875 50.515625 64.515625 \nQ 56.984375 54.828125 56.984375 36.375 \nQ 56.984375 17.96875 50.515625 8.265625 \nQ 44.046875 -1.421875 31.78125 -1.421875 \nQ 19.53125 -1.421875 13.0625 8.265625 \nQ 6.59375 17.96875 6.59375 36.375 \nQ 6.59375 54.828125 13.0625 64.515625 \nQ 19.53125 74.21875 31.78125 74.21875 \nz\n\" id=\"DejaVuSans-48\"/>\n      </defs>\n      <g transform=\"translate(65.963636 308.716563)scale(0.1 -0.1)\">\n       <use xlink:href=\"#DejaVuSans-48\"/>\n      </g>\n     </g>\n    </g>\n    <g id=\"xtick_2\">\n     <g id=\"line2d_2\">\n      <g>\n       <use style=\"stroke:#000000;stroke-width:0.8;\" x=\"150.963068\" xlink:href=\"#mb447c10994\" y=\"294.118125\"/>\n      </g>\n     </g>\n     <g id=\"text_2\">\n      <!-- 20 -->\n      <defs>\n       <path d=\"M 19.1875 8.296875 \nL 53.609375 8.296875 \nL 53.609375 0 \nL 7.328125 0 \nL 7.328125 8.296875 \nQ 12.9375 14.109375 22.625 23.890625 \nQ 32.328125 33.6875 34.8125 36.53125 \nQ 39.546875 41.84375 41.421875 45.53125 \nQ 43.3125 49.21875 43.3125 52.78125 \nQ 43.3125 58.59375 39.234375 62.25 \nQ 35.15625 65.921875 28.609375 65.921875 \nQ 23.96875 65.921875 18.8125 64.3125 \nQ 13.671875 62.703125 7.8125 59.421875 \nL 7.8125 69.390625 \nQ 13.765625 71.78125 18.9375 73 \nQ 24.125 74.21875 28.421875 74.21875 \nQ 39.75 74.21875 46.484375 68.546875 \nQ 53.21875 62.890625 53.21875 53.421875 \nQ 53.21875 48.921875 51.53125 44.890625 \nQ 49.859375 40.875 45.40625 35.40625 \nQ 44.1875 33.984375 37.640625 27.21875 \nQ 31.109375 20.453125 19.1875 8.296875 \nz\n\" id=\"DejaVuSans-50\"/>\n      </defs>\n      <g transform=\"translate(144.600568 308.716563)scale(0.1 -0.1)\">\n       <use xlink:href=\"#DejaVuSans-50\"/>\n       <use x=\"63.623047\" xlink:href=\"#DejaVuSans-48\"/>\n      </g>\n     </g>\n    </g>\n    <g id=\"xtick_3\">\n     <g id=\"line2d_3\">\n      <g>\n       <use style=\"stroke:#000000;stroke-width:0.8;\" x=\"232.78125\" xlink:href=\"#mb447c10994\" y=\"294.118125\"/>\n      </g>\n     </g>\n     <g id=\"text_3\">\n      <!-- 40 -->\n      <defs>\n       <path d=\"M 37.796875 64.3125 \nL 12.890625 25.390625 \nL 37.796875 25.390625 \nz\nM 35.203125 72.90625 \nL 47.609375 72.90625 \nL 47.609375 25.390625 \nL 58.015625 25.390625 \nL 58.015625 17.1875 \nL 47.609375 17.1875 \nL 47.609375 0 \nL 37.796875 0 \nL 37.796875 17.1875 \nL 4.890625 17.1875 \nL 4.890625 26.703125 \nz\n\" id=\"DejaVuSans-52\"/>\n      </defs>\n      <g transform=\"translate(226.41875 308.716563)scale(0.1 -0.1)\">\n       <use xlink:href=\"#DejaVuSans-52\"/>\n       <use x=\"63.623047\" xlink:href=\"#DejaVuSans-48\"/>\n      </g>\n     </g>\n    </g>\n    <g id=\"xtick_4\">\n     <g id=\"line2d_4\">\n      <g>\n       <use style=\"stroke:#000000;stroke-width:0.8;\" x=\"314.599432\" xlink:href=\"#mb447c10994\" y=\"294.118125\"/>\n      </g>\n     </g>\n     <g id=\"text_4\">\n      <!-- 60 -->\n      <defs>\n       <path d=\"M 33.015625 40.375 \nQ 26.375 40.375 22.484375 35.828125 \nQ 18.609375 31.296875 18.609375 23.390625 \nQ 18.609375 15.53125 22.484375 10.953125 \nQ 26.375 6.390625 33.015625 6.390625 \nQ 39.65625 6.390625 43.53125 10.953125 \nQ 47.40625 15.53125 47.40625 23.390625 \nQ 47.40625 31.296875 43.53125 35.828125 \nQ 39.65625 40.375 33.015625 40.375 \nz\nM 52.59375 71.296875 \nL 52.59375 62.3125 \nQ 48.875 64.0625 45.09375 64.984375 \nQ 41.3125 65.921875 37.59375 65.921875 \nQ 27.828125 65.921875 22.671875 59.328125 \nQ 17.53125 52.734375 16.796875 39.40625 \nQ 19.671875 43.65625 24.015625 45.921875 \nQ 28.375 48.1875 33.59375 48.1875 \nQ 44.578125 48.1875 50.953125 41.515625 \nQ 57.328125 34.859375 57.328125 23.390625 \nQ 57.328125 12.15625 50.6875 5.359375 \nQ 44.046875 -1.421875 33.015625 -1.421875 \nQ 20.359375 -1.421875 13.671875 8.265625 \nQ 6.984375 17.96875 6.984375 36.375 \nQ 6.984375 53.65625 15.1875 63.9375 \nQ 23.390625 74.21875 37.203125 74.21875 \nQ 40.921875 74.21875 44.703125 73.484375 \nQ 48.484375 72.75 52.59375 71.296875 \nz\n\" id=\"DejaVuSans-54\"/>\n      </defs>\n      <g transform=\"translate(308.236932 308.716563)scale(0.1 -0.1)\">\n       <use xlink:href=\"#DejaVuSans-54\"/>\n       <use x=\"63.623047\" xlink:href=\"#DejaVuSans-48\"/>\n      </g>\n     </g>\n    </g>\n    <g id=\"xtick_5\">\n     <g id=\"line2d_5\">\n      <g>\n       <use style=\"stroke:#000000;stroke-width:0.8;\" x=\"396.417614\" xlink:href=\"#mb447c10994\" y=\"294.118125\"/>\n      </g>\n     </g>\n     <g id=\"text_5\">\n      <!-- 80 -->\n      <defs>\n       <path d=\"M 31.78125 34.625 \nQ 24.75 34.625 20.71875 30.859375 \nQ 16.703125 27.09375 16.703125 20.515625 \nQ 16.703125 13.921875 20.71875 10.15625 \nQ 24.75 6.390625 31.78125 6.390625 \nQ 38.8125 6.390625 42.859375 10.171875 \nQ 46.921875 13.96875 46.921875 20.515625 \nQ 46.921875 27.09375 42.890625 30.859375 \nQ 38.875 34.625 31.78125 34.625 \nz\nM 21.921875 38.8125 \nQ 15.578125 40.375 12.03125 44.71875 \nQ 8.5 49.078125 8.5 55.328125 \nQ 8.5 64.0625 14.71875 69.140625 \nQ 20.953125 74.21875 31.78125 74.21875 \nQ 42.671875 74.21875 48.875 69.140625 \nQ 55.078125 64.0625 55.078125 55.328125 \nQ 55.078125 49.078125 51.53125 44.71875 \nQ 48 40.375 41.703125 38.8125 \nQ 48.828125 37.15625 52.796875 32.3125 \nQ 56.78125 27.484375 56.78125 20.515625 \nQ 56.78125 9.90625 50.3125 4.234375 \nQ 43.84375 -1.421875 31.78125 -1.421875 \nQ 19.734375 -1.421875 13.25 4.234375 \nQ 6.78125 9.90625 6.78125 20.515625 \nQ 6.78125 27.484375 10.78125 32.3125 \nQ 14.796875 37.15625 21.921875 38.8125 \nz\nM 18.3125 54.390625 \nQ 18.3125 48.734375 21.84375 45.5625 \nQ 25.390625 42.390625 31.78125 42.390625 \nQ 38.140625 42.390625 41.71875 45.5625 \nQ 45.3125 48.734375 45.3125 54.390625 \nQ 45.3125 60.0625 41.71875 63.234375 \nQ 38.140625 66.40625 31.78125 66.40625 \nQ 25.390625 66.40625 21.84375 63.234375 \nQ 18.3125 60.0625 18.3125 54.390625 \nz\n\" id=\"DejaVuSans-56\"/>\n      </defs>\n      <g transform=\"translate(390.055114 308.716563)scale(0.1 -0.1)\">\n       <use xlink:href=\"#DejaVuSans-56\"/>\n       <use x=\"63.623047\" xlink:href=\"#DejaVuSans-48\"/>\n      </g>\n     </g>\n    </g>\n    <g id=\"xtick_6\">\n     <g id=\"line2d_6\">\n      <g>\n       <use style=\"stroke:#000000;stroke-width:0.8;\" x=\"478.235795\" xlink:href=\"#mb447c10994\" y=\"294.118125\"/>\n      </g>\n     </g>\n     <g id=\"text_6\">\n      <!-- 100 -->\n      <defs>\n       <path d=\"M 12.40625 8.296875 \nL 28.515625 8.296875 \nL 28.515625 63.921875 \nL 10.984375 60.40625 \nL 10.984375 69.390625 \nL 28.421875 72.90625 \nL 38.28125 72.90625 \nL 38.28125 8.296875 \nL 54.390625 8.296875 \nL 54.390625 0 \nL 12.40625 0 \nz\n\" id=\"DejaVuSans-49\"/>\n      </defs>\n      <g transform=\"translate(468.692045 308.716563)scale(0.1 -0.1)\">\n       <use xlink:href=\"#DejaVuSans-49\"/>\n       <use x=\"63.623047\" xlink:href=\"#DejaVuSans-48\"/>\n       <use x=\"127.246094\" xlink:href=\"#DejaVuSans-48\"/>\n      </g>\n     </g>\n    </g>\n    <g id=\"xtick_7\">\n     <g id=\"line2d_7\">\n      <g>\n       <use style=\"stroke:#000000;stroke-width:0.8;\" x=\"560.053977\" xlink:href=\"#mb447c10994\" y=\"294.118125\"/>\n      </g>\n     </g>\n     <g id=\"text_7\">\n      <!-- 120 -->\n      <g transform=\"translate(550.510227 308.716563)scale(0.1 -0.1)\">\n       <use xlink:href=\"#DejaVuSans-49\"/>\n       <use x=\"63.623047\" xlink:href=\"#DejaVuSans-50\"/>\n       <use x=\"127.246094\" xlink:href=\"#DejaVuSans-48\"/>\n      </g>\n     </g>\n    </g>\n    <g id=\"text_8\">\n     <!-- Epoch -->\n     <defs>\n      <path d=\"M 9.8125 72.90625 \nL 55.90625 72.90625 \nL 55.90625 64.59375 \nL 19.671875 64.59375 \nL 19.671875 43.015625 \nL 54.390625 43.015625 \nL 54.390625 34.71875 \nL 19.671875 34.71875 \nL 19.671875 8.296875 \nL 56.78125 8.296875 \nL 56.78125 0 \nL 9.8125 0 \nz\n\" id=\"DejaVuSans-69\"/>\n      <path d=\"M 18.109375 8.203125 \nL 18.109375 -20.796875 \nL 9.078125 -20.796875 \nL 9.078125 54.6875 \nL 18.109375 54.6875 \nL 18.109375 46.390625 \nQ 20.953125 51.265625 25.265625 53.625 \nQ 29.59375 56 35.59375 56 \nQ 45.5625 56 51.78125 48.09375 \nQ 58.015625 40.1875 58.015625 27.296875 \nQ 58.015625 14.40625 51.78125 6.484375 \nQ 45.5625 -1.421875 35.59375 -1.421875 \nQ 29.59375 -1.421875 25.265625 0.953125 \nQ 20.953125 3.328125 18.109375 8.203125 \nz\nM 48.6875 27.296875 \nQ 48.6875 37.203125 44.609375 42.84375 \nQ 40.53125 48.484375 33.40625 48.484375 \nQ 26.265625 48.484375 22.1875 42.84375 \nQ 18.109375 37.203125 18.109375 27.296875 \nQ 18.109375 17.390625 22.1875 11.75 \nQ 26.265625 6.109375 33.40625 6.109375 \nQ 40.53125 6.109375 44.609375 11.75 \nQ 48.6875 17.390625 48.6875 27.296875 \nz\n\" id=\"DejaVuSans-112\"/>\n      <path d=\"M 30.609375 48.390625 \nQ 23.390625 48.390625 19.1875 42.75 \nQ 14.984375 37.109375 14.984375 27.296875 \nQ 14.984375 17.484375 19.15625 11.84375 \nQ 23.34375 6.203125 30.609375 6.203125 \nQ 37.796875 6.203125 41.984375 11.859375 \nQ 46.1875 17.53125 46.1875 27.296875 \nQ 46.1875 37.015625 41.984375 42.703125 \nQ 37.796875 48.390625 30.609375 48.390625 \nz\nM 30.609375 56 \nQ 42.328125 56 49.015625 48.375 \nQ 55.71875 40.765625 55.71875 27.296875 \nQ 55.71875 13.875 49.015625 6.21875 \nQ 42.328125 -1.421875 30.609375 -1.421875 \nQ 18.84375 -1.421875 12.171875 6.21875 \nQ 5.515625 13.875 5.515625 27.296875 \nQ 5.515625 40.765625 12.171875 48.375 \nQ 18.84375 56 30.609375 56 \nz\n\" id=\"DejaVuSans-111\"/>\n      <path d=\"M 48.78125 52.59375 \nL 48.78125 44.1875 \nQ 44.96875 46.296875 41.140625 47.34375 \nQ 37.3125 48.390625 33.40625 48.390625 \nQ 24.65625 48.390625 19.8125 42.84375 \nQ 14.984375 37.3125 14.984375 27.296875 \nQ 14.984375 17.28125 19.8125 11.734375 \nQ 24.65625 6.203125 33.40625 6.203125 \nQ 37.3125 6.203125 41.140625 7.25 \nQ 44.96875 8.296875 48.78125 10.40625 \nL 48.78125 2.09375 \nQ 45.015625 0.34375 40.984375 -0.53125 \nQ 36.96875 -1.421875 32.421875 -1.421875 \nQ 20.0625 -1.421875 12.78125 6.34375 \nQ 5.515625 14.109375 5.515625 27.296875 \nQ 5.515625 40.671875 12.859375 48.328125 \nQ 20.21875 56 33.015625 56 \nQ 37.15625 56 41.109375 55.140625 \nQ 45.0625 54.296875 48.78125 52.59375 \nz\n\" id=\"DejaVuSans-99\"/>\n      <path d=\"M 54.890625 33.015625 \nL 54.890625 0 \nL 45.90625 0 \nL 45.90625 32.71875 \nQ 45.90625 40.484375 42.875 44.328125 \nQ 39.84375 48.1875 33.796875 48.1875 \nQ 26.515625 48.1875 22.3125 43.546875 \nQ 18.109375 38.921875 18.109375 30.90625 \nL 18.109375 0 \nL 9.078125 0 \nL 9.078125 75.984375 \nL 18.109375 75.984375 \nL 18.109375 46.1875 \nQ 21.34375 51.125 25.703125 53.5625 \nQ 30.078125 56 35.796875 56 \nQ 45.21875 56 50.046875 50.171875 \nQ 54.890625 44.34375 54.890625 33.015625 \nz\n\" id=\"DejaVuSans-104\"/>\n     </defs>\n     <g transform=\"translate(307.470312 322.394687)scale(0.1 -0.1)\">\n      <use xlink:href=\"#DejaVuSans-69\"/>\n      <use x=\"63.183594\" xlink:href=\"#DejaVuSans-112\"/>\n      <use x=\"126.660156\" xlink:href=\"#DejaVuSans-111\"/>\n      <use x=\"187.841797\" xlink:href=\"#DejaVuSans-99\"/>\n      <use x=\"242.822266\" xlink:href=\"#DejaVuSans-104\"/>\n     </g>\n    </g>\n   </g>\n   <g id=\"matplotlib.axis_2\">\n    <g id=\"ytick_1\">\n     <g id=\"line2d_8\">\n      <defs>\n       <path d=\"M 0 0 \nL -3.5 0 \n\" id=\"ma8bf4a78dd\" style=\"stroke:#000000;stroke-width:0.8;\"/>\n      </defs>\n      <g>\n       <use style=\"stroke:#000000;stroke-width:0.8;\" x=\"43.78125\" xlink:href=\"#ma8bf4a78dd\" y=\"270.00719\"/>\n      </g>\n     </g>\n     <g id=\"text_9\">\n      <!-- 0.5 -->\n      <defs>\n       <path d=\"M 10.6875 12.40625 \nL 21 12.40625 \nL 21 0 \nL 10.6875 0 \nz\n\" id=\"DejaVuSans-46\"/>\n       <path d=\"M 10.796875 72.90625 \nL 49.515625 72.90625 \nL 49.515625 64.59375 \nL 19.828125 64.59375 \nL 19.828125 46.734375 \nQ 21.96875 47.46875 24.109375 47.828125 \nQ 26.265625 48.1875 28.421875 48.1875 \nQ 40.625 48.1875 47.75 41.5 \nQ 54.890625 34.8125 54.890625 23.390625 \nQ 54.890625 11.625 47.5625 5.09375 \nQ 40.234375 -1.421875 26.90625 -1.421875 \nQ 22.3125 -1.421875 17.546875 -0.640625 \nQ 12.796875 0.140625 7.71875 1.703125 \nL 7.71875 11.625 \nQ 12.109375 9.234375 16.796875 8.0625 \nQ 21.484375 6.890625 26.703125 6.890625 \nQ 35.15625 6.890625 40.078125 11.328125 \nQ 45.015625 15.765625 45.015625 23.390625 \nQ 45.015625 31 40.078125 35.4375 \nQ 35.15625 39.890625 26.703125 39.890625 \nQ 22.75 39.890625 18.8125 39.015625 \nQ 14.890625 38.140625 10.796875 36.28125 \nz\n\" id=\"DejaVuSans-53\"/>\n      </defs>\n      <g transform=\"translate(20.878125 273.806408)scale(0.1 -0.1)\">\n       <use xlink:href=\"#DejaVuSans-48\"/>\n       <use x=\"63.623047\" xlink:href=\"#DejaVuSans-46\"/>\n       <use x=\"95.410156\" xlink:href=\"#DejaVuSans-53\"/>\n      </g>\n     </g>\n    </g>\n    <g id=\"ytick_2\">\n     <g id=\"line2d_9\">\n      <g>\n       <use style=\"stroke:#000000;stroke-width:0.8;\" x=\"43.78125\" xlink:href=\"#ma8bf4a78dd\" y=\"224.03215\"/>\n      </g>\n     </g>\n     <g id=\"text_10\">\n      <!-- 1.0 -->\n      <g transform=\"translate(20.878125 227.831369)scale(0.1 -0.1)\">\n       <use xlink:href=\"#DejaVuSans-49\"/>\n       <use x=\"63.623047\" xlink:href=\"#DejaVuSans-46\"/>\n       <use x=\"95.410156\" xlink:href=\"#DejaVuSans-48\"/>\n      </g>\n     </g>\n    </g>\n    <g id=\"ytick_3\">\n     <g id=\"line2d_10\">\n      <g>\n       <use style=\"stroke:#000000;stroke-width:0.8;\" x=\"43.78125\" xlink:href=\"#ma8bf4a78dd\" y=\"178.05711\"/>\n      </g>\n     </g>\n     <g id=\"text_11\">\n      <!-- 1.5 -->\n      <g transform=\"translate(20.878125 181.856329)scale(0.1 -0.1)\">\n       <use xlink:href=\"#DejaVuSans-49\"/>\n       <use x=\"63.623047\" xlink:href=\"#DejaVuSans-46\"/>\n       <use x=\"95.410156\" xlink:href=\"#DejaVuSans-53\"/>\n      </g>\n     </g>\n    </g>\n    <g id=\"ytick_4\">\n     <g id=\"line2d_11\">\n      <g>\n       <use style=\"stroke:#000000;stroke-width:0.8;\" x=\"43.78125\" xlink:href=\"#ma8bf4a78dd\" y=\"132.082071\"/>\n      </g>\n     </g>\n     <g id=\"text_12\">\n      <!-- 2.0 -->\n      <g transform=\"translate(20.878125 135.88129)scale(0.1 -0.1)\">\n       <use xlink:href=\"#DejaVuSans-50\"/>\n       <use x=\"63.623047\" xlink:href=\"#DejaVuSans-46\"/>\n       <use x=\"95.410156\" xlink:href=\"#DejaVuSans-48\"/>\n      </g>\n     </g>\n    </g>\n    <g id=\"ytick_5\">\n     <g id=\"line2d_12\">\n      <g>\n       <use style=\"stroke:#000000;stroke-width:0.8;\" x=\"43.78125\" xlink:href=\"#ma8bf4a78dd\" y=\"86.107031\"/>\n      </g>\n     </g>\n     <g id=\"text_13\">\n      <!-- 2.5 -->\n      <g transform=\"translate(20.878125 89.90625)scale(0.1 -0.1)\">\n       <use xlink:href=\"#DejaVuSans-50\"/>\n       <use x=\"63.623047\" xlink:href=\"#DejaVuSans-46\"/>\n       <use x=\"95.410156\" xlink:href=\"#DejaVuSans-53\"/>\n      </g>\n     </g>\n    </g>\n    <g id=\"ytick_6\">\n     <g id=\"line2d_13\">\n      <g>\n       <use style=\"stroke:#000000;stroke-width:0.8;\" x=\"43.78125\" xlink:href=\"#ma8bf4a78dd\" y=\"40.131992\"/>\n      </g>\n     </g>\n     <g id=\"text_14\">\n      <!-- 3.0 -->\n      <defs>\n       <path d=\"M 40.578125 39.3125 \nQ 47.65625 37.796875 51.625 33 \nQ 55.609375 28.21875 55.609375 21.1875 \nQ 55.609375 10.40625 48.1875 4.484375 \nQ 40.765625 -1.421875 27.09375 -1.421875 \nQ 22.515625 -1.421875 17.65625 -0.515625 \nQ 12.796875 0.390625 7.625 2.203125 \nL 7.625 11.71875 \nQ 11.71875 9.328125 16.59375 8.109375 \nQ 21.484375 6.890625 26.8125 6.890625 \nQ 36.078125 6.890625 40.9375 10.546875 \nQ 45.796875 14.203125 45.796875 21.1875 \nQ 45.796875 27.640625 41.28125 31.265625 \nQ 36.765625 34.90625 28.71875 34.90625 \nL 20.21875 34.90625 \nL 20.21875 43.015625 \nL 29.109375 43.015625 \nQ 36.375 43.015625 40.234375 45.921875 \nQ 44.09375 48.828125 44.09375 54.296875 \nQ 44.09375 59.90625 40.109375 62.90625 \nQ 36.140625 65.921875 28.71875 65.921875 \nQ 24.65625 65.921875 20.015625 65.03125 \nQ 15.375 64.15625 9.8125 62.3125 \nL 9.8125 71.09375 \nQ 15.4375 72.65625 20.34375 73.4375 \nQ 25.25 74.21875 29.59375 74.21875 \nQ 40.828125 74.21875 47.359375 69.109375 \nQ 53.90625 64.015625 53.90625 55.328125 \nQ 53.90625 49.265625 50.4375 45.09375 \nQ 46.96875 40.921875 40.578125 39.3125 \nz\n\" id=\"DejaVuSans-51\"/>\n      </defs>\n      <g transform=\"translate(20.878125 43.93121)scale(0.1 -0.1)\">\n       <use xlink:href=\"#DejaVuSans-51\"/>\n       <use x=\"63.623047\" xlink:href=\"#DejaVuSans-46\"/>\n       <use x=\"95.410156\" xlink:href=\"#DejaVuSans-48\"/>\n      </g>\n     </g>\n    </g>\n    <g id=\"text_15\">\n     <!-- Loss -->\n     <defs>\n      <path d=\"M 9.8125 72.90625 \nL 19.671875 72.90625 \nL 19.671875 8.296875 \nL 55.171875 8.296875 \nL 55.171875 0 \nL 9.8125 0 \nz\n\" id=\"DejaVuSans-76\"/>\n      <path d=\"M 44.28125 53.078125 \nL 44.28125 44.578125 \nQ 40.484375 46.53125 36.375 47.5 \nQ 32.28125 48.484375 27.875 48.484375 \nQ 21.1875 48.484375 17.84375 46.4375 \nQ 14.5 44.390625 14.5 40.28125 \nQ 14.5 37.15625 16.890625 35.375 \nQ 19.28125 33.59375 26.515625 31.984375 \nL 29.59375 31.296875 \nQ 39.15625 29.25 43.1875 25.515625 \nQ 47.21875 21.78125 47.21875 15.09375 \nQ 47.21875 7.46875 41.1875 3.015625 \nQ 35.15625 -1.421875 24.609375 -1.421875 \nQ 20.21875 -1.421875 15.453125 -0.5625 \nQ 10.6875 0.296875 5.421875 2 \nL 5.421875 11.28125 \nQ 10.40625 8.6875 15.234375 7.390625 \nQ 20.0625 6.109375 24.8125 6.109375 \nQ 31.15625 6.109375 34.5625 8.28125 \nQ 37.984375 10.453125 37.984375 14.40625 \nQ 37.984375 18.0625 35.515625 20.015625 \nQ 33.0625 21.96875 24.703125 23.78125 \nL 21.578125 24.515625 \nQ 13.234375 26.265625 9.515625 29.90625 \nQ 5.8125 33.546875 5.8125 39.890625 \nQ 5.8125 47.609375 11.28125 51.796875 \nQ 16.75 56 26.8125 56 \nQ 31.78125 56 36.171875 55.265625 \nQ 40.578125 54.546875 44.28125 53.078125 \nz\n\" id=\"DejaVuSans-115\"/>\n     </defs>\n     <g transform=\"translate(14.798438 169.185313)rotate(-90)scale(0.1 -0.1)\">\n      <use xlink:href=\"#DejaVuSans-76\"/>\n      <use x=\"53.962891\" xlink:href=\"#DejaVuSans-111\"/>\n      <use x=\"115.144531\" xlink:href=\"#DejaVuSans-115\"/>\n      <use x=\"167.244141\" xlink:href=\"#DejaVuSans-115\"/>\n     </g>\n    </g>\n   </g>\n   <g id=\"line2d_14\">\n    <path clip-path=\"url(#p56cff76c38)\" d=\"M 69.144886 34.67267 \nL 73.235795 183.636666 \nL 77.326705 206.240003 \nL 81.417614 234.762746 \nL 85.508523 261.999749 \nL 89.599432 267.165992 \nL 93.690341 266.987022 \nL 97.78125 271.09939 \nL 101.872159 271.683546 \nL 105.963068 270.827731 \nL 110.053977 269.774591 \nL 114.144886 274.268287 \nL 118.235795 276.375318 \nL 122.326705 276.106782 \nL 126.417614 276.157237 \nL 130.508523 271.850631 \nL 134.599432 277.297484 \nL 138.690341 275.902557 \nL 142.78125 276.943596 \nL 146.872159 273.374351 \nL 150.963068 279.256839 \nL 155.053977 278.531554 \nL 159.144886 278.790063 \nL 163.235795 275.368582 \nL 167.326705 279.610426 \nL 171.417614 276.583196 \nL 175.508523 276.556552 \nL 179.599432 279.23119 \nL 183.690341 277.973303 \nL 187.78125 278.689318 \nL 191.872159 277.159202 \nL 195.963068 278.09371 \nL 200.053977 275.650641 \nL 204.144886 274.178127 \nL 208.235795 275.412197 \nL 212.326705 276.99972 \nL 216.417614 277.183182 \nL 220.508523 278.647089 \nL 224.599432 278.201931 \nL 228.690341 278.344176 \nL 232.78125 279.70175 \nL 236.872159 279.256042 \nL 240.963068 277.881634 \nL 245.053977 276.749213 \nL 249.144886 278.546599 \nL 253.235795 278.786807 \nL 257.326705 280.532263 \nL 261.417614 278.099356 \nL 265.508523 278.120111 \nL 269.599432 276.88592 \nL 273.690341 276.036183 \nL 277.78125 279.562013 \nL 281.872159 279.981469 \nL 285.963068 274.133613 \nL 290.053977 280.019351 \nL 294.144886 279.298366 \nL 298.235795 279.367011 \nL 302.326705 278.221015 \nL 306.417614 279.167455 \nL 310.508523 280.142216 \nL 314.599432 279.509412 \nL 318.690341 280.560579 \nL 322.78125 280.628315 \nL 326.872159 278.435232 \nL 330.963068 279.9989 \nL 335.053977 279.09106 \nL 339.144886 280.661368 \nL 343.235795 279.501087 \nL 347.326705 276.310347 \nL 351.417614 280.117685 \nL 355.508523 280.353224 \nL 359.599432 281.245998 \nL 363.690341 280.534012 \nL 367.78125 279.298602 \nL 371.872159 281.291139 \nL 375.963068 280.362719 \nL 380.053977 279.23245 \nL 384.144886 279.781811 \nL 388.235795 280.782729 \nL 392.326705 280.062635 \nL 396.417614 280.940991 \nL 400.508523 279.899015 \nL 404.599432 280.35893 \nL 408.690341 279.755225 \nL 412.78125 279.093532 \nL 416.872159 280.441912 \nL 420.963068 280.8794 \nL 425.053977 281.363473 \nL 429.144886 281.250834 \nL 433.235795 280.559234 \nL 437.326705 278.679082 \nL 441.417614 278.893908 \nL 445.508523 279.786476 \nL 449.599432 279.782028 \nL 453.690341 280.417203 \nL 457.78125 281.209055 \nL 461.872159 280.629082 \nL 465.963068 279.848533 \nL 470.053977 279.541989 \nL 474.144886 280.718164 \nL 478.235795 280.635302 \nL 482.326705 281.76358 \nL 486.417614 281.551939 \nL 490.508523 280.781754 \nL 494.599432 279.407505 \nL 498.690341 278.315523 \nL 502.78125 281.208041 \nL 506.872159 280.049215 \nL 510.963068 279.453646 \nL 515.053977 280.574958 \nL 519.144886 281.607893 \nL 523.235795 280.572519 \nL 527.326705 278.26383 \nL 531.417614 281.110176 \nL 535.508523 281.064007 \nL 539.599432 281.513254 \nL 543.690341 281.367337 \nL 547.78125 279.684379 \nL 551.872159 280.766613 \nL 555.963068 281.155668 \nL 560.053977 280.53556 \nL 564.144886 281.345288 \nL 568.235795 281.305131 \nL 572.326705 281.398286 \nL 576.417614 281.409691 \n\" style=\"fill:none;stroke:#1f77b4;stroke-linecap:square;stroke-width:1.5;\"/>\n   </g>\n   <g id=\"line2d_15\">\n    <path clip-path=\"url(#p56cff76c38)\" d=\"M 69.144886 164.595742 \nL 73.235795 236.072819 \nL 77.326705 197.66606 \nL 81.417614 237.158251 \nL 85.508523 261.899617 \nL 89.599432 268.27139 \nL 93.690341 272.555177 \nL 97.78125 267.562276 \nL 101.872159 269.809376 \nL 105.963068 260.455449 \nL 110.053977 263.662277 \nL 114.144886 272.010431 \nL 118.235795 273.306079 \nL 122.326705 273.148392 \nL 126.417614 266.848865 \nL 130.508523 272.550661 \nL 134.599432 265.405437 \nL 138.690341 271.518879 \nL 142.78125 269.893789 \nL 146.872159 275.258808 \nL 150.963068 273.588587 \nL 155.053977 270.616205 \nL 159.144886 273.174198 \nL 163.235795 274.709767 \nL 167.326705 270.874338 \nL 171.417614 271.158707 \nL 175.508523 272.913086 \nL 179.599432 274.552289 \nL 183.690341 273.686302 \nL 187.78125 269.112046 \nL 191.872159 268.110073 \nL 195.963068 270.147746 \nL 200.053977 275.539683 \nL 204.144886 266.268908 \nL 208.235795 268.325517 \nL 212.326705 268.273095 \nL 216.417614 273.296403 \nL 220.508523 271.681024 \nL 224.599432 273.291155 \nL 228.690341 271.994438 \nL 232.78125 270.49095 \nL 236.872159 272.733759 \nL 240.963068 269.802454 \nL 245.053977 270.626259 \nL 249.144886 270.96524 \nL 253.235795 274.446967 \nL 257.326705 270.696735 \nL 261.417614 270.14465 \nL 265.508523 269.396722 \nL 269.599432 265.346334 \nL 273.690341 268.247807 \nL 277.78125 273.506646 \nL 281.872159 264.820964 \nL 285.963068 271.244504 \nL 290.053977 274.204029 \nL 294.144886 271.225218 \nL 298.235795 270.067019 \nL 302.326705 268.407793 \nL 306.417614 272.874116 \nL 310.508523 272.566717 \nL 314.599432 268.045467 \nL 318.690341 271.047014 \nL 322.78125 272.003084 \nL 326.872159 272.884904 \nL 330.963068 272.255356 \nL 335.053977 270.398856 \nL 339.144886 272.190498 \nL 343.235795 269.023714 \nL 347.326705 269.145686 \nL 351.417614 270.950613 \nL 355.508523 271.014366 \nL 359.599432 271.02821 \nL 363.690341 270.237536 \nL 367.78125 271.800826 \nL 371.872159 273.718175 \nL 375.963068 265.328971 \nL 380.053977 273.621345 \nL 384.144886 274.116237 \nL 388.235795 272.178331 \nL 392.326705 264.878763 \nL 396.417614 274.369575 \nL 400.508523 272.058907 \nL 404.599432 265.816897 \nL 408.690341 267.633662 \nL 412.78125 274.664398 \nL 416.872159 269.494908 \nL 420.963068 271.440747 \nL 425.053977 268.927189 \nL 429.144886 271.514881 \nL 433.235795 270.939673 \nL 437.326705 269.540611 \nL 441.417614 269.685141 \nL 445.508523 271.548713 \nL 449.599432 273.330517 \nL 453.690341 271.219025 \nL 457.78125 270.501909 \nL 461.872159 268.173468 \nL 465.963068 273.123716 \nL 470.053977 270.389048 \nL 474.144886 267.582796 \nL 478.235795 274.239346 \nL 482.326705 269.045006 \nL 486.417614 266.040886 \nL 490.508523 270.646461 \nL 494.599432 267.043845 \nL 498.690341 271.096823 \nL 502.78125 272.673932 \nL 506.872159 270.953049 \nL 510.963068 270.447502 \nL 515.053977 268.960149 \nL 519.144886 269.860111 \nL 523.235795 267.609492 \nL 527.326705 269.526383 \nL 531.417614 270.964796 \nL 535.508523 272.778684 \nL 539.599432 269.642041 \nL 543.690341 272.767484 \nL 547.78125 270.757244 \nL 551.872159 270.324952 \nL 555.963068 274.205021 \nL 560.053977 271.563571 \nL 564.144886 272.997036 \nL 568.235795 268.332269 \nL 572.326705 270.916383 \nL 576.417614 267.640096 \n\" style=\"fill:none;stroke:#ff7f0e;stroke-linecap:square;stroke-width:1.5;\"/>\n   </g>\n   <g id=\"patch_3\">\n    <path d=\"M 43.78125 294.118125 \nL 43.78125 22.318125 \n\" style=\"fill:none;stroke:#000000;stroke-linecap:square;stroke-linejoin:miter;stroke-width:0.8;\"/>\n   </g>\n   <g id=\"patch_4\">\n    <path d=\"M 601.78125 294.118125 \nL 601.78125 22.318125 \n\" style=\"fill:none;stroke:#000000;stroke-linecap:square;stroke-linejoin:miter;stroke-width:0.8;\"/>\n   </g>\n   <g id=\"patch_5\">\n    <path d=\"M 43.78125 294.118125 \nL 601.78125 294.118125 \n\" style=\"fill:none;stroke:#000000;stroke-linecap:square;stroke-linejoin:miter;stroke-width:0.8;\"/>\n   </g>\n   <g id=\"patch_6\">\n    <path d=\"M 43.78125 22.318125 \nL 601.78125 22.318125 \n\" style=\"fill:none;stroke:#000000;stroke-linecap:square;stroke-linejoin:miter;stroke-width:0.8;\"/>\n   </g>\n   <g id=\"text_16\">\n    <!-- Loss vs. epochs, batch=16 -->\n    <defs>\n     <path id=\"DejaVuSans-32\"/>\n     <path d=\"M 2.984375 54.6875 \nL 12.5 54.6875 \nL 29.59375 8.796875 \nL 46.6875 54.6875 \nL 56.203125 54.6875 \nL 35.6875 0 \nL 23.484375 0 \nz\n\" id=\"DejaVuSans-118\"/>\n     <path d=\"M 56.203125 29.59375 \nL 56.203125 25.203125 \nL 14.890625 25.203125 \nQ 15.484375 15.921875 20.484375 11.0625 \nQ 25.484375 6.203125 34.421875 6.203125 \nQ 39.59375 6.203125 44.453125 7.46875 \nQ 49.3125 8.734375 54.109375 11.28125 \nL 54.109375 2.78125 \nQ 49.265625 0.734375 44.1875 -0.34375 \nQ 39.109375 -1.421875 33.890625 -1.421875 \nQ 20.796875 -1.421875 13.15625 6.1875 \nQ 5.515625 13.8125 5.515625 26.8125 \nQ 5.515625 40.234375 12.765625 48.109375 \nQ 20.015625 56 32.328125 56 \nQ 43.359375 56 49.78125 48.890625 \nQ 56.203125 41.796875 56.203125 29.59375 \nz\nM 47.21875 32.234375 \nQ 47.125 39.59375 43.09375 43.984375 \nQ 39.0625 48.390625 32.421875 48.390625 \nQ 24.90625 48.390625 20.390625 44.140625 \nQ 15.875 39.890625 15.1875 32.171875 \nz\n\" id=\"DejaVuSans-101\"/>\n     <path d=\"M 11.71875 12.40625 \nL 22.015625 12.40625 \nL 22.015625 4 \nL 14.015625 -11.625 \nL 7.71875 -11.625 \nL 11.71875 4 \nz\n\" id=\"DejaVuSans-44\"/>\n     <path d=\"M 48.6875 27.296875 \nQ 48.6875 37.203125 44.609375 42.84375 \nQ 40.53125 48.484375 33.40625 48.484375 \nQ 26.265625 48.484375 22.1875 42.84375 \nQ 18.109375 37.203125 18.109375 27.296875 \nQ 18.109375 17.390625 22.1875 11.75 \nQ 26.265625 6.109375 33.40625 6.109375 \nQ 40.53125 6.109375 44.609375 11.75 \nQ 48.6875 17.390625 48.6875 27.296875 \nz\nM 18.109375 46.390625 \nQ 20.953125 51.265625 25.265625 53.625 \nQ 29.59375 56 35.59375 56 \nQ 45.5625 56 51.78125 48.09375 \nQ 58.015625 40.1875 58.015625 27.296875 \nQ 58.015625 14.40625 51.78125 6.484375 \nQ 45.5625 -1.421875 35.59375 -1.421875 \nQ 29.59375 -1.421875 25.265625 0.953125 \nQ 20.953125 3.328125 18.109375 8.203125 \nL 18.109375 0 \nL 9.078125 0 \nL 9.078125 75.984375 \nL 18.109375 75.984375 \nz\n\" id=\"DejaVuSans-98\"/>\n     <path d=\"M 34.28125 27.484375 \nQ 23.390625 27.484375 19.1875 25 \nQ 14.984375 22.515625 14.984375 16.5 \nQ 14.984375 11.71875 18.140625 8.90625 \nQ 21.296875 6.109375 26.703125 6.109375 \nQ 34.1875 6.109375 38.703125 11.40625 \nQ 43.21875 16.703125 43.21875 25.484375 \nL 43.21875 27.484375 \nz\nM 52.203125 31.203125 \nL 52.203125 0 \nL 43.21875 0 \nL 43.21875 8.296875 \nQ 40.140625 3.328125 35.546875 0.953125 \nQ 30.953125 -1.421875 24.3125 -1.421875 \nQ 15.921875 -1.421875 10.953125 3.296875 \nQ 6 8.015625 6 15.921875 \nQ 6 25.140625 12.171875 29.828125 \nQ 18.359375 34.515625 30.609375 34.515625 \nL 43.21875 34.515625 \nL 43.21875 35.40625 \nQ 43.21875 41.609375 39.140625 45 \nQ 35.0625 48.390625 27.6875 48.390625 \nQ 23 48.390625 18.546875 47.265625 \nQ 14.109375 46.140625 10.015625 43.890625 \nL 10.015625 52.203125 \nQ 14.9375 54.109375 19.578125 55.046875 \nQ 24.21875 56 28.609375 56 \nQ 40.484375 56 46.34375 49.84375 \nQ 52.203125 43.703125 52.203125 31.203125 \nz\n\" id=\"DejaVuSans-97\"/>\n     <path d=\"M 18.3125 70.21875 \nL 18.3125 54.6875 \nL 36.8125 54.6875 \nL 36.8125 47.703125 \nL 18.3125 47.703125 \nL 18.3125 18.015625 \nQ 18.3125 11.328125 20.140625 9.421875 \nQ 21.96875 7.515625 27.59375 7.515625 \nL 36.8125 7.515625 \nL 36.8125 0 \nL 27.59375 0 \nQ 17.1875 0 13.234375 3.875 \nQ 9.28125 7.765625 9.28125 18.015625 \nL 9.28125 47.703125 \nL 2.6875 47.703125 \nL 2.6875 54.6875 \nL 9.28125 54.6875 \nL 9.28125 70.21875 \nz\n\" id=\"DejaVuSans-116\"/>\n     <path d=\"M 10.59375 45.40625 \nL 73.1875 45.40625 \nL 73.1875 37.203125 \nL 10.59375 37.203125 \nz\nM 10.59375 25.484375 \nL 73.1875 25.484375 \nL 73.1875 17.1875 \nL 10.59375 17.1875 \nz\n\" id=\"DejaVuSans-61\"/>\n    </defs>\n    <g transform=\"translate(242.4075 16.318125)scale(0.12 -0.12)\">\n     <use xlink:href=\"#DejaVuSans-76\"/>\n     <use x=\"53.962891\" xlink:href=\"#DejaVuSans-111\"/>\n     <use x=\"115.144531\" xlink:href=\"#DejaVuSans-115\"/>\n     <use x=\"167.244141\" xlink:href=\"#DejaVuSans-115\"/>\n     <use x=\"219.34375\" xlink:href=\"#DejaVuSans-32\"/>\n     <use x=\"251.130859\" xlink:href=\"#DejaVuSans-118\"/>\n     <use x=\"310.310547\" xlink:href=\"#DejaVuSans-115\"/>\n     <use x=\"362.410156\" xlink:href=\"#DejaVuSans-46\"/>\n     <use x=\"394.197266\" xlink:href=\"#DejaVuSans-32\"/>\n     <use x=\"425.984375\" xlink:href=\"#DejaVuSans-101\"/>\n     <use x=\"487.507812\" xlink:href=\"#DejaVuSans-112\"/>\n     <use x=\"550.984375\" xlink:href=\"#DejaVuSans-111\"/>\n     <use x=\"612.166016\" xlink:href=\"#DejaVuSans-99\"/>\n     <use x=\"667.146484\" xlink:href=\"#DejaVuSans-104\"/>\n     <use x=\"730.525391\" xlink:href=\"#DejaVuSans-115\"/>\n     <use x=\"782.625\" xlink:href=\"#DejaVuSans-44\"/>\n     <use x=\"814.412109\" xlink:href=\"#DejaVuSans-32\"/>\n     <use x=\"846.199219\" xlink:href=\"#DejaVuSans-98\"/>\n     <use x=\"909.675781\" xlink:href=\"#DejaVuSans-97\"/>\n     <use x=\"970.955078\" xlink:href=\"#DejaVuSans-116\"/>\n     <use x=\"1010.164062\" xlink:href=\"#DejaVuSans-99\"/>\n     <use x=\"1065.144531\" xlink:href=\"#DejaVuSans-104\"/>\n     <use x=\"1128.523438\" xlink:href=\"#DejaVuSans-61\"/>\n     <use x=\"1212.3125\" xlink:href=\"#DejaVuSans-49\"/>\n     <use x=\"1275.935547\" xlink:href=\"#DejaVuSans-54\"/>\n    </g>\n   </g>\n   <g id=\"legend_1\">\n    <g id=\"patch_7\">\n     <path d=\"M 513.4 59.674375 \nL 594.78125 59.674375 \nQ 596.78125 59.674375 596.78125 57.674375 \nL 596.78125 29.318125 \nQ 596.78125 27.318125 594.78125 27.318125 \nL 513.4 27.318125 \nQ 511.4 27.318125 511.4 29.318125 \nL 511.4 57.674375 \nQ 511.4 59.674375 513.4 59.674375 \nz\n\" style=\"fill:#ffffff;opacity:0.8;stroke:#cccccc;stroke-linejoin:miter;\"/>\n    </g>\n    <g id=\"line2d_16\">\n     <path d=\"M 515.4 35.416562 \nL 535.4 35.416562 \n\" style=\"fill:none;stroke:#1f77b4;stroke-linecap:square;stroke-width:1.5;\"/>\n    </g>\n    <g id=\"line2d_17\"/>\n    <g id=\"text_17\">\n     <!-- Training -->\n     <defs>\n      <path d=\"M -0.296875 72.90625 \nL 61.375 72.90625 \nL 61.375 64.59375 \nL 35.5 64.59375 \nL 35.5 0 \nL 25.59375 0 \nL 25.59375 64.59375 \nL -0.296875 64.59375 \nz\n\" id=\"DejaVuSans-84\"/>\n      <path d=\"M 41.109375 46.296875 \nQ 39.59375 47.171875 37.8125 47.578125 \nQ 36.03125 48 33.890625 48 \nQ 26.265625 48 22.1875 43.046875 \nQ 18.109375 38.09375 18.109375 28.8125 \nL 18.109375 0 \nL 9.078125 0 \nL 9.078125 54.6875 \nL 18.109375 54.6875 \nL 18.109375 46.1875 \nQ 20.953125 51.171875 25.484375 53.578125 \nQ 30.03125 56 36.53125 56 \nQ 37.453125 56 38.578125 55.875 \nQ 39.703125 55.765625 41.0625 55.515625 \nz\n\" id=\"DejaVuSans-114\"/>\n      <path d=\"M 9.421875 54.6875 \nL 18.40625 54.6875 \nL 18.40625 0 \nL 9.421875 0 \nz\nM 9.421875 75.984375 \nL 18.40625 75.984375 \nL 18.40625 64.59375 \nL 9.421875 64.59375 \nz\n\" id=\"DejaVuSans-105\"/>\n      <path d=\"M 54.890625 33.015625 \nL 54.890625 0 \nL 45.90625 0 \nL 45.90625 32.71875 \nQ 45.90625 40.484375 42.875 44.328125 \nQ 39.84375 48.1875 33.796875 48.1875 \nQ 26.515625 48.1875 22.3125 43.546875 \nQ 18.109375 38.921875 18.109375 30.90625 \nL 18.109375 0 \nL 9.078125 0 \nL 9.078125 54.6875 \nL 18.109375 54.6875 \nL 18.109375 46.1875 \nQ 21.34375 51.125 25.703125 53.5625 \nQ 30.078125 56 35.796875 56 \nQ 45.21875 56 50.046875 50.171875 \nQ 54.890625 44.34375 54.890625 33.015625 \nz\n\" id=\"DejaVuSans-110\"/>\n      <path d=\"M 45.40625 27.984375 \nQ 45.40625 37.75 41.375 43.109375 \nQ 37.359375 48.484375 30.078125 48.484375 \nQ 22.859375 48.484375 18.828125 43.109375 \nQ 14.796875 37.75 14.796875 27.984375 \nQ 14.796875 18.265625 18.828125 12.890625 \nQ 22.859375 7.515625 30.078125 7.515625 \nQ 37.359375 7.515625 41.375 12.890625 \nQ 45.40625 18.265625 45.40625 27.984375 \nz\nM 54.390625 6.78125 \nQ 54.390625 -7.171875 48.1875 -13.984375 \nQ 42 -20.796875 29.203125 -20.796875 \nQ 24.46875 -20.796875 20.265625 -20.09375 \nQ 16.0625 -19.390625 12.109375 -17.921875 \nL 12.109375 -9.1875 \nQ 16.0625 -11.328125 19.921875 -12.34375 \nQ 23.78125 -13.375 27.78125 -13.375 \nQ 36.625 -13.375 41.015625 -8.765625 \nQ 45.40625 -4.15625 45.40625 5.171875 \nL 45.40625 9.625 \nQ 42.625 4.78125 38.28125 2.390625 \nQ 33.9375 0 27.875 0 \nQ 17.828125 0 11.671875 7.65625 \nQ 5.515625 15.328125 5.515625 27.984375 \nQ 5.515625 40.671875 11.671875 48.328125 \nQ 17.828125 56 27.875 56 \nQ 33.9375 56 38.28125 53.609375 \nQ 42.625 51.21875 45.40625 46.390625 \nL 45.40625 54.6875 \nL 54.390625 54.6875 \nz\n\" id=\"DejaVuSans-103\"/>\n     </defs>\n     <g transform=\"translate(543.4 38.916562)scale(0.1 -0.1)\">\n      <use xlink:href=\"#DejaVuSans-84\"/>\n      <use x=\"46.333984\" xlink:href=\"#DejaVuSans-114\"/>\n      <use x=\"87.447266\" xlink:href=\"#DejaVuSans-97\"/>\n      <use x=\"148.726562\" xlink:href=\"#DejaVuSans-105\"/>\n      <use x=\"176.509766\" xlink:href=\"#DejaVuSans-110\"/>\n      <use x=\"239.888672\" xlink:href=\"#DejaVuSans-105\"/>\n      <use x=\"267.671875\" xlink:href=\"#DejaVuSans-110\"/>\n      <use x=\"331.050781\" xlink:href=\"#DejaVuSans-103\"/>\n     </g>\n    </g>\n    <g id=\"line2d_18\">\n     <path d=\"M 515.4 50.094688 \nL 535.4 50.094688 \n\" style=\"fill:none;stroke:#ff7f0e;stroke-linecap:square;stroke-width:1.5;\"/>\n    </g>\n    <g id=\"line2d_19\"/>\n    <g id=\"text_18\">\n     <!-- Validation -->\n     <defs>\n      <path d=\"M 28.609375 0 \nL 0.78125 72.90625 \nL 11.078125 72.90625 \nL 34.1875 11.53125 \nL 57.328125 72.90625 \nL 67.578125 72.90625 \nL 39.796875 0 \nz\n\" id=\"DejaVuSans-86\"/>\n      <path d=\"M 9.421875 75.984375 \nL 18.40625 75.984375 \nL 18.40625 0 \nL 9.421875 0 \nz\n\" id=\"DejaVuSans-108\"/>\n      <path d=\"M 45.40625 46.390625 \nL 45.40625 75.984375 \nL 54.390625 75.984375 \nL 54.390625 0 \nL 45.40625 0 \nL 45.40625 8.203125 \nQ 42.578125 3.328125 38.25 0.953125 \nQ 33.9375 -1.421875 27.875 -1.421875 \nQ 17.96875 -1.421875 11.734375 6.484375 \nQ 5.515625 14.40625 5.515625 27.296875 \nQ 5.515625 40.1875 11.734375 48.09375 \nQ 17.96875 56 27.875 56 \nQ 33.9375 56 38.25 53.625 \nQ 42.578125 51.265625 45.40625 46.390625 \nz\nM 14.796875 27.296875 \nQ 14.796875 17.390625 18.875 11.75 \nQ 22.953125 6.109375 30.078125 6.109375 \nQ 37.203125 6.109375 41.296875 11.75 \nQ 45.40625 17.390625 45.40625 27.296875 \nQ 45.40625 37.203125 41.296875 42.84375 \nQ 37.203125 48.484375 30.078125 48.484375 \nQ 22.953125 48.484375 18.875 42.84375 \nQ 14.796875 37.203125 14.796875 27.296875 \nz\n\" id=\"DejaVuSans-100\"/>\n     </defs>\n     <g transform=\"translate(543.4 53.594688)scale(0.1 -0.1)\">\n      <use xlink:href=\"#DejaVuSans-86\"/>\n      <use x=\"60.658203\" xlink:href=\"#DejaVuSans-97\"/>\n      <use x=\"121.9375\" xlink:href=\"#DejaVuSans-108\"/>\n      <use x=\"149.720703\" xlink:href=\"#DejaVuSans-105\"/>\n      <use x=\"177.503906\" xlink:href=\"#DejaVuSans-100\"/>\n      <use x=\"240.980469\" xlink:href=\"#DejaVuSans-97\"/>\n      <use x=\"302.259766\" xlink:href=\"#DejaVuSans-116\"/>\n      <use x=\"341.46875\" xlink:href=\"#DejaVuSans-105\"/>\n      <use x=\"369.251953\" xlink:href=\"#DejaVuSans-111\"/>\n      <use x=\"430.433594\" xlink:href=\"#DejaVuSans-110\"/>\n     </g>\n    </g>\n   </g>\n  </g>\n </g>\n <defs>\n  <clipPath id=\"p56cff76c38\">\n   <rect height=\"271.8\" width=\"558\" x=\"43.78125\" y=\"22.318125\"/>\n  </clipPath>\n </defs>\n</svg>\n"
          },
          "metadata": {
            "needs_background": "light"
          }
        }
      ],
      "source": [
        "plt.figure(figsize=(10,5))\n",
        "plt.plot(history.history['loss'])\n",
        "plt.plot(history.history['val_loss'])\n",
        "plt.title('Loss vs. epochs, batch=' +str(batch_size))\n",
        "plt.ylabel('Loss')\n",
        "plt.xlabel('Epoch')\n",
        "plt.legend(['Training', 'Validation'], loc='upper right')\n",
        "plt.show()"
      ]
    },
    {
      "cell_type": "markdown",
      "id": "a7c4cd41-4aa3-4a8e-a6bb-3c7862c25787",
      "metadata": {
        "id": "a7c4cd41-4aa3-4a8e-a6bb-3c7862c25787"
      },
      "source": [
        "##### Size =  128"
      ]
    },
    {
      "cell_type": "markdown",
      "id": "55ae315d-ccfd-42aa-9e02-b2ba042756ec",
      "metadata": {
        "id": "55ae315d-ccfd-42aa-9e02-b2ba042756ec"
      },
      "source": [
        "10. **Retrain for 128 batch size**"
      ]
    },
    {
      "cell_type": "code",
      "execution_count": 142,
      "id": "220b57cc-c220-424f-b3df-25eff109f718",
      "metadata": {
        "id": "220b57cc-c220-424f-b3df-25eff109f718",
        "colab": {
          "base_uri": "https://localhost:8080/"
        },
        "outputId": "f01683ae-78b8-47f0-fb16-effe1d48c76f"
      },
      "outputs": [
        {
          "output_type": "stream",
          "name": "stdout",
          "text": [
            "Epoch 1/125\n",
            "4/4 [==============================] - 1s 60ms/step - loss: 2.1500 - accuracy: 0.4000 - val_loss: 1.5686 - val_accuracy: 0.5467\n",
            "Epoch 2/125\n",
            "4/4 [==============================] - 0s 9ms/step - loss: 2.4123 - accuracy: 0.4541 - val_loss: 1.5247 - val_accuracy: 0.4667\n",
            "Epoch 3/125\n",
            "4/4 [==============================] - 0s 9ms/step - loss: 1.4225 - accuracy: 0.5506 - val_loss: 1.8784 - val_accuracy: 0.4533\n",
            "Epoch 4/125\n",
            "4/4 [==============================] - 0s 13ms/step - loss: 1.3915 - accuracy: 0.5600 - val_loss: 1.0455 - val_accuracy: 0.6000\n",
            "Epoch 5/125\n",
            "4/4 [==============================] - 0s 9ms/step - loss: 1.3477 - accuracy: 0.5600 - val_loss: 1.9887 - val_accuracy: 0.4400\n",
            "Epoch 6/125\n",
            "4/4 [==============================] - 0s 9ms/step - loss: 1.7245 - accuracy: 0.5341 - val_loss: 0.8655 - val_accuracy: 0.6667\n",
            "Epoch 7/125\n",
            "4/4 [==============================] - 0s 10ms/step - loss: 1.3076 - accuracy: 0.5859 - val_loss: 1.3476 - val_accuracy: 0.6267\n",
            "Epoch 8/125\n",
            "4/4 [==============================] - 0s 9ms/step - loss: 1.0738 - accuracy: 0.6024 - val_loss: 0.8623 - val_accuracy: 0.7067\n",
            "Epoch 9/125\n",
            "4/4 [==============================] - 0s 11ms/step - loss: 1.1122 - accuracy: 0.6212 - val_loss: 0.8786 - val_accuracy: 0.6533\n",
            "Epoch 10/125\n",
            "4/4 [==============================] - 0s 9ms/step - loss: 0.8088 - accuracy: 0.6353 - val_loss: 0.7717 - val_accuracy: 0.7200\n",
            "Epoch 11/125\n",
            "4/4 [==============================] - 0s 11ms/step - loss: 0.7904 - accuracy: 0.6447 - val_loss: 0.6811 - val_accuracy: 0.7200\n",
            "Epoch 12/125\n",
            "4/4 [==============================] - 0s 11ms/step - loss: 0.7409 - accuracy: 0.6682 - val_loss: 0.6156 - val_accuracy: 0.7200\n",
            "Epoch 13/125\n",
            "4/4 [==============================] - 0s 10ms/step - loss: 0.6685 - accuracy: 0.6753 - val_loss: 0.5889 - val_accuracy: 0.7067\n",
            "Epoch 14/125\n",
            "4/4 [==============================] - 0s 9ms/step - loss: 0.6609 - accuracy: 0.6824 - val_loss: 0.5889 - val_accuracy: 0.7467\n",
            "Epoch 15/125\n",
            "4/4 [==============================] - 0s 12ms/step - loss: 0.6441 - accuracy: 0.7059 - val_loss: 0.5604 - val_accuracy: 0.8000\n",
            "Epoch 16/125\n",
            "4/4 [==============================] - 0s 10ms/step - loss: 0.6270 - accuracy: 0.7059 - val_loss: 0.6260 - val_accuracy: 0.7200\n",
            "Epoch 17/125\n",
            "4/4 [==============================] - 0s 9ms/step - loss: 0.6281 - accuracy: 0.7200 - val_loss: 0.5867 - val_accuracy: 0.7733\n",
            "Epoch 18/125\n",
            "4/4 [==============================] - 0s 9ms/step - loss: 0.6012 - accuracy: 0.7200 - val_loss: 0.6402 - val_accuracy: 0.7333\n",
            "Epoch 19/125\n",
            "4/4 [==============================] - 0s 9ms/step - loss: 0.6522 - accuracy: 0.6706 - val_loss: 0.7214 - val_accuracy: 0.7333\n",
            "Epoch 20/125\n",
            "4/4 [==============================] - 0s 10ms/step - loss: 0.7673 - accuracy: 0.6776 - val_loss: 1.3396 - val_accuracy: 0.4933\n",
            "Epoch 21/125\n",
            "4/4 [==============================] - 0s 9ms/step - loss: 0.9052 - accuracy: 0.6047 - val_loss: 0.5575 - val_accuracy: 0.7600\n",
            "Epoch 22/125\n",
            "4/4 [==============================] - 0s 10ms/step - loss: 0.6767 - accuracy: 0.6635 - val_loss: 0.7172 - val_accuracy: 0.7333\n",
            "Epoch 23/125\n",
            "4/4 [==============================] - 0s 9ms/step - loss: 0.6644 - accuracy: 0.7059 - val_loss: 0.6103 - val_accuracy: 0.7467\n",
            "Epoch 24/125\n",
            "4/4 [==============================] - 0s 9ms/step - loss: 0.6779 - accuracy: 0.6894 - val_loss: 0.7203 - val_accuracy: 0.6133\n",
            "Epoch 25/125\n",
            "4/4 [==============================] - 0s 10ms/step - loss: 0.7994 - accuracy: 0.6282 - val_loss: 0.5569 - val_accuracy: 0.7733\n",
            "Epoch 26/125\n",
            "4/4 [==============================] - 0s 9ms/step - loss: 0.6030 - accuracy: 0.7365 - val_loss: 0.6196 - val_accuracy: 0.7600\n",
            "Epoch 27/125\n",
            "4/4 [==============================] - 0s 10ms/step - loss: 0.6032 - accuracy: 0.7153 - val_loss: 0.4992 - val_accuracy: 0.8267\n",
            "Epoch 28/125\n",
            "4/4 [==============================] - 0s 9ms/step - loss: 0.5464 - accuracy: 0.7459 - val_loss: 0.5381 - val_accuracy: 0.7600\n",
            "Epoch 29/125\n",
            "4/4 [==============================] - 0s 10ms/step - loss: 0.5777 - accuracy: 0.7553 - val_loss: 0.5016 - val_accuracy: 0.8267\n",
            "Epoch 30/125\n",
            "4/4 [==============================] - 0s 9ms/step - loss: 0.5986 - accuracy: 0.7412 - val_loss: 0.5658 - val_accuracy: 0.7733\n",
            "Epoch 31/125\n",
            "4/4 [==============================] - 0s 9ms/step - loss: 0.5467 - accuracy: 0.7718 - val_loss: 0.5245 - val_accuracy: 0.7867\n",
            "Epoch 32/125\n",
            "4/4 [==============================] - 0s 9ms/step - loss: 0.5494 - accuracy: 0.7318 - val_loss: 0.4697 - val_accuracy: 0.8133\n",
            "Epoch 33/125\n",
            "4/4 [==============================] - 0s 9ms/step - loss: 0.5636 - accuracy: 0.7412 - val_loss: 0.7812 - val_accuracy: 0.5867\n",
            "Epoch 34/125\n",
            "4/4 [==============================] - 0s 13ms/step - loss: 0.7112 - accuracy: 0.6776 - val_loss: 0.4835 - val_accuracy: 0.8000\n",
            "Epoch 35/125\n",
            "4/4 [==============================] - 0s 10ms/step - loss: 0.6570 - accuracy: 0.6871 - val_loss: 0.8507 - val_accuracy: 0.7200\n",
            "Epoch 36/125\n",
            "4/4 [==============================] - 0s 9ms/step - loss: 0.6855 - accuracy: 0.6941 - val_loss: 0.5213 - val_accuracy: 0.7867\n",
            "Epoch 37/125\n",
            "4/4 [==============================] - 0s 11ms/step - loss: 0.7321 - accuracy: 0.6776 - val_loss: 0.6429 - val_accuracy: 0.6933\n",
            "Epoch 38/125\n",
            "4/4 [==============================] - 0s 9ms/step - loss: 0.6644 - accuracy: 0.6894 - val_loss: 0.8301 - val_accuracy: 0.7333\n",
            "Epoch 39/125\n",
            "4/4 [==============================] - 0s 9ms/step - loss: 0.6514 - accuracy: 0.7247 - val_loss: 0.4650 - val_accuracy: 0.8133\n",
            "Epoch 40/125\n",
            "4/4 [==============================] - 0s 9ms/step - loss: 0.5398 - accuracy: 0.7624 - val_loss: 0.4553 - val_accuracy: 0.8000\n",
            "Epoch 41/125\n",
            "4/4 [==============================] - 0s 9ms/step - loss: 0.5098 - accuracy: 0.7600 - val_loss: 0.4661 - val_accuracy: 0.8000\n",
            "Epoch 42/125\n",
            "4/4 [==============================] - 0s 9ms/step - loss: 0.4982 - accuracy: 0.7859 - val_loss: 0.4763 - val_accuracy: 0.8000\n",
            "Epoch 43/125\n",
            "4/4 [==============================] - 0s 9ms/step - loss: 0.4876 - accuracy: 0.7906 - val_loss: 0.4656 - val_accuracy: 0.8133\n",
            "Epoch 44/125\n",
            "4/4 [==============================] - 0s 9ms/step - loss: 0.4801 - accuracy: 0.7882 - val_loss: 0.4673 - val_accuracy: 0.8000\n",
            "Epoch 45/125\n",
            "4/4 [==============================] - 0s 9ms/step - loss: 0.4825 - accuracy: 0.7929 - val_loss: 0.4813 - val_accuracy: 0.7867\n",
            "Epoch 46/125\n",
            "4/4 [==============================] - 0s 9ms/step - loss: 0.4825 - accuracy: 0.8000 - val_loss: 0.5070 - val_accuracy: 0.7733\n",
            "Epoch 47/125\n",
            "4/4 [==============================] - 0s 10ms/step - loss: 0.4900 - accuracy: 0.7929 - val_loss: 0.4597 - val_accuracy: 0.8267\n",
            "Epoch 48/125\n",
            "4/4 [==============================] - 0s 9ms/step - loss: 0.4791 - accuracy: 0.7835 - val_loss: 0.4722 - val_accuracy: 0.8133\n",
            "Epoch 49/125\n",
            "4/4 [==============================] - 0s 10ms/step - loss: 0.4857 - accuracy: 0.8000 - val_loss: 0.4863 - val_accuracy: 0.7867\n",
            "Epoch 50/125\n",
            "4/4 [==============================] - 0s 10ms/step - loss: 0.4832 - accuracy: 0.7624 - val_loss: 0.4727 - val_accuracy: 0.8267\n",
            "Epoch 51/125\n",
            "4/4 [==============================] - 0s 10ms/step - loss: 0.4813 - accuracy: 0.7765 - val_loss: 0.4691 - val_accuracy: 0.8267\n",
            "Epoch 52/125\n",
            "4/4 [==============================] - 0s 9ms/step - loss: 0.4648 - accuracy: 0.7882 - val_loss: 0.4742 - val_accuracy: 0.8000\n",
            "Epoch 53/125\n",
            "4/4 [==============================] - 0s 9ms/step - loss: 0.4658 - accuracy: 0.8024 - val_loss: 0.4881 - val_accuracy: 0.8133\n",
            "Epoch 54/125\n",
            "4/4 [==============================] - 0s 9ms/step - loss: 0.4775 - accuracy: 0.7906 - val_loss: 0.4555 - val_accuracy: 0.8267\n",
            "Epoch 55/125\n",
            "4/4 [==============================] - 0s 9ms/step - loss: 0.4580 - accuracy: 0.7976 - val_loss: 0.4535 - val_accuracy: 0.8267\n",
            "Epoch 56/125\n",
            "4/4 [==============================] - 0s 9ms/step - loss: 0.4487 - accuracy: 0.8024 - val_loss: 0.4718 - val_accuracy: 0.8133\n",
            "Epoch 57/125\n",
            "4/4 [==============================] - 0s 10ms/step - loss: 0.4672 - accuracy: 0.7906 - val_loss: 0.4578 - val_accuracy: 0.8000\n",
            "Epoch 58/125\n",
            "4/4 [==============================] - 0s 10ms/step - loss: 0.4455 - accuracy: 0.8212 - val_loss: 0.5031 - val_accuracy: 0.8000\n",
            "Epoch 59/125\n",
            "4/4 [==============================] - 0s 11ms/step - loss: 0.4711 - accuracy: 0.7906 - val_loss: 0.4576 - val_accuracy: 0.8400\n",
            "Epoch 60/125\n",
            "4/4 [==============================] - 0s 9ms/step - loss: 0.4435 - accuracy: 0.8118 - val_loss: 0.4581 - val_accuracy: 0.8267\n",
            "Epoch 61/125\n",
            "4/4 [==============================] - 0s 9ms/step - loss: 0.4409 - accuracy: 0.8235 - val_loss: 0.4556 - val_accuracy: 0.8267\n",
            "Epoch 62/125\n",
            "4/4 [==============================] - 0s 9ms/step - loss: 0.4434 - accuracy: 0.8118 - val_loss: 0.4615 - val_accuracy: 0.8133\n",
            "Epoch 63/125\n",
            "4/4 [==============================] - 0s 9ms/step - loss: 0.4506 - accuracy: 0.8094 - val_loss: 0.4694 - val_accuracy: 0.7867\n",
            "Epoch 64/125\n",
            "4/4 [==============================] - 0s 9ms/step - loss: 0.4419 - accuracy: 0.8047 - val_loss: 0.4356 - val_accuracy: 0.8133\n",
            "Epoch 65/125\n",
            "4/4 [==============================] - 0s 9ms/step - loss: 0.4467 - accuracy: 0.7929 - val_loss: 0.4461 - val_accuracy: 0.8400\n",
            "Epoch 66/125\n",
            "4/4 [==============================] - 0s 10ms/step - loss: 0.4359 - accuracy: 0.8118 - val_loss: 0.4625 - val_accuracy: 0.8267\n",
            "Epoch 67/125\n",
            "4/4 [==============================] - 0s 9ms/step - loss: 0.4446 - accuracy: 0.8047 - val_loss: 0.5090 - val_accuracy: 0.8000\n",
            "Epoch 68/125\n",
            "4/4 [==============================] - 0s 9ms/step - loss: 0.4547 - accuracy: 0.8212 - val_loss: 0.4663 - val_accuracy: 0.8267\n",
            "Epoch 69/125\n",
            "4/4 [==============================] - 0s 9ms/step - loss: 0.4516 - accuracy: 0.8094 - val_loss: 0.4912 - val_accuracy: 0.7867\n",
            "Epoch 70/125\n",
            "4/4 [==============================] - 0s 9ms/step - loss: 0.4454 - accuracy: 0.8024 - val_loss: 0.4811 - val_accuracy: 0.7867\n",
            "Epoch 71/125\n",
            "4/4 [==============================] - 0s 11ms/step - loss: 0.4517 - accuracy: 0.8071 - val_loss: 0.4673 - val_accuracy: 0.8267\n",
            "Epoch 72/125\n",
            "4/4 [==============================] - 0s 9ms/step - loss: 0.4425 - accuracy: 0.8094 - val_loss: 0.4609 - val_accuracy: 0.8400\n",
            "Epoch 73/125\n",
            "4/4 [==============================] - 0s 9ms/step - loss: 0.4341 - accuracy: 0.8141 - val_loss: 0.4684 - val_accuracy: 0.8133\n",
            "Epoch 74/125\n",
            "4/4 [==============================] - 0s 9ms/step - loss: 0.4350 - accuracy: 0.8141 - val_loss: 0.4663 - val_accuracy: 0.8267\n",
            "Epoch 75/125\n",
            "4/4 [==============================] - 0s 9ms/step - loss: 0.4233 - accuracy: 0.8353 - val_loss: 0.4467 - val_accuracy: 0.8267\n",
            "Epoch 76/125\n",
            "4/4 [==============================] - 0s 9ms/step - loss: 0.4336 - accuracy: 0.8282 - val_loss: 0.4525 - val_accuracy: 0.8400\n",
            "Epoch 77/125\n",
            "4/4 [==============================] - 0s 9ms/step - loss: 0.4394 - accuracy: 0.8235 - val_loss: 0.4574 - val_accuracy: 0.8133\n",
            "Epoch 78/125\n",
            "4/4 [==============================] - 0s 10ms/step - loss: 0.4239 - accuracy: 0.8141 - val_loss: 0.4364 - val_accuracy: 0.8000\n",
            "Epoch 79/125\n",
            "4/4 [==============================] - 0s 9ms/step - loss: 0.4399 - accuracy: 0.8047 - val_loss: 0.4332 - val_accuracy: 0.8400\n",
            "Epoch 80/125\n",
            "4/4 [==============================] - 0s 9ms/step - loss: 0.4288 - accuracy: 0.8141 - val_loss: 0.5308 - val_accuracy: 0.7867\n",
            "Epoch 81/125\n",
            "4/4 [==============================] - 0s 9ms/step - loss: 0.4752 - accuracy: 0.7882 - val_loss: 0.6911 - val_accuracy: 0.6800\n",
            "Epoch 82/125\n",
            "4/4 [==============================] - 0s 9ms/step - loss: 0.5435 - accuracy: 0.7506 - val_loss: 0.5298 - val_accuracy: 0.8267\n",
            "Epoch 83/125\n",
            "4/4 [==============================] - 0s 11ms/step - loss: 0.4782 - accuracy: 0.7953 - val_loss: 0.5006 - val_accuracy: 0.7867\n",
            "Epoch 84/125\n",
            "4/4 [==============================] - 0s 9ms/step - loss: 0.5714 - accuracy: 0.7529 - val_loss: 0.5372 - val_accuracy: 0.7467\n",
            "Epoch 85/125\n",
            "4/4 [==============================] - 0s 9ms/step - loss: 0.5003 - accuracy: 0.7812 - val_loss: 0.5841 - val_accuracy: 0.7600\n",
            "Epoch 86/125\n",
            "4/4 [==============================] - 0s 9ms/step - loss: 0.5094 - accuracy: 0.7812 - val_loss: 0.5050 - val_accuracy: 0.8133\n",
            "Epoch 87/125\n",
            "4/4 [==============================] - 0s 9ms/step - loss: 0.6173 - accuracy: 0.7388 - val_loss: 0.4452 - val_accuracy: 0.8133\n",
            "Epoch 88/125\n",
            "4/4 [==============================] - 0s 9ms/step - loss: 0.4740 - accuracy: 0.8000 - val_loss: 0.5059 - val_accuracy: 0.8133\n",
            "Epoch 89/125\n",
            "4/4 [==============================] - 0s 9ms/step - loss: 0.4665 - accuracy: 0.7976 - val_loss: 0.4793 - val_accuracy: 0.7867\n",
            "Epoch 90/125\n",
            "4/4 [==============================] - 0s 9ms/step - loss: 0.4514 - accuracy: 0.8047 - val_loss: 0.4726 - val_accuracy: 0.8133\n",
            "Epoch 91/125\n",
            "4/4 [==============================] - 0s 9ms/step - loss: 0.4166 - accuracy: 0.8141 - val_loss: 0.4338 - val_accuracy: 0.8133\n",
            "Epoch 92/125\n",
            "4/4 [==============================] - 0s 9ms/step - loss: 0.4345 - accuracy: 0.8165 - val_loss: 0.4336 - val_accuracy: 0.8267\n",
            "Epoch 93/125\n",
            "4/4 [==============================] - 0s 9ms/step - loss: 0.4204 - accuracy: 0.8306 - val_loss: 0.4569 - val_accuracy: 0.8000\n",
            "Epoch 94/125\n",
            "4/4 [==============================] - 0s 10ms/step - loss: 0.4115 - accuracy: 0.8188 - val_loss: 0.4440 - val_accuracy: 0.8133\n",
            "Epoch 95/125\n",
            "4/4 [==============================] - 0s 9ms/step - loss: 0.4146 - accuracy: 0.8212 - val_loss: 0.4449 - val_accuracy: 0.8400\n",
            "Epoch 96/125\n",
            "4/4 [==============================] - 0s 9ms/step - loss: 0.4148 - accuracy: 0.8259 - val_loss: 0.4772 - val_accuracy: 0.7733\n",
            "Epoch 97/125\n",
            "4/4 [==============================] - 0s 11ms/step - loss: 0.4265 - accuracy: 0.8094 - val_loss: 0.4584 - val_accuracy: 0.8267\n",
            "Epoch 98/125\n",
            "4/4 [==============================] - 0s 9ms/step - loss: 0.4064 - accuracy: 0.8376 - val_loss: 0.4399 - val_accuracy: 0.8533\n",
            "Epoch 99/125\n",
            "4/4 [==============================] - 0s 9ms/step - loss: 0.4097 - accuracy: 0.8353 - val_loss: 0.4429 - val_accuracy: 0.8400\n",
            "Epoch 100/125\n",
            "4/4 [==============================] - 0s 9ms/step - loss: 0.4074 - accuracy: 0.8212 - val_loss: 0.4522 - val_accuracy: 0.8133\n",
            "Epoch 101/125\n",
            "4/4 [==============================] - 0s 9ms/step - loss: 0.4038 - accuracy: 0.8235 - val_loss: 0.4406 - val_accuracy: 0.8000\n",
            "Epoch 102/125\n",
            "4/4 [==============================] - 0s 9ms/step - loss: 0.4006 - accuracy: 0.8400 - val_loss: 0.4702 - val_accuracy: 0.8267\n",
            "Epoch 103/125\n",
            "4/4 [==============================] - 0s 9ms/step - loss: 0.4195 - accuracy: 0.8212 - val_loss: 0.4438 - val_accuracy: 0.8267\n",
            "Epoch 104/125\n",
            "4/4 [==============================] - 0s 10ms/step - loss: 0.4006 - accuracy: 0.8282 - val_loss: 0.4490 - val_accuracy: 0.7867\n",
            "Epoch 105/125\n",
            "4/4 [==============================] - 0s 10ms/step - loss: 0.4153 - accuracy: 0.8329 - val_loss: 0.4763 - val_accuracy: 0.7867\n",
            "Epoch 106/125\n",
            "4/4 [==============================] - 0s 10ms/step - loss: 0.4093 - accuracy: 0.8259 - val_loss: 0.4348 - val_accuracy: 0.8267\n",
            "Epoch 107/125\n",
            "4/4 [==============================] - 0s 11ms/step - loss: 0.4038 - accuracy: 0.8329 - val_loss: 0.4450 - val_accuracy: 0.8400\n",
            "Epoch 108/125\n",
            "4/4 [==============================] - 0s 10ms/step - loss: 0.4095 - accuracy: 0.8212 - val_loss: 0.4404 - val_accuracy: 0.8000\n",
            "Epoch 109/125\n",
            "4/4 [==============================] - 0s 10ms/step - loss: 0.4029 - accuracy: 0.8212 - val_loss: 0.4494 - val_accuracy: 0.7867\n",
            "Epoch 110/125\n",
            "4/4 [==============================] - 0s 10ms/step - loss: 0.4140 - accuracy: 0.8329 - val_loss: 0.4960 - val_accuracy: 0.8000\n",
            "Epoch 111/125\n",
            "4/4 [==============================] - 0s 11ms/step - loss: 0.4246 - accuracy: 0.8141 - val_loss: 0.4654 - val_accuracy: 0.8267\n",
            "Epoch 112/125\n",
            "4/4 [==============================] - 0s 10ms/step - loss: 0.4254 - accuracy: 0.8329 - val_loss: 0.4822 - val_accuracy: 0.8267\n",
            "Epoch 113/125\n",
            "4/4 [==============================] - 0s 10ms/step - loss: 0.4275 - accuracy: 0.8118 - val_loss: 0.4628 - val_accuracy: 0.7867\n",
            "Epoch 114/125\n",
            "4/4 [==============================] - 0s 11ms/step - loss: 0.4070 - accuracy: 0.8212 - val_loss: 0.4531 - val_accuracy: 0.8267\n",
            "Epoch 115/125\n",
            "4/4 [==============================] - 0s 10ms/step - loss: 0.4038 - accuracy: 0.8282 - val_loss: 0.4524 - val_accuracy: 0.8267\n",
            "Epoch 116/125\n",
            "4/4 [==============================] - 0s 10ms/step - loss: 0.4152 - accuracy: 0.8141 - val_loss: 0.4729 - val_accuracy: 0.8267\n",
            "Epoch 117/125\n",
            "4/4 [==============================] - 0s 11ms/step - loss: 0.4122 - accuracy: 0.8259 - val_loss: 0.4604 - val_accuracy: 0.7733\n",
            "Epoch 118/125\n",
            "4/4 [==============================] - 0s 10ms/step - loss: 0.4282 - accuracy: 0.8165 - val_loss: 0.4557 - val_accuracy: 0.8400\n",
            "Epoch 119/125\n",
            "4/4 [==============================] - 0s 10ms/step - loss: 0.4407 - accuracy: 0.8047 - val_loss: 0.4810 - val_accuracy: 0.8400\n",
            "Epoch 120/125\n",
            "4/4 [==============================] - 0s 10ms/step - loss: 0.4177 - accuracy: 0.8118 - val_loss: 0.5171 - val_accuracy: 0.7733\n",
            "Epoch 121/125\n",
            "4/4 [==============================] - 0s 11ms/step - loss: 0.4323 - accuracy: 0.8235 - val_loss: 0.5394 - val_accuracy: 0.7733\n",
            "Epoch 122/125\n",
            "4/4 [==============================] - 0s 10ms/step - loss: 0.4280 - accuracy: 0.8306 - val_loss: 0.5134 - val_accuracy: 0.7867\n",
            "Epoch 123/125\n",
            "4/4 [==============================] - 0s 10ms/step - loss: 0.4224 - accuracy: 0.8259 - val_loss: 0.5353 - val_accuracy: 0.7733\n",
            "Epoch 124/125\n",
            "4/4 [==============================] - 0s 10ms/step - loss: 0.4264 - accuracy: 0.8353 - val_loss: 0.4689 - val_accuracy: 0.8400\n",
            "Epoch 125/125\n",
            "4/4 [==============================] - 0s 12ms/step - loss: 0.4252 - accuracy: 0.8329 - val_loss: 0.4681 - val_accuracy: 0.8267\n",
            "16/16 - 0s - loss: 0.3987 - accuracy: 0.8400 - 44ms/epoch - 3ms/step\n"
          ]
        }
      ],
      "source": [
        "### START CODE HERE ### \n",
        "batch_size=128\n",
        "history=fit_model(X_train, y_train, X_test, y_test, batch_size)\n",
        "###### END CODE HERE"
      ]
    },
    {
      "cell_type": "code",
      "execution_count": 143,
      "id": "7e9a46f6-a1ce-4922-b48f-3c6f54ae4515",
      "metadata": {
        "tags": [],
        "id": "7e9a46f6-a1ce-4922-b48f-3c6f54ae4515",
        "colab": {
          "base_uri": "https://localhost:8080/",
          "height": 464
        },
        "outputId": "6c15ba31-4689-42bd-b6ac-27ef92904b07"
      },
      "outputs": [
        {
          "output_type": "display_data",
          "data": {
            "text/plain": [
              "<Figure size 720x360 with 1 Axes>"
            ],
            "image/svg+xml": "<?xml version=\"1.0\" encoding=\"utf-8\" standalone=\"no\"?>\n<!DOCTYPE svg PUBLIC \"-//W3C//DTD SVG 1.1//EN\"\n  \"http://www.w3.org/Graphics/SVG/1.1/DTD/svg11.dtd\">\n<!-- Created with matplotlib (https://matplotlib.org/) -->\n<svg height=\"331.674375pt\" version=\"1.1\" viewBox=\"0 0 615.34375 331.674375\" width=\"615.34375pt\" xmlns=\"http://www.w3.org/2000/svg\" xmlns:xlink=\"http://www.w3.org/1999/xlink\">\n <defs>\n  <style type=\"text/css\">\n*{stroke-linecap:butt;stroke-linejoin:round;}\n  </style>\n </defs>\n <g id=\"figure_1\">\n  <g id=\"patch_1\">\n   <path d=\"M 0 331.674375 \nL 615.34375 331.674375 \nL 615.34375 0 \nL 0 0 \nz\n\" style=\"fill:none;\"/>\n  </g>\n  <g id=\"axes_1\">\n   <g id=\"patch_2\">\n    <path d=\"M 50.14375 294.118125 \nL 608.14375 294.118125 \nL 608.14375 22.318125 \nL 50.14375 22.318125 \nz\n\" style=\"fill:#ffffff;\"/>\n   </g>\n   <g id=\"matplotlib.axis_1\">\n    <g id=\"xtick_1\">\n     <g id=\"line2d_1\">\n      <defs>\n       <path d=\"M 0 0 \nL 0 3.5 \n\" id=\"mee42c22370\" style=\"stroke:#000000;stroke-width:0.8;\"/>\n      </defs>\n      <g>\n       <use style=\"stroke:#000000;stroke-width:0.8;\" x=\"75.507386\" xlink:href=\"#mee42c22370\" y=\"294.118125\"/>\n      </g>\n     </g>\n     <g id=\"text_1\">\n      <!-- 0 -->\n      <defs>\n       <path d=\"M 31.78125 66.40625 \nQ 24.171875 66.40625 20.328125 58.90625 \nQ 16.5 51.421875 16.5 36.375 \nQ 16.5 21.390625 20.328125 13.890625 \nQ 24.171875 6.390625 31.78125 6.390625 \nQ 39.453125 6.390625 43.28125 13.890625 \nQ 47.125 21.390625 47.125 36.375 \nQ 47.125 51.421875 43.28125 58.90625 \nQ 39.453125 66.40625 31.78125 66.40625 \nz\nM 31.78125 74.21875 \nQ 44.046875 74.21875 50.515625 64.515625 \nQ 56.984375 54.828125 56.984375 36.375 \nQ 56.984375 17.96875 50.515625 8.265625 \nQ 44.046875 -1.421875 31.78125 -1.421875 \nQ 19.53125 -1.421875 13.0625 8.265625 \nQ 6.59375 17.96875 6.59375 36.375 \nQ 6.59375 54.828125 13.0625 64.515625 \nQ 19.53125 74.21875 31.78125 74.21875 \nz\n\" id=\"DejaVuSans-48\"/>\n      </defs>\n      <g transform=\"translate(72.326136 308.716563)scale(0.1 -0.1)\">\n       <use xlink:href=\"#DejaVuSans-48\"/>\n      </g>\n     </g>\n    </g>\n    <g id=\"xtick_2\">\n     <g id=\"line2d_2\">\n      <g>\n       <use style=\"stroke:#000000;stroke-width:0.8;\" x=\"157.325568\" xlink:href=\"#mee42c22370\" y=\"294.118125\"/>\n      </g>\n     </g>\n     <g id=\"text_2\">\n      <!-- 20 -->\n      <defs>\n       <path d=\"M 19.1875 8.296875 \nL 53.609375 8.296875 \nL 53.609375 0 \nL 7.328125 0 \nL 7.328125 8.296875 \nQ 12.9375 14.109375 22.625 23.890625 \nQ 32.328125 33.6875 34.8125 36.53125 \nQ 39.546875 41.84375 41.421875 45.53125 \nQ 43.3125 49.21875 43.3125 52.78125 \nQ 43.3125 58.59375 39.234375 62.25 \nQ 35.15625 65.921875 28.609375 65.921875 \nQ 23.96875 65.921875 18.8125 64.3125 \nQ 13.671875 62.703125 7.8125 59.421875 \nL 7.8125 69.390625 \nQ 13.765625 71.78125 18.9375 73 \nQ 24.125 74.21875 28.421875 74.21875 \nQ 39.75 74.21875 46.484375 68.546875 \nQ 53.21875 62.890625 53.21875 53.421875 \nQ 53.21875 48.921875 51.53125 44.890625 \nQ 49.859375 40.875 45.40625 35.40625 \nQ 44.1875 33.984375 37.640625 27.21875 \nQ 31.109375 20.453125 19.1875 8.296875 \nz\n\" id=\"DejaVuSans-50\"/>\n      </defs>\n      <g transform=\"translate(150.963068 308.716563)scale(0.1 -0.1)\">\n       <use xlink:href=\"#DejaVuSans-50\"/>\n       <use x=\"63.623047\" xlink:href=\"#DejaVuSans-48\"/>\n      </g>\n     </g>\n    </g>\n    <g id=\"xtick_3\">\n     <g id=\"line2d_3\">\n      <g>\n       <use style=\"stroke:#000000;stroke-width:0.8;\" x=\"239.14375\" xlink:href=\"#mee42c22370\" y=\"294.118125\"/>\n      </g>\n     </g>\n     <g id=\"text_3\">\n      <!-- 40 -->\n      <defs>\n       <path d=\"M 37.796875 64.3125 \nL 12.890625 25.390625 \nL 37.796875 25.390625 \nz\nM 35.203125 72.90625 \nL 47.609375 72.90625 \nL 47.609375 25.390625 \nL 58.015625 25.390625 \nL 58.015625 17.1875 \nL 47.609375 17.1875 \nL 47.609375 0 \nL 37.796875 0 \nL 37.796875 17.1875 \nL 4.890625 17.1875 \nL 4.890625 26.703125 \nz\n\" id=\"DejaVuSans-52\"/>\n      </defs>\n      <g transform=\"translate(232.78125 308.716563)scale(0.1 -0.1)\">\n       <use xlink:href=\"#DejaVuSans-52\"/>\n       <use x=\"63.623047\" xlink:href=\"#DejaVuSans-48\"/>\n      </g>\n     </g>\n    </g>\n    <g id=\"xtick_4\">\n     <g id=\"line2d_4\">\n      <g>\n       <use style=\"stroke:#000000;stroke-width:0.8;\" x=\"320.961932\" xlink:href=\"#mee42c22370\" y=\"294.118125\"/>\n      </g>\n     </g>\n     <g id=\"text_4\">\n      <!-- 60 -->\n      <defs>\n       <path d=\"M 33.015625 40.375 \nQ 26.375 40.375 22.484375 35.828125 \nQ 18.609375 31.296875 18.609375 23.390625 \nQ 18.609375 15.53125 22.484375 10.953125 \nQ 26.375 6.390625 33.015625 6.390625 \nQ 39.65625 6.390625 43.53125 10.953125 \nQ 47.40625 15.53125 47.40625 23.390625 \nQ 47.40625 31.296875 43.53125 35.828125 \nQ 39.65625 40.375 33.015625 40.375 \nz\nM 52.59375 71.296875 \nL 52.59375 62.3125 \nQ 48.875 64.0625 45.09375 64.984375 \nQ 41.3125 65.921875 37.59375 65.921875 \nQ 27.828125 65.921875 22.671875 59.328125 \nQ 17.53125 52.734375 16.796875 39.40625 \nQ 19.671875 43.65625 24.015625 45.921875 \nQ 28.375 48.1875 33.59375 48.1875 \nQ 44.578125 48.1875 50.953125 41.515625 \nQ 57.328125 34.859375 57.328125 23.390625 \nQ 57.328125 12.15625 50.6875 5.359375 \nQ 44.046875 -1.421875 33.015625 -1.421875 \nQ 20.359375 -1.421875 13.671875 8.265625 \nQ 6.984375 17.96875 6.984375 36.375 \nQ 6.984375 53.65625 15.1875 63.9375 \nQ 23.390625 74.21875 37.203125 74.21875 \nQ 40.921875 74.21875 44.703125 73.484375 \nQ 48.484375 72.75 52.59375 71.296875 \nz\n\" id=\"DejaVuSans-54\"/>\n      </defs>\n      <g transform=\"translate(314.599432 308.716563)scale(0.1 -0.1)\">\n       <use xlink:href=\"#DejaVuSans-54\"/>\n       <use x=\"63.623047\" xlink:href=\"#DejaVuSans-48\"/>\n      </g>\n     </g>\n    </g>\n    <g id=\"xtick_5\">\n     <g id=\"line2d_5\">\n      <g>\n       <use style=\"stroke:#000000;stroke-width:0.8;\" x=\"402.780114\" xlink:href=\"#mee42c22370\" y=\"294.118125\"/>\n      </g>\n     </g>\n     <g id=\"text_5\">\n      <!-- 80 -->\n      <defs>\n       <path d=\"M 31.78125 34.625 \nQ 24.75 34.625 20.71875 30.859375 \nQ 16.703125 27.09375 16.703125 20.515625 \nQ 16.703125 13.921875 20.71875 10.15625 \nQ 24.75 6.390625 31.78125 6.390625 \nQ 38.8125 6.390625 42.859375 10.171875 \nQ 46.921875 13.96875 46.921875 20.515625 \nQ 46.921875 27.09375 42.890625 30.859375 \nQ 38.875 34.625 31.78125 34.625 \nz\nM 21.921875 38.8125 \nQ 15.578125 40.375 12.03125 44.71875 \nQ 8.5 49.078125 8.5 55.328125 \nQ 8.5 64.0625 14.71875 69.140625 \nQ 20.953125 74.21875 31.78125 74.21875 \nQ 42.671875 74.21875 48.875 69.140625 \nQ 55.078125 64.0625 55.078125 55.328125 \nQ 55.078125 49.078125 51.53125 44.71875 \nQ 48 40.375 41.703125 38.8125 \nQ 48.828125 37.15625 52.796875 32.3125 \nQ 56.78125 27.484375 56.78125 20.515625 \nQ 56.78125 9.90625 50.3125 4.234375 \nQ 43.84375 -1.421875 31.78125 -1.421875 \nQ 19.734375 -1.421875 13.25 4.234375 \nQ 6.78125 9.90625 6.78125 20.515625 \nQ 6.78125 27.484375 10.78125 32.3125 \nQ 14.796875 37.15625 21.921875 38.8125 \nz\nM 18.3125 54.390625 \nQ 18.3125 48.734375 21.84375 45.5625 \nQ 25.390625 42.390625 31.78125 42.390625 \nQ 38.140625 42.390625 41.71875 45.5625 \nQ 45.3125 48.734375 45.3125 54.390625 \nQ 45.3125 60.0625 41.71875 63.234375 \nQ 38.140625 66.40625 31.78125 66.40625 \nQ 25.390625 66.40625 21.84375 63.234375 \nQ 18.3125 60.0625 18.3125 54.390625 \nz\n\" id=\"DejaVuSans-56\"/>\n      </defs>\n      <g transform=\"translate(396.417614 308.716563)scale(0.1 -0.1)\">\n       <use xlink:href=\"#DejaVuSans-56\"/>\n       <use x=\"63.623047\" xlink:href=\"#DejaVuSans-48\"/>\n      </g>\n     </g>\n    </g>\n    <g id=\"xtick_6\">\n     <g id=\"line2d_6\">\n      <g>\n       <use style=\"stroke:#000000;stroke-width:0.8;\" x=\"484.598295\" xlink:href=\"#mee42c22370\" y=\"294.118125\"/>\n      </g>\n     </g>\n     <g id=\"text_6\">\n      <!-- 100 -->\n      <defs>\n       <path d=\"M 12.40625 8.296875 \nL 28.515625 8.296875 \nL 28.515625 63.921875 \nL 10.984375 60.40625 \nL 10.984375 69.390625 \nL 28.421875 72.90625 \nL 38.28125 72.90625 \nL 38.28125 8.296875 \nL 54.390625 8.296875 \nL 54.390625 0 \nL 12.40625 0 \nz\n\" id=\"DejaVuSans-49\"/>\n      </defs>\n      <g transform=\"translate(475.054545 308.716563)scale(0.1 -0.1)\">\n       <use xlink:href=\"#DejaVuSans-49\"/>\n       <use x=\"63.623047\" xlink:href=\"#DejaVuSans-48\"/>\n       <use x=\"127.246094\" xlink:href=\"#DejaVuSans-48\"/>\n      </g>\n     </g>\n    </g>\n    <g id=\"xtick_7\">\n     <g id=\"line2d_7\">\n      <g>\n       <use style=\"stroke:#000000;stroke-width:0.8;\" x=\"566.416477\" xlink:href=\"#mee42c22370\" y=\"294.118125\"/>\n      </g>\n     </g>\n     <g id=\"text_7\">\n      <!-- 120 -->\n      <g transform=\"translate(556.872727 308.716563)scale(0.1 -0.1)\">\n       <use xlink:href=\"#DejaVuSans-49\"/>\n       <use x=\"63.623047\" xlink:href=\"#DejaVuSans-50\"/>\n       <use x=\"127.246094\" xlink:href=\"#DejaVuSans-48\"/>\n      </g>\n     </g>\n    </g>\n    <g id=\"text_8\">\n     <!-- Epoch -->\n     <defs>\n      <path d=\"M 9.8125 72.90625 \nL 55.90625 72.90625 \nL 55.90625 64.59375 \nL 19.671875 64.59375 \nL 19.671875 43.015625 \nL 54.390625 43.015625 \nL 54.390625 34.71875 \nL 19.671875 34.71875 \nL 19.671875 8.296875 \nL 56.78125 8.296875 \nL 56.78125 0 \nL 9.8125 0 \nz\n\" id=\"DejaVuSans-69\"/>\n      <path d=\"M 18.109375 8.203125 \nL 18.109375 -20.796875 \nL 9.078125 -20.796875 \nL 9.078125 54.6875 \nL 18.109375 54.6875 \nL 18.109375 46.390625 \nQ 20.953125 51.265625 25.265625 53.625 \nQ 29.59375 56 35.59375 56 \nQ 45.5625 56 51.78125 48.09375 \nQ 58.015625 40.1875 58.015625 27.296875 \nQ 58.015625 14.40625 51.78125 6.484375 \nQ 45.5625 -1.421875 35.59375 -1.421875 \nQ 29.59375 -1.421875 25.265625 0.953125 \nQ 20.953125 3.328125 18.109375 8.203125 \nz\nM 48.6875 27.296875 \nQ 48.6875 37.203125 44.609375 42.84375 \nQ 40.53125 48.484375 33.40625 48.484375 \nQ 26.265625 48.484375 22.1875 42.84375 \nQ 18.109375 37.203125 18.109375 27.296875 \nQ 18.109375 17.390625 22.1875 11.75 \nQ 26.265625 6.109375 33.40625 6.109375 \nQ 40.53125 6.109375 44.609375 11.75 \nQ 48.6875 17.390625 48.6875 27.296875 \nz\n\" id=\"DejaVuSans-112\"/>\n      <path d=\"M 30.609375 48.390625 \nQ 23.390625 48.390625 19.1875 42.75 \nQ 14.984375 37.109375 14.984375 27.296875 \nQ 14.984375 17.484375 19.15625 11.84375 \nQ 23.34375 6.203125 30.609375 6.203125 \nQ 37.796875 6.203125 41.984375 11.859375 \nQ 46.1875 17.53125 46.1875 27.296875 \nQ 46.1875 37.015625 41.984375 42.703125 \nQ 37.796875 48.390625 30.609375 48.390625 \nz\nM 30.609375 56 \nQ 42.328125 56 49.015625 48.375 \nQ 55.71875 40.765625 55.71875 27.296875 \nQ 55.71875 13.875 49.015625 6.21875 \nQ 42.328125 -1.421875 30.609375 -1.421875 \nQ 18.84375 -1.421875 12.171875 6.21875 \nQ 5.515625 13.875 5.515625 27.296875 \nQ 5.515625 40.765625 12.171875 48.375 \nQ 18.84375 56 30.609375 56 \nz\n\" id=\"DejaVuSans-111\"/>\n      <path d=\"M 48.78125 52.59375 \nL 48.78125 44.1875 \nQ 44.96875 46.296875 41.140625 47.34375 \nQ 37.3125 48.390625 33.40625 48.390625 \nQ 24.65625 48.390625 19.8125 42.84375 \nQ 14.984375 37.3125 14.984375 27.296875 \nQ 14.984375 17.28125 19.8125 11.734375 \nQ 24.65625 6.203125 33.40625 6.203125 \nQ 37.3125 6.203125 41.140625 7.25 \nQ 44.96875 8.296875 48.78125 10.40625 \nL 48.78125 2.09375 \nQ 45.015625 0.34375 40.984375 -0.53125 \nQ 36.96875 -1.421875 32.421875 -1.421875 \nQ 20.0625 -1.421875 12.78125 6.34375 \nQ 5.515625 14.109375 5.515625 27.296875 \nQ 5.515625 40.671875 12.859375 48.328125 \nQ 20.21875 56 33.015625 56 \nQ 37.15625 56 41.109375 55.140625 \nQ 45.0625 54.296875 48.78125 52.59375 \nz\n\" id=\"DejaVuSans-99\"/>\n      <path d=\"M 54.890625 33.015625 \nL 54.890625 0 \nL 45.90625 0 \nL 45.90625 32.71875 \nQ 45.90625 40.484375 42.875 44.328125 \nQ 39.84375 48.1875 33.796875 48.1875 \nQ 26.515625 48.1875 22.3125 43.546875 \nQ 18.109375 38.921875 18.109375 30.90625 \nL 18.109375 0 \nL 9.078125 0 \nL 9.078125 75.984375 \nL 18.109375 75.984375 \nL 18.109375 46.1875 \nQ 21.34375 51.125 25.703125 53.5625 \nQ 30.078125 56 35.796875 56 \nQ 45.21875 56 50.046875 50.171875 \nQ 54.890625 44.34375 54.890625 33.015625 \nz\n\" id=\"DejaVuSans-104\"/>\n     </defs>\n     <g transform=\"translate(313.832812 322.394687)scale(0.1 -0.1)\">\n      <use xlink:href=\"#DejaVuSans-69\"/>\n      <use x=\"63.183594\" xlink:href=\"#DejaVuSans-112\"/>\n      <use x=\"126.660156\" xlink:href=\"#DejaVuSans-111\"/>\n      <use x=\"187.841797\" xlink:href=\"#DejaVuSans-99\"/>\n      <use x=\"242.822266\" xlink:href=\"#DejaVuSans-104\"/>\n     </g>\n    </g>\n   </g>\n   <g id=\"matplotlib.axis_2\">\n    <g id=\"ytick_1\">\n     <g id=\"line2d_8\">\n      <defs>\n       <path d=\"M 0 0 \nL -3.5 0 \n\" id=\"m06c69ea8d5\" style=\"stroke:#000000;stroke-width:0.8;\"/>\n      </defs>\n      <g>\n       <use style=\"stroke:#000000;stroke-width:0.8;\" x=\"50.14375\" xlink:href=\"#m06c69ea8d5\" y=\"269.552233\"/>\n      </g>\n     </g>\n     <g id=\"text_9\">\n      <!-- 0.50 -->\n      <defs>\n       <path d=\"M 10.6875 12.40625 \nL 21 12.40625 \nL 21 0 \nL 10.6875 0 \nz\n\" id=\"DejaVuSans-46\"/>\n       <path d=\"M 10.796875 72.90625 \nL 49.515625 72.90625 \nL 49.515625 64.59375 \nL 19.828125 64.59375 \nL 19.828125 46.734375 \nQ 21.96875 47.46875 24.109375 47.828125 \nQ 26.265625 48.1875 28.421875 48.1875 \nQ 40.625 48.1875 47.75 41.5 \nQ 54.890625 34.8125 54.890625 23.390625 \nQ 54.890625 11.625 47.5625 5.09375 \nQ 40.234375 -1.421875 26.90625 -1.421875 \nQ 22.3125 -1.421875 17.546875 -0.640625 \nQ 12.796875 0.140625 7.71875 1.703125 \nL 7.71875 11.625 \nQ 12.109375 9.234375 16.796875 8.0625 \nQ 21.484375 6.890625 26.703125 6.890625 \nQ 35.15625 6.890625 40.078125 11.328125 \nQ 45.015625 15.765625 45.015625 23.390625 \nQ 45.015625 31 40.078125 35.4375 \nQ 35.15625 39.890625 26.703125 39.890625 \nQ 22.75 39.890625 18.8125 39.015625 \nQ 14.890625 38.140625 10.796875 36.28125 \nz\n\" id=\"DejaVuSans-53\"/>\n      </defs>\n      <g transform=\"translate(20.878125 273.351452)scale(0.1 -0.1)\">\n       <use xlink:href=\"#DejaVuSans-48\"/>\n       <use x=\"63.623047\" xlink:href=\"#DejaVuSans-46\"/>\n       <use x=\"95.410156\" xlink:href=\"#DejaVuSans-53\"/>\n       <use x=\"159.033203\" xlink:href=\"#DejaVuSans-48\"/>\n      </g>\n     </g>\n    </g>\n    <g id=\"ytick_2\">\n     <g id=\"line2d_9\">\n      <g>\n       <use style=\"stroke:#000000;stroke-width:0.8;\" x=\"50.14375\" xlink:href=\"#m06c69ea8d5\" y=\"238.845756\"/>\n      </g>\n     </g>\n     <g id=\"text_10\">\n      <!-- 0.75 -->\n      <defs>\n       <path d=\"M 8.203125 72.90625 \nL 55.078125 72.90625 \nL 55.078125 68.703125 \nL 28.609375 0 \nL 18.3125 0 \nL 43.21875 64.59375 \nL 8.203125 64.59375 \nz\n\" id=\"DejaVuSans-55\"/>\n      </defs>\n      <g transform=\"translate(20.878125 242.644975)scale(0.1 -0.1)\">\n       <use xlink:href=\"#DejaVuSans-48\"/>\n       <use x=\"63.623047\" xlink:href=\"#DejaVuSans-46\"/>\n       <use x=\"95.410156\" xlink:href=\"#DejaVuSans-55\"/>\n       <use x=\"159.033203\" xlink:href=\"#DejaVuSans-53\"/>\n      </g>\n     </g>\n    </g>\n    <g id=\"ytick_3\">\n     <g id=\"line2d_10\">\n      <g>\n       <use style=\"stroke:#000000;stroke-width:0.8;\" x=\"50.14375\" xlink:href=\"#m06c69ea8d5\" y=\"208.139278\"/>\n      </g>\n     </g>\n     <g id=\"text_11\">\n      <!-- 1.00 -->\n      <g transform=\"translate(20.878125 211.938497)scale(0.1 -0.1)\">\n       <use xlink:href=\"#DejaVuSans-49\"/>\n       <use x=\"63.623047\" xlink:href=\"#DejaVuSans-46\"/>\n       <use x=\"95.410156\" xlink:href=\"#DejaVuSans-48\"/>\n       <use x=\"159.033203\" xlink:href=\"#DejaVuSans-48\"/>\n      </g>\n     </g>\n    </g>\n    <g id=\"ytick_4\">\n     <g id=\"line2d_11\">\n      <g>\n       <use style=\"stroke:#000000;stroke-width:0.8;\" x=\"50.14375\" xlink:href=\"#m06c69ea8d5\" y=\"177.432801\"/>\n      </g>\n     </g>\n     <g id=\"text_12\">\n      <!-- 1.25 -->\n      <g transform=\"translate(20.878125 181.232019)scale(0.1 -0.1)\">\n       <use xlink:href=\"#DejaVuSans-49\"/>\n       <use x=\"63.623047\" xlink:href=\"#DejaVuSans-46\"/>\n       <use x=\"95.410156\" xlink:href=\"#DejaVuSans-50\"/>\n       <use x=\"159.033203\" xlink:href=\"#DejaVuSans-53\"/>\n      </g>\n     </g>\n    </g>\n    <g id=\"ytick_5\">\n     <g id=\"line2d_12\">\n      <g>\n       <use style=\"stroke:#000000;stroke-width:0.8;\" x=\"50.14375\" xlink:href=\"#m06c69ea8d5\" y=\"146.726323\"/>\n      </g>\n     </g>\n     <g id=\"text_13\">\n      <!-- 1.50 -->\n      <g transform=\"translate(20.878125 150.525542)scale(0.1 -0.1)\">\n       <use xlink:href=\"#DejaVuSans-49\"/>\n       <use x=\"63.623047\" xlink:href=\"#DejaVuSans-46\"/>\n       <use x=\"95.410156\" xlink:href=\"#DejaVuSans-53\"/>\n       <use x=\"159.033203\" xlink:href=\"#DejaVuSans-48\"/>\n      </g>\n     </g>\n    </g>\n    <g id=\"ytick_6\">\n     <g id=\"line2d_13\">\n      <g>\n       <use style=\"stroke:#000000;stroke-width:0.8;\" x=\"50.14375\" xlink:href=\"#m06c69ea8d5\" y=\"116.019845\"/>\n      </g>\n     </g>\n     <g id=\"text_14\">\n      <!-- 1.75 -->\n      <g transform=\"translate(20.878125 119.819064)scale(0.1 -0.1)\">\n       <use xlink:href=\"#DejaVuSans-49\"/>\n       <use x=\"63.623047\" xlink:href=\"#DejaVuSans-46\"/>\n       <use x=\"95.410156\" xlink:href=\"#DejaVuSans-55\"/>\n       <use x=\"159.033203\" xlink:href=\"#DejaVuSans-53\"/>\n      </g>\n     </g>\n    </g>\n    <g id=\"ytick_7\">\n     <g id=\"line2d_14\">\n      <g>\n       <use style=\"stroke:#000000;stroke-width:0.8;\" x=\"50.14375\" xlink:href=\"#m06c69ea8d5\" y=\"85.313368\"/>\n      </g>\n     </g>\n     <g id=\"text_15\">\n      <!-- 2.00 -->\n      <g transform=\"translate(20.878125 89.112586)scale(0.1 -0.1)\">\n       <use xlink:href=\"#DejaVuSans-50\"/>\n       <use x=\"63.623047\" xlink:href=\"#DejaVuSans-46\"/>\n       <use x=\"95.410156\" xlink:href=\"#DejaVuSans-48\"/>\n       <use x=\"159.033203\" xlink:href=\"#DejaVuSans-48\"/>\n      </g>\n     </g>\n    </g>\n    <g id=\"ytick_8\">\n     <g id=\"line2d_15\">\n      <g>\n       <use style=\"stroke:#000000;stroke-width:0.8;\" x=\"50.14375\" xlink:href=\"#m06c69ea8d5\" y=\"54.60689\"/>\n      </g>\n     </g>\n     <g id=\"text_16\">\n      <!-- 2.25 -->\n      <g transform=\"translate(20.878125 58.406109)scale(0.1 -0.1)\">\n       <use xlink:href=\"#DejaVuSans-50\"/>\n       <use x=\"63.623047\" xlink:href=\"#DejaVuSans-46\"/>\n       <use x=\"95.410156\" xlink:href=\"#DejaVuSans-50\"/>\n       <use x=\"159.033203\" xlink:href=\"#DejaVuSans-53\"/>\n      </g>\n     </g>\n    </g>\n    <g id=\"ytick_9\">\n     <g id=\"line2d_16\">\n      <g>\n       <use style=\"stroke:#000000;stroke-width:0.8;\" x=\"50.14375\" xlink:href=\"#m06c69ea8d5\" y=\"23.900412\"/>\n      </g>\n     </g>\n     <g id=\"text_17\">\n      <!-- 2.50 -->\n      <g transform=\"translate(20.878125 27.699631)scale(0.1 -0.1)\">\n       <use xlink:href=\"#DejaVuSans-50\"/>\n       <use x=\"63.623047\" xlink:href=\"#DejaVuSans-46\"/>\n       <use x=\"95.410156\" xlink:href=\"#DejaVuSans-53\"/>\n       <use x=\"159.033203\" xlink:href=\"#DejaVuSans-48\"/>\n      </g>\n     </g>\n    </g>\n    <g id=\"text_18\">\n     <!-- Loss -->\n     <defs>\n      <path d=\"M 9.8125 72.90625 \nL 19.671875 72.90625 \nL 19.671875 8.296875 \nL 55.171875 8.296875 \nL 55.171875 0 \nL 9.8125 0 \nz\n\" id=\"DejaVuSans-76\"/>\n      <path d=\"M 44.28125 53.078125 \nL 44.28125 44.578125 \nQ 40.484375 46.53125 36.375 47.5 \nQ 32.28125 48.484375 27.875 48.484375 \nQ 21.1875 48.484375 17.84375 46.4375 \nQ 14.5 44.390625 14.5 40.28125 \nQ 14.5 37.15625 16.890625 35.375 \nQ 19.28125 33.59375 26.515625 31.984375 \nL 29.59375 31.296875 \nQ 39.15625 29.25 43.1875 25.515625 \nQ 47.21875 21.78125 47.21875 15.09375 \nQ 47.21875 7.46875 41.1875 3.015625 \nQ 35.15625 -1.421875 24.609375 -1.421875 \nQ 20.21875 -1.421875 15.453125 -0.5625 \nQ 10.6875 0.296875 5.421875 2 \nL 5.421875 11.28125 \nQ 10.40625 8.6875 15.234375 7.390625 \nQ 20.0625 6.109375 24.8125 6.109375 \nQ 31.15625 6.109375 34.5625 8.28125 \nQ 37.984375 10.453125 37.984375 14.40625 \nQ 37.984375 18.0625 35.515625 20.015625 \nQ 33.0625 21.96875 24.703125 23.78125 \nL 21.578125 24.515625 \nQ 13.234375 26.265625 9.515625 29.90625 \nQ 5.8125 33.546875 5.8125 39.890625 \nQ 5.8125 47.609375 11.28125 51.796875 \nQ 16.75 56 26.8125 56 \nQ 31.78125 56 36.171875 55.265625 \nQ 40.578125 54.546875 44.28125 53.078125 \nz\n\" id=\"DejaVuSans-115\"/>\n     </defs>\n     <g transform=\"translate(14.798437 169.185313)rotate(-90)scale(0.1 -0.1)\">\n      <use xlink:href=\"#DejaVuSans-76\"/>\n      <use x=\"53.962891\" xlink:href=\"#DejaVuSans-111\"/>\n      <use x=\"115.144531\" xlink:href=\"#DejaVuSans-115\"/>\n      <use x=\"167.244141\" xlink:href=\"#DejaVuSans-115\"/>\n     </g>\n    </g>\n   </g>\n   <g id=\"line2d_17\">\n    <path clip-path=\"url(#p9025bc2764)\" d=\"M 75.507386 66.891753 \nL 79.598295 34.67267 \nL 83.689205 156.242152 \nL 87.780114 160.050885 \nL 91.871023 165.430381 \nL 95.961932 119.151167 \nL 100.052841 170.360061 \nL 104.14375 199.071509 \nL 108.234659 194.358443 \nL 112.325568 231.626969 \nL 116.416477 233.884691 \nL 120.507386 239.968628 \nL 124.598295 248.858834 \nL 128.689205 249.793608 \nL 132.780114 251.85121 \nL 136.871023 253.957724 \nL 140.961932 253.815594 \nL 145.052841 257.118512 \nL 149.14375 250.854296 \nL 153.234659 236.720991 \nL 157.325568 219.777676 \nL 161.416477 247.847365 \nL 165.507386 249.364649 \nL 169.598295 247.706993 \nL 173.689205 232.77791 \nL 177.780114 256.907104 \nL 181.871023 256.877205 \nL 185.961932 263.858117 \nL 190.052841 260.01032 \nL 194.14375 257.441976 \nL 198.234659 263.81458 \nL 202.325568 263.4884 \nL 206.416477 261.736574 \nL 210.507386 243.613224 \nL 214.598295 250.271069 \nL 218.689205 246.769561 \nL 222.780114 241.040854 \nL 226.871023 249.362987 \nL 230.961932 250.951123 \nL 235.052841 264.665125 \nL 239.14375 268.344679 \nL 243.234659 269.772032 \nL 247.325568 271.073683 \nL 251.416477 272.000374 \nL 255.507386 271.69719 \nL 259.598295 271.707209 \nL 263.689205 270.77641 \nL 267.780114 272.113319 \nL 271.871023 271.308097 \nL 275.961932 271.610652 \nL 280.052841 271.844602 \nL 284.14375 273.877744 \nL 288.234659 273.756249 \nL 292.325568 272.309833 \nL 296.416477 274.70953 \nL 300.507386 275.853084 \nL 304.598295 273.582514 \nL 308.689205 276.248231 \nL 312.780114 273.101375 \nL 316.871023 276.486116 \nL 320.961932 276.809514 \nL 325.052841 276.499674 \nL 329.14375 275.621701 \nL 333.234659 276.693395 \nL 337.325568 276.098502 \nL 341.416477 277.427325 \nL 345.507386 276.359126 \nL 349.598295 275.120106 \nL 353.689205 275.494194 \nL 357.780114 276.259846 \nL 361.871023 275.488587 \nL 365.961932 276.60868 \nL 370.052841 277.641925 \nL 374.14375 277.54072 \nL 378.234659 278.967139 \nL 382.325568 277.703367 \nL 386.416477 276.994391 \nL 390.507386 278.901828 \nL 394.598295 276.934055 \nL 398.689205 278.296704 \nL 402.780114 272.603375 \nL 406.871023 264.211905 \nL 410.961932 272.227537 \nL 415.052841 260.779017 \nL 419.14375 269.510087 \nL 423.234659 268.398137 \nL 427.325568 255.148323 \nL 431.416477 272.746142 \nL 435.507386 273.672709 \nL 439.598295 275.517753 \nL 443.689205 279.797157 \nL 447.780114 277.59454 \nL 451.871023 279.324777 \nL 455.961932 280.416509 \nL 460.052841 280.044764 \nL 464.14375 280.018551 \nL 468.234659 278.578954 \nL 472.325568 281.054516 \nL 476.416477 280.643797 \nL 480.507386 280.92884 \nL 484.598295 281.373257 \nL 488.689205 281.75751 \nL 492.780114 279.440317 \nL 496.871023 281.76358 \nL 500.961932 279.952896 \nL 505.052841 280.693935 \nL 509.14375 281.363088 \nL 513.234659 280.662561 \nL 517.325568 281.479657 \nL 521.416477 280.10991 \nL 525.507386 278.818856 \nL 529.598295 278.711914 \nL 533.689205 278.459871 \nL 537.780114 280.978066 \nL 541.871023 281.371518 \nL 545.961932 279.961791 \nL 550.052841 280.335502 \nL 554.14375 278.367981 \nL 558.234659 276.83763 \nL 562.325568 279.661824 \nL 566.416477 277.872068 \nL 570.507386 278.396632 \nL 574.598295 279.089216 \nL 578.689205 278.587882 \nL 582.780114 278.741564 \n\" style=\"fill:none;stroke:#1f77b4;stroke-linecap:square;stroke-width:1.5;\"/>\n   </g>\n   <g id=\"line2d_18\">\n    <path clip-path=\"url(#p9025bc2764)\" d=\"M 75.507386 138.300312 \nL 79.598295 143.688505 \nL 83.689205 100.250013 \nL 87.780114 202.552364 \nL 91.871023 86.702453 \nL 95.961932 224.656043 \nL 100.052841 165.448625 \nL 104.14375 225.0585 \nL 108.234659 223.052847 \nL 112.325568 236.185277 \nL 116.416477 247.304184 \nL 120.507386 255.350485 \nL 124.598295 258.63021 \nL 128.689205 258.630283 \nL 132.780114 262.132757 \nL 136.871023 254.076741 \nL 140.961932 258.903678 \nL 145.052841 252.326687 \nL 149.14375 242.353772 \nL 153.234659 166.421878 \nL 157.325568 262.494026 \nL 161.416477 242.875773 \nL 165.507386 256.003715 \nL 169.598295 242.488295 \nL 173.689205 262.558546 \nL 177.780114 254.859261 \nL 181.871023 269.655906 \nL 185.961932 264.876307 \nL 190.052841 269.353381 \nL 194.14375 261.474665 \nL 198.234659 266.547617 \nL 202.325568 273.278755 \nL 206.416477 235.019006 \nL 210.507386 271.578978 \nL 214.598295 226.48214 \nL 218.689205 266.935549 \nL 222.780114 252.004526 \nL 226.871023 229.009875 \nL 230.961932 273.845788 \nL 235.052841 275.046131 \nL 239.14375 273.717638 \nL 243.234659 272.467157 \nL 247.325568 273.782345 \nL 251.416477 273.569933 \nL 255.507386 271.845729 \nL 259.598295 268.688942 \nL 263.689205 274.502602 \nL 267.780114 272.970589 \nL 271.871023 271.237029 \nL 275.961932 272.909444 \nL 280.052841 273.349472 \nL 284.14375 272.725661 \nL 288.234659 271.011172 \nL 292.325568 275.011854 \nL 296.416477 275.264407 \nL 300.507386 273.018315 \nL 304.598295 274.732866 \nL 308.689205 269.168474 \nL 312.780114 274.756465 \nL 316.871023 274.701166 \nL 320.961932 275.007275 \nL 325.052841 274.277266 \nL 329.14375 273.311546 \nL 333.234659 277.45774 \nL 337.325568 276.17754 \nL 341.416477 274.152633 \nL 345.507386 268.446961 \nL 349.598295 273.690748 \nL 353.689205 270.633219 \nL 357.780114 271.873197 \nL 361.871023 273.571456 \nL 365.961932 274.355575 \nL 370.052841 273.429077 \nL 374.14375 273.694247 \nL 378.234659 276.096815 \nL 382.325568 275.392363 \nL 386.416477 274.784878 \nL 390.507386 277.365056 \nL 394.598295 277.759881 \nL 398.689205 265.768048 \nL 402.780114 246.08324 \nL 406.871023 265.891063 \nL 410.961932 269.475758 \nL 415.052841 264.985529 \nL 419.14375 259.225216 \nL 423.234659 268.935359 \nL 427.325568 276.287549 \nL 431.416477 268.826298 \nL 435.507386 272.094701 \nL 439.598295 272.923288 \nL 443.689205 277.677612 \nL 447.780114 277.712954 \nL 451.871023 274.849581 \nL 455.961932 276.431681 \nL 460.052841 276.32299 \nL 464.14375 272.354249 \nL 468.234659 274.656654 \nL 472.325568 276.937225 \nL 476.416477 276.563495 \nL 480.507386 275.424202 \nL 484.598295 276.853798 \nL 488.689205 273.212815 \nL 492.780114 276.453589 \nL 496.871023 275.817424 \nL 500.961932 272.46059 \nL 505.052841 277.565428 \nL 509.14375 276.307359 \nL 513.234659 276.87176 \nL 517.325568 275.769083 \nL 521.416477 270.047854 \nL 525.507386 273.80266 \nL 529.598295 271.73434 \nL 533.689205 274.116416 \nL 537.780114 275.315789 \nL 541.871023 275.39423 \nL 545.961932 272.886108 \nL 550.052841 274.41661 \nL 554.14375 274.987358 \nL 558.234659 271.885076 \nL 562.325568 267.451152 \nL 566.416477 264.71321 \nL 570.507386 267.904812 \nL 574.598295 265.218695 \nL 578.689205 273.376355 \nL 582.780114 273.470946 \n\" style=\"fill:none;stroke:#ff7f0e;stroke-linecap:square;stroke-width:1.5;\"/>\n   </g>\n   <g id=\"patch_3\">\n    <path d=\"M 50.14375 294.118125 \nL 50.14375 22.318125 \n\" style=\"fill:none;stroke:#000000;stroke-linecap:square;stroke-linejoin:miter;stroke-width:0.8;\"/>\n   </g>\n   <g id=\"patch_4\">\n    <path d=\"M 608.14375 294.118125 \nL 608.14375 22.318125 \n\" style=\"fill:none;stroke:#000000;stroke-linecap:square;stroke-linejoin:miter;stroke-width:0.8;\"/>\n   </g>\n   <g id=\"patch_5\">\n    <path d=\"M 50.14375 294.118125 \nL 608.14375 294.118125 \n\" style=\"fill:none;stroke:#000000;stroke-linecap:square;stroke-linejoin:miter;stroke-width:0.8;\"/>\n   </g>\n   <g id=\"patch_6\">\n    <path d=\"M 50.14375 22.318125 \nL 608.14375 22.318125 \n\" style=\"fill:none;stroke:#000000;stroke-linecap:square;stroke-linejoin:miter;stroke-width:0.8;\"/>\n   </g>\n   <g id=\"text_19\">\n    <!-- Loss vs. epochs, batch=128 -->\n    <defs>\n     <path id=\"DejaVuSans-32\"/>\n     <path d=\"M 2.984375 54.6875 \nL 12.5 54.6875 \nL 29.59375 8.796875 \nL 46.6875 54.6875 \nL 56.203125 54.6875 \nL 35.6875 0 \nL 23.484375 0 \nz\n\" id=\"DejaVuSans-118\"/>\n     <path d=\"M 56.203125 29.59375 \nL 56.203125 25.203125 \nL 14.890625 25.203125 \nQ 15.484375 15.921875 20.484375 11.0625 \nQ 25.484375 6.203125 34.421875 6.203125 \nQ 39.59375 6.203125 44.453125 7.46875 \nQ 49.3125 8.734375 54.109375 11.28125 \nL 54.109375 2.78125 \nQ 49.265625 0.734375 44.1875 -0.34375 \nQ 39.109375 -1.421875 33.890625 -1.421875 \nQ 20.796875 -1.421875 13.15625 6.1875 \nQ 5.515625 13.8125 5.515625 26.8125 \nQ 5.515625 40.234375 12.765625 48.109375 \nQ 20.015625 56 32.328125 56 \nQ 43.359375 56 49.78125 48.890625 \nQ 56.203125 41.796875 56.203125 29.59375 \nz\nM 47.21875 32.234375 \nQ 47.125 39.59375 43.09375 43.984375 \nQ 39.0625 48.390625 32.421875 48.390625 \nQ 24.90625 48.390625 20.390625 44.140625 \nQ 15.875 39.890625 15.1875 32.171875 \nz\n\" id=\"DejaVuSans-101\"/>\n     <path d=\"M 11.71875 12.40625 \nL 22.015625 12.40625 \nL 22.015625 4 \nL 14.015625 -11.625 \nL 7.71875 -11.625 \nL 11.71875 4 \nz\n\" id=\"DejaVuSans-44\"/>\n     <path d=\"M 48.6875 27.296875 \nQ 48.6875 37.203125 44.609375 42.84375 \nQ 40.53125 48.484375 33.40625 48.484375 \nQ 26.265625 48.484375 22.1875 42.84375 \nQ 18.109375 37.203125 18.109375 27.296875 \nQ 18.109375 17.390625 22.1875 11.75 \nQ 26.265625 6.109375 33.40625 6.109375 \nQ 40.53125 6.109375 44.609375 11.75 \nQ 48.6875 17.390625 48.6875 27.296875 \nz\nM 18.109375 46.390625 \nQ 20.953125 51.265625 25.265625 53.625 \nQ 29.59375 56 35.59375 56 \nQ 45.5625 56 51.78125 48.09375 \nQ 58.015625 40.1875 58.015625 27.296875 \nQ 58.015625 14.40625 51.78125 6.484375 \nQ 45.5625 -1.421875 35.59375 -1.421875 \nQ 29.59375 -1.421875 25.265625 0.953125 \nQ 20.953125 3.328125 18.109375 8.203125 \nL 18.109375 0 \nL 9.078125 0 \nL 9.078125 75.984375 \nL 18.109375 75.984375 \nz\n\" id=\"DejaVuSans-98\"/>\n     <path d=\"M 34.28125 27.484375 \nQ 23.390625 27.484375 19.1875 25 \nQ 14.984375 22.515625 14.984375 16.5 \nQ 14.984375 11.71875 18.140625 8.90625 \nQ 21.296875 6.109375 26.703125 6.109375 \nQ 34.1875 6.109375 38.703125 11.40625 \nQ 43.21875 16.703125 43.21875 25.484375 \nL 43.21875 27.484375 \nz\nM 52.203125 31.203125 \nL 52.203125 0 \nL 43.21875 0 \nL 43.21875 8.296875 \nQ 40.140625 3.328125 35.546875 0.953125 \nQ 30.953125 -1.421875 24.3125 -1.421875 \nQ 15.921875 -1.421875 10.953125 3.296875 \nQ 6 8.015625 6 15.921875 \nQ 6 25.140625 12.171875 29.828125 \nQ 18.359375 34.515625 30.609375 34.515625 \nL 43.21875 34.515625 \nL 43.21875 35.40625 \nQ 43.21875 41.609375 39.140625 45 \nQ 35.0625 48.390625 27.6875 48.390625 \nQ 23 48.390625 18.546875 47.265625 \nQ 14.109375 46.140625 10.015625 43.890625 \nL 10.015625 52.203125 \nQ 14.9375 54.109375 19.578125 55.046875 \nQ 24.21875 56 28.609375 56 \nQ 40.484375 56 46.34375 49.84375 \nQ 52.203125 43.703125 52.203125 31.203125 \nz\n\" id=\"DejaVuSans-97\"/>\n     <path d=\"M 18.3125 70.21875 \nL 18.3125 54.6875 \nL 36.8125 54.6875 \nL 36.8125 47.703125 \nL 18.3125 47.703125 \nL 18.3125 18.015625 \nQ 18.3125 11.328125 20.140625 9.421875 \nQ 21.96875 7.515625 27.59375 7.515625 \nL 36.8125 7.515625 \nL 36.8125 0 \nL 27.59375 0 \nQ 17.1875 0 13.234375 3.875 \nQ 9.28125 7.765625 9.28125 18.015625 \nL 9.28125 47.703125 \nL 2.6875 47.703125 \nL 2.6875 54.6875 \nL 9.28125 54.6875 \nL 9.28125 70.21875 \nz\n\" id=\"DejaVuSans-116\"/>\n     <path d=\"M 10.59375 45.40625 \nL 73.1875 45.40625 \nL 73.1875 37.203125 \nL 10.59375 37.203125 \nz\nM 10.59375 25.484375 \nL 73.1875 25.484375 \nL 73.1875 17.1875 \nL 10.59375 17.1875 \nz\n\" id=\"DejaVuSans-61\"/>\n    </defs>\n    <g transform=\"translate(244.9525 16.318125)scale(0.12 -0.12)\">\n     <use xlink:href=\"#DejaVuSans-76\"/>\n     <use x=\"53.962891\" xlink:href=\"#DejaVuSans-111\"/>\n     <use x=\"115.144531\" xlink:href=\"#DejaVuSans-115\"/>\n     <use x=\"167.244141\" xlink:href=\"#DejaVuSans-115\"/>\n     <use x=\"219.34375\" xlink:href=\"#DejaVuSans-32\"/>\n     <use x=\"251.130859\" xlink:href=\"#DejaVuSans-118\"/>\n     <use x=\"310.310547\" xlink:href=\"#DejaVuSans-115\"/>\n     <use x=\"362.410156\" xlink:href=\"#DejaVuSans-46\"/>\n     <use x=\"394.197266\" xlink:href=\"#DejaVuSans-32\"/>\n     <use x=\"425.984375\" xlink:href=\"#DejaVuSans-101\"/>\n     <use x=\"487.507812\" xlink:href=\"#DejaVuSans-112\"/>\n     <use x=\"550.984375\" xlink:href=\"#DejaVuSans-111\"/>\n     <use x=\"612.166016\" xlink:href=\"#DejaVuSans-99\"/>\n     <use x=\"667.146484\" xlink:href=\"#DejaVuSans-104\"/>\n     <use x=\"730.525391\" xlink:href=\"#DejaVuSans-115\"/>\n     <use x=\"782.625\" xlink:href=\"#DejaVuSans-44\"/>\n     <use x=\"814.412109\" xlink:href=\"#DejaVuSans-32\"/>\n     <use x=\"846.199219\" xlink:href=\"#DejaVuSans-98\"/>\n     <use x=\"909.675781\" xlink:href=\"#DejaVuSans-97\"/>\n     <use x=\"970.955078\" xlink:href=\"#DejaVuSans-116\"/>\n     <use x=\"1010.164062\" xlink:href=\"#DejaVuSans-99\"/>\n     <use x=\"1065.144531\" xlink:href=\"#DejaVuSans-104\"/>\n     <use x=\"1128.523438\" xlink:href=\"#DejaVuSans-61\"/>\n     <use x=\"1212.3125\" xlink:href=\"#DejaVuSans-49\"/>\n     <use x=\"1275.935547\" xlink:href=\"#DejaVuSans-50\"/>\n     <use x=\"1339.558594\" xlink:href=\"#DejaVuSans-56\"/>\n    </g>\n   </g>\n   <g id=\"legend_1\">\n    <g id=\"patch_7\">\n     <path d=\"M 519.7625 59.674375 \nL 601.14375 59.674375 \nQ 603.14375 59.674375 603.14375 57.674375 \nL 603.14375 29.318125 \nQ 603.14375 27.318125 601.14375 27.318125 \nL 519.7625 27.318125 \nQ 517.7625 27.318125 517.7625 29.318125 \nL 517.7625 57.674375 \nQ 517.7625 59.674375 519.7625 59.674375 \nz\n\" style=\"fill:#ffffff;opacity:0.8;stroke:#cccccc;stroke-linejoin:miter;\"/>\n    </g>\n    <g id=\"line2d_19\">\n     <path d=\"M 521.7625 35.416562 \nL 541.7625 35.416562 \n\" style=\"fill:none;stroke:#1f77b4;stroke-linecap:square;stroke-width:1.5;\"/>\n    </g>\n    <g id=\"line2d_20\"/>\n    <g id=\"text_20\">\n     <!-- Training -->\n     <defs>\n      <path d=\"M -0.296875 72.90625 \nL 61.375 72.90625 \nL 61.375 64.59375 \nL 35.5 64.59375 \nL 35.5 0 \nL 25.59375 0 \nL 25.59375 64.59375 \nL -0.296875 64.59375 \nz\n\" id=\"DejaVuSans-84\"/>\n      <path d=\"M 41.109375 46.296875 \nQ 39.59375 47.171875 37.8125 47.578125 \nQ 36.03125 48 33.890625 48 \nQ 26.265625 48 22.1875 43.046875 \nQ 18.109375 38.09375 18.109375 28.8125 \nL 18.109375 0 \nL 9.078125 0 \nL 9.078125 54.6875 \nL 18.109375 54.6875 \nL 18.109375 46.1875 \nQ 20.953125 51.171875 25.484375 53.578125 \nQ 30.03125 56 36.53125 56 \nQ 37.453125 56 38.578125 55.875 \nQ 39.703125 55.765625 41.0625 55.515625 \nz\n\" id=\"DejaVuSans-114\"/>\n      <path d=\"M 9.421875 54.6875 \nL 18.40625 54.6875 \nL 18.40625 0 \nL 9.421875 0 \nz\nM 9.421875 75.984375 \nL 18.40625 75.984375 \nL 18.40625 64.59375 \nL 9.421875 64.59375 \nz\n\" id=\"DejaVuSans-105\"/>\n      <path d=\"M 54.890625 33.015625 \nL 54.890625 0 \nL 45.90625 0 \nL 45.90625 32.71875 \nQ 45.90625 40.484375 42.875 44.328125 \nQ 39.84375 48.1875 33.796875 48.1875 \nQ 26.515625 48.1875 22.3125 43.546875 \nQ 18.109375 38.921875 18.109375 30.90625 \nL 18.109375 0 \nL 9.078125 0 \nL 9.078125 54.6875 \nL 18.109375 54.6875 \nL 18.109375 46.1875 \nQ 21.34375 51.125 25.703125 53.5625 \nQ 30.078125 56 35.796875 56 \nQ 45.21875 56 50.046875 50.171875 \nQ 54.890625 44.34375 54.890625 33.015625 \nz\n\" id=\"DejaVuSans-110\"/>\n      <path d=\"M 45.40625 27.984375 \nQ 45.40625 37.75 41.375 43.109375 \nQ 37.359375 48.484375 30.078125 48.484375 \nQ 22.859375 48.484375 18.828125 43.109375 \nQ 14.796875 37.75 14.796875 27.984375 \nQ 14.796875 18.265625 18.828125 12.890625 \nQ 22.859375 7.515625 30.078125 7.515625 \nQ 37.359375 7.515625 41.375 12.890625 \nQ 45.40625 18.265625 45.40625 27.984375 \nz\nM 54.390625 6.78125 \nQ 54.390625 -7.171875 48.1875 -13.984375 \nQ 42 -20.796875 29.203125 -20.796875 \nQ 24.46875 -20.796875 20.265625 -20.09375 \nQ 16.0625 -19.390625 12.109375 -17.921875 \nL 12.109375 -9.1875 \nQ 16.0625 -11.328125 19.921875 -12.34375 \nQ 23.78125 -13.375 27.78125 -13.375 \nQ 36.625 -13.375 41.015625 -8.765625 \nQ 45.40625 -4.15625 45.40625 5.171875 \nL 45.40625 9.625 \nQ 42.625 4.78125 38.28125 2.390625 \nQ 33.9375 0 27.875 0 \nQ 17.828125 0 11.671875 7.65625 \nQ 5.515625 15.328125 5.515625 27.984375 \nQ 5.515625 40.671875 11.671875 48.328125 \nQ 17.828125 56 27.875 56 \nQ 33.9375 56 38.28125 53.609375 \nQ 42.625 51.21875 45.40625 46.390625 \nL 45.40625 54.6875 \nL 54.390625 54.6875 \nz\n\" id=\"DejaVuSans-103\"/>\n     </defs>\n     <g transform=\"translate(549.7625 38.916562)scale(0.1 -0.1)\">\n      <use xlink:href=\"#DejaVuSans-84\"/>\n      <use x=\"46.333984\" xlink:href=\"#DejaVuSans-114\"/>\n      <use x=\"87.447266\" xlink:href=\"#DejaVuSans-97\"/>\n      <use x=\"148.726562\" xlink:href=\"#DejaVuSans-105\"/>\n      <use x=\"176.509766\" xlink:href=\"#DejaVuSans-110\"/>\n      <use x=\"239.888672\" xlink:href=\"#DejaVuSans-105\"/>\n      <use x=\"267.671875\" xlink:href=\"#DejaVuSans-110\"/>\n      <use x=\"331.050781\" xlink:href=\"#DejaVuSans-103\"/>\n     </g>\n    </g>\n    <g id=\"line2d_21\">\n     <path d=\"M 521.7625 50.094688 \nL 541.7625 50.094688 \n\" style=\"fill:none;stroke:#ff7f0e;stroke-linecap:square;stroke-width:1.5;\"/>\n    </g>\n    <g id=\"line2d_22\"/>\n    <g id=\"text_21\">\n     <!-- Validation -->\n     <defs>\n      <path d=\"M 28.609375 0 \nL 0.78125 72.90625 \nL 11.078125 72.90625 \nL 34.1875 11.53125 \nL 57.328125 72.90625 \nL 67.578125 72.90625 \nL 39.796875 0 \nz\n\" id=\"DejaVuSans-86\"/>\n      <path d=\"M 9.421875 75.984375 \nL 18.40625 75.984375 \nL 18.40625 0 \nL 9.421875 0 \nz\n\" id=\"DejaVuSans-108\"/>\n      <path d=\"M 45.40625 46.390625 \nL 45.40625 75.984375 \nL 54.390625 75.984375 \nL 54.390625 0 \nL 45.40625 0 \nL 45.40625 8.203125 \nQ 42.578125 3.328125 38.25 0.953125 \nQ 33.9375 -1.421875 27.875 -1.421875 \nQ 17.96875 -1.421875 11.734375 6.484375 \nQ 5.515625 14.40625 5.515625 27.296875 \nQ 5.515625 40.1875 11.734375 48.09375 \nQ 17.96875 56 27.875 56 \nQ 33.9375 56 38.25 53.625 \nQ 42.578125 51.265625 45.40625 46.390625 \nz\nM 14.796875 27.296875 \nQ 14.796875 17.390625 18.875 11.75 \nQ 22.953125 6.109375 30.078125 6.109375 \nQ 37.203125 6.109375 41.296875 11.75 \nQ 45.40625 17.390625 45.40625 27.296875 \nQ 45.40625 37.203125 41.296875 42.84375 \nQ 37.203125 48.484375 30.078125 48.484375 \nQ 22.953125 48.484375 18.875 42.84375 \nQ 14.796875 37.203125 14.796875 27.296875 \nz\n\" id=\"DejaVuSans-100\"/>\n     </defs>\n     <g transform=\"translate(549.7625 53.594688)scale(0.1 -0.1)\">\n      <use xlink:href=\"#DejaVuSans-86\"/>\n      <use x=\"60.658203\" xlink:href=\"#DejaVuSans-97\"/>\n      <use x=\"121.9375\" xlink:href=\"#DejaVuSans-108\"/>\n      <use x=\"149.720703\" xlink:href=\"#DejaVuSans-105\"/>\n      <use x=\"177.503906\" xlink:href=\"#DejaVuSans-100\"/>\n      <use x=\"240.980469\" xlink:href=\"#DejaVuSans-97\"/>\n      <use x=\"302.259766\" xlink:href=\"#DejaVuSans-116\"/>\n      <use x=\"341.46875\" xlink:href=\"#DejaVuSans-105\"/>\n      <use x=\"369.251953\" xlink:href=\"#DejaVuSans-111\"/>\n      <use x=\"430.433594\" xlink:href=\"#DejaVuSans-110\"/>\n     </g>\n    </g>\n   </g>\n  </g>\n </g>\n <defs>\n  <clipPath id=\"p9025bc2764\">\n   <rect height=\"271.8\" width=\"558\" x=\"50.14375\" y=\"22.318125\"/>\n  </clipPath>\n </defs>\n</svg>\n"
          },
          "metadata": {
            "needs_background": "light"
          }
        }
      ],
      "source": [
        "plt.figure(figsize=(10,5))\n",
        "plt.plot(history.history['loss'])\n",
        "plt.plot(history.history['val_loss'])\n",
        "plt.title('Loss vs. epochs, batch=' +str(batch_size))\n",
        "plt.ylabel('Loss')\n",
        "plt.xlabel('Epoch')\n",
        "plt.legend(['Training', 'Validation'], loc='upper right')\n",
        "plt.show()"
      ]
    },
    {
      "cell_type": "markdown",
      "id": "c0c037e6-a554-454d-8d87-e009aefd826c",
      "metadata": {
        "id": "c0c037e6-a554-454d-8d87-e009aefd826c"
      },
      "source": [
        "##### Size =  Data"
      ]
    },
    {
      "cell_type": "markdown",
      "id": "f067cc9d-4c8e-434d-970e-5395914df5f1",
      "metadata": {
        "id": "f067cc9d-4c8e-434d-970e-5395914df5f1"
      },
      "source": [
        "10. **Retrain for length of data batch size**"
      ]
    },
    {
      "cell_type": "code",
      "execution_count": 144,
      "id": "c6bcbb54-5017-4030-97a8-8a70bf2204ce",
      "metadata": {
        "id": "c6bcbb54-5017-4030-97a8-8a70bf2204ce",
        "colab": {
          "base_uri": "https://localhost:8080/"
        },
        "outputId": "fac90b2c-eaff-4372-884c-daf118174eb7"
      },
      "outputs": [
        {
          "output_type": "stream",
          "name": "stdout",
          "text": [
            "Epoch 1/125\n",
            "1/1 [==============================] - 0s 462ms/step - loss: 3.0858 - accuracy: 0.2894 - val_loss: 2.0847 - val_accuracy: 0.4400\n",
            "Epoch 2/125\n",
            "1/1 [==============================] - 0s 27ms/step - loss: 2.2440 - accuracy: 0.3671 - val_loss: 1.8659 - val_accuracy: 0.3333\n",
            "Epoch 3/125\n",
            "1/1 [==============================] - 0s 26ms/step - loss: 1.9112 - accuracy: 0.3435 - val_loss: 1.7202 - val_accuracy: 0.3200\n",
            "Epoch 4/125\n",
            "1/1 [==============================] - 0s 32ms/step - loss: 1.8142 - accuracy: 0.3200 - val_loss: 1.6108 - val_accuracy: 0.4400\n",
            "Epoch 5/125\n",
            "1/1 [==============================] - 0s 26ms/step - loss: 1.9246 - accuracy: 0.3529 - val_loss: 1.3833 - val_accuracy: 0.4400\n",
            "Epoch 6/125\n",
            "1/1 [==============================] - 0s 26ms/step - loss: 1.6909 - accuracy: 0.3529 - val_loss: 0.9524 - val_accuracy: 0.5200\n",
            "Epoch 7/125\n",
            "1/1 [==============================] - 0s 30ms/step - loss: 1.1048 - accuracy: 0.4635 - val_loss: 1.7279 - val_accuracy: 0.3867\n",
            "Epoch 8/125\n",
            "1/1 [==============================] - 0s 25ms/step - loss: 1.6629 - accuracy: 0.4071 - val_loss: 1.3453 - val_accuracy: 0.5333\n",
            "Epoch 9/125\n",
            "1/1 [==============================] - 0s 26ms/step - loss: 1.5063 - accuracy: 0.4918 - val_loss: 1.4543 - val_accuracy: 0.5600\n",
            "Epoch 10/125\n",
            "1/1 [==============================] - 0s 45ms/step - loss: 1.6629 - accuracy: 0.5153 - val_loss: 1.0425 - val_accuracy: 0.5867\n",
            "Epoch 11/125\n",
            "1/1 [==============================] - 0s 25ms/step - loss: 1.2544 - accuracy: 0.5482 - val_loss: 1.4424 - val_accuracy: 0.4667\n",
            "Epoch 12/125\n",
            "1/1 [==============================] - 0s 44ms/step - loss: 1.4837 - accuracy: 0.5012 - val_loss: 0.7500 - val_accuracy: 0.6667\n",
            "Epoch 13/125\n",
            "1/1 [==============================] - 0s 24ms/step - loss: 1.0165 - accuracy: 0.6188 - val_loss: 0.9274 - val_accuracy: 0.6667\n",
            "Epoch 14/125\n",
            "1/1 [==============================] - 0s 26ms/step - loss: 1.1944 - accuracy: 0.5976 - val_loss: 0.7876 - val_accuracy: 0.7067\n",
            "Epoch 15/125\n",
            "1/1 [==============================] - 0s 27ms/step - loss: 1.0551 - accuracy: 0.6424 - val_loss: 1.0096 - val_accuracy: 0.5733\n",
            "Epoch 16/125\n",
            "1/1 [==============================] - 0s 26ms/step - loss: 1.1914 - accuracy: 0.5788 - val_loss: 0.7546 - val_accuracy: 0.6667\n",
            "Epoch 17/125\n",
            "1/1 [==============================] - 0s 27ms/step - loss: 0.9766 - accuracy: 0.6424 - val_loss: 0.8257 - val_accuracy: 0.6933\n",
            "Epoch 18/125\n",
            "1/1 [==============================] - 0s 27ms/step - loss: 0.9987 - accuracy: 0.6282 - val_loss: 0.7678 - val_accuracy: 0.6800\n",
            "Epoch 19/125\n",
            "1/1 [==============================] - 0s 26ms/step - loss: 0.8903 - accuracy: 0.6471 - val_loss: 0.8787 - val_accuracy: 0.6267\n",
            "Epoch 20/125\n",
            "1/1 [==============================] - 0s 31ms/step - loss: 0.9020 - accuracy: 0.6518 - val_loss: 0.8343 - val_accuracy: 0.6800\n",
            "Epoch 21/125\n",
            "1/1 [==============================] - 0s 27ms/step - loss: 0.8436 - accuracy: 0.6635 - val_loss: 0.8194 - val_accuracy: 0.6533\n",
            "Epoch 22/125\n",
            "1/1 [==============================] - 0s 27ms/step - loss: 0.8460 - accuracy: 0.6329 - val_loss: 0.7311 - val_accuracy: 0.6667\n",
            "Epoch 23/125\n",
            "1/1 [==============================] - 0s 27ms/step - loss: 0.7796 - accuracy: 0.6329 - val_loss: 0.7622 - val_accuracy: 0.7067\n",
            "Epoch 24/125\n",
            "1/1 [==============================] - 0s 26ms/step - loss: 0.8080 - accuracy: 0.6918 - val_loss: 0.6783 - val_accuracy: 0.7200\n",
            "Epoch 25/125\n",
            "1/1 [==============================] - 0s 25ms/step - loss: 0.7610 - accuracy: 0.6424 - val_loss: 0.6984 - val_accuracy: 0.6933\n",
            "Epoch 26/125\n",
            "1/1 [==============================] - 0s 27ms/step - loss: 0.7804 - accuracy: 0.6306 - val_loss: 0.6959 - val_accuracy: 0.7333\n",
            "Epoch 27/125\n",
            "1/1 [==============================] - 0s 25ms/step - loss: 0.7597 - accuracy: 0.7176 - val_loss: 0.6679 - val_accuracy: 0.7867\n",
            "Epoch 28/125\n",
            "1/1 [==============================] - 0s 27ms/step - loss: 0.7238 - accuracy: 0.7035 - val_loss: 0.6806 - val_accuracy: 0.6933\n",
            "Epoch 29/125\n",
            "1/1 [==============================] - 0s 26ms/step - loss: 0.7198 - accuracy: 0.6471 - val_loss: 0.6765 - val_accuracy: 0.6933\n",
            "Epoch 30/125\n",
            "1/1 [==============================] - 0s 25ms/step - loss: 0.7003 - accuracy: 0.6776 - val_loss: 0.7190 - val_accuracy: 0.6533\n",
            "Epoch 31/125\n",
            "1/1 [==============================] - 0s 26ms/step - loss: 0.7267 - accuracy: 0.6965 - val_loss: 0.6733 - val_accuracy: 0.6933\n",
            "Epoch 32/125\n",
            "1/1 [==============================] - 0s 31ms/step - loss: 0.6951 - accuracy: 0.6941 - val_loss: 0.6490 - val_accuracy: 0.7067\n",
            "Epoch 33/125\n",
            "1/1 [==============================] - 0s 26ms/step - loss: 0.6863 - accuracy: 0.6706 - val_loss: 0.6056 - val_accuracy: 0.7200\n",
            "Epoch 34/125\n",
            "1/1 [==============================] - 0s 26ms/step - loss: 0.6634 - accuracy: 0.6776 - val_loss: 0.5975 - val_accuracy: 0.7200\n",
            "Epoch 35/125\n",
            "1/1 [==============================] - 0s 27ms/step - loss: 0.6681 - accuracy: 0.6988 - val_loss: 0.5651 - val_accuracy: 0.7600\n",
            "Epoch 36/125\n",
            "1/1 [==============================] - 0s 28ms/step - loss: 0.6440 - accuracy: 0.6824 - val_loss: 0.5618 - val_accuracy: 0.7200\n",
            "Epoch 37/125\n",
            "1/1 [==============================] - 0s 26ms/step - loss: 0.6387 - accuracy: 0.6729 - val_loss: 0.5458 - val_accuracy: 0.7733\n",
            "Epoch 38/125\n",
            "1/1 [==============================] - 0s 25ms/step - loss: 0.6212 - accuracy: 0.7035 - val_loss: 0.5635 - val_accuracy: 0.7600\n",
            "Epoch 39/125\n",
            "1/1 [==============================] - 0s 26ms/step - loss: 0.6301 - accuracy: 0.7365 - val_loss: 0.5622 - val_accuracy: 0.7467\n",
            "Epoch 40/125\n",
            "1/1 [==============================] - 0s 28ms/step - loss: 0.6270 - accuracy: 0.6871 - val_loss: 0.5626 - val_accuracy: 0.7333\n",
            "Epoch 41/125\n",
            "1/1 [==============================] - 0s 25ms/step - loss: 0.6334 - accuracy: 0.6706 - val_loss: 0.5439 - val_accuracy: 0.7600\n",
            "Epoch 42/125\n",
            "1/1 [==============================] - 0s 26ms/step - loss: 0.6253 - accuracy: 0.6965 - val_loss: 0.5392 - val_accuracy: 0.7467\n",
            "Epoch 43/125\n",
            "1/1 [==============================] - 0s 26ms/step - loss: 0.6294 - accuracy: 0.7224 - val_loss: 0.5248 - val_accuracy: 0.7867\n",
            "Epoch 44/125\n",
            "1/1 [==============================] - 0s 25ms/step - loss: 0.6222 - accuracy: 0.7012 - val_loss: 0.5254 - val_accuracy: 0.7867\n",
            "Epoch 45/125\n",
            "1/1 [==============================] - 0s 27ms/step - loss: 0.6223 - accuracy: 0.6894 - val_loss: 0.5195 - val_accuracy: 0.7867\n",
            "Epoch 46/125\n",
            "1/1 [==============================] - 0s 26ms/step - loss: 0.6128 - accuracy: 0.7059 - val_loss: 0.5258 - val_accuracy: 0.8000\n",
            "Epoch 47/125\n",
            "1/1 [==============================] - 0s 30ms/step - loss: 0.6119 - accuracy: 0.7412 - val_loss: 0.5292 - val_accuracy: 0.8000\n",
            "Epoch 48/125\n",
            "1/1 [==============================] - 0s 27ms/step - loss: 0.6071 - accuracy: 0.7176 - val_loss: 0.5375 - val_accuracy: 0.7600\n",
            "Epoch 49/125\n",
            "1/1 [==============================] - 0s 48ms/step - loss: 0.6085 - accuracy: 0.6965 - val_loss: 0.5342 - val_accuracy: 0.7867\n",
            "Epoch 50/125\n",
            "1/1 [==============================] - 0s 29ms/step - loss: 0.6041 - accuracy: 0.7035 - val_loss: 0.5303 - val_accuracy: 0.8000\n",
            "Epoch 51/125\n",
            "1/1 [==============================] - 0s 26ms/step - loss: 0.6021 - accuracy: 0.7247 - val_loss: 0.5267 - val_accuracy: 0.8000\n",
            "Epoch 52/125\n",
            "1/1 [==============================] - 0s 26ms/step - loss: 0.5994 - accuracy: 0.7153 - val_loss: 0.5278 - val_accuracy: 0.7867\n",
            "Epoch 53/125\n",
            "1/1 [==============================] - 0s 27ms/step - loss: 0.5984 - accuracy: 0.7035 - val_loss: 0.5277 - val_accuracy: 0.7867\n",
            "Epoch 54/125\n",
            "1/1 [==============================] - 0s 28ms/step - loss: 0.5958 - accuracy: 0.7106 - val_loss: 0.5280 - val_accuracy: 0.8133\n",
            "Epoch 55/125\n",
            "1/1 [==============================] - 0s 25ms/step - loss: 0.5928 - accuracy: 0.7365 - val_loss: 0.5302 - val_accuracy: 0.8000\n",
            "Epoch 56/125\n",
            "1/1 [==============================] - 0s 26ms/step - loss: 0.5900 - accuracy: 0.7412 - val_loss: 0.5324 - val_accuracy: 0.8000\n",
            "Epoch 57/125\n",
            "1/1 [==============================] - 0s 27ms/step - loss: 0.5878 - accuracy: 0.7318 - val_loss: 0.5316 - val_accuracy: 0.8133\n",
            "Epoch 58/125\n",
            "1/1 [==============================] - 0s 26ms/step - loss: 0.5855 - accuracy: 0.7388 - val_loss: 0.5272 - val_accuracy: 0.8000\n",
            "Epoch 59/125\n",
            "1/1 [==============================] - 0s 26ms/step - loss: 0.5825 - accuracy: 0.7576 - val_loss: 0.5225 - val_accuracy: 0.8000\n",
            "Epoch 60/125\n",
            "1/1 [==============================] - 0s 26ms/step - loss: 0.5803 - accuracy: 0.7529 - val_loss: 0.5187 - val_accuracy: 0.8133\n",
            "Epoch 61/125\n",
            "1/1 [==============================] - 0s 27ms/step - loss: 0.5786 - accuracy: 0.7388 - val_loss: 0.5165 - val_accuracy: 0.8133\n",
            "Epoch 62/125\n",
            "1/1 [==============================] - 0s 28ms/step - loss: 0.5777 - accuracy: 0.7341 - val_loss: 0.5146 - val_accuracy: 0.8000\n",
            "Epoch 63/125\n",
            "1/1 [==============================] - 0s 44ms/step - loss: 0.5764 - accuracy: 0.7459 - val_loss: 0.5150 - val_accuracy: 0.8000\n",
            "Epoch 64/125\n",
            "1/1 [==============================] - 0s 26ms/step - loss: 0.5754 - accuracy: 0.7529 - val_loss: 0.5162 - val_accuracy: 0.8133\n",
            "Epoch 65/125\n",
            "1/1 [==============================] - 0s 27ms/step - loss: 0.5737 - accuracy: 0.7435 - val_loss: 0.5179 - val_accuracy: 0.8133\n",
            "Epoch 66/125\n",
            "1/1 [==============================] - 0s 31ms/step - loss: 0.5726 - accuracy: 0.7412 - val_loss: 0.5178 - val_accuracy: 0.8000\n",
            "Epoch 67/125\n",
            "1/1 [==============================] - 0s 27ms/step - loss: 0.5707 - accuracy: 0.7553 - val_loss: 0.5175 - val_accuracy: 0.8133\n",
            "Epoch 68/125\n",
            "1/1 [==============================] - 0s 27ms/step - loss: 0.5693 - accuracy: 0.7600 - val_loss: 0.5163 - val_accuracy: 0.8000\n",
            "Epoch 69/125\n",
            "1/1 [==============================] - 0s 25ms/step - loss: 0.5672 - accuracy: 0.7553 - val_loss: 0.5155 - val_accuracy: 0.8000\n",
            "Epoch 70/125\n",
            "1/1 [==============================] - 0s 25ms/step - loss: 0.5658 - accuracy: 0.7576 - val_loss: 0.5141 - val_accuracy: 0.8133\n",
            "Epoch 71/125\n",
            "1/1 [==============================] - 0s 24ms/step - loss: 0.5641 - accuracy: 0.7624 - val_loss: 0.5139 - val_accuracy: 0.8133\n",
            "Epoch 72/125\n",
            "1/1 [==============================] - 0s 26ms/step - loss: 0.5630 - accuracy: 0.7694 - val_loss: 0.5141 - val_accuracy: 0.8133\n",
            "Epoch 73/125\n",
            "1/1 [==============================] - 0s 25ms/step - loss: 0.5613 - accuracy: 0.7647 - val_loss: 0.5148 - val_accuracy: 0.8000\n",
            "Epoch 74/125\n",
            "1/1 [==============================] - 0s 28ms/step - loss: 0.5601 - accuracy: 0.7576 - val_loss: 0.5147 - val_accuracy: 0.8133\n",
            "Epoch 75/125\n",
            "1/1 [==============================] - 0s 25ms/step - loss: 0.5586 - accuracy: 0.7647 - val_loss: 0.5145 - val_accuracy: 0.8133\n",
            "Epoch 76/125\n",
            "1/1 [==============================] - 0s 29ms/step - loss: 0.5574 - accuracy: 0.7671 - val_loss: 0.5136 - val_accuracy: 0.8133\n",
            "Epoch 77/125\n",
            "1/1 [==============================] - 0s 26ms/step - loss: 0.5559 - accuracy: 0.7624 - val_loss: 0.5122 - val_accuracy: 0.8133\n",
            "Epoch 78/125\n",
            "1/1 [==============================] - 0s 26ms/step - loss: 0.5547 - accuracy: 0.7624 - val_loss: 0.5098 - val_accuracy: 0.8133\n",
            "Epoch 79/125\n",
            "1/1 [==============================] - 0s 27ms/step - loss: 0.5533 - accuracy: 0.7624 - val_loss: 0.5076 - val_accuracy: 0.8133\n",
            "Epoch 80/125\n",
            "1/1 [==============================] - 0s 27ms/step - loss: 0.5521 - accuracy: 0.7671 - val_loss: 0.5058 - val_accuracy: 0.8267\n",
            "Epoch 81/125\n",
            "1/1 [==============================] - 0s 33ms/step - loss: 0.5508 - accuracy: 0.7671 - val_loss: 0.5046 - val_accuracy: 0.8267\n",
            "Epoch 82/125\n",
            "1/1 [==============================] - 0s 28ms/step - loss: 0.5497 - accuracy: 0.7694 - val_loss: 0.5034 - val_accuracy: 0.8267\n",
            "Epoch 83/125\n",
            "1/1 [==============================] - 0s 27ms/step - loss: 0.5484 - accuracy: 0.7694 - val_loss: 0.5025 - val_accuracy: 0.8267\n",
            "Epoch 84/125\n",
            "1/1 [==============================] - 0s 31ms/step - loss: 0.5473 - accuracy: 0.7718 - val_loss: 0.5019 - val_accuracy: 0.8267\n",
            "Epoch 85/125\n",
            "1/1 [==============================] - 0s 31ms/step - loss: 0.5461 - accuracy: 0.7694 - val_loss: 0.5013 - val_accuracy: 0.8267\n",
            "Epoch 86/125\n",
            "1/1 [==============================] - 0s 29ms/step - loss: 0.5451 - accuracy: 0.7694 - val_loss: 0.5003 - val_accuracy: 0.8267\n",
            "Epoch 87/125\n",
            "1/1 [==============================] - 0s 26ms/step - loss: 0.5439 - accuracy: 0.7694 - val_loss: 0.4992 - val_accuracy: 0.8267\n",
            "Epoch 88/125\n",
            "1/1 [==============================] - 0s 27ms/step - loss: 0.5429 - accuracy: 0.7694 - val_loss: 0.4982 - val_accuracy: 0.8267\n",
            "Epoch 89/125\n",
            "1/1 [==============================] - 0s 27ms/step - loss: 0.5417 - accuracy: 0.7718 - val_loss: 0.4975 - val_accuracy: 0.8267\n",
            "Epoch 90/125\n",
            "1/1 [==============================] - 0s 29ms/step - loss: 0.5406 - accuracy: 0.7741 - val_loss: 0.4970 - val_accuracy: 0.8267\n",
            "Epoch 91/125\n",
            "1/1 [==============================] - 0s 29ms/step - loss: 0.5395 - accuracy: 0.7741 - val_loss: 0.4967 - val_accuracy: 0.8267\n",
            "Epoch 92/125\n",
            "1/1 [==============================] - 0s 32ms/step - loss: 0.5384 - accuracy: 0.7765 - val_loss: 0.4968 - val_accuracy: 0.8267\n",
            "Epoch 93/125\n",
            "1/1 [==============================] - 0s 26ms/step - loss: 0.5373 - accuracy: 0.7741 - val_loss: 0.4970 - val_accuracy: 0.8267\n",
            "Epoch 94/125\n",
            "1/1 [==============================] - 0s 29ms/step - loss: 0.5362 - accuracy: 0.7741 - val_loss: 0.4970 - val_accuracy: 0.8267\n",
            "Epoch 95/125\n",
            "1/1 [==============================] - 0s 29ms/step - loss: 0.5352 - accuracy: 0.7765 - val_loss: 0.4967 - val_accuracy: 0.8267\n",
            "Epoch 96/125\n",
            "1/1 [==============================] - 0s 29ms/step - loss: 0.5341 - accuracy: 0.7765 - val_loss: 0.4962 - val_accuracy: 0.8267\n",
            "Epoch 97/125\n",
            "1/1 [==============================] - 0s 29ms/step - loss: 0.5331 - accuracy: 0.7765 - val_loss: 0.4957 - val_accuracy: 0.8267\n",
            "Epoch 98/125\n",
            "1/1 [==============================] - 0s 32ms/step - loss: 0.5321 - accuracy: 0.7765 - val_loss: 0.4949 - val_accuracy: 0.8267\n",
            "Epoch 99/125\n",
            "1/1 [==============================] - 0s 30ms/step - loss: 0.5311 - accuracy: 0.7765 - val_loss: 0.4941 - val_accuracy: 0.8267\n",
            "Epoch 100/125\n",
            "1/1 [==============================] - 0s 36ms/step - loss: 0.5301 - accuracy: 0.7765 - val_loss: 0.4934 - val_accuracy: 0.8267\n",
            "Epoch 101/125\n",
            "1/1 [==============================] - 0s 31ms/step - loss: 0.5291 - accuracy: 0.7765 - val_loss: 0.4928 - val_accuracy: 0.8267\n",
            "Epoch 102/125\n",
            "1/1 [==============================] - 0s 33ms/step - loss: 0.5281 - accuracy: 0.7765 - val_loss: 0.4923 - val_accuracy: 0.8267\n",
            "Epoch 103/125\n",
            "1/1 [==============================] - 0s 27ms/step - loss: 0.5271 - accuracy: 0.7788 - val_loss: 0.4917 - val_accuracy: 0.8267\n",
            "Epoch 104/125\n",
            "1/1 [==============================] - 0s 26ms/step - loss: 0.5261 - accuracy: 0.7812 - val_loss: 0.4911 - val_accuracy: 0.8267\n",
            "Epoch 105/125\n",
            "1/1 [==============================] - 0s 28ms/step - loss: 0.5251 - accuracy: 0.7812 - val_loss: 0.4904 - val_accuracy: 0.8267\n",
            "Epoch 106/125\n",
            "1/1 [==============================] - 0s 27ms/step - loss: 0.5242 - accuracy: 0.7812 - val_loss: 0.4897 - val_accuracy: 0.8267\n",
            "Epoch 107/125\n",
            "1/1 [==============================] - 0s 31ms/step - loss: 0.5232 - accuracy: 0.7812 - val_loss: 0.4889 - val_accuracy: 0.8267\n",
            "Epoch 108/125\n",
            "1/1 [==============================] - 0s 45ms/step - loss: 0.5223 - accuracy: 0.7835 - val_loss: 0.4881 - val_accuracy: 0.8267\n",
            "Epoch 109/125\n",
            "1/1 [==============================] - 0s 39ms/step - loss: 0.5214 - accuracy: 0.7812 - val_loss: 0.4874 - val_accuracy: 0.8267\n",
            "Epoch 110/125\n",
            "1/1 [==============================] - 0s 30ms/step - loss: 0.5204 - accuracy: 0.7812 - val_loss: 0.4869 - val_accuracy: 0.8267\n",
            "Epoch 111/125\n",
            "1/1 [==============================] - 0s 33ms/step - loss: 0.5195 - accuracy: 0.7812 - val_loss: 0.4863 - val_accuracy: 0.8267\n",
            "Epoch 112/125\n",
            "1/1 [==============================] - 0s 33ms/step - loss: 0.5186 - accuracy: 0.7812 - val_loss: 0.4859 - val_accuracy: 0.8267\n",
            "Epoch 113/125\n",
            "1/1 [==============================] - 0s 30ms/step - loss: 0.5177 - accuracy: 0.7859 - val_loss: 0.4855 - val_accuracy: 0.8267\n",
            "Epoch 114/125\n",
            "1/1 [==============================] - 0s 29ms/step - loss: 0.5168 - accuracy: 0.7882 - val_loss: 0.4851 - val_accuracy: 0.8267\n",
            "Epoch 115/125\n",
            "1/1 [==============================] - 0s 29ms/step - loss: 0.5159 - accuracy: 0.7882 - val_loss: 0.4847 - val_accuracy: 0.8267\n",
            "Epoch 116/125\n",
            "1/1 [==============================] - 0s 35ms/step - loss: 0.5150 - accuracy: 0.7882 - val_loss: 0.4841 - val_accuracy: 0.8267\n",
            "Epoch 117/125\n",
            "1/1 [==============================] - 0s 30ms/step - loss: 0.5141 - accuracy: 0.7882 - val_loss: 0.4835 - val_accuracy: 0.8267\n",
            "Epoch 118/125\n",
            "1/1 [==============================] - 0s 34ms/step - loss: 0.5132 - accuracy: 0.7882 - val_loss: 0.4830 - val_accuracy: 0.8267\n",
            "Epoch 119/125\n",
            "1/1 [==============================] - 0s 36ms/step - loss: 0.5123 - accuracy: 0.7882 - val_loss: 0.4824 - val_accuracy: 0.8267\n",
            "Epoch 120/125\n",
            "1/1 [==============================] - 0s 29ms/step - loss: 0.5114 - accuracy: 0.7882 - val_loss: 0.4819 - val_accuracy: 0.8267\n",
            "Epoch 121/125\n",
            "1/1 [==============================] - 0s 28ms/step - loss: 0.5106 - accuracy: 0.7882 - val_loss: 0.4813 - val_accuracy: 0.8267\n",
            "Epoch 122/125\n",
            "1/1 [==============================] - 0s 33ms/step - loss: 0.5097 - accuracy: 0.7882 - val_loss: 0.4809 - val_accuracy: 0.8267\n",
            "Epoch 123/125\n",
            "1/1 [==============================] - 0s 28ms/step - loss: 0.5089 - accuracy: 0.7882 - val_loss: 0.4804 - val_accuracy: 0.8267\n",
            "Epoch 124/125\n",
            "1/1 [==============================] - 0s 32ms/step - loss: 0.5080 - accuracy: 0.7882 - val_loss: 0.4799 - val_accuracy: 0.8267\n",
            "Epoch 125/125\n",
            "1/1 [==============================] - 0s 30ms/step - loss: 0.5072 - accuracy: 0.7882 - val_loss: 0.4793 - val_accuracy: 0.8267\n",
            "16/16 - 0s - loss: 0.4854 - accuracy: 0.8140 - 45ms/epoch - 3ms/step\n"
          ]
        }
      ],
      "source": [
        "### START CODE HERE ### \n",
        "batch_size = len(X_train)\n",
        "\n",
        "history = fit_model(X_train, y_train, X_test, y_test, batch_size)\n",
        "###### END CODE HERE"
      ]
    },
    {
      "cell_type": "code",
      "execution_count": 145,
      "id": "eca79f36-f9b9-444d-950b-5c3d55dfc307",
      "metadata": {
        "tags": [],
        "id": "eca79f36-f9b9-444d-950b-5c3d55dfc307",
        "colab": {
          "base_uri": "https://localhost:8080/",
          "height": 464
        },
        "outputId": "a237e534-2afe-47a7-ea31-70f85c44f246"
      },
      "outputs": [
        {
          "output_type": "display_data",
          "data": {
            "text/plain": [
              "<Figure size 720x360 with 1 Axes>"
            ],
            "image/svg+xml": "<?xml version=\"1.0\" encoding=\"utf-8\" standalone=\"no\"?>\n<!DOCTYPE svg PUBLIC \"-//W3C//DTD SVG 1.1//EN\"\n  \"http://www.w3.org/Graphics/SVG/1.1/DTD/svg11.dtd\">\n<!-- Created with matplotlib (https://matplotlib.org/) -->\n<svg height=\"331.674375pt\" version=\"1.1\" viewBox=\"0 0 608.98125 331.674375\" width=\"608.98125pt\" xmlns=\"http://www.w3.org/2000/svg\" xmlns:xlink=\"http://www.w3.org/1999/xlink\">\n <defs>\n  <style type=\"text/css\">\n*{stroke-linecap:butt;stroke-linejoin:round;}\n  </style>\n </defs>\n <g id=\"figure_1\">\n  <g id=\"patch_1\">\n   <path d=\"M 0 331.674375 \nL 608.98125 331.674375 \nL 608.98125 0 \nL 0 0 \nz\n\" style=\"fill:none;\"/>\n  </g>\n  <g id=\"axes_1\">\n   <g id=\"patch_2\">\n    <path d=\"M 43.78125 294.118125 \nL 601.78125 294.118125 \nL 601.78125 22.318125 \nL 43.78125 22.318125 \nz\n\" style=\"fill:#ffffff;\"/>\n   </g>\n   <g id=\"matplotlib.axis_1\">\n    <g id=\"xtick_1\">\n     <g id=\"line2d_1\">\n      <defs>\n       <path d=\"M 0 0 \nL 0 3.5 \n\" id=\"m8c4966efe0\" style=\"stroke:#000000;stroke-width:0.8;\"/>\n      </defs>\n      <g>\n       <use style=\"stroke:#000000;stroke-width:0.8;\" x=\"69.144886\" xlink:href=\"#m8c4966efe0\" y=\"294.118125\"/>\n      </g>\n     </g>\n     <g id=\"text_1\">\n      <!-- 0 -->\n      <defs>\n       <path d=\"M 31.78125 66.40625 \nQ 24.171875 66.40625 20.328125 58.90625 \nQ 16.5 51.421875 16.5 36.375 \nQ 16.5 21.390625 20.328125 13.890625 \nQ 24.171875 6.390625 31.78125 6.390625 \nQ 39.453125 6.390625 43.28125 13.890625 \nQ 47.125 21.390625 47.125 36.375 \nQ 47.125 51.421875 43.28125 58.90625 \nQ 39.453125 66.40625 31.78125 66.40625 \nz\nM 31.78125 74.21875 \nQ 44.046875 74.21875 50.515625 64.515625 \nQ 56.984375 54.828125 56.984375 36.375 \nQ 56.984375 17.96875 50.515625 8.265625 \nQ 44.046875 -1.421875 31.78125 -1.421875 \nQ 19.53125 -1.421875 13.0625 8.265625 \nQ 6.59375 17.96875 6.59375 36.375 \nQ 6.59375 54.828125 13.0625 64.515625 \nQ 19.53125 74.21875 31.78125 74.21875 \nz\n\" id=\"DejaVuSans-48\"/>\n      </defs>\n      <g transform=\"translate(65.963636 308.716563)scale(0.1 -0.1)\">\n       <use xlink:href=\"#DejaVuSans-48\"/>\n      </g>\n     </g>\n    </g>\n    <g id=\"xtick_2\">\n     <g id=\"line2d_2\">\n      <g>\n       <use style=\"stroke:#000000;stroke-width:0.8;\" x=\"150.963068\" xlink:href=\"#m8c4966efe0\" y=\"294.118125\"/>\n      </g>\n     </g>\n     <g id=\"text_2\">\n      <!-- 20 -->\n      <defs>\n       <path d=\"M 19.1875 8.296875 \nL 53.609375 8.296875 \nL 53.609375 0 \nL 7.328125 0 \nL 7.328125 8.296875 \nQ 12.9375 14.109375 22.625 23.890625 \nQ 32.328125 33.6875 34.8125 36.53125 \nQ 39.546875 41.84375 41.421875 45.53125 \nQ 43.3125 49.21875 43.3125 52.78125 \nQ 43.3125 58.59375 39.234375 62.25 \nQ 35.15625 65.921875 28.609375 65.921875 \nQ 23.96875 65.921875 18.8125 64.3125 \nQ 13.671875 62.703125 7.8125 59.421875 \nL 7.8125 69.390625 \nQ 13.765625 71.78125 18.9375 73 \nQ 24.125 74.21875 28.421875 74.21875 \nQ 39.75 74.21875 46.484375 68.546875 \nQ 53.21875 62.890625 53.21875 53.421875 \nQ 53.21875 48.921875 51.53125 44.890625 \nQ 49.859375 40.875 45.40625 35.40625 \nQ 44.1875 33.984375 37.640625 27.21875 \nQ 31.109375 20.453125 19.1875 8.296875 \nz\n\" id=\"DejaVuSans-50\"/>\n      </defs>\n      <g transform=\"translate(144.600568 308.716563)scale(0.1 -0.1)\">\n       <use xlink:href=\"#DejaVuSans-50\"/>\n       <use x=\"63.623047\" xlink:href=\"#DejaVuSans-48\"/>\n      </g>\n     </g>\n    </g>\n    <g id=\"xtick_3\">\n     <g id=\"line2d_3\">\n      <g>\n       <use style=\"stroke:#000000;stroke-width:0.8;\" x=\"232.78125\" xlink:href=\"#m8c4966efe0\" y=\"294.118125\"/>\n      </g>\n     </g>\n     <g id=\"text_3\">\n      <!-- 40 -->\n      <defs>\n       <path d=\"M 37.796875 64.3125 \nL 12.890625 25.390625 \nL 37.796875 25.390625 \nz\nM 35.203125 72.90625 \nL 47.609375 72.90625 \nL 47.609375 25.390625 \nL 58.015625 25.390625 \nL 58.015625 17.1875 \nL 47.609375 17.1875 \nL 47.609375 0 \nL 37.796875 0 \nL 37.796875 17.1875 \nL 4.890625 17.1875 \nL 4.890625 26.703125 \nz\n\" id=\"DejaVuSans-52\"/>\n      </defs>\n      <g transform=\"translate(226.41875 308.716563)scale(0.1 -0.1)\">\n       <use xlink:href=\"#DejaVuSans-52\"/>\n       <use x=\"63.623047\" xlink:href=\"#DejaVuSans-48\"/>\n      </g>\n     </g>\n    </g>\n    <g id=\"xtick_4\">\n     <g id=\"line2d_4\">\n      <g>\n       <use style=\"stroke:#000000;stroke-width:0.8;\" x=\"314.599432\" xlink:href=\"#m8c4966efe0\" y=\"294.118125\"/>\n      </g>\n     </g>\n     <g id=\"text_4\">\n      <!-- 60 -->\n      <defs>\n       <path d=\"M 33.015625 40.375 \nQ 26.375 40.375 22.484375 35.828125 \nQ 18.609375 31.296875 18.609375 23.390625 \nQ 18.609375 15.53125 22.484375 10.953125 \nQ 26.375 6.390625 33.015625 6.390625 \nQ 39.65625 6.390625 43.53125 10.953125 \nQ 47.40625 15.53125 47.40625 23.390625 \nQ 47.40625 31.296875 43.53125 35.828125 \nQ 39.65625 40.375 33.015625 40.375 \nz\nM 52.59375 71.296875 \nL 52.59375 62.3125 \nQ 48.875 64.0625 45.09375 64.984375 \nQ 41.3125 65.921875 37.59375 65.921875 \nQ 27.828125 65.921875 22.671875 59.328125 \nQ 17.53125 52.734375 16.796875 39.40625 \nQ 19.671875 43.65625 24.015625 45.921875 \nQ 28.375 48.1875 33.59375 48.1875 \nQ 44.578125 48.1875 50.953125 41.515625 \nQ 57.328125 34.859375 57.328125 23.390625 \nQ 57.328125 12.15625 50.6875 5.359375 \nQ 44.046875 -1.421875 33.015625 -1.421875 \nQ 20.359375 -1.421875 13.671875 8.265625 \nQ 6.984375 17.96875 6.984375 36.375 \nQ 6.984375 53.65625 15.1875 63.9375 \nQ 23.390625 74.21875 37.203125 74.21875 \nQ 40.921875 74.21875 44.703125 73.484375 \nQ 48.484375 72.75 52.59375 71.296875 \nz\n\" id=\"DejaVuSans-54\"/>\n      </defs>\n      <g transform=\"translate(308.236932 308.716563)scale(0.1 -0.1)\">\n       <use xlink:href=\"#DejaVuSans-54\"/>\n       <use x=\"63.623047\" xlink:href=\"#DejaVuSans-48\"/>\n      </g>\n     </g>\n    </g>\n    <g id=\"xtick_5\">\n     <g id=\"line2d_5\">\n      <g>\n       <use style=\"stroke:#000000;stroke-width:0.8;\" x=\"396.417614\" xlink:href=\"#m8c4966efe0\" y=\"294.118125\"/>\n      </g>\n     </g>\n     <g id=\"text_5\">\n      <!-- 80 -->\n      <defs>\n       <path d=\"M 31.78125 34.625 \nQ 24.75 34.625 20.71875 30.859375 \nQ 16.703125 27.09375 16.703125 20.515625 \nQ 16.703125 13.921875 20.71875 10.15625 \nQ 24.75 6.390625 31.78125 6.390625 \nQ 38.8125 6.390625 42.859375 10.171875 \nQ 46.921875 13.96875 46.921875 20.515625 \nQ 46.921875 27.09375 42.890625 30.859375 \nQ 38.875 34.625 31.78125 34.625 \nz\nM 21.921875 38.8125 \nQ 15.578125 40.375 12.03125 44.71875 \nQ 8.5 49.078125 8.5 55.328125 \nQ 8.5 64.0625 14.71875 69.140625 \nQ 20.953125 74.21875 31.78125 74.21875 \nQ 42.671875 74.21875 48.875 69.140625 \nQ 55.078125 64.0625 55.078125 55.328125 \nQ 55.078125 49.078125 51.53125 44.71875 \nQ 48 40.375 41.703125 38.8125 \nQ 48.828125 37.15625 52.796875 32.3125 \nQ 56.78125 27.484375 56.78125 20.515625 \nQ 56.78125 9.90625 50.3125 4.234375 \nQ 43.84375 -1.421875 31.78125 -1.421875 \nQ 19.734375 -1.421875 13.25 4.234375 \nQ 6.78125 9.90625 6.78125 20.515625 \nQ 6.78125 27.484375 10.78125 32.3125 \nQ 14.796875 37.15625 21.921875 38.8125 \nz\nM 18.3125 54.390625 \nQ 18.3125 48.734375 21.84375 45.5625 \nQ 25.390625 42.390625 31.78125 42.390625 \nQ 38.140625 42.390625 41.71875 45.5625 \nQ 45.3125 48.734375 45.3125 54.390625 \nQ 45.3125 60.0625 41.71875 63.234375 \nQ 38.140625 66.40625 31.78125 66.40625 \nQ 25.390625 66.40625 21.84375 63.234375 \nQ 18.3125 60.0625 18.3125 54.390625 \nz\n\" id=\"DejaVuSans-56\"/>\n      </defs>\n      <g transform=\"translate(390.055114 308.716563)scale(0.1 -0.1)\">\n       <use xlink:href=\"#DejaVuSans-56\"/>\n       <use x=\"63.623047\" xlink:href=\"#DejaVuSans-48\"/>\n      </g>\n     </g>\n    </g>\n    <g id=\"xtick_6\">\n     <g id=\"line2d_6\">\n      <g>\n       <use style=\"stroke:#000000;stroke-width:0.8;\" x=\"478.235795\" xlink:href=\"#m8c4966efe0\" y=\"294.118125\"/>\n      </g>\n     </g>\n     <g id=\"text_6\">\n      <!-- 100 -->\n      <defs>\n       <path d=\"M 12.40625 8.296875 \nL 28.515625 8.296875 \nL 28.515625 63.921875 \nL 10.984375 60.40625 \nL 10.984375 69.390625 \nL 28.421875 72.90625 \nL 38.28125 72.90625 \nL 38.28125 8.296875 \nL 54.390625 8.296875 \nL 54.390625 0 \nL 12.40625 0 \nz\n\" id=\"DejaVuSans-49\"/>\n      </defs>\n      <g transform=\"translate(468.692045 308.716563)scale(0.1 -0.1)\">\n       <use xlink:href=\"#DejaVuSans-49\"/>\n       <use x=\"63.623047\" xlink:href=\"#DejaVuSans-48\"/>\n       <use x=\"127.246094\" xlink:href=\"#DejaVuSans-48\"/>\n      </g>\n     </g>\n    </g>\n    <g id=\"xtick_7\">\n     <g id=\"line2d_7\">\n      <g>\n       <use style=\"stroke:#000000;stroke-width:0.8;\" x=\"560.053977\" xlink:href=\"#m8c4966efe0\" y=\"294.118125\"/>\n      </g>\n     </g>\n     <g id=\"text_7\">\n      <!-- 120 -->\n      <g transform=\"translate(550.510227 308.716563)scale(0.1 -0.1)\">\n       <use xlink:href=\"#DejaVuSans-49\"/>\n       <use x=\"63.623047\" xlink:href=\"#DejaVuSans-50\"/>\n       <use x=\"127.246094\" xlink:href=\"#DejaVuSans-48\"/>\n      </g>\n     </g>\n    </g>\n    <g id=\"text_8\">\n     <!-- Epoch -->\n     <defs>\n      <path d=\"M 9.8125 72.90625 \nL 55.90625 72.90625 \nL 55.90625 64.59375 \nL 19.671875 64.59375 \nL 19.671875 43.015625 \nL 54.390625 43.015625 \nL 54.390625 34.71875 \nL 19.671875 34.71875 \nL 19.671875 8.296875 \nL 56.78125 8.296875 \nL 56.78125 0 \nL 9.8125 0 \nz\n\" id=\"DejaVuSans-69\"/>\n      <path d=\"M 18.109375 8.203125 \nL 18.109375 -20.796875 \nL 9.078125 -20.796875 \nL 9.078125 54.6875 \nL 18.109375 54.6875 \nL 18.109375 46.390625 \nQ 20.953125 51.265625 25.265625 53.625 \nQ 29.59375 56 35.59375 56 \nQ 45.5625 56 51.78125 48.09375 \nQ 58.015625 40.1875 58.015625 27.296875 \nQ 58.015625 14.40625 51.78125 6.484375 \nQ 45.5625 -1.421875 35.59375 -1.421875 \nQ 29.59375 -1.421875 25.265625 0.953125 \nQ 20.953125 3.328125 18.109375 8.203125 \nz\nM 48.6875 27.296875 \nQ 48.6875 37.203125 44.609375 42.84375 \nQ 40.53125 48.484375 33.40625 48.484375 \nQ 26.265625 48.484375 22.1875 42.84375 \nQ 18.109375 37.203125 18.109375 27.296875 \nQ 18.109375 17.390625 22.1875 11.75 \nQ 26.265625 6.109375 33.40625 6.109375 \nQ 40.53125 6.109375 44.609375 11.75 \nQ 48.6875 17.390625 48.6875 27.296875 \nz\n\" id=\"DejaVuSans-112\"/>\n      <path d=\"M 30.609375 48.390625 \nQ 23.390625 48.390625 19.1875 42.75 \nQ 14.984375 37.109375 14.984375 27.296875 \nQ 14.984375 17.484375 19.15625 11.84375 \nQ 23.34375 6.203125 30.609375 6.203125 \nQ 37.796875 6.203125 41.984375 11.859375 \nQ 46.1875 17.53125 46.1875 27.296875 \nQ 46.1875 37.015625 41.984375 42.703125 \nQ 37.796875 48.390625 30.609375 48.390625 \nz\nM 30.609375 56 \nQ 42.328125 56 49.015625 48.375 \nQ 55.71875 40.765625 55.71875 27.296875 \nQ 55.71875 13.875 49.015625 6.21875 \nQ 42.328125 -1.421875 30.609375 -1.421875 \nQ 18.84375 -1.421875 12.171875 6.21875 \nQ 5.515625 13.875 5.515625 27.296875 \nQ 5.515625 40.765625 12.171875 48.375 \nQ 18.84375 56 30.609375 56 \nz\n\" id=\"DejaVuSans-111\"/>\n      <path d=\"M 48.78125 52.59375 \nL 48.78125 44.1875 \nQ 44.96875 46.296875 41.140625 47.34375 \nQ 37.3125 48.390625 33.40625 48.390625 \nQ 24.65625 48.390625 19.8125 42.84375 \nQ 14.984375 37.3125 14.984375 27.296875 \nQ 14.984375 17.28125 19.8125 11.734375 \nQ 24.65625 6.203125 33.40625 6.203125 \nQ 37.3125 6.203125 41.140625 7.25 \nQ 44.96875 8.296875 48.78125 10.40625 \nL 48.78125 2.09375 \nQ 45.015625 0.34375 40.984375 -0.53125 \nQ 36.96875 -1.421875 32.421875 -1.421875 \nQ 20.0625 -1.421875 12.78125 6.34375 \nQ 5.515625 14.109375 5.515625 27.296875 \nQ 5.515625 40.671875 12.859375 48.328125 \nQ 20.21875 56 33.015625 56 \nQ 37.15625 56 41.109375 55.140625 \nQ 45.0625 54.296875 48.78125 52.59375 \nz\n\" id=\"DejaVuSans-99\"/>\n      <path d=\"M 54.890625 33.015625 \nL 54.890625 0 \nL 45.90625 0 \nL 45.90625 32.71875 \nQ 45.90625 40.484375 42.875 44.328125 \nQ 39.84375 48.1875 33.796875 48.1875 \nQ 26.515625 48.1875 22.3125 43.546875 \nQ 18.109375 38.921875 18.109375 30.90625 \nL 18.109375 0 \nL 9.078125 0 \nL 9.078125 75.984375 \nL 18.109375 75.984375 \nL 18.109375 46.1875 \nQ 21.34375 51.125 25.703125 53.5625 \nQ 30.078125 56 35.796875 56 \nQ 45.21875 56 50.046875 50.171875 \nQ 54.890625 44.34375 54.890625 33.015625 \nz\n\" id=\"DejaVuSans-104\"/>\n     </defs>\n     <g transform=\"translate(307.470312 322.394687)scale(0.1 -0.1)\">\n      <use xlink:href=\"#DejaVuSans-69\"/>\n      <use x=\"63.183594\" xlink:href=\"#DejaVuSans-112\"/>\n      <use x=\"126.660156\" xlink:href=\"#DejaVuSans-111\"/>\n      <use x=\"187.841797\" xlink:href=\"#DejaVuSans-99\"/>\n      <use x=\"242.822266\" xlink:href=\"#DejaVuSans-104\"/>\n     </g>\n    </g>\n   </g>\n   <g id=\"matplotlib.axis_2\">\n    <g id=\"ytick_1\">\n     <g id=\"line2d_8\">\n      <defs>\n       <path d=\"M 0 0 \nL -3.5 0 \n\" id=\"ma0ad4feea0\" style=\"stroke:#000000;stroke-width:0.8;\"/>\n      </defs>\n      <g>\n       <use style=\"stroke:#000000;stroke-width:0.8;\" x=\"43.78125\" xlink:href=\"#ma0ad4feea0\" y=\"279.803776\"/>\n      </g>\n     </g>\n     <g id=\"text_9\">\n      <!-- 0.5 -->\n      <defs>\n       <path d=\"M 10.6875 12.40625 \nL 21 12.40625 \nL 21 0 \nL 10.6875 0 \nz\n\" id=\"DejaVuSans-46\"/>\n       <path d=\"M 10.796875 72.90625 \nL 49.515625 72.90625 \nL 49.515625 64.59375 \nL 19.828125 64.59375 \nL 19.828125 46.734375 \nQ 21.96875 47.46875 24.109375 47.828125 \nQ 26.265625 48.1875 28.421875 48.1875 \nQ 40.625 48.1875 47.75 41.5 \nQ 54.890625 34.8125 54.890625 23.390625 \nQ 54.890625 11.625 47.5625 5.09375 \nQ 40.234375 -1.421875 26.90625 -1.421875 \nQ 22.3125 -1.421875 17.546875 -0.640625 \nQ 12.796875 0.140625 7.71875 1.703125 \nL 7.71875 11.625 \nQ 12.109375 9.234375 16.796875 8.0625 \nQ 21.484375 6.890625 26.703125 6.890625 \nQ 35.15625 6.890625 40.078125 11.328125 \nQ 45.015625 15.765625 45.015625 23.390625 \nQ 45.015625 31 40.078125 35.4375 \nQ 35.15625 39.890625 26.703125 39.890625 \nQ 22.75 39.890625 18.8125 39.015625 \nQ 14.890625 38.140625 10.796875 36.28125 \nz\n\" id=\"DejaVuSans-53\"/>\n      </defs>\n      <g transform=\"translate(20.878125 283.602995)scale(0.1 -0.1)\">\n       <use xlink:href=\"#DejaVuSans-48\"/>\n       <use x=\"63.623047\" xlink:href=\"#DejaVuSans-46\"/>\n       <use x=\"95.410156\" xlink:href=\"#DejaVuSans-53\"/>\n      </g>\n     </g>\n    </g>\n    <g id=\"ytick_2\">\n     <g id=\"line2d_9\">\n      <g>\n       <use style=\"stroke:#000000;stroke-width:0.8;\" x=\"43.78125\" xlink:href=\"#ma0ad4feea0\" y=\"232.404871\"/>\n      </g>\n     </g>\n     <g id=\"text_10\">\n      <!-- 1.0 -->\n      <g transform=\"translate(20.878125 236.20409)scale(0.1 -0.1)\">\n       <use xlink:href=\"#DejaVuSans-49\"/>\n       <use x=\"63.623047\" xlink:href=\"#DejaVuSans-46\"/>\n       <use x=\"95.410156\" xlink:href=\"#DejaVuSans-48\"/>\n      </g>\n     </g>\n    </g>\n    <g id=\"ytick_3\">\n     <g id=\"line2d_10\">\n      <g>\n       <use style=\"stroke:#000000;stroke-width:0.8;\" x=\"43.78125\" xlink:href=\"#ma0ad4feea0\" y=\"185.005967\"/>\n      </g>\n     </g>\n     <g id=\"text_11\">\n      <!-- 1.5 -->\n      <g transform=\"translate(20.878125 188.805186)scale(0.1 -0.1)\">\n       <use xlink:href=\"#DejaVuSans-49\"/>\n       <use x=\"63.623047\" xlink:href=\"#DejaVuSans-46\"/>\n       <use x=\"95.410156\" xlink:href=\"#DejaVuSans-53\"/>\n      </g>\n     </g>\n    </g>\n    <g id=\"ytick_4\">\n     <g id=\"line2d_11\">\n      <g>\n       <use style=\"stroke:#000000;stroke-width:0.8;\" x=\"43.78125\" xlink:href=\"#ma0ad4feea0\" y=\"137.607063\"/>\n      </g>\n     </g>\n     <g id=\"text_12\">\n      <!-- 2.0 -->\n      <g transform=\"translate(20.878125 141.406282)scale(0.1 -0.1)\">\n       <use xlink:href=\"#DejaVuSans-50\"/>\n       <use x=\"63.623047\" xlink:href=\"#DejaVuSans-46\"/>\n       <use x=\"95.410156\" xlink:href=\"#DejaVuSans-48\"/>\n      </g>\n     </g>\n    </g>\n    <g id=\"ytick_5\">\n     <g id=\"line2d_12\">\n      <g>\n       <use style=\"stroke:#000000;stroke-width:0.8;\" x=\"43.78125\" xlink:href=\"#ma0ad4feea0\" y=\"90.208159\"/>\n      </g>\n     </g>\n     <g id=\"text_13\">\n      <!-- 2.5 -->\n      <g transform=\"translate(20.878125 94.007377)scale(0.1 -0.1)\">\n       <use xlink:href=\"#DejaVuSans-50\"/>\n       <use x=\"63.623047\" xlink:href=\"#DejaVuSans-46\"/>\n       <use x=\"95.410156\" xlink:href=\"#DejaVuSans-53\"/>\n      </g>\n     </g>\n    </g>\n    <g id=\"ytick_6\">\n     <g id=\"line2d_13\">\n      <g>\n       <use style=\"stroke:#000000;stroke-width:0.8;\" x=\"43.78125\" xlink:href=\"#ma0ad4feea0\" y=\"42.809254\"/>\n      </g>\n     </g>\n     <g id=\"text_14\">\n      <!-- 3.0 -->\n      <defs>\n       <path d=\"M 40.578125 39.3125 \nQ 47.65625 37.796875 51.625 33 \nQ 55.609375 28.21875 55.609375 21.1875 \nQ 55.609375 10.40625 48.1875 4.484375 \nQ 40.765625 -1.421875 27.09375 -1.421875 \nQ 22.515625 -1.421875 17.65625 -0.515625 \nQ 12.796875 0.390625 7.625 2.203125 \nL 7.625 11.71875 \nQ 11.71875 9.328125 16.59375 8.109375 \nQ 21.484375 6.890625 26.8125 6.890625 \nQ 36.078125 6.890625 40.9375 10.546875 \nQ 45.796875 14.203125 45.796875 21.1875 \nQ 45.796875 27.640625 41.28125 31.265625 \nQ 36.765625 34.90625 28.71875 34.90625 \nL 20.21875 34.90625 \nL 20.21875 43.015625 \nL 29.109375 43.015625 \nQ 36.375 43.015625 40.234375 45.921875 \nQ 44.09375 48.828125 44.09375 54.296875 \nQ 44.09375 59.90625 40.109375 62.90625 \nQ 36.140625 65.921875 28.71875 65.921875 \nQ 24.65625 65.921875 20.015625 65.03125 \nQ 15.375 64.15625 9.8125 62.3125 \nL 9.8125 71.09375 \nQ 15.4375 72.65625 20.34375 73.4375 \nQ 25.25 74.21875 29.59375 74.21875 \nQ 40.828125 74.21875 47.359375 69.109375 \nQ 53.90625 64.015625 53.90625 55.328125 \nQ 53.90625 49.265625 50.4375 45.09375 \nQ 46.96875 40.921875 40.578125 39.3125 \nz\n\" id=\"DejaVuSans-51\"/>\n      </defs>\n      <g transform=\"translate(20.878125 46.608473)scale(0.1 -0.1)\">\n       <use xlink:href=\"#DejaVuSans-51\"/>\n       <use x=\"63.623047\" xlink:href=\"#DejaVuSans-46\"/>\n       <use x=\"95.410156\" xlink:href=\"#DejaVuSans-48\"/>\n      </g>\n     </g>\n    </g>\n    <g id=\"text_15\">\n     <!-- Loss -->\n     <defs>\n      <path d=\"M 9.8125 72.90625 \nL 19.671875 72.90625 \nL 19.671875 8.296875 \nL 55.171875 8.296875 \nL 55.171875 0 \nL 9.8125 0 \nz\n\" id=\"DejaVuSans-76\"/>\n      <path d=\"M 44.28125 53.078125 \nL 44.28125 44.578125 \nQ 40.484375 46.53125 36.375 47.5 \nQ 32.28125 48.484375 27.875 48.484375 \nQ 21.1875 48.484375 17.84375 46.4375 \nQ 14.5 44.390625 14.5 40.28125 \nQ 14.5 37.15625 16.890625 35.375 \nQ 19.28125 33.59375 26.515625 31.984375 \nL 29.59375 31.296875 \nQ 39.15625 29.25 43.1875 25.515625 \nQ 47.21875 21.78125 47.21875 15.09375 \nQ 47.21875 7.46875 41.1875 3.015625 \nQ 35.15625 -1.421875 24.609375 -1.421875 \nQ 20.21875 -1.421875 15.453125 -0.5625 \nQ 10.6875 0.296875 5.421875 2 \nL 5.421875 11.28125 \nQ 10.40625 8.6875 15.234375 7.390625 \nQ 20.0625 6.109375 24.8125 6.109375 \nQ 31.15625 6.109375 34.5625 8.28125 \nQ 37.984375 10.453125 37.984375 14.40625 \nQ 37.984375 18.0625 35.515625 20.015625 \nQ 33.0625 21.96875 24.703125 23.78125 \nL 21.578125 24.515625 \nQ 13.234375 26.265625 9.515625 29.90625 \nQ 5.8125 33.546875 5.8125 39.890625 \nQ 5.8125 47.609375 11.28125 51.796875 \nQ 16.75 56 26.8125 56 \nQ 31.78125 56 36.171875 55.265625 \nQ 40.578125 54.546875 44.28125 53.078125 \nz\n\" id=\"DejaVuSans-115\"/>\n     </defs>\n     <g transform=\"translate(14.798438 169.185313)rotate(-90)scale(0.1 -0.1)\">\n      <use xlink:href=\"#DejaVuSans-76\"/>\n      <use x=\"53.962891\" xlink:href=\"#DejaVuSans-111\"/>\n      <use x=\"115.144531\" xlink:href=\"#DejaVuSans-115\"/>\n      <use x=\"167.244141\" xlink:href=\"#DejaVuSans-115\"/>\n     </g>\n    </g>\n   </g>\n   <g id=\"line2d_14\">\n    <path clip-path=\"url(#p6ddee99876)\" d=\"M 69.144886 34.67267 \nL 73.235795 114.479927 \nL 77.326705 146.0262 \nL 81.417614 155.219022 \nL 85.508523 144.756625 \nL 89.599432 166.905543 \nL 93.690341 222.467294 \nL 97.78125 169.564051 \nL 101.872159 184.406043 \nL 105.963068 169.559293 \nL 110.053977 208.286895 \nL 114.144886 186.553044 \nL 118.235795 230.844121 \nL 122.326705 213.976453 \nL 126.417614 227.181278 \nL 130.508523 214.25999 \nL 134.599432 234.618785 \nL 138.690341 232.530225 \nL 142.78125 242.805244 \nL 146.872159 241.69483 \nL 150.963068 247.233992 \nL 155.053977 246.999382 \nL 159.144886 253.295764 \nL 163.235795 250.610619 \nL 167.326705 255.062708 \nL 171.417614 253.226281 \nL 175.508523 255.184604 \nL 179.599432 258.588998 \nL 183.690341 258.966743 \nL 187.78125 260.816393 \nL 191.872159 258.311405 \nL 195.963068 261.305129 \nL 200.053977 262.146907 \nL 204.144886 264.309921 \nL 208.235795 263.864247 \nL 212.326705 266.156457 \nL 216.417614 266.657941 \nL 220.508523 268.31494 \nL 224.599432 267.469924 \nL 228.690341 267.765671 \nL 232.78125 267.162165 \nL 236.872159 267.927617 \nL 240.963068 267.535508 \nL 245.053977 268.21499 \nL 249.144886 268.208504 \nL 253.235795 269.110374 \nL 257.326705 269.194717 \nL 261.417614 269.65476 \nL 265.508523 269.5201 \nL 269.599432 269.930641 \nL 273.690341 270.124421 \nL 277.78125 270.383864 \nL 281.872159 270.475016 \nL 285.963068 270.719271 \nL 290.053977 271.007633 \nL 294.144886 271.271902 \nL 298.235795 271.482967 \nL 302.326705 271.699049 \nL 306.417614 271.981399 \nL 310.508523 272.187695 \nL 314.599432 272.355822 \nL 318.690341 272.433351 \nL 322.78125 272.56292 \nL 326.872159 272.658604 \nL 330.963068 272.81656 \nL 335.053977 272.922805 \nL 339.144886 273.096967 \nL 343.235795 273.236057 \nL 347.326705 273.435312 \nL 351.417614 273.567345 \nL 355.508523 273.727019 \nL 359.599432 273.835987 \nL 363.690341 273.99057 \nL 367.78125 274.106578 \nL 371.872159 274.251771 \nL 375.963068 274.360196 \nL 380.053977 274.500337 \nL 384.144886 274.616221 \nL 388.235795 274.753361 \nL 392.326705 274.862143 \nL 396.417614 274.98761 \nL 400.508523 275.09504 \nL 404.599432 275.217224 \nL 408.690341 275.320988 \nL 412.78125 275.431866 \nL 416.872159 275.529804 \nL 420.963068 275.638133 \nL 425.053977 275.740332 \nL 429.144886 275.849441 \nL 433.235795 275.952657 \nL 437.326705 276.060438 \nL 441.417614 276.164478 \nL 445.508523 276.269751 \nL 449.599432 276.37026 \nL 453.690341 276.469837 \nL 457.78125 276.567679 \nL 461.872159 276.665713 \nL 465.963068 276.763454 \nL 470.053977 276.859414 \nL 474.144886 276.954917 \nL 478.235795 277.049053 \nL 482.326705 277.143668 \nL 486.417614 277.23634 \nL 490.508523 277.329108 \nL 494.599432 277.419792 \nL 498.690341 277.511051 \nL 502.78125 277.600723 \nL 506.872159 277.690813 \nL 510.963068 277.779179 \nL 515.053977 277.867811 \nL 519.144886 277.955251 \nL 523.235795 278.042928 \nL 527.326705 278.129498 \nL 531.417614 278.215858 \nL 535.508523 278.301185 \nL 539.599432 278.386116 \nL 543.690341 278.470301 \nL 547.78125 278.553893 \nL 551.872159 278.636823 \nL 555.963068 278.719087 \nL 560.053977 278.80095 \nL 564.144886 278.882203 \nL 568.235795 278.963066 \nL 572.326705 279.043211 \nL 576.417614 279.122989 \n\" style=\"fill:none;stroke:#1f77b4;stroke-linecap:square;stroke-width:1.5;\"/>\n   </g>\n   <g id=\"line2d_15\">\n    <path clip-path=\"url(#p6ddee99876)\" d=\"M 69.144886 129.575509 \nL 73.235795 150.318552 \nL 77.326705 164.131665 \nL 81.417614 174.504786 \nL 85.508523 196.07125 \nL 89.599432 236.921618 \nL 93.690341 163.403284 \nL 97.78125 199.673904 \nL 101.872159 189.339726 \nL 105.963068 228.378392 \nL 110.053977 190.469691 \nL 114.144886 256.099724 \nL 118.235795 239.286199 \nL 122.326705 252.53873 \nL 126.417614 231.499464 \nL 130.508523 255.667407 \nL 134.599432 248.928515 \nL 138.690341 254.412365 \nL 142.78125 243.905353 \nL 146.872159 248.108683 \nL 150.963068 249.525835 \nL 155.053977 257.899758 \nL 159.144886 254.950921 \nL 163.235795 262.902375 \nL 167.326705 261.000109 \nL 171.417614 261.235143 \nL 175.508523 263.886249 \nL 179.599432 262.687028 \nL 183.690341 263.07374 \nL 187.78125 259.042074 \nL 191.872159 263.376285 \nL 195.963068 265.679909 \nL 200.053977 269.797489 \nL 204.144886 270.56536 \nL 208.235795 273.631934 \nL 212.326705 273.943887 \nL 216.417614 275.460513 \nL 220.508523 273.786794 \nL 224.599432 273.903859 \nL 228.690341 273.864713 \nL 232.78125 275.643835 \nL 236.872159 276.08869 \nL 240.963068 277.452044 \nL 245.053977 277.396037 \nL 249.144886 277.954725 \nL 253.235795 277.357598 \nL 257.326705 277.036627 \nL 261.417614 276.250573 \nL 265.508523 276.559192 \nL 269.599432 276.935508 \nL 273.690341 277.271497 \nL 277.78125 277.168129 \nL 281.872159 277.176056 \nL 285.963068 277.147652 \nL 290.053977 276.937949 \nL 294.144886 276.736027 \nL 298.235795 276.812736 \nL 302.326705 277.228368 \nL 306.417614 277.672002 \nL 310.508523 278.031441 \nL 314.599432 278.236872 \nL 318.690341 278.424188 \nL 322.78125 278.386392 \nL 326.872159 278.266384 \nL 330.963068 278.107834 \nL 335.053977 278.118417 \nL 339.144886 278.141567 \nL 343.235795 278.256021 \nL 347.326705 278.336313 \nL 351.417614 278.471572 \nL 355.508523 278.48993 \nL 359.599432 278.471696 \nL 363.690341 278.399275 \nL 367.78125 278.412186 \nL 371.872159 278.42916 \nL 375.963068 278.516707 \nL 380.053977 278.646813 \nL 384.144886 278.875236 \nL 388.235795 279.079339 \nL 392.326705 279.249563 \nL 396.417614 279.363266 \nL 400.508523 279.484241 \nL 404.599432 279.56225 \nL 408.690341 279.62176 \nL 412.78125 279.6761 \nL 416.872159 279.775326 \nL 420.963068 279.880672 \nL 425.053977 279.974121 \nL 429.144886 280.036253 \nL 433.235795 280.088239 \nL 437.326705 280.11405 \nL 441.417614 280.110541 \nL 445.508523 280.091375 \nL 449.599432 280.092434 \nL 453.690341 280.119522 \nL 457.78125 280.161751 \nL 461.872159 280.215537 \nL 465.963068 280.285474 \nL 470.053977 280.36415 \nL 474.144886 280.430593 \nL 478.235795 280.483441 \nL 482.326705 280.534137 \nL 486.417614 280.592745 \nL 490.508523 280.651908 \nL 494.599432 280.713155 \nL 498.690341 280.781522 \nL 502.78125 280.860252 \nL 506.872159 280.934857 \nL 510.963068 280.997186 \nL 515.053977 281.048831 \nL 519.144886 281.097825 \nL 523.235795 281.141113 \nL 527.326705 281.177532 \nL 531.417614 281.213463 \nL 535.508523 281.258539 \nL 539.599432 281.311221 \nL 543.690341 281.364337 \nL 547.78125 281.415996 \nL 551.872159 281.469395 \nL 555.963068 281.523607 \nL 560.053977 281.572873 \nL 564.144886 281.617003 \nL 568.235795 281.661901 \nL 572.326705 281.711782 \nL 576.417614 281.76358 \n\" style=\"fill:none;stroke:#ff7f0e;stroke-linecap:square;stroke-width:1.5;\"/>\n   </g>\n   <g id=\"patch_3\">\n    <path d=\"M 43.78125 294.118125 \nL 43.78125 22.318125 \n\" style=\"fill:none;stroke:#000000;stroke-linecap:square;stroke-linejoin:miter;stroke-width:0.8;\"/>\n   </g>\n   <g id=\"patch_4\">\n    <path d=\"M 601.78125 294.118125 \nL 601.78125 22.318125 \n\" style=\"fill:none;stroke:#000000;stroke-linecap:square;stroke-linejoin:miter;stroke-width:0.8;\"/>\n   </g>\n   <g id=\"patch_5\">\n    <path d=\"M 43.78125 294.118125 \nL 601.78125 294.118125 \n\" style=\"fill:none;stroke:#000000;stroke-linecap:square;stroke-linejoin:miter;stroke-width:0.8;\"/>\n   </g>\n   <g id=\"patch_6\">\n    <path d=\"M 43.78125 22.318125 \nL 601.78125 22.318125 \n\" style=\"fill:none;stroke:#000000;stroke-linecap:square;stroke-linejoin:miter;stroke-width:0.8;\"/>\n   </g>\n   <g id=\"text_16\">\n    <!-- Loss vs. epochs, batch=500 -->\n    <defs>\n     <path id=\"DejaVuSans-32\"/>\n     <path d=\"M 2.984375 54.6875 \nL 12.5 54.6875 \nL 29.59375 8.796875 \nL 46.6875 54.6875 \nL 56.203125 54.6875 \nL 35.6875 0 \nL 23.484375 0 \nz\n\" id=\"DejaVuSans-118\"/>\n     <path d=\"M 56.203125 29.59375 \nL 56.203125 25.203125 \nL 14.890625 25.203125 \nQ 15.484375 15.921875 20.484375 11.0625 \nQ 25.484375 6.203125 34.421875 6.203125 \nQ 39.59375 6.203125 44.453125 7.46875 \nQ 49.3125 8.734375 54.109375 11.28125 \nL 54.109375 2.78125 \nQ 49.265625 0.734375 44.1875 -0.34375 \nQ 39.109375 -1.421875 33.890625 -1.421875 \nQ 20.796875 -1.421875 13.15625 6.1875 \nQ 5.515625 13.8125 5.515625 26.8125 \nQ 5.515625 40.234375 12.765625 48.109375 \nQ 20.015625 56 32.328125 56 \nQ 43.359375 56 49.78125 48.890625 \nQ 56.203125 41.796875 56.203125 29.59375 \nz\nM 47.21875 32.234375 \nQ 47.125 39.59375 43.09375 43.984375 \nQ 39.0625 48.390625 32.421875 48.390625 \nQ 24.90625 48.390625 20.390625 44.140625 \nQ 15.875 39.890625 15.1875 32.171875 \nz\n\" id=\"DejaVuSans-101\"/>\n     <path d=\"M 11.71875 12.40625 \nL 22.015625 12.40625 \nL 22.015625 4 \nL 14.015625 -11.625 \nL 7.71875 -11.625 \nL 11.71875 4 \nz\n\" id=\"DejaVuSans-44\"/>\n     <path d=\"M 48.6875 27.296875 \nQ 48.6875 37.203125 44.609375 42.84375 \nQ 40.53125 48.484375 33.40625 48.484375 \nQ 26.265625 48.484375 22.1875 42.84375 \nQ 18.109375 37.203125 18.109375 27.296875 \nQ 18.109375 17.390625 22.1875 11.75 \nQ 26.265625 6.109375 33.40625 6.109375 \nQ 40.53125 6.109375 44.609375 11.75 \nQ 48.6875 17.390625 48.6875 27.296875 \nz\nM 18.109375 46.390625 \nQ 20.953125 51.265625 25.265625 53.625 \nQ 29.59375 56 35.59375 56 \nQ 45.5625 56 51.78125 48.09375 \nQ 58.015625 40.1875 58.015625 27.296875 \nQ 58.015625 14.40625 51.78125 6.484375 \nQ 45.5625 -1.421875 35.59375 -1.421875 \nQ 29.59375 -1.421875 25.265625 0.953125 \nQ 20.953125 3.328125 18.109375 8.203125 \nL 18.109375 0 \nL 9.078125 0 \nL 9.078125 75.984375 \nL 18.109375 75.984375 \nz\n\" id=\"DejaVuSans-98\"/>\n     <path d=\"M 34.28125 27.484375 \nQ 23.390625 27.484375 19.1875 25 \nQ 14.984375 22.515625 14.984375 16.5 \nQ 14.984375 11.71875 18.140625 8.90625 \nQ 21.296875 6.109375 26.703125 6.109375 \nQ 34.1875 6.109375 38.703125 11.40625 \nQ 43.21875 16.703125 43.21875 25.484375 \nL 43.21875 27.484375 \nz\nM 52.203125 31.203125 \nL 52.203125 0 \nL 43.21875 0 \nL 43.21875 8.296875 \nQ 40.140625 3.328125 35.546875 0.953125 \nQ 30.953125 -1.421875 24.3125 -1.421875 \nQ 15.921875 -1.421875 10.953125 3.296875 \nQ 6 8.015625 6 15.921875 \nQ 6 25.140625 12.171875 29.828125 \nQ 18.359375 34.515625 30.609375 34.515625 \nL 43.21875 34.515625 \nL 43.21875 35.40625 \nQ 43.21875 41.609375 39.140625 45 \nQ 35.0625 48.390625 27.6875 48.390625 \nQ 23 48.390625 18.546875 47.265625 \nQ 14.109375 46.140625 10.015625 43.890625 \nL 10.015625 52.203125 \nQ 14.9375 54.109375 19.578125 55.046875 \nQ 24.21875 56 28.609375 56 \nQ 40.484375 56 46.34375 49.84375 \nQ 52.203125 43.703125 52.203125 31.203125 \nz\n\" id=\"DejaVuSans-97\"/>\n     <path d=\"M 18.3125 70.21875 \nL 18.3125 54.6875 \nL 36.8125 54.6875 \nL 36.8125 47.703125 \nL 18.3125 47.703125 \nL 18.3125 18.015625 \nQ 18.3125 11.328125 20.140625 9.421875 \nQ 21.96875 7.515625 27.59375 7.515625 \nL 36.8125 7.515625 \nL 36.8125 0 \nL 27.59375 0 \nQ 17.1875 0 13.234375 3.875 \nQ 9.28125 7.765625 9.28125 18.015625 \nL 9.28125 47.703125 \nL 2.6875 47.703125 \nL 2.6875 54.6875 \nL 9.28125 54.6875 \nL 9.28125 70.21875 \nz\n\" id=\"DejaVuSans-116\"/>\n     <path d=\"M 10.59375 45.40625 \nL 73.1875 45.40625 \nL 73.1875 37.203125 \nL 10.59375 37.203125 \nz\nM 10.59375 25.484375 \nL 73.1875 25.484375 \nL 73.1875 17.1875 \nL 10.59375 17.1875 \nz\n\" id=\"DejaVuSans-61\"/>\n    </defs>\n    <g transform=\"translate(238.59 16.318125)scale(0.12 -0.12)\">\n     <use xlink:href=\"#DejaVuSans-76\"/>\n     <use x=\"53.962891\" xlink:href=\"#DejaVuSans-111\"/>\n     <use x=\"115.144531\" xlink:href=\"#DejaVuSans-115\"/>\n     <use x=\"167.244141\" xlink:href=\"#DejaVuSans-115\"/>\n     <use x=\"219.34375\" xlink:href=\"#DejaVuSans-32\"/>\n     <use x=\"251.130859\" xlink:href=\"#DejaVuSans-118\"/>\n     <use x=\"310.310547\" xlink:href=\"#DejaVuSans-115\"/>\n     <use x=\"362.410156\" xlink:href=\"#DejaVuSans-46\"/>\n     <use x=\"394.197266\" xlink:href=\"#DejaVuSans-32\"/>\n     <use x=\"425.984375\" xlink:href=\"#DejaVuSans-101\"/>\n     <use x=\"487.507812\" xlink:href=\"#DejaVuSans-112\"/>\n     <use x=\"550.984375\" xlink:href=\"#DejaVuSans-111\"/>\n     <use x=\"612.166016\" xlink:href=\"#DejaVuSans-99\"/>\n     <use x=\"667.146484\" xlink:href=\"#DejaVuSans-104\"/>\n     <use x=\"730.525391\" xlink:href=\"#DejaVuSans-115\"/>\n     <use x=\"782.625\" xlink:href=\"#DejaVuSans-44\"/>\n     <use x=\"814.412109\" xlink:href=\"#DejaVuSans-32\"/>\n     <use x=\"846.199219\" xlink:href=\"#DejaVuSans-98\"/>\n     <use x=\"909.675781\" xlink:href=\"#DejaVuSans-97\"/>\n     <use x=\"970.955078\" xlink:href=\"#DejaVuSans-116\"/>\n     <use x=\"1010.164062\" xlink:href=\"#DejaVuSans-99\"/>\n     <use x=\"1065.144531\" xlink:href=\"#DejaVuSans-104\"/>\n     <use x=\"1128.523438\" xlink:href=\"#DejaVuSans-61\"/>\n     <use x=\"1212.3125\" xlink:href=\"#DejaVuSans-53\"/>\n     <use x=\"1275.935547\" xlink:href=\"#DejaVuSans-48\"/>\n     <use x=\"1339.558594\" xlink:href=\"#DejaVuSans-48\"/>\n    </g>\n   </g>\n   <g id=\"legend_1\">\n    <g id=\"patch_7\">\n     <path d=\"M 513.4 59.674375 \nL 594.78125 59.674375 \nQ 596.78125 59.674375 596.78125 57.674375 \nL 596.78125 29.318125 \nQ 596.78125 27.318125 594.78125 27.318125 \nL 513.4 27.318125 \nQ 511.4 27.318125 511.4 29.318125 \nL 511.4 57.674375 \nQ 511.4 59.674375 513.4 59.674375 \nz\n\" style=\"fill:#ffffff;opacity:0.8;stroke:#cccccc;stroke-linejoin:miter;\"/>\n    </g>\n    <g id=\"line2d_16\">\n     <path d=\"M 515.4 35.416562 \nL 535.4 35.416562 \n\" style=\"fill:none;stroke:#1f77b4;stroke-linecap:square;stroke-width:1.5;\"/>\n    </g>\n    <g id=\"line2d_17\"/>\n    <g id=\"text_17\">\n     <!-- Training -->\n     <defs>\n      <path d=\"M -0.296875 72.90625 \nL 61.375 72.90625 \nL 61.375 64.59375 \nL 35.5 64.59375 \nL 35.5 0 \nL 25.59375 0 \nL 25.59375 64.59375 \nL -0.296875 64.59375 \nz\n\" id=\"DejaVuSans-84\"/>\n      <path d=\"M 41.109375 46.296875 \nQ 39.59375 47.171875 37.8125 47.578125 \nQ 36.03125 48 33.890625 48 \nQ 26.265625 48 22.1875 43.046875 \nQ 18.109375 38.09375 18.109375 28.8125 \nL 18.109375 0 \nL 9.078125 0 \nL 9.078125 54.6875 \nL 18.109375 54.6875 \nL 18.109375 46.1875 \nQ 20.953125 51.171875 25.484375 53.578125 \nQ 30.03125 56 36.53125 56 \nQ 37.453125 56 38.578125 55.875 \nQ 39.703125 55.765625 41.0625 55.515625 \nz\n\" id=\"DejaVuSans-114\"/>\n      <path d=\"M 9.421875 54.6875 \nL 18.40625 54.6875 \nL 18.40625 0 \nL 9.421875 0 \nz\nM 9.421875 75.984375 \nL 18.40625 75.984375 \nL 18.40625 64.59375 \nL 9.421875 64.59375 \nz\n\" id=\"DejaVuSans-105\"/>\n      <path d=\"M 54.890625 33.015625 \nL 54.890625 0 \nL 45.90625 0 \nL 45.90625 32.71875 \nQ 45.90625 40.484375 42.875 44.328125 \nQ 39.84375 48.1875 33.796875 48.1875 \nQ 26.515625 48.1875 22.3125 43.546875 \nQ 18.109375 38.921875 18.109375 30.90625 \nL 18.109375 0 \nL 9.078125 0 \nL 9.078125 54.6875 \nL 18.109375 54.6875 \nL 18.109375 46.1875 \nQ 21.34375 51.125 25.703125 53.5625 \nQ 30.078125 56 35.796875 56 \nQ 45.21875 56 50.046875 50.171875 \nQ 54.890625 44.34375 54.890625 33.015625 \nz\n\" id=\"DejaVuSans-110\"/>\n      <path d=\"M 45.40625 27.984375 \nQ 45.40625 37.75 41.375 43.109375 \nQ 37.359375 48.484375 30.078125 48.484375 \nQ 22.859375 48.484375 18.828125 43.109375 \nQ 14.796875 37.75 14.796875 27.984375 \nQ 14.796875 18.265625 18.828125 12.890625 \nQ 22.859375 7.515625 30.078125 7.515625 \nQ 37.359375 7.515625 41.375 12.890625 \nQ 45.40625 18.265625 45.40625 27.984375 \nz\nM 54.390625 6.78125 \nQ 54.390625 -7.171875 48.1875 -13.984375 \nQ 42 -20.796875 29.203125 -20.796875 \nQ 24.46875 -20.796875 20.265625 -20.09375 \nQ 16.0625 -19.390625 12.109375 -17.921875 \nL 12.109375 -9.1875 \nQ 16.0625 -11.328125 19.921875 -12.34375 \nQ 23.78125 -13.375 27.78125 -13.375 \nQ 36.625 -13.375 41.015625 -8.765625 \nQ 45.40625 -4.15625 45.40625 5.171875 \nL 45.40625 9.625 \nQ 42.625 4.78125 38.28125 2.390625 \nQ 33.9375 0 27.875 0 \nQ 17.828125 0 11.671875 7.65625 \nQ 5.515625 15.328125 5.515625 27.984375 \nQ 5.515625 40.671875 11.671875 48.328125 \nQ 17.828125 56 27.875 56 \nQ 33.9375 56 38.28125 53.609375 \nQ 42.625 51.21875 45.40625 46.390625 \nL 45.40625 54.6875 \nL 54.390625 54.6875 \nz\n\" id=\"DejaVuSans-103\"/>\n     </defs>\n     <g transform=\"translate(543.4 38.916562)scale(0.1 -0.1)\">\n      <use xlink:href=\"#DejaVuSans-84\"/>\n      <use x=\"46.333984\" xlink:href=\"#DejaVuSans-114\"/>\n      <use x=\"87.447266\" xlink:href=\"#DejaVuSans-97\"/>\n      <use x=\"148.726562\" xlink:href=\"#DejaVuSans-105\"/>\n      <use x=\"176.509766\" xlink:href=\"#DejaVuSans-110\"/>\n      <use x=\"239.888672\" xlink:href=\"#DejaVuSans-105\"/>\n      <use x=\"267.671875\" xlink:href=\"#DejaVuSans-110\"/>\n      <use x=\"331.050781\" xlink:href=\"#DejaVuSans-103\"/>\n     </g>\n    </g>\n    <g id=\"line2d_18\">\n     <path d=\"M 515.4 50.094688 \nL 535.4 50.094688 \n\" style=\"fill:none;stroke:#ff7f0e;stroke-linecap:square;stroke-width:1.5;\"/>\n    </g>\n    <g id=\"line2d_19\"/>\n    <g id=\"text_18\">\n     <!-- Validation -->\n     <defs>\n      <path d=\"M 28.609375 0 \nL 0.78125 72.90625 \nL 11.078125 72.90625 \nL 34.1875 11.53125 \nL 57.328125 72.90625 \nL 67.578125 72.90625 \nL 39.796875 0 \nz\n\" id=\"DejaVuSans-86\"/>\n      <path d=\"M 9.421875 75.984375 \nL 18.40625 75.984375 \nL 18.40625 0 \nL 9.421875 0 \nz\n\" id=\"DejaVuSans-108\"/>\n      <path d=\"M 45.40625 46.390625 \nL 45.40625 75.984375 \nL 54.390625 75.984375 \nL 54.390625 0 \nL 45.40625 0 \nL 45.40625 8.203125 \nQ 42.578125 3.328125 38.25 0.953125 \nQ 33.9375 -1.421875 27.875 -1.421875 \nQ 17.96875 -1.421875 11.734375 6.484375 \nQ 5.515625 14.40625 5.515625 27.296875 \nQ 5.515625 40.1875 11.734375 48.09375 \nQ 17.96875 56 27.875 56 \nQ 33.9375 56 38.25 53.625 \nQ 42.578125 51.265625 45.40625 46.390625 \nz\nM 14.796875 27.296875 \nQ 14.796875 17.390625 18.875 11.75 \nQ 22.953125 6.109375 30.078125 6.109375 \nQ 37.203125 6.109375 41.296875 11.75 \nQ 45.40625 17.390625 45.40625 27.296875 \nQ 45.40625 37.203125 41.296875 42.84375 \nQ 37.203125 48.484375 30.078125 48.484375 \nQ 22.953125 48.484375 18.875 42.84375 \nQ 14.796875 37.203125 14.796875 27.296875 \nz\n\" id=\"DejaVuSans-100\"/>\n     </defs>\n     <g transform=\"translate(543.4 53.594688)scale(0.1 -0.1)\">\n      <use xlink:href=\"#DejaVuSans-86\"/>\n      <use x=\"60.658203\" xlink:href=\"#DejaVuSans-97\"/>\n      <use x=\"121.9375\" xlink:href=\"#DejaVuSans-108\"/>\n      <use x=\"149.720703\" xlink:href=\"#DejaVuSans-105\"/>\n      <use x=\"177.503906\" xlink:href=\"#DejaVuSans-100\"/>\n      <use x=\"240.980469\" xlink:href=\"#DejaVuSans-97\"/>\n      <use x=\"302.259766\" xlink:href=\"#DejaVuSans-116\"/>\n      <use x=\"341.46875\" xlink:href=\"#DejaVuSans-105\"/>\n      <use x=\"369.251953\" xlink:href=\"#DejaVuSans-111\"/>\n      <use x=\"430.433594\" xlink:href=\"#DejaVuSans-110\"/>\n     </g>\n    </g>\n   </g>\n  </g>\n </g>\n <defs>\n  <clipPath id=\"p6ddee99876\">\n   <rect height=\"271.8\" width=\"558\" x=\"43.78125\" y=\"22.318125\"/>\n  </clipPath>\n </defs>\n</svg>\n"
          },
          "metadata": {
            "needs_background": "light"
          }
        }
      ],
      "source": [
        "plt.figure(figsize=(10,5))\n",
        "plt.plot(history.history['loss'])\n",
        "plt.plot(history.history['val_loss'])\n",
        "plt.title('Loss vs. epochs, batch=' +str(batch_size))\n",
        "plt.ylabel('Loss')\n",
        "plt.xlabel('Epoch')\n",
        "plt.legend(['Training', 'Validation'], loc='upper right')\n",
        "plt.show()"
      ]
    },
    {
      "cell_type": "markdown",
      "id": "d58d23e3-89c6-4596-80d3-33b98d895eb1",
      "metadata": {
        "id": "d58d23e3-89c6-4596-80d3-33b98d895eb1"
      },
      "source": [
        "10. **What effect does changing batch size have on learning in terms of convergence and fluctuations?**\n",
        "\n",
        "**Answer:** Increasing batch size decreases fluctuations and the model  converges faster"
      ]
    },
    {
      "cell_type": "markdown",
      "id": "ac0b0cdb-78c2-4239-bbb9-4bea511b52b1",
      "metadata": {
        "jp-MarkdownHeadingCollapsed": true,
        "tags": [],
        "id": "ac0b0cdb-78c2-4239-bbb9-4bea511b52b1"
      },
      "source": [
        "#### Learning Rate"
      ]
    },
    {
      "cell_type": "markdown",
      "id": "c7be280d-068a-4695-b716-c1ef97d4d6f4",
      "metadata": {
        "id": "c7be280d-068a-4695-b716-c1ef97d4d6f4"
      },
      "source": [
        "batch size 64"
      ]
    },
    {
      "cell_type": "markdown",
      "id": "2970cd51-b911-455a-b6c3-17f477415759",
      "metadata": {
        "id": "2970cd51-b911-455a-b6c3-17f477415759"
      },
      "source": [
        "- **Use same code for build_model above, add an argument learning rate to change learning rate of optmizer**"
      ]
    },
    {
      "cell_type": "code",
      "execution_count": 146,
      "id": "939ebb69-e520-4d68-9fa7-ce00f0257629",
      "metadata": {
        "id": "939ebb69-e520-4d68-9fa7-ce00f0257629"
      },
      "outputs": [],
      "source": [
        "def build_model(lr):\n",
        "    \n",
        "    ##### YOUR CODE HERE\n",
        "    # define model\n",
        "    model = Sequential()\n",
        "    model.add(Dense(50, kernel_initializer=tf.keras.initializers.HeUniform() ,  activation='relu'))\n",
        "    model.add(Dense(3, activation='sigmoid' ))\n",
        "\n",
        "    # compile model\n",
        "    model.compile(loss='categorical_crossentropy',\n",
        "                  optimizer=tf.keras.optimizers.SGD(learning_rate=lr, momentum=0.9),\n",
        "                   metrics=['accuracy'])    \n",
        "\n",
        "    return model"
      ]
    },
    {
      "cell_type": "markdown",
      "id": "72f1ebf6-5bcb-4e2b-bee7-3eb282fd88b1",
      "metadata": {
        "id": "72f1ebf6-5bcb-4e2b-bee7-3eb282fd88b1"
      },
      "source": [
        "##### LR =  0.00001"
      ]
    },
    {
      "cell_type": "markdown",
      "id": "739eab80-d78f-4ca3-9992-42096088cf7a",
      "metadata": {
        "id": "739eab80-d78f-4ca3-9992-42096088cf7a"
      },
      "source": [
        "10. **Retrain for 0.00001 LR**"
      ]
    },
    {
      "cell_type": "code",
      "execution_count": 149,
      "id": "fb2ad280-97f1-4c16-9aad-d99c96780472",
      "metadata": {
        "tags": [],
        "id": "fb2ad280-97f1-4c16-9aad-d99c96780472",
        "colab": {
          "base_uri": "https://localhost:8080/"
        },
        "outputId": "aa3f1a3e-9d82-413b-de6c-1cfa19d80d13"
      },
      "outputs": [
        {
          "output_type": "stream",
          "name": "stdout",
          "text": [
            "Epoch 1/125\n",
            "8/8 [==============================] - 0s 24ms/step - loss: 3.3386 - accuracy: 0.2620 - val_loss: 3.1603 - val_accuracy: 0.2680\n",
            "Epoch 2/125\n",
            "8/8 [==============================] - 0s 8ms/step - loss: 3.2402 - accuracy: 0.2720 - val_loss: 3.0548 - val_accuracy: 0.2860\n",
            "Epoch 3/125\n",
            "8/8 [==============================] - 0s 8ms/step - loss: 3.1207 - accuracy: 0.3140 - val_loss: 2.9525 - val_accuracy: 0.3480\n",
            "Epoch 4/125\n",
            "8/8 [==============================] - 0s 8ms/step - loss: 3.0179 - accuracy: 0.3620 - val_loss: 2.8601 - val_accuracy: 0.3660\n",
            "Epoch 5/125\n",
            "8/8 [==============================] - 0s 7ms/step - loss: 2.9187 - accuracy: 0.3760 - val_loss: 2.7804 - val_accuracy: 0.3680\n",
            "Epoch 6/125\n",
            "8/8 [==============================] - 0s 7ms/step - loss: 2.8379 - accuracy: 0.3820 - val_loss: 2.7018 - val_accuracy: 0.3660\n",
            "Epoch 7/125\n",
            "8/8 [==============================] - 0s 7ms/step - loss: 2.7556 - accuracy: 0.3860 - val_loss: 2.6259 - val_accuracy: 0.3720\n",
            "Epoch 8/125\n",
            "8/8 [==============================] - 0s 7ms/step - loss: 2.6738 - accuracy: 0.3860 - val_loss: 2.5520 - val_accuracy: 0.3920\n",
            "Epoch 9/125\n",
            "8/8 [==============================] - 0s 7ms/step - loss: 2.5933 - accuracy: 0.3900 - val_loss: 2.4798 - val_accuracy: 0.3920\n",
            "Epoch 10/125\n",
            "8/8 [==============================] - 0s 8ms/step - loss: 2.5136 - accuracy: 0.3920 - val_loss: 2.4085 - val_accuracy: 0.4120\n",
            "Epoch 11/125\n",
            "8/8 [==============================] - 0s 7ms/step - loss: 2.4385 - accuracy: 0.4060 - val_loss: 2.3360 - val_accuracy: 0.4220\n",
            "Epoch 12/125\n",
            "8/8 [==============================] - 0s 7ms/step - loss: 2.3608 - accuracy: 0.4060 - val_loss: 2.2646 - val_accuracy: 0.4260\n",
            "Epoch 13/125\n",
            "8/8 [==============================] - 0s 8ms/step - loss: 2.2818 - accuracy: 0.4080 - val_loss: 2.1961 - val_accuracy: 0.4300\n",
            "Epoch 14/125\n",
            "8/8 [==============================] - 0s 9ms/step - loss: 2.2089 - accuracy: 0.4060 - val_loss: 2.1267 - val_accuracy: 0.4300\n",
            "Epoch 15/125\n",
            "8/8 [==============================] - 0s 8ms/step - loss: 2.1346 - accuracy: 0.4080 - val_loss: 2.0590 - val_accuracy: 0.4360\n",
            "Epoch 16/125\n",
            "8/8 [==============================] - 0s 8ms/step - loss: 2.0600 - accuracy: 0.4100 - val_loss: 1.9937 - val_accuracy: 0.4440\n",
            "Epoch 17/125\n",
            "8/8 [==============================] - 0s 7ms/step - loss: 1.9910 - accuracy: 0.4100 - val_loss: 1.9281 - val_accuracy: 0.4460\n",
            "Epoch 18/125\n",
            "8/8 [==============================] - 0s 8ms/step - loss: 1.9199 - accuracy: 0.4100 - val_loss: 1.8657 - val_accuracy: 0.4460\n",
            "Epoch 19/125\n",
            "8/8 [==============================] - 0s 7ms/step - loss: 1.8534 - accuracy: 0.4120 - val_loss: 1.8046 - val_accuracy: 0.4500\n",
            "Epoch 20/125\n",
            "8/8 [==============================] - 0s 8ms/step - loss: 1.7863 - accuracy: 0.4120 - val_loss: 1.7468 - val_accuracy: 0.4500\n",
            "Epoch 21/125\n",
            "8/8 [==============================] - 0s 7ms/step - loss: 1.7237 - accuracy: 0.4140 - val_loss: 1.6909 - val_accuracy: 0.4500\n",
            "Epoch 22/125\n",
            "8/8 [==============================] - 0s 7ms/step - loss: 1.6644 - accuracy: 0.4160 - val_loss: 1.6373 - val_accuracy: 0.4500\n",
            "Epoch 23/125\n",
            "8/8 [==============================] - 0s 7ms/step - loss: 1.6110 - accuracy: 0.4200 - val_loss: 1.5850 - val_accuracy: 0.4480\n",
            "Epoch 24/125\n",
            "8/8 [==============================] - 0s 9ms/step - loss: 1.5572 - accuracy: 0.4220 - val_loss: 1.5378 - val_accuracy: 0.4520\n",
            "Epoch 25/125\n",
            "8/8 [==============================] - 0s 7ms/step - loss: 1.5065 - accuracy: 0.4220 - val_loss: 1.4964 - val_accuracy: 0.4560\n",
            "Epoch 26/125\n",
            "8/8 [==============================] - 0s 7ms/step - loss: 1.4631 - accuracy: 0.4240 - val_loss: 1.4591 - val_accuracy: 0.4560\n",
            "Epoch 27/125\n",
            "8/8 [==============================] - 0s 8ms/step - loss: 1.4258 - accuracy: 0.4240 - val_loss: 1.4254 - val_accuracy: 0.4540\n",
            "Epoch 28/125\n",
            "8/8 [==============================] - 0s 8ms/step - loss: 1.3905 - accuracy: 0.4180 - val_loss: 1.3970 - val_accuracy: 0.4560\n",
            "Epoch 29/125\n",
            "8/8 [==============================] - 0s 7ms/step - loss: 1.3618 - accuracy: 0.4160 - val_loss: 1.3719 - val_accuracy: 0.4580\n",
            "Epoch 30/125\n",
            "8/8 [==============================] - 0s 8ms/step - loss: 1.3372 - accuracy: 0.4140 - val_loss: 1.3499 - val_accuracy: 0.4640\n",
            "Epoch 31/125\n",
            "8/8 [==============================] - 0s 8ms/step - loss: 1.3169 - accuracy: 0.4200 - val_loss: 1.3301 - val_accuracy: 0.4560\n",
            "Epoch 32/125\n",
            "8/8 [==============================] - 0s 8ms/step - loss: 1.2975 - accuracy: 0.4240 - val_loss: 1.3126 - val_accuracy: 0.4580\n",
            "Epoch 33/125\n",
            "8/8 [==============================] - 0s 7ms/step - loss: 1.2809 - accuracy: 0.4220 - val_loss: 1.2965 - val_accuracy: 0.4600\n",
            "Epoch 34/125\n",
            "8/8 [==============================] - 0s 7ms/step - loss: 1.2662 - accuracy: 0.4280 - val_loss: 1.2818 - val_accuracy: 0.4620\n",
            "Epoch 35/125\n",
            "8/8 [==============================] - 0s 7ms/step - loss: 1.2528 - accuracy: 0.4320 - val_loss: 1.2678 - val_accuracy: 0.4620\n",
            "Epoch 36/125\n",
            "8/8 [==============================] - 0s 7ms/step - loss: 1.2401 - accuracy: 0.4320 - val_loss: 1.2544 - val_accuracy: 0.4600\n",
            "Epoch 37/125\n",
            "8/8 [==============================] - 0s 7ms/step - loss: 1.2282 - accuracy: 0.4360 - val_loss: 1.2415 - val_accuracy: 0.4600\n",
            "Epoch 38/125\n",
            "8/8 [==============================] - 0s 7ms/step - loss: 1.2167 - accuracy: 0.4260 - val_loss: 1.2294 - val_accuracy: 0.4600\n",
            "Epoch 39/125\n",
            "8/8 [==============================] - 0s 8ms/step - loss: 1.2062 - accuracy: 0.4240 - val_loss: 1.2172 - val_accuracy: 0.4560\n",
            "Epoch 40/125\n",
            "8/8 [==============================] - 0s 8ms/step - loss: 1.1956 - accuracy: 0.4200 - val_loss: 1.2055 - val_accuracy: 0.4560\n",
            "Epoch 41/125\n",
            "8/8 [==============================] - 0s 7ms/step - loss: 1.1854 - accuracy: 0.4260 - val_loss: 1.1943 - val_accuracy: 0.4540\n",
            "Epoch 42/125\n",
            "8/8 [==============================] - 0s 7ms/step - loss: 1.1758 - accuracy: 0.4240 - val_loss: 1.1832 - val_accuracy: 0.4560\n",
            "Epoch 43/125\n",
            "8/8 [==============================] - 0s 8ms/step - loss: 1.1662 - accuracy: 0.4260 - val_loss: 1.1724 - val_accuracy: 0.4600\n",
            "Epoch 44/125\n",
            "8/8 [==============================] - 0s 7ms/step - loss: 1.1573 - accuracy: 0.4260 - val_loss: 1.1617 - val_accuracy: 0.4580\n",
            "Epoch 45/125\n",
            "8/8 [==============================] - 0s 7ms/step - loss: 1.1482 - accuracy: 0.4260 - val_loss: 1.1513 - val_accuracy: 0.4560\n",
            "Epoch 46/125\n",
            "8/8 [==============================] - 0s 8ms/step - loss: 1.1395 - accuracy: 0.4260 - val_loss: 1.1413 - val_accuracy: 0.4560\n",
            "Epoch 47/125\n",
            "8/8 [==============================] - 0s 8ms/step - loss: 1.1309 - accuracy: 0.4260 - val_loss: 1.1316 - val_accuracy: 0.4560\n",
            "Epoch 48/125\n",
            "8/8 [==============================] - 0s 14ms/step - loss: 1.1228 - accuracy: 0.4240 - val_loss: 1.1223 - val_accuracy: 0.4560\n",
            "Epoch 49/125\n",
            "8/8 [==============================] - 0s 8ms/step - loss: 1.1149 - accuracy: 0.4260 - val_loss: 1.1131 - val_accuracy: 0.4560\n",
            "Epoch 50/125\n",
            "8/8 [==============================] - 0s 9ms/step - loss: 1.1070 - accuracy: 0.4320 - val_loss: 1.1038 - val_accuracy: 0.4580\n",
            "Epoch 51/125\n",
            "8/8 [==============================] - 0s 7ms/step - loss: 1.0991 - accuracy: 0.4320 - val_loss: 1.0950 - val_accuracy: 0.4620\n",
            "Epoch 52/125\n",
            "8/8 [==============================] - 0s 7ms/step - loss: 1.0920 - accuracy: 0.4320 - val_loss: 1.0862 - val_accuracy: 0.4600\n",
            "Epoch 53/125\n",
            "8/8 [==============================] - 0s 7ms/step - loss: 1.0844 - accuracy: 0.4320 - val_loss: 1.0780 - val_accuracy: 0.4620\n",
            "Epoch 54/125\n",
            "8/8 [==============================] - 0s 8ms/step - loss: 1.0776 - accuracy: 0.4340 - val_loss: 1.0698 - val_accuracy: 0.4620\n",
            "Epoch 55/125\n",
            "8/8 [==============================] - 0s 8ms/step - loss: 1.0708 - accuracy: 0.4360 - val_loss: 1.0617 - val_accuracy: 0.4620\n",
            "Epoch 56/125\n",
            "8/8 [==============================] - 0s 8ms/step - loss: 1.0639 - accuracy: 0.4360 - val_loss: 1.0537 - val_accuracy: 0.4680\n",
            "Epoch 57/125\n",
            "8/8 [==============================] - 0s 8ms/step - loss: 1.0573 - accuracy: 0.4320 - val_loss: 1.0462 - val_accuracy: 0.4680\n",
            "Epoch 58/125\n",
            "8/8 [==============================] - 0s 7ms/step - loss: 1.0509 - accuracy: 0.4360 - val_loss: 1.0388 - val_accuracy: 0.4620\n",
            "Epoch 59/125\n",
            "8/8 [==============================] - 0s 7ms/step - loss: 1.0448 - accuracy: 0.4380 - val_loss: 1.0315 - val_accuracy: 0.4640\n",
            "Epoch 60/125\n",
            "8/8 [==============================] - 0s 9ms/step - loss: 1.0386 - accuracy: 0.4400 - val_loss: 1.0245 - val_accuracy: 0.4620\n",
            "Epoch 61/125\n",
            "8/8 [==============================] - 0s 8ms/step - loss: 1.0331 - accuracy: 0.4400 - val_loss: 1.0175 - val_accuracy: 0.4700\n",
            "Epoch 62/125\n",
            "8/8 [==============================] - 0s 7ms/step - loss: 1.0270 - accuracy: 0.4360 - val_loss: 1.0108 - val_accuracy: 0.4700\n",
            "Epoch 63/125\n",
            "8/8 [==============================] - 0s 8ms/step - loss: 1.0215 - accuracy: 0.4360 - val_loss: 1.0043 - val_accuracy: 0.4700\n",
            "Epoch 64/125\n",
            "8/8 [==============================] - 0s 7ms/step - loss: 1.0161 - accuracy: 0.4400 - val_loss: 0.9978 - val_accuracy: 0.4700\n",
            "Epoch 65/125\n",
            "8/8 [==============================] - 0s 9ms/step - loss: 1.0107 - accuracy: 0.4380 - val_loss: 0.9915 - val_accuracy: 0.4720\n",
            "Epoch 66/125\n",
            "8/8 [==============================] - 0s 8ms/step - loss: 1.0057 - accuracy: 0.4380 - val_loss: 0.9855 - val_accuracy: 0.4740\n",
            "Epoch 67/125\n",
            "8/8 [==============================] - 0s 8ms/step - loss: 1.0005 - accuracy: 0.4380 - val_loss: 0.9797 - val_accuracy: 0.4740\n",
            "Epoch 68/125\n",
            "8/8 [==============================] - 0s 8ms/step - loss: 0.9956 - accuracy: 0.4400 - val_loss: 0.9740 - val_accuracy: 0.4740\n",
            "Epoch 69/125\n",
            "8/8 [==============================] - 0s 8ms/step - loss: 0.9908 - accuracy: 0.4400 - val_loss: 0.9683 - val_accuracy: 0.4740\n",
            "Epoch 70/125\n",
            "8/8 [==============================] - 0s 7ms/step - loss: 0.9862 - accuracy: 0.4420 - val_loss: 0.9627 - val_accuracy: 0.4780\n",
            "Epoch 71/125\n",
            "8/8 [==============================] - 0s 7ms/step - loss: 0.9816 - accuracy: 0.4460 - val_loss: 0.9575 - val_accuracy: 0.4820\n",
            "Epoch 72/125\n",
            "8/8 [==============================] - 0s 7ms/step - loss: 0.9772 - accuracy: 0.4480 - val_loss: 0.9522 - val_accuracy: 0.4820\n",
            "Epoch 73/125\n",
            "8/8 [==============================] - 0s 7ms/step - loss: 0.9729 - accuracy: 0.4520 - val_loss: 0.9470 - val_accuracy: 0.4980\n",
            "Epoch 74/125\n",
            "8/8 [==============================] - 0s 6ms/step - loss: 0.9687 - accuracy: 0.4580 - val_loss: 0.9421 - val_accuracy: 0.5040\n",
            "Epoch 75/125\n",
            "8/8 [==============================] - 0s 8ms/step - loss: 0.9646 - accuracy: 0.4620 - val_loss: 0.9372 - val_accuracy: 0.5040\n",
            "Epoch 76/125\n",
            "8/8 [==============================] - 0s 9ms/step - loss: 0.9606 - accuracy: 0.4680 - val_loss: 0.9324 - val_accuracy: 0.5060\n",
            "Epoch 77/125\n",
            "8/8 [==============================] - 0s 8ms/step - loss: 0.9566 - accuracy: 0.4700 - val_loss: 0.9278 - val_accuracy: 0.5060\n",
            "Epoch 78/125\n",
            "8/8 [==============================] - 0s 8ms/step - loss: 0.9529 - accuracy: 0.4720 - val_loss: 0.9233 - val_accuracy: 0.5080\n",
            "Epoch 79/125\n",
            "8/8 [==============================] - 0s 8ms/step - loss: 0.9492 - accuracy: 0.4820 - val_loss: 0.9190 - val_accuracy: 0.5160\n",
            "Epoch 80/125\n",
            "8/8 [==============================] - 0s 8ms/step - loss: 0.9456 - accuracy: 0.4880 - val_loss: 0.9146 - val_accuracy: 0.5180\n",
            "Epoch 81/125\n",
            "8/8 [==============================] - 0s 7ms/step - loss: 0.9419 - accuracy: 0.4900 - val_loss: 0.9105 - val_accuracy: 0.5300\n",
            "Epoch 82/125\n",
            "8/8 [==============================] - 0s 8ms/step - loss: 0.9388 - accuracy: 0.4960 - val_loss: 0.9063 - val_accuracy: 0.5340\n",
            "Epoch 83/125\n",
            "8/8 [==============================] - 0s 7ms/step - loss: 0.9352 - accuracy: 0.5080 - val_loss: 0.9023 - val_accuracy: 0.5420\n",
            "Epoch 84/125\n",
            "8/8 [==============================] - 0s 8ms/step - loss: 0.9319 - accuracy: 0.5080 - val_loss: 0.8983 - val_accuracy: 0.5400\n",
            "Epoch 85/125\n",
            "8/8 [==============================] - 0s 8ms/step - loss: 0.9286 - accuracy: 0.5100 - val_loss: 0.8945 - val_accuracy: 0.5440\n",
            "Epoch 86/125\n",
            "8/8 [==============================] - 0s 7ms/step - loss: 0.9256 - accuracy: 0.5120 - val_loss: 0.8907 - val_accuracy: 0.5440\n",
            "Epoch 87/125\n",
            "8/8 [==============================] - 0s 8ms/step - loss: 0.9226 - accuracy: 0.5120 - val_loss: 0.8872 - val_accuracy: 0.5480\n",
            "Epoch 88/125\n",
            "8/8 [==============================] - 0s 8ms/step - loss: 0.9195 - accuracy: 0.5140 - val_loss: 0.8837 - val_accuracy: 0.5500\n",
            "Epoch 89/125\n",
            "8/8 [==============================] - 0s 7ms/step - loss: 0.9166 - accuracy: 0.5160 - val_loss: 0.8803 - val_accuracy: 0.5540\n",
            "Epoch 90/125\n",
            "8/8 [==============================] - 0s 7ms/step - loss: 0.9138 - accuracy: 0.5160 - val_loss: 0.8768 - val_accuracy: 0.5540\n",
            "Epoch 91/125\n",
            "8/8 [==============================] - 0s 14ms/step - loss: 0.9111 - accuracy: 0.5160 - val_loss: 0.8734 - val_accuracy: 0.5540\n",
            "Epoch 92/125\n",
            "8/8 [==============================] - 0s 8ms/step - loss: 0.9083 - accuracy: 0.5140 - val_loss: 0.8702 - val_accuracy: 0.5560\n",
            "Epoch 93/125\n",
            "8/8 [==============================] - 0s 8ms/step - loss: 0.9056 - accuracy: 0.5140 - val_loss: 0.8671 - val_accuracy: 0.5580\n",
            "Epoch 94/125\n",
            "8/8 [==============================] - 0s 8ms/step - loss: 0.9029 - accuracy: 0.5180 - val_loss: 0.8639 - val_accuracy: 0.5560\n",
            "Epoch 95/125\n",
            "8/8 [==============================] - 0s 8ms/step - loss: 0.9005 - accuracy: 0.5200 - val_loss: 0.8608 - val_accuracy: 0.5560\n",
            "Epoch 96/125\n",
            "8/8 [==============================] - 0s 8ms/step - loss: 0.8979 - accuracy: 0.5300 - val_loss: 0.8579 - val_accuracy: 0.5560\n",
            "Epoch 97/125\n",
            "8/8 [==============================] - 0s 7ms/step - loss: 0.8954 - accuracy: 0.5320 - val_loss: 0.8550 - val_accuracy: 0.5540\n",
            "Epoch 98/125\n",
            "8/8 [==============================] - 0s 7ms/step - loss: 0.8930 - accuracy: 0.5340 - val_loss: 0.8523 - val_accuracy: 0.5560\n",
            "Epoch 99/125\n",
            "8/8 [==============================] - 0s 8ms/step - loss: 0.8906 - accuracy: 0.5340 - val_loss: 0.8496 - val_accuracy: 0.5580\n",
            "Epoch 100/125\n",
            "8/8 [==============================] - 0s 8ms/step - loss: 0.8884 - accuracy: 0.5340 - val_loss: 0.8468 - val_accuracy: 0.5620\n",
            "Epoch 101/125\n",
            "8/8 [==============================] - 0s 7ms/step - loss: 0.8862 - accuracy: 0.5340 - val_loss: 0.8440 - val_accuracy: 0.5660\n",
            "Epoch 102/125\n",
            "8/8 [==============================] - 0s 7ms/step - loss: 0.8839 - accuracy: 0.5340 - val_loss: 0.8416 - val_accuracy: 0.5660\n",
            "Epoch 103/125\n",
            "8/8 [==============================] - 0s 7ms/step - loss: 0.8819 - accuracy: 0.5340 - val_loss: 0.8389 - val_accuracy: 0.5680\n",
            "Epoch 104/125\n",
            "8/8 [==============================] - 0s 7ms/step - loss: 0.8798 - accuracy: 0.5360 - val_loss: 0.8364 - val_accuracy: 0.5680\n",
            "Epoch 105/125\n",
            "8/8 [==============================] - 0s 8ms/step - loss: 0.8777 - accuracy: 0.5380 - val_loss: 0.8340 - val_accuracy: 0.5660\n",
            "Epoch 106/125\n",
            "8/8 [==============================] - 0s 14ms/step - loss: 0.8755 - accuracy: 0.5360 - val_loss: 0.8317 - val_accuracy: 0.5660\n",
            "Epoch 107/125\n",
            "8/8 [==============================] - 0s 8ms/step - loss: 0.8736 - accuracy: 0.5400 - val_loss: 0.8293 - val_accuracy: 0.5700\n",
            "Epoch 108/125\n",
            "8/8 [==============================] - 0s 8ms/step - loss: 0.8716 - accuracy: 0.5380 - val_loss: 0.8270 - val_accuracy: 0.5720\n",
            "Epoch 109/125\n",
            "8/8 [==============================] - 0s 7ms/step - loss: 0.8696 - accuracy: 0.5420 - val_loss: 0.8248 - val_accuracy: 0.5720\n",
            "Epoch 110/125\n",
            "8/8 [==============================] - 0s 8ms/step - loss: 0.8678 - accuracy: 0.5440 - val_loss: 0.8226 - val_accuracy: 0.5720\n",
            "Epoch 111/125\n",
            "8/8 [==============================] - 0s 8ms/step - loss: 0.8661 - accuracy: 0.5500 - val_loss: 0.8205 - val_accuracy: 0.5840\n",
            "Epoch 112/125\n",
            "8/8 [==============================] - 0s 7ms/step - loss: 0.8642 - accuracy: 0.5500 - val_loss: 0.8183 - val_accuracy: 0.5840\n",
            "Epoch 113/125\n",
            "8/8 [==============================] - 0s 7ms/step - loss: 0.8625 - accuracy: 0.5500 - val_loss: 0.8162 - val_accuracy: 0.5860\n",
            "Epoch 114/125\n",
            "8/8 [==============================] - 0s 8ms/step - loss: 0.8607 - accuracy: 0.5520 - val_loss: 0.8142 - val_accuracy: 0.5860\n",
            "Epoch 115/125\n",
            "8/8 [==============================] - 0s 7ms/step - loss: 0.8589 - accuracy: 0.5520 - val_loss: 0.8123 - val_accuracy: 0.5880\n",
            "Epoch 116/125\n",
            "8/8 [==============================] - 0s 7ms/step - loss: 0.8572 - accuracy: 0.5520 - val_loss: 0.8103 - val_accuracy: 0.5880\n",
            "Epoch 117/125\n",
            "8/8 [==============================] - 0s 7ms/step - loss: 0.8557 - accuracy: 0.5520 - val_loss: 0.8085 - val_accuracy: 0.5880\n",
            "Epoch 118/125\n",
            "8/8 [==============================] - 0s 8ms/step - loss: 0.8540 - accuracy: 0.5520 - val_loss: 0.8067 - val_accuracy: 0.5860\n",
            "Epoch 119/125\n",
            "8/8 [==============================] - 0s 8ms/step - loss: 0.8525 - accuracy: 0.5520 - val_loss: 0.8048 - val_accuracy: 0.5840\n",
            "Epoch 120/125\n",
            "8/8 [==============================] - 0s 7ms/step - loss: 0.8509 - accuracy: 0.5520 - val_loss: 0.8030 - val_accuracy: 0.5860\n",
            "Epoch 121/125\n",
            "8/8 [==============================] - 0s 9ms/step - loss: 0.8494 - accuracy: 0.5540 - val_loss: 0.8013 - val_accuracy: 0.5900\n",
            "Epoch 122/125\n",
            "8/8 [==============================] - 0s 7ms/step - loss: 0.8478 - accuracy: 0.5520 - val_loss: 0.7996 - val_accuracy: 0.5940\n",
            "Epoch 123/125\n",
            "8/8 [==============================] - 0s 9ms/step - loss: 0.8465 - accuracy: 0.5520 - val_loss: 0.7979 - val_accuracy: 0.5960\n",
            "Epoch 124/125\n",
            "8/8 [==============================] - 0s 7ms/step - loss: 0.8449 - accuracy: 0.5520 - val_loss: 0.7962 - val_accuracy: 0.5960\n",
            "Epoch 125/125\n",
            "8/8 [==============================] - 0s 9ms/step - loss: 0.8435 - accuracy: 0.5540 - val_loss: 0.7946 - val_accuracy: 0.6000\n"
          ]
        }
      ],
      "source": [
        "### START CODE HERE ### ()\n",
        "model = build_model(0.00001)\n",
        "history = model.fit(X_train,y_train,validation_data=(X_test, y_test),batch_size = 64,epochs = 125)\n",
        "# Print the model summary\n"
      ]
    },
    {
      "cell_type": "code",
      "execution_count": 150,
      "id": "6f5e459c-4f1e-4bf3-88d7-3a7af2f789eb",
      "metadata": {
        "id": "6f5e459c-4f1e-4bf3-88d7-3a7af2f789eb",
        "colab": {
          "base_uri": "https://localhost:8080/",
          "height": 464
        },
        "outputId": "abdf88a0-73ac-4ae0-a6e9-9d746ac2e43d"
      },
      "outputs": [
        {
          "output_type": "display_data",
          "data": {
            "text/plain": [
              "<Figure size 720x360 with 1 Axes>"
            ],
            "image/svg+xml": "<?xml version=\"1.0\" encoding=\"utf-8\" standalone=\"no\"?>\n<!DOCTYPE svg PUBLIC \"-//W3C//DTD SVG 1.1//EN\"\n  \"http://www.w3.org/Graphics/SVG/1.1/DTD/svg11.dtd\">\n<!-- Created with matplotlib (https://matplotlib.org/) -->\n<svg height=\"331.674375pt\" version=\"1.1\" viewBox=\"0 0 608.98125 331.674375\" width=\"608.98125pt\" xmlns=\"http://www.w3.org/2000/svg\" xmlns:xlink=\"http://www.w3.org/1999/xlink\">\n <defs>\n  <style type=\"text/css\">\n*{stroke-linecap:butt;stroke-linejoin:round;}\n  </style>\n </defs>\n <g id=\"figure_1\">\n  <g id=\"patch_1\">\n   <path d=\"M 0 331.674375 \nL 608.98125 331.674375 \nL 608.98125 0 \nL 0 0 \nz\n\" style=\"fill:none;\"/>\n  </g>\n  <g id=\"axes_1\">\n   <g id=\"patch_2\">\n    <path d=\"M 43.78125 294.118125 \nL 601.78125 294.118125 \nL 601.78125 22.318125 \nL 43.78125 22.318125 \nz\n\" style=\"fill:#ffffff;\"/>\n   </g>\n   <g id=\"matplotlib.axis_1\">\n    <g id=\"xtick_1\">\n     <g id=\"line2d_1\">\n      <defs>\n       <path d=\"M 0 0 \nL 0 3.5 \n\" id=\"m409885871f\" style=\"stroke:#000000;stroke-width:0.8;\"/>\n      </defs>\n      <g>\n       <use style=\"stroke:#000000;stroke-width:0.8;\" x=\"69.144886\" xlink:href=\"#m409885871f\" y=\"294.118125\"/>\n      </g>\n     </g>\n     <g id=\"text_1\">\n      <!-- 0 -->\n      <defs>\n       <path d=\"M 31.78125 66.40625 \nQ 24.171875 66.40625 20.328125 58.90625 \nQ 16.5 51.421875 16.5 36.375 \nQ 16.5 21.390625 20.328125 13.890625 \nQ 24.171875 6.390625 31.78125 6.390625 \nQ 39.453125 6.390625 43.28125 13.890625 \nQ 47.125 21.390625 47.125 36.375 \nQ 47.125 51.421875 43.28125 58.90625 \nQ 39.453125 66.40625 31.78125 66.40625 \nz\nM 31.78125 74.21875 \nQ 44.046875 74.21875 50.515625 64.515625 \nQ 56.984375 54.828125 56.984375 36.375 \nQ 56.984375 17.96875 50.515625 8.265625 \nQ 44.046875 -1.421875 31.78125 -1.421875 \nQ 19.53125 -1.421875 13.0625 8.265625 \nQ 6.59375 17.96875 6.59375 36.375 \nQ 6.59375 54.828125 13.0625 64.515625 \nQ 19.53125 74.21875 31.78125 74.21875 \nz\n\" id=\"DejaVuSans-48\"/>\n      </defs>\n      <g transform=\"translate(65.963636 308.716563)scale(0.1 -0.1)\">\n       <use xlink:href=\"#DejaVuSans-48\"/>\n      </g>\n     </g>\n    </g>\n    <g id=\"xtick_2\">\n     <g id=\"line2d_2\">\n      <g>\n       <use style=\"stroke:#000000;stroke-width:0.8;\" x=\"150.963068\" xlink:href=\"#m409885871f\" y=\"294.118125\"/>\n      </g>\n     </g>\n     <g id=\"text_2\">\n      <!-- 20 -->\n      <defs>\n       <path d=\"M 19.1875 8.296875 \nL 53.609375 8.296875 \nL 53.609375 0 \nL 7.328125 0 \nL 7.328125 8.296875 \nQ 12.9375 14.109375 22.625 23.890625 \nQ 32.328125 33.6875 34.8125 36.53125 \nQ 39.546875 41.84375 41.421875 45.53125 \nQ 43.3125 49.21875 43.3125 52.78125 \nQ 43.3125 58.59375 39.234375 62.25 \nQ 35.15625 65.921875 28.609375 65.921875 \nQ 23.96875 65.921875 18.8125 64.3125 \nQ 13.671875 62.703125 7.8125 59.421875 \nL 7.8125 69.390625 \nQ 13.765625 71.78125 18.9375 73 \nQ 24.125 74.21875 28.421875 74.21875 \nQ 39.75 74.21875 46.484375 68.546875 \nQ 53.21875 62.890625 53.21875 53.421875 \nQ 53.21875 48.921875 51.53125 44.890625 \nQ 49.859375 40.875 45.40625 35.40625 \nQ 44.1875 33.984375 37.640625 27.21875 \nQ 31.109375 20.453125 19.1875 8.296875 \nz\n\" id=\"DejaVuSans-50\"/>\n      </defs>\n      <g transform=\"translate(144.600568 308.716563)scale(0.1 -0.1)\">\n       <use xlink:href=\"#DejaVuSans-50\"/>\n       <use x=\"63.623047\" xlink:href=\"#DejaVuSans-48\"/>\n      </g>\n     </g>\n    </g>\n    <g id=\"xtick_3\">\n     <g id=\"line2d_3\">\n      <g>\n       <use style=\"stroke:#000000;stroke-width:0.8;\" x=\"232.78125\" xlink:href=\"#m409885871f\" y=\"294.118125\"/>\n      </g>\n     </g>\n     <g id=\"text_3\">\n      <!-- 40 -->\n      <defs>\n       <path d=\"M 37.796875 64.3125 \nL 12.890625 25.390625 \nL 37.796875 25.390625 \nz\nM 35.203125 72.90625 \nL 47.609375 72.90625 \nL 47.609375 25.390625 \nL 58.015625 25.390625 \nL 58.015625 17.1875 \nL 47.609375 17.1875 \nL 47.609375 0 \nL 37.796875 0 \nL 37.796875 17.1875 \nL 4.890625 17.1875 \nL 4.890625 26.703125 \nz\n\" id=\"DejaVuSans-52\"/>\n      </defs>\n      <g transform=\"translate(226.41875 308.716563)scale(0.1 -0.1)\">\n       <use xlink:href=\"#DejaVuSans-52\"/>\n       <use x=\"63.623047\" xlink:href=\"#DejaVuSans-48\"/>\n      </g>\n     </g>\n    </g>\n    <g id=\"xtick_4\">\n     <g id=\"line2d_4\">\n      <g>\n       <use style=\"stroke:#000000;stroke-width:0.8;\" x=\"314.599432\" xlink:href=\"#m409885871f\" y=\"294.118125\"/>\n      </g>\n     </g>\n     <g id=\"text_4\">\n      <!-- 60 -->\n      <defs>\n       <path d=\"M 33.015625 40.375 \nQ 26.375 40.375 22.484375 35.828125 \nQ 18.609375 31.296875 18.609375 23.390625 \nQ 18.609375 15.53125 22.484375 10.953125 \nQ 26.375 6.390625 33.015625 6.390625 \nQ 39.65625 6.390625 43.53125 10.953125 \nQ 47.40625 15.53125 47.40625 23.390625 \nQ 47.40625 31.296875 43.53125 35.828125 \nQ 39.65625 40.375 33.015625 40.375 \nz\nM 52.59375 71.296875 \nL 52.59375 62.3125 \nQ 48.875 64.0625 45.09375 64.984375 \nQ 41.3125 65.921875 37.59375 65.921875 \nQ 27.828125 65.921875 22.671875 59.328125 \nQ 17.53125 52.734375 16.796875 39.40625 \nQ 19.671875 43.65625 24.015625 45.921875 \nQ 28.375 48.1875 33.59375 48.1875 \nQ 44.578125 48.1875 50.953125 41.515625 \nQ 57.328125 34.859375 57.328125 23.390625 \nQ 57.328125 12.15625 50.6875 5.359375 \nQ 44.046875 -1.421875 33.015625 -1.421875 \nQ 20.359375 -1.421875 13.671875 8.265625 \nQ 6.984375 17.96875 6.984375 36.375 \nQ 6.984375 53.65625 15.1875 63.9375 \nQ 23.390625 74.21875 37.203125 74.21875 \nQ 40.921875 74.21875 44.703125 73.484375 \nQ 48.484375 72.75 52.59375 71.296875 \nz\n\" id=\"DejaVuSans-54\"/>\n      </defs>\n      <g transform=\"translate(308.236932 308.716563)scale(0.1 -0.1)\">\n       <use xlink:href=\"#DejaVuSans-54\"/>\n       <use x=\"63.623047\" xlink:href=\"#DejaVuSans-48\"/>\n      </g>\n     </g>\n    </g>\n    <g id=\"xtick_5\">\n     <g id=\"line2d_5\">\n      <g>\n       <use style=\"stroke:#000000;stroke-width:0.8;\" x=\"396.417614\" xlink:href=\"#m409885871f\" y=\"294.118125\"/>\n      </g>\n     </g>\n     <g id=\"text_5\">\n      <!-- 80 -->\n      <defs>\n       <path d=\"M 31.78125 34.625 \nQ 24.75 34.625 20.71875 30.859375 \nQ 16.703125 27.09375 16.703125 20.515625 \nQ 16.703125 13.921875 20.71875 10.15625 \nQ 24.75 6.390625 31.78125 6.390625 \nQ 38.8125 6.390625 42.859375 10.171875 \nQ 46.921875 13.96875 46.921875 20.515625 \nQ 46.921875 27.09375 42.890625 30.859375 \nQ 38.875 34.625 31.78125 34.625 \nz\nM 21.921875 38.8125 \nQ 15.578125 40.375 12.03125 44.71875 \nQ 8.5 49.078125 8.5 55.328125 \nQ 8.5 64.0625 14.71875 69.140625 \nQ 20.953125 74.21875 31.78125 74.21875 \nQ 42.671875 74.21875 48.875 69.140625 \nQ 55.078125 64.0625 55.078125 55.328125 \nQ 55.078125 49.078125 51.53125 44.71875 \nQ 48 40.375 41.703125 38.8125 \nQ 48.828125 37.15625 52.796875 32.3125 \nQ 56.78125 27.484375 56.78125 20.515625 \nQ 56.78125 9.90625 50.3125 4.234375 \nQ 43.84375 -1.421875 31.78125 -1.421875 \nQ 19.734375 -1.421875 13.25 4.234375 \nQ 6.78125 9.90625 6.78125 20.515625 \nQ 6.78125 27.484375 10.78125 32.3125 \nQ 14.796875 37.15625 21.921875 38.8125 \nz\nM 18.3125 54.390625 \nQ 18.3125 48.734375 21.84375 45.5625 \nQ 25.390625 42.390625 31.78125 42.390625 \nQ 38.140625 42.390625 41.71875 45.5625 \nQ 45.3125 48.734375 45.3125 54.390625 \nQ 45.3125 60.0625 41.71875 63.234375 \nQ 38.140625 66.40625 31.78125 66.40625 \nQ 25.390625 66.40625 21.84375 63.234375 \nQ 18.3125 60.0625 18.3125 54.390625 \nz\n\" id=\"DejaVuSans-56\"/>\n      </defs>\n      <g transform=\"translate(390.055114 308.716563)scale(0.1 -0.1)\">\n       <use xlink:href=\"#DejaVuSans-56\"/>\n       <use x=\"63.623047\" xlink:href=\"#DejaVuSans-48\"/>\n      </g>\n     </g>\n    </g>\n    <g id=\"xtick_6\">\n     <g id=\"line2d_6\">\n      <g>\n       <use style=\"stroke:#000000;stroke-width:0.8;\" x=\"478.235795\" xlink:href=\"#m409885871f\" y=\"294.118125\"/>\n      </g>\n     </g>\n     <g id=\"text_6\">\n      <!-- 100 -->\n      <defs>\n       <path d=\"M 12.40625 8.296875 \nL 28.515625 8.296875 \nL 28.515625 63.921875 \nL 10.984375 60.40625 \nL 10.984375 69.390625 \nL 28.421875 72.90625 \nL 38.28125 72.90625 \nL 38.28125 8.296875 \nL 54.390625 8.296875 \nL 54.390625 0 \nL 12.40625 0 \nz\n\" id=\"DejaVuSans-49\"/>\n      </defs>\n      <g transform=\"translate(468.692045 308.716563)scale(0.1 -0.1)\">\n       <use xlink:href=\"#DejaVuSans-49\"/>\n       <use x=\"63.623047\" xlink:href=\"#DejaVuSans-48\"/>\n       <use x=\"127.246094\" xlink:href=\"#DejaVuSans-48\"/>\n      </g>\n     </g>\n    </g>\n    <g id=\"xtick_7\">\n     <g id=\"line2d_7\">\n      <g>\n       <use style=\"stroke:#000000;stroke-width:0.8;\" x=\"560.053977\" xlink:href=\"#m409885871f\" y=\"294.118125\"/>\n      </g>\n     </g>\n     <g id=\"text_7\">\n      <!-- 120 -->\n      <g transform=\"translate(550.510227 308.716563)scale(0.1 -0.1)\">\n       <use xlink:href=\"#DejaVuSans-49\"/>\n       <use x=\"63.623047\" xlink:href=\"#DejaVuSans-50\"/>\n       <use x=\"127.246094\" xlink:href=\"#DejaVuSans-48\"/>\n      </g>\n     </g>\n    </g>\n    <g id=\"text_8\">\n     <!-- Epoch -->\n     <defs>\n      <path d=\"M 9.8125 72.90625 \nL 55.90625 72.90625 \nL 55.90625 64.59375 \nL 19.671875 64.59375 \nL 19.671875 43.015625 \nL 54.390625 43.015625 \nL 54.390625 34.71875 \nL 19.671875 34.71875 \nL 19.671875 8.296875 \nL 56.78125 8.296875 \nL 56.78125 0 \nL 9.8125 0 \nz\n\" id=\"DejaVuSans-69\"/>\n      <path d=\"M 18.109375 8.203125 \nL 18.109375 -20.796875 \nL 9.078125 -20.796875 \nL 9.078125 54.6875 \nL 18.109375 54.6875 \nL 18.109375 46.390625 \nQ 20.953125 51.265625 25.265625 53.625 \nQ 29.59375 56 35.59375 56 \nQ 45.5625 56 51.78125 48.09375 \nQ 58.015625 40.1875 58.015625 27.296875 \nQ 58.015625 14.40625 51.78125 6.484375 \nQ 45.5625 -1.421875 35.59375 -1.421875 \nQ 29.59375 -1.421875 25.265625 0.953125 \nQ 20.953125 3.328125 18.109375 8.203125 \nz\nM 48.6875 27.296875 \nQ 48.6875 37.203125 44.609375 42.84375 \nQ 40.53125 48.484375 33.40625 48.484375 \nQ 26.265625 48.484375 22.1875 42.84375 \nQ 18.109375 37.203125 18.109375 27.296875 \nQ 18.109375 17.390625 22.1875 11.75 \nQ 26.265625 6.109375 33.40625 6.109375 \nQ 40.53125 6.109375 44.609375 11.75 \nQ 48.6875 17.390625 48.6875 27.296875 \nz\n\" id=\"DejaVuSans-112\"/>\n      <path d=\"M 30.609375 48.390625 \nQ 23.390625 48.390625 19.1875 42.75 \nQ 14.984375 37.109375 14.984375 27.296875 \nQ 14.984375 17.484375 19.15625 11.84375 \nQ 23.34375 6.203125 30.609375 6.203125 \nQ 37.796875 6.203125 41.984375 11.859375 \nQ 46.1875 17.53125 46.1875 27.296875 \nQ 46.1875 37.015625 41.984375 42.703125 \nQ 37.796875 48.390625 30.609375 48.390625 \nz\nM 30.609375 56 \nQ 42.328125 56 49.015625 48.375 \nQ 55.71875 40.765625 55.71875 27.296875 \nQ 55.71875 13.875 49.015625 6.21875 \nQ 42.328125 -1.421875 30.609375 -1.421875 \nQ 18.84375 -1.421875 12.171875 6.21875 \nQ 5.515625 13.875 5.515625 27.296875 \nQ 5.515625 40.765625 12.171875 48.375 \nQ 18.84375 56 30.609375 56 \nz\n\" id=\"DejaVuSans-111\"/>\n      <path d=\"M 48.78125 52.59375 \nL 48.78125 44.1875 \nQ 44.96875 46.296875 41.140625 47.34375 \nQ 37.3125 48.390625 33.40625 48.390625 \nQ 24.65625 48.390625 19.8125 42.84375 \nQ 14.984375 37.3125 14.984375 27.296875 \nQ 14.984375 17.28125 19.8125 11.734375 \nQ 24.65625 6.203125 33.40625 6.203125 \nQ 37.3125 6.203125 41.140625 7.25 \nQ 44.96875 8.296875 48.78125 10.40625 \nL 48.78125 2.09375 \nQ 45.015625 0.34375 40.984375 -0.53125 \nQ 36.96875 -1.421875 32.421875 -1.421875 \nQ 20.0625 -1.421875 12.78125 6.34375 \nQ 5.515625 14.109375 5.515625 27.296875 \nQ 5.515625 40.671875 12.859375 48.328125 \nQ 20.21875 56 33.015625 56 \nQ 37.15625 56 41.109375 55.140625 \nQ 45.0625 54.296875 48.78125 52.59375 \nz\n\" id=\"DejaVuSans-99\"/>\n      <path d=\"M 54.890625 33.015625 \nL 54.890625 0 \nL 45.90625 0 \nL 45.90625 32.71875 \nQ 45.90625 40.484375 42.875 44.328125 \nQ 39.84375 48.1875 33.796875 48.1875 \nQ 26.515625 48.1875 22.3125 43.546875 \nQ 18.109375 38.921875 18.109375 30.90625 \nL 18.109375 0 \nL 9.078125 0 \nL 9.078125 75.984375 \nL 18.109375 75.984375 \nL 18.109375 46.1875 \nQ 21.34375 51.125 25.703125 53.5625 \nQ 30.078125 56 35.796875 56 \nQ 45.21875 56 50.046875 50.171875 \nQ 54.890625 44.34375 54.890625 33.015625 \nz\n\" id=\"DejaVuSans-104\"/>\n     </defs>\n     <g transform=\"translate(307.470312 322.394687)scale(0.1 -0.1)\">\n      <use xlink:href=\"#DejaVuSans-69\"/>\n      <use x=\"63.183594\" xlink:href=\"#DejaVuSans-112\"/>\n      <use x=\"126.660156\" xlink:href=\"#DejaVuSans-111\"/>\n      <use x=\"187.841797\" xlink:href=\"#DejaVuSans-99\"/>\n      <use x=\"242.822266\" xlink:href=\"#DejaVuSans-104\"/>\n     </g>\n    </g>\n   </g>\n   <g id=\"matplotlib.axis_2\">\n    <g id=\"ytick_1\">\n     <g id=\"line2d_8\">\n      <defs>\n       <path d=\"M 0 0 \nL -3.5 0 \n\" id=\"m0343f73997\" style=\"stroke:#000000;stroke-width:0.8;\"/>\n      </defs>\n      <g>\n       <use style=\"stroke:#000000;stroke-width:0.8;\" x=\"43.78125\" xlink:href=\"#m0343f73997\" y=\"261.813698\"/>\n      </g>\n     </g>\n     <g id=\"text_9\">\n      <!-- 1.0 -->\n      <defs>\n       <path d=\"M 10.6875 12.40625 \nL 21 12.40625 \nL 21 0 \nL 10.6875 0 \nz\n\" id=\"DejaVuSans-46\"/>\n      </defs>\n      <g transform=\"translate(20.878125 265.612916)scale(0.1 -0.1)\">\n       <use xlink:href=\"#DejaVuSans-49\"/>\n       <use x=\"63.623047\" xlink:href=\"#DejaVuSans-46\"/>\n       <use x=\"95.410156\" xlink:href=\"#DejaVuSans-48\"/>\n      </g>\n     </g>\n    </g>\n    <g id=\"ytick_2\">\n     <g id=\"line2d_9\">\n      <g>\n       <use style=\"stroke:#000000;stroke-width:0.8;\" x=\"43.78125\" xlink:href=\"#m0343f73997\" y=\"213.249486\"/>\n      </g>\n     </g>\n     <g id=\"text_10\">\n      <!-- 1.5 -->\n      <defs>\n       <path d=\"M 10.796875 72.90625 \nL 49.515625 72.90625 \nL 49.515625 64.59375 \nL 19.828125 64.59375 \nL 19.828125 46.734375 \nQ 21.96875 47.46875 24.109375 47.828125 \nQ 26.265625 48.1875 28.421875 48.1875 \nQ 40.625 48.1875 47.75 41.5 \nQ 54.890625 34.8125 54.890625 23.390625 \nQ 54.890625 11.625 47.5625 5.09375 \nQ 40.234375 -1.421875 26.90625 -1.421875 \nQ 22.3125 -1.421875 17.546875 -0.640625 \nQ 12.796875 0.140625 7.71875 1.703125 \nL 7.71875 11.625 \nQ 12.109375 9.234375 16.796875 8.0625 \nQ 21.484375 6.890625 26.703125 6.890625 \nQ 35.15625 6.890625 40.078125 11.328125 \nQ 45.015625 15.765625 45.015625 23.390625 \nQ 45.015625 31 40.078125 35.4375 \nQ 35.15625 39.890625 26.703125 39.890625 \nQ 22.75 39.890625 18.8125 39.015625 \nQ 14.890625 38.140625 10.796875 36.28125 \nz\n\" id=\"DejaVuSans-53\"/>\n      </defs>\n      <g transform=\"translate(20.878125 217.048704)scale(0.1 -0.1)\">\n       <use xlink:href=\"#DejaVuSans-49\"/>\n       <use x=\"63.623047\" xlink:href=\"#DejaVuSans-46\"/>\n       <use x=\"95.410156\" xlink:href=\"#DejaVuSans-53\"/>\n      </g>\n     </g>\n    </g>\n    <g id=\"ytick_3\">\n     <g id=\"line2d_10\">\n      <g>\n       <use style=\"stroke:#000000;stroke-width:0.8;\" x=\"43.78125\" xlink:href=\"#m0343f73997\" y=\"164.685274\"/>\n      </g>\n     </g>\n     <g id=\"text_11\">\n      <!-- 2.0 -->\n      <g transform=\"translate(20.878125 168.484493)scale(0.1 -0.1)\">\n       <use xlink:href=\"#DejaVuSans-50\"/>\n       <use x=\"63.623047\" xlink:href=\"#DejaVuSans-46\"/>\n       <use x=\"95.410156\" xlink:href=\"#DejaVuSans-48\"/>\n      </g>\n     </g>\n    </g>\n    <g id=\"ytick_4\">\n     <g id=\"line2d_11\">\n      <g>\n       <use style=\"stroke:#000000;stroke-width:0.8;\" x=\"43.78125\" xlink:href=\"#m0343f73997\" y=\"116.121062\"/>\n      </g>\n     </g>\n     <g id=\"text_12\">\n      <!-- 2.5 -->\n      <g transform=\"translate(20.878125 119.920281)scale(0.1 -0.1)\">\n       <use xlink:href=\"#DejaVuSans-50\"/>\n       <use x=\"63.623047\" xlink:href=\"#DejaVuSans-46\"/>\n       <use x=\"95.410156\" xlink:href=\"#DejaVuSans-53\"/>\n      </g>\n     </g>\n    </g>\n    <g id=\"ytick_5\">\n     <g id=\"line2d_12\">\n      <g>\n       <use style=\"stroke:#000000;stroke-width:0.8;\" x=\"43.78125\" xlink:href=\"#m0343f73997\" y=\"67.55685\"/>\n      </g>\n     </g>\n     <g id=\"text_13\">\n      <!-- 3.0 -->\n      <defs>\n       <path d=\"M 40.578125 39.3125 \nQ 47.65625 37.796875 51.625 33 \nQ 55.609375 28.21875 55.609375 21.1875 \nQ 55.609375 10.40625 48.1875 4.484375 \nQ 40.765625 -1.421875 27.09375 -1.421875 \nQ 22.515625 -1.421875 17.65625 -0.515625 \nQ 12.796875 0.390625 7.625 2.203125 \nL 7.625 11.71875 \nQ 11.71875 9.328125 16.59375 8.109375 \nQ 21.484375 6.890625 26.8125 6.890625 \nQ 36.078125 6.890625 40.9375 10.546875 \nQ 45.796875 14.203125 45.796875 21.1875 \nQ 45.796875 27.640625 41.28125 31.265625 \nQ 36.765625 34.90625 28.71875 34.90625 \nL 20.21875 34.90625 \nL 20.21875 43.015625 \nL 29.109375 43.015625 \nQ 36.375 43.015625 40.234375 45.921875 \nQ 44.09375 48.828125 44.09375 54.296875 \nQ 44.09375 59.90625 40.109375 62.90625 \nQ 36.140625 65.921875 28.71875 65.921875 \nQ 24.65625 65.921875 20.015625 65.03125 \nQ 15.375 64.15625 9.8125 62.3125 \nL 9.8125 71.09375 \nQ 15.4375 72.65625 20.34375 73.4375 \nQ 25.25 74.21875 29.59375 74.21875 \nQ 40.828125 74.21875 47.359375 69.109375 \nQ 53.90625 64.015625 53.90625 55.328125 \nQ 53.90625 49.265625 50.4375 45.09375 \nQ 46.96875 40.921875 40.578125 39.3125 \nz\n\" id=\"DejaVuSans-51\"/>\n      </defs>\n      <g transform=\"translate(20.878125 71.356069)scale(0.1 -0.1)\">\n       <use xlink:href=\"#DejaVuSans-51\"/>\n       <use x=\"63.623047\" xlink:href=\"#DejaVuSans-46\"/>\n       <use x=\"95.410156\" xlink:href=\"#DejaVuSans-48\"/>\n      </g>\n     </g>\n    </g>\n    <g id=\"text_14\">\n     <!-- Loss -->\n     <defs>\n      <path d=\"M 9.8125 72.90625 \nL 19.671875 72.90625 \nL 19.671875 8.296875 \nL 55.171875 8.296875 \nL 55.171875 0 \nL 9.8125 0 \nz\n\" id=\"DejaVuSans-76\"/>\n      <path d=\"M 44.28125 53.078125 \nL 44.28125 44.578125 \nQ 40.484375 46.53125 36.375 47.5 \nQ 32.28125 48.484375 27.875 48.484375 \nQ 21.1875 48.484375 17.84375 46.4375 \nQ 14.5 44.390625 14.5 40.28125 \nQ 14.5 37.15625 16.890625 35.375 \nQ 19.28125 33.59375 26.515625 31.984375 \nL 29.59375 31.296875 \nQ 39.15625 29.25 43.1875 25.515625 \nQ 47.21875 21.78125 47.21875 15.09375 \nQ 47.21875 7.46875 41.1875 3.015625 \nQ 35.15625 -1.421875 24.609375 -1.421875 \nQ 20.21875 -1.421875 15.453125 -0.5625 \nQ 10.6875 0.296875 5.421875 2 \nL 5.421875 11.28125 \nQ 10.40625 8.6875 15.234375 7.390625 \nQ 20.0625 6.109375 24.8125 6.109375 \nQ 31.15625 6.109375 34.5625 8.28125 \nQ 37.984375 10.453125 37.984375 14.40625 \nQ 37.984375 18.0625 35.515625 20.015625 \nQ 33.0625 21.96875 24.703125 23.78125 \nL 21.578125 24.515625 \nQ 13.234375 26.265625 9.515625 29.90625 \nQ 5.8125 33.546875 5.8125 39.890625 \nQ 5.8125 47.609375 11.28125 51.796875 \nQ 16.75 56 26.8125 56 \nQ 31.78125 56 36.171875 55.265625 \nQ 40.578125 54.546875 44.28125 53.078125 \nz\n\" id=\"DejaVuSans-115\"/>\n     </defs>\n     <g transform=\"translate(14.798438 169.185313)rotate(-90)scale(0.1 -0.1)\">\n      <use xlink:href=\"#DejaVuSans-76\"/>\n      <use x=\"53.962891\" xlink:href=\"#DejaVuSans-111\"/>\n      <use x=\"115.144531\" xlink:href=\"#DejaVuSans-115\"/>\n      <use x=\"167.244141\" xlink:href=\"#DejaVuSans-115\"/>\n     </g>\n    </g>\n   </g>\n   <g id=\"line2d_13\">\n    <path clip-path=\"url(#p803f7b6d3d)\" d=\"M 69.144886 34.67267 \nL 73.235795 44.22998 \nL 77.326705 55.830219 \nL 81.417614 65.817303 \nL 85.508523 75.448553 \nL 89.599432 83.302996 \nL 93.690341 91.294321 \nL 97.78125 99.244126 \nL 101.872159 107.063694 \nL 105.963068 114.799642 \nL 110.053977 122.090947 \nL 114.144886 129.645643 \nL 118.235795 137.310359 \nL 122.326705 144.391513 \nL 126.417614 151.615709 \nL 130.508523 158.859149 \nL 134.599432 165.557109 \nL 138.690341 172.465023 \nL 142.78125 178.92708 \nL 146.872159 185.440743 \nL 150.963068 191.518182 \nL 155.053977 197.282084 \nL 159.144886 202.471559 \nL 163.235795 207.691706 \nL 167.326705 212.619216 \nL 171.417614 216.829372 \nL 175.508523 220.453686 \nL 179.599432 223.8865 \nL 183.690341 226.670322 \nL 187.78125 229.059557 \nL 191.872159 231.031012 \nL 195.963068 232.916045 \nL 200.053977 234.526803 \nL 204.144886 235.961393 \nL 208.235795 237.256658 \nL 212.326705 238.492373 \nL 216.417614 239.650396 \nL 220.508523 240.769666 \nL 224.599432 241.788665 \nL 228.690341 242.818107 \nL 232.78125 243.801757 \nL 236.872159 244.73857 \nL 240.963068 245.672686 \nL 245.053977 246.530638 \nL 249.144886 247.418243 \nL 253.235795 248.267105 \nL 257.326705 249.101182 \nL 261.417614 249.882808 \nL 265.508523 250.649358 \nL 269.599432 251.421501 \nL 273.690341 252.185631 \nL 277.78125 252.874964 \nL 281.872159 253.617778 \nL 285.963068 254.276613 \nL 290.053977 254.941827 \nL 294.144886 255.611615 \nL 298.235795 256.249029 \nL 302.326705 256.872167 \nL 306.417614 257.464494 \nL 310.508523 258.067936 \nL 314.599432 258.601652 \nL 318.690341 259.188352 \nL 322.78125 259.724129 \nL 326.872159 260.25282 \nL 330.963068 260.773487 \nL 335.053977 261.255238 \nL 339.144886 261.768367 \nL 343.235795 262.243432 \nL 347.326705 262.705945 \nL 351.417614 263.14969 \nL 355.508523 263.60206 \nL 359.599432 264.028292 \nL 363.690341 264.444352 \nL 367.78125 264.855705 \nL 371.872159 265.253025 \nL 375.963068 265.642756 \nL 380.053977 266.024508 \nL 384.144886 266.392592 \nL 388.235795 266.743632 \nL 392.326705 267.100647 \nL 396.417614 267.4535 \nL 400.508523 267.760894 \nL 404.599432 268.105416 \nL 408.690341 268.429704 \nL 412.78125 268.74932 \nL 416.872159 269.041263 \nL 420.963068 269.335522 \nL 425.053977 269.632328 \nL 429.144886 269.914383 \nL 433.235795 270.186897 \nL 437.326705 270.451115 \nL 441.417614 270.719108 \nL 445.508523 270.980813 \nL 449.599432 271.240487 \nL 453.690341 271.475376 \nL 457.78125 271.729098 \nL 461.872159 271.970472 \nL 465.963068 272.210908 \nL 470.053977 272.435955 \nL 474.144886 272.648666 \nL 478.235795 272.867895 \nL 482.326705 273.089296 \nL 486.417614 273.283544 \nL 490.508523 273.493378 \nL 494.599432 273.690567 \nL 498.690341 273.908639 \nL 502.78125 274.091725 \nL 506.872159 274.282715 \nL 510.963068 274.475614 \nL 515.053977 274.650718 \nL 519.144886 274.81738 \nL 523.235795 275.00577 \nL 527.326705 275.173255 \nL 531.417614 275.347704 \nL 535.508523 275.518824 \nL 539.599432 275.68082 \nL 543.690341 275.83415 \nL 547.78125 275.996957 \nL 551.872159 276.143484 \nL 555.963068 276.299738 \nL 560.053977 276.444679 \nL 564.144886 276.592833 \nL 568.235795 276.727388 \nL 572.326705 276.87989 \nL 576.417614 277.010595 \n\" style=\"fill:none;stroke:#1f77b4;stroke-linecap:square;stroke-width:1.5;\"/>\n   </g>\n   <g id=\"line2d_14\">\n    <path clip-path=\"url(#p803f7b6d3d)\" d=\"M 69.144886 51.991562 \nL 73.235795 62.232172 \nL 77.326705 72.170996 \nL 81.417614 81.147429 \nL 85.508523 88.887059 \nL 89.599432 96.517502 \nL 93.690341 103.891965 \nL 97.78125 111.06686 \nL 101.872159 118.085929 \nL 105.963068 125.005723 \nL 110.053977 132.049895 \nL 114.144886 138.984464 \nL 118.235795 145.640521 \nL 122.326705 152.374432 \nL 126.417614 158.95458 \nL 130.508523 165.301337 \nL 134.599432 171.667882 \nL 138.690341 177.727189 \nL 142.78125 183.66558 \nL 146.872159 189.27764 \nL 150.963068 194.707279 \nL 155.053977 199.918372 \nL 159.144886 204.997537 \nL 163.235795 209.58159 \nL 167.326705 213.600734 \nL 171.417614 217.222339 \nL 175.508523 220.490864 \nL 179.599432 223.253139 \nL 183.690341 225.691559 \nL 187.78125 227.828091 \nL 191.872159 229.751808 \nL 195.963068 231.453076 \nL 200.053977 233.011951 \nL 204.144886 234.446216 \nL 208.235795 235.798714 \nL 212.326705 237.104955 \nL 216.417614 238.358003 \nL 220.508523 239.530141 \nL 224.599432 240.719507 \nL 228.690341 241.853551 \nL 232.78125 242.943735 \nL 236.872159 244.024564 \nL 240.963068 245.073401 \nL 245.053977 246.110427 \nL 249.144886 247.120673 \nL 253.235795 248.092882 \nL 257.326705 249.028249 \nL 261.417614 249.931519 \nL 265.508523 250.828364 \nL 269.599432 251.734112 \nL 273.690341 252.58602 \nL 277.78125 253.443335 \nL 281.872159 254.234964 \nL 285.963068 255.030971 \nL 290.053977 255.825333 \nL 294.144886 256.594361 \nL 298.235795 257.325654 \nL 302.326705 258.046701 \nL 306.417614 258.756354 \nL 310.508523 259.434455 \nL 314.599432 260.11273 \nL 318.690341 260.769469 \nL 322.78125 261.398442 \nL 326.872159 262.032012 \nL 330.963068 262.638691 \nL 335.053977 263.221043 \nL 339.144886 263.788047 \nL 343.235795 264.340961 \nL 347.326705 264.889955 \nL 351.417614 265.433455 \nL 355.508523 265.94461 \nL 359.599432 266.457699 \nL 363.690341 266.958503 \nL 367.78125 267.440514 \nL 371.872159 267.917165 \nL 375.963068 268.375325 \nL 380.053977 268.827643 \nL 384.144886 269.264852 \nL 388.235795 269.681404 \nL 392.326705 270.104208 \nL 396.417614 270.51089 \nL 400.508523 270.909889 \nL 404.599432 271.304598 \nL 408.690341 271.691485 \nL 412.78125 272.059569 \nL 416.872159 272.425847 \nL 420.963068 272.771017 \nL 425.053977 273.112146 \nL 429.144886 273.443341 \nL 433.235795 273.779178 \nL 437.326705 274.111675 \nL 441.417614 274.422347 \nL 445.508523 274.722569 \nL 449.599432 275.030126 \nL 453.690341 275.333537 \nL 457.78125 275.615117 \nL 461.872159 275.89884 \nL 465.963068 276.162878 \nL 470.053977 276.424329 \nL 474.144886 276.69106 \nL 478.235795 276.961901 \nL 482.326705 277.20075 \nL 486.417614 277.458247 \nL 490.508523 277.702504 \nL 494.599432 277.93792 \nL 498.690341 278.159523 \nL 502.78125 278.389399 \nL 506.872159 278.617277 \nL 510.963068 278.831192 \nL 515.053977 279.040701 \nL 519.144886 279.247935 \nL 523.235795 279.458186 \nL 527.326705 279.661379 \nL 531.417614 279.863385 \nL 535.508523 280.047687 \nL 539.599432 280.234989 \nL 543.690341 280.413878 \nL 547.78125 280.590551 \nL 551.872159 280.775918 \nL 555.963068 280.943443 \nL 560.053977 281.112705 \nL 564.144886 281.279692 \nL 568.235795 281.447918 \nL 572.326705 281.607309 \nL 576.417614 281.76358 \n\" style=\"fill:none;stroke:#ff7f0e;stroke-linecap:square;stroke-width:1.5;\"/>\n   </g>\n   <g id=\"patch_3\">\n    <path d=\"M 43.78125 294.118125 \nL 43.78125 22.318125 \n\" style=\"fill:none;stroke:#000000;stroke-linecap:square;stroke-linejoin:miter;stroke-width:0.8;\"/>\n   </g>\n   <g id=\"patch_4\">\n    <path d=\"M 601.78125 294.118125 \nL 601.78125 22.318125 \n\" style=\"fill:none;stroke:#000000;stroke-linecap:square;stroke-linejoin:miter;stroke-width:0.8;\"/>\n   </g>\n   <g id=\"patch_5\">\n    <path d=\"M 43.78125 294.118125 \nL 601.78125 294.118125 \n\" style=\"fill:none;stroke:#000000;stroke-linecap:square;stroke-linejoin:miter;stroke-width:0.8;\"/>\n   </g>\n   <g id=\"patch_6\">\n    <path d=\"M 43.78125 22.318125 \nL 601.78125 22.318125 \n\" style=\"fill:none;stroke:#000000;stroke-linecap:square;stroke-linejoin:miter;stroke-width:0.8;\"/>\n   </g>\n   <g id=\"text_15\">\n    <!-- Loss vs. epochs, batch=64 -->\n    <defs>\n     <path id=\"DejaVuSans-32\"/>\n     <path d=\"M 2.984375 54.6875 \nL 12.5 54.6875 \nL 29.59375 8.796875 \nL 46.6875 54.6875 \nL 56.203125 54.6875 \nL 35.6875 0 \nL 23.484375 0 \nz\n\" id=\"DejaVuSans-118\"/>\n     <path d=\"M 56.203125 29.59375 \nL 56.203125 25.203125 \nL 14.890625 25.203125 \nQ 15.484375 15.921875 20.484375 11.0625 \nQ 25.484375 6.203125 34.421875 6.203125 \nQ 39.59375 6.203125 44.453125 7.46875 \nQ 49.3125 8.734375 54.109375 11.28125 \nL 54.109375 2.78125 \nQ 49.265625 0.734375 44.1875 -0.34375 \nQ 39.109375 -1.421875 33.890625 -1.421875 \nQ 20.796875 -1.421875 13.15625 6.1875 \nQ 5.515625 13.8125 5.515625 26.8125 \nQ 5.515625 40.234375 12.765625 48.109375 \nQ 20.015625 56 32.328125 56 \nQ 43.359375 56 49.78125 48.890625 \nQ 56.203125 41.796875 56.203125 29.59375 \nz\nM 47.21875 32.234375 \nQ 47.125 39.59375 43.09375 43.984375 \nQ 39.0625 48.390625 32.421875 48.390625 \nQ 24.90625 48.390625 20.390625 44.140625 \nQ 15.875 39.890625 15.1875 32.171875 \nz\n\" id=\"DejaVuSans-101\"/>\n     <path d=\"M 11.71875 12.40625 \nL 22.015625 12.40625 \nL 22.015625 4 \nL 14.015625 -11.625 \nL 7.71875 -11.625 \nL 11.71875 4 \nz\n\" id=\"DejaVuSans-44\"/>\n     <path d=\"M 48.6875 27.296875 \nQ 48.6875 37.203125 44.609375 42.84375 \nQ 40.53125 48.484375 33.40625 48.484375 \nQ 26.265625 48.484375 22.1875 42.84375 \nQ 18.109375 37.203125 18.109375 27.296875 \nQ 18.109375 17.390625 22.1875 11.75 \nQ 26.265625 6.109375 33.40625 6.109375 \nQ 40.53125 6.109375 44.609375 11.75 \nQ 48.6875 17.390625 48.6875 27.296875 \nz\nM 18.109375 46.390625 \nQ 20.953125 51.265625 25.265625 53.625 \nQ 29.59375 56 35.59375 56 \nQ 45.5625 56 51.78125 48.09375 \nQ 58.015625 40.1875 58.015625 27.296875 \nQ 58.015625 14.40625 51.78125 6.484375 \nQ 45.5625 -1.421875 35.59375 -1.421875 \nQ 29.59375 -1.421875 25.265625 0.953125 \nQ 20.953125 3.328125 18.109375 8.203125 \nL 18.109375 0 \nL 9.078125 0 \nL 9.078125 75.984375 \nL 18.109375 75.984375 \nz\n\" id=\"DejaVuSans-98\"/>\n     <path d=\"M 34.28125 27.484375 \nQ 23.390625 27.484375 19.1875 25 \nQ 14.984375 22.515625 14.984375 16.5 \nQ 14.984375 11.71875 18.140625 8.90625 \nQ 21.296875 6.109375 26.703125 6.109375 \nQ 34.1875 6.109375 38.703125 11.40625 \nQ 43.21875 16.703125 43.21875 25.484375 \nL 43.21875 27.484375 \nz\nM 52.203125 31.203125 \nL 52.203125 0 \nL 43.21875 0 \nL 43.21875 8.296875 \nQ 40.140625 3.328125 35.546875 0.953125 \nQ 30.953125 -1.421875 24.3125 -1.421875 \nQ 15.921875 -1.421875 10.953125 3.296875 \nQ 6 8.015625 6 15.921875 \nQ 6 25.140625 12.171875 29.828125 \nQ 18.359375 34.515625 30.609375 34.515625 \nL 43.21875 34.515625 \nL 43.21875 35.40625 \nQ 43.21875 41.609375 39.140625 45 \nQ 35.0625 48.390625 27.6875 48.390625 \nQ 23 48.390625 18.546875 47.265625 \nQ 14.109375 46.140625 10.015625 43.890625 \nL 10.015625 52.203125 \nQ 14.9375 54.109375 19.578125 55.046875 \nQ 24.21875 56 28.609375 56 \nQ 40.484375 56 46.34375 49.84375 \nQ 52.203125 43.703125 52.203125 31.203125 \nz\n\" id=\"DejaVuSans-97\"/>\n     <path d=\"M 18.3125 70.21875 \nL 18.3125 54.6875 \nL 36.8125 54.6875 \nL 36.8125 47.703125 \nL 18.3125 47.703125 \nL 18.3125 18.015625 \nQ 18.3125 11.328125 20.140625 9.421875 \nQ 21.96875 7.515625 27.59375 7.515625 \nL 36.8125 7.515625 \nL 36.8125 0 \nL 27.59375 0 \nQ 17.1875 0 13.234375 3.875 \nQ 9.28125 7.765625 9.28125 18.015625 \nL 9.28125 47.703125 \nL 2.6875 47.703125 \nL 2.6875 54.6875 \nL 9.28125 54.6875 \nL 9.28125 70.21875 \nz\n\" id=\"DejaVuSans-116\"/>\n     <path d=\"M 10.59375 45.40625 \nL 73.1875 45.40625 \nL 73.1875 37.203125 \nL 10.59375 37.203125 \nz\nM 10.59375 25.484375 \nL 73.1875 25.484375 \nL 73.1875 17.1875 \nL 10.59375 17.1875 \nz\n\" id=\"DejaVuSans-61\"/>\n    </defs>\n    <g transform=\"translate(242.4075 16.318125)scale(0.12 -0.12)\">\n     <use xlink:href=\"#DejaVuSans-76\"/>\n     <use x=\"53.962891\" xlink:href=\"#DejaVuSans-111\"/>\n     <use x=\"115.144531\" xlink:href=\"#DejaVuSans-115\"/>\n     <use x=\"167.244141\" xlink:href=\"#DejaVuSans-115\"/>\n     <use x=\"219.34375\" xlink:href=\"#DejaVuSans-32\"/>\n     <use x=\"251.130859\" xlink:href=\"#DejaVuSans-118\"/>\n     <use x=\"310.310547\" xlink:href=\"#DejaVuSans-115\"/>\n     <use x=\"362.410156\" xlink:href=\"#DejaVuSans-46\"/>\n     <use x=\"394.197266\" xlink:href=\"#DejaVuSans-32\"/>\n     <use x=\"425.984375\" xlink:href=\"#DejaVuSans-101\"/>\n     <use x=\"487.507812\" xlink:href=\"#DejaVuSans-112\"/>\n     <use x=\"550.984375\" xlink:href=\"#DejaVuSans-111\"/>\n     <use x=\"612.166016\" xlink:href=\"#DejaVuSans-99\"/>\n     <use x=\"667.146484\" xlink:href=\"#DejaVuSans-104\"/>\n     <use x=\"730.525391\" xlink:href=\"#DejaVuSans-115\"/>\n     <use x=\"782.625\" xlink:href=\"#DejaVuSans-44\"/>\n     <use x=\"814.412109\" xlink:href=\"#DejaVuSans-32\"/>\n     <use x=\"846.199219\" xlink:href=\"#DejaVuSans-98\"/>\n     <use x=\"909.675781\" xlink:href=\"#DejaVuSans-97\"/>\n     <use x=\"970.955078\" xlink:href=\"#DejaVuSans-116\"/>\n     <use x=\"1010.164062\" xlink:href=\"#DejaVuSans-99\"/>\n     <use x=\"1065.144531\" xlink:href=\"#DejaVuSans-104\"/>\n     <use x=\"1128.523438\" xlink:href=\"#DejaVuSans-61\"/>\n     <use x=\"1212.3125\" xlink:href=\"#DejaVuSans-54\"/>\n     <use x=\"1275.935547\" xlink:href=\"#DejaVuSans-52\"/>\n    </g>\n   </g>\n   <g id=\"legend_1\">\n    <g id=\"patch_7\">\n     <path d=\"M 513.4 59.674375 \nL 594.78125 59.674375 \nQ 596.78125 59.674375 596.78125 57.674375 \nL 596.78125 29.318125 \nQ 596.78125 27.318125 594.78125 27.318125 \nL 513.4 27.318125 \nQ 511.4 27.318125 511.4 29.318125 \nL 511.4 57.674375 \nQ 511.4 59.674375 513.4 59.674375 \nz\n\" style=\"fill:#ffffff;opacity:0.8;stroke:#cccccc;stroke-linejoin:miter;\"/>\n    </g>\n    <g id=\"line2d_15\">\n     <path d=\"M 515.4 35.416562 \nL 535.4 35.416562 \n\" style=\"fill:none;stroke:#1f77b4;stroke-linecap:square;stroke-width:1.5;\"/>\n    </g>\n    <g id=\"line2d_16\"/>\n    <g id=\"text_16\">\n     <!-- Training -->\n     <defs>\n      <path d=\"M -0.296875 72.90625 \nL 61.375 72.90625 \nL 61.375 64.59375 \nL 35.5 64.59375 \nL 35.5 0 \nL 25.59375 0 \nL 25.59375 64.59375 \nL -0.296875 64.59375 \nz\n\" id=\"DejaVuSans-84\"/>\n      <path d=\"M 41.109375 46.296875 \nQ 39.59375 47.171875 37.8125 47.578125 \nQ 36.03125 48 33.890625 48 \nQ 26.265625 48 22.1875 43.046875 \nQ 18.109375 38.09375 18.109375 28.8125 \nL 18.109375 0 \nL 9.078125 0 \nL 9.078125 54.6875 \nL 18.109375 54.6875 \nL 18.109375 46.1875 \nQ 20.953125 51.171875 25.484375 53.578125 \nQ 30.03125 56 36.53125 56 \nQ 37.453125 56 38.578125 55.875 \nQ 39.703125 55.765625 41.0625 55.515625 \nz\n\" id=\"DejaVuSans-114\"/>\n      <path d=\"M 9.421875 54.6875 \nL 18.40625 54.6875 \nL 18.40625 0 \nL 9.421875 0 \nz\nM 9.421875 75.984375 \nL 18.40625 75.984375 \nL 18.40625 64.59375 \nL 9.421875 64.59375 \nz\n\" id=\"DejaVuSans-105\"/>\n      <path d=\"M 54.890625 33.015625 \nL 54.890625 0 \nL 45.90625 0 \nL 45.90625 32.71875 \nQ 45.90625 40.484375 42.875 44.328125 \nQ 39.84375 48.1875 33.796875 48.1875 \nQ 26.515625 48.1875 22.3125 43.546875 \nQ 18.109375 38.921875 18.109375 30.90625 \nL 18.109375 0 \nL 9.078125 0 \nL 9.078125 54.6875 \nL 18.109375 54.6875 \nL 18.109375 46.1875 \nQ 21.34375 51.125 25.703125 53.5625 \nQ 30.078125 56 35.796875 56 \nQ 45.21875 56 50.046875 50.171875 \nQ 54.890625 44.34375 54.890625 33.015625 \nz\n\" id=\"DejaVuSans-110\"/>\n      <path d=\"M 45.40625 27.984375 \nQ 45.40625 37.75 41.375 43.109375 \nQ 37.359375 48.484375 30.078125 48.484375 \nQ 22.859375 48.484375 18.828125 43.109375 \nQ 14.796875 37.75 14.796875 27.984375 \nQ 14.796875 18.265625 18.828125 12.890625 \nQ 22.859375 7.515625 30.078125 7.515625 \nQ 37.359375 7.515625 41.375 12.890625 \nQ 45.40625 18.265625 45.40625 27.984375 \nz\nM 54.390625 6.78125 \nQ 54.390625 -7.171875 48.1875 -13.984375 \nQ 42 -20.796875 29.203125 -20.796875 \nQ 24.46875 -20.796875 20.265625 -20.09375 \nQ 16.0625 -19.390625 12.109375 -17.921875 \nL 12.109375 -9.1875 \nQ 16.0625 -11.328125 19.921875 -12.34375 \nQ 23.78125 -13.375 27.78125 -13.375 \nQ 36.625 -13.375 41.015625 -8.765625 \nQ 45.40625 -4.15625 45.40625 5.171875 \nL 45.40625 9.625 \nQ 42.625 4.78125 38.28125 2.390625 \nQ 33.9375 0 27.875 0 \nQ 17.828125 0 11.671875 7.65625 \nQ 5.515625 15.328125 5.515625 27.984375 \nQ 5.515625 40.671875 11.671875 48.328125 \nQ 17.828125 56 27.875 56 \nQ 33.9375 56 38.28125 53.609375 \nQ 42.625 51.21875 45.40625 46.390625 \nL 45.40625 54.6875 \nL 54.390625 54.6875 \nz\n\" id=\"DejaVuSans-103\"/>\n     </defs>\n     <g transform=\"translate(543.4 38.916562)scale(0.1 -0.1)\">\n      <use xlink:href=\"#DejaVuSans-84\"/>\n      <use x=\"46.333984\" xlink:href=\"#DejaVuSans-114\"/>\n      <use x=\"87.447266\" xlink:href=\"#DejaVuSans-97\"/>\n      <use x=\"148.726562\" xlink:href=\"#DejaVuSans-105\"/>\n      <use x=\"176.509766\" xlink:href=\"#DejaVuSans-110\"/>\n      <use x=\"239.888672\" xlink:href=\"#DejaVuSans-105\"/>\n      <use x=\"267.671875\" xlink:href=\"#DejaVuSans-110\"/>\n      <use x=\"331.050781\" xlink:href=\"#DejaVuSans-103\"/>\n     </g>\n    </g>\n    <g id=\"line2d_17\">\n     <path d=\"M 515.4 50.094688 \nL 535.4 50.094688 \n\" style=\"fill:none;stroke:#ff7f0e;stroke-linecap:square;stroke-width:1.5;\"/>\n    </g>\n    <g id=\"line2d_18\"/>\n    <g id=\"text_17\">\n     <!-- Validation -->\n     <defs>\n      <path d=\"M 28.609375 0 \nL 0.78125 72.90625 \nL 11.078125 72.90625 \nL 34.1875 11.53125 \nL 57.328125 72.90625 \nL 67.578125 72.90625 \nL 39.796875 0 \nz\n\" id=\"DejaVuSans-86\"/>\n      <path d=\"M 9.421875 75.984375 \nL 18.40625 75.984375 \nL 18.40625 0 \nL 9.421875 0 \nz\n\" id=\"DejaVuSans-108\"/>\n      <path d=\"M 45.40625 46.390625 \nL 45.40625 75.984375 \nL 54.390625 75.984375 \nL 54.390625 0 \nL 45.40625 0 \nL 45.40625 8.203125 \nQ 42.578125 3.328125 38.25 0.953125 \nQ 33.9375 -1.421875 27.875 -1.421875 \nQ 17.96875 -1.421875 11.734375 6.484375 \nQ 5.515625 14.40625 5.515625 27.296875 \nQ 5.515625 40.1875 11.734375 48.09375 \nQ 17.96875 56 27.875 56 \nQ 33.9375 56 38.25 53.625 \nQ 42.578125 51.265625 45.40625 46.390625 \nz\nM 14.796875 27.296875 \nQ 14.796875 17.390625 18.875 11.75 \nQ 22.953125 6.109375 30.078125 6.109375 \nQ 37.203125 6.109375 41.296875 11.75 \nQ 45.40625 17.390625 45.40625 27.296875 \nQ 45.40625 37.203125 41.296875 42.84375 \nQ 37.203125 48.484375 30.078125 48.484375 \nQ 22.953125 48.484375 18.875 42.84375 \nQ 14.796875 37.203125 14.796875 27.296875 \nz\n\" id=\"DejaVuSans-100\"/>\n     </defs>\n     <g transform=\"translate(543.4 53.594688)scale(0.1 -0.1)\">\n      <use xlink:href=\"#DejaVuSans-86\"/>\n      <use x=\"60.658203\" xlink:href=\"#DejaVuSans-97\"/>\n      <use x=\"121.9375\" xlink:href=\"#DejaVuSans-108\"/>\n      <use x=\"149.720703\" xlink:href=\"#DejaVuSans-105\"/>\n      <use x=\"177.503906\" xlink:href=\"#DejaVuSans-100\"/>\n      <use x=\"240.980469\" xlink:href=\"#DejaVuSans-97\"/>\n      <use x=\"302.259766\" xlink:href=\"#DejaVuSans-116\"/>\n      <use x=\"341.46875\" xlink:href=\"#DejaVuSans-105\"/>\n      <use x=\"369.251953\" xlink:href=\"#DejaVuSans-111\"/>\n      <use x=\"430.433594\" xlink:href=\"#DejaVuSans-110\"/>\n     </g>\n    </g>\n   </g>\n  </g>\n </g>\n <defs>\n  <clipPath id=\"p803f7b6d3d\">\n   <rect height=\"271.8\" width=\"558\" x=\"43.78125\" y=\"22.318125\"/>\n  </clipPath>\n </defs>\n</svg>\n"
          },
          "metadata": {
            "needs_background": "light"
          }
        }
      ],
      "source": [
        "plt.figure(figsize=(10,5))\n",
        "plt.plot(history.history['loss'])\n",
        "plt.plot(history.history['val_loss'])\n",
        "plt.title('Loss vs. epochs, batch=' +str(batch_size))\n",
        "plt.ylabel('Loss')\n",
        "plt.xlabel('Epoch')\n",
        "plt.legend(['Training', 'Validation'], loc='upper right')\n",
        "plt.show()"
      ]
    },
    {
      "cell_type": "markdown",
      "id": "467481cd-d773-479b-837b-94b0cd4c056a",
      "metadata": {
        "id": "467481cd-d773-479b-837b-94b0cd4c056a"
      },
      "source": [
        "##### LR =  0.001"
      ]
    },
    {
      "cell_type": "markdown",
      "id": "bd885be3-5ac4-4bad-80eb-7a9e1850a3e5",
      "metadata": {
        "id": "bd885be3-5ac4-4bad-80eb-7a9e1850a3e5"
      },
      "source": [
        "10. **Retrain for 0.001 LR**"
      ]
    },
    {
      "cell_type": "code",
      "execution_count": 151,
      "id": "afa0d071-55ed-42e5-bd40-ef410c33128f",
      "metadata": {
        "tags": [],
        "id": "afa0d071-55ed-42e5-bd40-ef410c33128f",
        "colab": {
          "base_uri": "https://localhost:8080/"
        },
        "outputId": "0938152d-dd07-4c3d-eb00-888dba5ab3cc"
      },
      "outputs": [
        {
          "output_type": "stream",
          "name": "stdout",
          "text": [
            "Epoch 1/125\n",
            "8/8 [==============================] - 1s 27ms/step - loss: 2.3200 - accuracy: 0.3440 - val_loss: 2.1880 - val_accuracy: 0.3580\n",
            "Epoch 2/125\n",
            "8/8 [==============================] - 0s 7ms/step - loss: 1.5869 - accuracy: 0.3180 - val_loss: 1.3427 - val_accuracy: 0.3600\n",
            "Epoch 3/125\n",
            "8/8 [==============================] - 0s 8ms/step - loss: 1.2543 - accuracy: 0.3960 - val_loss: 1.1303 - val_accuracy: 0.5100\n",
            "Epoch 4/125\n",
            "8/8 [==============================] - 0s 8ms/step - loss: 1.0086 - accuracy: 0.5520 - val_loss: 0.8524 - val_accuracy: 0.6140\n",
            "Epoch 5/125\n",
            "8/8 [==============================] - 0s 7ms/step - loss: 0.8695 - accuracy: 0.5940 - val_loss: 0.7946 - val_accuracy: 0.6460\n",
            "Epoch 6/125\n",
            "8/8 [==============================] - 0s 7ms/step - loss: 0.8074 - accuracy: 0.6360 - val_loss: 0.7380 - val_accuracy: 0.6660\n",
            "Epoch 7/125\n",
            "8/8 [==============================] - 0s 7ms/step - loss: 0.7616 - accuracy: 0.6140 - val_loss: 0.7124 - val_accuracy: 0.6880\n",
            "Epoch 8/125\n",
            "8/8 [==============================] - 0s 8ms/step - loss: 0.7407 - accuracy: 0.6280 - val_loss: 0.6991 - val_accuracy: 0.6320\n",
            "Epoch 9/125\n",
            "8/8 [==============================] - 0s 7ms/step - loss: 0.7339 - accuracy: 0.6280 - val_loss: 0.6778 - val_accuracy: 0.6460\n",
            "Epoch 10/125\n",
            "8/8 [==============================] - 0s 8ms/step - loss: 0.7095 - accuracy: 0.6380 - val_loss: 0.6723 - val_accuracy: 0.7000\n",
            "Epoch 11/125\n",
            "8/8 [==============================] - 0s 8ms/step - loss: 0.7080 - accuracy: 0.6440 - val_loss: 0.6639 - val_accuracy: 0.6460\n",
            "Epoch 12/125\n",
            "8/8 [==============================] - 0s 7ms/step - loss: 0.7103 - accuracy: 0.6620 - val_loss: 0.6688 - val_accuracy: 0.6460\n",
            "Epoch 13/125\n",
            "8/8 [==============================] - 0s 7ms/step - loss: 0.7153 - accuracy: 0.6320 - val_loss: 0.6584 - val_accuracy: 0.7420\n",
            "Epoch 14/125\n",
            "8/8 [==============================] - 0s 7ms/step - loss: 0.6933 - accuracy: 0.6560 - val_loss: 0.6515 - val_accuracy: 0.7440\n",
            "Epoch 15/125\n",
            "8/8 [==============================] - 0s 7ms/step - loss: 0.6840 - accuracy: 0.6620 - val_loss: 0.6387 - val_accuracy: 0.7020\n",
            "Epoch 16/125\n",
            "8/8 [==============================] - 0s 8ms/step - loss: 0.6796 - accuracy: 0.6600 - val_loss: 0.6361 - val_accuracy: 0.7140\n",
            "Epoch 17/125\n",
            "8/8 [==============================] - 0s 8ms/step - loss: 0.6733 - accuracy: 0.6560 - val_loss: 0.6300 - val_accuracy: 0.6980\n",
            "Epoch 18/125\n",
            "8/8 [==============================] - 0s 7ms/step - loss: 0.6764 - accuracy: 0.6520 - val_loss: 0.6272 - val_accuracy: 0.7000\n",
            "Epoch 19/125\n",
            "8/8 [==============================] - 0s 7ms/step - loss: 0.6672 - accuracy: 0.6640 - val_loss: 0.6254 - val_accuracy: 0.6960\n",
            "Epoch 20/125\n",
            "8/8 [==============================] - 0s 7ms/step - loss: 0.6908 - accuracy: 0.6420 - val_loss: 0.6759 - val_accuracy: 0.7140\n",
            "Epoch 21/125\n",
            "8/8 [==============================] - 0s 8ms/step - loss: 0.7094 - accuracy: 0.6460 - val_loss: 0.7141 - val_accuracy: 0.6940\n",
            "Epoch 22/125\n",
            "8/8 [==============================] - 0s 7ms/step - loss: 0.7180 - accuracy: 0.6360 - val_loss: 0.6615 - val_accuracy: 0.7180\n",
            "Epoch 23/125\n",
            "8/8 [==============================] - 0s 8ms/step - loss: 0.6820 - accuracy: 0.6600 - val_loss: 0.6302 - val_accuracy: 0.6760\n",
            "Epoch 24/125\n",
            "8/8 [==============================] - 0s 8ms/step - loss: 0.6973 - accuracy: 0.6620 - val_loss: 0.6943 - val_accuracy: 0.6420\n",
            "Epoch 25/125\n",
            "8/8 [==============================] - 0s 7ms/step - loss: 0.6943 - accuracy: 0.6500 - val_loss: 0.6055 - val_accuracy: 0.7180\n",
            "Epoch 26/125\n",
            "8/8 [==============================] - 0s 7ms/step - loss: 0.6763 - accuracy: 0.6640 - val_loss: 0.6792 - val_accuracy: 0.7220\n",
            "Epoch 27/125\n",
            "8/8 [==============================] - 0s 9ms/step - loss: 0.6738 - accuracy: 0.6560 - val_loss: 0.6125 - val_accuracy: 0.7560\n",
            "Epoch 28/125\n",
            "8/8 [==============================] - 0s 7ms/step - loss: 0.6499 - accuracy: 0.6820 - val_loss: 0.5989 - val_accuracy: 0.7260\n",
            "Epoch 29/125\n",
            "8/8 [==============================] - 0s 7ms/step - loss: 0.6348 - accuracy: 0.6780 - val_loss: 0.6073 - val_accuracy: 0.7620\n",
            "Epoch 30/125\n",
            "8/8 [==============================] - 0s 7ms/step - loss: 0.6494 - accuracy: 0.6820 - val_loss: 0.6264 - val_accuracy: 0.7840\n",
            "Epoch 31/125\n",
            "8/8 [==============================] - 0s 7ms/step - loss: 0.6416 - accuracy: 0.6780 - val_loss: 0.5917 - val_accuracy: 0.7300\n",
            "Epoch 32/125\n",
            "8/8 [==============================] - 0s 8ms/step - loss: 0.6328 - accuracy: 0.6940 - val_loss: 0.5950 - val_accuracy: 0.7640\n",
            "Epoch 33/125\n",
            "8/8 [==============================] - 0s 10ms/step - loss: 0.6328 - accuracy: 0.6860 - val_loss: 0.6078 - val_accuracy: 0.7760\n",
            "Epoch 34/125\n",
            "8/8 [==============================] - 0s 8ms/step - loss: 0.6320 - accuracy: 0.7060 - val_loss: 0.5872 - val_accuracy: 0.7280\n",
            "Epoch 35/125\n",
            "8/8 [==============================] - 0s 8ms/step - loss: 0.6365 - accuracy: 0.6860 - val_loss: 0.5872 - val_accuracy: 0.7240\n",
            "Epoch 36/125\n",
            "8/8 [==============================] - 0s 8ms/step - loss: 0.6299 - accuracy: 0.7020 - val_loss: 0.5825 - val_accuracy: 0.7340\n",
            "Epoch 37/125\n",
            "8/8 [==============================] - 0s 8ms/step - loss: 0.6202 - accuracy: 0.7040 - val_loss: 0.5823 - val_accuracy: 0.7560\n",
            "Epoch 38/125\n",
            "8/8 [==============================] - 0s 8ms/step - loss: 0.6245 - accuracy: 0.6800 - val_loss: 0.5798 - val_accuracy: 0.7420\n",
            "Epoch 39/125\n",
            "8/8 [==============================] - 0s 9ms/step - loss: 0.6230 - accuracy: 0.7120 - val_loss: 0.5846 - val_accuracy: 0.7220\n",
            "Epoch 40/125\n",
            "8/8 [==============================] - 0s 8ms/step - loss: 0.6204 - accuracy: 0.6960 - val_loss: 0.5769 - val_accuracy: 0.7340\n",
            "Epoch 41/125\n",
            "8/8 [==============================] - 0s 8ms/step - loss: 0.6211 - accuracy: 0.6920 - val_loss: 0.5775 - val_accuracy: 0.7260\n",
            "Epoch 42/125\n",
            "8/8 [==============================] - 0s 9ms/step - loss: 0.6166 - accuracy: 0.7100 - val_loss: 0.5731 - val_accuracy: 0.7460\n",
            "Epoch 43/125\n",
            "8/8 [==============================] - 0s 8ms/step - loss: 0.6079 - accuracy: 0.7120 - val_loss: 0.5735 - val_accuracy: 0.7660\n",
            "Epoch 44/125\n",
            "8/8 [==============================] - 0s 8ms/step - loss: 0.6071 - accuracy: 0.7120 - val_loss: 0.5702 - val_accuracy: 0.7460\n",
            "Epoch 45/125\n",
            "8/8 [==============================] - 0s 14ms/step - loss: 0.6075 - accuracy: 0.7220 - val_loss: 0.5827 - val_accuracy: 0.7840\n",
            "Epoch 46/125\n",
            "8/8 [==============================] - 0s 9ms/step - loss: 0.6054 - accuracy: 0.7120 - val_loss: 0.5685 - val_accuracy: 0.7620\n",
            "Epoch 47/125\n",
            "8/8 [==============================] - 0s 8ms/step - loss: 0.6052 - accuracy: 0.7140 - val_loss: 0.5661 - val_accuracy: 0.7600\n",
            "Epoch 48/125\n",
            "8/8 [==============================] - 0s 7ms/step - loss: 0.6091 - accuracy: 0.7120 - val_loss: 0.5881 - val_accuracy: 0.7140\n",
            "Epoch 49/125\n",
            "8/8 [==============================] - 0s 7ms/step - loss: 0.6213 - accuracy: 0.7160 - val_loss: 0.5785 - val_accuracy: 0.7280\n",
            "Epoch 50/125\n",
            "8/8 [==============================] - 0s 7ms/step - loss: 0.6365 - accuracy: 0.6820 - val_loss: 0.5635 - val_accuracy: 0.7740\n",
            "Epoch 51/125\n",
            "8/8 [==============================] - 0s 9ms/step - loss: 0.6199 - accuracy: 0.6880 - val_loss: 0.5840 - val_accuracy: 0.7920\n",
            "Epoch 52/125\n",
            "8/8 [==============================] - 0s 7ms/step - loss: 0.5996 - accuracy: 0.7160 - val_loss: 0.5692 - val_accuracy: 0.7880\n",
            "Epoch 53/125\n",
            "8/8 [==============================] - 0s 8ms/step - loss: 0.6040 - accuracy: 0.7140 - val_loss: 0.5618 - val_accuracy: 0.7740\n",
            "Epoch 54/125\n",
            "8/8 [==============================] - 0s 7ms/step - loss: 0.5996 - accuracy: 0.7260 - val_loss: 0.5578 - val_accuracy: 0.7560\n",
            "Epoch 55/125\n",
            "8/8 [==============================] - 0s 8ms/step - loss: 0.5961 - accuracy: 0.7320 - val_loss: 0.5651 - val_accuracy: 0.7280\n",
            "Epoch 56/125\n",
            "8/8 [==============================] - 0s 9ms/step - loss: 0.5954 - accuracy: 0.7220 - val_loss: 0.5551 - val_accuracy: 0.7700\n",
            "Epoch 57/125\n",
            "8/8 [==============================] - 0s 7ms/step - loss: 0.5880 - accuracy: 0.7320 - val_loss: 0.5549 - val_accuracy: 0.7760\n",
            "Epoch 58/125\n",
            "8/8 [==============================] - 0s 7ms/step - loss: 0.5846 - accuracy: 0.7340 - val_loss: 0.5528 - val_accuracy: 0.7680\n",
            "Epoch 59/125\n",
            "8/8 [==============================] - 0s 8ms/step - loss: 0.5891 - accuracy: 0.7300 - val_loss: 0.5607 - val_accuracy: 0.7380\n",
            "Epoch 60/125\n",
            "8/8 [==============================] - 0s 8ms/step - loss: 0.5889 - accuracy: 0.7120 - val_loss: 0.5620 - val_accuracy: 0.8040\n",
            "Epoch 61/125\n",
            "8/8 [==============================] - 0s 7ms/step - loss: 0.5830 - accuracy: 0.7320 - val_loss: 0.5498 - val_accuracy: 0.7740\n",
            "Epoch 62/125\n",
            "8/8 [==============================] - 0s 8ms/step - loss: 0.5831 - accuracy: 0.7360 - val_loss: 0.5521 - val_accuracy: 0.7940\n",
            "Epoch 63/125\n",
            "8/8 [==============================] - 0s 7ms/step - loss: 0.5773 - accuracy: 0.7400 - val_loss: 0.5516 - val_accuracy: 0.7480\n",
            "Epoch 64/125\n",
            "8/8 [==============================] - 0s 8ms/step - loss: 0.5851 - accuracy: 0.7300 - val_loss: 0.5525 - val_accuracy: 0.7920\n",
            "Epoch 65/125\n",
            "8/8 [==============================] - 0s 8ms/step - loss: 0.5852 - accuracy: 0.7220 - val_loss: 0.5691 - val_accuracy: 0.8060\n",
            "Epoch 66/125\n",
            "8/8 [==============================] - 0s 7ms/step - loss: 0.5827 - accuracy: 0.7560 - val_loss: 0.5556 - val_accuracy: 0.7420\n",
            "Epoch 67/125\n",
            "8/8 [==============================] - 0s 7ms/step - loss: 0.5856 - accuracy: 0.7500 - val_loss: 0.5509 - val_accuracy: 0.7420\n",
            "Epoch 68/125\n",
            "8/8 [==============================] - 0s 7ms/step - loss: 0.6085 - accuracy: 0.7200 - val_loss: 0.5430 - val_accuracy: 0.7840\n",
            "Epoch 69/125\n",
            "8/8 [==============================] - 0s 8ms/step - loss: 0.6043 - accuracy: 0.7020 - val_loss: 0.6131 - val_accuracy: 0.7840\n",
            "Epoch 70/125\n",
            "8/8 [==============================] - 0s 7ms/step - loss: 0.6159 - accuracy: 0.7160 - val_loss: 0.5556 - val_accuracy: 0.8000\n",
            "Epoch 71/125\n",
            "8/8 [==============================] - 0s 7ms/step - loss: 0.5958 - accuracy: 0.7340 - val_loss: 0.5638 - val_accuracy: 0.7360\n",
            "Epoch 72/125\n",
            "8/8 [==============================] - 0s 7ms/step - loss: 0.5771 - accuracy: 0.7480 - val_loss: 0.5396 - val_accuracy: 0.7940\n",
            "Epoch 73/125\n",
            "8/8 [==============================] - 0s 7ms/step - loss: 0.5656 - accuracy: 0.7440 - val_loss: 0.5378 - val_accuracy: 0.7940\n",
            "Epoch 74/125\n",
            "8/8 [==============================] - 0s 8ms/step - loss: 0.5675 - accuracy: 0.7460 - val_loss: 0.5356 - val_accuracy: 0.7800\n",
            "Epoch 75/125\n",
            "8/8 [==============================] - 0s 7ms/step - loss: 0.5675 - accuracy: 0.7620 - val_loss: 0.5355 - val_accuracy: 0.7920\n",
            "Epoch 76/125\n",
            "8/8 [==============================] - 0s 8ms/step - loss: 0.5627 - accuracy: 0.7560 - val_loss: 0.5356 - val_accuracy: 0.7740\n",
            "Epoch 77/125\n",
            "8/8 [==============================] - 0s 8ms/step - loss: 0.5638 - accuracy: 0.7500 - val_loss: 0.5597 - val_accuracy: 0.8080\n",
            "Epoch 78/125\n",
            "8/8 [==============================] - 0s 7ms/step - loss: 0.5755 - accuracy: 0.7300 - val_loss: 0.5332 - val_accuracy: 0.7900\n",
            "Epoch 79/125\n",
            "8/8 [==============================] - 0s 8ms/step - loss: 0.5704 - accuracy: 0.7520 - val_loss: 0.5352 - val_accuracy: 0.7680\n",
            "Epoch 80/125\n",
            "8/8 [==============================] - 0s 7ms/step - loss: 0.5572 - accuracy: 0.7480 - val_loss: 0.5527 - val_accuracy: 0.8080\n",
            "Epoch 81/125\n",
            "8/8 [==============================] - 0s 7ms/step - loss: 0.5647 - accuracy: 0.7540 - val_loss: 0.5364 - val_accuracy: 0.8040\n",
            "Epoch 82/125\n",
            "8/8 [==============================] - 0s 8ms/step - loss: 0.5589 - accuracy: 0.7560 - val_loss: 0.5291 - val_accuracy: 0.7960\n",
            "Epoch 83/125\n",
            "8/8 [==============================] - 0s 7ms/step - loss: 0.5586 - accuracy: 0.7400 - val_loss: 0.5284 - val_accuracy: 0.7800\n",
            "Epoch 84/125\n",
            "8/8 [==============================] - 0s 8ms/step - loss: 0.5635 - accuracy: 0.7320 - val_loss: 0.5356 - val_accuracy: 0.8080\n",
            "Epoch 85/125\n",
            "8/8 [==============================] - 0s 7ms/step - loss: 0.5568 - accuracy: 0.7540 - val_loss: 0.5336 - val_accuracy: 0.8060\n",
            "Epoch 86/125\n",
            "8/8 [==============================] - 0s 8ms/step - loss: 0.5546 - accuracy: 0.7580 - val_loss: 0.5326 - val_accuracy: 0.8100\n",
            "Epoch 87/125\n",
            "8/8 [==============================] - 0s 7ms/step - loss: 0.5627 - accuracy: 0.7580 - val_loss: 0.5324 - val_accuracy: 0.7580\n",
            "Epoch 88/125\n",
            "8/8 [==============================] - 0s 8ms/step - loss: 0.5597 - accuracy: 0.7720 - val_loss: 0.5237 - val_accuracy: 0.8020\n",
            "Epoch 89/125\n",
            "8/8 [==============================] - 0s 7ms/step - loss: 0.5680 - accuracy: 0.7500 - val_loss: 0.5549 - val_accuracy: 0.8160\n",
            "Epoch 90/125\n",
            "8/8 [==============================] - 0s 7ms/step - loss: 0.5726 - accuracy: 0.7360 - val_loss: 0.5462 - val_accuracy: 0.8160\n",
            "Epoch 91/125\n",
            "8/8 [==============================] - 0s 8ms/step - loss: 0.5756 - accuracy: 0.7300 - val_loss: 0.5211 - val_accuracy: 0.7980\n",
            "Epoch 92/125\n",
            "8/8 [==============================] - 0s 8ms/step - loss: 0.5639 - accuracy: 0.7800 - val_loss: 0.5591 - val_accuracy: 0.7400\n",
            "Epoch 93/125\n",
            "8/8 [==============================] - 0s 7ms/step - loss: 0.5769 - accuracy: 0.7440 - val_loss: 0.5193 - val_accuracy: 0.8000\n",
            "Epoch 94/125\n",
            "8/8 [==============================] - 0s 7ms/step - loss: 0.5504 - accuracy: 0.7560 - val_loss: 0.5296 - val_accuracy: 0.8020\n",
            "Epoch 95/125\n",
            "8/8 [==============================] - 0s 8ms/step - loss: 0.5517 - accuracy: 0.7560 - val_loss: 0.5454 - val_accuracy: 0.8200\n",
            "Epoch 96/125\n",
            "8/8 [==============================] - 0s 14ms/step - loss: 0.5594 - accuracy: 0.7560 - val_loss: 0.5226 - val_accuracy: 0.7780\n",
            "Epoch 97/125\n",
            "8/8 [==============================] - 0s 8ms/step - loss: 0.5431 - accuracy: 0.7680 - val_loss: 0.5206 - val_accuracy: 0.8080\n",
            "Epoch 98/125\n",
            "8/8 [==============================] - 0s 7ms/step - loss: 0.5412 - accuracy: 0.7620 - val_loss: 0.5160 - val_accuracy: 0.8080\n",
            "Epoch 99/125\n",
            "8/8 [==============================] - 0s 7ms/step - loss: 0.5399 - accuracy: 0.7780 - val_loss: 0.5149 - val_accuracy: 0.8060\n",
            "Epoch 100/125\n",
            "8/8 [==============================] - 0s 7ms/step - loss: 0.5411 - accuracy: 0.7800 - val_loss: 0.5146 - val_accuracy: 0.7860\n",
            "Epoch 101/125\n",
            "8/8 [==============================] - 0s 7ms/step - loss: 0.5411 - accuracy: 0.7700 - val_loss: 0.5239 - val_accuracy: 0.8020\n",
            "Epoch 102/125\n",
            "8/8 [==============================] - 0s 9ms/step - loss: 0.5391 - accuracy: 0.7680 - val_loss: 0.5120 - val_accuracy: 0.7980\n",
            "Epoch 103/125\n",
            "8/8 [==============================] - 0s 7ms/step - loss: 0.5418 - accuracy: 0.7680 - val_loss: 0.5531 - val_accuracy: 0.8180\n",
            "Epoch 104/125\n",
            "8/8 [==============================] - 0s 8ms/step - loss: 0.5673 - accuracy: 0.7380 - val_loss: 0.5262 - val_accuracy: 0.8180\n",
            "Epoch 105/125\n",
            "8/8 [==============================] - 0s 7ms/step - loss: 0.5805 - accuracy: 0.7540 - val_loss: 0.5472 - val_accuracy: 0.7500\n",
            "Epoch 106/125\n",
            "8/8 [==============================] - 0s 7ms/step - loss: 0.5682 - accuracy: 0.7540 - val_loss: 0.5104 - val_accuracy: 0.8000\n",
            "Epoch 107/125\n",
            "8/8 [==============================] - 0s 7ms/step - loss: 0.5426 - accuracy: 0.7540 - val_loss: 0.5213 - val_accuracy: 0.8140\n",
            "Epoch 108/125\n",
            "8/8 [==============================] - 0s 8ms/step - loss: 0.5362 - accuracy: 0.7720 - val_loss: 0.5112 - val_accuracy: 0.8140\n",
            "Epoch 109/125\n",
            "8/8 [==============================] - 0s 9ms/step - loss: 0.5346 - accuracy: 0.7660 - val_loss: 0.5088 - val_accuracy: 0.8100\n",
            "Epoch 110/125\n",
            "8/8 [==============================] - 0s 7ms/step - loss: 0.5324 - accuracy: 0.7700 - val_loss: 0.5232 - val_accuracy: 0.8200\n",
            "Epoch 111/125\n",
            "8/8 [==============================] - 0s 8ms/step - loss: 0.5292 - accuracy: 0.7960 - val_loss: 0.5165 - val_accuracy: 0.7760\n",
            "Epoch 112/125\n",
            "8/8 [==============================] - 0s 7ms/step - loss: 0.5397 - accuracy: 0.7580 - val_loss: 0.5111 - val_accuracy: 0.8160\n",
            "Epoch 113/125\n",
            "8/8 [==============================] - 0s 8ms/step - loss: 0.5366 - accuracy: 0.7680 - val_loss: 0.5090 - val_accuracy: 0.8120\n",
            "Epoch 114/125\n",
            "8/8 [==============================] - 0s 8ms/step - loss: 0.5323 - accuracy: 0.7820 - val_loss: 0.5039 - val_accuracy: 0.8160\n",
            "Epoch 115/125\n",
            "8/8 [==============================] - 0s 8ms/step - loss: 0.5314 - accuracy: 0.7880 - val_loss: 0.5027 - val_accuracy: 0.8040\n",
            "Epoch 116/125\n",
            "8/8 [==============================] - 0s 8ms/step - loss: 0.5247 - accuracy: 0.7800 - val_loss: 0.5040 - val_accuracy: 0.8120\n",
            "Epoch 117/125\n",
            "8/8 [==============================] - 0s 14ms/step - loss: 0.5344 - accuracy: 0.7780 - val_loss: 0.5066 - val_accuracy: 0.8160\n",
            "Epoch 118/125\n",
            "8/8 [==============================] - 0s 9ms/step - loss: 0.5363 - accuracy: 0.7760 - val_loss: 0.5133 - val_accuracy: 0.8260\n",
            "Epoch 119/125\n",
            "8/8 [==============================] - 0s 7ms/step - loss: 0.5271 - accuracy: 0.7780 - val_loss: 0.5164 - val_accuracy: 0.8220\n",
            "Epoch 120/125\n",
            "8/8 [==============================] - 0s 8ms/step - loss: 0.5254 - accuracy: 0.7900 - val_loss: 0.4997 - val_accuracy: 0.8040\n",
            "Epoch 121/125\n",
            "8/8 [==============================] - 0s 8ms/step - loss: 0.5229 - accuracy: 0.7820 - val_loss: 0.5017 - val_accuracy: 0.8140\n",
            "Epoch 122/125\n",
            "8/8 [==============================] - 0s 7ms/step - loss: 0.5261 - accuracy: 0.7840 - val_loss: 0.4980 - val_accuracy: 0.8180\n",
            "Epoch 123/125\n",
            "8/8 [==============================] - 0s 8ms/step - loss: 0.5286 - accuracy: 0.7680 - val_loss: 0.5135 - val_accuracy: 0.8220\n",
            "Epoch 124/125\n",
            "8/8 [==============================] - 0s 8ms/step - loss: 0.5236 - accuracy: 0.7800 - val_loss: 0.5048 - val_accuracy: 0.8280\n",
            "Epoch 125/125\n",
            "8/8 [==============================] - 0s 7ms/step - loss: 0.5215 - accuracy: 0.7820 - val_loss: 0.4964 - val_accuracy: 0.8240\n"
          ]
        }
      ],
      "source": [
        "### START CODE HERE ### ()\n",
        "model = build_model(0.001)\n",
        "history = model.fit(X_train,y_train,validation_data=(X_test, y_test),batch_size = 64,epochs = 125)"
      ]
    },
    {
      "cell_type": "code",
      "execution_count": 152,
      "id": "53bf0abf-a145-4081-aa0b-e4ffe73c9357",
      "metadata": {
        "id": "53bf0abf-a145-4081-aa0b-e4ffe73c9357",
        "colab": {
          "base_uri": "https://localhost:8080/",
          "height": 464
        },
        "outputId": "af3a2b3c-6e18-400d-f526-faffb6c4c3d8"
      },
      "outputs": [
        {
          "output_type": "display_data",
          "data": {
            "text/plain": [
              "<Figure size 720x360 with 1 Axes>"
            ],
            "image/svg+xml": "<?xml version=\"1.0\" encoding=\"utf-8\" standalone=\"no\"?>\n<!DOCTYPE svg PUBLIC \"-//W3C//DTD SVG 1.1//EN\"\n  \"http://www.w3.org/Graphics/SVG/1.1/DTD/svg11.dtd\">\n<!-- Created with matplotlib (https://matplotlib.org/) -->\n<svg height=\"331.674375pt\" version=\"1.1\" viewBox=\"0 0 615.34375 331.674375\" width=\"615.34375pt\" xmlns=\"http://www.w3.org/2000/svg\" xmlns:xlink=\"http://www.w3.org/1999/xlink\">\n <defs>\n  <style type=\"text/css\">\n*{stroke-linecap:butt;stroke-linejoin:round;}\n  </style>\n </defs>\n <g id=\"figure_1\">\n  <g id=\"patch_1\">\n   <path d=\"M 0 331.674375 \nL 615.34375 331.674375 \nL 615.34375 0 \nL 0 0 \nz\n\" style=\"fill:none;\"/>\n  </g>\n  <g id=\"axes_1\">\n   <g id=\"patch_2\">\n    <path d=\"M 50.14375 294.118125 \nL 608.14375 294.118125 \nL 608.14375 22.318125 \nL 50.14375 22.318125 \nz\n\" style=\"fill:#ffffff;\"/>\n   </g>\n   <g id=\"matplotlib.axis_1\">\n    <g id=\"xtick_1\">\n     <g id=\"line2d_1\">\n      <defs>\n       <path d=\"M 0 0 \nL 0 3.5 \n\" id=\"m5b5582970a\" style=\"stroke:#000000;stroke-width:0.8;\"/>\n      </defs>\n      <g>\n       <use style=\"stroke:#000000;stroke-width:0.8;\" x=\"75.507386\" xlink:href=\"#m5b5582970a\" y=\"294.118125\"/>\n      </g>\n     </g>\n     <g id=\"text_1\">\n      <!-- 0 -->\n      <defs>\n       <path d=\"M 31.78125 66.40625 \nQ 24.171875 66.40625 20.328125 58.90625 \nQ 16.5 51.421875 16.5 36.375 \nQ 16.5 21.390625 20.328125 13.890625 \nQ 24.171875 6.390625 31.78125 6.390625 \nQ 39.453125 6.390625 43.28125 13.890625 \nQ 47.125 21.390625 47.125 36.375 \nQ 47.125 51.421875 43.28125 58.90625 \nQ 39.453125 66.40625 31.78125 66.40625 \nz\nM 31.78125 74.21875 \nQ 44.046875 74.21875 50.515625 64.515625 \nQ 56.984375 54.828125 56.984375 36.375 \nQ 56.984375 17.96875 50.515625 8.265625 \nQ 44.046875 -1.421875 31.78125 -1.421875 \nQ 19.53125 -1.421875 13.0625 8.265625 \nQ 6.59375 17.96875 6.59375 36.375 \nQ 6.59375 54.828125 13.0625 64.515625 \nQ 19.53125 74.21875 31.78125 74.21875 \nz\n\" id=\"DejaVuSans-48\"/>\n      </defs>\n      <g transform=\"translate(72.326136 308.716563)scale(0.1 -0.1)\">\n       <use xlink:href=\"#DejaVuSans-48\"/>\n      </g>\n     </g>\n    </g>\n    <g id=\"xtick_2\">\n     <g id=\"line2d_2\">\n      <g>\n       <use style=\"stroke:#000000;stroke-width:0.8;\" x=\"157.325568\" xlink:href=\"#m5b5582970a\" y=\"294.118125\"/>\n      </g>\n     </g>\n     <g id=\"text_2\">\n      <!-- 20 -->\n      <defs>\n       <path d=\"M 19.1875 8.296875 \nL 53.609375 8.296875 \nL 53.609375 0 \nL 7.328125 0 \nL 7.328125 8.296875 \nQ 12.9375 14.109375 22.625 23.890625 \nQ 32.328125 33.6875 34.8125 36.53125 \nQ 39.546875 41.84375 41.421875 45.53125 \nQ 43.3125 49.21875 43.3125 52.78125 \nQ 43.3125 58.59375 39.234375 62.25 \nQ 35.15625 65.921875 28.609375 65.921875 \nQ 23.96875 65.921875 18.8125 64.3125 \nQ 13.671875 62.703125 7.8125 59.421875 \nL 7.8125 69.390625 \nQ 13.765625 71.78125 18.9375 73 \nQ 24.125 74.21875 28.421875 74.21875 \nQ 39.75 74.21875 46.484375 68.546875 \nQ 53.21875 62.890625 53.21875 53.421875 \nQ 53.21875 48.921875 51.53125 44.890625 \nQ 49.859375 40.875 45.40625 35.40625 \nQ 44.1875 33.984375 37.640625 27.21875 \nQ 31.109375 20.453125 19.1875 8.296875 \nz\n\" id=\"DejaVuSans-50\"/>\n      </defs>\n      <g transform=\"translate(150.963068 308.716563)scale(0.1 -0.1)\">\n       <use xlink:href=\"#DejaVuSans-50\"/>\n       <use x=\"63.623047\" xlink:href=\"#DejaVuSans-48\"/>\n      </g>\n     </g>\n    </g>\n    <g id=\"xtick_3\">\n     <g id=\"line2d_3\">\n      <g>\n       <use style=\"stroke:#000000;stroke-width:0.8;\" x=\"239.14375\" xlink:href=\"#m5b5582970a\" y=\"294.118125\"/>\n      </g>\n     </g>\n     <g id=\"text_3\">\n      <!-- 40 -->\n      <defs>\n       <path d=\"M 37.796875 64.3125 \nL 12.890625 25.390625 \nL 37.796875 25.390625 \nz\nM 35.203125 72.90625 \nL 47.609375 72.90625 \nL 47.609375 25.390625 \nL 58.015625 25.390625 \nL 58.015625 17.1875 \nL 47.609375 17.1875 \nL 47.609375 0 \nL 37.796875 0 \nL 37.796875 17.1875 \nL 4.890625 17.1875 \nL 4.890625 26.703125 \nz\n\" id=\"DejaVuSans-52\"/>\n      </defs>\n      <g transform=\"translate(232.78125 308.716563)scale(0.1 -0.1)\">\n       <use xlink:href=\"#DejaVuSans-52\"/>\n       <use x=\"63.623047\" xlink:href=\"#DejaVuSans-48\"/>\n      </g>\n     </g>\n    </g>\n    <g id=\"xtick_4\">\n     <g id=\"line2d_4\">\n      <g>\n       <use style=\"stroke:#000000;stroke-width:0.8;\" x=\"320.961932\" xlink:href=\"#m5b5582970a\" y=\"294.118125\"/>\n      </g>\n     </g>\n     <g id=\"text_4\">\n      <!-- 60 -->\n      <defs>\n       <path d=\"M 33.015625 40.375 \nQ 26.375 40.375 22.484375 35.828125 \nQ 18.609375 31.296875 18.609375 23.390625 \nQ 18.609375 15.53125 22.484375 10.953125 \nQ 26.375 6.390625 33.015625 6.390625 \nQ 39.65625 6.390625 43.53125 10.953125 \nQ 47.40625 15.53125 47.40625 23.390625 \nQ 47.40625 31.296875 43.53125 35.828125 \nQ 39.65625 40.375 33.015625 40.375 \nz\nM 52.59375 71.296875 \nL 52.59375 62.3125 \nQ 48.875 64.0625 45.09375 64.984375 \nQ 41.3125 65.921875 37.59375 65.921875 \nQ 27.828125 65.921875 22.671875 59.328125 \nQ 17.53125 52.734375 16.796875 39.40625 \nQ 19.671875 43.65625 24.015625 45.921875 \nQ 28.375 48.1875 33.59375 48.1875 \nQ 44.578125 48.1875 50.953125 41.515625 \nQ 57.328125 34.859375 57.328125 23.390625 \nQ 57.328125 12.15625 50.6875 5.359375 \nQ 44.046875 -1.421875 33.015625 -1.421875 \nQ 20.359375 -1.421875 13.671875 8.265625 \nQ 6.984375 17.96875 6.984375 36.375 \nQ 6.984375 53.65625 15.1875 63.9375 \nQ 23.390625 74.21875 37.203125 74.21875 \nQ 40.921875 74.21875 44.703125 73.484375 \nQ 48.484375 72.75 52.59375 71.296875 \nz\n\" id=\"DejaVuSans-54\"/>\n      </defs>\n      <g transform=\"translate(314.599432 308.716563)scale(0.1 -0.1)\">\n       <use xlink:href=\"#DejaVuSans-54\"/>\n       <use x=\"63.623047\" xlink:href=\"#DejaVuSans-48\"/>\n      </g>\n     </g>\n    </g>\n    <g id=\"xtick_5\">\n     <g id=\"line2d_5\">\n      <g>\n       <use style=\"stroke:#000000;stroke-width:0.8;\" x=\"402.780114\" xlink:href=\"#m5b5582970a\" y=\"294.118125\"/>\n      </g>\n     </g>\n     <g id=\"text_5\">\n      <!-- 80 -->\n      <defs>\n       <path d=\"M 31.78125 34.625 \nQ 24.75 34.625 20.71875 30.859375 \nQ 16.703125 27.09375 16.703125 20.515625 \nQ 16.703125 13.921875 20.71875 10.15625 \nQ 24.75 6.390625 31.78125 6.390625 \nQ 38.8125 6.390625 42.859375 10.171875 \nQ 46.921875 13.96875 46.921875 20.515625 \nQ 46.921875 27.09375 42.890625 30.859375 \nQ 38.875 34.625 31.78125 34.625 \nz\nM 21.921875 38.8125 \nQ 15.578125 40.375 12.03125 44.71875 \nQ 8.5 49.078125 8.5 55.328125 \nQ 8.5 64.0625 14.71875 69.140625 \nQ 20.953125 74.21875 31.78125 74.21875 \nQ 42.671875 74.21875 48.875 69.140625 \nQ 55.078125 64.0625 55.078125 55.328125 \nQ 55.078125 49.078125 51.53125 44.71875 \nQ 48 40.375 41.703125 38.8125 \nQ 48.828125 37.15625 52.796875 32.3125 \nQ 56.78125 27.484375 56.78125 20.515625 \nQ 56.78125 9.90625 50.3125 4.234375 \nQ 43.84375 -1.421875 31.78125 -1.421875 \nQ 19.734375 -1.421875 13.25 4.234375 \nQ 6.78125 9.90625 6.78125 20.515625 \nQ 6.78125 27.484375 10.78125 32.3125 \nQ 14.796875 37.15625 21.921875 38.8125 \nz\nM 18.3125 54.390625 \nQ 18.3125 48.734375 21.84375 45.5625 \nQ 25.390625 42.390625 31.78125 42.390625 \nQ 38.140625 42.390625 41.71875 45.5625 \nQ 45.3125 48.734375 45.3125 54.390625 \nQ 45.3125 60.0625 41.71875 63.234375 \nQ 38.140625 66.40625 31.78125 66.40625 \nQ 25.390625 66.40625 21.84375 63.234375 \nQ 18.3125 60.0625 18.3125 54.390625 \nz\n\" id=\"DejaVuSans-56\"/>\n      </defs>\n      <g transform=\"translate(396.417614 308.716563)scale(0.1 -0.1)\">\n       <use xlink:href=\"#DejaVuSans-56\"/>\n       <use x=\"63.623047\" xlink:href=\"#DejaVuSans-48\"/>\n      </g>\n     </g>\n    </g>\n    <g id=\"xtick_6\">\n     <g id=\"line2d_6\">\n      <g>\n       <use style=\"stroke:#000000;stroke-width:0.8;\" x=\"484.598295\" xlink:href=\"#m5b5582970a\" y=\"294.118125\"/>\n      </g>\n     </g>\n     <g id=\"text_6\">\n      <!-- 100 -->\n      <defs>\n       <path d=\"M 12.40625 8.296875 \nL 28.515625 8.296875 \nL 28.515625 63.921875 \nL 10.984375 60.40625 \nL 10.984375 69.390625 \nL 28.421875 72.90625 \nL 38.28125 72.90625 \nL 38.28125 8.296875 \nL 54.390625 8.296875 \nL 54.390625 0 \nL 12.40625 0 \nz\n\" id=\"DejaVuSans-49\"/>\n      </defs>\n      <g transform=\"translate(475.054545 308.716563)scale(0.1 -0.1)\">\n       <use xlink:href=\"#DejaVuSans-49\"/>\n       <use x=\"63.623047\" xlink:href=\"#DejaVuSans-48\"/>\n       <use x=\"127.246094\" xlink:href=\"#DejaVuSans-48\"/>\n      </g>\n     </g>\n    </g>\n    <g id=\"xtick_7\">\n     <g id=\"line2d_7\">\n      <g>\n       <use style=\"stroke:#000000;stroke-width:0.8;\" x=\"566.416477\" xlink:href=\"#m5b5582970a\" y=\"294.118125\"/>\n      </g>\n     </g>\n     <g id=\"text_7\">\n      <!-- 120 -->\n      <g transform=\"translate(556.872727 308.716563)scale(0.1 -0.1)\">\n       <use xlink:href=\"#DejaVuSans-49\"/>\n       <use x=\"63.623047\" xlink:href=\"#DejaVuSans-50\"/>\n       <use x=\"127.246094\" xlink:href=\"#DejaVuSans-48\"/>\n      </g>\n     </g>\n    </g>\n    <g id=\"text_8\">\n     <!-- Epoch -->\n     <defs>\n      <path d=\"M 9.8125 72.90625 \nL 55.90625 72.90625 \nL 55.90625 64.59375 \nL 19.671875 64.59375 \nL 19.671875 43.015625 \nL 54.390625 43.015625 \nL 54.390625 34.71875 \nL 19.671875 34.71875 \nL 19.671875 8.296875 \nL 56.78125 8.296875 \nL 56.78125 0 \nL 9.8125 0 \nz\n\" id=\"DejaVuSans-69\"/>\n      <path d=\"M 18.109375 8.203125 \nL 18.109375 -20.796875 \nL 9.078125 -20.796875 \nL 9.078125 54.6875 \nL 18.109375 54.6875 \nL 18.109375 46.390625 \nQ 20.953125 51.265625 25.265625 53.625 \nQ 29.59375 56 35.59375 56 \nQ 45.5625 56 51.78125 48.09375 \nQ 58.015625 40.1875 58.015625 27.296875 \nQ 58.015625 14.40625 51.78125 6.484375 \nQ 45.5625 -1.421875 35.59375 -1.421875 \nQ 29.59375 -1.421875 25.265625 0.953125 \nQ 20.953125 3.328125 18.109375 8.203125 \nz\nM 48.6875 27.296875 \nQ 48.6875 37.203125 44.609375 42.84375 \nQ 40.53125 48.484375 33.40625 48.484375 \nQ 26.265625 48.484375 22.1875 42.84375 \nQ 18.109375 37.203125 18.109375 27.296875 \nQ 18.109375 17.390625 22.1875 11.75 \nQ 26.265625 6.109375 33.40625 6.109375 \nQ 40.53125 6.109375 44.609375 11.75 \nQ 48.6875 17.390625 48.6875 27.296875 \nz\n\" id=\"DejaVuSans-112\"/>\n      <path d=\"M 30.609375 48.390625 \nQ 23.390625 48.390625 19.1875 42.75 \nQ 14.984375 37.109375 14.984375 27.296875 \nQ 14.984375 17.484375 19.15625 11.84375 \nQ 23.34375 6.203125 30.609375 6.203125 \nQ 37.796875 6.203125 41.984375 11.859375 \nQ 46.1875 17.53125 46.1875 27.296875 \nQ 46.1875 37.015625 41.984375 42.703125 \nQ 37.796875 48.390625 30.609375 48.390625 \nz\nM 30.609375 56 \nQ 42.328125 56 49.015625 48.375 \nQ 55.71875 40.765625 55.71875 27.296875 \nQ 55.71875 13.875 49.015625 6.21875 \nQ 42.328125 -1.421875 30.609375 -1.421875 \nQ 18.84375 -1.421875 12.171875 6.21875 \nQ 5.515625 13.875 5.515625 27.296875 \nQ 5.515625 40.765625 12.171875 48.375 \nQ 18.84375 56 30.609375 56 \nz\n\" id=\"DejaVuSans-111\"/>\n      <path d=\"M 48.78125 52.59375 \nL 48.78125 44.1875 \nQ 44.96875 46.296875 41.140625 47.34375 \nQ 37.3125 48.390625 33.40625 48.390625 \nQ 24.65625 48.390625 19.8125 42.84375 \nQ 14.984375 37.3125 14.984375 27.296875 \nQ 14.984375 17.28125 19.8125 11.734375 \nQ 24.65625 6.203125 33.40625 6.203125 \nQ 37.3125 6.203125 41.140625 7.25 \nQ 44.96875 8.296875 48.78125 10.40625 \nL 48.78125 2.09375 \nQ 45.015625 0.34375 40.984375 -0.53125 \nQ 36.96875 -1.421875 32.421875 -1.421875 \nQ 20.0625 -1.421875 12.78125 6.34375 \nQ 5.515625 14.109375 5.515625 27.296875 \nQ 5.515625 40.671875 12.859375 48.328125 \nQ 20.21875 56 33.015625 56 \nQ 37.15625 56 41.109375 55.140625 \nQ 45.0625 54.296875 48.78125 52.59375 \nz\n\" id=\"DejaVuSans-99\"/>\n      <path d=\"M 54.890625 33.015625 \nL 54.890625 0 \nL 45.90625 0 \nL 45.90625 32.71875 \nQ 45.90625 40.484375 42.875 44.328125 \nQ 39.84375 48.1875 33.796875 48.1875 \nQ 26.515625 48.1875 22.3125 43.546875 \nQ 18.109375 38.921875 18.109375 30.90625 \nL 18.109375 0 \nL 9.078125 0 \nL 9.078125 75.984375 \nL 18.109375 75.984375 \nL 18.109375 46.1875 \nQ 21.34375 51.125 25.703125 53.5625 \nQ 30.078125 56 35.796875 56 \nQ 45.21875 56 50.046875 50.171875 \nQ 54.890625 44.34375 54.890625 33.015625 \nz\n\" id=\"DejaVuSans-104\"/>\n     </defs>\n     <g transform=\"translate(313.832812 322.394687)scale(0.1 -0.1)\">\n      <use xlink:href=\"#DejaVuSans-69\"/>\n      <use x=\"63.183594\" xlink:href=\"#DejaVuSans-112\"/>\n      <use x=\"126.660156\" xlink:href=\"#DejaVuSans-111\"/>\n      <use x=\"187.841797\" xlink:href=\"#DejaVuSans-99\"/>\n      <use x=\"242.822266\" xlink:href=\"#DejaVuSans-104\"/>\n     </g>\n    </g>\n   </g>\n   <g id=\"matplotlib.axis_2\">\n    <g id=\"ytick_1\">\n     <g id=\"line2d_8\">\n      <defs>\n       <path d=\"M 0 0 \nL -3.5 0 \n\" id=\"m55125f24b6\" style=\"stroke:#000000;stroke-width:0.8;\"/>\n      </defs>\n      <g>\n       <use style=\"stroke:#000000;stroke-width:0.8;\" x=\"50.14375\" xlink:href=\"#m55125f24b6\" y=\"281.282345\"/>\n      </g>\n     </g>\n     <g id=\"text_9\">\n      <!-- 0.50 -->\n      <defs>\n       <path d=\"M 10.6875 12.40625 \nL 21 12.40625 \nL 21 0 \nL 10.6875 0 \nz\n\" id=\"DejaVuSans-46\"/>\n       <path d=\"M 10.796875 72.90625 \nL 49.515625 72.90625 \nL 49.515625 64.59375 \nL 19.828125 64.59375 \nL 19.828125 46.734375 \nQ 21.96875 47.46875 24.109375 47.828125 \nQ 26.265625 48.1875 28.421875 48.1875 \nQ 40.625 48.1875 47.75 41.5 \nQ 54.890625 34.8125 54.890625 23.390625 \nQ 54.890625 11.625 47.5625 5.09375 \nQ 40.234375 -1.421875 26.90625 -1.421875 \nQ 22.3125 -1.421875 17.546875 -0.640625 \nQ 12.796875 0.140625 7.71875 1.703125 \nL 7.71875 11.625 \nQ 12.109375 9.234375 16.796875 8.0625 \nQ 21.484375 6.890625 26.703125 6.890625 \nQ 35.15625 6.890625 40.078125 11.328125 \nQ 45.015625 15.765625 45.015625 23.390625 \nQ 45.015625 31 40.078125 35.4375 \nQ 35.15625 39.890625 26.703125 39.890625 \nQ 22.75 39.890625 18.8125 39.015625 \nQ 14.890625 38.140625 10.796875 36.28125 \nz\n\" id=\"DejaVuSans-53\"/>\n      </defs>\n      <g transform=\"translate(20.878125 285.081563)scale(0.1 -0.1)\">\n       <use xlink:href=\"#DejaVuSans-48\"/>\n       <use x=\"63.623047\" xlink:href=\"#DejaVuSans-46\"/>\n       <use x=\"95.410156\" xlink:href=\"#DejaVuSans-53\"/>\n       <use x=\"159.033203\" xlink:href=\"#DejaVuSans-48\"/>\n      </g>\n     </g>\n    </g>\n    <g id=\"ytick_2\">\n     <g id=\"line2d_9\">\n      <g>\n       <use style=\"stroke:#000000;stroke-width:0.8;\" x=\"50.14375\" xlink:href=\"#m55125f24b6\" y=\"247.407575\"/>\n      </g>\n     </g>\n     <g id=\"text_10\">\n      <!-- 0.75 -->\n      <defs>\n       <path d=\"M 8.203125 72.90625 \nL 55.078125 72.90625 \nL 55.078125 68.703125 \nL 28.609375 0 \nL 18.3125 0 \nL 43.21875 64.59375 \nL 8.203125 64.59375 \nz\n\" id=\"DejaVuSans-55\"/>\n      </defs>\n      <g transform=\"translate(20.878125 251.206793)scale(0.1 -0.1)\">\n       <use xlink:href=\"#DejaVuSans-48\"/>\n       <use x=\"63.623047\" xlink:href=\"#DejaVuSans-46\"/>\n       <use x=\"95.410156\" xlink:href=\"#DejaVuSans-55\"/>\n       <use x=\"159.033203\" xlink:href=\"#DejaVuSans-53\"/>\n      </g>\n     </g>\n    </g>\n    <g id=\"ytick_3\">\n     <g id=\"line2d_10\">\n      <g>\n       <use style=\"stroke:#000000;stroke-width:0.8;\" x=\"50.14375\" xlink:href=\"#m55125f24b6\" y=\"213.532804\"/>\n      </g>\n     </g>\n     <g id=\"text_11\">\n      <!-- 1.00 -->\n      <g transform=\"translate(20.878125 217.332023)scale(0.1 -0.1)\">\n       <use xlink:href=\"#DejaVuSans-49\"/>\n       <use x=\"63.623047\" xlink:href=\"#DejaVuSans-46\"/>\n       <use x=\"95.410156\" xlink:href=\"#DejaVuSans-48\"/>\n       <use x=\"159.033203\" xlink:href=\"#DejaVuSans-48\"/>\n      </g>\n     </g>\n    </g>\n    <g id=\"ytick_4\">\n     <g id=\"line2d_11\">\n      <g>\n       <use style=\"stroke:#000000;stroke-width:0.8;\" x=\"50.14375\" xlink:href=\"#m55125f24b6\" y=\"179.658034\"/>\n      </g>\n     </g>\n     <g id=\"text_12\">\n      <!-- 1.25 -->\n      <g transform=\"translate(20.878125 183.457253)scale(0.1 -0.1)\">\n       <use xlink:href=\"#DejaVuSans-49\"/>\n       <use x=\"63.623047\" xlink:href=\"#DejaVuSans-46\"/>\n       <use x=\"95.410156\" xlink:href=\"#DejaVuSans-50\"/>\n       <use x=\"159.033203\" xlink:href=\"#DejaVuSans-53\"/>\n      </g>\n     </g>\n    </g>\n    <g id=\"ytick_5\">\n     <g id=\"line2d_12\">\n      <g>\n       <use style=\"stroke:#000000;stroke-width:0.8;\" x=\"50.14375\" xlink:href=\"#m55125f24b6\" y=\"145.783264\"/>\n      </g>\n     </g>\n     <g id=\"text_13\">\n      <!-- 1.50 -->\n      <g transform=\"translate(20.878125 149.582483)scale(0.1 -0.1)\">\n       <use xlink:href=\"#DejaVuSans-49\"/>\n       <use x=\"63.623047\" xlink:href=\"#DejaVuSans-46\"/>\n       <use x=\"95.410156\" xlink:href=\"#DejaVuSans-53\"/>\n       <use x=\"159.033203\" xlink:href=\"#DejaVuSans-48\"/>\n      </g>\n     </g>\n    </g>\n    <g id=\"ytick_6\">\n     <g id=\"line2d_13\">\n      <g>\n       <use style=\"stroke:#000000;stroke-width:0.8;\" x=\"50.14375\" xlink:href=\"#m55125f24b6\" y=\"111.908494\"/>\n      </g>\n     </g>\n     <g id=\"text_14\">\n      <!-- 1.75 -->\n      <g transform=\"translate(20.878125 115.707713)scale(0.1 -0.1)\">\n       <use xlink:href=\"#DejaVuSans-49\"/>\n       <use x=\"63.623047\" xlink:href=\"#DejaVuSans-46\"/>\n       <use x=\"95.410156\" xlink:href=\"#DejaVuSans-55\"/>\n       <use x=\"159.033203\" xlink:href=\"#DejaVuSans-53\"/>\n      </g>\n     </g>\n    </g>\n    <g id=\"ytick_7\">\n     <g id=\"line2d_14\">\n      <g>\n       <use style=\"stroke:#000000;stroke-width:0.8;\" x=\"50.14375\" xlink:href=\"#m55125f24b6\" y=\"78.033724\"/>\n      </g>\n     </g>\n     <g id=\"text_15\">\n      <!-- 2.00 -->\n      <g transform=\"translate(20.878125 81.832943)scale(0.1 -0.1)\">\n       <use xlink:href=\"#DejaVuSans-50\"/>\n       <use x=\"63.623047\" xlink:href=\"#DejaVuSans-46\"/>\n       <use x=\"95.410156\" xlink:href=\"#DejaVuSans-48\"/>\n       <use x=\"159.033203\" xlink:href=\"#DejaVuSans-48\"/>\n      </g>\n     </g>\n    </g>\n    <g id=\"ytick_8\">\n     <g id=\"line2d_15\">\n      <g>\n       <use style=\"stroke:#000000;stroke-width:0.8;\" x=\"50.14375\" xlink:href=\"#m55125f24b6\" y=\"44.158954\"/>\n      </g>\n     </g>\n     <g id=\"text_16\">\n      <!-- 2.25 -->\n      <g transform=\"translate(20.878125 47.958173)scale(0.1 -0.1)\">\n       <use xlink:href=\"#DejaVuSans-50\"/>\n       <use x=\"63.623047\" xlink:href=\"#DejaVuSans-46\"/>\n       <use x=\"95.410156\" xlink:href=\"#DejaVuSans-50\"/>\n       <use x=\"159.033203\" xlink:href=\"#DejaVuSans-53\"/>\n      </g>\n     </g>\n    </g>\n    <g id=\"text_17\">\n     <!-- Loss -->\n     <defs>\n      <path d=\"M 9.8125 72.90625 \nL 19.671875 72.90625 \nL 19.671875 8.296875 \nL 55.171875 8.296875 \nL 55.171875 0 \nL 9.8125 0 \nz\n\" id=\"DejaVuSans-76\"/>\n      <path d=\"M 44.28125 53.078125 \nL 44.28125 44.578125 \nQ 40.484375 46.53125 36.375 47.5 \nQ 32.28125 48.484375 27.875 48.484375 \nQ 21.1875 48.484375 17.84375 46.4375 \nQ 14.5 44.390625 14.5 40.28125 \nQ 14.5 37.15625 16.890625 35.375 \nQ 19.28125 33.59375 26.515625 31.984375 \nL 29.59375 31.296875 \nQ 39.15625 29.25 43.1875 25.515625 \nQ 47.21875 21.78125 47.21875 15.09375 \nQ 47.21875 7.46875 41.1875 3.015625 \nQ 35.15625 -1.421875 24.609375 -1.421875 \nQ 20.21875 -1.421875 15.453125 -0.5625 \nQ 10.6875 0.296875 5.421875 2 \nL 5.421875 11.28125 \nQ 10.40625 8.6875 15.234375 7.390625 \nQ 20.0625 6.109375 24.8125 6.109375 \nQ 31.15625 6.109375 34.5625 8.28125 \nQ 37.984375 10.453125 37.984375 14.40625 \nQ 37.984375 18.0625 35.515625 20.015625 \nQ 33.0625 21.96875 24.703125 23.78125 \nL 21.578125 24.515625 \nQ 13.234375 26.265625 9.515625 29.90625 \nQ 5.8125 33.546875 5.8125 39.890625 \nQ 5.8125 47.609375 11.28125 51.796875 \nQ 16.75 56 26.8125 56 \nQ 31.78125 56 36.171875 55.265625 \nQ 40.578125 54.546875 44.28125 53.078125 \nz\n\" id=\"DejaVuSans-115\"/>\n     </defs>\n     <g transform=\"translate(14.798437 169.185313)rotate(-90)scale(0.1 -0.1)\">\n      <use xlink:href=\"#DejaVuSans-76\"/>\n      <use x=\"53.962891\" xlink:href=\"#DejaVuSans-111\"/>\n      <use x=\"115.144531\" xlink:href=\"#DejaVuSans-115\"/>\n      <use x=\"167.244141\" xlink:href=\"#DejaVuSans-115\"/>\n     </g>\n    </g>\n   </g>\n   <g id=\"line2d_16\">\n    <path clip-path=\"url(#p2e19270b5f)\" d=\"M 75.507386 34.67267 \nL 79.598295 134.007248 \nL 83.689205 179.07009 \nL 87.780114 212.367448 \nL 91.871023 231.220347 \nL 95.961932 239.631649 \nL 100.052841 245.83504 \nL 104.14375 248.668781 \nL 108.234659 249.592735 \nL 112.325568 252.894034 \nL 116.416477 253.09415 \nL 120.507386 252.792756 \nL 124.598295 252.103946 \nL 128.689205 255.088772 \nL 132.780114 256.349583 \nL 136.871023 256.944392 \nL 140.961932 257.799995 \nL 145.052841 257.374475 \nL 149.14375 258.62347 \nL 153.234659 255.430936 \nL 157.325568 252.911236 \nL 161.416477 251.740622 \nL 165.507386 256.619431 \nL 169.598295 254.551612 \nL 173.689205 254.952386 \nL 177.780114 257.389384 \nL 181.871023 257.730401 \nL 185.961932 260.966814 \nL 190.052841 263.015362 \nL 194.14375 261.042821 \nL 198.234659 262.097846 \nL 202.325568 263.291784 \nL 206.416477 263.284637 \nL 210.507386 263.398271 \nL 214.598295 262.784531 \nL 218.689205 263.675541 \nL 222.780114 265.000042 \nL 226.871023 264.4144 \nL 230.961932 264.620671 \nL 235.052841 264.974933 \nL 239.14375 264.876619 \nL 243.234659 265.478333 \nL 247.325568 266.663436 \nL 251.416477 266.77695 \nL 255.507386 266.719163 \nL 259.598295 267.002184 \nL 263.689205 267.023748 \nL 267.780114 266.504283 \nL 271.871023 264.842933 \nL 275.961932 262.788061 \nL 280.052841 265.03612 \nL 284.14375 267.782765 \nL 288.234659 267.188562 \nL 292.325568 267.783363 \nL 296.416477 268.261202 \nL 300.507386 268.351754 \nL 304.598295 269.363942 \nL 308.689205 269.824739 \nL 312.780114 269.203577 \nL 316.871023 269.238152 \nL 320.961932 270.032698 \nL 325.052841 270.027085 \nL 329.14375 270.814095 \nL 333.234659 269.74673 \nL 337.325568 269.736311 \nL 341.416477 270.079137 \nL 345.507386 269.689291 \nL 349.598295 266.575735 \nL 353.689205 267.143238 \nL 357.780114 265.573934 \nL 361.871023 268.29631 \nL 365.961932 270.831532 \nL 370.052841 272.388366 \nL 374.14375 272.134405 \nL 378.234659 272.142368 \nL 382.325568 272.781153 \nL 386.416477 272.637781 \nL 390.507386 271.055215 \nL 394.598295 271.743153 \nL 398.689205 273.530665 \nL 402.780114 272.5201 \nL 406.871023 273.297249 \nL 410.961932 273.337486 \nL 415.052841 272.677347 \nL 419.14375 273.584946 \nL 423.234659 273.887051 \nL 427.325568 272.791273 \nL 431.416477 273.19203 \nL 435.507386 272.064762 \nL 439.598295 271.450611 \nL 443.689205 271.033538 \nL 447.780114 272.630537 \nL 451.871023 270.868239 \nL 455.961932 274.458091 \nL 460.052841 274.277317 \nL 464.14375 273.234246 \nL 468.234659 275.445654 \nL 472.325568 275.706303 \nL 476.416477 275.879218 \nL 480.507386 275.714637 \nL 484.598295 275.714565 \nL 488.689205 275.978 \nL 492.780114 275.616776 \nL 496.871023 272.168398 \nL 500.961932 270.377268 \nL 505.052841 272.039645 \nL 509.14375 275.516564 \nL 513.234659 276.380656 \nL 517.325568 276.599364 \nL 521.416477 276.897721 \nL 525.507386 277.331342 \nL 529.598295 275.901848 \nL 533.689205 276.324323 \nL 537.780114 276.910054 \nL 541.871023 277.025247 \nL 545.961932 277.937942 \nL 550.052841 276.622244 \nL 554.14375 276.360441 \nL 558.234659 277.611842 \nL 562.325568 277.840113 \nL 566.416477 278.17584 \nL 570.507386 277.739304 \nL 574.598295 277.406541 \nL 578.689205 278.078132 \nL 582.780114 278.372855 \n\" style=\"fill:none;stroke:#1f77b4;stroke-linecap:square;stroke-width:1.5;\"/>\n   </g>\n   <g id=\"line2d_17\">\n    <path clip-path=\"url(#p2e19270b5f)\" d=\"M 75.507386 52.565168 \nL 79.598295 167.090824 \nL 83.689205 195.878722 \nL 87.780114 233.535941 \nL 91.871023 241.363224 \nL 95.961932 249.027582 \nL 100.052841 252.50577 \nL 104.14375 254.307536 \nL 108.234659 257.190334 \nL 112.325568 257.939829 \nL 116.416477 259.075376 \nL 120.507386 258.409794 \nL 124.598295 259.816205 \nL 128.689205 260.74956 \nL 132.780114 262.493903 \nL 136.871023 262.837537 \nL 140.961932 263.669524 \nL 145.052841 264.045197 \nL 149.14375 264.284678 \nL 153.234659 257.443076 \nL 157.325568 252.27187 \nL 161.416477 259.395523 \nL 165.507386 263.644205 \nL 169.598295 254.95254 \nL 173.689205 266.988914 \nL 177.780114 257.005191 \nL 181.871023 266.037106 \nL 185.961932 267.886418 \nL 190.052841 266.747786 \nL 194.14375 264.153687 \nL 198.234659 268.857666 \nL 202.325568 268.406173 \nL 206.416477 266.681544 \nL 210.507386 269.471891 \nL 214.598295 269.463201 \nL 218.689205 270.108034 \nL 222.780114 270.12699 \nL 226.871023 270.470785 \nL 230.961932 269.822317 \nL 235.052841 270.86446 \nL 239.14375 270.787847 \nL 243.234659 271.378868 \nL 247.325568 271.323214 \nL 251.416477 271.765056 \nL 255.507386 270.081035 \nL 259.598295 272.005837 \nL 263.689205 272.330128 \nL 267.780114 269.346166 \nL 271.871023 270.641778 \nL 275.961932 272.67977 \nL 280.052841 269.904381 \nL 284.14375 271.900206 \nL 288.234659 272.90498 \nL 292.325568 273.455377 \nL 296.416477 272.457452 \nL 300.507386 273.810188 \nL 304.598295 273.841088 \nL 308.689205 274.12683 \nL 312.780114 273.063438 \nL 316.871023 272.876026 \nL 320.961932 274.534695 \nL 325.052841 274.217706 \nL 329.14375 274.292226 \nL 333.234659 274.174925 \nL 337.325568 271.925695 \nL 341.416477 273.747354 \nL 345.507386 274.388368 \nL 349.598295 275.449127 \nL 353.689205 265.954993 \nL 357.780114 273.743364 \nL 361.871023 272.638799 \nL 365.961932 275.920173 \nL 370.052841 276.155898 \nL 374.14375 276.460894 \nL 378.234659 276.470174 \nL 382.325568 276.458052 \nL 386.416477 273.19812 \nL 390.507386 276.783303 \nL 394.598295 276.510984 \nL 398.689205 274.143064 \nL 402.780114 276.345491 \nL 406.871023 277.335832 \nL 410.961932 277.434703 \nL 415.052841 276.462954 \nL 419.14375 276.731518 \nL 423.234659 276.860174 \nL 427.325568 276.889984 \nL 431.416477 278.071582 \nL 435.507386 273.840313 \nL 439.598295 275.025238 \nL 443.689205 278.427443 \nL 447.780114 273.267795 \nL 451.871023 278.663096 \nL 455.961932 277.265665 \nL 460.052841 275.124779 \nL 464.14375 278.222279 \nL 468.234659 278.485682 \nL 472.325568 279.120437 \nL 476.416477 279.257468 \nL 480.507386 279.30461 \nL 484.598295 278.046545 \nL 488.689205 279.660302 \nL 492.780114 274.090737 \nL 496.871023 277.731825 \nL 500.961932 274.881131 \nL 505.052841 279.870481 \nL 509.14375 278.394322 \nL 513.234659 279.769486 \nL 517.325568 280.087736 \nL 521.416477 278.144213 \nL 525.507386 279.045383 \nL 529.598295 279.777385 \nL 533.689205 280.060728 \nL 537.780114 280.759747 \nL 541.871023 280.916751 \nL 545.961932 280.733717 \nL 550.052841 280.386885 \nL 554.14375 279.4867 \nL 558.234659 279.065105 \nL 562.325568 281.318991 \nL 566.416477 281.051562 \nL 570.507386 281.547468 \nL 574.598295 279.458126 \nL 578.689205 280.628506 \nL 582.780114 281.76358 \n\" style=\"fill:none;stroke:#ff7f0e;stroke-linecap:square;stroke-width:1.5;\"/>\n   </g>\n   <g id=\"patch_3\">\n    <path d=\"M 50.14375 294.118125 \nL 50.14375 22.318125 \n\" style=\"fill:none;stroke:#000000;stroke-linecap:square;stroke-linejoin:miter;stroke-width:0.8;\"/>\n   </g>\n   <g id=\"patch_4\">\n    <path d=\"M 608.14375 294.118125 \nL 608.14375 22.318125 \n\" style=\"fill:none;stroke:#000000;stroke-linecap:square;stroke-linejoin:miter;stroke-width:0.8;\"/>\n   </g>\n   <g id=\"patch_5\">\n    <path d=\"M 50.14375 294.118125 \nL 608.14375 294.118125 \n\" style=\"fill:none;stroke:#000000;stroke-linecap:square;stroke-linejoin:miter;stroke-width:0.8;\"/>\n   </g>\n   <g id=\"patch_6\">\n    <path d=\"M 50.14375 22.318125 \nL 608.14375 22.318125 \n\" style=\"fill:none;stroke:#000000;stroke-linecap:square;stroke-linejoin:miter;stroke-width:0.8;\"/>\n   </g>\n   <g id=\"text_18\">\n    <!-- Loss vs. epochs, batch=64 -->\n    <defs>\n     <path id=\"DejaVuSans-32\"/>\n     <path d=\"M 2.984375 54.6875 \nL 12.5 54.6875 \nL 29.59375 8.796875 \nL 46.6875 54.6875 \nL 56.203125 54.6875 \nL 35.6875 0 \nL 23.484375 0 \nz\n\" id=\"DejaVuSans-118\"/>\n     <path d=\"M 56.203125 29.59375 \nL 56.203125 25.203125 \nL 14.890625 25.203125 \nQ 15.484375 15.921875 20.484375 11.0625 \nQ 25.484375 6.203125 34.421875 6.203125 \nQ 39.59375 6.203125 44.453125 7.46875 \nQ 49.3125 8.734375 54.109375 11.28125 \nL 54.109375 2.78125 \nQ 49.265625 0.734375 44.1875 -0.34375 \nQ 39.109375 -1.421875 33.890625 -1.421875 \nQ 20.796875 -1.421875 13.15625 6.1875 \nQ 5.515625 13.8125 5.515625 26.8125 \nQ 5.515625 40.234375 12.765625 48.109375 \nQ 20.015625 56 32.328125 56 \nQ 43.359375 56 49.78125 48.890625 \nQ 56.203125 41.796875 56.203125 29.59375 \nz\nM 47.21875 32.234375 \nQ 47.125 39.59375 43.09375 43.984375 \nQ 39.0625 48.390625 32.421875 48.390625 \nQ 24.90625 48.390625 20.390625 44.140625 \nQ 15.875 39.890625 15.1875 32.171875 \nz\n\" id=\"DejaVuSans-101\"/>\n     <path d=\"M 11.71875 12.40625 \nL 22.015625 12.40625 \nL 22.015625 4 \nL 14.015625 -11.625 \nL 7.71875 -11.625 \nL 11.71875 4 \nz\n\" id=\"DejaVuSans-44\"/>\n     <path d=\"M 48.6875 27.296875 \nQ 48.6875 37.203125 44.609375 42.84375 \nQ 40.53125 48.484375 33.40625 48.484375 \nQ 26.265625 48.484375 22.1875 42.84375 \nQ 18.109375 37.203125 18.109375 27.296875 \nQ 18.109375 17.390625 22.1875 11.75 \nQ 26.265625 6.109375 33.40625 6.109375 \nQ 40.53125 6.109375 44.609375 11.75 \nQ 48.6875 17.390625 48.6875 27.296875 \nz\nM 18.109375 46.390625 \nQ 20.953125 51.265625 25.265625 53.625 \nQ 29.59375 56 35.59375 56 \nQ 45.5625 56 51.78125 48.09375 \nQ 58.015625 40.1875 58.015625 27.296875 \nQ 58.015625 14.40625 51.78125 6.484375 \nQ 45.5625 -1.421875 35.59375 -1.421875 \nQ 29.59375 -1.421875 25.265625 0.953125 \nQ 20.953125 3.328125 18.109375 8.203125 \nL 18.109375 0 \nL 9.078125 0 \nL 9.078125 75.984375 \nL 18.109375 75.984375 \nz\n\" id=\"DejaVuSans-98\"/>\n     <path d=\"M 34.28125 27.484375 \nQ 23.390625 27.484375 19.1875 25 \nQ 14.984375 22.515625 14.984375 16.5 \nQ 14.984375 11.71875 18.140625 8.90625 \nQ 21.296875 6.109375 26.703125 6.109375 \nQ 34.1875 6.109375 38.703125 11.40625 \nQ 43.21875 16.703125 43.21875 25.484375 \nL 43.21875 27.484375 \nz\nM 52.203125 31.203125 \nL 52.203125 0 \nL 43.21875 0 \nL 43.21875 8.296875 \nQ 40.140625 3.328125 35.546875 0.953125 \nQ 30.953125 -1.421875 24.3125 -1.421875 \nQ 15.921875 -1.421875 10.953125 3.296875 \nQ 6 8.015625 6 15.921875 \nQ 6 25.140625 12.171875 29.828125 \nQ 18.359375 34.515625 30.609375 34.515625 \nL 43.21875 34.515625 \nL 43.21875 35.40625 \nQ 43.21875 41.609375 39.140625 45 \nQ 35.0625 48.390625 27.6875 48.390625 \nQ 23 48.390625 18.546875 47.265625 \nQ 14.109375 46.140625 10.015625 43.890625 \nL 10.015625 52.203125 \nQ 14.9375 54.109375 19.578125 55.046875 \nQ 24.21875 56 28.609375 56 \nQ 40.484375 56 46.34375 49.84375 \nQ 52.203125 43.703125 52.203125 31.203125 \nz\n\" id=\"DejaVuSans-97\"/>\n     <path d=\"M 18.3125 70.21875 \nL 18.3125 54.6875 \nL 36.8125 54.6875 \nL 36.8125 47.703125 \nL 18.3125 47.703125 \nL 18.3125 18.015625 \nQ 18.3125 11.328125 20.140625 9.421875 \nQ 21.96875 7.515625 27.59375 7.515625 \nL 36.8125 7.515625 \nL 36.8125 0 \nL 27.59375 0 \nQ 17.1875 0 13.234375 3.875 \nQ 9.28125 7.765625 9.28125 18.015625 \nL 9.28125 47.703125 \nL 2.6875 47.703125 \nL 2.6875 54.6875 \nL 9.28125 54.6875 \nL 9.28125 70.21875 \nz\n\" id=\"DejaVuSans-116\"/>\n     <path d=\"M 10.59375 45.40625 \nL 73.1875 45.40625 \nL 73.1875 37.203125 \nL 10.59375 37.203125 \nz\nM 10.59375 25.484375 \nL 73.1875 25.484375 \nL 73.1875 17.1875 \nL 10.59375 17.1875 \nz\n\" id=\"DejaVuSans-61\"/>\n    </defs>\n    <g transform=\"translate(248.77 16.318125)scale(0.12 -0.12)\">\n     <use xlink:href=\"#DejaVuSans-76\"/>\n     <use x=\"53.962891\" xlink:href=\"#DejaVuSans-111\"/>\n     <use x=\"115.144531\" xlink:href=\"#DejaVuSans-115\"/>\n     <use x=\"167.244141\" xlink:href=\"#DejaVuSans-115\"/>\n     <use x=\"219.34375\" xlink:href=\"#DejaVuSans-32\"/>\n     <use x=\"251.130859\" xlink:href=\"#DejaVuSans-118\"/>\n     <use x=\"310.310547\" xlink:href=\"#DejaVuSans-115\"/>\n     <use x=\"362.410156\" xlink:href=\"#DejaVuSans-46\"/>\n     <use x=\"394.197266\" xlink:href=\"#DejaVuSans-32\"/>\n     <use x=\"425.984375\" xlink:href=\"#DejaVuSans-101\"/>\n     <use x=\"487.507812\" xlink:href=\"#DejaVuSans-112\"/>\n     <use x=\"550.984375\" xlink:href=\"#DejaVuSans-111\"/>\n     <use x=\"612.166016\" xlink:href=\"#DejaVuSans-99\"/>\n     <use x=\"667.146484\" xlink:href=\"#DejaVuSans-104\"/>\n     <use x=\"730.525391\" xlink:href=\"#DejaVuSans-115\"/>\n     <use x=\"782.625\" xlink:href=\"#DejaVuSans-44\"/>\n     <use x=\"814.412109\" xlink:href=\"#DejaVuSans-32\"/>\n     <use x=\"846.199219\" xlink:href=\"#DejaVuSans-98\"/>\n     <use x=\"909.675781\" xlink:href=\"#DejaVuSans-97\"/>\n     <use x=\"970.955078\" xlink:href=\"#DejaVuSans-116\"/>\n     <use x=\"1010.164062\" xlink:href=\"#DejaVuSans-99\"/>\n     <use x=\"1065.144531\" xlink:href=\"#DejaVuSans-104\"/>\n     <use x=\"1128.523438\" xlink:href=\"#DejaVuSans-61\"/>\n     <use x=\"1212.3125\" xlink:href=\"#DejaVuSans-54\"/>\n     <use x=\"1275.935547\" xlink:href=\"#DejaVuSans-52\"/>\n    </g>\n   </g>\n   <g id=\"legend_1\">\n    <g id=\"patch_7\">\n     <path d=\"M 519.7625 59.674375 \nL 601.14375 59.674375 \nQ 603.14375 59.674375 603.14375 57.674375 \nL 603.14375 29.318125 \nQ 603.14375 27.318125 601.14375 27.318125 \nL 519.7625 27.318125 \nQ 517.7625 27.318125 517.7625 29.318125 \nL 517.7625 57.674375 \nQ 517.7625 59.674375 519.7625 59.674375 \nz\n\" style=\"fill:#ffffff;opacity:0.8;stroke:#cccccc;stroke-linejoin:miter;\"/>\n    </g>\n    <g id=\"line2d_18\">\n     <path d=\"M 521.7625 35.416562 \nL 541.7625 35.416562 \n\" style=\"fill:none;stroke:#1f77b4;stroke-linecap:square;stroke-width:1.5;\"/>\n    </g>\n    <g id=\"line2d_19\"/>\n    <g id=\"text_19\">\n     <!-- Training -->\n     <defs>\n      <path d=\"M -0.296875 72.90625 \nL 61.375 72.90625 \nL 61.375 64.59375 \nL 35.5 64.59375 \nL 35.5 0 \nL 25.59375 0 \nL 25.59375 64.59375 \nL -0.296875 64.59375 \nz\n\" id=\"DejaVuSans-84\"/>\n      <path d=\"M 41.109375 46.296875 \nQ 39.59375 47.171875 37.8125 47.578125 \nQ 36.03125 48 33.890625 48 \nQ 26.265625 48 22.1875 43.046875 \nQ 18.109375 38.09375 18.109375 28.8125 \nL 18.109375 0 \nL 9.078125 0 \nL 9.078125 54.6875 \nL 18.109375 54.6875 \nL 18.109375 46.1875 \nQ 20.953125 51.171875 25.484375 53.578125 \nQ 30.03125 56 36.53125 56 \nQ 37.453125 56 38.578125 55.875 \nQ 39.703125 55.765625 41.0625 55.515625 \nz\n\" id=\"DejaVuSans-114\"/>\n      <path d=\"M 9.421875 54.6875 \nL 18.40625 54.6875 \nL 18.40625 0 \nL 9.421875 0 \nz\nM 9.421875 75.984375 \nL 18.40625 75.984375 \nL 18.40625 64.59375 \nL 9.421875 64.59375 \nz\n\" id=\"DejaVuSans-105\"/>\n      <path d=\"M 54.890625 33.015625 \nL 54.890625 0 \nL 45.90625 0 \nL 45.90625 32.71875 \nQ 45.90625 40.484375 42.875 44.328125 \nQ 39.84375 48.1875 33.796875 48.1875 \nQ 26.515625 48.1875 22.3125 43.546875 \nQ 18.109375 38.921875 18.109375 30.90625 \nL 18.109375 0 \nL 9.078125 0 \nL 9.078125 54.6875 \nL 18.109375 54.6875 \nL 18.109375 46.1875 \nQ 21.34375 51.125 25.703125 53.5625 \nQ 30.078125 56 35.796875 56 \nQ 45.21875 56 50.046875 50.171875 \nQ 54.890625 44.34375 54.890625 33.015625 \nz\n\" id=\"DejaVuSans-110\"/>\n      <path d=\"M 45.40625 27.984375 \nQ 45.40625 37.75 41.375 43.109375 \nQ 37.359375 48.484375 30.078125 48.484375 \nQ 22.859375 48.484375 18.828125 43.109375 \nQ 14.796875 37.75 14.796875 27.984375 \nQ 14.796875 18.265625 18.828125 12.890625 \nQ 22.859375 7.515625 30.078125 7.515625 \nQ 37.359375 7.515625 41.375 12.890625 \nQ 45.40625 18.265625 45.40625 27.984375 \nz\nM 54.390625 6.78125 \nQ 54.390625 -7.171875 48.1875 -13.984375 \nQ 42 -20.796875 29.203125 -20.796875 \nQ 24.46875 -20.796875 20.265625 -20.09375 \nQ 16.0625 -19.390625 12.109375 -17.921875 \nL 12.109375 -9.1875 \nQ 16.0625 -11.328125 19.921875 -12.34375 \nQ 23.78125 -13.375 27.78125 -13.375 \nQ 36.625 -13.375 41.015625 -8.765625 \nQ 45.40625 -4.15625 45.40625 5.171875 \nL 45.40625 9.625 \nQ 42.625 4.78125 38.28125 2.390625 \nQ 33.9375 0 27.875 0 \nQ 17.828125 0 11.671875 7.65625 \nQ 5.515625 15.328125 5.515625 27.984375 \nQ 5.515625 40.671875 11.671875 48.328125 \nQ 17.828125 56 27.875 56 \nQ 33.9375 56 38.28125 53.609375 \nQ 42.625 51.21875 45.40625 46.390625 \nL 45.40625 54.6875 \nL 54.390625 54.6875 \nz\n\" id=\"DejaVuSans-103\"/>\n     </defs>\n     <g transform=\"translate(549.7625 38.916562)scale(0.1 -0.1)\">\n      <use xlink:href=\"#DejaVuSans-84\"/>\n      <use x=\"46.333984\" xlink:href=\"#DejaVuSans-114\"/>\n      <use x=\"87.447266\" xlink:href=\"#DejaVuSans-97\"/>\n      <use x=\"148.726562\" xlink:href=\"#DejaVuSans-105\"/>\n      <use x=\"176.509766\" xlink:href=\"#DejaVuSans-110\"/>\n      <use x=\"239.888672\" xlink:href=\"#DejaVuSans-105\"/>\n      <use x=\"267.671875\" xlink:href=\"#DejaVuSans-110\"/>\n      <use x=\"331.050781\" xlink:href=\"#DejaVuSans-103\"/>\n     </g>\n    </g>\n    <g id=\"line2d_20\">\n     <path d=\"M 521.7625 50.094688 \nL 541.7625 50.094688 \n\" style=\"fill:none;stroke:#ff7f0e;stroke-linecap:square;stroke-width:1.5;\"/>\n    </g>\n    <g id=\"line2d_21\"/>\n    <g id=\"text_20\">\n     <!-- Validation -->\n     <defs>\n      <path d=\"M 28.609375 0 \nL 0.78125 72.90625 \nL 11.078125 72.90625 \nL 34.1875 11.53125 \nL 57.328125 72.90625 \nL 67.578125 72.90625 \nL 39.796875 0 \nz\n\" id=\"DejaVuSans-86\"/>\n      <path d=\"M 9.421875 75.984375 \nL 18.40625 75.984375 \nL 18.40625 0 \nL 9.421875 0 \nz\n\" id=\"DejaVuSans-108\"/>\n      <path d=\"M 45.40625 46.390625 \nL 45.40625 75.984375 \nL 54.390625 75.984375 \nL 54.390625 0 \nL 45.40625 0 \nL 45.40625 8.203125 \nQ 42.578125 3.328125 38.25 0.953125 \nQ 33.9375 -1.421875 27.875 -1.421875 \nQ 17.96875 -1.421875 11.734375 6.484375 \nQ 5.515625 14.40625 5.515625 27.296875 \nQ 5.515625 40.1875 11.734375 48.09375 \nQ 17.96875 56 27.875 56 \nQ 33.9375 56 38.25 53.625 \nQ 42.578125 51.265625 45.40625 46.390625 \nz\nM 14.796875 27.296875 \nQ 14.796875 17.390625 18.875 11.75 \nQ 22.953125 6.109375 30.078125 6.109375 \nQ 37.203125 6.109375 41.296875 11.75 \nQ 45.40625 17.390625 45.40625 27.296875 \nQ 45.40625 37.203125 41.296875 42.84375 \nQ 37.203125 48.484375 30.078125 48.484375 \nQ 22.953125 48.484375 18.875 42.84375 \nQ 14.796875 37.203125 14.796875 27.296875 \nz\n\" id=\"DejaVuSans-100\"/>\n     </defs>\n     <g transform=\"translate(549.7625 53.594688)scale(0.1 -0.1)\">\n      <use xlink:href=\"#DejaVuSans-86\"/>\n      <use x=\"60.658203\" xlink:href=\"#DejaVuSans-97\"/>\n      <use x=\"121.9375\" xlink:href=\"#DejaVuSans-108\"/>\n      <use x=\"149.720703\" xlink:href=\"#DejaVuSans-105\"/>\n      <use x=\"177.503906\" xlink:href=\"#DejaVuSans-100\"/>\n      <use x=\"240.980469\" xlink:href=\"#DejaVuSans-97\"/>\n      <use x=\"302.259766\" xlink:href=\"#DejaVuSans-116\"/>\n      <use x=\"341.46875\" xlink:href=\"#DejaVuSans-105\"/>\n      <use x=\"369.251953\" xlink:href=\"#DejaVuSans-111\"/>\n      <use x=\"430.433594\" xlink:href=\"#DejaVuSans-110\"/>\n     </g>\n    </g>\n   </g>\n  </g>\n </g>\n <defs>\n  <clipPath id=\"p2e19270b5f\">\n   <rect height=\"271.8\" width=\"558\" x=\"50.14375\" y=\"22.318125\"/>\n  </clipPath>\n </defs>\n</svg>\n"
          },
          "metadata": {
            "needs_background": "light"
          }
        }
      ],
      "source": [
        "plt.figure(figsize=(10,5))\n",
        "plt.plot(history.history['loss'])\n",
        "plt.plot(history.history['val_loss'])\n",
        "plt.title('Loss vs. epochs, batch=' +str(batch_size))\n",
        "plt.ylabel('Loss')\n",
        "plt.xlabel('Epoch')\n",
        "plt.legend(['Training', 'Validation'], loc='upper right')\n",
        "plt.show()"
      ]
    },
    {
      "cell_type": "markdown",
      "id": "9c476d8f-d9d5-49e9-bcb1-c47f3505d456",
      "metadata": {
        "id": "9c476d8f-d9d5-49e9-bcb1-c47f3505d456"
      },
      "source": [
        "##### LR =  0.1"
      ]
    },
    {
      "cell_type": "markdown",
      "id": "5538b4df-7c6b-4d4d-9cbd-e7b14e57a8d6",
      "metadata": {
        "id": "5538b4df-7c6b-4d4d-9cbd-e7b14e57a8d6"
      },
      "source": [
        "10. **Retrain for 0.1 LR**"
      ]
    },
    {
      "cell_type": "code",
      "execution_count": 153,
      "id": "2c320fde-e42b-4d0a-941c-86b2c5817c66",
      "metadata": {
        "tags": [],
        "id": "2c320fde-e42b-4d0a-941c-86b2c5817c66",
        "colab": {
          "base_uri": "https://localhost:8080/"
        },
        "outputId": "1e37d843-4241-4d97-9c5d-490c2e789799"
      },
      "outputs": [
        {
          "output_type": "stream",
          "name": "stdout",
          "text": [
            "Epoch 1/125\n",
            "8/8 [==============================] - 0s 26ms/step - loss: 8.6666 - accuracy: 0.4300 - val_loss: 3.6138 - val_accuracy: 0.5280\n",
            "Epoch 2/125\n",
            "8/8 [==============================] - 0s 8ms/step - loss: 2.2199 - accuracy: 0.5920 - val_loss: 2.2751 - val_accuracy: 0.6080\n",
            "Epoch 3/125\n",
            "8/8 [==============================] - 0s 7ms/step - loss: 1.5741 - accuracy: 0.6560 - val_loss: 0.8785 - val_accuracy: 0.8320\n",
            "Epoch 4/125\n",
            "8/8 [==============================] - 0s 8ms/step - loss: 0.8037 - accuracy: 0.7680 - val_loss: 0.7798 - val_accuracy: 0.8200\n",
            "Epoch 5/125\n",
            "8/8 [==============================] - 0s 9ms/step - loss: 0.7667 - accuracy: 0.7680 - val_loss: 0.6933 - val_accuracy: 0.8100\n",
            "Epoch 6/125\n",
            "8/8 [==============================] - 0s 8ms/step - loss: 0.7133 - accuracy: 0.7860 - val_loss: 0.6793 - val_accuracy: 0.8180\n",
            "Epoch 7/125\n",
            "8/8 [==============================] - 0s 8ms/step - loss: 0.6444 - accuracy: 0.8040 - val_loss: 0.5835 - val_accuracy: 0.8220\n",
            "Epoch 8/125\n",
            "8/8 [==============================] - 0s 8ms/step - loss: 0.6387 - accuracy: 0.7740 - val_loss: 0.6076 - val_accuracy: 0.7940\n",
            "Epoch 9/125\n",
            "8/8 [==============================] - 0s 8ms/step - loss: 0.5714 - accuracy: 0.8040 - val_loss: 0.5256 - val_accuracy: 0.8000\n",
            "Epoch 10/125\n",
            "8/8 [==============================] - 0s 8ms/step - loss: 0.5339 - accuracy: 0.8160 - val_loss: 0.5521 - val_accuracy: 0.8060\n",
            "Epoch 11/125\n",
            "8/8 [==============================] - 0s 8ms/step - loss: 0.5296 - accuracy: 0.8160 - val_loss: 0.4684 - val_accuracy: 0.8300\n",
            "Epoch 12/125\n",
            "8/8 [==============================] - 0s 8ms/step - loss: 0.4948 - accuracy: 0.8060 - val_loss: 0.4966 - val_accuracy: 0.8080\n",
            "Epoch 13/125\n",
            "8/8 [==============================] - 0s 8ms/step - loss: 0.4960 - accuracy: 0.7960 - val_loss: 0.4308 - val_accuracy: 0.8200\n",
            "Epoch 14/125\n",
            "8/8 [==============================] - 0s 7ms/step - loss: 0.4819 - accuracy: 0.8020 - val_loss: 0.4244 - val_accuracy: 0.8280\n",
            "Epoch 15/125\n",
            "8/8 [==============================] - 0s 8ms/step - loss: 0.4452 - accuracy: 0.8100 - val_loss: 0.4959 - val_accuracy: 0.8040\n",
            "Epoch 16/125\n",
            "8/8 [==============================] - 0s 7ms/step - loss: 0.4709 - accuracy: 0.8060 - val_loss: 0.4331 - val_accuracy: 0.8280\n",
            "Epoch 17/125\n",
            "8/8 [==============================] - 0s 8ms/step - loss: 0.4363 - accuracy: 0.8160 - val_loss: 0.4330 - val_accuracy: 0.8320\n",
            "Epoch 18/125\n",
            "8/8 [==============================] - 0s 8ms/step - loss: 0.4407 - accuracy: 0.8020 - val_loss: 0.4276 - val_accuracy: 0.8260\n",
            "Epoch 19/125\n",
            "8/8 [==============================] - 0s 7ms/step - loss: 0.4360 - accuracy: 0.8040 - val_loss: 0.4663 - val_accuracy: 0.8040\n",
            "Epoch 20/125\n",
            "8/8 [==============================] - 0s 8ms/step - loss: 0.4496 - accuracy: 0.8100 - val_loss: 0.4360 - val_accuracy: 0.8320\n",
            "Epoch 21/125\n",
            "8/8 [==============================] - 0s 7ms/step - loss: 0.4366 - accuracy: 0.8140 - val_loss: 0.4248 - val_accuracy: 0.8240\n",
            "Epoch 22/125\n",
            "8/8 [==============================] - 0s 7ms/step - loss: 0.4299 - accuracy: 0.8160 - val_loss: 0.4544 - val_accuracy: 0.8220\n",
            "Epoch 23/125\n",
            "8/8 [==============================] - 0s 9ms/step - loss: 0.4243 - accuracy: 0.8200 - val_loss: 0.4126 - val_accuracy: 0.8220\n",
            "Epoch 24/125\n",
            "8/8 [==============================] - 0s 7ms/step - loss: 0.4825 - accuracy: 0.7720 - val_loss: 0.4264 - val_accuracy: 0.8200\n",
            "Epoch 25/125\n",
            "8/8 [==============================] - 0s 7ms/step - loss: 0.4401 - accuracy: 0.8180 - val_loss: 0.4338 - val_accuracy: 0.8160\n",
            "Epoch 26/125\n",
            "8/8 [==============================] - 0s 8ms/step - loss: 0.4518 - accuracy: 0.7960 - val_loss: 0.4255 - val_accuracy: 0.8240\n",
            "Epoch 27/125\n",
            "8/8 [==============================] - 0s 7ms/step - loss: 0.4705 - accuracy: 0.7760 - val_loss: 0.4103 - val_accuracy: 0.8220\n",
            "Epoch 28/125\n",
            "8/8 [==============================] - 0s 8ms/step - loss: 0.5764 - accuracy: 0.7400 - val_loss: 0.4496 - val_accuracy: 0.8100\n",
            "Epoch 29/125\n",
            "8/8 [==============================] - 0s 7ms/step - loss: 0.5321 - accuracy: 0.7740 - val_loss: 0.4309 - val_accuracy: 0.8200\n",
            "Epoch 30/125\n",
            "8/8 [==============================] - 0s 8ms/step - loss: 0.4610 - accuracy: 0.7800 - val_loss: 0.4214 - val_accuracy: 0.8100\n",
            "Epoch 31/125\n",
            "8/8 [==============================] - 0s 8ms/step - loss: 0.4522 - accuracy: 0.7940 - val_loss: 0.4597 - val_accuracy: 0.8260\n",
            "Epoch 32/125\n",
            "8/8 [==============================] - 0s 8ms/step - loss: 0.4404 - accuracy: 0.8040 - val_loss: 0.4070 - val_accuracy: 0.8260\n",
            "Epoch 33/125\n",
            "8/8 [==============================] - 0s 7ms/step - loss: 0.4174 - accuracy: 0.8060 - val_loss: 0.4064 - val_accuracy: 0.8300\n",
            "Epoch 34/125\n",
            "8/8 [==============================] - 0s 7ms/step - loss: 0.4701 - accuracy: 0.7840 - val_loss: 0.4941 - val_accuracy: 0.7960\n",
            "Epoch 35/125\n",
            "8/8 [==============================] - 0s 9ms/step - loss: 0.5243 - accuracy: 0.7560 - val_loss: 0.4257 - val_accuracy: 0.8180\n",
            "Epoch 36/125\n",
            "8/8 [==============================] - 0s 8ms/step - loss: 0.4136 - accuracy: 0.8080 - val_loss: 0.4178 - val_accuracy: 0.8180\n",
            "Epoch 37/125\n",
            "8/8 [==============================] - 0s 7ms/step - loss: 0.4006 - accuracy: 0.8200 - val_loss: 0.4085 - val_accuracy: 0.8280\n",
            "Epoch 38/125\n",
            "8/8 [==============================] - 0s 7ms/step - loss: 0.4011 - accuracy: 0.8220 - val_loss: 0.4205 - val_accuracy: 0.8200\n",
            "Epoch 39/125\n",
            "8/8 [==============================] - 0s 8ms/step - loss: 0.4049 - accuracy: 0.8280 - val_loss: 0.4433 - val_accuracy: 0.8240\n",
            "Epoch 40/125\n",
            "8/8 [==============================] - 0s 8ms/step - loss: 0.4078 - accuracy: 0.8240 - val_loss: 0.4062 - val_accuracy: 0.8320\n",
            "Epoch 41/125\n",
            "8/8 [==============================] - 0s 7ms/step - loss: 0.4279 - accuracy: 0.8000 - val_loss: 0.4166 - val_accuracy: 0.8200\n",
            "Epoch 42/125\n",
            "8/8 [==============================] - 0s 7ms/step - loss: 0.4421 - accuracy: 0.7980 - val_loss: 0.4535 - val_accuracy: 0.8200\n",
            "Epoch 43/125\n",
            "8/8 [==============================] - 0s 7ms/step - loss: 0.4551 - accuracy: 0.8060 - val_loss: 0.4070 - val_accuracy: 0.8280\n",
            "Epoch 44/125\n",
            "8/8 [==============================] - 0s 7ms/step - loss: 0.4140 - accuracy: 0.8120 - val_loss: 0.4198 - val_accuracy: 0.8220\n",
            "Epoch 45/125\n",
            "8/8 [==============================] - 0s 7ms/step - loss: 0.4024 - accuracy: 0.8140 - val_loss: 0.4689 - val_accuracy: 0.8000\n",
            "Epoch 46/125\n",
            "8/8 [==============================] - 0s 8ms/step - loss: 0.4056 - accuracy: 0.8080 - val_loss: 0.4152 - val_accuracy: 0.8200\n",
            "Epoch 47/125\n",
            "8/8 [==============================] - 0s 7ms/step - loss: 0.4113 - accuracy: 0.8220 - val_loss: 0.4464 - val_accuracy: 0.8160\n",
            "Epoch 48/125\n",
            "8/8 [==============================] - 0s 8ms/step - loss: 0.4447 - accuracy: 0.8080 - val_loss: 0.4137 - val_accuracy: 0.8240\n",
            "Epoch 49/125\n",
            "8/8 [==============================] - 0s 9ms/step - loss: 0.4100 - accuracy: 0.8260 - val_loss: 0.4252 - val_accuracy: 0.8260\n",
            "Epoch 50/125\n",
            "8/8 [==============================] - 0s 7ms/step - loss: 0.4207 - accuracy: 0.8100 - val_loss: 0.4114 - val_accuracy: 0.8260\n",
            "Epoch 51/125\n",
            "8/8 [==============================] - 0s 7ms/step - loss: 0.4308 - accuracy: 0.8200 - val_loss: 0.4246 - val_accuracy: 0.8140\n",
            "Epoch 52/125\n",
            "8/8 [==============================] - 0s 14ms/step - loss: 0.4661 - accuracy: 0.7880 - val_loss: 0.4121 - val_accuracy: 0.8280\n",
            "Epoch 53/125\n",
            "8/8 [==============================] - 0s 7ms/step - loss: 0.4330 - accuracy: 0.8120 - val_loss: 0.4321 - val_accuracy: 0.8180\n",
            "Epoch 54/125\n",
            "8/8 [==============================] - 0s 9ms/step - loss: 0.4174 - accuracy: 0.8140 - val_loss: 0.4225 - val_accuracy: 0.8220\n",
            "Epoch 55/125\n",
            "8/8 [==============================] - 0s 8ms/step - loss: 0.4031 - accuracy: 0.8200 - val_loss: 0.4162 - val_accuracy: 0.8160\n",
            "Epoch 56/125\n",
            "8/8 [==============================] - 0s 7ms/step - loss: 0.4045 - accuracy: 0.8100 - val_loss: 0.4104 - val_accuracy: 0.8260\n",
            "Epoch 57/125\n",
            "8/8 [==============================] - 0s 7ms/step - loss: 0.3935 - accuracy: 0.8200 - val_loss: 0.4073 - val_accuracy: 0.8300\n",
            "Epoch 58/125\n",
            "8/8 [==============================] - 0s 8ms/step - loss: 0.4316 - accuracy: 0.8020 - val_loss: 0.4318 - val_accuracy: 0.8280\n",
            "Epoch 59/125\n",
            "8/8 [==============================] - 0s 8ms/step - loss: 0.4373 - accuracy: 0.8140 - val_loss: 0.4223 - val_accuracy: 0.8240\n",
            "Epoch 60/125\n",
            "8/8 [==============================] - 0s 8ms/step - loss: 0.4079 - accuracy: 0.8200 - val_loss: 0.4290 - val_accuracy: 0.8200\n",
            "Epoch 61/125\n",
            "8/8 [==============================] - 0s 8ms/step - loss: 0.4079 - accuracy: 0.8240 - val_loss: 0.4074 - val_accuracy: 0.8260\n",
            "Epoch 62/125\n",
            "8/8 [==============================] - 0s 7ms/step - loss: 0.4037 - accuracy: 0.8180 - val_loss: 0.4139 - val_accuracy: 0.8300\n",
            "Epoch 63/125\n",
            "8/8 [==============================] - 0s 8ms/step - loss: 0.4054 - accuracy: 0.8180 - val_loss: 0.4061 - val_accuracy: 0.8260\n",
            "Epoch 64/125\n",
            "8/8 [==============================] - 0s 8ms/step - loss: 0.4245 - accuracy: 0.8020 - val_loss: 0.4193 - val_accuracy: 0.8220\n",
            "Epoch 65/125\n",
            "8/8 [==============================] - 0s 8ms/step - loss: 0.4349 - accuracy: 0.8140 - val_loss: 0.4382 - val_accuracy: 0.8040\n",
            "Epoch 66/125\n",
            "8/8 [==============================] - 0s 16ms/step - loss: 0.4208 - accuracy: 0.8180 - val_loss: 0.4021 - val_accuracy: 0.8320\n",
            "Epoch 67/125\n",
            "8/8 [==============================] - 0s 10ms/step - loss: 0.3993 - accuracy: 0.8200 - val_loss: 0.4041 - val_accuracy: 0.8280\n",
            "Epoch 68/125\n",
            "8/8 [==============================] - 0s 17ms/step - loss: 0.4087 - accuracy: 0.8020 - val_loss: 0.4144 - val_accuracy: 0.8280\n",
            "Epoch 69/125\n",
            "8/8 [==============================] - 0s 11ms/step - loss: 0.3937 - accuracy: 0.8380 - val_loss: 0.4177 - val_accuracy: 0.8200\n",
            "Epoch 70/125\n",
            "8/8 [==============================] - 0s 16ms/step - loss: 0.4318 - accuracy: 0.8040 - val_loss: 0.5114 - val_accuracy: 0.7780\n",
            "Epoch 71/125\n",
            "8/8 [==============================] - 0s 16ms/step - loss: 0.4268 - accuracy: 0.8120 - val_loss: 0.5121 - val_accuracy: 0.7680\n",
            "Epoch 72/125\n",
            "8/8 [==============================] - 0s 16ms/step - loss: 0.4364 - accuracy: 0.8080 - val_loss: 0.5319 - val_accuracy: 0.7580\n",
            "Epoch 73/125\n",
            "8/8 [==============================] - 0s 16ms/step - loss: 0.4453 - accuracy: 0.8220 - val_loss: 0.4104 - val_accuracy: 0.8200\n",
            "Epoch 74/125\n",
            "8/8 [==============================] - 0s 17ms/step - loss: 0.4033 - accuracy: 0.8300 - val_loss: 0.4014 - val_accuracy: 0.8320\n",
            "Epoch 75/125\n",
            "8/8 [==============================] - 0s 13ms/step - loss: 0.4142 - accuracy: 0.8140 - val_loss: 0.4124 - val_accuracy: 0.8180\n",
            "Epoch 76/125\n",
            "8/8 [==============================] - 0s 16ms/step - loss: 0.4107 - accuracy: 0.8200 - val_loss: 0.4269 - val_accuracy: 0.8260\n",
            "Epoch 77/125\n",
            "8/8 [==============================] - 0s 16ms/step - loss: 0.4153 - accuracy: 0.8200 - val_loss: 0.4856 - val_accuracy: 0.7900\n",
            "Epoch 78/125\n",
            "8/8 [==============================] - 0s 15ms/step - loss: 0.4219 - accuracy: 0.8300 - val_loss: 0.5104 - val_accuracy: 0.7580\n",
            "Epoch 79/125\n",
            "8/8 [==============================] - 0s 16ms/step - loss: 0.4167 - accuracy: 0.8140 - val_loss: 0.4221 - val_accuracy: 0.8200\n",
            "Epoch 80/125\n",
            "8/8 [==============================] - 0s 10ms/step - loss: 0.3890 - accuracy: 0.8260 - val_loss: 0.4848 - val_accuracy: 0.7960\n",
            "Epoch 81/125\n",
            "8/8 [==============================] - 0s 16ms/step - loss: 0.4338 - accuracy: 0.8100 - val_loss: 0.4833 - val_accuracy: 0.7860\n",
            "Epoch 82/125\n",
            "8/8 [==============================] - 0s 12ms/step - loss: 0.4314 - accuracy: 0.8080 - val_loss: 0.4623 - val_accuracy: 0.8120\n",
            "Epoch 83/125\n",
            "8/8 [==============================] - 0s 15ms/step - loss: 0.3890 - accuracy: 0.8260 - val_loss: 0.4192 - val_accuracy: 0.8220\n",
            "Epoch 84/125\n",
            "8/8 [==============================] - 0s 13ms/step - loss: 0.3900 - accuracy: 0.8220 - val_loss: 0.4181 - val_accuracy: 0.8220\n",
            "Epoch 85/125\n",
            "8/8 [==============================] - 0s 7ms/step - loss: 0.3904 - accuracy: 0.8300 - val_loss: 0.4026 - val_accuracy: 0.8320\n",
            "Epoch 86/125\n",
            "8/8 [==============================] - 0s 7ms/step - loss: 0.3819 - accuracy: 0.8340 - val_loss: 0.4250 - val_accuracy: 0.8360\n",
            "Epoch 87/125\n",
            "8/8 [==============================] - 0s 7ms/step - loss: 0.3945 - accuracy: 0.8300 - val_loss: 0.4091 - val_accuracy: 0.8180\n",
            "Epoch 88/125\n",
            "8/8 [==============================] - 0s 7ms/step - loss: 0.4010 - accuracy: 0.8120 - val_loss: 0.4513 - val_accuracy: 0.8080\n",
            "Epoch 89/125\n",
            "8/8 [==============================] - 0s 7ms/step - loss: 0.4194 - accuracy: 0.8040 - val_loss: 0.4033 - val_accuracy: 0.8280\n",
            "Epoch 90/125\n",
            "8/8 [==============================] - 0s 7ms/step - loss: 0.4140 - accuracy: 0.8240 - val_loss: 0.4129 - val_accuracy: 0.8280\n",
            "Epoch 91/125\n",
            "8/8 [==============================] - 0s 8ms/step - loss: 0.4007 - accuracy: 0.8340 - val_loss: 0.4787 - val_accuracy: 0.8020\n",
            "Epoch 92/125\n",
            "8/8 [==============================] - 0s 8ms/step - loss: 0.3908 - accuracy: 0.8220 - val_loss: 0.4225 - val_accuracy: 0.8280\n",
            "Epoch 93/125\n",
            "8/8 [==============================] - 0s 7ms/step - loss: 0.4271 - accuracy: 0.8140 - val_loss: 0.4116 - val_accuracy: 0.8300\n",
            "Epoch 94/125\n",
            "8/8 [==============================] - 0s 8ms/step - loss: 0.4062 - accuracy: 0.8180 - val_loss: 0.4102 - val_accuracy: 0.8240\n",
            "Epoch 95/125\n",
            "8/8 [==============================] - 0s 8ms/step - loss: 0.3995 - accuracy: 0.8300 - val_loss: 0.5398 - val_accuracy: 0.7620\n",
            "Epoch 96/125\n",
            "8/8 [==============================] - 0s 8ms/step - loss: 0.4227 - accuracy: 0.8140 - val_loss: 0.4331 - val_accuracy: 0.8240\n",
            "Epoch 97/125\n",
            "8/8 [==============================] - 0s 7ms/step - loss: 0.4046 - accuracy: 0.8280 - val_loss: 0.5115 - val_accuracy: 0.7720\n",
            "Epoch 98/125\n",
            "8/8 [==============================] - 0s 7ms/step - loss: 0.4248 - accuracy: 0.8180 - val_loss: 0.4336 - val_accuracy: 0.8160\n",
            "Epoch 99/125\n",
            "8/8 [==============================] - 0s 8ms/step - loss: 0.4050 - accuracy: 0.8140 - val_loss: 0.4632 - val_accuracy: 0.8120\n",
            "Epoch 100/125\n",
            "8/8 [==============================] - 0s 8ms/step - loss: 0.4021 - accuracy: 0.8200 - val_loss: 0.4271 - val_accuracy: 0.8100\n",
            "Epoch 101/125\n",
            "8/8 [==============================] - 0s 7ms/step - loss: 0.3936 - accuracy: 0.8240 - val_loss: 0.4187 - val_accuracy: 0.8380\n",
            "Epoch 102/125\n",
            "8/8 [==============================] - 0s 7ms/step - loss: 0.4001 - accuracy: 0.8260 - val_loss: 0.4029 - val_accuracy: 0.8320\n",
            "Epoch 103/125\n",
            "8/8 [==============================] - 0s 7ms/step - loss: 0.4239 - accuracy: 0.8200 - val_loss: 0.4100 - val_accuracy: 0.8300\n",
            "Epoch 104/125\n",
            "8/8 [==============================] - 0s 8ms/step - loss: 0.4274 - accuracy: 0.8120 - val_loss: 0.4501 - val_accuracy: 0.8080\n",
            "Epoch 105/125\n",
            "8/8 [==============================] - 0s 7ms/step - loss: 0.4344 - accuracy: 0.8160 - val_loss: 0.5659 - val_accuracy: 0.7540\n",
            "Epoch 106/125\n",
            "8/8 [==============================] - 0s 8ms/step - loss: 0.4203 - accuracy: 0.8060 - val_loss: 0.4375 - val_accuracy: 0.8120\n",
            "Epoch 107/125\n",
            "8/8 [==============================] - 0s 8ms/step - loss: 0.4205 - accuracy: 0.8120 - val_loss: 0.4607 - val_accuracy: 0.8080\n",
            "Epoch 108/125\n",
            "8/8 [==============================] - 0s 8ms/step - loss: 0.4090 - accuracy: 0.8180 - val_loss: 0.4267 - val_accuracy: 0.8260\n",
            "Epoch 109/125\n",
            "8/8 [==============================] - 0s 7ms/step - loss: 0.4030 - accuracy: 0.8360 - val_loss: 0.4018 - val_accuracy: 0.8300\n",
            "Epoch 110/125\n",
            "8/8 [==============================] - 0s 8ms/step - loss: 0.4096 - accuracy: 0.8080 - val_loss: 0.4620 - val_accuracy: 0.8080\n",
            "Epoch 111/125\n",
            "8/8 [==============================] - 0s 8ms/step - loss: 0.3999 - accuracy: 0.8220 - val_loss: 0.4106 - val_accuracy: 0.8260\n",
            "Epoch 112/125\n",
            "8/8 [==============================] - 0s 8ms/step - loss: 0.4004 - accuracy: 0.8260 - val_loss: 0.4151 - val_accuracy: 0.8240\n",
            "Epoch 113/125\n",
            "8/8 [==============================] - 0s 8ms/step - loss: 0.3996 - accuracy: 0.8180 - val_loss: 0.4773 - val_accuracy: 0.7960\n",
            "Epoch 114/125\n",
            "8/8 [==============================] - 0s 8ms/step - loss: 0.4139 - accuracy: 0.8200 - val_loss: 0.4520 - val_accuracy: 0.8100\n",
            "Epoch 115/125\n",
            "8/8 [==============================] - 0s 8ms/step - loss: 0.4322 - accuracy: 0.8060 - val_loss: 0.4275 - val_accuracy: 0.8200\n",
            "Epoch 116/125\n",
            "8/8 [==============================] - 0s 7ms/step - loss: 0.3894 - accuracy: 0.8300 - val_loss: 0.4101 - val_accuracy: 0.8360\n",
            "Epoch 117/125\n",
            "8/8 [==============================] - 0s 7ms/step - loss: 0.4028 - accuracy: 0.8200 - val_loss: 0.4416 - val_accuracy: 0.8280\n",
            "Epoch 118/125\n",
            "8/8 [==============================] - 0s 9ms/step - loss: 0.4615 - accuracy: 0.7960 - val_loss: 0.4471 - val_accuracy: 0.8140\n",
            "Epoch 119/125\n",
            "8/8 [==============================] - 0s 8ms/step - loss: 0.4471 - accuracy: 0.7900 - val_loss: 0.4061 - val_accuracy: 0.8320\n",
            "Epoch 120/125\n",
            "8/8 [==============================] - 0s 8ms/step - loss: 0.4574 - accuracy: 0.8040 - val_loss: 0.4692 - val_accuracy: 0.8160\n",
            "Epoch 121/125\n",
            "8/8 [==============================] - 0s 7ms/step - loss: 0.4858 - accuracy: 0.7940 - val_loss: 0.4093 - val_accuracy: 0.8260\n",
            "Epoch 122/125\n",
            "8/8 [==============================] - 0s 7ms/step - loss: 0.5045 - accuracy: 0.7940 - val_loss: 0.4111 - val_accuracy: 0.8340\n",
            "Epoch 123/125\n",
            "8/8 [==============================] - 0s 7ms/step - loss: 0.4487 - accuracy: 0.8040 - val_loss: 0.4371 - val_accuracy: 0.8060\n",
            "Epoch 124/125\n",
            "8/8 [==============================] - 0s 8ms/step - loss: 0.4438 - accuracy: 0.7980 - val_loss: 0.5200 - val_accuracy: 0.7640\n",
            "Epoch 125/125\n",
            "8/8 [==============================] - 0s 8ms/step - loss: 0.4779 - accuracy: 0.8020 - val_loss: 0.5228 - val_accuracy: 0.7580\n"
          ]
        }
      ],
      "source": [
        "### START CODE HERE ### ()\n",
        "model = build_model(0.1)\n",
        "history = model.fit(X_train,y_train,validation_data=(X_test, y_test),batch_size = 64,epochs = 125)"
      ]
    },
    {
      "cell_type": "code",
      "execution_count": 154,
      "id": "abadecd9-9a79-45c0-8540-bf16d8b4bc27",
      "metadata": {
        "id": "abadecd9-9a79-45c0-8540-bf16d8b4bc27",
        "colab": {
          "base_uri": "https://localhost:8080/",
          "height": 464
        },
        "outputId": "bb0e5551-23e7-4b24-e370-260e894f38be"
      },
      "outputs": [
        {
          "output_type": "display_data",
          "data": {
            "text/plain": [
              "<Figure size 720x360 with 1 Axes>"
            ],
            "image/svg+xml": "<?xml version=\"1.0\" encoding=\"utf-8\" standalone=\"no\"?>\n<!DOCTYPE svg PUBLIC \"-//W3C//DTD SVG 1.1//EN\"\n  \"http://www.w3.org/Graphics/SVG/1.1/DTD/svg11.dtd\">\n<!-- Created with matplotlib (https://matplotlib.org/) -->\n<svg height=\"331.674375pt\" version=\"1.1\" viewBox=\"0 0 599.440625 331.674375\" width=\"599.440625pt\" xmlns=\"http://www.w3.org/2000/svg\" xmlns:xlink=\"http://www.w3.org/1999/xlink\">\n <defs>\n  <style type=\"text/css\">\n*{stroke-linecap:butt;stroke-linejoin:round;}\n  </style>\n </defs>\n <g id=\"figure_1\">\n  <g id=\"patch_1\">\n   <path d=\"M 0 331.674375 \nL 599.440625 331.674375 \nL 599.440625 0 \nL 0 0 \nz\n\" style=\"fill:none;\"/>\n  </g>\n  <g id=\"axes_1\">\n   <g id=\"patch_2\">\n    <path d=\"M 34.240625 294.118125 \nL 592.240625 294.118125 \nL 592.240625 22.318125 \nL 34.240625 22.318125 \nz\n\" style=\"fill:#ffffff;\"/>\n   </g>\n   <g id=\"matplotlib.axis_1\">\n    <g id=\"xtick_1\">\n     <g id=\"line2d_1\">\n      <defs>\n       <path d=\"M 0 0 \nL 0 3.5 \n\" id=\"mad0348d670\" style=\"stroke:#000000;stroke-width:0.8;\"/>\n      </defs>\n      <g>\n       <use style=\"stroke:#000000;stroke-width:0.8;\" x=\"59.604261\" xlink:href=\"#mad0348d670\" y=\"294.118125\"/>\n      </g>\n     </g>\n     <g id=\"text_1\">\n      <!-- 0 -->\n      <defs>\n       <path d=\"M 31.78125 66.40625 \nQ 24.171875 66.40625 20.328125 58.90625 \nQ 16.5 51.421875 16.5 36.375 \nQ 16.5 21.390625 20.328125 13.890625 \nQ 24.171875 6.390625 31.78125 6.390625 \nQ 39.453125 6.390625 43.28125 13.890625 \nQ 47.125 21.390625 47.125 36.375 \nQ 47.125 51.421875 43.28125 58.90625 \nQ 39.453125 66.40625 31.78125 66.40625 \nz\nM 31.78125 74.21875 \nQ 44.046875 74.21875 50.515625 64.515625 \nQ 56.984375 54.828125 56.984375 36.375 \nQ 56.984375 17.96875 50.515625 8.265625 \nQ 44.046875 -1.421875 31.78125 -1.421875 \nQ 19.53125 -1.421875 13.0625 8.265625 \nQ 6.59375 17.96875 6.59375 36.375 \nQ 6.59375 54.828125 13.0625 64.515625 \nQ 19.53125 74.21875 31.78125 74.21875 \nz\n\" id=\"DejaVuSans-48\"/>\n      </defs>\n      <g transform=\"translate(56.423011 308.716563)scale(0.1 -0.1)\">\n       <use xlink:href=\"#DejaVuSans-48\"/>\n      </g>\n     </g>\n    </g>\n    <g id=\"xtick_2\">\n     <g id=\"line2d_2\">\n      <g>\n       <use style=\"stroke:#000000;stroke-width:0.8;\" x=\"141.422443\" xlink:href=\"#mad0348d670\" y=\"294.118125\"/>\n      </g>\n     </g>\n     <g id=\"text_2\">\n      <!-- 20 -->\n      <defs>\n       <path d=\"M 19.1875 8.296875 \nL 53.609375 8.296875 \nL 53.609375 0 \nL 7.328125 0 \nL 7.328125 8.296875 \nQ 12.9375 14.109375 22.625 23.890625 \nQ 32.328125 33.6875 34.8125 36.53125 \nQ 39.546875 41.84375 41.421875 45.53125 \nQ 43.3125 49.21875 43.3125 52.78125 \nQ 43.3125 58.59375 39.234375 62.25 \nQ 35.15625 65.921875 28.609375 65.921875 \nQ 23.96875 65.921875 18.8125 64.3125 \nQ 13.671875 62.703125 7.8125 59.421875 \nL 7.8125 69.390625 \nQ 13.765625 71.78125 18.9375 73 \nQ 24.125 74.21875 28.421875 74.21875 \nQ 39.75 74.21875 46.484375 68.546875 \nQ 53.21875 62.890625 53.21875 53.421875 \nQ 53.21875 48.921875 51.53125 44.890625 \nQ 49.859375 40.875 45.40625 35.40625 \nQ 44.1875 33.984375 37.640625 27.21875 \nQ 31.109375 20.453125 19.1875 8.296875 \nz\n\" id=\"DejaVuSans-50\"/>\n      </defs>\n      <g transform=\"translate(135.059943 308.716563)scale(0.1 -0.1)\">\n       <use xlink:href=\"#DejaVuSans-50\"/>\n       <use x=\"63.623047\" xlink:href=\"#DejaVuSans-48\"/>\n      </g>\n     </g>\n    </g>\n    <g id=\"xtick_3\">\n     <g id=\"line2d_3\">\n      <g>\n       <use style=\"stroke:#000000;stroke-width:0.8;\" x=\"223.240625\" xlink:href=\"#mad0348d670\" y=\"294.118125\"/>\n      </g>\n     </g>\n     <g id=\"text_3\">\n      <!-- 40 -->\n      <defs>\n       <path d=\"M 37.796875 64.3125 \nL 12.890625 25.390625 \nL 37.796875 25.390625 \nz\nM 35.203125 72.90625 \nL 47.609375 72.90625 \nL 47.609375 25.390625 \nL 58.015625 25.390625 \nL 58.015625 17.1875 \nL 47.609375 17.1875 \nL 47.609375 0 \nL 37.796875 0 \nL 37.796875 17.1875 \nL 4.890625 17.1875 \nL 4.890625 26.703125 \nz\n\" id=\"DejaVuSans-52\"/>\n      </defs>\n      <g transform=\"translate(216.878125 308.716563)scale(0.1 -0.1)\">\n       <use xlink:href=\"#DejaVuSans-52\"/>\n       <use x=\"63.623047\" xlink:href=\"#DejaVuSans-48\"/>\n      </g>\n     </g>\n    </g>\n    <g id=\"xtick_4\">\n     <g id=\"line2d_4\">\n      <g>\n       <use style=\"stroke:#000000;stroke-width:0.8;\" x=\"305.058807\" xlink:href=\"#mad0348d670\" y=\"294.118125\"/>\n      </g>\n     </g>\n     <g id=\"text_4\">\n      <!-- 60 -->\n      <defs>\n       <path d=\"M 33.015625 40.375 \nQ 26.375 40.375 22.484375 35.828125 \nQ 18.609375 31.296875 18.609375 23.390625 \nQ 18.609375 15.53125 22.484375 10.953125 \nQ 26.375 6.390625 33.015625 6.390625 \nQ 39.65625 6.390625 43.53125 10.953125 \nQ 47.40625 15.53125 47.40625 23.390625 \nQ 47.40625 31.296875 43.53125 35.828125 \nQ 39.65625 40.375 33.015625 40.375 \nz\nM 52.59375 71.296875 \nL 52.59375 62.3125 \nQ 48.875 64.0625 45.09375 64.984375 \nQ 41.3125 65.921875 37.59375 65.921875 \nQ 27.828125 65.921875 22.671875 59.328125 \nQ 17.53125 52.734375 16.796875 39.40625 \nQ 19.671875 43.65625 24.015625 45.921875 \nQ 28.375 48.1875 33.59375 48.1875 \nQ 44.578125 48.1875 50.953125 41.515625 \nQ 57.328125 34.859375 57.328125 23.390625 \nQ 57.328125 12.15625 50.6875 5.359375 \nQ 44.046875 -1.421875 33.015625 -1.421875 \nQ 20.359375 -1.421875 13.671875 8.265625 \nQ 6.984375 17.96875 6.984375 36.375 \nQ 6.984375 53.65625 15.1875 63.9375 \nQ 23.390625 74.21875 37.203125 74.21875 \nQ 40.921875 74.21875 44.703125 73.484375 \nQ 48.484375 72.75 52.59375 71.296875 \nz\n\" id=\"DejaVuSans-54\"/>\n      </defs>\n      <g transform=\"translate(298.696307 308.716563)scale(0.1 -0.1)\">\n       <use xlink:href=\"#DejaVuSans-54\"/>\n       <use x=\"63.623047\" xlink:href=\"#DejaVuSans-48\"/>\n      </g>\n     </g>\n    </g>\n    <g id=\"xtick_5\">\n     <g id=\"line2d_5\">\n      <g>\n       <use style=\"stroke:#000000;stroke-width:0.8;\" x=\"386.876989\" xlink:href=\"#mad0348d670\" y=\"294.118125\"/>\n      </g>\n     </g>\n     <g id=\"text_5\">\n      <!-- 80 -->\n      <defs>\n       <path d=\"M 31.78125 34.625 \nQ 24.75 34.625 20.71875 30.859375 \nQ 16.703125 27.09375 16.703125 20.515625 \nQ 16.703125 13.921875 20.71875 10.15625 \nQ 24.75 6.390625 31.78125 6.390625 \nQ 38.8125 6.390625 42.859375 10.171875 \nQ 46.921875 13.96875 46.921875 20.515625 \nQ 46.921875 27.09375 42.890625 30.859375 \nQ 38.875 34.625 31.78125 34.625 \nz\nM 21.921875 38.8125 \nQ 15.578125 40.375 12.03125 44.71875 \nQ 8.5 49.078125 8.5 55.328125 \nQ 8.5 64.0625 14.71875 69.140625 \nQ 20.953125 74.21875 31.78125 74.21875 \nQ 42.671875 74.21875 48.875 69.140625 \nQ 55.078125 64.0625 55.078125 55.328125 \nQ 55.078125 49.078125 51.53125 44.71875 \nQ 48 40.375 41.703125 38.8125 \nQ 48.828125 37.15625 52.796875 32.3125 \nQ 56.78125 27.484375 56.78125 20.515625 \nQ 56.78125 9.90625 50.3125 4.234375 \nQ 43.84375 -1.421875 31.78125 -1.421875 \nQ 19.734375 -1.421875 13.25 4.234375 \nQ 6.78125 9.90625 6.78125 20.515625 \nQ 6.78125 27.484375 10.78125 32.3125 \nQ 14.796875 37.15625 21.921875 38.8125 \nz\nM 18.3125 54.390625 \nQ 18.3125 48.734375 21.84375 45.5625 \nQ 25.390625 42.390625 31.78125 42.390625 \nQ 38.140625 42.390625 41.71875 45.5625 \nQ 45.3125 48.734375 45.3125 54.390625 \nQ 45.3125 60.0625 41.71875 63.234375 \nQ 38.140625 66.40625 31.78125 66.40625 \nQ 25.390625 66.40625 21.84375 63.234375 \nQ 18.3125 60.0625 18.3125 54.390625 \nz\n\" id=\"DejaVuSans-56\"/>\n      </defs>\n      <g transform=\"translate(380.514489 308.716563)scale(0.1 -0.1)\">\n       <use xlink:href=\"#DejaVuSans-56\"/>\n       <use x=\"63.623047\" xlink:href=\"#DejaVuSans-48\"/>\n      </g>\n     </g>\n    </g>\n    <g id=\"xtick_6\">\n     <g id=\"line2d_6\">\n      <g>\n       <use style=\"stroke:#000000;stroke-width:0.8;\" x=\"468.69517\" xlink:href=\"#mad0348d670\" y=\"294.118125\"/>\n      </g>\n     </g>\n     <g id=\"text_6\">\n      <!-- 100 -->\n      <defs>\n       <path d=\"M 12.40625 8.296875 \nL 28.515625 8.296875 \nL 28.515625 63.921875 \nL 10.984375 60.40625 \nL 10.984375 69.390625 \nL 28.421875 72.90625 \nL 38.28125 72.90625 \nL 38.28125 8.296875 \nL 54.390625 8.296875 \nL 54.390625 0 \nL 12.40625 0 \nz\n\" id=\"DejaVuSans-49\"/>\n      </defs>\n      <g transform=\"translate(459.15142 308.716563)scale(0.1 -0.1)\">\n       <use xlink:href=\"#DejaVuSans-49\"/>\n       <use x=\"63.623047\" xlink:href=\"#DejaVuSans-48\"/>\n       <use x=\"127.246094\" xlink:href=\"#DejaVuSans-48\"/>\n      </g>\n     </g>\n    </g>\n    <g id=\"xtick_7\">\n     <g id=\"line2d_7\">\n      <g>\n       <use style=\"stroke:#000000;stroke-width:0.8;\" x=\"550.513352\" xlink:href=\"#mad0348d670\" y=\"294.118125\"/>\n      </g>\n     </g>\n     <g id=\"text_7\">\n      <!-- 120 -->\n      <g transform=\"translate(540.969602 308.716563)scale(0.1 -0.1)\">\n       <use xlink:href=\"#DejaVuSans-49\"/>\n       <use x=\"63.623047\" xlink:href=\"#DejaVuSans-50\"/>\n       <use x=\"127.246094\" xlink:href=\"#DejaVuSans-48\"/>\n      </g>\n     </g>\n    </g>\n    <g id=\"text_8\">\n     <!-- Epoch -->\n     <defs>\n      <path d=\"M 9.8125 72.90625 \nL 55.90625 72.90625 \nL 55.90625 64.59375 \nL 19.671875 64.59375 \nL 19.671875 43.015625 \nL 54.390625 43.015625 \nL 54.390625 34.71875 \nL 19.671875 34.71875 \nL 19.671875 8.296875 \nL 56.78125 8.296875 \nL 56.78125 0 \nL 9.8125 0 \nz\n\" id=\"DejaVuSans-69\"/>\n      <path d=\"M 18.109375 8.203125 \nL 18.109375 -20.796875 \nL 9.078125 -20.796875 \nL 9.078125 54.6875 \nL 18.109375 54.6875 \nL 18.109375 46.390625 \nQ 20.953125 51.265625 25.265625 53.625 \nQ 29.59375 56 35.59375 56 \nQ 45.5625 56 51.78125 48.09375 \nQ 58.015625 40.1875 58.015625 27.296875 \nQ 58.015625 14.40625 51.78125 6.484375 \nQ 45.5625 -1.421875 35.59375 -1.421875 \nQ 29.59375 -1.421875 25.265625 0.953125 \nQ 20.953125 3.328125 18.109375 8.203125 \nz\nM 48.6875 27.296875 \nQ 48.6875 37.203125 44.609375 42.84375 \nQ 40.53125 48.484375 33.40625 48.484375 \nQ 26.265625 48.484375 22.1875 42.84375 \nQ 18.109375 37.203125 18.109375 27.296875 \nQ 18.109375 17.390625 22.1875 11.75 \nQ 26.265625 6.109375 33.40625 6.109375 \nQ 40.53125 6.109375 44.609375 11.75 \nQ 48.6875 17.390625 48.6875 27.296875 \nz\n\" id=\"DejaVuSans-112\"/>\n      <path d=\"M 30.609375 48.390625 \nQ 23.390625 48.390625 19.1875 42.75 \nQ 14.984375 37.109375 14.984375 27.296875 \nQ 14.984375 17.484375 19.15625 11.84375 \nQ 23.34375 6.203125 30.609375 6.203125 \nQ 37.796875 6.203125 41.984375 11.859375 \nQ 46.1875 17.53125 46.1875 27.296875 \nQ 46.1875 37.015625 41.984375 42.703125 \nQ 37.796875 48.390625 30.609375 48.390625 \nz\nM 30.609375 56 \nQ 42.328125 56 49.015625 48.375 \nQ 55.71875 40.765625 55.71875 27.296875 \nQ 55.71875 13.875 49.015625 6.21875 \nQ 42.328125 -1.421875 30.609375 -1.421875 \nQ 18.84375 -1.421875 12.171875 6.21875 \nQ 5.515625 13.875 5.515625 27.296875 \nQ 5.515625 40.765625 12.171875 48.375 \nQ 18.84375 56 30.609375 56 \nz\n\" id=\"DejaVuSans-111\"/>\n      <path d=\"M 48.78125 52.59375 \nL 48.78125 44.1875 \nQ 44.96875 46.296875 41.140625 47.34375 \nQ 37.3125 48.390625 33.40625 48.390625 \nQ 24.65625 48.390625 19.8125 42.84375 \nQ 14.984375 37.3125 14.984375 27.296875 \nQ 14.984375 17.28125 19.8125 11.734375 \nQ 24.65625 6.203125 33.40625 6.203125 \nQ 37.3125 6.203125 41.140625 7.25 \nQ 44.96875 8.296875 48.78125 10.40625 \nL 48.78125 2.09375 \nQ 45.015625 0.34375 40.984375 -0.53125 \nQ 36.96875 -1.421875 32.421875 -1.421875 \nQ 20.0625 -1.421875 12.78125 6.34375 \nQ 5.515625 14.109375 5.515625 27.296875 \nQ 5.515625 40.671875 12.859375 48.328125 \nQ 20.21875 56 33.015625 56 \nQ 37.15625 56 41.109375 55.140625 \nQ 45.0625 54.296875 48.78125 52.59375 \nz\n\" id=\"DejaVuSans-99\"/>\n      <path d=\"M 54.890625 33.015625 \nL 54.890625 0 \nL 45.90625 0 \nL 45.90625 32.71875 \nQ 45.90625 40.484375 42.875 44.328125 \nQ 39.84375 48.1875 33.796875 48.1875 \nQ 26.515625 48.1875 22.3125 43.546875 \nQ 18.109375 38.921875 18.109375 30.90625 \nL 18.109375 0 \nL 9.078125 0 \nL 9.078125 75.984375 \nL 18.109375 75.984375 \nL 18.109375 46.1875 \nQ 21.34375 51.125 25.703125 53.5625 \nQ 30.078125 56 35.796875 56 \nQ 45.21875 56 50.046875 50.171875 \nQ 54.890625 44.34375 54.890625 33.015625 \nz\n\" id=\"DejaVuSans-104\"/>\n     </defs>\n     <g transform=\"translate(297.929688 322.394687)scale(0.1 -0.1)\">\n      <use xlink:href=\"#DejaVuSans-69\"/>\n      <use x=\"63.183594\" xlink:href=\"#DejaVuSans-112\"/>\n      <use x=\"126.660156\" xlink:href=\"#DejaVuSans-111\"/>\n      <use x=\"187.841797\" xlink:href=\"#DejaVuSans-99\"/>\n      <use x=\"242.822266\" xlink:href=\"#DejaVuSans-104\"/>\n     </g>\n    </g>\n   </g>\n   <g id=\"matplotlib.axis_2\">\n    <g id=\"ytick_1\">\n     <g id=\"line2d_8\">\n      <defs>\n       <path d=\"M 0 0 \nL -3.5 0 \n\" id=\"meca8dd0c14\" style=\"stroke:#000000;stroke-width:0.8;\"/>\n      </defs>\n      <g>\n       <use style=\"stroke:#000000;stroke-width:0.8;\" x=\"34.240625\" xlink:href=\"#meca8dd0c14\" y=\"293.154341\"/>\n      </g>\n     </g>\n     <g id=\"text_9\">\n      <!-- 0 -->\n      <g transform=\"translate(20.878125 296.95356)scale(0.1 -0.1)\">\n       <use xlink:href=\"#DejaVuSans-48\"/>\n      </g>\n     </g>\n    </g>\n    <g id=\"ytick_2\">\n     <g id=\"line2d_9\">\n      <g>\n       <use style=\"stroke:#000000;stroke-width:0.8;\" x=\"34.240625\" xlink:href=\"#meca8dd0c14\" y=\"233.503972\"/>\n      </g>\n     </g>\n     <g id=\"text_10\">\n      <!-- 2 -->\n      <g transform=\"translate(20.878125 237.303191)scale(0.1 -0.1)\">\n       <use xlink:href=\"#DejaVuSans-50\"/>\n      </g>\n     </g>\n    </g>\n    <g id=\"ytick_3\">\n     <g id=\"line2d_10\">\n      <g>\n       <use style=\"stroke:#000000;stroke-width:0.8;\" x=\"34.240625\" xlink:href=\"#meca8dd0c14\" y=\"173.853603\"/>\n      </g>\n     </g>\n     <g id=\"text_11\">\n      <!-- 4 -->\n      <g transform=\"translate(20.878125 177.652822)scale(0.1 -0.1)\">\n       <use xlink:href=\"#DejaVuSans-52\"/>\n      </g>\n     </g>\n    </g>\n    <g id=\"ytick_4\">\n     <g id=\"line2d_11\">\n      <g>\n       <use style=\"stroke:#000000;stroke-width:0.8;\" x=\"34.240625\" xlink:href=\"#meca8dd0c14\" y=\"114.203234\"/>\n      </g>\n     </g>\n     <g id=\"text_12\">\n      <!-- 6 -->\n      <g transform=\"translate(20.878125 118.002453)scale(0.1 -0.1)\">\n       <use xlink:href=\"#DejaVuSans-54\"/>\n      </g>\n     </g>\n    </g>\n    <g id=\"ytick_5\">\n     <g id=\"line2d_12\">\n      <g>\n       <use style=\"stroke:#000000;stroke-width:0.8;\" x=\"34.240625\" xlink:href=\"#meca8dd0c14\" y=\"54.552865\"/>\n      </g>\n     </g>\n     <g id=\"text_13\">\n      <!-- 8 -->\n      <g transform=\"translate(20.878125 58.352084)scale(0.1 -0.1)\">\n       <use xlink:href=\"#DejaVuSans-56\"/>\n      </g>\n     </g>\n    </g>\n    <g id=\"text_14\">\n     <!-- Loss -->\n     <defs>\n      <path d=\"M 9.8125 72.90625 \nL 19.671875 72.90625 \nL 19.671875 8.296875 \nL 55.171875 8.296875 \nL 55.171875 0 \nL 9.8125 0 \nz\n\" id=\"DejaVuSans-76\"/>\n      <path d=\"M 44.28125 53.078125 \nL 44.28125 44.578125 \nQ 40.484375 46.53125 36.375 47.5 \nQ 32.28125 48.484375 27.875 48.484375 \nQ 21.1875 48.484375 17.84375 46.4375 \nQ 14.5 44.390625 14.5 40.28125 \nQ 14.5 37.15625 16.890625 35.375 \nQ 19.28125 33.59375 26.515625 31.984375 \nL 29.59375 31.296875 \nQ 39.15625 29.25 43.1875 25.515625 \nQ 47.21875 21.78125 47.21875 15.09375 \nQ 47.21875 7.46875 41.1875 3.015625 \nQ 35.15625 -1.421875 24.609375 -1.421875 \nQ 20.21875 -1.421875 15.453125 -0.5625 \nQ 10.6875 0.296875 5.421875 2 \nL 5.421875 11.28125 \nQ 10.40625 8.6875 15.234375 7.390625 \nQ 20.0625 6.109375 24.8125 6.109375 \nQ 31.15625 6.109375 34.5625 8.28125 \nQ 37.984375 10.453125 37.984375 14.40625 \nQ 37.984375 18.0625 35.515625 20.015625 \nQ 33.0625 21.96875 24.703125 23.78125 \nL 21.578125 24.515625 \nQ 13.234375 26.265625 9.515625 29.90625 \nQ 5.8125 33.546875 5.8125 39.890625 \nQ 5.8125 47.609375 11.28125 51.796875 \nQ 16.75 56 26.8125 56 \nQ 31.78125 56 36.171875 55.265625 \nQ 40.578125 54.546875 44.28125 53.078125 \nz\n\" id=\"DejaVuSans-115\"/>\n     </defs>\n     <g transform=\"translate(14.798438 169.185313)rotate(-90)scale(0.1 -0.1)\">\n      <use xlink:href=\"#DejaVuSans-76\"/>\n      <use x=\"53.962891\" xlink:href=\"#DejaVuSans-111\"/>\n      <use x=\"115.144531\" xlink:href=\"#DejaVuSans-115\"/>\n      <use x=\"167.244141\" xlink:href=\"#DejaVuSans-115\"/>\n     </g>\n    </g>\n   </g>\n   <g id=\"line2d_13\">\n    <path clip-path=\"url(#p46ae232040)\" d=\"M 59.604261 34.67267 \nL 63.69517 226.946769 \nL 67.78608 246.205291 \nL 71.876989 269.182581 \nL 75.967898 270.286755 \nL 80.058807 271.879318 \nL 84.149716 273.936306 \nL 88.240625 274.10415 \nL 92.331534 276.111088 \nL 96.422443 277.229199 \nL 100.513352 277.359503 \nL 104.604261 278.395717 \nL 108.69517 278.362357 \nL 112.78608 278.782264 \nL 116.876989 279.874897 \nL 120.967898 279.110972 \nL 125.058807 280.140524 \nL 129.149716 280.011076 \nL 133.240625 280.151255 \nL 137.331534 279.746318 \nL 141.422443 280.132941 \nL 145.513352 280.33204 \nL 149.604261 280.498889 \nL 153.69517 278.762393 \nL 157.78608 280.026857 \nL 161.876989 279.680435 \nL 165.967898 279.122737 \nL 170.058807 275.961751 \nL 174.149716 277.285258 \nL 178.240625 279.405565 \nL 182.331534 279.667654 \nL 186.422443 280.01949 \nL 190.513352 280.704404 \nL 194.604261 279.132231 \nL 198.69517 277.515777 \nL 202.78608 280.817357 \nL 206.876989 281.205571 \nL 210.967898 281.19062 \nL 215.058807 281.077656 \nL 219.149716 280.990543 \nL 223.240625 280.391452 \nL 227.331534 279.969018 \nL 231.422443 279.581417 \nL 235.513352 280.808098 \nL 239.604261 281.152824 \nL 243.69517 281.05752 \nL 247.78608 280.885897 \nL 251.876989 279.88974 \nL 255.967898 280.925877 \nL 260.058807 280.606822 \nL 264.149716 280.305098 \nL 268.240625 279.252991 \nL 272.331534 280.239643 \nL 276.422443 280.70475 \nL 280.513352 281.132038 \nL 284.604261 281.089511 \nL 288.69517 281.418612 \nL 292.78608 280.282597 \nL 296.876989 280.112507 \nL 300.967898 280.987844 \nL 305.058807 280.989959 \nL 309.149716 281.114754 \nL 313.240625 281.062362 \nL 317.331534 280.494743 \nL 321.422443 280.182123 \nL 325.513352 280.603728 \nL 329.604261 281.245476 \nL 333.69517 280.96444 \nL 337.78608 281.412589 \nL 341.876989 280.275887 \nL 345.967898 280.424913 \nL 350.058807 280.138858 \nL 354.149716 279.873314 \nL 358.240625 281.12512 \nL 362.331534 280.802068 \nL 366.422443 280.904804 \nL 370.513352 280.766926 \nL 374.604261 280.571735 \nL 378.69517 280.726286 \nL 382.78608 281.551653 \nL 386.876989 280.216957 \nL 390.967898 280.28907 \nL 395.058807 281.551067 \nL 399.149716 281.521117 \nL 403.240625 281.51024 \nL 407.331534 281.76358 \nL 411.422443 281.387814 \nL 415.513352 281.193833 \nL 419.604261 280.646946 \nL 423.69517 280.806111 \nL 427.78608 281.20385 \nL 431.876989 281.497668 \nL 435.967898 280.416272 \nL 440.058807 281.039488 \nL 444.149716 281.237897 \nL 448.240625 280.546107 \nL 452.331534 281.0868 \nL 456.422443 280.483633 \nL 460.513352 281.076487 \nL 464.604261 281.162389 \nL 468.69517 281.416238 \nL 472.78608 281.220404 \nL 476.876989 280.510857 \nL 480.967898 280.408402 \nL 485.058807 280.197786 \nL 489.149716 280.619335 \nL 493.240625 280.614193 \nL 497.331534 280.954877 \nL 501.422443 281.13449 \nL 505.513352 280.938396 \nL 509.604261 281.227076 \nL 513.69517 281.211988 \nL 517.78608 281.236702 \nL 521.876989 280.808471 \nL 525.967898 280.264022 \nL 530.058807 281.540124 \nL 534.149716 281.139678 \nL 538.240625 279.38868 \nL 542.331534 279.819624 \nL 546.422443 279.512828 \nL 550.513352 278.666341 \nL 554.604261 278.107974 \nL 558.69517 279.770931 \nL 562.78608 279.919199 \nL 566.876989 278.900354 \n\" style=\"fill:none;stroke:#1f77b4;stroke-linecap:square;stroke-width:1.5;\"/>\n   </g>\n   <g id=\"line2d_14\">\n    <path clip-path=\"url(#p46ae232040)\" d=\"M 59.604261 185.370616 \nL 63.69517 225.297841 \nL 67.78608 266.951714 \nL 71.876989 269.895873 \nL 75.967898 272.477106 \nL 80.058807 272.893398 \nL 84.149716 275.750522 \nL 88.240625 275.033293 \nL 92.331534 277.478505 \nL 96.422443 276.686685 \nL 100.513352 279.184749 \nL 104.604261 278.344263 \nL 108.69517 280.30545 \nL 112.78608 280.497502 \nL 116.876989 278.364358 \nL 120.967898 280.236822 \nL 125.058807 280.240657 \nL 129.149716 280.401637 \nL 133.240625 279.246328 \nL 137.331534 280.150871 \nL 141.422443 280.485104 \nL 145.513352 279.60081 \nL 149.604261 280.847064 \nL 153.69517 280.436523 \nL 157.78608 280.215676 \nL 161.876989 280.464948 \nL 165.967898 280.916414 \nL 170.058807 279.745215 \nL 174.149716 280.303411 \nL 178.240625 280.585062 \nL 182.331534 279.44244 \nL 186.422443 281.016803 \nL 190.513352 281.034029 \nL 194.604261 278.417128 \nL 198.69517 280.457685 \nL 202.78608 280.693398 \nL 206.876989 280.971578 \nL 210.967898 280.614035 \nL 215.058807 279.93296 \nL 219.149716 281.039577 \nL 223.240625 280.72969 \nL 227.331534 279.62945 \nL 231.422443 281.015949 \nL 235.513352 280.634754 \nL 239.604261 279.168985 \nL 243.69517 280.771834 \nL 247.78608 279.840311 \nL 251.876989 280.815483 \nL 255.967898 280.473394 \nL 260.058807 280.884074 \nL 264.149716 280.491009 \nL 268.240625 280.864432 \nL 272.331534 280.268085 \nL 276.422443 280.553148 \nL 280.513352 280.741049 \nL 284.604261 280.915097 \nL 288.69517 281.005491 \nL 292.78608 280.274637 \nL 296.876989 280.559073 \nL 300.967898 280.357907 \nL 305.058807 281.002955 \nL 309.149716 280.808393 \nL 313.240625 281.043636 \nL 317.331534 280.648936 \nL 321.422443 280.086088 \nL 325.513352 281.163005 \nL 329.604261 281.103223 \nL 333.69517 280.794191 \nL 337.78608 280.695215 \nL 341.876989 277.901839 \nL 345.967898 277.881855 \nL 350.058807 277.290691 \nL 354.149716 280.91391 \nL 358.240625 281.18184 \nL 362.331534 280.854345 \nL 366.422443 280.423422 \nL 370.513352 278.672439 \nL 374.604261 277.932648 \nL 378.69517 280.564057 \nL 382.78608 278.694427 \nL 386.876989 278.739018 \nL 390.967898 279.366781 \nL 395.058807 280.651154 \nL 399.149716 280.685242 \nL 403.240625 281.145727 \nL 407.331534 280.478857 \nL 411.422443 280.952943 \nL 415.513352 279.694314 \nL 419.604261 281.126184 \nL 423.69517 280.838487 \nL 427.78608 278.878346 \nL 431.876989 280.553597 \nL 435.967898 280.878335 \nL 440.058807 280.91932 \nL 444.149716 277.055841 \nL 448.240625 280.236354 \nL 452.331534 277.897549 \nL 456.422443 280.221067 \nL 460.513352 279.340091 \nL 464.604261 280.416127 \nL 468.69517 280.666072 \nL 472.78608 281.138115 \nL 476.876989 280.927039 \nL 480.967898 279.730819 \nL 485.058807 276.276619 \nL 489.149716 280.104889 \nL 493.240625 279.412741 \nL 497.331534 280.427877 \nL 501.422443 281.170442 \nL 505.513352 279.37511 \nL 509.604261 280.907013 \nL 513.69517 280.773882 \nL 517.78608 278.91764 \nL 521.876989 279.673061 \nL 525.967898 280.403057 \nL 530.058807 280.922466 \nL 534.149716 279.982312 \nL 538.240625 279.818813 \nL 542.331534 281.043013 \nL 546.422443 279.161773 \nL 550.513352 280.946114 \nL 554.604261 280.891787 \nL 558.69517 280.118418 \nL 562.78608 277.644723 \nL 566.876989 277.562582 \n\" style=\"fill:none;stroke:#ff7f0e;stroke-linecap:square;stroke-width:1.5;\"/>\n   </g>\n   <g id=\"patch_3\">\n    <path d=\"M 34.240625 294.118125 \nL 34.240625 22.318125 \n\" style=\"fill:none;stroke:#000000;stroke-linecap:square;stroke-linejoin:miter;stroke-width:0.8;\"/>\n   </g>\n   <g id=\"patch_4\">\n    <path d=\"M 592.240625 294.118125 \nL 592.240625 22.318125 \n\" style=\"fill:none;stroke:#000000;stroke-linecap:square;stroke-linejoin:miter;stroke-width:0.8;\"/>\n   </g>\n   <g id=\"patch_5\">\n    <path d=\"M 34.240625 294.118125 \nL 592.240625 294.118125 \n\" style=\"fill:none;stroke:#000000;stroke-linecap:square;stroke-linejoin:miter;stroke-width:0.8;\"/>\n   </g>\n   <g id=\"patch_6\">\n    <path d=\"M 34.240625 22.318125 \nL 592.240625 22.318125 \n\" style=\"fill:none;stroke:#000000;stroke-linecap:square;stroke-linejoin:miter;stroke-width:0.8;\"/>\n   </g>\n   <g id=\"text_15\">\n    <!-- Loss vs. epochs, batch=64 -->\n    <defs>\n     <path id=\"DejaVuSans-32\"/>\n     <path d=\"M 2.984375 54.6875 \nL 12.5 54.6875 \nL 29.59375 8.796875 \nL 46.6875 54.6875 \nL 56.203125 54.6875 \nL 35.6875 0 \nL 23.484375 0 \nz\n\" id=\"DejaVuSans-118\"/>\n     <path d=\"M 10.6875 12.40625 \nL 21 12.40625 \nL 21 0 \nL 10.6875 0 \nz\n\" id=\"DejaVuSans-46\"/>\n     <path d=\"M 56.203125 29.59375 \nL 56.203125 25.203125 \nL 14.890625 25.203125 \nQ 15.484375 15.921875 20.484375 11.0625 \nQ 25.484375 6.203125 34.421875 6.203125 \nQ 39.59375 6.203125 44.453125 7.46875 \nQ 49.3125 8.734375 54.109375 11.28125 \nL 54.109375 2.78125 \nQ 49.265625 0.734375 44.1875 -0.34375 \nQ 39.109375 -1.421875 33.890625 -1.421875 \nQ 20.796875 -1.421875 13.15625 6.1875 \nQ 5.515625 13.8125 5.515625 26.8125 \nQ 5.515625 40.234375 12.765625 48.109375 \nQ 20.015625 56 32.328125 56 \nQ 43.359375 56 49.78125 48.890625 \nQ 56.203125 41.796875 56.203125 29.59375 \nz\nM 47.21875 32.234375 \nQ 47.125 39.59375 43.09375 43.984375 \nQ 39.0625 48.390625 32.421875 48.390625 \nQ 24.90625 48.390625 20.390625 44.140625 \nQ 15.875 39.890625 15.1875 32.171875 \nz\n\" id=\"DejaVuSans-101\"/>\n     <path d=\"M 11.71875 12.40625 \nL 22.015625 12.40625 \nL 22.015625 4 \nL 14.015625 -11.625 \nL 7.71875 -11.625 \nL 11.71875 4 \nz\n\" id=\"DejaVuSans-44\"/>\n     <path d=\"M 48.6875 27.296875 \nQ 48.6875 37.203125 44.609375 42.84375 \nQ 40.53125 48.484375 33.40625 48.484375 \nQ 26.265625 48.484375 22.1875 42.84375 \nQ 18.109375 37.203125 18.109375 27.296875 \nQ 18.109375 17.390625 22.1875 11.75 \nQ 26.265625 6.109375 33.40625 6.109375 \nQ 40.53125 6.109375 44.609375 11.75 \nQ 48.6875 17.390625 48.6875 27.296875 \nz\nM 18.109375 46.390625 \nQ 20.953125 51.265625 25.265625 53.625 \nQ 29.59375 56 35.59375 56 \nQ 45.5625 56 51.78125 48.09375 \nQ 58.015625 40.1875 58.015625 27.296875 \nQ 58.015625 14.40625 51.78125 6.484375 \nQ 45.5625 -1.421875 35.59375 -1.421875 \nQ 29.59375 -1.421875 25.265625 0.953125 \nQ 20.953125 3.328125 18.109375 8.203125 \nL 18.109375 0 \nL 9.078125 0 \nL 9.078125 75.984375 \nL 18.109375 75.984375 \nz\n\" id=\"DejaVuSans-98\"/>\n     <path d=\"M 34.28125 27.484375 \nQ 23.390625 27.484375 19.1875 25 \nQ 14.984375 22.515625 14.984375 16.5 \nQ 14.984375 11.71875 18.140625 8.90625 \nQ 21.296875 6.109375 26.703125 6.109375 \nQ 34.1875 6.109375 38.703125 11.40625 \nQ 43.21875 16.703125 43.21875 25.484375 \nL 43.21875 27.484375 \nz\nM 52.203125 31.203125 \nL 52.203125 0 \nL 43.21875 0 \nL 43.21875 8.296875 \nQ 40.140625 3.328125 35.546875 0.953125 \nQ 30.953125 -1.421875 24.3125 -1.421875 \nQ 15.921875 -1.421875 10.953125 3.296875 \nQ 6 8.015625 6 15.921875 \nQ 6 25.140625 12.171875 29.828125 \nQ 18.359375 34.515625 30.609375 34.515625 \nL 43.21875 34.515625 \nL 43.21875 35.40625 \nQ 43.21875 41.609375 39.140625 45 \nQ 35.0625 48.390625 27.6875 48.390625 \nQ 23 48.390625 18.546875 47.265625 \nQ 14.109375 46.140625 10.015625 43.890625 \nL 10.015625 52.203125 \nQ 14.9375 54.109375 19.578125 55.046875 \nQ 24.21875 56 28.609375 56 \nQ 40.484375 56 46.34375 49.84375 \nQ 52.203125 43.703125 52.203125 31.203125 \nz\n\" id=\"DejaVuSans-97\"/>\n     <path d=\"M 18.3125 70.21875 \nL 18.3125 54.6875 \nL 36.8125 54.6875 \nL 36.8125 47.703125 \nL 18.3125 47.703125 \nL 18.3125 18.015625 \nQ 18.3125 11.328125 20.140625 9.421875 \nQ 21.96875 7.515625 27.59375 7.515625 \nL 36.8125 7.515625 \nL 36.8125 0 \nL 27.59375 0 \nQ 17.1875 0 13.234375 3.875 \nQ 9.28125 7.765625 9.28125 18.015625 \nL 9.28125 47.703125 \nL 2.6875 47.703125 \nL 2.6875 54.6875 \nL 9.28125 54.6875 \nL 9.28125 70.21875 \nz\n\" id=\"DejaVuSans-116\"/>\n     <path d=\"M 10.59375 45.40625 \nL 73.1875 45.40625 \nL 73.1875 37.203125 \nL 10.59375 37.203125 \nz\nM 10.59375 25.484375 \nL 73.1875 25.484375 \nL 73.1875 17.1875 \nL 10.59375 17.1875 \nz\n\" id=\"DejaVuSans-61\"/>\n    </defs>\n    <g transform=\"translate(232.866875 16.318125)scale(0.12 -0.12)\">\n     <use xlink:href=\"#DejaVuSans-76\"/>\n     <use x=\"53.962891\" xlink:href=\"#DejaVuSans-111\"/>\n     <use x=\"115.144531\" xlink:href=\"#DejaVuSans-115\"/>\n     <use x=\"167.244141\" xlink:href=\"#DejaVuSans-115\"/>\n     <use x=\"219.34375\" xlink:href=\"#DejaVuSans-32\"/>\n     <use x=\"251.130859\" xlink:href=\"#DejaVuSans-118\"/>\n     <use x=\"310.310547\" xlink:href=\"#DejaVuSans-115\"/>\n     <use x=\"362.410156\" xlink:href=\"#DejaVuSans-46\"/>\n     <use x=\"394.197266\" xlink:href=\"#DejaVuSans-32\"/>\n     <use x=\"425.984375\" xlink:href=\"#DejaVuSans-101\"/>\n     <use x=\"487.507812\" xlink:href=\"#DejaVuSans-112\"/>\n     <use x=\"550.984375\" xlink:href=\"#DejaVuSans-111\"/>\n     <use x=\"612.166016\" xlink:href=\"#DejaVuSans-99\"/>\n     <use x=\"667.146484\" xlink:href=\"#DejaVuSans-104\"/>\n     <use x=\"730.525391\" xlink:href=\"#DejaVuSans-115\"/>\n     <use x=\"782.625\" xlink:href=\"#DejaVuSans-44\"/>\n     <use x=\"814.412109\" xlink:href=\"#DejaVuSans-32\"/>\n     <use x=\"846.199219\" xlink:href=\"#DejaVuSans-98\"/>\n     <use x=\"909.675781\" xlink:href=\"#DejaVuSans-97\"/>\n     <use x=\"970.955078\" xlink:href=\"#DejaVuSans-116\"/>\n     <use x=\"1010.164062\" xlink:href=\"#DejaVuSans-99\"/>\n     <use x=\"1065.144531\" xlink:href=\"#DejaVuSans-104\"/>\n     <use x=\"1128.523438\" xlink:href=\"#DejaVuSans-61\"/>\n     <use x=\"1212.3125\" xlink:href=\"#DejaVuSans-54\"/>\n     <use x=\"1275.935547\" xlink:href=\"#DejaVuSans-52\"/>\n    </g>\n   </g>\n   <g id=\"legend_1\">\n    <g id=\"patch_7\">\n     <path d=\"M 503.859375 59.674375 \nL 585.240625 59.674375 \nQ 587.240625 59.674375 587.240625 57.674375 \nL 587.240625 29.318125 \nQ 587.240625 27.318125 585.240625 27.318125 \nL 503.859375 27.318125 \nQ 501.859375 27.318125 501.859375 29.318125 \nL 501.859375 57.674375 \nQ 501.859375 59.674375 503.859375 59.674375 \nz\n\" style=\"fill:#ffffff;opacity:0.8;stroke:#cccccc;stroke-linejoin:miter;\"/>\n    </g>\n    <g id=\"line2d_15\">\n     <path d=\"M 505.859375 35.416562 \nL 525.859375 35.416562 \n\" style=\"fill:none;stroke:#1f77b4;stroke-linecap:square;stroke-width:1.5;\"/>\n    </g>\n    <g id=\"line2d_16\"/>\n    <g id=\"text_16\">\n     <!-- Training -->\n     <defs>\n      <path d=\"M -0.296875 72.90625 \nL 61.375 72.90625 \nL 61.375 64.59375 \nL 35.5 64.59375 \nL 35.5 0 \nL 25.59375 0 \nL 25.59375 64.59375 \nL -0.296875 64.59375 \nz\n\" id=\"DejaVuSans-84\"/>\n      <path d=\"M 41.109375 46.296875 \nQ 39.59375 47.171875 37.8125 47.578125 \nQ 36.03125 48 33.890625 48 \nQ 26.265625 48 22.1875 43.046875 \nQ 18.109375 38.09375 18.109375 28.8125 \nL 18.109375 0 \nL 9.078125 0 \nL 9.078125 54.6875 \nL 18.109375 54.6875 \nL 18.109375 46.1875 \nQ 20.953125 51.171875 25.484375 53.578125 \nQ 30.03125 56 36.53125 56 \nQ 37.453125 56 38.578125 55.875 \nQ 39.703125 55.765625 41.0625 55.515625 \nz\n\" id=\"DejaVuSans-114\"/>\n      <path d=\"M 9.421875 54.6875 \nL 18.40625 54.6875 \nL 18.40625 0 \nL 9.421875 0 \nz\nM 9.421875 75.984375 \nL 18.40625 75.984375 \nL 18.40625 64.59375 \nL 9.421875 64.59375 \nz\n\" id=\"DejaVuSans-105\"/>\n      <path d=\"M 54.890625 33.015625 \nL 54.890625 0 \nL 45.90625 0 \nL 45.90625 32.71875 \nQ 45.90625 40.484375 42.875 44.328125 \nQ 39.84375 48.1875 33.796875 48.1875 \nQ 26.515625 48.1875 22.3125 43.546875 \nQ 18.109375 38.921875 18.109375 30.90625 \nL 18.109375 0 \nL 9.078125 0 \nL 9.078125 54.6875 \nL 18.109375 54.6875 \nL 18.109375 46.1875 \nQ 21.34375 51.125 25.703125 53.5625 \nQ 30.078125 56 35.796875 56 \nQ 45.21875 56 50.046875 50.171875 \nQ 54.890625 44.34375 54.890625 33.015625 \nz\n\" id=\"DejaVuSans-110\"/>\n      <path d=\"M 45.40625 27.984375 \nQ 45.40625 37.75 41.375 43.109375 \nQ 37.359375 48.484375 30.078125 48.484375 \nQ 22.859375 48.484375 18.828125 43.109375 \nQ 14.796875 37.75 14.796875 27.984375 \nQ 14.796875 18.265625 18.828125 12.890625 \nQ 22.859375 7.515625 30.078125 7.515625 \nQ 37.359375 7.515625 41.375 12.890625 \nQ 45.40625 18.265625 45.40625 27.984375 \nz\nM 54.390625 6.78125 \nQ 54.390625 -7.171875 48.1875 -13.984375 \nQ 42 -20.796875 29.203125 -20.796875 \nQ 24.46875 -20.796875 20.265625 -20.09375 \nQ 16.0625 -19.390625 12.109375 -17.921875 \nL 12.109375 -9.1875 \nQ 16.0625 -11.328125 19.921875 -12.34375 \nQ 23.78125 -13.375 27.78125 -13.375 \nQ 36.625 -13.375 41.015625 -8.765625 \nQ 45.40625 -4.15625 45.40625 5.171875 \nL 45.40625 9.625 \nQ 42.625 4.78125 38.28125 2.390625 \nQ 33.9375 0 27.875 0 \nQ 17.828125 0 11.671875 7.65625 \nQ 5.515625 15.328125 5.515625 27.984375 \nQ 5.515625 40.671875 11.671875 48.328125 \nQ 17.828125 56 27.875 56 \nQ 33.9375 56 38.28125 53.609375 \nQ 42.625 51.21875 45.40625 46.390625 \nL 45.40625 54.6875 \nL 54.390625 54.6875 \nz\n\" id=\"DejaVuSans-103\"/>\n     </defs>\n     <g transform=\"translate(533.859375 38.916562)scale(0.1 -0.1)\">\n      <use xlink:href=\"#DejaVuSans-84\"/>\n      <use x=\"46.333984\" xlink:href=\"#DejaVuSans-114\"/>\n      <use x=\"87.447266\" xlink:href=\"#DejaVuSans-97\"/>\n      <use x=\"148.726562\" xlink:href=\"#DejaVuSans-105\"/>\n      <use x=\"176.509766\" xlink:href=\"#DejaVuSans-110\"/>\n      <use x=\"239.888672\" xlink:href=\"#DejaVuSans-105\"/>\n      <use x=\"267.671875\" xlink:href=\"#DejaVuSans-110\"/>\n      <use x=\"331.050781\" xlink:href=\"#DejaVuSans-103\"/>\n     </g>\n    </g>\n    <g id=\"line2d_17\">\n     <path d=\"M 505.859375 50.094688 \nL 525.859375 50.094688 \n\" style=\"fill:none;stroke:#ff7f0e;stroke-linecap:square;stroke-width:1.5;\"/>\n    </g>\n    <g id=\"line2d_18\"/>\n    <g id=\"text_17\">\n     <!-- Validation -->\n     <defs>\n      <path d=\"M 28.609375 0 \nL 0.78125 72.90625 \nL 11.078125 72.90625 \nL 34.1875 11.53125 \nL 57.328125 72.90625 \nL 67.578125 72.90625 \nL 39.796875 0 \nz\n\" id=\"DejaVuSans-86\"/>\n      <path d=\"M 9.421875 75.984375 \nL 18.40625 75.984375 \nL 18.40625 0 \nL 9.421875 0 \nz\n\" id=\"DejaVuSans-108\"/>\n      <path d=\"M 45.40625 46.390625 \nL 45.40625 75.984375 \nL 54.390625 75.984375 \nL 54.390625 0 \nL 45.40625 0 \nL 45.40625 8.203125 \nQ 42.578125 3.328125 38.25 0.953125 \nQ 33.9375 -1.421875 27.875 -1.421875 \nQ 17.96875 -1.421875 11.734375 6.484375 \nQ 5.515625 14.40625 5.515625 27.296875 \nQ 5.515625 40.1875 11.734375 48.09375 \nQ 17.96875 56 27.875 56 \nQ 33.9375 56 38.25 53.625 \nQ 42.578125 51.265625 45.40625 46.390625 \nz\nM 14.796875 27.296875 \nQ 14.796875 17.390625 18.875 11.75 \nQ 22.953125 6.109375 30.078125 6.109375 \nQ 37.203125 6.109375 41.296875 11.75 \nQ 45.40625 17.390625 45.40625 27.296875 \nQ 45.40625 37.203125 41.296875 42.84375 \nQ 37.203125 48.484375 30.078125 48.484375 \nQ 22.953125 48.484375 18.875 42.84375 \nQ 14.796875 37.203125 14.796875 27.296875 \nz\n\" id=\"DejaVuSans-100\"/>\n     </defs>\n     <g transform=\"translate(533.859375 53.594688)scale(0.1 -0.1)\">\n      <use xlink:href=\"#DejaVuSans-86\"/>\n      <use x=\"60.658203\" xlink:href=\"#DejaVuSans-97\"/>\n      <use x=\"121.9375\" xlink:href=\"#DejaVuSans-108\"/>\n      <use x=\"149.720703\" xlink:href=\"#DejaVuSans-105\"/>\n      <use x=\"177.503906\" xlink:href=\"#DejaVuSans-100\"/>\n      <use x=\"240.980469\" xlink:href=\"#DejaVuSans-97\"/>\n      <use x=\"302.259766\" xlink:href=\"#DejaVuSans-116\"/>\n      <use x=\"341.46875\" xlink:href=\"#DejaVuSans-105\"/>\n      <use x=\"369.251953\" xlink:href=\"#DejaVuSans-111\"/>\n      <use x=\"430.433594\" xlink:href=\"#DejaVuSans-110\"/>\n     </g>\n    </g>\n   </g>\n  </g>\n </g>\n <defs>\n  <clipPath id=\"p46ae232040\">\n   <rect height=\"271.8\" width=\"558\" x=\"34.240625\" y=\"22.318125\"/>\n  </clipPath>\n </defs>\n</svg>\n"
          },
          "metadata": {
            "needs_background": "light"
          }
        }
      ],
      "source": [
        "plt.figure(figsize=(10,5))\n",
        "plt.plot(history.history['loss'])\n",
        "plt.plot(history.history['val_loss'])\n",
        "plt.title('Loss vs. epochs, batch=' +str(batch_size))\n",
        "plt.ylabel('Loss')\n",
        "plt.xlabel('Epoch')\n",
        "plt.legend(['Training', 'Validation'], loc='upper right')\n",
        "plt.show()"
      ]
    },
    {
      "cell_type": "markdown",
      "id": "1c665798-8db4-4b7f-a242-b34f3d0d317d",
      "metadata": {
        "id": "1c665798-8db4-4b7f-a242-b34f3d0d317d"
      },
      "source": [
        "10. **What effect does changing learning rate have on learning?**\n",
        "\n",
        "**Answer:**\n",
        "\n",
        "The learning rate controls how quickly the model is adapted to the problem. Smaller learning rates require more training epochs given the smaller changes made to the weights each update, whereas larger learning rates result in rapid changes and require fewer training epochs"
      ]
    }
  ],
  "metadata": {
    "kernelspec": {
      "display_name": "Python 3",
      "language": "python",
      "name": "python3"
    },
    "language_info": {
      "codemirror_mode": {
        "name": "ipython",
        "version": 3
      },
      "file_extension": ".py",
      "mimetype": "text/x-python",
      "name": "python",
      "nbconvert_exporter": "python",
      "pygments_lexer": "ipython3",
      "version": "3.8.8"
    },
    "colab": {
      "provenance": []
    },
    "accelerator": "GPU",
    "gpuClass": "standard"
  },
  "nbformat": 4,
  "nbformat_minor": 5
}